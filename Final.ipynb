{
 "cells": [
  {
   "cell_type": "markdown",
   "metadata": {
    "index": 0
   },
   "source": [
    "# King County Real Estate Project"
   ]
  },
  {
   "cell_type": "markdown",
   "metadata": {},
   "source": [
    "### Table of Contents\n",
    "\n",
    "Section_1\n",
    "\n",
    "[section_2](#section_2)\n",
    "\n",
    "\n",
    "[section_3](#section_3)"
   ]
  },
  {
   "cell_type": "markdown",
   "metadata": {
    "index": 2
   },
   "source": [
    "## Business Understanding"
   ]
  },
  {
   "cell_type": "markdown",
   "metadata": {},
   "source": [
    "For this project, I have been retained by the leadership of a startup online real estate analytics firm, BCF, LLC ('BCF'). BCF has requested advice for one of its newest clients, a mid-sized well established local real estate broker from the King County region of Washington State, located on top of Queen Anne ('Client'). Client has a large crew of seasoned real estate agents, loan officers, lead generation experts, and other sales supply chain specialists.  Client is currently exploring ideas to scale its business in the King County region and keep pace with newer, more technologically advanced real estate brokers. \n",
    "\n",
    "Toward this end, Client wants to obtain better data insights for its team by leveraging the abundance of real estate data available.  Client has approached BCF for a scientific perpective on what drives residential real estate sales in King County so that it can provide actionable reference points for its relentless 'direct to consumer' sales team. Client is requesting a multivariate linear regression analysis of the King County real estate market, with `price` being the primary dependent variable.  "
   ]
  },
  {
   "cell_type": "markdown",
   "metadata": {
    "index": 2
   },
   "source": [
    "## Data and Methods\n",
    "\n",
    "### Purpose\n",
    "\n",
    "The goal for the analysis is an effort to obtain a better understanding of what combination of independent factors are most impactful for residential real estate prices in King County. \n",
    "\n",
    "### Primary Data Source\n",
    "\n",
    "Based on survey responses and other direct input from Client's sales team, Client provided a list of variables most likely to be highly successful predictors for the `price` of residential homes in King County.  From that list, most  fields were populated from data available to the public on the [King County Assessor Data Download page](https://info.kingcounty.gov/assessor/DataDownload/default.aspx). A full index of the variables ('columns'), including the target variable `price`, are located [here](http://localhost:8888/edit/data/column_names.md).  The `address`, `lat`, and `long` fields were retrieved using a third-party [geocoding API](https://docs.mapbox.com/api/search/geocoding/).  ('Baseline Data').  \n",
    "\n",
    "### Methodology\n",
    "\n",
    "The guiding principal underlying this analysis was the establishment of an iterative update process, beginning with an initial baseline regression model, that would continuously provide the model with new information, while simultaneously maintaining all fundamental assumptions of linear regression. Initially, Baseline Data was preprocessed  and modeled ('Baseline Model').  This was followed by a lengthy data exploration process which involved visulizing the different relationships between the independent variables and the target variable.  During the exploration process, several new features were engineered from existing data while additional data was obtained from the  scaled and cleaned for outliers, and then remodeled against\n",
    "\n",
    "### Geographic data retrieval \n",
    "\n",
    "Multiple websites were explored for sources of additional data, in keeping with the goal to provide diverse information that might be helpful for the model. Ultimately, the most important factor, other than the sheer square footage, was geographic location.  Several sources of geographic information were consulted, but ultimately, the best source of geographic knowledge was contained in the Zipcode information within the Baseline Data.  \n",
    "\n",
    "\n",
    "\n",
    "\n",
    "In addition to the use of `Zipcode`, a dataset was taken from the [King County GIS Open Data Site](https://data.kingcounty.gov/County-Operations/King-County-GIS-Open-Data-site/wuuf-xywg) and includes a range of services, and location points were constructed based on the longitude and latitude of these locations. From there, we created distance measurements between the houses and those locations.  \n",
    "\n",
    "The initial baseline regression model was built utilizing the base dataset. The second model iteration was built using the\n",
    "\n",
    "-what each record represents\n",
    "-which column is begin used as the regress\n",
    "\n",
    "## Methodology\n",
    "\n",
    "The guiding principal underlying this analysis was to establish an iterative update process, beginning with the initial baseline model, that would provide the model with new information, while simultaneously keeping all independence assumptions  to the model in an effort to obtain a better understanding of what combination of independent factors are most impacting residential real estate prices in King County.  In keeping with this goal, significant efforts to maintain independence were made - independence between each independent variable and independence between each independent variable and the target. "
   ]
  },
  {
   "cell_type": "markdown",
   "metadata": {
    "index": 2
   },
   "source": [
    "## Data Preparation"
   ]
  },
  {
   "cell_type": "markdown",
   "metadata": {},
   "source": [
    "### Loading the Data and Programming tools"
   ]
  },
  {
   "cell_type": "code",
   "execution_count": 1,
   "metadata": {
    "index": 3
   },
   "outputs": [],
   "source": [
    "\n",
    "#importing all appropriate Pythonic libraries and packages \n",
    "\n",
    "import numpy as np\n",
    "import pandas as pd\n",
    "from matplotlib import pyplot as plt\n",
    "import seaborn as sns\n",
    "import statsmodels.api as sm\n",
    "from sklearn.preprocessing import OneHotEncoder, StandardScaler\n",
    "from sklearn.datasets import make_regression\n",
    "from sklearn.linear_model import LinearRegression\n",
    "import sklearn.metrics as metrics\n",
    "from sklearn.metrics import mean_absolute_error, mean_squared_error\n",
    "from random import gauss\n",
    "from mpl_toolkits.mplot3d import Axes3D\n",
    "from scipy import stats as stats\n",
    "import re\n",
    "%matplotlib inline"
   ]
  },
  {
   "cell_type": "code",
   "execution_count": 2,
   "metadata": {},
   "outputs": [
    {
     "data": {
      "text/html": [
       "<div>\n",
       "<style scoped>\n",
       "    .dataframe tbody tr th:only-of-type {\n",
       "        vertical-align: middle;\n",
       "    }\n",
       "\n",
       "    .dataframe tbody tr th {\n",
       "        vertical-align: top;\n",
       "    }\n",
       "\n",
       "    .dataframe thead th {\n",
       "        text-align: right;\n",
       "    }\n",
       "</style>\n",
       "<table border=\"1\" class=\"dataframe\">\n",
       "  <thead>\n",
       "    <tr style=\"text-align: right;\">\n",
       "      <th></th>\n",
       "      <th>id</th>\n",
       "      <th>date</th>\n",
       "      <th>price</th>\n",
       "      <th>bedrooms</th>\n",
       "      <th>bathrooms</th>\n",
       "      <th>sqft_living</th>\n",
       "      <th>sqft_lot</th>\n",
       "      <th>floors</th>\n",
       "      <th>waterfront</th>\n",
       "      <th>greenbelt</th>\n",
       "      <th>...</th>\n",
       "      <th>sewer_system</th>\n",
       "      <th>sqft_above</th>\n",
       "      <th>sqft_basement</th>\n",
       "      <th>sqft_garage</th>\n",
       "      <th>sqft_patio</th>\n",
       "      <th>yr_built</th>\n",
       "      <th>yr_renovated</th>\n",
       "      <th>address</th>\n",
       "      <th>lat</th>\n",
       "      <th>long</th>\n",
       "    </tr>\n",
       "  </thead>\n",
       "  <tbody>\n",
       "    <tr>\n",
       "      <th>0</th>\n",
       "      <td>7399300360</td>\n",
       "      <td>5/24/2022</td>\n",
       "      <td>675000.0</td>\n",
       "      <td>4</td>\n",
       "      <td>1.0</td>\n",
       "      <td>1180</td>\n",
       "      <td>7140</td>\n",
       "      <td>1.0</td>\n",
       "      <td>NO</td>\n",
       "      <td>NO</td>\n",
       "      <td>...</td>\n",
       "      <td>PUBLIC</td>\n",
       "      <td>1180</td>\n",
       "      <td>0</td>\n",
       "      <td>0</td>\n",
       "      <td>40</td>\n",
       "      <td>1969</td>\n",
       "      <td>0</td>\n",
       "      <td>2102 Southeast 21st Court, Renton, Washington ...</td>\n",
       "      <td>47.461975</td>\n",
       "      <td>-122.19052</td>\n",
       "    </tr>\n",
       "    <tr>\n",
       "      <th>1</th>\n",
       "      <td>8910500230</td>\n",
       "      <td>12/13/2021</td>\n",
       "      <td>920000.0</td>\n",
       "      <td>5</td>\n",
       "      <td>2.5</td>\n",
       "      <td>2770</td>\n",
       "      <td>6703</td>\n",
       "      <td>1.0</td>\n",
       "      <td>NO</td>\n",
       "      <td>NO</td>\n",
       "      <td>...</td>\n",
       "      <td>PUBLIC</td>\n",
       "      <td>1570</td>\n",
       "      <td>1570</td>\n",
       "      <td>0</td>\n",
       "      <td>240</td>\n",
       "      <td>1950</td>\n",
       "      <td>0</td>\n",
       "      <td>11231 Greenwood Avenue North, Seattle, Washing...</td>\n",
       "      <td>47.711525</td>\n",
       "      <td>-122.35591</td>\n",
       "    </tr>\n",
       "    <tr>\n",
       "      <th>2</th>\n",
       "      <td>1180000275</td>\n",
       "      <td>9/29/2021</td>\n",
       "      <td>311000.0</td>\n",
       "      <td>6</td>\n",
       "      <td>2.0</td>\n",
       "      <td>2880</td>\n",
       "      <td>6156</td>\n",
       "      <td>1.0</td>\n",
       "      <td>NO</td>\n",
       "      <td>NO</td>\n",
       "      <td>...</td>\n",
       "      <td>PUBLIC</td>\n",
       "      <td>1580</td>\n",
       "      <td>1580</td>\n",
       "      <td>0</td>\n",
       "      <td>0</td>\n",
       "      <td>1956</td>\n",
       "      <td>0</td>\n",
       "      <td>8504 South 113th Street, Seattle, Washington 9...</td>\n",
       "      <td>47.502045</td>\n",
       "      <td>-122.22520</td>\n",
       "    </tr>\n",
       "    <tr>\n",
       "      <th>3</th>\n",
       "      <td>1604601802</td>\n",
       "      <td>12/14/2021</td>\n",
       "      <td>775000.0</td>\n",
       "      <td>3</td>\n",
       "      <td>3.0</td>\n",
       "      <td>2160</td>\n",
       "      <td>1400</td>\n",
       "      <td>2.0</td>\n",
       "      <td>NO</td>\n",
       "      <td>NO</td>\n",
       "      <td>...</td>\n",
       "      <td>PUBLIC</td>\n",
       "      <td>1090</td>\n",
       "      <td>1070</td>\n",
       "      <td>200</td>\n",
       "      <td>270</td>\n",
       "      <td>2010</td>\n",
       "      <td>0</td>\n",
       "      <td>4079 Letitia Avenue South, Seattle, Washington...</td>\n",
       "      <td>47.566110</td>\n",
       "      <td>-122.29020</td>\n",
       "    </tr>\n",
       "    <tr>\n",
       "      <th>4</th>\n",
       "      <td>8562780790</td>\n",
       "      <td>8/24/2021</td>\n",
       "      <td>592500.0</td>\n",
       "      <td>2</td>\n",
       "      <td>2.0</td>\n",
       "      <td>1120</td>\n",
       "      <td>758</td>\n",
       "      <td>2.0</td>\n",
       "      <td>NO</td>\n",
       "      <td>NO</td>\n",
       "      <td>...</td>\n",
       "      <td>PUBLIC</td>\n",
       "      <td>1120</td>\n",
       "      <td>550</td>\n",
       "      <td>550</td>\n",
       "      <td>30</td>\n",
       "      <td>2012</td>\n",
       "      <td>0</td>\n",
       "      <td>2193 Northwest Talus Drive, Issaquah, Washingt...</td>\n",
       "      <td>47.532470</td>\n",
       "      <td>-122.07188</td>\n",
       "    </tr>\n",
       "  </tbody>\n",
       "</table>\n",
       "<p>5 rows × 25 columns</p>\n",
       "</div>"
      ],
      "text/plain": [
       "           id        date     price  bedrooms  bathrooms  sqft_living  \\\n",
       "0  7399300360   5/24/2022  675000.0         4        1.0         1180   \n",
       "1  8910500230  12/13/2021  920000.0         5        2.5         2770   \n",
       "2  1180000275   9/29/2021  311000.0         6        2.0         2880   \n",
       "3  1604601802  12/14/2021  775000.0         3        3.0         2160   \n",
       "4  8562780790   8/24/2021  592500.0         2        2.0         1120   \n",
       "\n",
       "   sqft_lot  floors waterfront greenbelt  ... sewer_system sqft_above  \\\n",
       "0      7140     1.0         NO        NO  ...       PUBLIC       1180   \n",
       "1      6703     1.0         NO        NO  ...       PUBLIC       1570   \n",
       "2      6156     1.0         NO        NO  ...       PUBLIC       1580   \n",
       "3      1400     2.0         NO        NO  ...       PUBLIC       1090   \n",
       "4       758     2.0         NO        NO  ...       PUBLIC       1120   \n",
       "\n",
       "  sqft_basement sqft_garage sqft_patio yr_built  yr_renovated  \\\n",
       "0             0           0         40     1969             0   \n",
       "1          1570           0        240     1950             0   \n",
       "2          1580           0          0     1956             0   \n",
       "3          1070         200        270     2010             0   \n",
       "4           550         550         30     2012             0   \n",
       "\n",
       "                                             address        lat       long  \n",
       "0  2102 Southeast 21st Court, Renton, Washington ...  47.461975 -122.19052  \n",
       "1  11231 Greenwood Avenue North, Seattle, Washing...  47.711525 -122.35591  \n",
       "2  8504 South 113th Street, Seattle, Washington 9...  47.502045 -122.22520  \n",
       "3  4079 Letitia Avenue South, Seattle, Washington...  47.566110 -122.29020  \n",
       "4  2193 Northwest Talus Drive, Issaquah, Washingt...  47.532470 -122.07188  \n",
       "\n",
       "[5 rows x 25 columns]"
      ]
     },
     "execution_count": 2,
     "metadata": {},
     "output_type": "execute_result"
    }
   ],
   "source": [
    "# reading in the King County dataset to Pandas\n",
    "df = pd.read_csv('data/kc_house_data.csv')\n",
    "df.head()\n"
   ]
  },
  {
   "cell_type": "markdown",
   "metadata": {
    "index": 8
   },
   "source": [
    "### Data Exploration"
   ]
  },
  {
   "cell_type": "code",
   "execution_count": 3,
   "metadata": {},
   "outputs": [
    {
     "name": "stdout",
     "output_type": "stream",
     "text": [
      "<class 'pandas.core.frame.DataFrame'>\n",
      "RangeIndex: 30155 entries, 0 to 30154\n",
      "Data columns (total 25 columns):\n",
      " #   Column         Non-Null Count  Dtype  \n",
      "---  ------         --------------  -----  \n",
      " 0   id             30155 non-null  int64  \n",
      " 1   date           30155 non-null  object \n",
      " 2   price          30155 non-null  float64\n",
      " 3   bedrooms       30155 non-null  int64  \n",
      " 4   bathrooms      30155 non-null  float64\n",
      " 5   sqft_living    30155 non-null  int64  \n",
      " 6   sqft_lot       30155 non-null  int64  \n",
      " 7   floors         30155 non-null  float64\n",
      " 8   waterfront     30155 non-null  object \n",
      " 9   greenbelt      30155 non-null  object \n",
      " 10  nuisance       30155 non-null  object \n",
      " 11  view           30155 non-null  object \n",
      " 12  condition      30155 non-null  object \n",
      " 13  grade          30155 non-null  object \n",
      " 14  heat_source    30123 non-null  object \n",
      " 15  sewer_system   30141 non-null  object \n",
      " 16  sqft_above     30155 non-null  int64  \n",
      " 17  sqft_basement  30155 non-null  int64  \n",
      " 18  sqft_garage    30155 non-null  int64  \n",
      " 19  sqft_patio     30155 non-null  int64  \n",
      " 20  yr_built       30155 non-null  int64  \n",
      " 21  yr_renovated   30155 non-null  int64  \n",
      " 22  address        30155 non-null  object \n",
      " 23  lat            30155 non-null  float64\n",
      " 24  long           30155 non-null  float64\n",
      "dtypes: float64(5), int64(10), object(10)\n",
      "memory usage: 5.8+ MB\n"
     ]
    }
   ],
   "source": [
    "df.info()"
   ]
  },
  {
   "cell_type": "code",
   "execution_count": 4,
   "metadata": {},
   "outputs": [],
   "source": [
    "# dropping the placeholder column\n",
    "df.drop(labels='id', axis=1, inplace=True)"
   ]
  },
  {
   "cell_type": "markdown",
   "metadata": {},
   "source": [
    "#### Date issues"
   ]
  },
  {
   "cell_type": "code",
   "execution_count": 5,
   "metadata": {},
   "outputs": [],
   "source": [
    "# converting all dates to datetime\n",
    "df['date'] = pd.to_datetime(df['date'])\n",
    "\n",
    "# renaming date to selldate\n",
    "rnmdate = {'date':'selldate'}\n",
    "df.rename(columns=rnmdate, inplace=True)"
   ]
  },
  {
   "cell_type": "markdown",
   "metadata": {},
   "source": [
    "#### Zipcode issues"
   ]
  },
  {
   "cell_type": "code",
   "execution_count": 6,
   "metadata": {},
   "outputs": [
    {
     "data": {
      "text/plain": [
       "88"
      ]
     },
     "execution_count": 6,
     "metadata": {},
     "output_type": "execute_result"
    }
   ],
   "source": [
    "# isolating the zip code \n",
    "# alternative methods to achieve same\n",
    "# df['Zipcode'] = df['address'].str.extract(r'(\\d{5}\\-?\\d{0,4})')\n",
    "# df['address'][0].split(',')[2][-5:]\n",
    "# df['address'][1000][-20:-15]\n",
    "\n",
    "df['Zipcode'] = df['address'].apply(lambda x: x[-20:-15])\n",
    "\n",
    "df['Zipcode'] = df['Zipcode'].astype(int)\n",
    "\n",
    "# controling for outliers in zipcode preprocessing\n",
    "df = df.loc[(df['Zipcode'].astype(int) > 98000) & (df['Zipcode'].astype(int) <= 98922)]\n",
    "\n",
    "df.Zipcode.nunique()"
   ]
  },
  {
   "cell_type": "code",
   "execution_count": 7,
   "metadata": {},
   "outputs": [
    {
     "data": {
      "text/plain": [
       "<AxesSubplot:>"
      ]
     },
     "execution_count": 7,
     "metadata": {},
     "output_type": "execute_result"
    },
    {
     "data": {
      "image/png": "[encoded data removed]",
      "text/plain": [
       "<Figure size 432x288 with 1 Axes>"
      ]
     },
     "metadata": {
      "needs_background": "light"
     },
     "output_type": "display_data"
    }
   ],
   "source": [
    "df['Zipcode'].hist()"
   ]
  },
  {
   "cell_type": "code",
   "execution_count": 224,
   "metadata": {},
   "outputs": [
    {
     "data": {
      "text/html": [
       "<div>\n",
       "<style scoped>\n",
       "    .dataframe tbody tr th:only-of-type {\n",
       "        vertical-align: middle;\n",
       "    }\n",
       "\n",
       "    .dataframe tbody tr th {\n",
       "        vertical-align: top;\n",
       "    }\n",
       "\n",
       "    .dataframe thead th {\n",
       "        text-align: right;\n",
       "    }\n",
       "</style>\n",
       "<table border=\"1\" class=\"dataframe\">\n",
       "  <thead>\n",
       "    <tr style=\"text-align: right;\">\n",
       "      <th></th>\n",
       "      <th>price</th>\n",
       "      <th>bedrooms</th>\n",
       "      <th>bathrooms</th>\n",
       "      <th>sqft_living</th>\n",
       "      <th>sqft_lot</th>\n",
       "      <th>floors</th>\n",
       "      <th>sqft_above</th>\n",
       "      <th>sqft_basement</th>\n",
       "      <th>sqft_garage</th>\n",
       "      <th>sqft_patio</th>\n",
       "      <th>yr_built</th>\n",
       "      <th>yr_renovated</th>\n",
       "      <th>lat</th>\n",
       "      <th>long</th>\n",
       "      <th>Zipcode</th>\n",
       "    </tr>\n",
       "  </thead>\n",
       "  <tbody>\n",
       "    <tr>\n",
       "      <th>count</th>\n",
       "      <td>2.924100e+04</td>\n",
       "      <td>29241.000000</td>\n",
       "      <td>29241.000000</td>\n",
       "      <td>29241.000000</td>\n",
       "      <td>2.924100e+04</td>\n",
       "      <td>29241.000000</td>\n",
       "      <td>29241.000000</td>\n",
       "      <td>29241.000000</td>\n",
       "      <td>29241.000000</td>\n",
       "      <td>29241.000000</td>\n",
       "      <td>29241.000000</td>\n",
       "      <td>29241.000000</td>\n",
       "      <td>29241.000000</td>\n",
       "      <td>29241.000000</td>\n",
       "      <td>29241.000000</td>\n",
       "    </tr>\n",
       "    <tr>\n",
       "      <th>mean</th>\n",
       "      <td>1.112620e+06</td>\n",
       "      <td>3.435040</td>\n",
       "      <td>2.332239</td>\n",
       "      <td>2130.756643</td>\n",
       "      <td>1.719192e+04</td>\n",
       "      <td>1.517151</td>\n",
       "      <td>1825.820423</td>\n",
       "      <td>480.763654</td>\n",
       "      <td>336.275811</td>\n",
       "      <td>216.363599</td>\n",
       "      <td>1973.878458</td>\n",
       "      <td>93.764304</td>\n",
       "      <td>47.543109</td>\n",
       "      <td>-122.214209</td>\n",
       "      <td>98077.684826</td>\n",
       "    </tr>\n",
       "    <tr>\n",
       "      <th>std</th>\n",
       "      <td>8.953389e+05</td>\n",
       "      <td>0.978861</td>\n",
       "      <td>0.895780</td>\n",
       "      <td>977.344954</td>\n",
       "      <td>6.125879e+04</td>\n",
       "      <td>0.548585</td>\n",
       "      <td>880.729276</td>\n",
       "      <td>585.935636</td>\n",
       "      <td>286.199465</td>\n",
       "      <td>246.749571</td>\n",
       "      <td>31.684861</td>\n",
       "      <td>422.616958</td>\n",
       "      <td>0.147563</td>\n",
       "      <td>0.143653</td>\n",
       "      <td>55.267033</td>\n",
       "    </tr>\n",
       "    <tr>\n",
       "      <th>min</th>\n",
       "      <td>2.736000e+04</td>\n",
       "      <td>0.000000</td>\n",
       "      <td>0.000000</td>\n",
       "      <td>3.000000</td>\n",
       "      <td>4.020000e+02</td>\n",
       "      <td>1.000000</td>\n",
       "      <td>2.000000</td>\n",
       "      <td>0.000000</td>\n",
       "      <td>0.000000</td>\n",
       "      <td>0.000000</td>\n",
       "      <td>1900.000000</td>\n",
       "      <td>0.000000</td>\n",
       "      <td>45.636797</td>\n",
       "      <td>-122.666021</td>\n",
       "      <td>98001.000000</td>\n",
       "    </tr>\n",
       "    <tr>\n",
       "      <th>25%</th>\n",
       "      <td>6.450000e+05</td>\n",
       "      <td>3.000000</td>\n",
       "      <td>2.000000</td>\n",
       "      <td>1440.000000</td>\n",
       "      <td>5.000000e+03</td>\n",
       "      <td>1.000000</td>\n",
       "      <td>1190.000000</td>\n",
       "      <td>0.000000</td>\n",
       "      <td>0.000000</td>\n",
       "      <td>40.000000</td>\n",
       "      <td>1952.000000</td>\n",
       "      <td>0.000000</td>\n",
       "      <td>47.430065</td>\n",
       "      <td>-122.328290</td>\n",
       "      <td>98032.000000</td>\n",
       "    </tr>\n",
       "    <tr>\n",
       "      <th>50%</th>\n",
       "      <td>8.670000e+05</td>\n",
       "      <td>3.000000</td>\n",
       "      <td>2.500000</td>\n",
       "      <td>1940.000000</td>\n",
       "      <td>7.560000e+03</td>\n",
       "      <td>1.500000</td>\n",
       "      <td>1580.000000</td>\n",
       "      <td>0.000000</td>\n",
       "      <td>400.000000</td>\n",
       "      <td>142.000000</td>\n",
       "      <td>1976.000000</td>\n",
       "      <td>0.000000</td>\n",
       "      <td>47.557680</td>\n",
       "      <td>-122.234070</td>\n",
       "      <td>98059.000000</td>\n",
       "    </tr>\n",
       "    <tr>\n",
       "      <th>75%</th>\n",
       "      <td>1.310000e+06</td>\n",
       "      <td>4.000000</td>\n",
       "      <td>3.000000</td>\n",
       "      <td>2640.000000</td>\n",
       "      <td>1.078000e+04</td>\n",
       "      <td>2.000000</td>\n",
       "      <td>2290.000000</td>\n",
       "      <td>960.000000</td>\n",
       "      <td>510.000000</td>\n",
       "      <td>310.000000</td>\n",
       "      <td>2001.000000</td>\n",
       "      <td>0.000000</td>\n",
       "      <td>47.672045</td>\n",
       "      <td>-122.127475</td>\n",
       "      <td>98117.000000</td>\n",
       "    </tr>\n",
       "    <tr>\n",
       "      <th>max</th>\n",
       "      <td>3.075000e+07</td>\n",
       "      <td>13.000000</td>\n",
       "      <td>10.500000</td>\n",
       "      <td>15360.000000</td>\n",
       "      <td>3.253932e+06</td>\n",
       "      <td>4.000000</td>\n",
       "      <td>12660.000000</td>\n",
       "      <td>8020.000000</td>\n",
       "      <td>3580.000000</td>\n",
       "      <td>4370.000000</td>\n",
       "      <td>2022.000000</td>\n",
       "      <td>2022.000000</td>\n",
       "      <td>48.111504</td>\n",
       "      <td>-121.163960</td>\n",
       "      <td>98663.000000</td>\n",
       "    </tr>\n",
       "  </tbody>\n",
       "</table>\n",
       "</div>"
      ],
      "text/plain": [
       "              price      bedrooms     bathrooms   sqft_living      sqft_lot  \\\n",
       "count  2.924100e+04  29241.000000  29241.000000  29241.000000  2.924100e+04   \n",
       "mean   1.112620e+06      3.435040      2.332239   2130.756643  1.719192e+04   \n",
       "std    8.953389e+05      0.978861      0.895780    977.344954  6.125879e+04   \n",
       "min    2.736000e+04      0.000000      0.000000      3.000000  4.020000e+02   \n",
       "25%    6.450000e+05      3.000000      2.000000   1440.000000  5.000000e+03   \n",
       "50%    8.670000e+05      3.000000      2.500000   1940.000000  7.560000e+03   \n",
       "75%    1.310000e+06      4.000000      3.000000   2640.000000  1.078000e+04   \n",
       "max    3.075000e+07     13.000000     10.500000  15360.000000  3.253932e+06   \n",
       "\n",
       "             floors    sqft_above  sqft_basement   sqft_garage    sqft_patio  \\\n",
       "count  29241.000000  29241.000000   29241.000000  29241.000000  29241.000000   \n",
       "mean       1.517151   1825.820423     480.763654    336.275811    216.363599   \n",
       "std        0.548585    880.729276     585.935636    286.199465    246.749571   \n",
       "min        1.000000      2.000000       0.000000      0.000000      0.000000   \n",
       "25%        1.000000   1190.000000       0.000000      0.000000     40.000000   \n",
       "50%        1.500000   1580.000000       0.000000    400.000000    142.000000   \n",
       "75%        2.000000   2290.000000     960.000000    510.000000    310.000000   \n",
       "max        4.000000  12660.000000    8020.000000   3580.000000   4370.000000   \n",
       "\n",
       "           yr_built  yr_renovated           lat          long       Zipcode  \n",
       "count  29241.000000  29241.000000  29241.000000  29241.000000  29241.000000  \n",
       "mean    1973.878458     93.764304     47.543109   -122.214209  98077.684826  \n",
       "std       31.684861    422.616958      0.147563      0.143653     55.267033  \n",
       "min     1900.000000      0.000000     45.636797   -122.666021  98001.000000  \n",
       "25%     1952.000000      0.000000     47.430065   -122.328290  98032.000000  \n",
       "50%     1976.000000      0.000000     47.557680   -122.234070  98059.000000  \n",
       "75%     2001.000000      0.000000     47.672045   -122.127475  98117.000000  \n",
       "max     2022.000000   2022.000000     48.111504   -121.163960  98663.000000  "
      ]
     },
     "execution_count": 224,
     "metadata": {},
     "output_type": "execute_result"
    }
   ],
   "source": [
    "df.describe()"
   ]
  },
  {
   "cell_type": "markdown",
   "metadata": {},
   "source": [
    "### Preprocessing"
   ]
  },
  {
   "cell_type": "markdown",
   "metadata": {},
   "source": [
    "#### Engineering a Yr_Old Column"
   ]
  },
  {
   "cell_type": "code",
   "execution_count": 225,
   "metadata": {},
   "outputs": [],
   "source": [
    "# creating a year old column\n",
    "df['yr_old'] = np.where(df['yr_renovated'] !=0,df.selldate.apply(lambda x: x.year) - df['yr_renovated'],\n",
    "                        df['selldate'].apply(lambda x: x.year) - df['yr_built'])"
   ]
  },
  {
   "cell_type": "code",
   "execution_count": 226,
   "metadata": {},
   "outputs": [],
   "source": [
    "# controlling for dates where house was sold after renovation\n",
    "df.loc[df['yr_old'] < 0, 'yr_old'] = 0"
   ]
  },
  {
   "cell_type": "code",
   "execution_count": 227,
   "metadata": {},
   "outputs": [
    {
     "data": {
      "text/plain": [
       "0      1368\n",
       "1       664\n",
       "44      504\n",
       "54      478\n",
       "16      468\n",
       "       ... \n",
       "89       32\n",
       "87       31\n",
       "119      30\n",
       "88       30\n",
       "120      27\n",
       "Name: yr_old, Length: 123, dtype: int64"
      ]
     },
     "execution_count": 227,
     "metadata": {},
     "output_type": "execute_result"
    }
   ],
   "source": [
    "df.yr_old.value_counts()"
   ]
  },
  {
   "cell_type": "markdown",
   "metadata": {},
   "source": [
    "#### Data Cleaning"
   ]
  },
  {
   "cell_type": "code",
   "execution_count": 228,
   "metadata": {},
   "outputs": [],
   "source": [
    "# remove missing values in columns\n",
    "df.dropna(subset=['heat_source', 'sewer_system'], axis=0, inplace=True)"
   ]
  },
  {
   "cell_type": "code",
   "execution_count": 229,
   "metadata": {},
   "outputs": [
    {
     "data": {
      "text/plain": [
       "selldate         0.0\n",
       "price            0.0\n",
       "bedrooms         0.0\n",
       "bathrooms        0.0\n",
       "sqft_living      0.0\n",
       "sqft_lot         0.0\n",
       "floors           0.0\n",
       "waterfront       0.0\n",
       "greenbelt        0.0\n",
       "nuisance         0.0\n",
       "view             0.0\n",
       "condition        0.0\n",
       "grade            0.0\n",
       "heat_source      0.0\n",
       "sewer_system     0.0\n",
       "sqft_above       0.0\n",
       "sqft_basement    0.0\n",
       "sqft_garage      0.0\n",
       "sqft_patio       0.0\n",
       "yr_built         0.0\n",
       "yr_renovated     0.0\n",
       "address          0.0\n",
       "lat              0.0\n",
       "long             0.0\n",
       "Zipcode          0.0\n",
       "yr_old           0.0\n",
       "dtype: float64"
      ]
     },
     "execution_count": 229,
     "metadata": {},
     "output_type": "execute_result"
    }
   ],
   "source": [
    "# identifying missing values \n",
    "df.isna().sum()/df.shape[0]"
   ]
  },
  {
   "cell_type": "markdown",
   "metadata": {},
   "source": [
    "### Target distribution"
   ]
  },
  {
   "cell_type": "markdown",
   "metadata": {},
   "source": [
    "First we will look at the `price` distribution. "
   ]
  },
  {
   "cell_type": "code",
   "execution_count": 230,
   "metadata": {},
   "outputs": [
    {
     "data": {
      "text/plain": [
       "price            1.000000\n",
       "bedrooms         0.290994\n",
       "bathrooms        0.488039\n",
       "sqft_living      0.616741\n",
       "sqft_lot         0.086790\n",
       "floors           0.199285\n",
       "sqft_above       0.546108\n",
       "sqft_basement    0.246548\n",
       "sqft_garage      0.267477\n",
       "sqft_patio       0.317623\n",
       "yr_built         0.105877\n",
       "yr_renovated     0.085506\n",
       "lat              0.296212\n",
       "long             0.081940\n",
       "Zipcode         -0.105275\n",
       "yr_old          -0.137946\n",
       "Name: price, dtype: float64"
      ]
     },
     "execution_count": 230,
     "metadata": {},
     "output_type": "execute_result"
    }
   ],
   "source": [
    "df.corr()['price']"
   ]
  },
  {
   "cell_type": "code",
   "execution_count": 231,
   "metadata": {},
   "outputs": [
    {
     "name": "stderr",
     "output_type": "stream",
     "text": [
      "/Users/chuck/opt/anaconda3/lib/python3.9/site-packages/seaborn/distributions.py:2619: FutureWarning: `distplot` is a deprecated function and will be removed in a future version. Please adapt your code to use either `displot` (a figure-level function with similar flexibility) or `histplot` (an axes-level function for histograms).\n",
      "  warnings.warn(msg, FutureWarning)\n"
     ]
    },
    {
     "data": {
      "text/plain": [
       "<AxesSubplot:xlabel='price', ylabel='Density'>"
      ]
     },
     "execution_count": 231,
     "metadata": {},
     "output_type": "execute_result"
    },
    {
     "data": {
      "image/png": "[encoded data removed]",
      "text/plain": [
       "<Figure size 432x288 with 1 Axes>"
      ]
     },
     "metadata": {
      "needs_background": "light"
     },
     "output_type": "display_data"
    }
   ],
   "source": [
    "sns.distplot(df['price'])"
   ]
  },
  {
   "cell_type": "markdown",
   "metadata": {},
   "source": [
    "Price is the singular dependent variable in our model."
   ]
  },
  {
   "cell_type": "markdown",
   "metadata": {},
   "source": [
    "## Modeling"
   ]
  },
  {
   "cell_type": "code",
   "execution_count": 232,
   "metadata": {},
   "outputs": [],
   "source": [
    "# Creating categorical variables\n",
    "cats = df[['waterfront','greenbelt', 'nuisance', 'view', 'condition', 'heat_source', 'sewer_system', 'grade']]\n",
    "cats1 = df[['selldate','price','waterfront','greenbelt', 'nuisance', 'view', 'condition', 'heat_source', 'sewer_system', 'address', 'Zipcode', 'grade']]\n",
    "cats2 = df[['selldate','waterfront','greenbelt', 'nuisance', 'view', 'condition', 'heat_source', 'sewer_system', 'address', 'Zipcode', 'grade', 'lat', 'long']]"
   ]
  },
  {
   "cell_type": "markdown",
   "metadata": {
    "index": 35
   },
   "source": [
    "### Baseline Model"
   ]
  },
  {
   "cell_type": "code",
   "execution_count": 233,
   "metadata": {},
   "outputs": [],
   "source": [
    "pred_cols = [x for x in df.columns if x not in cats1]"
   ]
  },
  {
   "cell_type": "code",
   "execution_count": 234,
   "metadata": {},
   "outputs": [],
   "source": [
    "pred_cols2 = [x for x in df.columns if x not in cats2]"
   ]
  },
  {
   "cell_type": "code",
   "execution_count": 235,
   "metadata": {},
   "outputs": [
    {
     "data": {
      "text/plain": [
       "['bedrooms',\n",
       " 'bathrooms',\n",
       " 'sqft_living',\n",
       " 'sqft_lot',\n",
       " 'floors',\n",
       " 'sqft_above',\n",
       " 'sqft_basement',\n",
       " 'sqft_garage',\n",
       " 'sqft_patio',\n",
       " 'yr_built',\n",
       " 'yr_renovated',\n",
       " 'lat',\n",
       " 'long',\n",
       " 'yr_old']"
      ]
     },
     "execution_count": 235,
     "metadata": {},
     "output_type": "execute_result"
    }
   ],
   "source": [
    "pred_cols"
   ]
  },
  {
   "cell_type": "code",
   "execution_count": 236,
   "metadata": {},
   "outputs": [],
   "source": [
    "# create baseline model\n",
    "preds = df[pred_cols]\n",
    "target = df['price']"
   ]
  },
  {
   "cell_type": "code",
   "execution_count": 237,
   "metadata": {},
   "outputs": [],
   "source": [
    "y = target\n",
    "X = preds\n",
    "model = sm.OLS(y, sm.add_constant(X))\n",
    "results = model.fit()"
   ]
  },
  {
   "cell_type": "code",
   "execution_count": 238,
   "metadata": {},
   "outputs": [
    {
     "data": {
      "text/html": [
       "<table class=\"simpletable\">\n",
       "<caption>OLS Regression Results</caption>\n",
       "<tr>\n",
       "  <th>Dep. Variable:</th>          <td>price</td>      <th>  R-squared:         </th>  <td>   0.484</td>  \n",
       "</tr>\n",
       "<tr>\n",
       "  <th>Model:</th>                   <td>OLS</td>       <th>  Adj. R-squared:    </th>  <td>   0.484</td>  \n",
       "</tr>\n",
       "<tr>\n",
       "  <th>Method:</th>             <td>Least Squares</td>  <th>  F-statistic:       </th>  <td>   1954.</td>  \n",
       "</tr>\n",
       "<tr>\n",
       "  <th>Date:</th>             <td>Wed, 28 Sep 2022</td> <th>  Prob (F-statistic):</th>   <td>  0.00</td>   \n",
       "</tr>\n",
       "<tr>\n",
       "  <th>Time:</th>                 <td>20:15:02</td>     <th>  Log-Likelihood:    </th> <td>-4.3197e+05</td>\n",
       "</tr>\n",
       "<tr>\n",
       "  <th>No. Observations:</th>      <td> 29200</td>      <th>  AIC:               </th>  <td>8.640e+05</td> \n",
       "</tr>\n",
       "<tr>\n",
       "  <th>Df Residuals:</th>          <td> 29185</td>      <th>  BIC:               </th>  <td>8.641e+05</td> \n",
       "</tr>\n",
       "<tr>\n",
       "  <th>Df Model:</th>              <td>    14</td>      <th>                     </th>      <td> </td>     \n",
       "</tr>\n",
       "<tr>\n",
       "  <th>Covariance Type:</th>      <td>nonrobust</td>    <th>                     </th>      <td> </td>     \n",
       "</tr>\n",
       "</table>\n",
       "<table class=\"simpletable\">\n",
       "<tr>\n",
       "        <td></td>           <th>coef</th>     <th>std err</th>      <th>t</th>      <th>P>|t|</th>  <th>[0.025</th>    <th>0.975]</th>  \n",
       "</tr>\n",
       "<tr>\n",
       "  <th>const</th>         <td>-9.313e+07</td> <td> 4.25e+06</td> <td>  -21.912</td> <td> 0.000</td> <td>-1.01e+08</td> <td>-8.48e+07</td>\n",
       "</tr>\n",
       "<tr>\n",
       "  <th>bedrooms</th>      <td>-1.394e+05</td> <td> 5195.248</td> <td>  -26.833</td> <td> 0.000</td> <td> -1.5e+05</td> <td>-1.29e+05</td>\n",
       "</tr>\n",
       "<tr>\n",
       "  <th>bathrooms</th>     <td> 1.179e+05</td> <td> 7701.917</td> <td>   15.305</td> <td> 0.000</td> <td> 1.03e+05</td> <td> 1.33e+05</td>\n",
       "</tr>\n",
       "<tr>\n",
       "  <th>sqft_living</th>   <td>  327.7250</td> <td>   17.255</td> <td>   18.994</td> <td> 0.000</td> <td>  293.905</td> <td>  361.545</td>\n",
       "</tr>\n",
       "<tr>\n",
       "  <th>sqft_lot</th>      <td>    0.1948</td> <td>    0.064</td> <td>    3.025</td> <td> 0.002</td> <td>    0.069</td> <td>    0.321</td>\n",
       "</tr>\n",
       "<tr>\n",
       "  <th>floors</th>        <td>-9.492e+04</td> <td> 9788.544</td> <td>   -9.697</td> <td> 0.000</td> <td>-1.14e+05</td> <td>-7.57e+04</td>\n",
       "</tr>\n",
       "<tr>\n",
       "  <th>sqft_above</th>    <td>  295.6770</td> <td>   17.616</td> <td>   16.784</td> <td> 0.000</td> <td>  261.148</td> <td>  330.206</td>\n",
       "</tr>\n",
       "<tr>\n",
       "  <th>sqft_basement</th> <td>   82.4744</td> <td>   13.093</td> <td>    6.299</td> <td> 0.000</td> <td>   56.811</td> <td>  108.138</td>\n",
       "</tr>\n",
       "<tr>\n",
       "  <th>sqft_garage</th>   <td>  -35.3134</td> <td>   18.315</td> <td>   -1.928</td> <td> 0.054</td> <td>  -71.211</td> <td>    0.584</td>\n",
       "</tr>\n",
       "<tr>\n",
       "  <th>sqft_patio</th>    <td>  262.0396</td> <td>   17.058</td> <td>   15.362</td> <td> 0.000</td> <td>  228.606</td> <td>  295.474</td>\n",
       "</tr>\n",
       "<tr>\n",
       "  <th>yr_built</th>      <td> 2725.5026</td> <td>  727.737</td> <td>    3.745</td> <td> 0.000</td> <td> 1299.104</td> <td> 4151.901</td>\n",
       "</tr>\n",
       "<tr>\n",
       "  <th>yr_renovated</th>  <td>  203.0562</td> <td>   23.012</td> <td>    8.824</td> <td> 0.000</td> <td>  157.952</td> <td>  248.161</td>\n",
       "</tr>\n",
       "<tr>\n",
       "  <th>lat</th>           <td> 1.535e+06</td> <td> 2.69e+04</td> <td>   57.063</td> <td> 0.000</td> <td> 1.48e+06</td> <td> 1.59e+06</td>\n",
       "</tr>\n",
       "<tr>\n",
       "  <th>long</th>          <td>-1.199e+05</td> <td> 3.11e+04</td> <td>   -3.859</td> <td> 0.000</td> <td>-1.81e+05</td> <td> -5.9e+04</td>\n",
       "</tr>\n",
       "<tr>\n",
       "  <th>yr_old</th>        <td> 4842.8398</td> <td>  731.818</td> <td>    6.618</td> <td> 0.000</td> <td> 3408.443</td> <td> 6277.236</td>\n",
       "</tr>\n",
       "</table>\n",
       "<table class=\"simpletable\">\n",
       "<tr>\n",
       "  <th>Omnibus:</th>       <td>45281.582</td> <th>  Durbin-Watson:     </th>   <td>   1.924</td>  \n",
       "</tr>\n",
       "<tr>\n",
       "  <th>Prob(Omnibus):</th>  <td> 0.000</td>   <th>  Jarque-Bera (JB):  </th> <td>77556338.212</td>\n",
       "</tr>\n",
       "<tr>\n",
       "  <th>Skew:</th>           <td> 9.388</td>   <th>  Prob(JB):          </th>   <td>    0.00</td>  \n",
       "</tr>\n",
       "<tr>\n",
       "  <th>Kurtosis:</th>       <td>254.779</td>  <th>  Cond. No.          </th>   <td>7.13e+07</td>  \n",
       "</tr>\n",
       "</table><br/><br/>Notes:<br/>[1] Standard Errors assume that the covariance matrix of the errors is correctly specified.<br/>[2] The condition number is large, 7.13e+07. This might indicate that there are<br/>strong multicollinearity or other numerical problems."
      ],
      "text/plain": [
       "<class 'statsmodels.iolib.summary.Summary'>\n",
       "\"\"\"\n",
       "                            OLS Regression Results                            \n",
       "==============================================================================\n",
       "Dep. Variable:                  price   R-squared:                       0.484\n",
       "Model:                            OLS   Adj. R-squared:                  0.484\n",
       "Method:                 Least Squares   F-statistic:                     1954.\n",
       "Date:                Wed, 28 Sep 2022   Prob (F-statistic):               0.00\n",
       "Time:                        20:15:02   Log-Likelihood:            -4.3197e+05\n",
       "No. Observations:               29200   AIC:                         8.640e+05\n",
       "Df Residuals:                   29185   BIC:                         8.641e+05\n",
       "Df Model:                          14                                         \n",
       "Covariance Type:            nonrobust                                         \n",
       "=================================================================================\n",
       "                    coef    std err          t      P>|t|      [0.025      0.975]\n",
       "---------------------------------------------------------------------------------\n",
       "const         -9.313e+07   4.25e+06    -21.912      0.000   -1.01e+08   -8.48e+07\n",
       "bedrooms      -1.394e+05   5195.248    -26.833      0.000    -1.5e+05   -1.29e+05\n",
       "bathrooms      1.179e+05   7701.917     15.305      0.000    1.03e+05    1.33e+05\n",
       "sqft_living     327.7250     17.255     18.994      0.000     293.905     361.545\n",
       "sqft_lot          0.1948      0.064      3.025      0.002       0.069       0.321\n",
       "floors        -9.492e+04   9788.544     -9.697      0.000   -1.14e+05   -7.57e+04\n",
       "sqft_above      295.6770     17.616     16.784      0.000     261.148     330.206\n",
       "sqft_basement    82.4744     13.093      6.299      0.000      56.811     108.138\n",
       "sqft_garage     -35.3134     18.315     -1.928      0.054     -71.211       0.584\n",
       "sqft_patio      262.0396     17.058     15.362      0.000     228.606     295.474\n",
       "yr_built       2725.5026    727.737      3.745      0.000    1299.104    4151.901\n",
       "yr_renovated    203.0562     23.012      8.824      0.000     157.952     248.161\n",
       "lat            1.535e+06   2.69e+04     57.063      0.000    1.48e+06    1.59e+06\n",
       "long          -1.199e+05   3.11e+04     -3.859      0.000   -1.81e+05    -5.9e+04\n",
       "yr_old         4842.8398    731.818      6.618      0.000    3408.443    6277.236\n",
       "==============================================================================\n",
       "Omnibus:                    45281.582   Durbin-Watson:                   1.924\n",
       "Prob(Omnibus):                  0.000   Jarque-Bera (JB):         77556338.212\n",
       "Skew:                           9.388   Prob(JB):                         0.00\n",
       "Kurtosis:                     254.779   Cond. No.                     7.13e+07\n",
       "==============================================================================\n",
       "\n",
       "Notes:\n",
       "[1] Standard Errors assume that the covariance matrix of the errors is correctly specified.\n",
       "[2] The condition number is large, 7.13e+07. This might indicate that there are\n",
       "strong multicollinearity or other numerical problems.\n",
       "\"\"\""
      ]
     },
     "execution_count": 238,
     "metadata": {},
     "output_type": "execute_result"
    }
   ],
   "source": [
    "results.summary()"
   ]
  },
  {
   "cell_type": "code",
   "execution_count": 239,
   "metadata": {
    "scrolled": true
   },
   "outputs": [
    {
     "data": {
      "text/plain": [
       "338894.08774805674"
      ]
     },
     "execution_count": 239,
     "metadata": {},
     "output_type": "execute_result"
    }
   ],
   "source": [
    "baseline_mae = mean_absolute_error(y, results.predict(sm.add_constant(X)))\n",
    "baseline_mae"
   ]
  },
  {
   "cell_type": "markdown",
   "metadata": {},
   "source": [
    "This baseline model is limited to both discrete and continuous numeric predictors.  Based on the Mean Absolute Error ('MAE'), overall this baseline model is off by about an average of $338,488.68 for any given prediction. This calculation is the mean absolute (regardless of whether it is positve or negative) distance of all errors.  The model is statistically significant and explains about 48 percent of the variance in `price`. \n",
    "\n",
    "The intercept is extremely negative, at minus 9 to the 7th power, which makes it very hard to interpret.  \n",
    "\n",
    "- For each additional square foot of in `sqft_living`, the price increases by about $327. \n",
    "\n",
    "- For each additional square foot of in `sqft_above`, the price increases by about $295. \n",
    "\n",
    "- For each additional square foot of in `sqft_basement`, the price increases by about $82. \n",
    "\n",
    "These all seem reasonable, however, there are some really odd coefficients.  \n",
    "\n",
    "- For each additional square foot of in `sqft_patio`, the price increases by about $262.\n",
    "\n",
    "- For each additional square foot of in `sqft_lot`, the price increases by about $0.19. \n",
    "\n",
    "- For each additional square foot of in `sqft_basement`, the price **decreases** by about $35. \n",
    "\n",
    "\n",
    "These are all bizarre figures.   \n",
    "\n",
    "\n",
    "At first glance, `sqft_living` is the most highly correlated feature in the baseline numeric model.    "
   ]
  },
  {
   "cell_type": "markdown",
   "metadata": {},
   "source": [
    "Sqft_lot has a strange coeeficient.  One would think sqft_lot would be a major factor in the price.  "
   ]
  },
  {
   "cell_type": "code",
   "execution_count": 240,
   "metadata": {},
   "outputs": [
    {
     "data": {
      "text/plain": [
       "643350.81253465"
      ]
     },
     "execution_count": 240,
     "metadata": {},
     "output_type": "execute_result"
    }
   ],
   "source": [
    "mean_squared_error(y, results.predict(sm.add_constant(X)), squared=False)"
   ]
  },
  {
   "cell_type": "code",
   "execution_count": 241,
   "metadata": {},
   "outputs": [],
   "source": [
    "# df.select_dtypes('number')"
   ]
  },
  {
   "cell_type": "markdown",
   "metadata": {},
   "source": [
    "### Scaling"
   ]
  },
  {
   "cell_type": "code",
   "execution_count": 123,
   "metadata": {},
   "outputs": [
    {
     "data": {
      "image/png": "[encoded data removed]",
      "text/plain": [
       "<Figure size 1440x1080 with 16 Axes>"
      ]
     },
     "metadata": {
      "needs_background": "light"
     },
     "output_type": "display_data"
    }
   ],
   "source": [
    "df[pred_cols2].hist(figsize=(20,15), bins=\"auto\");"
   ]
  },
  {
   "cell_type": "markdown",
   "metadata": {},
   "source": [
    "The distribution in price seems to be exponential and heavily right skewed.  A log transformation seems reasonable in order to alleviate the impact of both the outliers and their residuals on our interpretation.  \n",
    "\n",
    "`sqft_lot` and `price` are on entirely different scales from our other variables.  Lets get a better picture as to what we are seeing by scaling the data.  "
   ]
  },
  {
   "cell_type": "code",
   "execution_count": 242,
   "metadata": {},
   "outputs": [],
   "source": [
    "scaler = StandardScaler()"
   ]
  },
  {
   "cell_type": "code",
   "execution_count": 243,
   "metadata": {},
   "outputs": [],
   "source": [
    "X_scaled = pd.DataFrame(scaler.fit_transform(X), columns=X.columns)"
   ]
  },
  {
   "cell_type": "code",
   "execution_count": 244,
   "metadata": {},
   "outputs": [
    {
     "data": {
      "text/html": [
       "<table class=\"simpletable\">\n",
       "<caption>OLS Regression Results</caption>\n",
       "<tr>\n",
       "  <th>Dep. Variable:</th>            <td>y</td>        <th>  R-squared:         </th>  <td>   0.484</td>  \n",
       "</tr>\n",
       "<tr>\n",
       "  <th>Model:</th>                   <td>OLS</td>       <th>  Adj. R-squared:    </th>  <td>   0.484</td>  \n",
       "</tr>\n",
       "<tr>\n",
       "  <th>Method:</th>             <td>Least Squares</td>  <th>  F-statistic:       </th>  <td>   1954.</td>  \n",
       "</tr>\n",
       "<tr>\n",
       "  <th>Date:</th>             <td>Wed, 28 Sep 2022</td> <th>  Prob (F-statistic):</th>   <td>  0.00</td>   \n",
       "</tr>\n",
       "<tr>\n",
       "  <th>Time:</th>                 <td>20:17:20</td>     <th>  Log-Likelihood:    </th> <td>-4.3197e+05</td>\n",
       "</tr>\n",
       "<tr>\n",
       "  <th>No. Observations:</th>      <td> 29200</td>      <th>  AIC:               </th>  <td>8.640e+05</td> \n",
       "</tr>\n",
       "<tr>\n",
       "  <th>Df Residuals:</th>          <td> 29185</td>      <th>  BIC:               </th>  <td>8.641e+05</td> \n",
       "</tr>\n",
       "<tr>\n",
       "  <th>Df Model:</th>              <td>    14</td>      <th>                     </th>      <td> </td>     \n",
       "</tr>\n",
       "<tr>\n",
       "  <th>Covariance Type:</th>      <td>nonrobust</td>    <th>                     </th>      <td> </td>     \n",
       "</tr>\n",
       "</table>\n",
       "<table class=\"simpletable\">\n",
       "<tr>\n",
       "        <td></td>           <th>coef</th>     <th>std err</th>      <th>t</th>      <th>P>|t|</th>  <th>[0.025</th>    <th>0.975]</th>  \n",
       "</tr>\n",
       "<tr>\n",
       "  <th>const</th>         <td> 1.113e+06</td> <td> 3765.893</td> <td>  295.550</td> <td> 0.000</td> <td> 1.11e+06</td> <td> 1.12e+06</td>\n",
       "</tr>\n",
       "<tr>\n",
       "  <th>bedrooms</th>      <td>-1.362e+05</td> <td> 5075.272</td> <td>  -26.833</td> <td> 0.000</td> <td>-1.46e+05</td> <td>-1.26e+05</td>\n",
       "</tr>\n",
       "<tr>\n",
       "  <th>bathrooms</th>     <td> 1.054e+05</td> <td> 6889.177</td> <td>   15.305</td> <td> 0.000</td> <td> 9.19e+04</td> <td> 1.19e+05</td>\n",
       "</tr>\n",
       "<tr>\n",
       "  <th>sqft_living</th>   <td> 3.201e+05</td> <td> 1.69e+04</td> <td>   18.994</td> <td> 0.000</td> <td> 2.87e+05</td> <td> 3.53e+05</td>\n",
       "</tr>\n",
       "<tr>\n",
       "  <th>sqft_lot</th>      <td> 1.184e+04</td> <td> 3914.830</td> <td>    3.025</td> <td> 0.002</td> <td> 4169.953</td> <td> 1.95e+04</td>\n",
       "</tr>\n",
       "<tr>\n",
       "  <th>floors</th>        <td>-5.208e+04</td> <td> 5370.763</td> <td>   -9.697</td> <td> 0.000</td> <td>-6.26e+04</td> <td>-4.16e+04</td>\n",
       "</tr>\n",
       "<tr>\n",
       "  <th>sqft_above</th>    <td> 2.602e+05</td> <td> 1.55e+04</td> <td>   16.784</td> <td> 0.000</td> <td>  2.3e+05</td> <td> 2.91e+05</td>\n",
       "</tr>\n",
       "<tr>\n",
       "  <th>sqft_basement</th> <td> 4.834e+04</td> <td> 7673.807</td> <td>    6.299</td> <td> 0.000</td> <td> 3.33e+04</td> <td> 6.34e+04</td>\n",
       "</tr>\n",
       "<tr>\n",
       "  <th>sqft_garage</th>   <td> -1.01e+04</td> <td> 5240.719</td> <td>   -1.928</td> <td> 0.054</td> <td>-2.04e+04</td> <td>  167.180</td>\n",
       "</tr>\n",
       "<tr>\n",
       "  <th>sqft_patio</th>    <td> 6.466e+04</td> <td> 4208.843</td> <td>   15.362</td> <td> 0.000</td> <td> 5.64e+04</td> <td> 7.29e+04</td>\n",
       "</tr>\n",
       "<tr>\n",
       "  <th>yr_built</th>      <td> 8.632e+04</td> <td>  2.3e+04</td> <td>    3.745</td> <td> 0.000</td> <td> 4.11e+04</td> <td> 1.31e+05</td>\n",
       "</tr>\n",
       "<tr>\n",
       "  <th>yr_renovated</th>  <td> 8.575e+04</td> <td> 9718.404</td> <td>    8.824</td> <td> 0.000</td> <td> 6.67e+04</td> <td> 1.05e+05</td>\n",
       "</tr>\n",
       "<tr>\n",
       "  <th>lat</th>           <td> 2.265e+05</td> <td> 3969.061</td> <td>   57.063</td> <td> 0.000</td> <td> 2.19e+05</td> <td> 2.34e+05</td>\n",
       "</tr>\n",
       "<tr>\n",
       "  <th>long</th>          <td>-1.716e+04</td> <td> 4446.417</td> <td>   -3.859</td> <td> 0.000</td> <td>-2.59e+04</td> <td>-8442.127</td>\n",
       "</tr>\n",
       "<tr>\n",
       "  <th>yr_old</th>        <td> 1.501e+05</td> <td> 2.27e+04</td> <td>    6.618</td> <td> 0.000</td> <td> 1.06e+05</td> <td> 1.95e+05</td>\n",
       "</tr>\n",
       "</table>\n",
       "<table class=\"simpletable\">\n",
       "<tr>\n",
       "  <th>Omnibus:</th>       <td>45281.582</td> <th>  Durbin-Watson:     </th>   <td>   1.924</td>  \n",
       "</tr>\n",
       "<tr>\n",
       "  <th>Prob(Omnibus):</th>  <td> 0.000</td>   <th>  Jarque-Bera (JB):  </th> <td>77556338.212</td>\n",
       "</tr>\n",
       "<tr>\n",
       "  <th>Skew:</th>           <td> 9.388</td>   <th>  Prob(JB):          </th>   <td>    0.00</td>  \n",
       "</tr>\n",
       "<tr>\n",
       "  <th>Kurtosis:</th>       <td>254.779</td>  <th>  Cond. No.          </th>   <td>    19.2</td>  \n",
       "</tr>\n",
       "</table><br/><br/>Notes:<br/>[1] Standard Errors assume that the covariance matrix of the errors is correctly specified."
      ],
      "text/plain": [
       "<class 'statsmodels.iolib.summary.Summary'>\n",
       "\"\"\"\n",
       "                            OLS Regression Results                            \n",
       "==============================================================================\n",
       "Dep. Variable:                      y   R-squared:                       0.484\n",
       "Model:                            OLS   Adj. R-squared:                  0.484\n",
       "Method:                 Least Squares   F-statistic:                     1954.\n",
       "Date:                Wed, 28 Sep 2022   Prob (F-statistic):               0.00\n",
       "Time:                        20:17:20   Log-Likelihood:            -4.3197e+05\n",
       "No. Observations:               29200   AIC:                         8.640e+05\n",
       "Df Residuals:                   29185   BIC:                         8.641e+05\n",
       "Df Model:                          14                                         \n",
       "Covariance Type:            nonrobust                                         \n",
       "=================================================================================\n",
       "                    coef    std err          t      P>|t|      [0.025      0.975]\n",
       "---------------------------------------------------------------------------------\n",
       "const          1.113e+06   3765.893    295.550      0.000    1.11e+06    1.12e+06\n",
       "bedrooms      -1.362e+05   5075.272    -26.833      0.000   -1.46e+05   -1.26e+05\n",
       "bathrooms      1.054e+05   6889.177     15.305      0.000    9.19e+04    1.19e+05\n",
       "sqft_living    3.201e+05   1.69e+04     18.994      0.000    2.87e+05    3.53e+05\n",
       "sqft_lot       1.184e+04   3914.830      3.025      0.002    4169.953    1.95e+04\n",
       "floors        -5.208e+04   5370.763     -9.697      0.000   -6.26e+04   -4.16e+04\n",
       "sqft_above     2.602e+05   1.55e+04     16.784      0.000     2.3e+05    2.91e+05\n",
       "sqft_basement  4.834e+04   7673.807      6.299      0.000    3.33e+04    6.34e+04\n",
       "sqft_garage    -1.01e+04   5240.719     -1.928      0.054   -2.04e+04     167.180\n",
       "sqft_patio     6.466e+04   4208.843     15.362      0.000    5.64e+04    7.29e+04\n",
       "yr_built       8.632e+04    2.3e+04      3.745      0.000    4.11e+04    1.31e+05\n",
       "yr_renovated   8.575e+04   9718.404      8.824      0.000    6.67e+04    1.05e+05\n",
       "lat            2.265e+05   3969.061     57.063      0.000    2.19e+05    2.34e+05\n",
       "long          -1.716e+04   4446.417     -3.859      0.000   -2.59e+04   -8442.127\n",
       "yr_old         1.501e+05   2.27e+04      6.618      0.000    1.06e+05    1.95e+05\n",
       "==============================================================================\n",
       "Omnibus:                    45281.582   Durbin-Watson:                   1.924\n",
       "Prob(Omnibus):                  0.000   Jarque-Bera (JB):         77556338.212\n",
       "Skew:                           9.388   Prob(JB):                         0.00\n",
       "Kurtosis:                     254.779   Cond. No.                         19.2\n",
       "==============================================================================\n",
       "\n",
       "Notes:\n",
       "[1] Standard Errors assume that the covariance matrix of the errors is correctly specified.\n",
       "\"\"\""
      ]
     },
     "execution_count": 244,
     "metadata": {},
     "output_type": "execute_result"
    }
   ],
   "source": [
    "model_scaled = sm.OLS(y.values, sm.add_constant(X_scaled)).fit()\n",
    "model_scaled.summary()"
   ]
  },
  {
   "cell_type": "markdown",
   "metadata": {},
   "source": [
    "# section_2"
   ]
  },
  {
   "cell_type": "markdown",
   "metadata": {},
   "source": [
    "## Adding geographic categorical features"
   ]
  },
  {
   "cell_type": "code",
   "execution_count": 140,
   "metadata": {
    "scrolled": true
   },
   "outputs": [
    {
     "data": {
      "text/html": [
       "<div>\n",
       "<style scoped>\n",
       "    .dataframe tbody tr th:only-of-type {\n",
       "        vertical-align: middle;\n",
       "    }\n",
       "\n",
       "    .dataframe tbody tr th {\n",
       "        vertical-align: top;\n",
       "    }\n",
       "\n",
       "    .dataframe thead th {\n",
       "        text-align: right;\n",
       "    }\n",
       "</style>\n",
       "<table border=\"1\" class=\"dataframe\">\n",
       "  <thead>\n",
       "    <tr style=\"text-align: right;\">\n",
       "      <th></th>\n",
       "      <th>X</th>\n",
       "      <th>Y</th>\n",
       "      <th>OBJECTID</th>\n",
       "      <th>FEATURE_ID</th>\n",
       "      <th>ESITE</th>\n",
       "      <th>CODE</th>\n",
       "      <th>NAME</th>\n",
       "      <th>ABB_NAME</th>\n",
       "      <th>ADDRESS</th>\n",
       "      <th>ZIPCODE</th>\n",
       "    </tr>\n",
       "  </thead>\n",
       "  <tbody>\n",
       "    <tr>\n",
       "      <th>0</th>\n",
       "      <td>-122.067101</td>\n",
       "      <td>47.465386</td>\n",
       "      <td>1</td>\n",
       "      <td>10000032</td>\n",
       "      <td>5733.0</td>\n",
       "      <td>66</td>\n",
       "      <td>Station 79</td>\n",
       "      <td>79</td>\n",
       "      <td>20505 SE 152nd St</td>\n",
       "      <td>98059.0</td>\n",
       "    </tr>\n",
       "    <tr>\n",
       "      <th>1</th>\n",
       "      <td>-122.313910</td>\n",
       "      <td>47.552302</td>\n",
       "      <td>2</td>\n",
       "      <td>905</td>\n",
       "      <td>490884.0</td>\n",
       "      <td>664</td>\n",
       "      <td>Cleveland STEM High School</td>\n",
       "      <td>Cleveland</td>\n",
       "      <td>5511 15th Ave S</td>\n",
       "      <td>98108.0</td>\n",
       "    </tr>\n",
       "    <tr>\n",
       "      <th>2</th>\n",
       "      <td>-122.195782</td>\n",
       "      <td>47.657500</td>\n",
       "      <td>3</td>\n",
       "      <td>6600168</td>\n",
       "      <td>35858.0</td>\n",
       "      <td>663</td>\n",
       "      <td>Northwest University</td>\n",
       "      <td>NW University</td>\n",
       "      <td>5520 108th Ave NE</td>\n",
       "      <td>98033.0</td>\n",
       "    </tr>\n",
       "    <tr>\n",
       "      <th>3</th>\n",
       "      <td>-122.264083</td>\n",
       "      <td>47.319432</td>\n",
       "      <td>4</td>\n",
       "      <td>7</td>\n",
       "      <td>33.0</td>\n",
       "      <td>660</td>\n",
       "      <td>Evergreen Heights Elementary School</td>\n",
       "      <td>Evergreen Heights</td>\n",
       "      <td>5602 S 316th St</td>\n",
       "      <td>98001.0</td>\n",
       "    </tr>\n",
       "    <tr>\n",
       "      <th>4</th>\n",
       "      <td>-122.261359</td>\n",
       "      <td>47.333845</td>\n",
       "      <td>5</td>\n",
       "      <td>6600283</td>\n",
       "      <td>692199.0</td>\n",
       "      <td>660</td>\n",
       "      <td>Meredith Hill Elementary School</td>\n",
       "      <td>Hill</td>\n",
       "      <td>5830 S 300th St</td>\n",
       "      <td>98001.0</td>\n",
       "    </tr>\n",
       "    <tr>\n",
       "      <th>...</th>\n",
       "      <td>...</td>\n",
       "      <td>...</td>\n",
       "      <td>...</td>\n",
       "      <td>...</td>\n",
       "      <td>...</td>\n",
       "      <td>...</td>\n",
       "      <td>...</td>\n",
       "      <td>...</td>\n",
       "      <td>...</td>\n",
       "      <td>...</td>\n",
       "    </tr>\n",
       "    <tr>\n",
       "      <th>5632</th>\n",
       "      <td>-122.234595</td>\n",
       "      <td>47.381758</td>\n",
       "      <td>5633</td>\n",
       "      <td>10001602</td>\n",
       "      <td>898062.0</td>\n",
       "      <td>695</td>\n",
       "      <td>Public Halal Market</td>\n",
       "      <td>Public Halal Market</td>\n",
       "      <td>225 W MEEKER ST</td>\n",
       "      <td>98032.0</td>\n",
       "    </tr>\n",
       "    <tr>\n",
       "      <th>5633</th>\n",
       "      <td>-122.296801</td>\n",
       "      <td>47.415187</td>\n",
       "      <td>5634</td>\n",
       "      <td>10001603</td>\n",
       "      <td>391412.0</td>\n",
       "      <td>695</td>\n",
       "      <td>SeaTac International Market&amp; Deli</td>\n",
       "      <td>SeaTac International Market&amp; Deli</td>\n",
       "      <td>20804 INTERNATIONAL BLVD</td>\n",
       "      <td>98198.0</td>\n",
       "    </tr>\n",
       "    <tr>\n",
       "      <th>5634</th>\n",
       "      <td>-122.297787</td>\n",
       "      <td>47.407385</td>\n",
       "      <td>5635</td>\n",
       "      <td>10001604</td>\n",
       "      <td>758056.0</td>\n",
       "      <td>695</td>\n",
       "      <td>Madina Halal Market</td>\n",
       "      <td>Madina Halal Market</td>\n",
       "      <td>21630 PACIFIC HWY S</td>\n",
       "      <td>98198.0</td>\n",
       "    </tr>\n",
       "    <tr>\n",
       "      <th>5635</th>\n",
       "      <td>-122.177136</td>\n",
       "      <td>47.706192</td>\n",
       "      <td>5636</td>\n",
       "      <td>10001605</td>\n",
       "      <td>36305.0</td>\n",
       "      <td>695</td>\n",
       "      <td>Sahand</td>\n",
       "      <td>Sahand</td>\n",
       "      <td>12047 124TH AVE NE</td>\n",
       "      <td>98034.0</td>\n",
       "    </tr>\n",
       "    <tr>\n",
       "      <th>5636</th>\n",
       "      <td>-122.173357</td>\n",
       "      <td>47.323217</td>\n",
       "      <td>5637</td>\n",
       "      <td>10001606</td>\n",
       "      <td>981570.0</td>\n",
       "      <td>695</td>\n",
       "      <td>DHOTSONS</td>\n",
       "      <td>DHOTSONS</td>\n",
       "      <td>12722 SE 312TH ST</td>\n",
       "      <td>98092.0</td>\n",
       "    </tr>\n",
       "  </tbody>\n",
       "</table>\n",
       "<p>5637 rows × 10 columns</p>\n",
       "</div>"
      ],
      "text/plain": [
       "               X          Y  OBJECTID  FEATURE_ID     ESITE  CODE  \\\n",
       "0    -122.067101  47.465386         1    10000032    5733.0    66   \n",
       "1    -122.313910  47.552302         2         905  490884.0   664   \n",
       "2    -122.195782  47.657500         3     6600168   35858.0   663   \n",
       "3    -122.264083  47.319432         4           7      33.0   660   \n",
       "4    -122.261359  47.333845         5     6600283  692199.0   660   \n",
       "...          ...        ...       ...         ...       ...   ...   \n",
       "5632 -122.234595  47.381758      5633    10001602  898062.0   695   \n",
       "5633 -122.296801  47.415187      5634    10001603  391412.0   695   \n",
       "5634 -122.297787  47.407385      5635    10001604  758056.0   695   \n",
       "5635 -122.177136  47.706192      5636    10001605   36305.0   695   \n",
       "5636 -122.173357  47.323217      5637    10001606  981570.0   695   \n",
       "\n",
       "                                     NAME                           ABB_NAME  \\\n",
       "0                              Station 79                                 79   \n",
       "1              Cleveland STEM High School                          Cleveland   \n",
       "2                    Northwest University                      NW University   \n",
       "3     Evergreen Heights Elementary School                  Evergreen Heights   \n",
       "4         Meredith Hill Elementary School                               Hill   \n",
       "...                                   ...                                ...   \n",
       "5632                  Public Halal Market                Public Halal Market   \n",
       "5633    SeaTac International Market& Deli  SeaTac International Market& Deli   \n",
       "5634                  Madina Halal Market                Madina Halal Market   \n",
       "5635                               Sahand                             Sahand   \n",
       "5636                             DHOTSONS                           DHOTSONS   \n",
       "\n",
       "                       ADDRESS  ZIPCODE  \n",
       "0            20505 SE 152nd St  98059.0  \n",
       "1              5511 15th Ave S  98108.0  \n",
       "2            5520 108th Ave NE  98033.0  \n",
       "3              5602 S 316th St  98001.0  \n",
       "4            5830 S 300th St    98001.0  \n",
       "...                        ...      ...  \n",
       "5632           225 W MEEKER ST  98032.0  \n",
       "5633  20804 INTERNATIONAL BLVD  98198.0  \n",
       "5634       21630 PACIFIC HWY S  98198.0  \n",
       "5635        12047 124TH AVE NE  98034.0  \n",
       "5636         12722 SE 312TH ST  98092.0  \n",
       "\n",
       "[5637 rows x 10 columns]"
      ]
     },
     "execution_count": 140,
     "metadata": {},
     "output_type": "execute_result"
    }
   ],
   "source": [
    "# reading in the King County dataset to Pandas\n",
    "df_dem = pd.read_csv('data/Points_of_Interest.csv')\n",
    "df_dem"
   ]
  },
  {
   "cell_type": "code",
   "execution_count": 141,
   "metadata": {},
   "outputs": [
    {
     "data": {
      "text/plain": [
       "50"
      ]
     },
     "execution_count": 141,
     "metadata": {},
     "output_type": "execute_result"
    }
   ],
   "source": [
    "df_dem['CODE'].nunique()"
   ]
  },
  {
   "cell_type": "code",
   "execution_count": 142,
   "metadata": {},
   "outputs": [],
   "source": [
    "df_dem.drop(labels=['OBJECTID','FEATURE_ID', 'ESITE', 'ABB_NAME', 'ADDRESS'], axis=1, inplace=True)"
   ]
  },
  {
   "cell_type": "code",
   "execution_count": 143,
   "metadata": {},
   "outputs": [],
   "source": [
    "import geopy.distance"
   ]
  },
  {
   "cell_type": "code",
   "execution_count": 144,
   "metadata": {},
   "outputs": [
    {
     "data": {
      "text/plain": [
       "600    0.259713\n",
       "800    0.188398\n",
       "695    0.073443\n",
       "660    0.053929\n",
       "60     0.029448\n",
       "66     0.028739\n",
       "330    0.022530\n",
       "664    0.021111\n",
       "530    0.020933\n",
       "570    0.020401\n",
       "902    0.017563\n",
       "64     0.017208\n",
       "360    0.015256\n",
       "661    0.014724\n",
       "390    0.014369\n",
       "690    0.014015\n",
       "901    0.013482\n",
       "662    0.012418\n",
       "510    0.011886\n",
       "65     0.011354\n",
       "120    0.011176\n",
       "630    0.008870\n",
       "580    0.008870\n",
       "90     0.008160\n",
       "903    0.007273\n",
       "300    0.006564\n",
       "63     0.006564\n",
       "180    0.006564\n",
       "904    0.006209\n",
       "420    0.005854\n",
       "62     0.005677\n",
       "665    0.005499\n",
       "663    0.005322\n",
       "240    0.004967\n",
       "480    0.004790\n",
       "30     0.004790\n",
       "67     0.004612\n",
       "150    0.003725\n",
       "999    0.003193\n",
       "666    0.003016\n",
       "61     0.002838\n",
       "210    0.002484\n",
       "500    0.002484\n",
       "340    0.002306\n",
       "68     0.002129\n",
       "720    0.001951\n",
       "520    0.001064\n",
       "581    0.001064\n",
       "450    0.000887\n",
       "270    0.000177\n",
       "Name: CODE, dtype: float64"
      ]
     },
     "execution_count": 144,
     "metadata": {},
     "output_type": "execute_result"
    }
   ],
   "source": [
    "df_dem.CODE.value_counts(normalize = True)"
   ]
  },
  {
   "cell_type": "code",
   "execution_count": 145,
   "metadata": {},
   "outputs": [],
   "source": [
    "rename_zip = {'ZIPCODE':'Zipcode'}\n",
    "df_dem.rename(columns=rename_zip, inplace=True)"
   ]
  },
  {
   "cell_type": "code",
   "execution_count": 146,
   "metadata": {},
   "outputs": [],
   "source": [
    "rename_long = {'X': 'long'}\n",
    "rename_lat = {'Y': 'lat'}\n"
   ]
  },
  {
   "cell_type": "code",
   "execution_count": 147,
   "metadata": {},
   "outputs": [],
   "source": [
    "df_dem.rename(columns=rename_long, inplace=True)\n",
    "df_dem.rename(columns=rename_lat, inplace=True)"
   ]
  },
  {
   "cell_type": "code",
   "execution_count": 148,
   "metadata": {},
   "outputs": [
    {
     "name": "stdout",
     "output_type": "stream",
     "text": [
      "<class 'pandas.core.frame.DataFrame'>\n",
      "RangeIndex: 5637 entries, 0 to 5636\n",
      "Data columns (total 5 columns):\n",
      " #   Column   Non-Null Count  Dtype  \n",
      "---  ------   --------------  -----  \n",
      " 0   long     5637 non-null   float64\n",
      " 1   lat      5637 non-null   float64\n",
      " 2   CODE     5637 non-null   int64  \n",
      " 3   NAME     5637 non-null   object \n",
      " 4   Zipcode  5625 non-null   float64\n",
      "dtypes: float64(3), int64(1), object(1)\n",
      "memory usage: 220.3+ KB\n"
     ]
    }
   ],
   "source": [
    "df_dem.info()"
   ]
  },
  {
   "cell_type": "code",
   "execution_count": 149,
   "metadata": {},
   "outputs": [
    {
     "data": {
      "text/plain": [
       "long       0.000000\n",
       "lat        0.000000\n",
       "CODE       0.000000\n",
       "NAME       0.000000\n",
       "Zipcode    0.002129\n",
       "dtype: float64"
      ]
     },
     "execution_count": 149,
     "metadata": {},
     "output_type": "execute_result"
    }
   ],
   "source": [
    "df_dem.isna().sum()/df_dem.shape[0]"
   ]
  },
  {
   "cell_type": "code",
   "execution_count": 150,
   "metadata": {},
   "outputs": [],
   "source": [
    "df_dem.dropna(subset=['Zipcode'], axis=0, inplace=True)"
   ]
  },
  {
   "cell_type": "code",
   "execution_count": 151,
   "metadata": {},
   "outputs": [
    {
     "name": "stdout",
     "output_type": "stream",
     "text": [
      "<class 'pandas.core.frame.DataFrame'>\n",
      "Int64Index: 5625 entries, 0 to 5636\n",
      "Data columns (total 5 columns):\n",
      " #   Column   Non-Null Count  Dtype  \n",
      "---  ------   --------------  -----  \n",
      " 0   long     5625 non-null   float64\n",
      " 1   lat      5625 non-null   float64\n",
      " 2   CODE     5625 non-null   int64  \n",
      " 3   NAME     5625 non-null   object \n",
      " 4   Zipcode  5625 non-null   float64\n",
      "dtypes: float64(3), int64(1), object(1)\n",
      "memory usage: 263.7+ KB\n"
     ]
    }
   ],
   "source": [
    "df_dem.info()"
   ]
  },
  {
   "cell_type": "code",
   "execution_count": 152,
   "metadata": {},
   "outputs": [
    {
     "data": {
      "text/plain": [
       "0       -122.19052\n",
       "1       -122.35591\n",
       "2       -122.22520\n",
       "3       -122.29020\n",
       "4       -122.07188\n",
       "           ...    \n",
       "30150   -122.32940\n",
       "30151   -122.38851\n",
       "30152   -122.29585\n",
       "30153   -122.18908\n",
       "30154   -122.32634\n",
       "Name: long, Length: 29200, dtype: float64"
      ]
     },
     "execution_count": 152,
     "metadata": {},
     "output_type": "execute_result"
    }
   ],
   "source": [
    "df.long"
   ]
  },
  {
   "cell_type": "code",
   "execution_count": 153,
   "metadata": {},
   "outputs": [
    {
     "data": {
      "text/plain": [
       "0        47.461975\n",
       "1        47.711525\n",
       "2        47.502045\n",
       "3        47.566110\n",
       "4        47.532470\n",
       "           ...    \n",
       "30150    47.664740\n",
       "30151    47.565610\n",
       "30152    47.610395\n",
       "30153    47.449490\n",
       "30154    47.435840\n",
       "Name: lat, Length: 29200, dtype: float64"
      ]
     },
     "execution_count": 153,
     "metadata": {},
     "output_type": "execute_result"
    }
   ],
   "source": [
    "df.lat"
   ]
  },
  {
   "cell_type": "code",
   "execution_count": 154,
   "metadata": {},
   "outputs": [],
   "source": [
    "house_coord = np.array(list(zip(df.lat, df.long)))"
   ]
  },
  {
   "cell_type": "code",
   "execution_count": 155,
   "metadata": {},
   "outputs": [],
   "source": [
    "# df.info()"
   ]
  },
  {
   "cell_type": "markdown",
   "metadata": {},
   "source": [
    "### Distances of homes to the Nearest Hospital"
   ]
  },
  {
   "cell_type": "code",
   "execution_count": 156,
   "metadata": {},
   "outputs": [],
   "source": [
    "business = df_dem.loc[df_dem['CODE'] == 420]"
   ]
  },
  {
   "cell_type": "code",
   "execution_count": 157,
   "metadata": {},
   "outputs": [],
   "source": [
    "df_loc = list(zip(business.lat, business.long))\n",
    "\n",
    "closest = []\n",
    "\n",
    "for houseloc in house_coord:\n",
    "    sortlist = []\n",
    "    for hosploc in df_loc:\n",
    "        sortlist.append(geopy.distance.great_circle(houseloc, hosploc).miles)\n",
    "    closest.append(min(sortlist))\n",
    "\n",
    "df['business_center'] = closest"
   ]
  },
  {
   "cell_type": "code",
   "execution_count": 158,
   "metadata": {},
   "outputs": [
    {
     "name": "stdout",
     "output_type": "stream",
     "text": [
      "<class 'pandas.core.frame.DataFrame'>\n",
      "Int64Index: 29200 entries, 0 to 30154\n",
      "Data columns (total 27 columns):\n",
      " #   Column           Non-Null Count  Dtype         \n",
      "---  ------           --------------  -----         \n",
      " 0   selldate         29200 non-null  datetime64[ns]\n",
      " 1   price            29200 non-null  float64       \n",
      " 2   bedrooms         29200 non-null  int64         \n",
      " 3   bathrooms        29200 non-null  float64       \n",
      " 4   sqft_living      29200 non-null  int64         \n",
      " 5   sqft_lot         29200 non-null  int64         \n",
      " 6   floors           29200 non-null  float64       \n",
      " 7   waterfront       29200 non-null  object        \n",
      " 8   greenbelt        29200 non-null  object        \n",
      " 9   nuisance         29200 non-null  object        \n",
      " 10  view             29200 non-null  object        \n",
      " 11  condition        29200 non-null  object        \n",
      " 12  grade            29200 non-null  object        \n",
      " 13  heat_source      29200 non-null  object        \n",
      " 14  sewer_system     29200 non-null  object        \n",
      " 15  sqft_above       29200 non-null  int64         \n",
      " 16  sqft_basement    29200 non-null  int64         \n",
      " 17  sqft_garage      29200 non-null  int64         \n",
      " 18  sqft_patio       29200 non-null  int64         \n",
      " 19  yr_built         29200 non-null  int64         \n",
      " 20  yr_renovated     29200 non-null  int64         \n",
      " 21  address          29200 non-null  object        \n",
      " 22  lat              29200 non-null  float64       \n",
      " 23  long             29200 non-null  float64       \n",
      " 24  Zipcode          29200 non-null  int64         \n",
      " 25  yr_old           29200 non-null  int64         \n",
      " 26  business_center  29200 non-null  float64       \n",
      "dtypes: datetime64[ns](1), float64(6), int64(11), object(9)\n",
      "memory usage: 6.2+ MB\n"
     ]
    }
   ],
   "source": [
    "df.info()"
   ]
  },
  {
   "cell_type": "markdown",
   "metadata": {},
   "source": [
    "#### distance to transit centers"
   ]
  },
  {
   "cell_type": "code",
   "execution_count": 159,
   "metadata": {},
   "outputs": [],
   "source": [
    "clinic = df_dem.loc[df_dem['CODE'] == 340]"
   ]
  },
  {
   "cell_type": "code",
   "execution_count": 160,
   "metadata": {},
   "outputs": [],
   "source": [
    "df_loc = list(zip(clinic.lat, clinic.long))\n",
    "\n",
    "closest = []\n",
    "\n",
    "for houseloc in house_coord:\n",
    "    sortlist = []\n",
    "    for loc in df_loc:\n",
    "        sortlist.append(geopy.distance.great_circle(houseloc, loc).miles)\n",
    "    closest.append(min(sortlist))\n",
    "\n",
    "df['clinic'] = closest"
   ]
  },
  {
   "cell_type": "markdown",
   "metadata": {},
   "source": [
    "### Distance to elementary schools"
   ]
  },
  {
   "cell_type": "code",
   "execution_count": 161,
   "metadata": {},
   "outputs": [],
   "source": [
    "elementary_schools = df_dem.loc[df_dem['CODE'] == 660]"
   ]
  },
  {
   "cell_type": "code",
   "execution_count": 162,
   "metadata": {},
   "outputs": [],
   "source": [
    "df_loc = list(zip(elementary_schools.lat, elementary_schools.long))\n",
    "\n",
    "closest = []\n",
    "\n",
    "for houseloc in house_coord:\n",
    "    sortlist = []\n",
    "    for loc in df_loc:\n",
    "        sortlist.append(geopy.distance.great_circle(houseloc, loc).miles)\n",
    "    closest.append(min(sortlist))\n",
    "\n",
    "df['closest_elem_schools'] = closest"
   ]
  },
  {
   "cell_type": "markdown",
   "metadata": {},
   "source": [
    "Iterations were made using a `city` and `neighborhood` geographic categorical feature.  These were both found significantly correlated with `Zipcode`.  "
   ]
  },
  {
   "cell_type": "markdown",
   "metadata": {},
   "source": [
    "[section_1](#section_1)\n",
    "[section_3](#section_3)   "
   ]
  },
  {
   "cell_type": "code",
   "execution_count": 163,
   "metadata": {},
   "outputs": [],
   "source": [
    "# df = df.merge(df_zip, how='left', on='Zipcode')"
   ]
  },
  {
   "cell_type": "code",
   "execution_count": 164,
   "metadata": {},
   "outputs": [
    {
     "name": "stdout",
     "output_type": "stream",
     "text": [
      "<class 'pandas.core.frame.DataFrame'>\n",
      "Int64Index: 29200 entries, 0 to 30154\n",
      "Data columns (total 29 columns):\n",
      " #   Column                Non-Null Count  Dtype         \n",
      "---  ------                --------------  -----         \n",
      " 0   selldate              29200 non-null  datetime64[ns]\n",
      " 1   price                 29200 non-null  float64       \n",
      " 2   bedrooms              29200 non-null  int64         \n",
      " 3   bathrooms             29200 non-null  float64       \n",
      " 4   sqft_living           29200 non-null  int64         \n",
      " 5   sqft_lot              29200 non-null  int64         \n",
      " 6   floors                29200 non-null  float64       \n",
      " 7   waterfront            29200 non-null  object        \n",
      " 8   greenbelt             29200 non-null  object        \n",
      " 9   nuisance              29200 non-null  object        \n",
      " 10  view                  29200 non-null  object        \n",
      " 11  condition             29200 non-null  object        \n",
      " 12  grade                 29200 non-null  object        \n",
      " 13  heat_source           29200 non-null  object        \n",
      " 14  sewer_system          29200 non-null  object        \n",
      " 15  sqft_above            29200 non-null  int64         \n",
      " 16  sqft_basement         29200 non-null  int64         \n",
      " 17  sqft_garage           29200 non-null  int64         \n",
      " 18  sqft_patio            29200 non-null  int64         \n",
      " 19  yr_built              29200 non-null  int64         \n",
      " 20  yr_renovated          29200 non-null  int64         \n",
      " 21  address               29200 non-null  object        \n",
      " 22  lat                   29200 non-null  float64       \n",
      " 23  long                  29200 non-null  float64       \n",
      " 24  Zipcode               29200 non-null  int64         \n",
      " 25  yr_old                29200 non-null  int64         \n",
      " 26  business_center       29200 non-null  float64       \n",
      " 27  clinic                29200 non-null  float64       \n",
      " 28  closest_elem_schools  29200 non-null  float64       \n",
      "dtypes: datetime64[ns](1), float64(8), int64(11), object(9)\n",
      "memory usage: 6.7+ MB\n"
     ]
    }
   ],
   "source": [
    "df.info()"
   ]
  },
  {
   "cell_type": "code",
   "execution_count": 165,
   "metadata": {},
   "outputs": [
    {
     "data": {
      "text/plain": [
       "selldate                0.0\n",
       "price                   0.0\n",
       "bedrooms                0.0\n",
       "bathrooms               0.0\n",
       "sqft_living             0.0\n",
       "sqft_lot                0.0\n",
       "floors                  0.0\n",
       "waterfront              0.0\n",
       "greenbelt               0.0\n",
       "nuisance                0.0\n",
       "view                    0.0\n",
       "condition               0.0\n",
       "grade                   0.0\n",
       "heat_source             0.0\n",
       "sewer_system            0.0\n",
       "sqft_above              0.0\n",
       "sqft_basement           0.0\n",
       "sqft_garage             0.0\n",
       "sqft_patio              0.0\n",
       "yr_built                0.0\n",
       "yr_renovated            0.0\n",
       "address                 0.0\n",
       "lat                     0.0\n",
       "long                    0.0\n",
       "Zipcode                 0.0\n",
       "yr_old                  0.0\n",
       "business_center         0.0\n",
       "clinic                  0.0\n",
       "closest_elem_schools    0.0\n",
       "dtype: float64"
      ]
     },
     "execution_count": 165,
     "metadata": {},
     "output_type": "execute_result"
    }
   ],
   "source": [
    "# identify missing data in new dataset\n",
    "df.isna().sum()/df.shape[0]\n",
    "# df.dropna(subset=['Population', 'Neighborhood'], axis=0, inplace=True)"
   ]
  },
  {
   "cell_type": "code",
   "execution_count": 166,
   "metadata": {},
   "outputs": [],
   "source": [
    "# df.dropna(subset=['Population', 'Neighborhood'], axis=0, inplace=True)"
   ]
  },
  {
   "cell_type": "code",
   "execution_count": 167,
   "metadata": {},
   "outputs": [
    {
     "name": "stdout",
     "output_type": "stream",
     "text": [
      "<class 'pandas.core.frame.DataFrame'>\n",
      "Int64Index: 29200 entries, 0 to 30154\n",
      "Data columns (total 29 columns):\n",
      " #   Column                Non-Null Count  Dtype         \n",
      "---  ------                --------------  -----         \n",
      " 0   selldate              29200 non-null  datetime64[ns]\n",
      " 1   price                 29200 non-null  float64       \n",
      " 2   bedrooms              29200 non-null  int64         \n",
      " 3   bathrooms             29200 non-null  float64       \n",
      " 4   sqft_living           29200 non-null  int64         \n",
      " 5   sqft_lot              29200 non-null  int64         \n",
      " 6   floors                29200 non-null  float64       \n",
      " 7   waterfront            29200 non-null  object        \n",
      " 8   greenbelt             29200 non-null  object        \n",
      " 9   nuisance              29200 non-null  object        \n",
      " 10  view                  29200 non-null  object        \n",
      " 11  condition             29200 non-null  object        \n",
      " 12  grade                 29200 non-null  object        \n",
      " 13  heat_source           29200 non-null  object        \n",
      " 14  sewer_system          29200 non-null  object        \n",
      " 15  sqft_above            29200 non-null  int64         \n",
      " 16  sqft_basement         29200 non-null  int64         \n",
      " 17  sqft_garage           29200 non-null  int64         \n",
      " 18  sqft_patio            29200 non-null  int64         \n",
      " 19  yr_built              29200 non-null  int64         \n",
      " 20  yr_renovated          29200 non-null  int64         \n",
      " 21  address               29200 non-null  object        \n",
      " 22  lat                   29200 non-null  float64       \n",
      " 23  long                  29200 non-null  float64       \n",
      " 24  Zipcode               29200 non-null  int64         \n",
      " 25  yr_old                29200 non-null  int64         \n",
      " 26  business_center       29200 non-null  float64       \n",
      " 27  clinic                29200 non-null  float64       \n",
      " 28  closest_elem_schools  29200 non-null  float64       \n",
      "dtypes: datetime64[ns](1), float64(8), int64(11), object(9)\n",
      "memory usage: 6.7+ MB\n"
     ]
    }
   ],
   "source": [
    "df.info()"
   ]
  },
  {
   "cell_type": "code",
   "execution_count": 168,
   "metadata": {
    "scrolled": true
   },
   "outputs": [
    {
     "data": {
      "text/plain": [
       "selldate                0.0\n",
       "price                   0.0\n",
       "bedrooms                0.0\n",
       "bathrooms               0.0\n",
       "sqft_living             0.0\n",
       "sqft_lot                0.0\n",
       "floors                  0.0\n",
       "waterfront              0.0\n",
       "greenbelt               0.0\n",
       "nuisance                0.0\n",
       "view                    0.0\n",
       "condition               0.0\n",
       "grade                   0.0\n",
       "heat_source             0.0\n",
       "sewer_system            0.0\n",
       "sqft_above              0.0\n",
       "sqft_basement           0.0\n",
       "sqft_garage             0.0\n",
       "sqft_patio              0.0\n",
       "yr_built                0.0\n",
       "yr_renovated            0.0\n",
       "address                 0.0\n",
       "lat                     0.0\n",
       "long                    0.0\n",
       "Zipcode                 0.0\n",
       "yr_old                  0.0\n",
       "business_center         0.0\n",
       "clinic                  0.0\n",
       "closest_elem_schools    0.0\n",
       "dtype: float64"
      ]
     },
     "execution_count": 168,
     "metadata": {},
     "output_type": "execute_result"
    }
   ],
   "source": [
    "# no NA/missing values in merged dataset\n",
    "df.isna().sum()/df.shape[0]"
   ]
  },
  {
   "cell_type": "markdown",
   "metadata": {},
   "source": [
    "## Protected\n",
    "\n",
    "The code below was a failed attempt to establish a protected/unprotected feature that would include only homes contained in a greenbelt that likely had some watershed/wildlife/environmental nuisance protection.  It was not correlated with price, nor large enough to be a predictor.  "
   ]
  },
  {
   "cell_type": "code",
   "execution_count": 169,
   "metadata": {},
   "outputs": [],
   "source": [
    "# df1.loc[(df1['nuisance'] == 'YES') & (df1['greenbelt'] == 'YES'), 'protected'] = 'protected'\n",
    "# df1.loc[(df1['nuisance'] != 'YES') | (df1['greenbelt'] != 'YES'), 'protected'] = 'unprotected'"
   ]
  },
  {
   "cell_type": "code",
   "execution_count": 73,
   "metadata": {},
   "outputs": [],
   "source": [
    "# df1['protected']"
   ]
  },
  {
   "cell_type": "code",
   "execution_count": 74,
   "metadata": {},
   "outputs": [],
   "source": [
    "# df1['protected'].value_counts() "
   ]
  },
  {
   "cell_type": "markdown",
   "metadata": {},
   "source": [
    "## Improving upon the baseline"
   ]
  },
  {
   "cell_type": "markdown",
   "metadata": {},
   "source": [
    "## Standard Scaling"
   ]
  },
  {
   "cell_type": "code",
   "execution_count": null,
   "metadata": {},
   "outputs": [],
   "source": []
  },
  {
   "cell_type": "markdown",
   "metadata": {
    "index": 33
   },
   "source": [
    "HomeSales \n",
    "standard scaling allows you to find coefficients. \n",
    "Be sure to include metric - r squared - to describe overall model performance.  \n",
    "collineriety \n",
    "log scalling\n",
    "remove outliers.  \n",
    "Increase r squared. \n",
    "\n",
    "\n",
    "1. run model\n",
    "2. see improvements, clean/feature engineer.  \n",
    "3. see coefficients becoming more accurate.\n"
   ]
  },
  {
   "cell_type": "markdown",
   "metadata": {},
   "source": [
    "## Grade - a failed attempt at making an Ordinal category numeric"
   ]
  },
  {
   "cell_type": "code",
   "execution_count": 75,
   "metadata": {},
   "outputs": [],
   "source": [
    "# df1.grade.value_counts()"
   ]
  },
  {
   "cell_type": "code",
   "execution_count": 76,
   "metadata": {},
   "outputs": [],
   "source": [
    "# df1.grade.value_counts()"
   ]
  },
  {
   "cell_type": "code",
   "execution_count": 101,
   "metadata": {},
   "outputs": [],
   "source": [
    "# # grade_map = {\n",
    "#     \"7 Average\": 7,\n",
    "#     \"8 Good\": 8,\n",
    "#     \"9 Better\": 9,\n",
    "#     \"6 Low Average\": 6,\n",
    "#     \"5 Fair\": 5,\n",
    "#     \"4 Low\": 4,\n",
    "#     \"3 Poor\": 3,\n",
    "#     \"2 Substandard\": 2,\n",
    "#     \"10 Very Good\": 10,\n",
    "#     \"11 Excellent\": 11,\n",
    "#     \"13 Mansion\": 13,\n",
    "#     \"12 Luxury\": 12,\n",
    "# }"
   ]
  },
  {
   "cell_type": "code",
   "execution_count": 102,
   "metadata": {},
   "outputs": [],
   "source": [
    "# df1.grade = df1.grade.map(grade_map)"
   ]
  },
  {
   "cell_type": "code",
   "execution_count": 103,
   "metadata": {},
   "outputs": [],
   "source": [
    "# making results more model friendly \n",
    "# dum_df1.loc[dum_df1['grade'] == '2 Substandard', 'grade'] = 1\n",
    "# dum_df1.loc[dum_df1['grade'] == '3 Poor', 'grade'] = 1\n",
    "# dum_df1.loc[dum_df1['grade'] == '4 Low', 'grade'] = 1\n",
    "\n",
    "# dum_df1.loc[dum_df1['grade'] == '5 Fair', 'grade'] = 2\n",
    "# dum_df1.loc[dum_df1['grade'] == '6 Low Average', 'grade'] = 2\n",
    "# dum_df1.loc[dum_df1['grade'] == '7 Average', 'grade'] = 2\n",
    "\n",
    "# dum_df1.loc[dum_df1['grade'] == '8 Good', 'grade'] = 3\n",
    "# dum_df1.loc[dum_df1['grade'] == '9 Better', 'grade'] = 3\n",
    "# dum_df1.loc[dum_df1['grade'] == '10 Very Good', 'grade'] = 3\n",
    "\n",
    "# dum_df1.loc[dum_df1['grade'] == '11 Excellent', 'grade'] = 4\n",
    "# dum_df1.loc[dum_df1['grade'] == '12 Luxury', 'grade'] = 4\n",
    "# dum_df1.loc[dum_df1['grade'] == '13 Mansion', 'grade'] = 4"
   ]
  },
  {
   "cell_type": "markdown",
   "metadata": {},
   "source": [
    "The above code, which was not used, was a brief lesson in why you do not want to force ordinal categories into continuous numeric variables, unless the values are in fact multiples of each other.    "
   ]
  },
  {
   "cell_type": "markdown",
   "metadata": {},
   "source": [
    "## Lesson"
   ]
  },
  {
   "cell_type": "markdown",
   "metadata": {},
   "source": [
    "scatter plot: visualize relationship  \n",
    "\n",
    "box plot: gives you quantile info\n",
    "\n",
    "histograms: distribution of frequencies \n",
    "\n",
    "qq plot residuals (outside of range) is "
   ]
  },
  {
   "cell_type": "code",
   "execution_count": 104,
   "metadata": {},
   "outputs": [],
   "source": [
    "# plt.boxplot(df1.price)"
   ]
  },
  {
   "cell_type": "code",
   "execution_count": 105,
   "metadata": {},
   "outputs": [
    {
     "data": {
      "text/plain": [
       "(array([2.8412e+04, 6.7600e+02, 7.9000e+01, 1.7000e+01, 1.0000e+01,\n",
       "        2.0000e+00, 1.0000e+00, 2.0000e+00, 0.0000e+00, 1.0000e+00]),\n",
       " array([2.7360000e+04, 3.0996240e+06, 6.1718880e+06, 9.2441520e+06,\n",
       "        1.2316416e+07, 1.5388680e+07, 1.8460944e+07, 2.1533208e+07,\n",
       "        2.4605472e+07, 2.7677736e+07, 3.0750000e+07]),\n",
       " <BarContainer object of 10 artists>)"
      ]
     },
     "execution_count": 105,
     "metadata": {},
     "output_type": "execute_result"
    },
    {
     "data": {
      "image/png": "[encoded data removed]",
      "text/plain": [
       "<Figure size 432x288 with 1 Axes>"
      ]
     },
     "metadata": {
      "needs_background": "light"
     },
     "output_type": "display_data"
    }
   ],
   "source": [
    "plt.hist(df['price'])"
   ]
  },
  {
   "cell_type": "code",
   "execution_count": 77,
   "metadata": {},
   "outputs": [],
   "source": [
    "upper_limit = df['price'].mean() + 3*df['price'].std()\n",
    "lower_limit = df['price'].mean() - 3*df['price'].std()\n",
    "df['price'] = np.where(df['price'] > upper_limit, upper_limit,\n",
    "np.where(df['price'] < lower_limit, lower_limit, df['price']))"
   ]
  },
  {
   "cell_type": "code",
   "execution_count": 78,
   "metadata": {},
   "outputs": [
    {
     "name": "stdout",
     "output_type": "stream",
     "text": [
      "<class 'pandas.core.frame.DataFrame'>\n",
      "Int64Index: 29200 entries, 0 to 30154\n",
      "Data columns (total 29 columns):\n",
      " #   Column                Non-Null Count  Dtype         \n",
      "---  ------                --------------  -----         \n",
      " 0   selldate              29200 non-null  datetime64[ns]\n",
      " 1   price                 29200 non-null  float64       \n",
      " 2   bedrooms              29200 non-null  int64         \n",
      " 3   bathrooms             29200 non-null  float64       \n",
      " 4   sqft_living           29200 non-null  int64         \n",
      " 5   sqft_lot              29200 non-null  int64         \n",
      " 6   floors                29200 non-null  float64       \n",
      " 7   waterfront            29200 non-null  object        \n",
      " 8   greenbelt             29200 non-null  object        \n",
      " 9   nuisance              29200 non-null  object        \n",
      " 10  view                  29200 non-null  object        \n",
      " 11  condition             29200 non-null  object        \n",
      " 12  grade                 29200 non-null  object        \n",
      " 13  heat_source           29200 non-null  object        \n",
      " 14  sewer_system          29200 non-null  object        \n",
      " 15  sqft_above            29200 non-null  int64         \n",
      " 16  sqft_basement         29200 non-null  int64         \n",
      " 17  sqft_garage           29200 non-null  int64         \n",
      " 18  sqft_patio            29200 non-null  int64         \n",
      " 19  yr_built              29200 non-null  int64         \n",
      " 20  yr_renovated          29200 non-null  int64         \n",
      " 21  address               29200 non-null  object        \n",
      " 22  lat                   29200 non-null  float64       \n",
      " 23  long                  29200 non-null  float64       \n",
      " 24  Zipcode               29200 non-null  int64         \n",
      " 25  yr_old                29200 non-null  int64         \n",
      " 26  business_center       29200 non-null  float64       \n",
      " 27  clinic                29200 non-null  float64       \n",
      " 28  closest_elem_schools  29200 non-null  float64       \n",
      "dtypes: datetime64[ns](1), float64(8), int64(11), object(9)\n",
      "memory usage: 6.7+ MB\n"
     ]
    }
   ],
   "source": [
    "# sns.heatmap(X.corr())\n",
    "df.info()"
   ]
  },
  {
   "cell_type": "markdown",
   "metadata": {},
   "source": [
    "## Discrete numeric predictors "
   ]
  },
  {
   "cell_type": "code",
   "execution_count": 79,
   "metadata": {},
   "outputs": [],
   "source": [
    "upper_limit = df['yr_old'].mean() + 3*df['yr_old'].std()\n",
    "lower_limit = df['yr_old'].mean() - 3*df['yr_old'].std()\n",
    "df['yr_old'] = np.where(df['yr_old'] > upper_limit, upper_limit,\n",
    "np.where(df['yr_old'] < lower_limit, lower_limit, df['yr_old']))"
   ]
  },
  {
   "cell_type": "code",
   "execution_count": 80,
   "metadata": {},
   "outputs": [],
   "source": [
    "# upper_limit = df['floors'].mean() + 3*df['floors'].std()\n",
    "# lower_limit = df['floors'].mean() - 3*df['floors'].std()\n",
    "# df['floors'] = np.where(df['floors'] > upper_limit, upper_limit,\n",
    "# np.where(df['floors'] < lower_limit, lower_limit, df['floors']))"
   ]
  },
  {
   "cell_type": "code",
   "execution_count": 81,
   "metadata": {},
   "outputs": [],
   "source": [
    "upper_limit = df['sqft_garage'].mean() + 3*df['sqft_garage'].std()\n",
    "lower_limit = df['sqft_garage'].mean() - 3*df['sqft_garage'].std()\n",
    "\n",
    "df['sqft_garage'] = np.where(df['sqft_garage'] > upper_limit, upper_limit,\n",
    "    np.where(df['sqft_garage'] < lower_limit, lower_limit, df['sqft_garage']))"
   ]
  },
  {
   "cell_type": "code",
   "execution_count": 82,
   "metadata": {},
   "outputs": [],
   "source": [
    "upper_limit = df['sqft_basement'].mean() + 3*df['sqft_basement'].std()\n",
    "lower_limit = df['sqft_basement'].mean() - 3*df['sqft_basement'].std()\n",
    "\n",
    "df['sqft_basement'] = np.where(df['sqft_basement'] > upper_limit, upper_limit,\n",
    "    np.where(df['sqft_basement'] < lower_limit, lower_limit, df['sqft_basement']))"
   ]
  },
  {
   "cell_type": "code",
   "execution_count": 83,
   "metadata": {},
   "outputs": [],
   "source": [
    "upper_limit = df['sqft_patio'].mean() + 3*df['sqft_patio'].std()\n",
    "lower_limit = df['sqft_patio'].mean() - 3*df['sqft_patio'].std()\n",
    "\n",
    "df['sqft_patio'] = np.where(df['sqft_patio'] > upper_limit, upper_limit,\n",
    "    np.where(df['sqft_patio'] < lower_limit, lower_limit, df['sqft_patio']))"
   ]
  },
  {
   "cell_type": "code",
   "execution_count": 84,
   "metadata": {},
   "outputs": [],
   "source": [
    "upper_limit = df['bedrooms'].mean() + 3*df['bedrooms'].std()\n",
    "lower_limit = df['bedrooms'].mean() - 3*df['bedrooms'].std()\n",
    "df['bedrooms'] = np.where(df['bedrooms'] > upper_limit, upper_limit,\n",
    "np.where(df['bedrooms'] < lower_limit, lower_limit, df['bedrooms']))"
   ]
  },
  {
   "cell_type": "code",
   "execution_count": 85,
   "metadata": {},
   "outputs": [],
   "source": [
    "upper_limit = df['bathrooms'].mean() + 3*df['bathrooms'].std()\n",
    "lower_limit = df['bathrooms'].mean() - 3*df['bathrooms'].std()\n",
    "\n",
    "df['bathrooms'] = np.where(df['bathrooms'] > upper_limit, upper_limit,\n",
    "    np.where(df['bathrooms'] < lower_limit, lower_limit, df['bathrooms']))"
   ]
  },
  {
   "cell_type": "code",
   "execution_count": 86,
   "metadata": {},
   "outputs": [],
   "source": [
    "upper_limit = df['sqft_above'].mean() + 3*df['sqft_above'].std()\n",
    "lower_limit = df['sqft_above'].mean() - 3*df['sqft_above'].std()\n",
    "\n",
    "df['sqft_above'] = np.where(df['sqft_above'] > upper_limit, upper_limit,\n",
    "    np.where(df['sqft_above'] < lower_limit, lower_limit, df['sqft_above']))"
   ]
  },
  {
   "cell_type": "code",
   "execution_count": 87,
   "metadata": {},
   "outputs": [],
   "source": [
    "upper_limit = df['sqft_lot'].mean() + 3*df['sqft_lot'].std()\n",
    "lower_limit = df['sqft_lot'].mean() - 3*df['sqft_lot'].std()\n",
    "\n",
    "df['sqft_lot'] = np.where(df['sqft_lot'] > upper_limit, upper_limit,\n",
    "    np.where(df['sqft_lot'] < lower_limit, lower_limit, df['sqft_lot']))"
   ]
  },
  {
   "cell_type": "code",
   "execution_count": 88,
   "metadata": {},
   "outputs": [],
   "source": [
    "\n",
    "# model_1 = sm.OLS(y, sm.add_constant(X1))\n",
    "# results1 = model_1.fit()\n",
    "# results1.summary()"
   ]
  },
  {
   "cell_type": "markdown",
   "metadata": {},
   "source": [
    "### Model Iteration"
   ]
  },
  {
   "cell_type": "markdown",
   "metadata": {},
   "source": [
    "### Utilizing categorical variables"
   ]
  },
  {
   "cell_type": "code",
   "execution_count": 93,
   "metadata": {},
   "outputs": [],
   "source": [
    "cats = df[['waterfront','greenbelt', 'nuisance', 'view', 'condition', 'heat_source', 'sewer_system', 'Zipcode', 'grade']]\n",
    "cats1 = df[['selldate','price','waterfront','greenbelt', 'nuisance', 'view', 'condition', 'heat_source', 'sewer_system', \n",
    "            'address', 'Zipcode', 'grade']]"
   ]
  },
  {
   "cell_type": "code",
   "execution_count": 94,
   "metadata": {},
   "outputs": [],
   "source": [
    "cat_cols = cats.columns\n",
    "dum_df = pd.get_dummies(data=df, columns=cat_cols, drop_first=True)"
   ]
  },
  {
   "cell_type": "code",
   "execution_count": 95,
   "metadata": {},
   "outputs": [],
   "source": [
    "X1=dum_df.drop(labels=['selldate', 'price', 'address', \n",
    "                       'sewer_system_PUBLIC RESTRICTED',\n",
    "                      'heat_source_Oil', 'heat_source_Oil/Solar', 'heat_source_Other',\n",
    "                       'grade_2 Substandard', 'heat_source_Electricity/Solar', 'lat', 'long'], axis=1)"
   ]
  },
  {
   "cell_type": "code",
   "execution_count": 96,
   "metadata": {},
   "outputs": [
    {
     "data": {
      "text/html": [
       "<div>\n",
       "<style scoped>\n",
       "    .dataframe tbody tr th:only-of-type {\n",
       "        vertical-align: middle;\n",
       "    }\n",
       "\n",
       "    .dataframe tbody tr th {\n",
       "        vertical-align: top;\n",
       "    }\n",
       "\n",
       "    .dataframe thead th {\n",
       "        text-align: right;\n",
       "    }\n",
       "</style>\n",
       "<table border=\"1\" class=\"dataframe\">\n",
       "  <thead>\n",
       "    <tr style=\"text-align: right;\">\n",
       "      <th></th>\n",
       "      <th>bedrooms</th>\n",
       "      <th>bathrooms</th>\n",
       "      <th>sqft_living</th>\n",
       "      <th>sqft_lot</th>\n",
       "      <th>floors</th>\n",
       "      <th>sqft_above</th>\n",
       "      <th>sqft_basement</th>\n",
       "      <th>sqft_garage</th>\n",
       "      <th>sqft_patio</th>\n",
       "      <th>yr_built</th>\n",
       "      <th>...</th>\n",
       "      <th>grade_11 Excellent</th>\n",
       "      <th>grade_12 Luxury</th>\n",
       "      <th>grade_13 Mansion</th>\n",
       "      <th>grade_3 Poor</th>\n",
       "      <th>grade_4 Low</th>\n",
       "      <th>grade_5 Fair</th>\n",
       "      <th>grade_6 Low Average</th>\n",
       "      <th>grade_7 Average</th>\n",
       "      <th>grade_8 Good</th>\n",
       "      <th>grade_9 Better</th>\n",
       "    </tr>\n",
       "  </thead>\n",
       "  <tbody>\n",
       "    <tr>\n",
       "      <th>0</th>\n",
       "      <td>4.0</td>\n",
       "      <td>1.0</td>\n",
       "      <td>1180</td>\n",
       "      <td>7140.0</td>\n",
       "      <td>1.0</td>\n",
       "      <td>1180.0</td>\n",
       "      <td>0.0</td>\n",
       "      <td>0.0</td>\n",
       "      <td>40.0</td>\n",
       "      <td>1969</td>\n",
       "      <td>...</td>\n",
       "      <td>0</td>\n",
       "      <td>0</td>\n",
       "      <td>0</td>\n",
       "      <td>0</td>\n",
       "      <td>0</td>\n",
       "      <td>0</td>\n",
       "      <td>0</td>\n",
       "      <td>1</td>\n",
       "      <td>0</td>\n",
       "      <td>0</td>\n",
       "    </tr>\n",
       "    <tr>\n",
       "      <th>1</th>\n",
       "      <td>5.0</td>\n",
       "      <td>2.5</td>\n",
       "      <td>2770</td>\n",
       "      <td>6703.0</td>\n",
       "      <td>1.0</td>\n",
       "      <td>1570.0</td>\n",
       "      <td>1570.0</td>\n",
       "      <td>0.0</td>\n",
       "      <td>240.0</td>\n",
       "      <td>1950</td>\n",
       "      <td>...</td>\n",
       "      <td>0</td>\n",
       "      <td>0</td>\n",
       "      <td>0</td>\n",
       "      <td>0</td>\n",
       "      <td>0</td>\n",
       "      <td>0</td>\n",
       "      <td>0</td>\n",
       "      <td>1</td>\n",
       "      <td>0</td>\n",
       "      <td>0</td>\n",
       "    </tr>\n",
       "    <tr>\n",
       "      <th>2</th>\n",
       "      <td>6.0</td>\n",
       "      <td>2.0</td>\n",
       "      <td>2880</td>\n",
       "      <td>6156.0</td>\n",
       "      <td>1.0</td>\n",
       "      <td>1580.0</td>\n",
       "      <td>1580.0</td>\n",
       "      <td>0.0</td>\n",
       "      <td>0.0</td>\n",
       "      <td>1956</td>\n",
       "      <td>...</td>\n",
       "      <td>0</td>\n",
       "      <td>0</td>\n",
       "      <td>0</td>\n",
       "      <td>0</td>\n",
       "      <td>0</td>\n",
       "      <td>0</td>\n",
       "      <td>0</td>\n",
       "      <td>1</td>\n",
       "      <td>0</td>\n",
       "      <td>0</td>\n",
       "    </tr>\n",
       "    <tr>\n",
       "      <th>3</th>\n",
       "      <td>3.0</td>\n",
       "      <td>3.0</td>\n",
       "      <td>2160</td>\n",
       "      <td>1400.0</td>\n",
       "      <td>2.0</td>\n",
       "      <td>1090.0</td>\n",
       "      <td>1070.0</td>\n",
       "      <td>200.0</td>\n",
       "      <td>270.0</td>\n",
       "      <td>2010</td>\n",
       "      <td>...</td>\n",
       "      <td>0</td>\n",
       "      <td>0</td>\n",
       "      <td>0</td>\n",
       "      <td>0</td>\n",
       "      <td>0</td>\n",
       "      <td>0</td>\n",
       "      <td>0</td>\n",
       "      <td>0</td>\n",
       "      <td>0</td>\n",
       "      <td>1</td>\n",
       "    </tr>\n",
       "    <tr>\n",
       "      <th>4</th>\n",
       "      <td>2.0</td>\n",
       "      <td>2.0</td>\n",
       "      <td>1120</td>\n",
       "      <td>758.0</td>\n",
       "      <td>2.0</td>\n",
       "      <td>1120.0</td>\n",
       "      <td>550.0</td>\n",
       "      <td>550.0</td>\n",
       "      <td>30.0</td>\n",
       "      <td>2012</td>\n",
       "      <td>...</td>\n",
       "      <td>0</td>\n",
       "      <td>0</td>\n",
       "      <td>0</td>\n",
       "      <td>0</td>\n",
       "      <td>0</td>\n",
       "      <td>0</td>\n",
       "      <td>0</td>\n",
       "      <td>1</td>\n",
       "      <td>0</td>\n",
       "      <td>0</td>\n",
       "    </tr>\n",
       "  </tbody>\n",
       "</table>\n",
       "<p>5 rows × 127 columns</p>\n",
       "</div>"
      ],
      "text/plain": [
       "   bedrooms  bathrooms  sqft_living  sqft_lot  floors  sqft_above  \\\n",
       "0       4.0        1.0         1180    7140.0     1.0      1180.0   \n",
       "1       5.0        2.5         2770    6703.0     1.0      1570.0   \n",
       "2       6.0        2.0         2880    6156.0     1.0      1580.0   \n",
       "3       3.0        3.0         2160    1400.0     2.0      1090.0   \n",
       "4       2.0        2.0         1120     758.0     2.0      1120.0   \n",
       "\n",
       "   sqft_basement  sqft_garage  sqft_patio  yr_built  ...  grade_11 Excellent  \\\n",
       "0            0.0          0.0        40.0      1969  ...                   0   \n",
       "1         1570.0          0.0       240.0      1950  ...                   0   \n",
       "2         1580.0          0.0         0.0      1956  ...                   0   \n",
       "3         1070.0        200.0       270.0      2010  ...                   0   \n",
       "4          550.0        550.0        30.0      2012  ...                   0   \n",
       "\n",
       "   grade_12 Luxury  grade_13 Mansion  grade_3 Poor  grade_4 Low  grade_5 Fair  \\\n",
       "0                0                 0             0            0             0   \n",
       "1                0                 0             0            0             0   \n",
       "2                0                 0             0            0             0   \n",
       "3                0                 0             0            0             0   \n",
       "4                0                 0             0            0             0   \n",
       "\n",
       "   grade_6 Low Average  grade_7 Average  grade_8 Good  grade_9 Better  \n",
       "0                    0                1             0               0  \n",
       "1                    0                1             0               0  \n",
       "2                    0                1             0               0  \n",
       "3                    0                0             0               1  \n",
       "4                    0                1             0               0  \n",
       "\n",
       "[5 rows x 127 columns]"
      ]
     },
     "execution_count": 96,
     "metadata": {},
     "output_type": "execute_result"
    }
   ],
   "source": [
    "X1.head()"
   ]
  },
  {
   "cell_type": "code",
   "execution_count": 97,
   "metadata": {},
   "outputs": [
    {
     "data": {
      "text/html": [
       "<table class=\"simpletable\">\n",
       "<caption>OLS Regression Results</caption>\n",
       "<tr>\n",
       "  <th>Dep. Variable:</th>          <td>price</td>      <th>  R-squared:         </th>  <td>   0.775</td>  \n",
       "</tr>\n",
       "<tr>\n",
       "  <th>Model:</th>                   <td>OLS</td>       <th>  Adj. R-squared:    </th>  <td>   0.774</td>  \n",
       "</tr>\n",
       "<tr>\n",
       "  <th>Method:</th>             <td>Least Squares</td>  <th>  F-statistic:       </th>  <td>   786.8</td>  \n",
       "</tr>\n",
       "<tr>\n",
       "  <th>Date:</th>             <td>Wed, 28 Sep 2022</td> <th>  Prob (F-statistic):</th>   <td>  0.00</td>   \n",
       "</tr>\n",
       "<tr>\n",
       "  <th>Time:</th>                 <td>16:54:36</td>     <th>  Log-Likelihood:    </th> <td>-4.1193e+05</td>\n",
       "</tr>\n",
       "<tr>\n",
       "  <th>No. Observations:</th>      <td> 29200</td>      <th>  AIC:               </th>  <td>8.241e+05</td> \n",
       "</tr>\n",
       "<tr>\n",
       "  <th>Df Residuals:</th>          <td> 29072</td>      <th>  BIC:               </th>  <td>8.252e+05</td> \n",
       "</tr>\n",
       "<tr>\n",
       "  <th>Df Model:</th>              <td>   127</td>      <th>                     </th>      <td> </td>     \n",
       "</tr>\n",
       "<tr>\n",
       "  <th>Covariance Type:</th>      <td>nonrobust</td>    <th>                     </th>      <td> </td>     \n",
       "</tr>\n",
       "</table>\n",
       "<table class=\"simpletable\">\n",
       "<tr>\n",
       "                 <td></td>                    <th>coef</th>     <th>std err</th>      <th>t</th>      <th>P>|t|</th>  <th>[0.025</th>    <th>0.975]</th>  \n",
       "</tr>\n",
       "<tr>\n",
       "  <th>const</th>                           <td> 1.106e+06</td> <td> 7.52e+05</td> <td>    1.472</td> <td> 0.141</td> <td>-3.67e+05</td> <td> 2.58e+06</td>\n",
       "</tr>\n",
       "<tr>\n",
       "  <th>bedrooms</th>                        <td>-2791.1888</td> <td> 2891.689</td> <td>   -0.965</td> <td> 0.334</td> <td>-8459.030</td> <td> 2876.652</td>\n",
       "</tr>\n",
       "<tr>\n",
       "  <th>bathrooms</th>                       <td> 3.932e+04</td> <td> 4069.018</td> <td>    9.663</td> <td> 0.000</td> <td> 3.13e+04</td> <td> 4.73e+04</td>\n",
       "</tr>\n",
       "<tr>\n",
       "  <th>sqft_living</th>                     <td>  102.9338</td> <td>    7.839</td> <td>   13.132</td> <td> 0.000</td> <td>   87.570</td> <td>  118.298</td>\n",
       "</tr>\n",
       "<tr>\n",
       "  <th>sqft_lot</th>                        <td>    1.5819</td> <td>    0.087</td> <td>   18.239</td> <td> 0.000</td> <td>    1.412</td> <td>    1.752</td>\n",
       "</tr>\n",
       "<tr>\n",
       "  <th>floors</th>                          <td>-6.507e+04</td> <td> 5563.549</td> <td>  -11.697</td> <td> 0.000</td> <td> -7.6e+04</td> <td>-5.42e+04</td>\n",
       "</tr>\n",
       "<tr>\n",
       "  <th>sqft_above</th>                      <td>  181.9318</td> <td>    8.547</td> <td>   21.287</td> <td> 0.000</td> <td>  165.180</td> <td>  198.684</td>\n",
       "</tr>\n",
       "<tr>\n",
       "  <th>sqft_basement</th>                   <td>   32.7385</td> <td>    6.497</td> <td>    5.039</td> <td> 0.000</td> <td>   20.004</td> <td>   45.473</td>\n",
       "</tr>\n",
       "<tr>\n",
       "  <th>sqft_garage</th>                     <td>   19.3589</td> <td>   10.239</td> <td>    1.891</td> <td> 0.059</td> <td>   -0.710</td> <td>   39.428</td>\n",
       "</tr>\n",
       "<tr>\n",
       "  <th>sqft_patio</th>                      <td>   28.7556</td> <td>    9.916</td> <td>    2.900</td> <td> 0.004</td> <td>    9.320</td> <td>   48.191</td>\n",
       "</tr>\n",
       "<tr>\n",
       "  <th>yr_built</th>                        <td> -300.4944</td> <td>  371.903</td> <td>   -0.808</td> <td> 0.419</td> <td>-1029.441</td> <td>  428.453</td>\n",
       "</tr>\n",
       "<tr>\n",
       "  <th>yr_renovated</th>                    <td>   46.3212</td> <td>   11.747</td> <td>    3.943</td> <td> 0.000</td> <td>   23.296</td> <td>   69.347</td>\n",
       "</tr>\n",
       "<tr>\n",
       "  <th>yr_old</th>                          <td> -192.1435</td> <td>  374.307</td> <td>   -0.513</td> <td> 0.608</td> <td> -925.802</td> <td>  541.515</td>\n",
       "</tr>\n",
       "<tr>\n",
       "  <th>business_center</th>                 <td>-1.729e+04</td> <td> 2386.499</td> <td>   -7.246</td> <td> 0.000</td> <td> -2.2e+04</td> <td>-1.26e+04</td>\n",
       "</tr>\n",
       "<tr>\n",
       "  <th>clinic</th>                          <td> 9498.6951</td> <td> 2280.446</td> <td>    4.165</td> <td> 0.000</td> <td> 5028.917</td> <td>  1.4e+04</td>\n",
       "</tr>\n",
       "<tr>\n",
       "  <th>closest_elem_schools</th>            <td>-2.151e+04</td> <td> 5182.660</td> <td>   -4.150</td> <td> 0.000</td> <td>-3.17e+04</td> <td>-1.13e+04</td>\n",
       "</tr>\n",
       "<tr>\n",
       "  <th>waterfront_YES</th>                  <td> 2.912e+05</td> <td> 1.78e+04</td> <td>   16.408</td> <td> 0.000</td> <td> 2.56e+05</td> <td> 3.26e+05</td>\n",
       "</tr>\n",
       "<tr>\n",
       "  <th>greenbelt_YES</th>                   <td>  4.72e+04</td> <td> 1.25e+04</td> <td>    3.788</td> <td> 0.000</td> <td> 2.28e+04</td> <td> 7.16e+04</td>\n",
       "</tr>\n",
       "<tr>\n",
       "  <th>nuisance_YES</th>                    <td>-4.679e+04</td> <td> 5247.361</td> <td>   -8.917</td> <td> 0.000</td> <td>-5.71e+04</td> <td>-3.65e+04</td>\n",
       "</tr>\n",
       "<tr>\n",
       "  <th>view_EXCELLENT</th>                  <td> 4.231e+05</td> <td> 1.79e+04</td> <td>   23.645</td> <td> 0.000</td> <td> 3.88e+05</td> <td> 4.58e+05</td>\n",
       "</tr>\n",
       "<tr>\n",
       "  <th>view_FAIR</th>                       <td> 7.955e+04</td> <td> 2.35e+04</td> <td>    3.379</td> <td> 0.001</td> <td> 3.34e+04</td> <td> 1.26e+05</td>\n",
       "</tr>\n",
       "<tr>\n",
       "  <th>view_GOOD</th>                       <td> 9.993e+04</td> <td> 1.34e+04</td> <td>    7.433</td> <td> 0.000</td> <td> 7.36e+04</td> <td> 1.26e+05</td>\n",
       "</tr>\n",
       "<tr>\n",
       "  <th>view_NONE</th>                       <td>-1.008e+05</td> <td> 8185.863</td> <td>  -12.308</td> <td> 0.000</td> <td>-1.17e+05</td> <td>-8.47e+04</td>\n",
       "</tr>\n",
       "<tr>\n",
       "  <th>condition_Fair</th>                  <td>-9.336e+04</td> <td> 2.22e+04</td> <td>   -4.203</td> <td> 0.000</td> <td>-1.37e+05</td> <td>-4.98e+04</td>\n",
       "</tr>\n",
       "<tr>\n",
       "  <th>condition_Good</th>                  <td> 5.528e+04</td> <td> 4906.485</td> <td>   11.266</td> <td> 0.000</td> <td> 4.57e+04</td> <td> 6.49e+04</td>\n",
       "</tr>\n",
       "<tr>\n",
       "  <th>condition_Poor</th>                  <td>-7.145e+04</td> <td> 4.31e+04</td> <td>   -1.659</td> <td> 0.097</td> <td>-1.56e+05</td> <td>  1.3e+04</td>\n",
       "</tr>\n",
       "<tr>\n",
       "  <th>condition_Very Good</th>             <td> 1.165e+05</td> <td> 6865.576</td> <td>   16.965</td> <td> 0.000</td> <td> 1.03e+05</td> <td>  1.3e+05</td>\n",
       "</tr>\n",
       "<tr>\n",
       "  <th>heat_source_Gas</th>                 <td> 1.279e+04</td> <td> 4677.073</td> <td>    2.735</td> <td> 0.006</td> <td> 3625.183</td> <td>  2.2e+04</td>\n",
       "</tr>\n",
       "<tr>\n",
       "  <th>heat_source_Gas/Solar</th>           <td>  1.32e+05</td> <td>  3.4e+04</td> <td>    3.877</td> <td> 0.000</td> <td> 6.52e+04</td> <td> 1.99e+05</td>\n",
       "</tr>\n",
       "<tr>\n",
       "  <th>sewer_system_PRIVATE RESTRICTED</th> <td>-4.172e+05</td> <td> 1.49e+05</td> <td>   -2.807</td> <td> 0.005</td> <td>-7.08e+05</td> <td>-1.26e+05</td>\n",
       "</tr>\n",
       "<tr>\n",
       "  <th>sewer_system_PUBLIC</th>             <td> 3.869e+04</td> <td> 7562.928</td> <td>    5.115</td> <td> 0.000</td> <td> 2.39e+04</td> <td> 5.35e+04</td>\n",
       "</tr>\n",
       "<tr>\n",
       "  <th>Zipcode_98002</th>                   <td> 2.568e+04</td> <td> 2.17e+04</td> <td>    1.182</td> <td> 0.237</td> <td>-1.69e+04</td> <td> 6.83e+04</td>\n",
       "</tr>\n",
       "<tr>\n",
       "  <th>Zipcode_98003</th>                   <td> 5673.2926</td> <td> 2.04e+04</td> <td>    0.278</td> <td> 0.781</td> <td>-3.43e+04</td> <td> 4.56e+04</td>\n",
       "</tr>\n",
       "<tr>\n",
       "  <th>Zipcode_98004</th>                   <td>  1.59e+06</td> <td> 2.31e+04</td> <td>   68.766</td> <td> 0.000</td> <td> 1.54e+06</td> <td> 1.64e+06</td>\n",
       "</tr>\n",
       "<tr>\n",
       "  <th>Zipcode_98005</th>                   <td>  1.06e+06</td> <td>  2.8e+04</td> <td>   37.828</td> <td> 0.000</td> <td> 1.01e+06</td> <td> 1.12e+06</td>\n",
       "</tr>\n",
       "<tr>\n",
       "  <th>Zipcode_98006</th>                   <td> 7.844e+05</td> <td> 1.99e+04</td> <td>   39.500</td> <td> 0.000</td> <td> 7.45e+05</td> <td> 8.23e+05</td>\n",
       "</tr>\n",
       "<tr>\n",
       "  <th>Zipcode_98007</th>                   <td> 7.056e+05</td> <td> 2.95e+04</td> <td>   23.935</td> <td> 0.000</td> <td> 6.48e+05</td> <td> 7.63e+05</td>\n",
       "</tr>\n",
       "<tr>\n",
       "  <th>Zipcode_98008</th>                   <td> 7.306e+05</td> <td> 2.12e+04</td> <td>   34.427</td> <td> 0.000</td> <td> 6.89e+05</td> <td> 7.72e+05</td>\n",
       "</tr>\n",
       "<tr>\n",
       "  <th>Zipcode_98010</th>                   <td> 5.968e+04</td> <td> 2.65e+04</td> <td>    2.252</td> <td> 0.024</td> <td> 7732.459</td> <td> 1.12e+05</td>\n",
       "</tr>\n",
       "<tr>\n",
       "  <th>Zipcode_98011</th>                   <td> 5.041e+05</td> <td> 2.47e+04</td> <td>   20.440</td> <td> 0.000</td> <td> 4.56e+05</td> <td> 5.52e+05</td>\n",
       "</tr>\n",
       "<tr>\n",
       "  <th>Zipcode_98014</th>                   <td> 2.315e+05</td> <td>  3.6e+04</td> <td>    6.423</td> <td> 0.000</td> <td> 1.61e+05</td> <td> 3.02e+05</td>\n",
       "</tr>\n",
       "<tr>\n",
       "  <th>Zipcode_98019</th>                   <td>  2.51e+05</td> <td> 3.01e+04</td> <td>    8.342</td> <td> 0.000</td> <td> 1.92e+05</td> <td>  3.1e+05</td>\n",
       "</tr>\n",
       "<tr>\n",
       "  <th>Zipcode_98022</th>                   <td>-1.229e+05</td> <td> 3.06e+04</td> <td>   -4.020</td> <td> 0.000</td> <td>-1.83e+05</td> <td> -6.3e+04</td>\n",
       "</tr>\n",
       "<tr>\n",
       "  <th>Zipcode_98023</th>                   <td> -2.01e+04</td> <td> 1.84e+04</td> <td>   -1.094</td> <td> 0.274</td> <td>-5.61e+04</td> <td> 1.59e+04</td>\n",
       "</tr>\n",
       "<tr>\n",
       "  <th>Zipcode_98024</th>                   <td> 4.919e+05</td> <td> 3.85e+04</td> <td>   12.790</td> <td> 0.000</td> <td> 4.17e+05</td> <td> 5.67e+05</td>\n",
       "</tr>\n",
       "<tr>\n",
       "  <th>Zipcode_98027</th>                   <td> 4.552e+05</td> <td> 2.28e+04</td> <td>   19.974</td> <td> 0.000</td> <td> 4.11e+05</td> <td>    5e+05</td>\n",
       "</tr>\n",
       "<tr>\n",
       "  <th>Zipcode_98028</th>                   <td> 4.449e+05</td> <td> 2.32e+04</td> <td>   19.160</td> <td> 0.000</td> <td> 3.99e+05</td> <td>  4.9e+05</td>\n",
       "</tr>\n",
       "<tr>\n",
       "  <th>Zipcode_98029</th>                   <td> 6.126e+05</td> <td> 2.46e+04</td> <td>   24.926</td> <td> 0.000</td> <td> 5.64e+05</td> <td> 6.61e+05</td>\n",
       "</tr>\n",
       "<tr>\n",
       "  <th>Zipcode_98030</th>                   <td> 6.586e+04</td> <td> 2.28e+04</td> <td>    2.888</td> <td> 0.004</td> <td> 2.12e+04</td> <td> 1.11e+05</td>\n",
       "</tr>\n",
       "<tr>\n",
       "  <th>Zipcode_98031</th>                   <td> 5.955e+04</td> <td> 1.95e+04</td> <td>    3.052</td> <td> 0.002</td> <td> 2.13e+04</td> <td> 9.78e+04</td>\n",
       "</tr>\n",
       "<tr>\n",
       "  <th>Zipcode_98032</th>                   <td> 6.178e+04</td> <td> 2.76e+04</td> <td>    2.237</td> <td> 0.025</td> <td> 7659.230</td> <td> 1.16e+05</td>\n",
       "</tr>\n",
       "<tr>\n",
       "  <th>Zipcode_98033</th>                   <td> 1.109e+06</td> <td> 1.88e+04</td> <td>   58.999</td> <td> 0.000</td> <td> 1.07e+06</td> <td> 1.15e+06</td>\n",
       "</tr>\n",
       "<tr>\n",
       "  <th>Zipcode_98034</th>                   <td> 6.338e+05</td> <td> 1.85e+04</td> <td>   34.329</td> <td> 0.000</td> <td> 5.98e+05</td> <td>  6.7e+05</td>\n",
       "</tr>\n",
       "<tr>\n",
       "  <th>Zipcode_98038</th>                   <td> 1.976e+05</td> <td> 2.46e+04</td> <td>    8.044</td> <td> 0.000</td> <td> 1.49e+05</td> <td> 2.46e+05</td>\n",
       "</tr>\n",
       "<tr>\n",
       "  <th>Zipcode_98039</th>                   <td>  1.94e+06</td> <td> 4.51e+04</td> <td>   43.050</td> <td> 0.000</td> <td> 1.85e+06</td> <td> 2.03e+06</td>\n",
       "</tr>\n",
       "<tr>\n",
       "  <th>Zipcode_98040</th>                   <td> 1.172e+06</td> <td> 2.31e+04</td> <td>   50.858</td> <td> 0.000</td> <td> 1.13e+06</td> <td> 1.22e+06</td>\n",
       "</tr>\n",
       "<tr>\n",
       "  <th>Zipcode_98042</th>                   <td>  9.61e+04</td> <td> 2.04e+04</td> <td>    4.699</td> <td> 0.000</td> <td>  5.6e+04</td> <td> 1.36e+05</td>\n",
       "</tr>\n",
       "<tr>\n",
       "  <th>Zipcode_98045</th>                   <td> 3.144e+05</td> <td> 4.34e+04</td> <td>    7.250</td> <td> 0.000</td> <td> 2.29e+05</td> <td> 3.99e+05</td>\n",
       "</tr>\n",
       "<tr>\n",
       "  <th>Zipcode_98047</th>                   <td> 4.563e+04</td> <td> 3.95e+04</td> <td>    1.157</td> <td> 0.247</td> <td>-3.17e+04</td> <td> 1.23e+05</td>\n",
       "</tr>\n",
       "<tr>\n",
       "  <th>Zipcode_98050</th>                   <td> 5.045e+05</td> <td> 2.31e+05</td> <td>    2.186</td> <td> 0.029</td> <td> 5.22e+04</td> <td> 9.57e+05</td>\n",
       "</tr>\n",
       "<tr>\n",
       "  <th>Zipcode_98051</th>                   <td> 9.176e+04</td> <td> 4.78e+04</td> <td>    1.918</td> <td> 0.055</td> <td>-1997.826</td> <td> 1.86e+05</td>\n",
       "</tr>\n",
       "<tr>\n",
       "  <th>Zipcode_98052</th>                   <td> 7.553e+05</td> <td> 1.93e+04</td> <td>   39.063</td> <td> 0.000</td> <td> 7.17e+05</td> <td> 7.93e+05</td>\n",
       "</tr>\n",
       "<tr>\n",
       "  <th>Zipcode_98053</th>                   <td> 6.044e+05</td> <td> 2.35e+04</td> <td>   25.762</td> <td> 0.000</td> <td> 5.58e+05</td> <td>  6.5e+05</td>\n",
       "</tr>\n",
       "<tr>\n",
       "  <th>Zipcode_98055</th>                   <td> 8.022e+04</td> <td> 2.58e+04</td> <td>    3.115</td> <td> 0.002</td> <td> 2.97e+04</td> <td> 1.31e+05</td>\n",
       "</tr>\n",
       "<tr>\n",
       "  <th>Zipcode_98056</th>                   <td> 2.929e+05</td> <td> 1.95e+04</td> <td>   14.997</td> <td> 0.000</td> <td> 2.55e+05</td> <td> 3.31e+05</td>\n",
       "</tr>\n",
       "<tr>\n",
       "  <th>Zipcode_98057</th>                   <td> 9.154e+04</td> <td> 3.21e+04</td> <td>    2.852</td> <td> 0.004</td> <td> 2.86e+04</td> <td> 1.54e+05</td>\n",
       "</tr>\n",
       "<tr>\n",
       "  <th>Zipcode_98058</th>                   <td> 1.084e+05</td> <td> 1.86e+04</td> <td>    5.835</td> <td> 0.000</td> <td>  7.2e+04</td> <td> 1.45e+05</td>\n",
       "</tr>\n",
       "<tr>\n",
       "  <th>Zipcode_98059</th>                   <td> 2.837e+05</td> <td> 1.91e+04</td> <td>   14.873</td> <td> 0.000</td> <td> 2.46e+05</td> <td> 3.21e+05</td>\n",
       "</tr>\n",
       "<tr>\n",
       "  <th>Zipcode_98065</th>                   <td> 3.649e+05</td> <td> 3.46e+04</td> <td>   10.535</td> <td> 0.000</td> <td> 2.97e+05</td> <td> 4.33e+05</td>\n",
       "</tr>\n",
       "<tr>\n",
       "  <th>Zipcode_98070</th>                   <td> 2.644e+05</td> <td> 3.13e+04</td> <td>    8.446</td> <td> 0.000</td> <td> 2.03e+05</td> <td> 3.26e+05</td>\n",
       "</tr>\n",
       "<tr>\n",
       "  <th>Zipcode_98072</th>                   <td> 5.724e+05</td> <td> 2.23e+04</td> <td>   25.655</td> <td> 0.000</td> <td> 5.29e+05</td> <td> 6.16e+05</td>\n",
       "</tr>\n",
       "<tr>\n",
       "  <th>Zipcode_98074</th>                   <td> 6.788e+05</td> <td> 2.19e+04</td> <td>   30.998</td> <td> 0.000</td> <td> 6.36e+05</td> <td> 7.22e+05</td>\n",
       "</tr>\n",
       "<tr>\n",
       "  <th>Zipcode_98075</th>                   <td> 6.634e+05</td> <td> 2.23e+04</td> <td>   29.805</td> <td> 0.000</td> <td>  6.2e+05</td> <td> 7.07e+05</td>\n",
       "</tr>\n",
       "<tr>\n",
       "  <th>Zipcode_98077</th>                   <td> 5.421e+05</td> <td> 2.63e+04</td> <td>   20.617</td> <td> 0.000</td> <td> 4.91e+05</td> <td> 5.94e+05</td>\n",
       "</tr>\n",
       "<tr>\n",
       "  <th>Zipcode_98092</th>                   <td>-4.745e+04</td> <td> 1.91e+04</td> <td>   -2.483</td> <td> 0.013</td> <td>-8.49e+04</td> <td>-9998.236</td>\n",
       "</tr>\n",
       "<tr>\n",
       "  <th>Zipcode_98102</th>                   <td> 7.958e+05</td> <td> 3.12e+04</td> <td>   25.503</td> <td> 0.000</td> <td> 7.35e+05</td> <td> 8.57e+05</td>\n",
       "</tr>\n",
       "<tr>\n",
       "  <th>Zipcode_98103</th>                   <td>  6.62e+05</td> <td> 1.93e+04</td> <td>   34.262</td> <td> 0.000</td> <td> 6.24e+05</td> <td>    7e+05</td>\n",
       "</tr>\n",
       "<tr>\n",
       "  <th>Zipcode_98105</th>                   <td> 7.665e+05</td> <td> 2.35e+04</td> <td>   32.617</td> <td> 0.000</td> <td>  7.2e+05</td> <td> 8.13e+05</td>\n",
       "</tr>\n",
       "<tr>\n",
       "  <th>Zipcode_98106</th>                   <td> 2.592e+05</td> <td> 1.97e+04</td> <td>   13.182</td> <td> 0.000</td> <td> 2.21e+05</td> <td> 2.98e+05</td>\n",
       "</tr>\n",
       "<tr>\n",
       "  <th>Zipcode_98107</th>                   <td> 6.322e+05</td> <td> 2.12e+04</td> <td>   29.875</td> <td> 0.000</td> <td> 5.91e+05</td> <td> 6.74e+05</td>\n",
       "</tr>\n",
       "<tr>\n",
       "  <th>Zipcode_98108</th>                   <td> 2.908e+05</td> <td> 2.33e+04</td> <td>   12.478</td> <td> 0.000</td> <td> 2.45e+05</td> <td> 3.36e+05</td>\n",
       "</tr>\n",
       "<tr>\n",
       "  <th>Zipcode_98109</th>                   <td> 7.864e+05</td> <td> 3.24e+04</td> <td>   24.265</td> <td> 0.000</td> <td> 7.23e+05</td> <td>  8.5e+05</td>\n",
       "</tr>\n",
       "<tr>\n",
       "  <th>Zipcode_98112</th>                   <td> 9.218e+05</td> <td>  2.4e+04</td> <td>   38.408</td> <td> 0.000</td> <td> 8.75e+05</td> <td> 9.69e+05</td>\n",
       "</tr>\n",
       "<tr>\n",
       "  <th>Zipcode_98115</th>                   <td> 6.852e+05</td> <td> 1.99e+04</td> <td>   34.507</td> <td> 0.000</td> <td> 6.46e+05</td> <td> 7.24e+05</td>\n",
       "</tr>\n",
       "<tr>\n",
       "  <th>Zipcode_98116</th>                   <td> 5.135e+05</td> <td>  2.2e+04</td> <td>   23.340</td> <td> 0.000</td> <td>  4.7e+05</td> <td> 5.57e+05</td>\n",
       "</tr>\n",
       "<tr>\n",
       "  <th>Zipcode_98117</th>                   <td> 6.397e+05</td> <td> 1.96e+04</td> <td>   32.708</td> <td> 0.000</td> <td> 6.01e+05</td> <td> 6.78e+05</td>\n",
       "</tr>\n",
       "<tr>\n",
       "  <th>Zipcode_98118</th>                   <td>   3.5e+05</td> <td> 1.93e+04</td> <td>   18.161</td> <td> 0.000</td> <td> 3.12e+05</td> <td> 3.88e+05</td>\n",
       "</tr>\n",
       "<tr>\n",
       "  <th>Zipcode_98119</th>                   <td> 7.568e+05</td> <td> 2.57e+04</td> <td>   29.402</td> <td> 0.000</td> <td> 7.06e+05</td> <td> 8.07e+05</td>\n",
       "</tr>\n",
       "<tr>\n",
       "  <th>Zipcode_98122</th>                   <td> 5.899e+05</td> <td> 2.14e+04</td> <td>   27.564</td> <td> 0.000</td> <td> 5.48e+05</td> <td> 6.32e+05</td>\n",
       "</tr>\n",
       "<tr>\n",
       "  <th>Zipcode_98125</th>                   <td>  5.07e+05</td> <td> 2.34e+04</td> <td>   21.655</td> <td> 0.000</td> <td> 4.61e+05</td> <td> 5.53e+05</td>\n",
       "</tr>\n",
       "<tr>\n",
       "  <th>Zipcode_98126</th>                   <td> 3.487e+05</td> <td> 2.09e+04</td> <td>   16.696</td> <td> 0.000</td> <td> 3.08e+05</td> <td>  3.9e+05</td>\n",
       "</tr>\n",
       "<tr>\n",
       "  <th>Zipcode_98133</th>                   <td> 4.444e+05</td> <td> 2.35e+04</td> <td>   18.892</td> <td> 0.000</td> <td> 3.98e+05</td> <td>  4.9e+05</td>\n",
       "</tr>\n",
       "<tr>\n",
       "  <th>Zipcode_98136</th>                   <td> 4.839e+05</td> <td> 2.37e+04</td> <td>   20.387</td> <td> 0.000</td> <td> 4.37e+05</td> <td>  5.3e+05</td>\n",
       "</tr>\n",
       "<tr>\n",
       "  <th>Zipcode_98144</th>                   <td> 5.252e+05</td> <td> 2.13e+04</td> <td>   24.632</td> <td> 0.000</td> <td> 4.83e+05</td> <td> 5.67e+05</td>\n",
       "</tr>\n",
       "<tr>\n",
       "  <th>Zipcode_98146</th>                   <td> 2.901e+05</td> <td> 2.14e+04</td> <td>   13.566</td> <td> 0.000</td> <td> 2.48e+05</td> <td> 3.32e+05</td>\n",
       "</tr>\n",
       "<tr>\n",
       "  <th>Zipcode_98148</th>                   <td> 1.295e+05</td> <td>  3.6e+04</td> <td>    3.594</td> <td> 0.000</td> <td> 5.89e+04</td> <td>    2e+05</td>\n",
       "</tr>\n",
       "<tr>\n",
       "  <th>Zipcode_98155</th>                   <td> 4.905e+05</td> <td> 2.42e+04</td> <td>   20.267</td> <td> 0.000</td> <td> 4.43e+05</td> <td> 5.38e+05</td>\n",
       "</tr>\n",
       "<tr>\n",
       "  <th>Zipcode_98166</th>                   <td> 2.152e+05</td> <td> 2.26e+04</td> <td>    9.531</td> <td> 0.000</td> <td> 1.71e+05</td> <td> 2.59e+05</td>\n",
       "</tr>\n",
       "<tr>\n",
       "  <th>Zipcode_98168</th>                   <td> 1.199e+05</td> <td> 2.14e+04</td> <td>    5.598</td> <td> 0.000</td> <td> 7.79e+04</td> <td> 1.62e+05</td>\n",
       "</tr>\n",
       "<tr>\n",
       "  <th>Zipcode_98177</th>                   <td> 5.598e+05</td> <td> 2.71e+04</td> <td>   20.672</td> <td> 0.000</td> <td> 5.07e+05</td> <td> 6.13e+05</td>\n",
       "</tr>\n",
       "<tr>\n",
       "  <th>Zipcode_98178</th>                   <td> 1.359e+05</td> <td> 2.16e+04</td> <td>    6.302</td> <td> 0.000</td> <td> 9.36e+04</td> <td> 1.78e+05</td>\n",
       "</tr>\n",
       "<tr>\n",
       "  <th>Zipcode_98188</th>                   <td>   7.2e+04</td> <td> 2.69e+04</td> <td>    2.681</td> <td> 0.007</td> <td> 1.94e+04</td> <td> 1.25e+05</td>\n",
       "</tr>\n",
       "<tr>\n",
       "  <th>Zipcode_98198</th>                   <td> 6.221e+04</td> <td> 2.13e+04</td> <td>    2.928</td> <td> 0.003</td> <td> 2.06e+04</td> <td> 1.04e+05</td>\n",
       "</tr>\n",
       "<tr>\n",
       "  <th>Zipcode_98199</th>                   <td> 7.209e+05</td> <td> 2.17e+04</td> <td>   33.280</td> <td> 0.000</td> <td> 6.78e+05</td> <td> 7.63e+05</td>\n",
       "</tr>\n",
       "<tr>\n",
       "  <th>Zipcode_98223</th>                   <td> 1.372e+06</td> <td>    2e+05</td> <td>    6.875</td> <td> 0.000</td> <td> 9.81e+05</td> <td> 1.76e+06</td>\n",
       "</tr>\n",
       "<tr>\n",
       "  <th>Zipcode_98224</th>                   <td> 6.338e+05</td> <td> 2.19e+05</td> <td>    2.892</td> <td> 0.004</td> <td> 2.04e+05</td> <td> 1.06e+06</td>\n",
       "</tr>\n",
       "<tr>\n",
       "  <th>Zipcode_98251</th>                   <td> 8.392e+05</td> <td> 2.18e+05</td> <td>    3.853</td> <td> 0.000</td> <td> 4.12e+05</td> <td> 1.27e+06</td>\n",
       "</tr>\n",
       "<tr>\n",
       "  <th>Zipcode_98270</th>                   <td> 1.425e+06</td> <td>  3.4e+05</td> <td>    4.195</td> <td> 0.000</td> <td> 7.59e+05</td> <td> 2.09e+06</td>\n",
       "</tr>\n",
       "<tr>\n",
       "  <th>Zipcode_98271</th>                   <td> 1.021e+06</td> <td> 1.88e+05</td> <td>    5.441</td> <td> 0.000</td> <td> 6.53e+05</td> <td> 1.39e+06</td>\n",
       "</tr>\n",
       "<tr>\n",
       "  <th>Zipcode_98272</th>                   <td> 3.849e+05</td> <td> 1.37e+05</td> <td>    2.813</td> <td> 0.005</td> <td> 1.17e+05</td> <td> 6.53e+05</td>\n",
       "</tr>\n",
       "<tr>\n",
       "  <th>Zipcode_98288</th>                   <td> 7.196e+05</td> <td> 1.59e+05</td> <td>    4.525</td> <td> 0.000</td> <td> 4.08e+05</td> <td> 1.03e+06</td>\n",
       "</tr>\n",
       "<tr>\n",
       "  <th>Zipcode_98296</th>                   <td> 2.077e+05</td> <td> 3.25e+05</td> <td>    0.638</td> <td> 0.523</td> <td> -4.3e+05</td> <td> 8.46e+05</td>\n",
       "</tr>\n",
       "<tr>\n",
       "  <th>Zipcode_98338</th>                   <td> 1.029e+06</td> <td> 2.62e+05</td> <td>    3.926</td> <td> 0.000</td> <td> 5.15e+05</td> <td> 1.54e+06</td>\n",
       "</tr>\n",
       "<tr>\n",
       "  <th>Zipcode_98354</th>                   <td> 7.796e+04</td> <td>  6.9e+04</td> <td>    1.129</td> <td> 0.259</td> <td>-5.73e+04</td> <td> 2.13e+05</td>\n",
       "</tr>\n",
       "<tr>\n",
       "  <th>Zipcode_98372</th>                   <td> 6.763e+05</td> <td> 2.32e+05</td> <td>    2.912</td> <td> 0.004</td> <td> 2.21e+05</td> <td> 1.13e+06</td>\n",
       "</tr>\n",
       "<tr>\n",
       "  <th>Zipcode_98387</th>                   <td> 1.057e+06</td> <td> 3.39e+05</td> <td>    3.119</td> <td> 0.002</td> <td> 3.93e+05</td> <td> 1.72e+06</td>\n",
       "</tr>\n",
       "<tr>\n",
       "  <th>Zipcode_98422</th>                   <td>-3.842e+05</td> <td> 3.25e+05</td> <td>   -1.181</td> <td> 0.238</td> <td>-1.02e+06</td> <td> 2.54e+05</td>\n",
       "</tr>\n",
       "<tr>\n",
       "  <th>Zipcode_98663</th>                   <td> 3.639e+06</td> <td> 6.14e+05</td> <td>    5.929</td> <td> 0.000</td> <td> 2.44e+06</td> <td> 4.84e+06</td>\n",
       "</tr>\n",
       "<tr>\n",
       "  <th>grade_11 Excellent</th>              <td>   2.7e+05</td> <td> 1.89e+04</td> <td>   14.314</td> <td> 0.000</td> <td> 2.33e+05</td> <td> 3.07e+05</td>\n",
       "</tr>\n",
       "<tr>\n",
       "  <th>grade_12 Luxury</th>                 <td> 2.919e+05</td> <td> 3.21e+04</td> <td>    9.102</td> <td> 0.000</td> <td> 2.29e+05</td> <td> 3.55e+05</td>\n",
       "</tr>\n",
       "<tr>\n",
       "  <th>grade_13 Mansion</th>                <td> 2.894e+05</td> <td> 7.07e+04</td> <td>    4.092</td> <td> 0.000</td> <td> 1.51e+05</td> <td> 4.28e+05</td>\n",
       "</tr>\n",
       "<tr>\n",
       "  <th>grade_3 Poor</th>                    <td>-3.322e+05</td> <td> 1.14e+05</td> <td>   -2.926</td> <td> 0.003</td> <td>-5.55e+05</td> <td> -1.1e+05</td>\n",
       "</tr>\n",
       "<tr>\n",
       "  <th>grade_4 Low</th>                     <td>-3.257e+05</td> <td> 5.11e+04</td> <td>   -6.375</td> <td> 0.000</td> <td>-4.26e+05</td> <td>-2.26e+05</td>\n",
       "</tr>\n",
       "<tr>\n",
       "  <th>grade_5 Fair</th>                    <td>-4.012e+05</td> <td> 2.25e+04</td> <td>  -17.803</td> <td> 0.000</td> <td>-4.45e+05</td> <td>-3.57e+05</td>\n",
       "</tr>\n",
       "<tr>\n",
       "  <th>grade_6 Low Average</th>             <td>-4.368e+05</td> <td> 1.54e+04</td> <td>  -28.428</td> <td> 0.000</td> <td>-4.67e+05</td> <td>-4.07e+05</td>\n",
       "</tr>\n",
       "<tr>\n",
       "  <th>grade_7 Average</th>                 <td>-4.667e+05</td> <td> 1.28e+04</td> <td>  -36.555</td> <td> 0.000</td> <td>-4.92e+05</td> <td>-4.42e+05</td>\n",
       "</tr>\n",
       "<tr>\n",
       "  <th>grade_8 Good</th>                    <td>-4.073e+05</td> <td> 1.14e+04</td> <td>  -35.853</td> <td> 0.000</td> <td> -4.3e+05</td> <td>-3.85e+05</td>\n",
       "</tr>\n",
       "<tr>\n",
       "  <th>grade_9 Better</th>                  <td>-2.179e+05</td> <td>  1.1e+04</td> <td>  -19.825</td> <td> 0.000</td> <td>-2.39e+05</td> <td>-1.96e+05</td>\n",
       "</tr>\n",
       "</table>\n",
       "<table class=\"simpletable\">\n",
       "<tr>\n",
       "  <th>Omnibus:</th>       <td>9429.274</td> <th>  Durbin-Watson:     </th>  <td>   1.882</td> \n",
       "</tr>\n",
       "<tr>\n",
       "  <th>Prob(Omnibus):</th>  <td> 0.000</td>  <th>  Jarque-Bera (JB):  </th> <td>188922.376</td>\n",
       "</tr>\n",
       "<tr>\n",
       "  <th>Skew:</th>           <td> 1.058</td>  <th>  Prob(JB):          </th>  <td>    0.00</td> \n",
       "</tr>\n",
       "<tr>\n",
       "  <th>Kurtosis:</th>       <td>15.280</td>  <th>  Cond. No.          </th>  <td>1.29e+07</td> \n",
       "</tr>\n",
       "</table><br/><br/>Notes:<br/>[1] Standard Errors assume that the covariance matrix of the errors is correctly specified.<br/>[2] The condition number is large, 1.29e+07. This might indicate that there are<br/>strong multicollinearity or other numerical problems."
      ],
      "text/plain": [
       "<class 'statsmodels.iolib.summary.Summary'>\n",
       "\"\"\"\n",
       "                            OLS Regression Results                            \n",
       "==============================================================================\n",
       "Dep. Variable:                  price   R-squared:                       0.775\n",
       "Model:                            OLS   Adj. R-squared:                  0.774\n",
       "Method:                 Least Squares   F-statistic:                     786.8\n",
       "Date:                Wed, 28 Sep 2022   Prob (F-statistic):               0.00\n",
       "Time:                        16:54:36   Log-Likelihood:            -4.1193e+05\n",
       "No. Observations:               29200   AIC:                         8.241e+05\n",
       "Df Residuals:                   29072   BIC:                         8.252e+05\n",
       "Df Model:                         127                                         \n",
       "Covariance Type:            nonrobust                                         \n",
       "===================================================================================================\n",
       "                                      coef    std err          t      P>|t|      [0.025      0.975]\n",
       "---------------------------------------------------------------------------------------------------\n",
       "const                            1.106e+06   7.52e+05      1.472      0.141   -3.67e+05    2.58e+06\n",
       "bedrooms                        -2791.1888   2891.689     -0.965      0.334   -8459.030    2876.652\n",
       "bathrooms                        3.932e+04   4069.018      9.663      0.000    3.13e+04    4.73e+04\n",
       "sqft_living                       102.9338      7.839     13.132      0.000      87.570     118.298\n",
       "sqft_lot                            1.5819      0.087     18.239      0.000       1.412       1.752\n",
       "floors                          -6.507e+04   5563.549    -11.697      0.000    -7.6e+04   -5.42e+04\n",
       "sqft_above                        181.9318      8.547     21.287      0.000     165.180     198.684\n",
       "sqft_basement                      32.7385      6.497      5.039      0.000      20.004      45.473\n",
       "sqft_garage                        19.3589     10.239      1.891      0.059      -0.710      39.428\n",
       "sqft_patio                         28.7556      9.916      2.900      0.004       9.320      48.191\n",
       "yr_built                         -300.4944    371.903     -0.808      0.419   -1029.441     428.453\n",
       "yr_renovated                       46.3212     11.747      3.943      0.000      23.296      69.347\n",
       "yr_old                           -192.1435    374.307     -0.513      0.608    -925.802     541.515\n",
       "business_center                 -1.729e+04   2386.499     -7.246      0.000    -2.2e+04   -1.26e+04\n",
       "clinic                           9498.6951   2280.446      4.165      0.000    5028.917     1.4e+04\n",
       "closest_elem_schools            -2.151e+04   5182.660     -4.150      0.000   -3.17e+04   -1.13e+04\n",
       "waterfront_YES                   2.912e+05   1.78e+04     16.408      0.000    2.56e+05    3.26e+05\n",
       "greenbelt_YES                     4.72e+04   1.25e+04      3.788      0.000    2.28e+04    7.16e+04\n",
       "nuisance_YES                    -4.679e+04   5247.361     -8.917      0.000   -5.71e+04   -3.65e+04\n",
       "view_EXCELLENT                   4.231e+05   1.79e+04     23.645      0.000    3.88e+05    4.58e+05\n",
       "view_FAIR                        7.955e+04   2.35e+04      3.379      0.001    3.34e+04    1.26e+05\n",
       "view_GOOD                        9.993e+04   1.34e+04      7.433      0.000    7.36e+04    1.26e+05\n",
       "view_NONE                       -1.008e+05   8185.863    -12.308      0.000   -1.17e+05   -8.47e+04\n",
       "condition_Fair                  -9.336e+04   2.22e+04     -4.203      0.000   -1.37e+05   -4.98e+04\n",
       "condition_Good                   5.528e+04   4906.485     11.266      0.000    4.57e+04    6.49e+04\n",
       "condition_Poor                  -7.145e+04   4.31e+04     -1.659      0.097   -1.56e+05     1.3e+04\n",
       "condition_Very Good              1.165e+05   6865.576     16.965      0.000    1.03e+05     1.3e+05\n",
       "heat_source_Gas                  1.279e+04   4677.073      2.735      0.006    3625.183     2.2e+04\n",
       "heat_source_Gas/Solar             1.32e+05    3.4e+04      3.877      0.000    6.52e+04    1.99e+05\n",
       "sewer_system_PRIVATE RESTRICTED -4.172e+05   1.49e+05     -2.807      0.005   -7.08e+05   -1.26e+05\n",
       "sewer_system_PUBLIC              3.869e+04   7562.928      5.115      0.000    2.39e+04    5.35e+04\n",
       "Zipcode_98002                    2.568e+04   2.17e+04      1.182      0.237   -1.69e+04    6.83e+04\n",
       "Zipcode_98003                    5673.2926   2.04e+04      0.278      0.781   -3.43e+04    4.56e+04\n",
       "Zipcode_98004                     1.59e+06   2.31e+04     68.766      0.000    1.54e+06    1.64e+06\n",
       "Zipcode_98005                     1.06e+06    2.8e+04     37.828      0.000    1.01e+06    1.12e+06\n",
       "Zipcode_98006                    7.844e+05   1.99e+04     39.500      0.000    7.45e+05    8.23e+05\n",
       "Zipcode_98007                    7.056e+05   2.95e+04     23.935      0.000    6.48e+05    7.63e+05\n",
       "Zipcode_98008                    7.306e+05   2.12e+04     34.427      0.000    6.89e+05    7.72e+05\n",
       "Zipcode_98010                    5.968e+04   2.65e+04      2.252      0.024    7732.459    1.12e+05\n",
       "Zipcode_98011                    5.041e+05   2.47e+04     20.440      0.000    4.56e+05    5.52e+05\n",
       "Zipcode_98014                    2.315e+05    3.6e+04      6.423      0.000    1.61e+05    3.02e+05\n",
       "Zipcode_98019                     2.51e+05   3.01e+04      8.342      0.000    1.92e+05     3.1e+05\n",
       "Zipcode_98022                   -1.229e+05   3.06e+04     -4.020      0.000   -1.83e+05    -6.3e+04\n",
       "Zipcode_98023                    -2.01e+04   1.84e+04     -1.094      0.274   -5.61e+04    1.59e+04\n",
       "Zipcode_98024                    4.919e+05   3.85e+04     12.790      0.000    4.17e+05    5.67e+05\n",
       "Zipcode_98027                    4.552e+05   2.28e+04     19.974      0.000    4.11e+05       5e+05\n",
       "Zipcode_98028                    4.449e+05   2.32e+04     19.160      0.000    3.99e+05     4.9e+05\n",
       "Zipcode_98029                    6.126e+05   2.46e+04     24.926      0.000    5.64e+05    6.61e+05\n",
       "Zipcode_98030                    6.586e+04   2.28e+04      2.888      0.004    2.12e+04    1.11e+05\n",
       "Zipcode_98031                    5.955e+04   1.95e+04      3.052      0.002    2.13e+04    9.78e+04\n",
       "Zipcode_98032                    6.178e+04   2.76e+04      2.237      0.025    7659.230    1.16e+05\n",
       "Zipcode_98033                    1.109e+06   1.88e+04     58.999      0.000    1.07e+06    1.15e+06\n",
       "Zipcode_98034                    6.338e+05   1.85e+04     34.329      0.000    5.98e+05     6.7e+05\n",
       "Zipcode_98038                    1.976e+05   2.46e+04      8.044      0.000    1.49e+05    2.46e+05\n",
       "Zipcode_98039                     1.94e+06   4.51e+04     43.050      0.000    1.85e+06    2.03e+06\n",
       "Zipcode_98040                    1.172e+06   2.31e+04     50.858      0.000    1.13e+06    1.22e+06\n",
       "Zipcode_98042                     9.61e+04   2.04e+04      4.699      0.000     5.6e+04    1.36e+05\n",
       "Zipcode_98045                    3.144e+05   4.34e+04      7.250      0.000    2.29e+05    3.99e+05\n",
       "Zipcode_98047                    4.563e+04   3.95e+04      1.157      0.247   -3.17e+04    1.23e+05\n",
       "Zipcode_98050                    5.045e+05   2.31e+05      2.186      0.029    5.22e+04    9.57e+05\n",
       "Zipcode_98051                    9.176e+04   4.78e+04      1.918      0.055   -1997.826    1.86e+05\n",
       "Zipcode_98052                    7.553e+05   1.93e+04     39.063      0.000    7.17e+05    7.93e+05\n",
       "Zipcode_98053                    6.044e+05   2.35e+04     25.762      0.000    5.58e+05     6.5e+05\n",
       "Zipcode_98055                    8.022e+04   2.58e+04      3.115      0.002    2.97e+04    1.31e+05\n",
       "Zipcode_98056                    2.929e+05   1.95e+04     14.997      0.000    2.55e+05    3.31e+05\n",
       "Zipcode_98057                    9.154e+04   3.21e+04      2.852      0.004    2.86e+04    1.54e+05\n",
       "Zipcode_98058                    1.084e+05   1.86e+04      5.835      0.000     7.2e+04    1.45e+05\n",
       "Zipcode_98059                    2.837e+05   1.91e+04     14.873      0.000    2.46e+05    3.21e+05\n",
       "Zipcode_98065                    3.649e+05   3.46e+04     10.535      0.000    2.97e+05    4.33e+05\n",
       "Zipcode_98070                    2.644e+05   3.13e+04      8.446      0.000    2.03e+05    3.26e+05\n",
       "Zipcode_98072                    5.724e+05   2.23e+04     25.655      0.000    5.29e+05    6.16e+05\n",
       "Zipcode_98074                    6.788e+05   2.19e+04     30.998      0.000    6.36e+05    7.22e+05\n",
       "Zipcode_98075                    6.634e+05   2.23e+04     29.805      0.000     6.2e+05    7.07e+05\n",
       "Zipcode_98077                    5.421e+05   2.63e+04     20.617      0.000    4.91e+05    5.94e+05\n",
       "Zipcode_98092                   -4.745e+04   1.91e+04     -2.483      0.013   -8.49e+04   -9998.236\n",
       "Zipcode_98102                    7.958e+05   3.12e+04     25.503      0.000    7.35e+05    8.57e+05\n",
       "Zipcode_98103                     6.62e+05   1.93e+04     34.262      0.000    6.24e+05       7e+05\n",
       "Zipcode_98105                    7.665e+05   2.35e+04     32.617      0.000     7.2e+05    8.13e+05\n",
       "Zipcode_98106                    2.592e+05   1.97e+04     13.182      0.000    2.21e+05    2.98e+05\n",
       "Zipcode_98107                    6.322e+05   2.12e+04     29.875      0.000    5.91e+05    6.74e+05\n",
       "Zipcode_98108                    2.908e+05   2.33e+04     12.478      0.000    2.45e+05    3.36e+05\n",
       "Zipcode_98109                    7.864e+05   3.24e+04     24.265      0.000    7.23e+05     8.5e+05\n",
       "Zipcode_98112                    9.218e+05    2.4e+04     38.408      0.000    8.75e+05    9.69e+05\n",
       "Zipcode_98115                    6.852e+05   1.99e+04     34.507      0.000    6.46e+05    7.24e+05\n",
       "Zipcode_98116                    5.135e+05    2.2e+04     23.340      0.000     4.7e+05    5.57e+05\n",
       "Zipcode_98117                    6.397e+05   1.96e+04     32.708      0.000    6.01e+05    6.78e+05\n",
       "Zipcode_98118                      3.5e+05   1.93e+04     18.161      0.000    3.12e+05    3.88e+05\n",
       "Zipcode_98119                    7.568e+05   2.57e+04     29.402      0.000    7.06e+05    8.07e+05\n",
       "Zipcode_98122                    5.899e+05   2.14e+04     27.564      0.000    5.48e+05    6.32e+05\n",
       "Zipcode_98125                     5.07e+05   2.34e+04     21.655      0.000    4.61e+05    5.53e+05\n",
       "Zipcode_98126                    3.487e+05   2.09e+04     16.696      0.000    3.08e+05     3.9e+05\n",
       "Zipcode_98133                    4.444e+05   2.35e+04     18.892      0.000    3.98e+05     4.9e+05\n",
       "Zipcode_98136                    4.839e+05   2.37e+04     20.387      0.000    4.37e+05     5.3e+05\n",
       "Zipcode_98144                    5.252e+05   2.13e+04     24.632      0.000    4.83e+05    5.67e+05\n",
       "Zipcode_98146                    2.901e+05   2.14e+04     13.566      0.000    2.48e+05    3.32e+05\n",
       "Zipcode_98148                    1.295e+05    3.6e+04      3.594      0.000    5.89e+04       2e+05\n",
       "Zipcode_98155                    4.905e+05   2.42e+04     20.267      0.000    4.43e+05    5.38e+05\n",
       "Zipcode_98166                    2.152e+05   2.26e+04      9.531      0.000    1.71e+05    2.59e+05\n",
       "Zipcode_98168                    1.199e+05   2.14e+04      5.598      0.000    7.79e+04    1.62e+05\n",
       "Zipcode_98177                    5.598e+05   2.71e+04     20.672      0.000    5.07e+05    6.13e+05\n",
       "Zipcode_98178                    1.359e+05   2.16e+04      6.302      0.000    9.36e+04    1.78e+05\n",
       "Zipcode_98188                      7.2e+04   2.69e+04      2.681      0.007    1.94e+04    1.25e+05\n",
       "Zipcode_98198                    6.221e+04   2.13e+04      2.928      0.003    2.06e+04    1.04e+05\n",
       "Zipcode_98199                    7.209e+05   2.17e+04     33.280      0.000    6.78e+05    7.63e+05\n",
       "Zipcode_98223                    1.372e+06      2e+05      6.875      0.000    9.81e+05    1.76e+06\n",
       "Zipcode_98224                    6.338e+05   2.19e+05      2.892      0.004    2.04e+05    1.06e+06\n",
       "Zipcode_98251                    8.392e+05   2.18e+05      3.853      0.000    4.12e+05    1.27e+06\n",
       "Zipcode_98270                    1.425e+06    3.4e+05      4.195      0.000    7.59e+05    2.09e+06\n",
       "Zipcode_98271                    1.021e+06   1.88e+05      5.441      0.000    6.53e+05    1.39e+06\n",
       "Zipcode_98272                    3.849e+05   1.37e+05      2.813      0.005    1.17e+05    6.53e+05\n",
       "Zipcode_98288                    7.196e+05   1.59e+05      4.525      0.000    4.08e+05    1.03e+06\n",
       "Zipcode_98296                    2.077e+05   3.25e+05      0.638      0.523    -4.3e+05    8.46e+05\n",
       "Zipcode_98338                    1.029e+06   2.62e+05      3.926      0.000    5.15e+05    1.54e+06\n",
       "Zipcode_98354                    7.796e+04    6.9e+04      1.129      0.259   -5.73e+04    2.13e+05\n",
       "Zipcode_98372                    6.763e+05   2.32e+05      2.912      0.004    2.21e+05    1.13e+06\n",
       "Zipcode_98387                    1.057e+06   3.39e+05      3.119      0.002    3.93e+05    1.72e+06\n",
       "Zipcode_98422                   -3.842e+05   3.25e+05     -1.181      0.238   -1.02e+06    2.54e+05\n",
       "Zipcode_98663                    3.639e+06   6.14e+05      5.929      0.000    2.44e+06    4.84e+06\n",
       "grade_11 Excellent                 2.7e+05   1.89e+04     14.314      0.000    2.33e+05    3.07e+05\n",
       "grade_12 Luxury                  2.919e+05   3.21e+04      9.102      0.000    2.29e+05    3.55e+05\n",
       "grade_13 Mansion                 2.894e+05   7.07e+04      4.092      0.000    1.51e+05    4.28e+05\n",
       "grade_3 Poor                    -3.322e+05   1.14e+05     -2.926      0.003   -5.55e+05    -1.1e+05\n",
       "grade_4 Low                     -3.257e+05   5.11e+04     -6.375      0.000   -4.26e+05   -2.26e+05\n",
       "grade_5 Fair                    -4.012e+05   2.25e+04    -17.803      0.000   -4.45e+05   -3.57e+05\n",
       "grade_6 Low Average             -4.368e+05   1.54e+04    -28.428      0.000   -4.67e+05   -4.07e+05\n",
       "grade_7 Average                 -4.667e+05   1.28e+04    -36.555      0.000   -4.92e+05   -4.42e+05\n",
       "grade_8 Good                    -4.073e+05   1.14e+04    -35.853      0.000    -4.3e+05   -3.85e+05\n",
       "grade_9 Better                  -2.179e+05    1.1e+04    -19.825      0.000   -2.39e+05   -1.96e+05\n",
       "==============================================================================\n",
       "Omnibus:                     9429.274   Durbin-Watson:                   1.882\n",
       "Prob(Omnibus):                  0.000   Jarque-Bera (JB):           188922.376\n",
       "Skew:                           1.058   Prob(JB):                         0.00\n",
       "Kurtosis:                      15.280   Cond. No.                     1.29e+07\n",
       "==============================================================================\n",
       "\n",
       "Notes:\n",
       "[1] Standard Errors assume that the covariance matrix of the errors is correctly specified.\n",
       "[2] The condition number is large, 1.29e+07. This might indicate that there are\n",
       "strong multicollinearity or other numerical problems.\n",
       "\"\"\""
      ]
     },
     "execution_count": 97,
     "metadata": {},
     "output_type": "execute_result"
    }
   ],
   "source": [
    "X1=dum_df.drop(labels=['selldate', 'price', 'address', \n",
    "                       'sewer_system_PUBLIC RESTRICTED',\n",
    "                      'heat_source_Oil', 'heat_source_Oil/Solar', 'heat_source_Other',\n",
    "                       'grade_2 Substandard', 'heat_source_Electricity/Solar', 'lat', 'long'], axis=1)\n",
    "y=dum_df.price\n",
    "\n",
    "model_1 = sm.OLS(y, sm.add_constant(X1))\n",
    "results1 = model_1.fit()\n",
    "results1.summary()"
   ]
  },
  {
   "cell_type": "code",
   "execution_count": null,
   "metadata": {},
   "outputs": [],
   "source": [
    "mae = mean_absolute_error(y, results1.predict(sm.add_constant(X1)))\n",
    "mae"
   ]
  },
  {
   "cell_type": "markdown",
   "metadata": {},
   "source": [
    "Well, we have a much higher R-squared number after incorporating the dummified categorical predictors, as this model claims to explain 64 percent of the variance in `price`.   The constant is no longer statistically significant, so we need to adjust our figures to more accurately account for why that is happening.  We should next remove columns that are statistically significant.  "
   ]
  },
  {
   "cell_type": "code",
   "execution_count": null,
   "metadata": {},
   "outputs": [],
   "source": [
    "def backward_regression(X1, y,\n",
    "                        initial_list=[], \n",
    "                        threshold_in=0.01, \n",
    "                        threshold_out = 0.05, \n",
    "                        verbose=True):\n",
    "    included=list(X1.columns)\n",
    "    while True:\n",
    "        changed=False\n",
    "        model = sm.OLS(y, sm.add_constant(pd.DataFrame(X1[included]))).fit()\n",
    "        # use all coefs except intercept\n",
    "        pvalues = model.pvalues.iloc[1:]\n",
    "        worst_pval = pvalues.max() # null if pvalues is empty\n",
    "        if worst_pval > threshold_out:\n",
    "            changed=True\n",
    "            worst_feature = pvalues.idxmax()\n",
    "            included.remove(worst_feature)\n",
    "            if verbose:\n",
    "                print(worst_feature, worst_pval)\n",
    "        if not changed:\n",
    "            break\n",
    "    return included\n",
    "\n",
    "(backward_regression(X1, y))"
   ]
  },
  {
   "cell_type": "code",
   "execution_count": null,
   "metadata": {},
   "outputs": [],
   "source": [
    "included = ['bathrooms',\n",
    " 'sqft_living',\n",
    " 'sqft_lot',\n",
    " 'sqft_above',\n",
    " 'sqft_basement',\n",
    " 'sqft_garage',\n",
    " 'sqft_patio',\n",
    " 'yr_built',\n",
    " 'yr_renovated',\n",
    " 'lat',\n",
    " 'long',\n",
    " 'business_center',\n",
    " 'clinic',\n",
    " 'closest_elem_schools',\n",
    " 'waterfront_YES',\n",
    " 'greenbelt_YES',\n",
    " 'nuisance_YES',\n",
    " 'view_EXCELLENT',\n",
    " 'view_FAIR',\n",
    " 'view_GOOD',\n",
    " 'view_NONE',\n",
    " 'condition_Fair',\n",
    " 'condition_Good',\n",
    " 'condition_Very Good',\n",
    " 'heat_source_Gas',\n",
    " 'heat_source_Gas/Solar',\n",
    " 'sewer_system_PRIVATE RESTRICTED',\n",
    " 'sewer_system_PUBLIC',\n",
    " 'Zipcode_98002',\n",
    " 'Zipcode_98004',\n",
    " 'Zipcode_98005',\n",
    " 'Zipcode_98006',\n",
    " 'Zipcode_98007',\n",
    " 'Zipcode_98008',\n",
    " 'Zipcode_98010',\n",
    " 'Zipcode_98011',\n",
    " 'Zipcode_98014',\n",
    " 'Zipcode_98019',\n",
    " 'Zipcode_98023',\n",
    " 'Zipcode_98024',\n",
    " 'Zipcode_98027',\n",
    " 'Zipcode_98028',\n",
    " 'Zipcode_98029',\n",
    " 'Zipcode_98030',\n",
    " 'Zipcode_98031',\n",
    " 'Zipcode_98033',\n",
    " 'Zipcode_98034',\n",
    " 'Zipcode_98038',\n",
    " 'Zipcode_98039',\n",
    " 'Zipcode_98040',\n",
    " 'Zipcode_98042',\n",
    " 'Zipcode_98045',\n",
    " 'Zipcode_98051',\n",
    " 'Zipcode_98052',\n",
    " 'Zipcode_98053',\n",
    " 'Zipcode_98056',\n",
    " 'Zipcode_98058',\n",
    " 'Zipcode_98059',\n",
    " 'Zipcode_98065',\n",
    " 'Zipcode_98072',\n",
    " 'Zipcode_98074',\n",
    " 'Zipcode_98075',\n",
    " 'Zipcode_98077',\n",
    " 'Zipcode_98102',\n",
    " 'Zipcode_98103',\n",
    " 'Zipcode_98105',\n",
    " 'Zipcode_98106',\n",
    " 'Zipcode_98107',\n",
    " 'Zipcode_98108',\n",
    " 'Zipcode_98109',\n",
    " 'Zipcode_98112',\n",
    " 'Zipcode_98115',\n",
    " 'Zipcode_98116',\n",
    " 'Zipcode_98117',\n",
    " 'Zipcode_98118',\n",
    " 'Zipcode_98119',\n",
    " 'Zipcode_98122',\n",
    " 'Zipcode_98125',\n",
    " 'Zipcode_98126',\n",
    " 'Zipcode_98133',\n",
    " 'Zipcode_98136',\n",
    " 'Zipcode_98144',\n",
    " 'Zipcode_98146',\n",
    " 'Zipcode_98155',\n",
    " 'Zipcode_98166',\n",
    " 'Zipcode_98177',\n",
    " 'Zipcode_98199',\n",
    " 'Zipcode_98223',\n",
    " 'Zipcode_98251',\n",
    " 'Zipcode_98270',\n",
    " 'Zipcode_98288',\n",
    " 'Zipcode_98338',\n",
    " 'Zipcode_98372',\n",
    " 'Zipcode_98387',\n",
    " 'Zipcode_98663',\n",
    " 'grade_11 Excellent',\n",
    " 'grade_12 Luxury',\n",
    " 'grade_13 Mansion',\n",
    " 'grade_3 Poor',\n",
    " 'grade_4 Low',\n",
    " 'grade_5 Fair',\n",
    " 'grade_6 Low Average',\n",
    " 'grade_7 Average',\n",
    " 'grade_8 Good',\n",
    " 'grade_9 Better']"
   ]
  },
  {
   "cell_type": "code",
   "execution_count": null,
   "metadata": {},
   "outputs": [],
   "source": [
    "Out = [x for x in X1.columns if x not in included]\n",
    "Out"
   ]
  },
  {
   "cell_type": "code",
   "execution_count": null,
   "metadata": {},
   "outputs": [],
   "source": [
    "\n",
    "cats = df[['waterfront','greenbelt', 'nuisance', 'view', 'condition', 'heat_source', 'sewer_system', 'grade', 'Zipcode']]\n",
    "cats1 = df[['selldate','price','waterfront','greenbelt', 'nuisance', 'view', 'condition', 'heat_source', 'sewer_system', 'address', 'Zipcode', 'grade']]"
   ]
  },
  {
   "cell_type": "code",
   "execution_count": null,
   "metadata": {},
   "outputs": [],
   "source": [
    "cat_cols = cats.columns\n",
    "dum_df1 = pd.get_dummies(data=df, columns=cat_cols, drop_first=True)"
   ]
  },
  {
   "cell_type": "code",
   "execution_count": null,
   "metadata": {
    "scrolled": true
   },
   "outputs": [],
   "source": [
    "# # running our model with dummified predictors\n",
    "X1=X1.drop(labels=Out, axis=1)\n",
    "y=df.price\n",
    "\n",
    "model_1 = sm.OLS(y, sm.add_constant(X1))\n",
    "results1 = model_1.fit()\n",
    "results1.summary()"
   ]
  },
  {
   "cell_type": "code",
   "execution_count": null,
   "metadata": {},
   "outputs": [],
   "source": [
    "mae = mean_absolute_error(y, results1.predict(sm.add_constant(X1)))\n",
    "mae"
   ]
  },
  {
   "cell_type": "code",
   "execution_count": null,
   "metadata": {
    "scrolled": false
   },
   "outputs": [],
   "source": [
    "# scaler = StandardScaler()\n",
    "\n",
    "# X_scaled = pd.DataFrame(scaler.fit_transform(X1), columns=X1.columns)\n",
    "# X_scaled.head()\n",
    "\n",
    "# model_scaled = sm.OLS(y.values, sm.add_constant(X_scaled)).fit()\n",
    "# model_scaled.summary()\n",
    "\n",
    "# # X = sm.add_constant(X.values)\n",
    "# # result = sm.OLS(Y.values, X).fit()"
   ]
  },
  {
   "cell_type": "code",
   "execution_count": null,
   "metadata": {},
   "outputs": [],
   "source": [
    "# X_log."
   ]
  },
  {
   "cell_type": "markdown",
   "metadata": {},
   "source": [
    "## Addressing Multicolinerity"
   ]
  },
  {
   "cell_type": "code",
   "execution_count": null,
   "metadata": {},
   "outputs": [],
   "source": [
    "X1.corr()"
   ]
  },
  {
   "cell_type": "code",
   "execution_count": null,
   "metadata": {},
   "outputs": [],
   "source": [
    "abs(X1.corr()) > .75"
   ]
  },
  {
   "cell_type": "code",
   "execution_count": null,
   "metadata": {},
   "outputs": [],
   "source": [
    "X2 = X1.corr().abs().stack().reset_index().sort_values(0, ascending=False)\n",
    "X2['pairs'] = list(zip(X2.level_0, X2.level_1))\n",
    "X2.set_index(['pairs'], inplace=True)\n",
    "X2.drop(columns=['level_1', 'level_0'], inplace = True)\n",
    "X2.columns = ['cc']\n",
    "X2.drop_duplicates(inplace=True)\n",
    "X2[(X2.cc>.75) & (X2.cc<1)]"
   ]
  },
  {
   "cell_type": "code",
   "execution_count": null,
   "metadata": {},
   "outputs": [],
   "source": [
    "# X1.drop(columns=['sqf'], inplace=True)"
   ]
  },
  {
   "cell_type": "code",
   "execution_count": null,
   "metadata": {
    "scrolled": false
   },
   "outputs": [],
   "source": [
    "model_1 = sm.OLS(y, sm.add_constant(X1))\n",
    "results1 = model_1.fit()\n",
    "results1.summary()"
   ]
  },
  {
   "cell_type": "code",
   "execution_count": null,
   "metadata": {},
   "outputs": [],
   "source": [
    "mae = mean_absolute_error(y, results1.predict(sm.add_constant(X1)))\n",
    "mae"
   ]
  },
  {
   "cell_type": "code",
   "execution_count": null,
   "metadata": {},
   "outputs": [],
   "source": [
    "y_"
   ]
  },
  {
   "cell_type": "markdown",
   "metadata": {},
   "source": [
    "## Categorical Variables"
   ]
  },
  {
   "cell_type": "markdown",
   "metadata": {},
   "source": [
    "## Log Transformation of Lot Area and Price"
   ]
  },
  {
   "cell_type": "markdown",
   "metadata": {},
   "source": [
    "With price and log seemingly skewed heavily to the right and having exponential curvature on the rise side, it may be easier to see the relationship if we log both variables.  "
   ]
  },
  {
   "cell_type": "code",
   "execution_count": 206,
   "metadata": {},
   "outputs": [
    {
     "data": {
      "text/html": [
       "<div>\n",
       "<style scoped>\n",
       "    .dataframe tbody tr th:only-of-type {\n",
       "        vertical-align: middle;\n",
       "    }\n",
       "\n",
       "    .dataframe tbody tr th {\n",
       "        vertical-align: top;\n",
       "    }\n",
       "\n",
       "    .dataframe thead th {\n",
       "        text-align: right;\n",
       "    }\n",
       "</style>\n",
       "<table border=\"1\" class=\"dataframe\">\n",
       "  <thead>\n",
       "    <tr style=\"text-align: right;\">\n",
       "      <th></th>\n",
       "      <th>sqft_lot</th>\n",
       "      <th>log(sqft_lot)</th>\n",
       "    </tr>\n",
       "  </thead>\n",
       "  <tbody>\n",
       "    <tr>\n",
       "      <th>0</th>\n",
       "      <td>7140</td>\n",
       "      <td>8.873468</td>\n",
       "    </tr>\n",
       "    <tr>\n",
       "      <th>1</th>\n",
       "      <td>6703</td>\n",
       "      <td>8.810310</td>\n",
       "    </tr>\n",
       "    <tr>\n",
       "      <th>2</th>\n",
       "      <td>6156</td>\n",
       "      <td>8.725182</td>\n",
       "    </tr>\n",
       "    <tr>\n",
       "      <th>3</th>\n",
       "      <td>1400</td>\n",
       "      <td>7.244228</td>\n",
       "    </tr>\n",
       "    <tr>\n",
       "      <th>4</th>\n",
       "      <td>758</td>\n",
       "      <td>6.630683</td>\n",
       "    </tr>\n",
       "    <tr>\n",
       "      <th>...</th>\n",
       "      <td>...</td>\n",
       "      <td>...</td>\n",
       "    </tr>\n",
       "    <tr>\n",
       "      <th>30150</th>\n",
       "      <td>4000</td>\n",
       "      <td>8.294050</td>\n",
       "    </tr>\n",
       "    <tr>\n",
       "      <th>30151</th>\n",
       "      <td>5800</td>\n",
       "      <td>8.665613</td>\n",
       "    </tr>\n",
       "    <tr>\n",
       "      <th>30152</th>\n",
       "      <td>3600</td>\n",
       "      <td>8.188689</td>\n",
       "    </tr>\n",
       "    <tr>\n",
       "      <th>30153</th>\n",
       "      <td>2889</td>\n",
       "      <td>7.968666</td>\n",
       "    </tr>\n",
       "    <tr>\n",
       "      <th>30154</th>\n",
       "      <td>11058</td>\n",
       "      <td>9.310909</td>\n",
       "    </tr>\n",
       "  </tbody>\n",
       "</table>\n",
       "<p>29200 rows × 2 columns</p>\n",
       "</div>"
      ],
      "text/plain": [
       "       sqft_lot  log(sqft_lot)\n",
       "0          7140       8.873468\n",
       "1          6703       8.810310\n",
       "2          6156       8.725182\n",
       "3          1400       7.244228\n",
       "4           758       6.630683\n",
       "...         ...            ...\n",
       "30150      4000       8.294050\n",
       "30151      5800       8.665613\n",
       "30152      3600       8.188689\n",
       "30153      2889       7.968666\n",
       "30154     11058       9.310909\n",
       "\n",
       "[29200 rows x 2 columns]"
      ]
     },
     "execution_count": 206,
     "metadata": {},
     "output_type": "execute_result"
    }
   ],
   "source": [
    "x_sqft_log = X.copy()\n",
    "x_sqft_log['log(sqft_lot)'] = np.log(x_sqft_log['sqft_lot'])\n",
    "x_sqft_log[['sqft_lot', 'log(sqft_lot)']]"
   ]
  },
  {
   "cell_type": "code",
   "execution_count": 128,
   "metadata": {
    "scrolled": true
   },
   "outputs": [
    {
     "data": {
      "image/png": "[encoded data removed]",
      "text/plain": [
       "<Figure size 504x216 with 2 Axes>"
      ]
     },
     "metadata": {
      "needs_background": "light"
     },
     "output_type": "display_data"
    }
   ],
   "source": [
    "fig, (ax1, ax2) = plt.subplots(ncols=2, figsize=(7,3))\n",
    "ax1.hist(x_sqft_log['sqft_lot'])\n",
    "ax1.set_xlabel(\"sqft_lot\")\n",
    "ax2.hist(x_sqft_log['log(sqft_lot)'], color = 'orange')\n",
    "ax2.set_xlabel(\"log(sqft_lot)\");"
   ]
  },
  {
   "cell_type": "code",
   "execution_count": 208,
   "metadata": {},
   "outputs": [
    {
     "ename": "KeyError",
     "evalue": "\"['sqft_lot'] not found in axis\"",
     "output_type": "error",
     "traceback": [
      "\u001b[0;31m---------------------------------------------------------------------------\u001b[0m",
      "\u001b[0;31mKeyError\u001b[0m                                  Traceback (most recent call last)",
      "Input \u001b[0;32mIn [208]\u001b[0m, in \u001b[0;36m<cell line: 1>\u001b[0;34m()\u001b[0m\n\u001b[0;32m----> 1\u001b[0m \u001b[43mx_sqft_log\u001b[49m\u001b[38;5;241;43m.\u001b[39;49m\u001b[43mdrop\u001b[49m\u001b[43m(\u001b[49m\u001b[38;5;124;43m'\u001b[39;49m\u001b[38;5;124;43msqft_lot\u001b[39;49m\u001b[38;5;124;43m'\u001b[39;49m\u001b[43m,\u001b[49m\u001b[43m \u001b[49m\u001b[43maxis\u001b[49m\u001b[38;5;241;43m=\u001b[39;49m\u001b[38;5;241;43m1\u001b[39;49m\u001b[43m,\u001b[49m\u001b[43m \u001b[49m\u001b[43minplace\u001b[49m\u001b[38;5;241;43m=\u001b[39;49m\u001b[38;5;28;43;01mTrue\u001b[39;49;00m\u001b[43m)\u001b[49m\n\u001b[1;32m      2\u001b[0m x_sqft_log\n",
      "File \u001b[0;32m~/opt/anaconda3/lib/python3.9/site-packages/pandas/util/_decorators.py:311\u001b[0m, in \u001b[0;36mdeprecate_nonkeyword_arguments.<locals>.decorate.<locals>.wrapper\u001b[0;34m(*args, **kwargs)\u001b[0m\n\u001b[1;32m    305\u001b[0m \u001b[38;5;28;01mif\u001b[39;00m \u001b[38;5;28mlen\u001b[39m(args) \u001b[38;5;241m>\u001b[39m num_allow_args:\n\u001b[1;32m    306\u001b[0m     warnings\u001b[38;5;241m.\u001b[39mwarn(\n\u001b[1;32m    307\u001b[0m         msg\u001b[38;5;241m.\u001b[39mformat(arguments\u001b[38;5;241m=\u001b[39marguments),\n\u001b[1;32m    308\u001b[0m         \u001b[38;5;167;01mFutureWarning\u001b[39;00m,\n\u001b[1;32m    309\u001b[0m         stacklevel\u001b[38;5;241m=\u001b[39mstacklevel,\n\u001b[1;32m    310\u001b[0m     )\n\u001b[0;32m--> 311\u001b[0m \u001b[38;5;28;01mreturn\u001b[39;00m \u001b[43mfunc\u001b[49m\u001b[43m(\u001b[49m\u001b[38;5;241;43m*\u001b[39;49m\u001b[43margs\u001b[49m\u001b[43m,\u001b[49m\u001b[43m \u001b[49m\u001b[38;5;241;43m*\u001b[39;49m\u001b[38;5;241;43m*\u001b[39;49m\u001b[43mkwargs\u001b[49m\u001b[43m)\u001b[49m\n",
      "File \u001b[0;32m~/opt/anaconda3/lib/python3.9/site-packages/pandas/core/frame.py:4954\u001b[0m, in \u001b[0;36mDataFrame.drop\u001b[0;34m(self, labels, axis, index, columns, level, inplace, errors)\u001b[0m\n\u001b[1;32m   4806\u001b[0m \u001b[38;5;129m@deprecate_nonkeyword_arguments\u001b[39m(version\u001b[38;5;241m=\u001b[39m\u001b[38;5;28;01mNone\u001b[39;00m, allowed_args\u001b[38;5;241m=\u001b[39m[\u001b[38;5;124m\"\u001b[39m\u001b[38;5;124mself\u001b[39m\u001b[38;5;124m\"\u001b[39m, \u001b[38;5;124m\"\u001b[39m\u001b[38;5;124mlabels\u001b[39m\u001b[38;5;124m\"\u001b[39m])\n\u001b[1;32m   4807\u001b[0m \u001b[38;5;28;01mdef\u001b[39;00m \u001b[38;5;21mdrop\u001b[39m(\n\u001b[1;32m   4808\u001b[0m     \u001b[38;5;28mself\u001b[39m,\n\u001b[0;32m   (...)\u001b[0m\n\u001b[1;32m   4815\u001b[0m     errors: \u001b[38;5;28mstr\u001b[39m \u001b[38;5;241m=\u001b[39m \u001b[38;5;124m\"\u001b[39m\u001b[38;5;124mraise\u001b[39m\u001b[38;5;124m\"\u001b[39m,\n\u001b[1;32m   4816\u001b[0m ):\n\u001b[1;32m   4817\u001b[0m     \u001b[38;5;124;03m\"\"\"\u001b[39;00m\n\u001b[1;32m   4818\u001b[0m \u001b[38;5;124;03m    Drop specified labels from rows or columns.\u001b[39;00m\n\u001b[1;32m   4819\u001b[0m \n\u001b[0;32m   (...)\u001b[0m\n\u001b[1;32m   4952\u001b[0m \u001b[38;5;124;03m            weight  1.0     0.8\u001b[39;00m\n\u001b[1;32m   4953\u001b[0m \u001b[38;5;124;03m    \"\"\"\u001b[39;00m\n\u001b[0;32m-> 4954\u001b[0m     \u001b[38;5;28;01mreturn\u001b[39;00m \u001b[38;5;28;43msuper\u001b[39;49m\u001b[43m(\u001b[49m\u001b[43m)\u001b[49m\u001b[38;5;241;43m.\u001b[39;49m\u001b[43mdrop\u001b[49m\u001b[43m(\u001b[49m\n\u001b[1;32m   4955\u001b[0m \u001b[43m        \u001b[49m\u001b[43mlabels\u001b[49m\u001b[38;5;241;43m=\u001b[39;49m\u001b[43mlabels\u001b[49m\u001b[43m,\u001b[49m\n\u001b[1;32m   4956\u001b[0m \u001b[43m        \u001b[49m\u001b[43maxis\u001b[49m\u001b[38;5;241;43m=\u001b[39;49m\u001b[43maxis\u001b[49m\u001b[43m,\u001b[49m\n\u001b[1;32m   4957\u001b[0m \u001b[43m        \u001b[49m\u001b[43mindex\u001b[49m\u001b[38;5;241;43m=\u001b[39;49m\u001b[43mindex\u001b[49m\u001b[43m,\u001b[49m\n\u001b[1;32m   4958\u001b[0m \u001b[43m        \u001b[49m\u001b[43mcolumns\u001b[49m\u001b[38;5;241;43m=\u001b[39;49m\u001b[43mcolumns\u001b[49m\u001b[43m,\u001b[49m\n\u001b[1;32m   4959\u001b[0m \u001b[43m        \u001b[49m\u001b[43mlevel\u001b[49m\u001b[38;5;241;43m=\u001b[39;49m\u001b[43mlevel\u001b[49m\u001b[43m,\u001b[49m\n\u001b[1;32m   4960\u001b[0m \u001b[43m        \u001b[49m\u001b[43minplace\u001b[49m\u001b[38;5;241;43m=\u001b[39;49m\u001b[43minplace\u001b[49m\u001b[43m,\u001b[49m\n\u001b[1;32m   4961\u001b[0m \u001b[43m        \u001b[49m\u001b[43merrors\u001b[49m\u001b[38;5;241;43m=\u001b[39;49m\u001b[43merrors\u001b[49m\u001b[43m,\u001b[49m\n\u001b[1;32m   4962\u001b[0m \u001b[43m    \u001b[49m\u001b[43m)\u001b[49m\n",
      "File \u001b[0;32m~/opt/anaconda3/lib/python3.9/site-packages/pandas/core/generic.py:4267\u001b[0m, in \u001b[0;36mNDFrame.drop\u001b[0;34m(self, labels, axis, index, columns, level, inplace, errors)\u001b[0m\n\u001b[1;32m   4265\u001b[0m \u001b[38;5;28;01mfor\u001b[39;00m axis, labels \u001b[38;5;129;01min\u001b[39;00m axes\u001b[38;5;241m.\u001b[39mitems():\n\u001b[1;32m   4266\u001b[0m     \u001b[38;5;28;01mif\u001b[39;00m labels \u001b[38;5;129;01mis\u001b[39;00m \u001b[38;5;129;01mnot\u001b[39;00m \u001b[38;5;28;01mNone\u001b[39;00m:\n\u001b[0;32m-> 4267\u001b[0m         obj \u001b[38;5;241m=\u001b[39m \u001b[43mobj\u001b[49m\u001b[38;5;241;43m.\u001b[39;49m\u001b[43m_drop_axis\u001b[49m\u001b[43m(\u001b[49m\u001b[43mlabels\u001b[49m\u001b[43m,\u001b[49m\u001b[43m \u001b[49m\u001b[43maxis\u001b[49m\u001b[43m,\u001b[49m\u001b[43m \u001b[49m\u001b[43mlevel\u001b[49m\u001b[38;5;241;43m=\u001b[39;49m\u001b[43mlevel\u001b[49m\u001b[43m,\u001b[49m\u001b[43m \u001b[49m\u001b[43merrors\u001b[49m\u001b[38;5;241;43m=\u001b[39;49m\u001b[43merrors\u001b[49m\u001b[43m)\u001b[49m\n\u001b[1;32m   4269\u001b[0m \u001b[38;5;28;01mif\u001b[39;00m inplace:\n\u001b[1;32m   4270\u001b[0m     \u001b[38;5;28mself\u001b[39m\u001b[38;5;241m.\u001b[39m_update_inplace(obj)\n",
      "File \u001b[0;32m~/opt/anaconda3/lib/python3.9/site-packages/pandas/core/generic.py:4311\u001b[0m, in \u001b[0;36mNDFrame._drop_axis\u001b[0;34m(self, labels, axis, level, errors, consolidate, only_slice)\u001b[0m\n\u001b[1;32m   4309\u001b[0m         new_axis \u001b[38;5;241m=\u001b[39m axis\u001b[38;5;241m.\u001b[39mdrop(labels, level\u001b[38;5;241m=\u001b[39mlevel, errors\u001b[38;5;241m=\u001b[39merrors)\n\u001b[1;32m   4310\u001b[0m     \u001b[38;5;28;01melse\u001b[39;00m:\n\u001b[0;32m-> 4311\u001b[0m         new_axis \u001b[38;5;241m=\u001b[39m \u001b[43maxis\u001b[49m\u001b[38;5;241;43m.\u001b[39;49m\u001b[43mdrop\u001b[49m\u001b[43m(\u001b[49m\u001b[43mlabels\u001b[49m\u001b[43m,\u001b[49m\u001b[43m \u001b[49m\u001b[43merrors\u001b[49m\u001b[38;5;241;43m=\u001b[39;49m\u001b[43merrors\u001b[49m\u001b[43m)\u001b[49m\n\u001b[1;32m   4312\u001b[0m     indexer \u001b[38;5;241m=\u001b[39m axis\u001b[38;5;241m.\u001b[39mget_indexer(new_axis)\n\u001b[1;32m   4314\u001b[0m \u001b[38;5;66;03m# Case for non-unique axis\u001b[39;00m\n\u001b[1;32m   4315\u001b[0m \u001b[38;5;28;01melse\u001b[39;00m:\n",
      "File \u001b[0;32m~/opt/anaconda3/lib/python3.9/site-packages/pandas/core/indexes/base.py:6644\u001b[0m, in \u001b[0;36mIndex.drop\u001b[0;34m(self, labels, errors)\u001b[0m\n\u001b[1;32m   6642\u001b[0m \u001b[38;5;28;01mif\u001b[39;00m mask\u001b[38;5;241m.\u001b[39many():\n\u001b[1;32m   6643\u001b[0m     \u001b[38;5;28;01mif\u001b[39;00m errors \u001b[38;5;241m!=\u001b[39m \u001b[38;5;124m\"\u001b[39m\u001b[38;5;124mignore\u001b[39m\u001b[38;5;124m\"\u001b[39m:\n\u001b[0;32m-> 6644\u001b[0m         \u001b[38;5;28;01mraise\u001b[39;00m \u001b[38;5;167;01mKeyError\u001b[39;00m(\u001b[38;5;124mf\u001b[39m\u001b[38;5;124m\"\u001b[39m\u001b[38;5;132;01m{\u001b[39;00m\u001b[38;5;28mlist\u001b[39m(labels[mask])\u001b[38;5;132;01m}\u001b[39;00m\u001b[38;5;124m not found in axis\u001b[39m\u001b[38;5;124m\"\u001b[39m)\n\u001b[1;32m   6645\u001b[0m     indexer \u001b[38;5;241m=\u001b[39m indexer[\u001b[38;5;241m~\u001b[39mmask]\n\u001b[1;32m   6646\u001b[0m \u001b[38;5;28;01mreturn\u001b[39;00m \u001b[38;5;28mself\u001b[39m\u001b[38;5;241m.\u001b[39mdelete(indexer)\n",
      "\u001b[0;31mKeyError\u001b[0m: \"['sqft_lot'] not found in axis\""
     ]
    }
   ],
   "source": [
    "x_sqft_log.drop('sqft_lot', axis=1, inplace=True)\n",
    "x_sqft_log"
   ]
  },
  {
   "cell_type": "code",
   "execution_count": 209,
   "metadata": {},
   "outputs": [
    {
     "name": "stdout",
     "output_type": "stream",
     "text": [
      "                            OLS Regression Results                            \n",
      "==============================================================================\n",
      "Dep. Variable:                  price   R-squared:                       0.484\n",
      "Model:                            OLS   Adj. R-squared:                  0.484\n",
      "Method:                 Least Squares   F-statistic:                     1955.\n",
      "Date:                Wed, 28 Sep 2022   Prob (F-statistic):               0.00\n",
      "Time:                        17:33:31   Log-Likelihood:            -4.3196e+05\n",
      "No. Observations:               29200   AIC:                         8.640e+05\n",
      "Df Residuals:                   29185   BIC:                         8.641e+05\n",
      "Df Model:                          14                                         \n",
      "Covariance Type:            nonrobust                                         \n",
      "=================================================================================\n",
      "                    coef    std err          t      P>|t|      [0.025      0.975]\n",
      "---------------------------------------------------------------------------------\n",
      "const         -9.725e+07   4.42e+06    -21.998      0.000   -1.06e+08   -8.86e+07\n",
      "bedrooms      -1.398e+05   5181.343    -26.973      0.000    -1.5e+05    -1.3e+05\n",
      "bathrooms      1.194e+05   7712.895     15.475      0.000    1.04e+05    1.34e+05\n",
      "sqft_living     323.2161     17.291     18.693      0.000     289.325     357.107\n",
      "floors        -7.905e+04   1.05e+04     -7.513      0.000   -9.97e+04   -5.84e+04\n",
      "sqft_above      290.5376     17.675     16.437      0.000     255.893     325.182\n",
      "sqft_basement    86.3702     13.113      6.587      0.000      60.669     112.072\n",
      "sqft_garage     -46.6208     18.459     -2.526      0.012     -82.800     -10.441\n",
      "sqft_patio      251.0154     17.375     14.447      0.000     216.959     285.072\n",
      "yr_built       2688.0068    727.595      3.694      0.000    1261.888    4114.125\n",
      "yr_renovated    197.6453     23.040      8.578      0.000     152.485     242.805\n",
      "lat            1.548e+06   2.71e+04     57.026      0.000    1.49e+06     1.6e+06\n",
      "long          -1.477e+05   3.21e+04     -4.596      0.000   -2.11e+05   -8.47e+04\n",
      "yr_old         4643.5322    733.163      6.334      0.000    3206.500    6080.564\n",
      "log(sqft_lot)  2.337e+04   5323.445      4.389      0.000    1.29e+04    3.38e+04\n",
      "==============================================================================\n",
      "Omnibus:                    45242.677   Durbin-Watson:                   1.923\n",
      "Prob(Omnibus):                  0.000   Jarque-Bera (JB):         77100017.922\n",
      "Skew:                           9.372   Prob(JB):                         0.00\n",
      "Kurtosis:                     254.035   Cond. No.                     4.30e+06\n",
      "==============================================================================\n",
      "\n",
      "Notes:\n",
      "[1] Standard Errors assume that the covariance matrix of the errors is correctly specified.\n",
      "[2] The condition number is large, 4.3e+06. This might indicate that there are\n",
      "strong multicollinearity or other numerical problems.\n"
     ]
    }
   ],
   "source": [
    "sqft_log_model = sm.OLS(y, sm.add_constant(x_sqft_log))\n",
    "sqft_log_results = sqft_log_model.fit()\n",
    "\n",
    "print(sqft_log_results.summary())"
   ]
  },
  {
   "cell_type": "code",
   "execution_count": 210,
   "metadata": {},
   "outputs": [
    {
     "data": {
      "text/plain": [
       "339089.0154587986"
      ]
     },
     "execution_count": 210,
     "metadata": {},
     "output_type": "execute_result"
    }
   ],
   "source": [
    "baseline_mae = mean_absolute_error(y, sqft_log_results.predict(sm.add_constant(x_sqft_log)))\n",
    "baseline_mae"
   ]
  },
  {
   "cell_type": "code",
   "execution_count": 211,
   "metadata": {},
   "outputs": [
    {
     "data": {
      "text/plain": [
       "339089.0154587986"
      ]
     },
     "execution_count": 211,
     "metadata": {},
     "output_type": "execute_result"
    }
   ],
   "source": [
    "mean_absolute_error(y, sqft_log_results.predict(sm.add_constant(x_sqft_log)))"
   ]
  },
  {
   "cell_type": "code",
   "execution_count": 212,
   "metadata": {},
   "outputs": [
    {
     "data": {
      "text/plain": [
       "643239.3892145434"
      ]
     },
     "execution_count": 212,
     "metadata": {},
     "output_type": "execute_result"
    }
   ],
   "source": [
    "mean_squared_error(y, sqft_log_results.predict(sm.add_constant(x_sqft_log)), squared=False)"
   ]
  },
  {
   "cell_type": "code",
   "execution_count": 213,
   "metadata": {},
   "outputs": [
    {
     "name": "stderr",
     "output_type": "stream",
     "text": [
      "/Users/chuck/opt/anaconda3/lib/python3.9/site-packages/seaborn/distributions.py:2619: FutureWarning: `distplot` is a deprecated function and will be removed in a future version. Please adapt your code to use either `displot` (a figure-level function with similar flexibility) or `histplot` (an axes-level function for histograms).\n",
      "  warnings.warn(msg, FutureWarning)\n"
     ]
    },
    {
     "data": {
      "text/plain": [
       "<AxesSubplot:xlabel='log_SalePrice', ylabel='Density'>"
      ]
     },
     "execution_count": 213,
     "metadata": {},
     "output_type": "execute_result"
    },
    {
     "data": {
      "image/png": "[encoded data removed]",
      "text/plain": [
       "<Figure size 1152x360 with 1 Axes>"
      ]
     },
     "metadata": {
      "needs_background": "light"
     },
     "output_type": "display_data"
    }
   ],
   "source": [
    "y_log = np.log(df['price'])\n",
    "y_log.name = \"log_SalePrice\"\n",
    "y_log\n",
    "\n",
    "x_log = np.log(df['sqft_lot'])\n",
    "x_log.name = \"log_sqft_lot\"\n",
    "\n",
    "plt.figure(figsize=(16,5))\n",
    "plt.subplot(1,2,1)\n",
    "sns.distplot(y_log)"
   ]
  },
  {
   "cell_type": "code",
   "execution_count": 215,
   "metadata": {},
   "outputs": [
    {
     "name": "stderr",
     "output_type": "stream",
     "text": [
      "/Users/chuck/opt/anaconda3/lib/python3.9/site-packages/seaborn/distributions.py:2619: FutureWarning: `distplot` is a deprecated function and will be removed in a future version. Please adapt your code to use either `displot` (a figure-level function with similar flexibility) or `histplot` (an axes-level function for histograms).\n",
      "  warnings.warn(msg, FutureWarning)\n"
     ]
    },
    {
     "data": {
      "text/plain": [
       "<AxesSubplot:xlabel='log_sqft_lot', ylabel='Density'>"
      ]
     },
     "execution_count": 215,
     "metadata": {},
     "output_type": "execute_result"
    },
    {
     "data": {
      "image/png": "[encoded data removed]",
      "text/plain": [
       "<Figure size 1152x360 with 1 Axes>"
      ]
     },
     "metadata": {
      "needs_background": "light"
     },
     "output_type": "display_data"
    }
   ],
   "source": [
    "x_log = np.log(df['sqft_lot'])\n",
    "x_log.name = \"log_sqft_lot\"\n",
    "\n",
    "plt.figure(figsize=(16,5))\n",
    "plt.subplot(1,2,1)\n",
    "sns.distplot(x_log)"
   ]
  },
  {
   "cell_type": "code",
   "execution_count": 214,
   "metadata": {},
   "outputs": [
    {
     "data": {
      "image/png": "[encoded data removed]",
      "text/plain": [
       "<Figure size 1080x216 with 1 Axes>"
      ]
     },
     "metadata": {
      "needs_background": "light"
     },
     "output_type": "display_data"
    }
   ],
   "source": [
    "fig, ax = plt.subplots(figsize=(15,3))\n",
    "ax.hist(y, label=\"price\", color=\"ivory\")\n",
    "ax.hist(y_log, color=\"orange\", label=\"log(price)\")\n",
    "ax.legend();"
   ]
  },
  {
   "cell_type": "markdown",
   "metadata": {},
   "source": [
    "Cant even see the log scaled distribution.  "
   ]
  },
  {
   "cell_type": "code",
   "execution_count": 136,
   "metadata": {},
   "outputs": [],
   "source": [
    "# df.select_dtypes('number')"
   ]
  },
  {
   "cell_type": "code",
   "execution_count": 216,
   "metadata": {},
   "outputs": [
    {
     "name": "stdout",
     "output_type": "stream",
     "text": [
      "                            OLS Regression Results                            \n",
      "==============================================================================\n",
      "Dep. Variable:          log_SalePrice   R-squared:                       0.563\n",
      "Model:                            OLS   Adj. R-squared:                  0.562\n",
      "Method:                 Least Squares   F-statistic:                     2681.\n",
      "Date:                Wed, 28 Sep 2022   Prob (F-statistic):               0.00\n",
      "Time:                        17:35:20   Log-Likelihood:                -13723.\n",
      "No. Observations:               29200   AIC:                         2.748e+04\n",
      "Df Residuals:                   29185   BIC:                         2.760e+04\n",
      "Df Model:                          14                                         \n",
      "Covariance Type:            nonrobust                                         \n",
      "=================================================================================\n",
      "                    coef    std err          t      P>|t|      [0.025      0.975]\n",
      "---------------------------------------------------------------------------------\n",
      "const           -46.7549      2.661    -17.572      0.000     -51.970     -41.540\n",
      "bedrooms         -0.0335      0.003    -10.746      0.000      -0.040      -0.027\n",
      "bathrooms         0.0800      0.005     17.228      0.000       0.071       0.089\n",
      "sqft_living       0.0002   1.04e-05     19.603      0.000       0.000       0.000\n",
      "floors            0.0402      0.006      6.345      0.000       0.028       0.053\n",
      "sqft_above        0.0001   1.06e-05     10.083      0.000    8.64e-05       0.000\n",
      "sqft_basement   3.79e-05   7.89e-06      4.803      0.000    2.24e-05    5.34e-05\n",
      "sqft_garage    5.754e-05   1.11e-05      5.179      0.000    3.58e-05    7.93e-05\n",
      "sqft_patio        0.0001   1.05e-05     13.526      0.000       0.000       0.000\n",
      "yr_built       7.055e-05      0.000      0.161      0.872      -0.001       0.001\n",
      "yr_renovated   7.277e-05   1.39e-05      5.247      0.000    4.56e-05    9.99e-05\n",
      "lat               1.5779      0.016     96.593      0.000       1.546       1.610\n",
      "long              0.1292      0.019      6.680      0.000       0.091       0.167\n",
      "yr_old            0.0014      0.000      3.124      0.002       0.001       0.002\n",
      "log(sqft_lot)     0.0258      0.003      8.039      0.000       0.019       0.032\n",
      "==============================================================================\n",
      "Omnibus:                    10931.652   Durbin-Watson:                   1.983\n",
      "Prob(Omnibus):                  0.000   Jarque-Bera (JB):           196512.784\n",
      "Skew:                          -1.337   Prob(JB):                         0.00\n",
      "Kurtosis:                      15.424   Cond. No.                     4.30e+06\n",
      "==============================================================================\n",
      "\n",
      "Notes:\n",
      "[1] Standard Errors assume that the covariance matrix of the errors is correctly specified.\n",
      "[2] The condition number is large, 4.3e+06. This might indicate that there are\n",
      "strong multicollinearity or other numerical problems.\n"
     ]
    }
   ],
   "source": [
    "y_log_model = sm.OLS(y_log, sm.add_constant(x_sqft_log))\n",
    "y_log_results = y_log_model.fit()\n",
    "\n",
    "print(y_log_results.summary())"
   ]
  },
  {
   "cell_type": "code",
   "execution_count": 138,
   "metadata": {},
   "outputs": [
    {
     "data": {
      "text/plain": [
       "1113964.7732847095"
      ]
     },
     "execution_count": 138,
     "metadata": {},
     "output_type": "execute_result"
    }
   ],
   "source": [
    "mean_absolute_error(y_log, sqft_log_results.predict(sm.add_constant(x_sqft_log)))"
   ]
  },
  {
   "cell_type": "code",
   "execution_count": 139,
   "metadata": {},
   "outputs": [
    {
     "data": {
      "text/plain": [
       "1275464.7211232516"
      ]
     },
     "execution_count": 139,
     "metadata": {},
     "output_type": "execute_result"
    }
   ],
   "source": [
    "mean_squared_error(y_log, sqft_log_results.predict(sm.add_constant(x_sqft_log)), squared=False)"
   ]
  },
  {
   "cell_type": "markdown",
   "metadata": {},
   "source": [
    "Its very interesting.  The "
   ]
  },
  {
   "cell_type": "code",
   "execution_count": null,
   "metadata": {},
   "outputs": [],
   "source": [
    "fig, (ax1, ax2) = plt.subplots (ncols=2, figsize = (12, 5))\n",
    "df.plot.scatter(x='bathrooms', y='price', ax=ax1)\n",
    "df.plot.scatter(x='bedrooms', y='price', ax=ax2)"
   ]
  },
  {
   "cell_type": "code",
   "execution_count": null,
   "metadata": {},
   "outputs": [],
   "source": [
    "import warnings\n",
    "warnings.filterwarnings('ignore')\n",
    "plt.figure(figsize=(16,5))\n",
    "plt.subplot(1,2,1)\n",
    "sns.distplot(df['bedrooms'])\n",
    "plt.subplot(1,2,2)\n",
    "sns.distplot(df['bathrooms'])"
   ]
  },
  {
   "cell_type": "code",
   "execution_count": null,
   "metadata": {},
   "outputs": [],
   "source": [
    "fig, (ax1, ax2) = plt.subplots (ncols=2, figsize = (12, 5))\n",
    "df.plot.scatter(x='sqft_lot', y='price', ax=ax1)\n",
    "df.plot.scatter(x='floors', y='price', ax=ax2)"
   ]
  },
  {
   "cell_type": "code",
   "execution_count": null,
   "metadata": {},
   "outputs": [],
   "source": [
    "plt.figure(figsize=(16,5))\n",
    "plt.subplot(1,2,1)\n",
    "sns.distplot(df['sqft_lot'])\n",
    "plt.subplot(1,2,2)\n",
    "sns.distplot(df['floors'])"
   ]
  },
  {
   "cell_type": "markdown",
   "metadata": {},
   "source": [
    "## Continuous numerice predictors"
   ]
  },
  {
   "cell_type": "code",
   "execution_count": null,
   "metadata": {},
   "outputs": [],
   "source": [
    "fig, (ax1, ax2) = plt.subplots (ncols=2, figsize = (12, 5))\n",
    "df.plot.scatter(x='sqft_above', y='price', ax=ax1)\n",
    "df.plot.scatter(x='sqft_garage', y='price', ax=ax2)"
   ]
  },
  {
   "cell_type": "code",
   "execution_count": null,
   "metadata": {},
   "outputs": [],
   "source": [
    "plt.figure(figsize=(16,5))\n",
    "plt.subplot(1,2,1)\n",
    "sns.distplot(df['sqft_above'])\n",
    "plt.subplot(1,2,2)\n",
    "sns.distplot(df['sqft_garage'])"
   ]
  },
  {
   "cell_type": "code",
   "execution_count": null,
   "metadata": {},
   "outputs": [],
   "source": [
    "fig, (ax1, ax2) = plt.subplots (ncols=2, figsize = (12, 5))\n",
    "df.plot.scatter(x='yr_built', y='price', ax=ax1)\n",
    "df.plot.scatter(x='yr_renovated', y='price', ax=ax2)"
   ]
  },
  {
   "cell_type": "code",
   "execution_count": null,
   "metadata": {},
   "outputs": [],
   "source": [
    "plt.figure(figsize=(16,5))\n",
    "plt.subplot(1,2,1)\n",
    "sns.distplot(df['yr_built'])\n",
    "plt.subplot(1,2,2)\n",
    "sns.distplot(df['yr_renovated'])"
   ]
  },
  {
   "cell_type": "code",
   "execution_count": null,
   "metadata": {},
   "outputs": [],
   "source": [
    "fig, (ax1, ax2) = plt.subplots (ncols=2, figsize = (12, 5))\n",
    "df.plot.scatter(x='sqft_basement', y='price', ax=ax1)\n",
    "df.plot.scatter(x='sqft_patio', y='price', ax=ax2)"
   ]
  },
  {
   "cell_type": "code",
   "execution_count": null,
   "metadata": {},
   "outputs": [],
   "source": [
    "plt.figure(figsize=(16,5))\n",
    "plt.subplot(1,2,1)\n",
    "sns.distplot(df['sqft_patio'])\n",
    "plt.subplot(1,2,2)\n",
    "sns.distplot(df['sqft_basement'])"
   ]
  },
  {
   "cell_type": "markdown",
   "metadata": {},
   "source": [
    "## Log "
   ]
  },
  {
   "cell_type": "code",
   "execution_count": null,
   "metadata": {},
   "outputs": [],
   "source": [
    "# X_log = df['sqft_lot']\n",
    "\n",
    "# fig, ax = plt.subplots(ncols=2, figsize=(8,10))\n",
    "\n",
    "# ax = ax\n",
    "# left_ax.scatter(, y, alpha=0.5)\n",
    "# left_ax.set_xlabel(\"sqft_lot\")\n",
    "# left_ax.set_ylabel(\"price\")\n",
    "    \n",
    "# # Plot log transformed version\n",
    "# right_ax = ax\n",
    "# right_ax.scatter(np.log(X_log), np.log(y), alpha=0.5)\n",
    "# right_ax.set_xlabel(\"log sqft_lot\")\n",
    "# right_ax.set_ylabel(\"log price\")\n",
    "    \n",
    "# fig.suptitle(\"Raw vs. Log Transformed\")\n",
    "\n",
    "# fig.tight_layout()"
   ]
  },
  {
   "cell_type": "code",
   "execution_count": null,
   "metadata": {},
   "outputs": [],
   "source": [
    "X_log = X[candidates].copy()\n",
    "\n",
    "X_log.describe()"
   ]
  },
  {
   "cell_type": "code",
   "execution_count": null,
   "metadata": {},
   "outputs": [],
   "source": [
    "for column in X_log.columns:\n",
    "    X_log[f\"log_{column}\"] = np.log(X_log[column])\n",
    "    X_log.drop(column, axis=1, inplace=True)\n",
    "    \n",
    "X_log"
   ]
  },
  {
   "cell_type": "code",
   "execution_count": null,
   "metadata": {},
   "outputs": [],
   "source": [
    "y_log = np.log(y)\n",
    "y_log.name = \"log_SalePrice\"\n",
    "y_log\n",
    "\n",
    "plt.figure(figsize=(16,5))\n",
    "plt.subplot(1,2,1)\n",
    "sns.distplot(y_log)"
   ]
  },
  {
   "cell_type": "code",
   "execution_count": null,
   "metadata": {},
   "outputs": [],
   "source": [
    "model_1 = sm.OLS(y_log, sm.add_constant(X_log))\n",
    "results2 = model_1.fit()\n",
    "results2.summary()"
   ]
  },
  {
   "cell_type": "code",
   "execution_count": null,
   "metadata": {
    "scrolled": false
   },
   "outputs": [],
   "source": [
    "cats2 = ['waterfront', 'view', 'grade', 'condition']\n",
    "fig, axes = plt.subplots(ncols=len(cats2), figsize=(12,5))\n",
    "for index, feature in enumerate(cats2):\n",
    "    df.groupby(feature).mean().sort_values(by='price', ascending=False).plot.bar(\n",
    "        y='price', ax=axes[index])\n"
   ]
  },
  {
   "cell_type": "code",
   "execution_count": null,
   "metadata": {},
   "outputs": [],
   "source": []
  },
  {
   "cell_type": "markdown",
   "metadata": {},
   "source": [
    "There is some real symetry in the grade category.  As the grade increases, it appears that the average price of homes increases as well.  Good views and waterfront properties also seem correlated positively with price, which is understandable.  "
   ]
  },
  {
   "cell_type": "code",
   "execution_count": null,
   "metadata": {},
   "outputs": [],
   "source": [
    "# cats3 = ['nuisance', 'sewer_system', 'greenbelt']\n",
    "# fig, axes = plt.subplots(ncols=len(cats3), figsize=(12,5))\n",
    "# for index, feature in enumerate(cats3):\n",
    "#     df1.groupby(feature).mean().sort_values(by='price', ascending=False).plot.bar(\n",
    "#         y='price', ax=axes[index])"
   ]
  },
  {
   "cell_type": "markdown",
   "metadata": {},
   "source": [
    "Not much can be gleaned from these bar charts.  "
   ]
  },
  {
   "cell_type": "code",
   "execution_count": null,
   "metadata": {},
   "outputs": [],
   "source": [
    "# plt.scatter(df1.sewer_system, df1.price)"
   ]
  },
  {
   "cell_type": "code",
   "execution_count": null,
   "metadata": {},
   "outputs": [],
   "source": [
    "# plt.scatter(df1.greenbelt, df1.price)"
   ]
  },
  {
   "cell_type": "code",
   "execution_count": null,
   "metadata": {},
   "outputs": [],
   "source": [
    "# fig, (ax1, ax2) = plt.subplots (ncols=2, figsize = (12, 5))\n",
    "# df1.sort_values(by='price', ascending=False).plot.scatter(x='condition', y='price', ax=ax1)\n",
    "# df1.sort_values(by='price', ascending=False).plot.scatter(x='view', y='price', ax=ax2)"
   ]
  },
  {
   "cell_type": "code",
   "execution_count": null,
   "metadata": {},
   "outputs": [],
   "source": [
    "# fig, (ax) = plt.subplots (ncols=1, figsize = (15, 10))\n",
    "# df1.sort_values(by='price', ascending=False).plot.scatter(x='grade', y='price', ax=ax)"
   ]
  },
  {
   "cell_type": "markdown",
   "metadata": {},
   "source": [
    "## Attempts at some partial models.  "
   ]
  },
  {
   "cell_type": "code",
   "execution_count": null,
   "metadata": {},
   "outputs": [],
   "source": [
    "# y = df1.price\n",
    "# X_iter = df1[['sqft_living', 'waterfront', 'grade']]"
   ]
  },
  {
   "cell_type": "code",
   "execution_count": null,
   "metadata": {},
   "outputs": [],
   "source": [
    "# X_iter = pd.get_dummies(X_iter, columns=['grade', 'waterfront'], drop_first=True)"
   ]
  },
  {
   "cell_type": "code",
   "execution_count": null,
   "metadata": {},
   "outputs": [],
   "source": [
    "# model = sm.OLS(y, sm.add_constant(X_iter))\n",
    "# results = model.fit()\n",
    "# print(results.summary())"
   ]
  },
  {
   "cell_type": "code",
   "execution_count": null,
   "metadata": {},
   "outputs": [],
   "source": [
    "# mae = mean_absolute_error(y, results.predict(sm.add_constant(X_iter)))\n",
    "# mae"
   ]
  },
  {
   "cell_type": "markdown",
   "metadata": {},
   "source": [
    "The explained variance is higher, but the MAE is worse than our baseline model.  This model is now off by about $359,121.21 for any given prediction.  We will need to adjust the model.  We will attempt some partial regressions below to see what stands out.   "
   ]
  },
  {
   "cell_type": "markdown",
   "metadata": {},
   "source": [
    "## Partial regression of Grade, sqft_living, and waterfront"
   ]
  },
  {
   "cell_type": "code",
   "execution_count": null,
   "metadata": {},
   "outputs": [],
   "source": []
  },
  {
   "cell_type": "code",
   "execution_count": null,
   "metadata": {},
   "outputs": [],
   "source": [
    "# fig = plt.figure(figsize=(15,8))\n",
    "# sm.graphics.plot_partregress_grid(\n",
    "#     results, \n",
    "#     exog_idx=list(X_iter.columns),\n",
    "#     grid=(2,7),\n",
    "#     fig=fig)\n",
    "# plt.tight_layout()\n",
    "# plt.show()"
   ]
  },
  {
   "cell_type": "markdown",
   "metadata": {},
   "source": [
    "## Model and partial of Sqft Living, Waterfront, and View"
   ]
  },
  {
   "cell_type": "code",
   "execution_count": null,
   "metadata": {},
   "outputs": [],
   "source": [
    "# y = df1.price\n",
    "# X_iter2 = df1[['sqft_living', 'waterfront', 'view']]"
   ]
  },
  {
   "cell_type": "code",
   "execution_count": null,
   "metadata": {},
   "outputs": [],
   "source": [
    "# X_iter2 = pd.get_dummies(X_iter2, columns=['view', 'waterfront'], drop_first=True)"
   ]
  },
  {
   "cell_type": "code",
   "execution_count": null,
   "metadata": {},
   "outputs": [],
   "source": [
    "# model = sm.OLS(y, sm.add_constant(X_iter2))\n",
    "# results = model.fit()\n",
    "# print(results.summary())"
   ]
  },
  {
   "cell_type": "code",
   "execution_count": null,
   "metadata": {},
   "outputs": [],
   "source": [
    "# mae = mean_absolute_error(y, results.predict(sm.add_constant(X_iter2)))\n",
    "# mae"
   ]
  },
  {
   "cell_type": "code",
   "execution_count": null,
   "metadata": {},
   "outputs": [],
   "source": [
    "# fig = plt.figure(figsize=(15,8))\n",
    "# sm.graphics.plot_partregress_grid(\n",
    "#     results, \n",
    "#     exog_idx=list(X_iter2.columns),\n",
    "#     grid=(2,7),\n",
    "#     fig=fig)\n",
    "# plt.tight_layout()\n",
    "# plt.show()"
   ]
  },
  {
   "cell_type": "markdown",
   "metadata": {},
   "source": [
    "While I feel strongly about sqft living, I am beginning to think view does not have much impact on price as we predicted.  Perhaps the relationship can be better explained by a term or some transformation.  "
   ]
  },
  {
   "cell_type": "markdown",
   "metadata": {},
   "source": [
    "# Neighborhood"
   ]
  },
  {
   "cell_type": "code",
   "execution_count": null,
   "metadata": {
    "scrolled": true
   },
   "outputs": [],
   "source": [
    "# Neigh = ['Neighborhood']\n",
    "# fig, ax = plt.subplots(ncols=len(Neigh), figsize=(12,5))\n",
    "# for index, feature in enumerate(Neigh):\n",
    "#     df1.groupby(feature).mean().sort_values(by='price', ascending=False).plot.bar(\n",
    "#         y='price', ax=ax)\n"
   ]
  },
  {
   "cell_type": "code",
   "execution_count": null,
   "metadata": {},
   "outputs": [],
   "source": [
    "# y = df1.price\n",
    "# X_iter_Neigh = df1[['Neighborhood', 'sqft_living', 'waterfront']]\n",
    "# X_iter_Neigh = pd.get_dummies(X_iter_Neigh, columns=['Neighborhood', 'waterfront'], drop_first=True)"
   ]
  },
  {
   "cell_type": "code",
   "execution_count": null,
   "metadata": {},
   "outputs": [],
   "source": [
    "# model = sm.OLS(y, sm.add_constant(X_iter_Neigh))\n",
    "# results = model.fit()\n",
    "# print(results.summary())"
   ]
  },
  {
   "cell_type": "code",
   "execution_count": null,
   "metadata": {},
   "outputs": [],
   "source": [
    "# mae = mean_absolute_error(y, results.predict(sm.add_constant(X_iter_Neigh)))\n",
    "# mae"
   ]
  },
  {
   "cell_type": "markdown",
   "metadata": {},
   "source": [
    "Neighborhood really seems to explain a great deal about the variance in price, and it reduced our MAE down from our baseline.  Our predictions are now around $313,516.77 off by any given predictor.    "
   ]
  },
  {
   "cell_type": "code",
   "execution_count": null,
   "metadata": {},
   "outputs": [],
   "source": [
    "# X_iter_Neigh"
   ]
  },
  {
   "cell_type": "code",
   "execution_count": null,
   "metadata": {},
   "outputs": [],
   "source": [
    "# fig = plt.figure(figsize=(275,475))\n",
    "# sm.graphics.plot_partregress_grid(\n",
    "#     results, \n",
    "#     exog_idx=list(X_iter_Neigh.columns),\n",
    "#     grid=(16,16),\n",
    "#     fig=fig)\n",
    "# plt.tight_layout()\n",
    "# plt.show()"
   ]
  },
  {
   "cell_type": "code",
   "execution_count": null,
   "metadata": {},
   "outputs": [],
   "source": []
  },
  {
   "cell_type": "code",
   "execution_count": null,
   "metadata": {},
   "outputs": [],
   "source": [
    "# # running our model with dummified predictors\n",
    "# X1=dum_df1.drop(labels=['selldate', 'price', 'Zipcode', 'address', 'lat', 'long', \n",
    "#                        'sewer_system_PUBLIC RESTRICTED', 'yr_built', 'sqft_above', 'bathrooms',\n",
    "#                       'heat_source_Oil', 'heat_source_Oil/Solar', 'heat_source_Other',\n",
    "#                       'floors', 'Neighborhood_Skykomish', 'Neighborhood_Black Diamond',\n",
    "#                       'Neighborhood_Baring' ], axis=1)\n",
    "# y=dum_df1.price\n",
    "\n",
    "# model_1 = sm.OLS(y, sm.add_constant(X1))\n",
    "# results1 = model_1.fit()\n",
    "# results1.summary()"
   ]
  },
  {
   "cell_type": "code",
   "execution_count": null,
   "metadata": {},
   "outputs": [],
   "source": [
    "# baseline_mae = mean_absolute_error(y, results1.predict(sm.add_constant(X1)))\n",
    "# # baseline_mae"
   ]
  },
  {
   "cell_type": "code",
   "execution_count": null,
   "metadata": {},
   "outputs": [],
   "source": [
    "# dum_df1 = pd.get_dummies(data=df1, columns=cat_cols, drop_first=True)"
   ]
  },
  {
   "cell_type": "code",
   "execution_count": null,
   "metadata": {
    "scrolled": true
   },
   "outputs": [],
   "source": [
    "# dum_df1.columns"
   ]
  },
  {
   "cell_type": "markdown",
   "metadata": {},
   "source": [
    "Drop columns not correlated.  per gp 9-19.  "
   ]
  },
  {
   "cell_type": "code",
   "execution_count": null,
   "metadata": {},
   "outputs": [],
   "source": [
    "# plt.hist(df1.price)"
   ]
  },
  {
   "cell_type": "code",
   "execution_count": null,
   "metadata": {},
   "outputs": [],
   "source": [
    "# sns.distplot(df1.price, bins=30, kde=True)"
   ]
  },
  {
   "cell_type": "markdown",
   "metadata": {},
   "source": [
    "## Cleaning data"
   ]
  },
  {
   "cell_type": "markdown",
   "metadata": {},
   "source": [
    "applying a function to remove outliers outside 3 standard deviations"
   ]
  },
  {
   "cell_type": "code",
   "execution_count": null,
   "metadata": {},
   "outputs": [],
   "source": [
    "  "
   ]
  },
  {
   "cell_type": "markdown",
   "metadata": {},
   "source": [
    "## Bedrooms"
   ]
  },
  {
   "cell_type": "code",
   "execution_count": null,
   "metadata": {},
   "outputs": [],
   "source": [
    "# here we remove outliers by adding them to the highest, most relevant category, thus preserving data.  \n",
    "df1.bathrooms.value_counts()"
   ]
  },
  {
   "cell_type": "code",
   "execution_count": null,
   "metadata": {},
   "outputs": [],
   "source": []
  },
  {
   "cell_type": "code",
   "execution_count": null,
   "metadata": {
    "scrolled": true
   },
   "outputs": [],
   "source": [
    "df1.describe()"
   ]
  },
  {
   "cell_type": "code",
   "execution_count": null,
   "metadata": {},
   "outputs": [],
   "source": [
    "# df1.loc[(df1['bedrooms'] > 6) & (df1['bathrooms'] > 6)]"
   ]
  },
  {
   "cell_type": "code",
   "execution_count": null,
   "metadata": {},
   "outputs": [],
   "source": [
    "df1.bathrooms.value_counts()"
   ]
  },
  {
   "cell_type": "markdown",
   "metadata": {},
   "source": [
    "Anything with zero bathrooms is suspect. "
   ]
  },
  {
   "cell_type": "code",
   "execution_count": null,
   "metadata": {},
   "outputs": [],
   "source": [
    "# df1.loc[df1['bathrooms'] < 1] = 1\n",
    "# df1.loc[df1['bathrooms'] > 6] = 6"
   ]
  },
  {
   "cell_type": "code",
   "execution_count": null,
   "metadata": {},
   "outputs": [],
   "source": [
    "# def change_value(condition): \n",
    "#     new_living = df1.sqft_living = np.sum(df1.sqft_living, (df1.sqft_garage*.75))\n",
    "#     new_garage = df1.sqft_garage = np.subtract(df1.sqft_garage, (df1.sqft_garage*.75))\n",
    "#     if condition == df1.loc[df1['sqft_garage'] > ['sqft_living']]:\n",
    "#         return new_living, new_garage"
   ]
  },
  {
   "cell_type": "code",
   "execution_count": null,
   "metadata": {},
   "outputs": [],
   "source": [
    "# df1.sqft_garage.apply(change_value)"
   ]
  },
  {
   "cell_type": "code",
   "execution_count": null,
   "metadata": {},
   "outputs": [],
   "source": []
  },
  {
   "cell_type": "code",
   "execution_count": null,
   "metadata": {},
   "outputs": [],
   "source": [
    "# X_iter"
   ]
  },
  {
   "cell_type": "code",
   "execution_count": null,
   "metadata": {},
   "outputs": [],
   "source": [
    "# iter_model = sm.OLS(y, sm.add_constant(X_iter))\n",
    "# iter_results = iter_model.fit()\n",
    "# print(iter_results.summary())"
   ]
  },
  {
   "cell_type": "code",
   "execution_count": null,
   "metadata": {},
   "outputs": [],
   "source": [
    "# iter_mae = mean_absolute_error(y, iter_results.predict(sm.add_constant(X_iter)))\n",
    "# iter_mae"
   ]
  },
  {
   "cell_type": "markdown",
   "metadata": {},
   "source": [
    "Our iterated model explains about 53 percent of the variance in `price` using `sqft_living` and `Neighborhood`. There  Overall this model is statistically significant, explaining about 38 percent of the variance in price."
   ]
  },
  {
   "cell_type": "code",
   "execution_count": null,
   "metadata": {},
   "outputs": [],
   "source": [
    "# fig = plt.figure(figsize=(30,220))\n",
    "# sm.graphics.plot_partregress_grid(\n",
    "#     iter_results, \n",
    "#     exog_idx=list(X_iter.columns),\n",
    "#     grid=(14,15),\n",
    "#     fig=fig)\n",
    "# plt.tight_layout()\n",
    "# plt.show()"
   ]
  },
  {
   "cell_type": "code",
   "execution_count": null,
   "metadata": {
    "scrolled": false
   },
   "outputs": [],
   "source": [
    "sns.heatmap(X.corr())"
   ]
  },
  {
   "cell_type": "markdown",
   "metadata": {},
   "source": [
    "ccpr function partial "
   ]
  },
  {
   "cell_type": "code",
   "execution_count": null,
   "metadata": {},
   "outputs": [],
   "source": [
    "# df1['Neighborhood'].value_counts()"
   ]
  },
  {
   "cell_type": "code",
   "execution_count": null,
   "metadata": {},
   "outputs": [],
   "source": [
    "# sns.heatmap(X.corr())"
   ]
  },
  {
   "cell_type": "markdown",
   "metadata": {},
   "source": [
    "Took the above code from https://www.datasklr.com/ols-least-squares-regression/variable-selection. "
   ]
  },
  {
   "cell_type": "markdown",
   "metadata": {},
   "source": [
    "MAE dropped significantly.  "
   ]
  },
  {
   "cell_type": "markdown",
   "metadata": {},
   "source": [
    "## TEST without cleaning after baseline"
   ]
  },
  {
   "cell_type": "markdown",
   "metadata": {},
   "source": [
    "There are three sets of variables that are highly correlated: yr_old and yr_built, sqft_above\n",
    "and sqft_living, and bathrooms with sqft_living"
   ]
  },
  {
   "cell_type": "markdown",
   "metadata": {},
   "source": [
    "### Final Model"
   ]
  },
  {
   "cell_type": "markdown",
   "metadata": {},
   "source": [
    "# section_3"
   ]
  },
  {
   "cell_type": "code",
   "execution_count": null,
   "metadata": {},
   "outputs": [],
   "source": [
    "X1=dum_df1.drop(labels=['selldate', 'price', 'Zipcode', 'address', 'lat', 'long', \n",
    "                       'sewer_system_PUBLIC RESTRICTED',\n",
    "                      'heat_source_Oil', 'heat_source_Oil/Solar', 'heat_source_Other',\n",
    "                      'floors', 'Neighborhood_Skykomish', 'Neighborhood_Black Diamond',\n",
    "                      'Neighborhood_Baring', 'grade_2 Substandard', 'Neighborhood_Enumclaw', 'heat_source_Electricity/Solar'], axis=1)\n",
    "y=dum_df1.price\n",
    "\n",
    "model_1 = sm.OLS(y, sm.add_constant(X1))\n",
    "results1 = model_1.fit()\n",
    "results1.summary()"
   ]
  },
  {
   "cell_type": "code",
   "execution_count": null,
   "metadata": {},
   "outputs": [],
   "source": [
    "mae = mean_absolute_error(y, results1.predict(sm.add_constant(X1)))\n",
    "mae"
   ]
  },
  {
   "cell_type": "markdown",
   "metadata": {},
   "source": [
    " [section_1](#section_1)\n"
   ]
  },
  {
   "cell_type": "markdown",
   "metadata": {},
   "source": [
    "[section_2](#section_2)"
   ]
  },
  {
   "cell_type": "markdown",
   "metadata": {
    "index": 67
   },
   "source": [
    "## Regression Results"
   ]
  },
  {
   "cell_type": "markdown",
   "metadata": {
    "index": 85
   },
   "source": [
    "## Level Up: Project Enhancements\n",
    "\n",
    "After completing the minimum project requirements, you could consider the following enhancements if you have time:\n",
    "\n",
    "* Consider applying a linear or non-linear transformation to your features and/or target\n",
    "* Investigate the linear regression assumptions for your final model\n",
    "* Identify and remove outliers, then redo the analysis\n",
    "* Compile the data cleaning code into a function"
   ]
  },
  {
   "cell_type": "markdown",
   "metadata": {},
   "source": [
    "## terms and transformations"
   ]
  },
  {
   "cell_type": "markdown",
   "metadata": {},
   "source": [
    "Attempted to use GeoPandas and plotly. "
   ]
  },
  {
   "cell_type": "markdown",
   "metadata": {
    "index": 86
   },
   "source": [
    "## Conclusion"
   ]
  },
  {
   "cell_type": "code",
   "execution_count": null,
   "metadata": {},
   "outputs": [],
   "source": []
  }
 ],
 "metadata": {
  "kernelspec": {
   "display_name": "Python 3 (ipykernel)",
   "language": "python",
   "name": "python3"
  },
  "language_info": {
   "codemirror_mode": {
    "name": "ipython",
    "version": 3
   },
   "file_extension": ".py",
   "mimetype": "text/x-python",
   "name": "python",
   "nbconvert_exporter": "python",
   "pygments_lexer": "ipython3",
   "version": "3.9.12"
  }
 },
 "nbformat": 4,
 "nbformat_minor": 4
}
