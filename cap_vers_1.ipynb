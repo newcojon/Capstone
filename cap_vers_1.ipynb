{
 "cells": [
  {
   "cell_type": "markdown",
   "metadata": {
    "index": 0
   },
   "source": [
    "# Capstone Regression Project"
   ]
  },
  {
   "cell_type": "markdown",
   "metadata": {
    "index": 2
   },
   "source": [
    "## Business Understanding"
   ]
  },
  {
   "cell_type": "markdown",
   "metadata": {
    "index": 2
   },
   "source": [
    "## Data Understanding\n",
    "\n",
    "-describes source of dataset\n",
    "-what each record represents\n",
    "-which column is begin used as the regress"
   ]
  },
  {
   "cell_type": "markdown",
   "metadata": {
    "index": 2
   },
   "source": [
    "## Data Preparation"
   ]
  },
  {
   "cell_type": "markdown",
   "metadata": {},
   "source": [
    "### Loading the Data"
   ]
  },
  {
   "cell_type": "code",
   "execution_count": 349,
   "metadata": {
    "index": 3
   },
   "outputs": [],
   "source": [
    "import numpy as np\n",
    "import pandas as pd\n",
    "from matplotlib import pyplot as plt\n",
    "import seaborn as sns\n",
    "import statsmodels.api as sm\n",
    "from sklearn.preprocessing import OneHotEncoder, StandardScaler\n",
    "from sklearn.datasets import make_regression\n",
    "from sklearn.linear_model import LinearRegression\n",
    "import sklearn.metrics as metrics\n",
    "from sklearn.metrics import mean_absolute_error\n",
    "from random import gauss\n",
    "from mpl_toolkits.mplot3d import Axes3D\n",
    "from scipy import stats as stats\n",
    "import re\n",
    "%matplotlib inline"
   ]
  },
  {
   "cell_type": "code",
   "execution_count": 350,
   "metadata": {},
   "outputs": [
    {
     "data": {
      "text/html": [
       "<div>\n",
       "<style scoped>\n",
       "    .dataframe tbody tr th:only-of-type {\n",
       "        vertical-align: middle;\n",
       "    }\n",
       "\n",
       "    .dataframe tbody tr th {\n",
       "        vertical-align: top;\n",
       "    }\n",
       "\n",
       "    .dataframe thead th {\n",
       "        text-align: right;\n",
       "    }\n",
       "</style>\n",
       "<table border=\"1\" class=\"dataframe\">\n",
       "  <thead>\n",
       "    <tr style=\"text-align: right;\">\n",
       "      <th></th>\n",
       "      <th>id</th>\n",
       "      <th>date</th>\n",
       "      <th>price</th>\n",
       "      <th>bedrooms</th>\n",
       "      <th>bathrooms</th>\n",
       "      <th>sqft_living</th>\n",
       "      <th>sqft_lot</th>\n",
       "      <th>floors</th>\n",
       "      <th>waterfront</th>\n",
       "      <th>greenbelt</th>\n",
       "      <th>...</th>\n",
       "      <th>sewer_system</th>\n",
       "      <th>sqft_above</th>\n",
       "      <th>sqft_basement</th>\n",
       "      <th>sqft_garage</th>\n",
       "      <th>sqft_patio</th>\n",
       "      <th>yr_built</th>\n",
       "      <th>yr_renovated</th>\n",
       "      <th>address</th>\n",
       "      <th>lat</th>\n",
       "      <th>long</th>\n",
       "    </tr>\n",
       "  </thead>\n",
       "  <tbody>\n",
       "    <tr>\n",
       "      <th>0</th>\n",
       "      <td>7399300360</td>\n",
       "      <td>5/24/2022</td>\n",
       "      <td>675000.0</td>\n",
       "      <td>4</td>\n",
       "      <td>1.0</td>\n",
       "      <td>1180</td>\n",
       "      <td>7140</td>\n",
       "      <td>1.0</td>\n",
       "      <td>NO</td>\n",
       "      <td>NO</td>\n",
       "      <td>...</td>\n",
       "      <td>PUBLIC</td>\n",
       "      <td>1180</td>\n",
       "      <td>0</td>\n",
       "      <td>0</td>\n",
       "      <td>40</td>\n",
       "      <td>1969</td>\n",
       "      <td>0</td>\n",
       "      <td>2102 Southeast 21st Court, Renton, Washington ...</td>\n",
       "      <td>47.461975</td>\n",
       "      <td>-122.19052</td>\n",
       "    </tr>\n",
       "    <tr>\n",
       "      <th>1</th>\n",
       "      <td>8910500230</td>\n",
       "      <td>12/13/2021</td>\n",
       "      <td>920000.0</td>\n",
       "      <td>5</td>\n",
       "      <td>2.5</td>\n",
       "      <td>2770</td>\n",
       "      <td>6703</td>\n",
       "      <td>1.0</td>\n",
       "      <td>NO</td>\n",
       "      <td>NO</td>\n",
       "      <td>...</td>\n",
       "      <td>PUBLIC</td>\n",
       "      <td>1570</td>\n",
       "      <td>1570</td>\n",
       "      <td>0</td>\n",
       "      <td>240</td>\n",
       "      <td>1950</td>\n",
       "      <td>0</td>\n",
       "      <td>11231 Greenwood Avenue North, Seattle, Washing...</td>\n",
       "      <td>47.711525</td>\n",
       "      <td>-122.35591</td>\n",
       "    </tr>\n",
       "    <tr>\n",
       "      <th>2</th>\n",
       "      <td>1180000275</td>\n",
       "      <td>9/29/2021</td>\n",
       "      <td>311000.0</td>\n",
       "      <td>6</td>\n",
       "      <td>2.0</td>\n",
       "      <td>2880</td>\n",
       "      <td>6156</td>\n",
       "      <td>1.0</td>\n",
       "      <td>NO</td>\n",
       "      <td>NO</td>\n",
       "      <td>...</td>\n",
       "      <td>PUBLIC</td>\n",
       "      <td>1580</td>\n",
       "      <td>1580</td>\n",
       "      <td>0</td>\n",
       "      <td>0</td>\n",
       "      <td>1956</td>\n",
       "      <td>0</td>\n",
       "      <td>8504 South 113th Street, Seattle, Washington 9...</td>\n",
       "      <td>47.502045</td>\n",
       "      <td>-122.22520</td>\n",
       "    </tr>\n",
       "    <tr>\n",
       "      <th>3</th>\n",
       "      <td>1604601802</td>\n",
       "      <td>12/14/2021</td>\n",
       "      <td>775000.0</td>\n",
       "      <td>3</td>\n",
       "      <td>3.0</td>\n",
       "      <td>2160</td>\n",
       "      <td>1400</td>\n",
       "      <td>2.0</td>\n",
       "      <td>NO</td>\n",
       "      <td>NO</td>\n",
       "      <td>...</td>\n",
       "      <td>PUBLIC</td>\n",
       "      <td>1090</td>\n",
       "      <td>1070</td>\n",
       "      <td>200</td>\n",
       "      <td>270</td>\n",
       "      <td>2010</td>\n",
       "      <td>0</td>\n",
       "      <td>4079 Letitia Avenue South, Seattle, Washington...</td>\n",
       "      <td>47.566110</td>\n",
       "      <td>-122.29020</td>\n",
       "    </tr>\n",
       "    <tr>\n",
       "      <th>4</th>\n",
       "      <td>8562780790</td>\n",
       "      <td>8/24/2021</td>\n",
       "      <td>592500.0</td>\n",
       "      <td>2</td>\n",
       "      <td>2.0</td>\n",
       "      <td>1120</td>\n",
       "      <td>758</td>\n",
       "      <td>2.0</td>\n",
       "      <td>NO</td>\n",
       "      <td>NO</td>\n",
       "      <td>...</td>\n",
       "      <td>PUBLIC</td>\n",
       "      <td>1120</td>\n",
       "      <td>550</td>\n",
       "      <td>550</td>\n",
       "      <td>30</td>\n",
       "      <td>2012</td>\n",
       "      <td>0</td>\n",
       "      <td>2193 Northwest Talus Drive, Issaquah, Washingt...</td>\n",
       "      <td>47.532470</td>\n",
       "      <td>-122.07188</td>\n",
       "    </tr>\n",
       "  </tbody>\n",
       "</table>\n",
       "<p>5 rows × 25 columns</p>\n",
       "</div>"
      ],
      "text/plain": [
       "           id        date     price  bedrooms  bathrooms  sqft_living  \\\n",
       "0  7399300360   5/24/2022  675000.0         4        1.0         1180   \n",
       "1  8910500230  12/13/2021  920000.0         5        2.5         2770   \n",
       "2  1180000275   9/29/2021  311000.0         6        2.0         2880   \n",
       "3  1604601802  12/14/2021  775000.0         3        3.0         2160   \n",
       "4  8562780790   8/24/2021  592500.0         2        2.0         1120   \n",
       "\n",
       "   sqft_lot  floors waterfront greenbelt  ... sewer_system sqft_above  \\\n",
       "0      7140     1.0         NO        NO  ...       PUBLIC       1180   \n",
       "1      6703     1.0         NO        NO  ...       PUBLIC       1570   \n",
       "2      6156     1.0         NO        NO  ...       PUBLIC       1580   \n",
       "3      1400     2.0         NO        NO  ...       PUBLIC       1090   \n",
       "4       758     2.0         NO        NO  ...       PUBLIC       1120   \n",
       "\n",
       "  sqft_basement sqft_garage sqft_patio yr_built  yr_renovated  \\\n",
       "0             0           0         40     1969             0   \n",
       "1          1570           0        240     1950             0   \n",
       "2          1580           0          0     1956             0   \n",
       "3          1070         200        270     2010             0   \n",
       "4           550         550         30     2012             0   \n",
       "\n",
       "                                             address        lat       long  \n",
       "0  2102 Southeast 21st Court, Renton, Washington ...  47.461975 -122.19052  \n",
       "1  11231 Greenwood Avenue North, Seattle, Washing...  47.711525 -122.35591  \n",
       "2  8504 South 113th Street, Seattle, Washington 9...  47.502045 -122.22520  \n",
       "3  4079 Letitia Avenue South, Seattle, Washington...  47.566110 -122.29020  \n",
       "4  2193 Northwest Talus Drive, Issaquah, Washingt...  47.532470 -122.07188  \n",
       "\n",
       "[5 rows x 25 columns]"
      ]
     },
     "execution_count": 350,
     "metadata": {},
     "output_type": "execute_result"
    }
   ],
   "source": [
    "df = pd.read_csv('data/kc_house_data.csv')\n",
    "df.head()"
   ]
  },
  {
   "cell_type": "markdown",
   "metadata": {
    "index": 8
   },
   "source": [
    "### Data Exploration"
   ]
  },
  {
   "cell_type": "code",
   "execution_count": 351,
   "metadata": {},
   "outputs": [
    {
     "name": "stdout",
     "output_type": "stream",
     "text": [
      "<class 'pandas.core.frame.DataFrame'>\n",
      "RangeIndex: 30155 entries, 0 to 30154\n",
      "Data columns (total 25 columns):\n",
      " #   Column         Non-Null Count  Dtype  \n",
      "---  ------         --------------  -----  \n",
      " 0   id             30155 non-null  int64  \n",
      " 1   date           30155 non-null  object \n",
      " 2   price          30155 non-null  float64\n",
      " 3   bedrooms       30155 non-null  int64  \n",
      " 4   bathrooms      30155 non-null  float64\n",
      " 5   sqft_living    30155 non-null  int64  \n",
      " 6   sqft_lot       30155 non-null  int64  \n",
      " 7   floors         30155 non-null  float64\n",
      " 8   waterfront     30155 non-null  object \n",
      " 9   greenbelt      30155 non-null  object \n",
      " 10  nuisance       30155 non-null  object \n",
      " 11  view           30155 non-null  object \n",
      " 12  condition      30155 non-null  object \n",
      " 13  grade          30155 non-null  object \n",
      " 14  heat_source    30123 non-null  object \n",
      " 15  sewer_system   30141 non-null  object \n",
      " 16  sqft_above     30155 non-null  int64  \n",
      " 17  sqft_basement  30155 non-null  int64  \n",
      " 18  sqft_garage    30155 non-null  int64  \n",
      " 19  sqft_patio     30155 non-null  int64  \n",
      " 20  yr_built       30155 non-null  int64  \n",
      " 21  yr_renovated   30155 non-null  int64  \n",
      " 22  address        30155 non-null  object \n",
      " 23  lat            30155 non-null  float64\n",
      " 24  long           30155 non-null  float64\n",
      "dtypes: float64(5), int64(10), object(10)\n",
      "memory usage: 5.8+ MB\n"
     ]
    }
   ],
   "source": [
    "df.info()"
   ]
  },
  {
   "cell_type": "code",
   "execution_count": 352,
   "metadata": {},
   "outputs": [],
   "source": [
    "df.drop(labels='id', axis=1, inplace=True)"
   ]
  },
  {
   "cell_type": "code",
   "execution_count": 353,
   "metadata": {},
   "outputs": [],
   "source": [
    "df['date'] = pd.to_datetime(df['date'])"
   ]
  },
  {
   "cell_type": "code",
   "execution_count": 354,
   "metadata": {},
   "outputs": [
    {
     "data": {
      "text/plain": [
       "'98019'"
      ]
     },
     "execution_count": 354,
     "metadata": {},
     "output_type": "execute_result"
    }
   ],
   "source": [
    "df['address'][1000][-20:-15]"
   ]
  },
  {
   "cell_type": "code",
   "execution_count": 355,
   "metadata": {},
   "outputs": [
    {
     "data": {
      "text/plain": [
       "'98055'"
      ]
     },
     "execution_count": 355,
     "metadata": {},
     "output_type": "execute_result"
    }
   ],
   "source": [
    "# df['Zipcode'] = df['address'].str.extract(r'(\\d{5}\\-?\\d{0,4})')\n",
    "df['address'][0].split(',')[2][-5:]"
   ]
  },
  {
   "cell_type": "code",
   "execution_count": 356,
   "metadata": {},
   "outputs": [],
   "source": [
    "df['Zipcode'] = df['address'].apply(lambda x: x[-20:-15])"
   ]
  },
  {
   "cell_type": "code",
   "execution_count": 357,
   "metadata": {},
   "outputs": [],
   "source": [
    "df['Zipcode'] = df['Zipcode'].astype(int)"
   ]
  },
  {
   "cell_type": "code",
   "execution_count": 358,
   "metadata": {},
   "outputs": [
    {
     "data": {
      "text/plain": [
       "<AxesSubplot:>"
      ]
     },
     "execution_count": 358,
     "metadata": {},
     "output_type": "execute_result"
    },
    {
     "data": {
      "image/png": "[encoded data removed]",
      "text/plain": [
       "<Figure size 432x288 with 1 Axes>"
      ]
     },
     "metadata": {
      "needs_background": "light"
     },
     "output_type": "display_data"
    }
   ],
   "source": [
    "df['Zipcode'].hist()"
   ]
  },
  {
   "cell_type": "code",
   "execution_count": 359,
   "metadata": {},
   "outputs": [],
   "source": [
    "df = df.loc[(df['Zipcode'] > 98000) & (df['Zipcode'] <= 98288)]"
   ]
  },
  {
   "cell_type": "code",
   "execution_count": 360,
   "metadata": {},
   "outputs": [
    {
     "name": "stdout",
     "output_type": "stream",
     "text": [
      "<class 'pandas.core.frame.DataFrame'>\n",
      "Int64Index: 29208 entries, 0 to 30154\n",
      "Data columns (total 25 columns):\n",
      " #   Column         Non-Null Count  Dtype         \n",
      "---  ------         --------------  -----         \n",
      " 0   date           29208 non-null  datetime64[ns]\n",
      " 1   price          29208 non-null  float64       \n",
      " 2   bedrooms       29208 non-null  int64         \n",
      " 3   bathrooms      29208 non-null  float64       \n",
      " 4   sqft_living    29208 non-null  int64         \n",
      " 5   sqft_lot       29208 non-null  int64         \n",
      " 6   floors         29208 non-null  float64       \n",
      " 7   waterfront     29208 non-null  object        \n",
      " 8   greenbelt      29208 non-null  object        \n",
      " 9   nuisance       29208 non-null  object        \n",
      " 10  view           29208 non-null  object        \n",
      " 11  condition      29208 non-null  object        \n",
      " 12  grade          29208 non-null  object        \n",
      " 13  heat_source    29179 non-null  object        \n",
      " 14  sewer_system   29195 non-null  object        \n",
      " 15  sqft_above     29208 non-null  int64         \n",
      " 16  sqft_basement  29208 non-null  int64         \n",
      " 17  sqft_garage    29208 non-null  int64         \n",
      " 18  sqft_patio     29208 non-null  int64         \n",
      " 19  yr_built       29208 non-null  int64         \n",
      " 20  yr_renovated   29208 non-null  int64         \n",
      " 21  address        29208 non-null  object        \n",
      " 22  lat            29208 non-null  float64       \n",
      " 23  long           29208 non-null  float64       \n",
      " 24  Zipcode        29208 non-null  int64         \n",
      "dtypes: datetime64[ns](1), float64(5), int64(10), object(9)\n",
      "memory usage: 5.8+ MB\n"
     ]
    }
   ],
   "source": [
    "df.info()"
   ]
  },
  {
   "cell_type": "code",
   "execution_count": 361,
   "metadata": {
    "scrolled": true
   },
   "outputs": [
    {
     "data": {
      "text/html": [
       "<div>\n",
       "<style scoped>\n",
       "    .dataframe tbody tr th:only-of-type {\n",
       "        vertical-align: middle;\n",
       "    }\n",
       "\n",
       "    .dataframe tbody tr th {\n",
       "        vertical-align: top;\n",
       "    }\n",
       "\n",
       "    .dataframe thead th {\n",
       "        text-align: right;\n",
       "    }\n",
       "</style>\n",
       "<table border=\"1\" class=\"dataframe\">\n",
       "  <thead>\n",
       "    <tr style=\"text-align: right;\">\n",
       "      <th></th>\n",
       "      <th>Neighborhood</th>\n",
       "      <th>Population</th>\n",
       "    </tr>\n",
       "    <tr>\n",
       "      <th>ZIP Code</th>\n",
       "      <th></th>\n",
       "      <th></th>\n",
       "    </tr>\n",
       "  </thead>\n",
       "  <tbody>\n",
       "    <tr>\n",
       "      <th>98001</th>\n",
       "      <td>Auburn</td>\n",
       "      <td>31911.0</td>\n",
       "    </tr>\n",
       "    <tr>\n",
       "      <th>98002</th>\n",
       "      <td>Auburn</td>\n",
       "      <td>31647.0</td>\n",
       "    </tr>\n",
       "    <tr>\n",
       "      <th>98003</th>\n",
       "      <td>Federal Way</td>\n",
       "      <td>44151.0</td>\n",
       "    </tr>\n",
       "    <tr>\n",
       "      <th>98004</th>\n",
       "      <td>Bellevue</td>\n",
       "      <td>27946.0</td>\n",
       "    </tr>\n",
       "    <tr>\n",
       "      <th>98005</th>\n",
       "      <td>Bellevue</td>\n",
       "      <td>17714.0</td>\n",
       "    </tr>\n",
       "  </tbody>\n",
       "</table>\n",
       "</div>"
      ],
      "text/plain": [
       "         Neighborhood  Population\n",
       "ZIP Code                         \n",
       "98001          Auburn     31911.0\n",
       "98002          Auburn     31647.0\n",
       "98003     Federal Way     44151.0\n",
       "98004        Bellevue     27946.0\n",
       "98005        Bellevue     17714.0"
      ]
     },
     "execution_count": 361,
     "metadata": {},
     "output_type": "execute_result"
    }
   ],
   "source": [
    "df_zip = pd.read_csv('data/kc_zipcode_details.csv', index_col=0)\n",
    "df_zip.head()"
   ]
  },
  {
   "cell_type": "code",
   "execution_count": 362,
   "metadata": {},
   "outputs": [],
   "source": [
    "df_zip.index.names = ['Zipcode']"
   ]
  },
  {
   "cell_type": "code",
   "execution_count": 363,
   "metadata": {},
   "outputs": [
    {
     "data": {
      "text/html": [
       "<div>\n",
       "<style scoped>\n",
       "    .dataframe tbody tr th:only-of-type {\n",
       "        vertical-align: middle;\n",
       "    }\n",
       "\n",
       "    .dataframe tbody tr th {\n",
       "        vertical-align: top;\n",
       "    }\n",
       "\n",
       "    .dataframe thead th {\n",
       "        text-align: right;\n",
       "    }\n",
       "</style>\n",
       "<table border=\"1\" class=\"dataframe\">\n",
       "  <thead>\n",
       "    <tr style=\"text-align: right;\">\n",
       "      <th></th>\n",
       "      <th>Neighborhood</th>\n",
       "      <th>Population</th>\n",
       "    </tr>\n",
       "    <tr>\n",
       "      <th>Zipcode</th>\n",
       "      <th></th>\n",
       "      <th></th>\n",
       "    </tr>\n",
       "  </thead>\n",
       "  <tbody>\n",
       "    <tr>\n",
       "      <th>98001</th>\n",
       "      <td>Auburn</td>\n",
       "      <td>31911.0</td>\n",
       "    </tr>\n",
       "    <tr>\n",
       "      <th>98002</th>\n",
       "      <td>Auburn</td>\n",
       "      <td>31647.0</td>\n",
       "    </tr>\n",
       "    <tr>\n",
       "      <th>98003</th>\n",
       "      <td>Federal Way</td>\n",
       "      <td>44151.0</td>\n",
       "    </tr>\n",
       "    <tr>\n",
       "      <th>98004</th>\n",
       "      <td>Bellevue</td>\n",
       "      <td>27946.0</td>\n",
       "    </tr>\n",
       "    <tr>\n",
       "      <th>98005</th>\n",
       "      <td>Bellevue</td>\n",
       "      <td>17714.0</td>\n",
       "    </tr>\n",
       "  </tbody>\n",
       "</table>\n",
       "</div>"
      ],
      "text/plain": [
       "        Neighborhood  Population\n",
       "Zipcode                         \n",
       "98001         Auburn     31911.0\n",
       "98002         Auburn     31647.0\n",
       "98003    Federal Way     44151.0\n",
       "98004       Bellevue     27946.0\n",
       "98005       Bellevue     17714.0"
      ]
     },
     "execution_count": 363,
     "metadata": {},
     "output_type": "execute_result"
    }
   ],
   "source": [
    "df_zip.head()"
   ]
  },
  {
   "cell_type": "code",
   "execution_count": 364,
   "metadata": {},
   "outputs": [],
   "source": [
    "df_zip.reset_index(inplace=True)"
   ]
  },
  {
   "cell_type": "code",
   "execution_count": 365,
   "metadata": {},
   "outputs": [
    {
     "data": {
      "text/html": [
       "<div>\n",
       "<style scoped>\n",
       "    .dataframe tbody tr th:only-of-type {\n",
       "        vertical-align: middle;\n",
       "    }\n",
       "\n",
       "    .dataframe tbody tr th {\n",
       "        vertical-align: top;\n",
       "    }\n",
       "\n",
       "    .dataframe thead th {\n",
       "        text-align: right;\n",
       "    }\n",
       "</style>\n",
       "<table border=\"1\" class=\"dataframe\">\n",
       "  <thead>\n",
       "    <tr style=\"text-align: right;\">\n",
       "      <th></th>\n",
       "      <th>Zipcode</th>\n",
       "      <th>Neighborhood</th>\n",
       "      <th>Population</th>\n",
       "    </tr>\n",
       "  </thead>\n",
       "  <tbody>\n",
       "    <tr>\n",
       "      <th>0</th>\n",
       "      <td>98001</td>\n",
       "      <td>Auburn</td>\n",
       "      <td>31911.0</td>\n",
       "    </tr>\n",
       "    <tr>\n",
       "      <th>1</th>\n",
       "      <td>98002</td>\n",
       "      <td>Auburn</td>\n",
       "      <td>31647.0</td>\n",
       "    </tr>\n",
       "    <tr>\n",
       "      <th>2</th>\n",
       "      <td>98003</td>\n",
       "      <td>Federal Way</td>\n",
       "      <td>44151.0</td>\n",
       "    </tr>\n",
       "    <tr>\n",
       "      <th>3</th>\n",
       "      <td>98004</td>\n",
       "      <td>Bellevue</td>\n",
       "      <td>27946.0</td>\n",
       "    </tr>\n",
       "    <tr>\n",
       "      <th>4</th>\n",
       "      <td>98005</td>\n",
       "      <td>Bellevue</td>\n",
       "      <td>17714.0</td>\n",
       "    </tr>\n",
       "  </tbody>\n",
       "</table>\n",
       "</div>"
      ],
      "text/plain": [
       "   Zipcode Neighborhood  Population\n",
       "0    98001       Auburn     31911.0\n",
       "1    98002       Auburn     31647.0\n",
       "2    98003  Federal Way     44151.0\n",
       "3    98004     Bellevue     27946.0\n",
       "4    98005     Bellevue     17714.0"
      ]
     },
     "execution_count": 365,
     "metadata": {},
     "output_type": "execute_result"
    }
   ],
   "source": [
    "df_zip.head()"
   ]
  },
  {
   "cell_type": "code",
   "execution_count": 366,
   "metadata": {},
   "outputs": [
    {
     "data": {
      "text/plain": [
       "<AxesSubplot:>"
      ]
     },
     "execution_count": 366,
     "metadata": {},
     "output_type": "execute_result"
    },
    {
     "data": {
      "image/png": "[encoded data removed]",
      "text/plain": [
       "<Figure size 432x288 with 1 Axes>"
      ]
     },
     "metadata": {
      "needs_background": "light"
     },
     "output_type": "display_data"
    }
   ],
   "source": [
    "df_zip['Zipcode'].hist()"
   ]
  },
  {
   "cell_type": "code",
   "execution_count": 367,
   "metadata": {},
   "outputs": [],
   "source": [
    "df_zip = df_zip.loc[(df_zip['Zipcode'] > 98000) & (df_zip['Zipcode'] <= 98288)]"
   ]
  },
  {
   "cell_type": "code",
   "execution_count": 368,
   "metadata": {},
   "outputs": [
    {
     "name": "stdout",
     "output_type": "stream",
     "text": [
      "<class 'pandas.core.frame.DataFrame'>\n",
      "Int64Index: 124 entries, 0 to 127\n",
      "Data columns (total 3 columns):\n",
      " #   Column        Non-Null Count  Dtype  \n",
      "---  ------        --------------  -----  \n",
      " 0   Zipcode       124 non-null    int64  \n",
      " 1   Neighborhood  124 non-null    object \n",
      " 2   Population    82 non-null     float64\n",
      "dtypes: float64(1), int64(1), object(1)\n",
      "memory usage: 3.9+ KB\n"
     ]
    }
   ],
   "source": [
    "df_zip.info()"
   ]
  },
  {
   "cell_type": "code",
   "execution_count": 369,
   "metadata": {},
   "outputs": [
    {
     "data": {
      "text/plain": [
       "Zipcode         124\n",
       "Neighborhood     34\n",
       "Population       81\n",
       "dtype: int64"
      ]
     },
     "execution_count": 369,
     "metadata": {},
     "output_type": "execute_result"
    }
   ],
   "source": [
    "df_zip.nunique()"
   ]
  },
  {
   "cell_type": "code",
   "execution_count": 370,
   "metadata": {},
   "outputs": [
    {
     "name": "stdout",
     "output_type": "stream",
     "text": [
      "<class 'pandas.core.frame.DataFrame'>\n",
      "Int64Index: 29208 entries, 0 to 30154\n",
      "Data columns (total 25 columns):\n",
      " #   Column         Non-Null Count  Dtype         \n",
      "---  ------         --------------  -----         \n",
      " 0   date           29208 non-null  datetime64[ns]\n",
      " 1   price          29208 non-null  float64       \n",
      " 2   bedrooms       29208 non-null  int64         \n",
      " 3   bathrooms      29208 non-null  float64       \n",
      " 4   sqft_living    29208 non-null  int64         \n",
      " 5   sqft_lot       29208 non-null  int64         \n",
      " 6   floors         29208 non-null  float64       \n",
      " 7   waterfront     29208 non-null  object        \n",
      " 8   greenbelt      29208 non-null  object        \n",
      " 9   nuisance       29208 non-null  object        \n",
      " 10  view           29208 non-null  object        \n",
      " 11  condition      29208 non-null  object        \n",
      " 12  grade          29208 non-null  object        \n",
      " 13  heat_source    29179 non-null  object        \n",
      " 14  sewer_system   29195 non-null  object        \n",
      " 15  sqft_above     29208 non-null  int64         \n",
      " 16  sqft_basement  29208 non-null  int64         \n",
      " 17  sqft_garage    29208 non-null  int64         \n",
      " 18  sqft_patio     29208 non-null  int64         \n",
      " 19  yr_built       29208 non-null  int64         \n",
      " 20  yr_renovated   29208 non-null  int64         \n",
      " 21  address        29208 non-null  object        \n",
      " 22  lat            29208 non-null  float64       \n",
      " 23  long           29208 non-null  float64       \n",
      " 24  Zipcode        29208 non-null  int64         \n",
      "dtypes: datetime64[ns](1), float64(5), int64(10), object(9)\n",
      "memory usage: 5.8+ MB\n"
     ]
    }
   ],
   "source": [
    "df.info()"
   ]
  },
  {
   "cell_type": "code",
   "execution_count": 371,
   "metadata": {},
   "outputs": [
    {
     "data": {
      "text/plain": [
       "81"
      ]
     },
     "execution_count": 371,
     "metadata": {},
     "output_type": "execute_result"
    }
   ],
   "source": [
    "df['Zipcode'].nunique()"
   ]
  },
  {
   "cell_type": "code",
   "execution_count": 372,
   "metadata": {},
   "outputs": [],
   "source": [
    "rnmdate = {'date':'selldate'}\n",
    "df.rename(columns=rnmdate, inplace=True)"
   ]
  },
  {
   "cell_type": "code",
   "execution_count": 373,
   "metadata": {},
   "outputs": [
    {
     "data": {
      "text/html": [
       "<div>\n",
       "<style scoped>\n",
       "    .dataframe tbody tr th:only-of-type {\n",
       "        vertical-align: middle;\n",
       "    }\n",
       "\n",
       "    .dataframe tbody tr th {\n",
       "        vertical-align: top;\n",
       "    }\n",
       "\n",
       "    .dataframe thead th {\n",
       "        text-align: right;\n",
       "    }\n",
       "</style>\n",
       "<table border=\"1\" class=\"dataframe\">\n",
       "  <thead>\n",
       "    <tr style=\"text-align: right;\">\n",
       "      <th></th>\n",
       "      <th>price</th>\n",
       "      <th>bedrooms</th>\n",
       "      <th>bathrooms</th>\n",
       "      <th>sqft_living</th>\n",
       "      <th>sqft_lot</th>\n",
       "      <th>floors</th>\n",
       "      <th>sqft_above</th>\n",
       "      <th>sqft_basement</th>\n",
       "      <th>sqft_garage</th>\n",
       "      <th>sqft_patio</th>\n",
       "      <th>yr_built</th>\n",
       "      <th>yr_renovated</th>\n",
       "      <th>lat</th>\n",
       "      <th>long</th>\n",
       "      <th>Zipcode</th>\n",
       "    </tr>\n",
       "  </thead>\n",
       "  <tbody>\n",
       "    <tr>\n",
       "      <th>count</th>\n",
       "      <td>2.920800e+04</td>\n",
       "      <td>29208.000000</td>\n",
       "      <td>29208.000000</td>\n",
       "      <td>29208.000000</td>\n",
       "      <td>2.920800e+04</td>\n",
       "      <td>29208.000000</td>\n",
       "      <td>29208.000000</td>\n",
       "      <td>29208.000000</td>\n",
       "      <td>29208.000000</td>\n",
       "      <td>29208.000000</td>\n",
       "      <td>29208.000000</td>\n",
       "      <td>29208.000000</td>\n",
       "      <td>29208.000000</td>\n",
       "      <td>29208.000000</td>\n",
       "      <td>29208.000000</td>\n",
       "    </tr>\n",
       "    <tr>\n",
       "      <th>mean</th>\n",
       "      <td>1.113195e+06</td>\n",
       "      <td>3.435497</td>\n",
       "      <td>2.332221</td>\n",
       "      <td>2131.250342</td>\n",
       "      <td>1.720087e+04</td>\n",
       "      <td>1.516947</td>\n",
       "      <td>1826.203437</td>\n",
       "      <td>480.945974</td>\n",
       "      <td>336.247364</td>\n",
       "      <td>216.391742</td>\n",
       "      <td>1973.852267</td>\n",
       "      <td>93.870241</td>\n",
       "      <td>47.543569</td>\n",
       "      <td>-122.214082</td>\n",
       "      <td>98077.348740</td>\n",
       "    </tr>\n",
       "    <tr>\n",
       "      <th>std</th>\n",
       "      <td>8.956666e+05</td>\n",
       "      <td>0.978918</td>\n",
       "      <td>0.896185</td>\n",
       "      <td>977.621843</td>\n",
       "      <td>6.129149e+04</td>\n",
       "      <td>0.548426</td>\n",
       "      <td>881.013444</td>\n",
       "      <td>586.026595</td>\n",
       "      <td>286.269126</td>\n",
       "      <td>246.817642</td>\n",
       "      <td>31.688131</td>\n",
       "      <td>422.843882</td>\n",
       "      <td>0.146367</td>\n",
       "      <td>0.143646</td>\n",
       "      <td>54.326649</td>\n",
       "    </tr>\n",
       "    <tr>\n",
       "      <th>min</th>\n",
       "      <td>2.736000e+04</td>\n",
       "      <td>0.000000</td>\n",
       "      <td>0.000000</td>\n",
       "      <td>3.000000</td>\n",
       "      <td>4.020000e+02</td>\n",
       "      <td>1.000000</td>\n",
       "      <td>2.000000</td>\n",
       "      <td>0.000000</td>\n",
       "      <td>0.000000</td>\n",
       "      <td>0.000000</td>\n",
       "      <td>1900.000000</td>\n",
       "      <td>0.000000</td>\n",
       "      <td>47.155265</td>\n",
       "      <td>-122.526650</td>\n",
       "      <td>98001.000000</td>\n",
       "    </tr>\n",
       "    <tr>\n",
       "      <th>25%</th>\n",
       "      <td>6.450000e+05</td>\n",
       "      <td>3.000000</td>\n",
       "      <td>2.000000</td>\n",
       "      <td>1440.000000</td>\n",
       "      <td>5.000000e+03</td>\n",
       "      <td>1.000000</td>\n",
       "      <td>1190.000000</td>\n",
       "      <td>0.000000</td>\n",
       "      <td>0.000000</td>\n",
       "      <td>40.000000</td>\n",
       "      <td>1952.000000</td>\n",
       "      <td>0.000000</td>\n",
       "      <td>47.431060</td>\n",
       "      <td>-122.328355</td>\n",
       "      <td>98032.000000</td>\n",
       "    </tr>\n",
       "    <tr>\n",
       "      <th>50%</th>\n",
       "      <td>8.689000e+05</td>\n",
       "      <td>3.000000</td>\n",
       "      <td>2.500000</td>\n",
       "      <td>1940.000000</td>\n",
       "      <td>7.560000e+03</td>\n",
       "      <td>1.500000</td>\n",
       "      <td>1580.000000</td>\n",
       "      <td>0.000000</td>\n",
       "      <td>400.000000</td>\n",
       "      <td>141.500000</td>\n",
       "      <td>1976.000000</td>\n",
       "      <td>0.000000</td>\n",
       "      <td>47.557997</td>\n",
       "      <td>-122.233798</td>\n",
       "      <td>98059.000000</td>\n",
       "    </tr>\n",
       "    <tr>\n",
       "      <th>75%</th>\n",
       "      <td>1.310000e+06</td>\n",
       "      <td>4.000000</td>\n",
       "      <td>3.000000</td>\n",
       "      <td>2640.000000</td>\n",
       "      <td>1.078075e+04</td>\n",
       "      <td>2.000000</td>\n",
       "      <td>2290.000000</td>\n",
       "      <td>960.000000</td>\n",
       "      <td>510.250000</td>\n",
       "      <td>310.000000</td>\n",
       "      <td>2001.000000</td>\n",
       "      <td>0.000000</td>\n",
       "      <td>47.672063</td>\n",
       "      <td>-122.127324</td>\n",
       "      <td>98117.000000</td>\n",
       "    </tr>\n",
       "    <tr>\n",
       "      <th>max</th>\n",
       "      <td>3.075000e+07</td>\n",
       "      <td>13.000000</td>\n",
       "      <td>10.500000</td>\n",
       "      <td>15360.000000</td>\n",
       "      <td>3.253932e+06</td>\n",
       "      <td>4.000000</td>\n",
       "      <td>12660.000000</td>\n",
       "      <td>8020.000000</td>\n",
       "      <td>3580.000000</td>\n",
       "      <td>4370.000000</td>\n",
       "      <td>2022.000000</td>\n",
       "      <td>2022.000000</td>\n",
       "      <td>48.111504</td>\n",
       "      <td>-121.163960</td>\n",
       "      <td>98288.000000</td>\n",
       "    </tr>\n",
       "  </tbody>\n",
       "</table>\n",
       "</div>"
      ],
      "text/plain": [
       "              price      bedrooms     bathrooms   sqft_living      sqft_lot  \\\n",
       "count  2.920800e+04  29208.000000  29208.000000  29208.000000  2.920800e+04   \n",
       "mean   1.113195e+06      3.435497      2.332221   2131.250342  1.720087e+04   \n",
       "std    8.956666e+05      0.978918      0.896185    977.621843  6.129149e+04   \n",
       "min    2.736000e+04      0.000000      0.000000      3.000000  4.020000e+02   \n",
       "25%    6.450000e+05      3.000000      2.000000   1440.000000  5.000000e+03   \n",
       "50%    8.689000e+05      3.000000      2.500000   1940.000000  7.560000e+03   \n",
       "75%    1.310000e+06      4.000000      3.000000   2640.000000  1.078075e+04   \n",
       "max    3.075000e+07     13.000000     10.500000  15360.000000  3.253932e+06   \n",
       "\n",
       "             floors    sqft_above  sqft_basement   sqft_garage    sqft_patio  \\\n",
       "count  29208.000000  29208.000000   29208.000000  29208.000000  29208.000000   \n",
       "mean       1.516947   1826.203437     480.945974    336.247364    216.391742   \n",
       "std        0.548426    881.013444     586.026595    286.269126    246.817642   \n",
       "min        1.000000      2.000000       0.000000      0.000000      0.000000   \n",
       "25%        1.000000   1190.000000       0.000000      0.000000     40.000000   \n",
       "50%        1.500000   1580.000000       0.000000    400.000000    141.500000   \n",
       "75%        2.000000   2290.000000     960.000000    510.250000    310.000000   \n",
       "max        4.000000  12660.000000    8020.000000   3580.000000   4370.000000   \n",
       "\n",
       "           yr_built  yr_renovated           lat          long       Zipcode  \n",
       "count  29208.000000  29208.000000  29208.000000  29208.000000  29208.000000  \n",
       "mean    1973.852267     93.870241     47.543569   -122.214082  98077.348740  \n",
       "std       31.688131    422.843882      0.146367      0.143646     54.326649  \n",
       "min     1900.000000      0.000000     47.155265   -122.526650  98001.000000  \n",
       "25%     1952.000000      0.000000     47.431060   -122.328355  98032.000000  \n",
       "50%     1976.000000      0.000000     47.557997   -122.233798  98059.000000  \n",
       "75%     2001.000000      0.000000     47.672063   -122.127324  98117.000000  \n",
       "max     2022.000000   2022.000000     48.111504   -121.163960  98288.000000  "
      ]
     },
     "execution_count": 373,
     "metadata": {},
     "output_type": "execute_result"
    }
   ],
   "source": [
    "df.describe()"
   ]
  },
  {
   "cell_type": "markdown",
   "metadata": {},
   "source": [
    "### Data Cleaning"
   ]
  },
  {
   "cell_type": "code",
   "execution_count": 374,
   "metadata": {},
   "outputs": [],
   "source": [
    "df['yr_old'] = np.where(df['yr_renovated'] !=0,df.selldate.apply(lambda x: x.year) - df['yr_renovated'],\n",
    "                        df['selldate'].apply(lambda x: x.year) - df['yr_built'])"
   ]
  },
  {
   "cell_type": "code",
   "execution_count": 332,
   "metadata": {},
   "outputs": [
    {
     "name": "stdout",
     "output_type": "stream",
     "text": [
      "<class 'pandas.core.frame.DataFrame'>\n",
      "Int64Index: 29208 entries, 0 to 30154\n",
      "Data columns (total 26 columns):\n",
      " #   Column         Non-Null Count  Dtype         \n",
      "---  ------         --------------  -----         \n",
      " 0   selldate       29208 non-null  datetime64[ns]\n",
      " 1   price          29208 non-null  float64       \n",
      " 2   bedrooms       29208 non-null  int64         \n",
      " 3   bathrooms      29208 non-null  float64       \n",
      " 4   sqft_living    29208 non-null  int64         \n",
      " 5   sqft_lot       29208 non-null  int64         \n",
      " 6   floors         29208 non-null  float64       \n",
      " 7   waterfront     29208 non-null  object        \n",
      " 8   greenbelt      29208 non-null  object        \n",
      " 9   nuisance       29208 non-null  object        \n",
      " 10  view           29208 non-null  object        \n",
      " 11  condition      29208 non-null  object        \n",
      " 12  grade          29208 non-null  object        \n",
      " 13  heat_source    29179 non-null  object        \n",
      " 14  sewer_system   29195 non-null  object        \n",
      " 15  sqft_above     29208 non-null  int64         \n",
      " 16  sqft_basement  29208 non-null  int64         \n",
      " 17  sqft_garage    29208 non-null  int64         \n",
      " 18  sqft_patio     29208 non-null  int64         \n",
      " 19  yr_built       29208 non-null  int64         \n",
      " 20  yr_renovated   29208 non-null  int64         \n",
      " 21  address        29208 non-null  object        \n",
      " 22  lat            29208 non-null  float64       \n",
      " 23  long           29208 non-null  float64       \n",
      " 24  Zipcode        29208 non-null  int64         \n",
      " 25  yr_old         29208 non-null  int64         \n",
      "dtypes: datetime64[ns](1), float64(5), int64(11), object(9)\n",
      "memory usage: 6.0+ MB\n"
     ]
    }
   ],
   "source": [
    "df.info()"
   ]
  },
  {
   "cell_type": "code",
   "execution_count": 333,
   "metadata": {},
   "outputs": [
    {
     "data": {
      "text/plain": [
       "selldate         0.000000\n",
       "price            0.000000\n",
       "bedrooms         0.000000\n",
       "bathrooms        0.000000\n",
       "sqft_living      0.000000\n",
       "sqft_lot         0.000000\n",
       "floors           0.000000\n",
       "waterfront       0.000000\n",
       "greenbelt        0.000000\n",
       "nuisance         0.000000\n",
       "view             0.000000\n",
       "condition        0.000000\n",
       "grade            0.000000\n",
       "heat_source      0.000993\n",
       "sewer_system     0.000445\n",
       "sqft_above       0.000000\n",
       "sqft_basement    0.000000\n",
       "sqft_garage      0.000000\n",
       "sqft_patio       0.000000\n",
       "yr_built         0.000000\n",
       "yr_renovated     0.000000\n",
       "address          0.000000\n",
       "lat              0.000000\n",
       "long             0.000000\n",
       "Zipcode          0.000000\n",
       "yr_old           0.000000\n",
       "dtype: float64"
      ]
     },
     "execution_count": 333,
     "metadata": {},
     "output_type": "execute_result"
    }
   ],
   "source": [
    "df.isna().sum()/df.shape[0]"
   ]
  },
  {
   "cell_type": "code",
   "execution_count": 334,
   "metadata": {},
   "outputs": [],
   "source": [
    "# remove missing values in columns\n",
    "df.dropna(subset=['heat_source', 'sewer_system'], axis=0, inplace=True)"
   ]
  },
  {
   "cell_type": "code",
   "execution_count": 335,
   "metadata": {},
   "outputs": [
    {
     "data": {
      "text/plain": [
       "Zipcode         0.00000\n",
       "Neighborhood    0.00000\n",
       "Population      0.00144\n",
       "dtype: float64"
      ]
     },
     "execution_count": 335,
     "metadata": {},
     "output_type": "execute_result"
    }
   ],
   "source": [
    "df_zip.isna().sum()/df.shape[0]"
   ]
  },
  {
   "cell_type": "code",
   "execution_count": 336,
   "metadata": {},
   "outputs": [],
   "source": [
    "df_zip.dropna(subset=['Population'], axis=0, inplace=True)"
   ]
  },
  {
   "cell_type": "markdown",
   "metadata": {},
   "source": [
    "## Join on zipcode to include neighborhood"
   ]
  },
  {
   "cell_type": "code",
   "execution_count": 337,
   "metadata": {},
   "outputs": [],
   "source": [
    "df1 = df.merge(df_zip, how='left', on='Zipcode')"
   ]
  },
  {
   "cell_type": "code",
   "execution_count": 338,
   "metadata": {},
   "outputs": [
    {
     "name": "stdout",
     "output_type": "stream",
     "text": [
      "<class 'pandas.core.frame.DataFrame'>\n",
      "Int64Index: 29168 entries, 0 to 29167\n",
      "Data columns (total 28 columns):\n",
      " #   Column         Non-Null Count  Dtype         \n",
      "---  ------         --------------  -----         \n",
      " 0   selldate       29168 non-null  datetime64[ns]\n",
      " 1   price          29168 non-null  float64       \n",
      " 2   bedrooms       29168 non-null  int64         \n",
      " 3   bathrooms      29168 non-null  float64       \n",
      " 4   sqft_living    29168 non-null  int64         \n",
      " 5   sqft_lot       29168 non-null  int64         \n",
      " 6   floors         29168 non-null  float64       \n",
      " 7   waterfront     29168 non-null  object        \n",
      " 8   greenbelt      29168 non-null  object        \n",
      " 9   nuisance       29168 non-null  object        \n",
      " 10  view           29168 non-null  object        \n",
      " 11  condition      29168 non-null  object        \n",
      " 12  grade          29168 non-null  object        \n",
      " 13  heat_source    29168 non-null  object        \n",
      " 14  sewer_system   29168 non-null  object        \n",
      " 15  sqft_above     29168 non-null  int64         \n",
      " 16  sqft_basement  29168 non-null  int64         \n",
      " 17  sqft_garage    29168 non-null  int64         \n",
      " 18  sqft_patio     29168 non-null  int64         \n",
      " 19  yr_built       29168 non-null  int64         \n",
      " 20  yr_renovated   29168 non-null  int64         \n",
      " 21  address        29168 non-null  object        \n",
      " 22  lat            29168 non-null  float64       \n",
      " 23  long           29168 non-null  float64       \n",
      " 24  Zipcode        29168 non-null  int64         \n",
      " 25  yr_old         29168 non-null  int64         \n",
      " 26  Neighborhood   29152 non-null  object        \n",
      " 27  Population     29152 non-null  float64       \n",
      "dtypes: datetime64[ns](1), float64(6), int64(11), object(10)\n",
      "memory usage: 6.5+ MB\n"
     ]
    }
   ],
   "source": [
    "df1.info()"
   ]
  },
  {
   "cell_type": "code",
   "execution_count": 339,
   "metadata": {},
   "outputs": [
    {
     "data": {
      "text/plain": [
       "selldate         0.000000\n",
       "price            0.000000\n",
       "bedrooms         0.000000\n",
       "bathrooms        0.000000\n",
       "sqft_living      0.000000\n",
       "sqft_lot         0.000000\n",
       "floors           0.000000\n",
       "waterfront       0.000000\n",
       "greenbelt        0.000000\n",
       "nuisance         0.000000\n",
       "view             0.000000\n",
       "condition        0.000000\n",
       "grade            0.000000\n",
       "heat_source      0.000000\n",
       "sewer_system     0.000000\n",
       "sqft_above       0.000000\n",
       "sqft_basement    0.000000\n",
       "sqft_garage      0.000000\n",
       "sqft_patio       0.000000\n",
       "yr_built         0.000000\n",
       "yr_renovated     0.000000\n",
       "address          0.000000\n",
       "lat              0.000000\n",
       "long             0.000000\n",
       "Zipcode          0.000000\n",
       "yr_old           0.000000\n",
       "Neighborhood     0.000549\n",
       "Population       0.000549\n",
       "dtype: float64"
      ]
     },
     "execution_count": 339,
     "metadata": {},
     "output_type": "execute_result"
    }
   ],
   "source": [
    "df1.isna().sum()/df.shape[0]"
   ]
  },
  {
   "cell_type": "code",
   "execution_count": 340,
   "metadata": {},
   "outputs": [],
   "source": [
    "df1.dropna(subset=['Population', 'Neighborhood'], axis=0, inplace=True)"
   ]
  },
  {
   "cell_type": "code",
   "execution_count": 341,
   "metadata": {},
   "outputs": [
    {
     "name": "stdout",
     "output_type": "stream",
     "text": [
      "<class 'pandas.core.frame.DataFrame'>\n",
      "Int64Index: 29152 entries, 0 to 29167\n",
      "Data columns (total 28 columns):\n",
      " #   Column         Non-Null Count  Dtype         \n",
      "---  ------         --------------  -----         \n",
      " 0   selldate       29152 non-null  datetime64[ns]\n",
      " 1   price          29152 non-null  float64       \n",
      " 2   bedrooms       29152 non-null  int64         \n",
      " 3   bathrooms      29152 non-null  float64       \n",
      " 4   sqft_living    29152 non-null  int64         \n",
      " 5   sqft_lot       29152 non-null  int64         \n",
      " 6   floors         29152 non-null  float64       \n",
      " 7   waterfront     29152 non-null  object        \n",
      " 8   greenbelt      29152 non-null  object        \n",
      " 9   nuisance       29152 non-null  object        \n",
      " 10  view           29152 non-null  object        \n",
      " 11  condition      29152 non-null  object        \n",
      " 12  grade          29152 non-null  object        \n",
      " 13  heat_source    29152 non-null  object        \n",
      " 14  sewer_system   29152 non-null  object        \n",
      " 15  sqft_above     29152 non-null  int64         \n",
      " 16  sqft_basement  29152 non-null  int64         \n",
      " 17  sqft_garage    29152 non-null  int64         \n",
      " 18  sqft_patio     29152 non-null  int64         \n",
      " 19  yr_built       29152 non-null  int64         \n",
      " 20  yr_renovated   29152 non-null  int64         \n",
      " 21  address        29152 non-null  object        \n",
      " 22  lat            29152 non-null  float64       \n",
      " 23  long           29152 non-null  float64       \n",
      " 24  Zipcode        29152 non-null  int64         \n",
      " 25  yr_old         29152 non-null  int64         \n",
      " 26  Neighborhood   29152 non-null  object        \n",
      " 27  Population     29152 non-null  float64       \n",
      "dtypes: datetime64[ns](1), float64(6), int64(11), object(10)\n",
      "memory usage: 6.4+ MB\n"
     ]
    }
   ],
   "source": [
    "df1.info()"
   ]
  },
  {
   "cell_type": "code",
   "execution_count": 342,
   "metadata": {},
   "outputs": [
    {
     "data": {
      "text/plain": [
       "selldate         0.0\n",
       "price            0.0\n",
       "bedrooms         0.0\n",
       "bathrooms        0.0\n",
       "sqft_living      0.0\n",
       "sqft_lot         0.0\n",
       "floors           0.0\n",
       "waterfront       0.0\n",
       "greenbelt        0.0\n",
       "nuisance         0.0\n",
       "view             0.0\n",
       "condition        0.0\n",
       "grade            0.0\n",
       "heat_source      0.0\n",
       "sewer_system     0.0\n",
       "sqft_above       0.0\n",
       "sqft_basement    0.0\n",
       "sqft_garage      0.0\n",
       "sqft_patio       0.0\n",
       "yr_built         0.0\n",
       "yr_renovated     0.0\n",
       "address          0.0\n",
       "lat              0.0\n",
       "long             0.0\n",
       "Zipcode          0.0\n",
       "yr_old           0.0\n",
       "Neighborhood     0.0\n",
       "Population       0.0\n",
       "dtype: float64"
      ]
     },
     "execution_count": 342,
     "metadata": {},
     "output_type": "execute_result"
    }
   ],
   "source": [
    "df1.isna().sum()/df1.shape[0]"
   ]
  },
  {
   "cell_type": "code",
   "execution_count": 345,
   "metadata": {},
   "outputs": [
    {
     "data": {
      "text/plain": [
       "Average      17588\n",
       "Good          8041\n",
       "Very Good     3255\n",
       "Fair           223\n",
       "Poor            61\n",
       "Name: condition, dtype: int64"
      ]
     },
     "execution_count": 345,
     "metadata": {},
     "output_type": "execute_result"
    }
   ],
   "source": [
    "df['condition'].value_counts()"
   ]
  },
  {
   "cell_type": "markdown",
   "metadata": {},
   "source": [
    "## Protected status"
   ]
  },
  {
   "cell_type": "code",
   "execution_count": 348,
   "metadata": {},
   "outputs": [
    {
     "data": {
      "text/plain": [
       "7 Average        11526\n",
       "8 Good            8832\n",
       "9 Better          3581\n",
       "6 Low Average     2845\n",
       "10 Very Good      1342\n",
       "11 Excellent       402\n",
       "5 Fair             385\n",
       "12 Luxury          120\n",
       "4 Low               46\n",
       "protected           39\n",
       "13 Mansion          24\n",
       "3 Poor               9\n",
       "2 Substandard        1\n",
       "Name: grade, dtype: int64"
      ]
     },
     "execution_count": 348,
     "metadata": {},
     "output_type": "execute_result"
    }
   ],
   "source": [
    "df1.loc[(df1['nuisance'] == 'YES') & (df1['greenbelt'] == 'YES')] = 'protected'\n",
    "df1['grade'].value_counts()"
   ]
  },
  {
   "cell_type": "code",
   "execution_count": 304,
   "metadata": {},
   "outputs": [
    {
     "data": {
      "text/plain": [
       "Average      17547\n",
       "Good          8031\n",
       "Very Good     3251\n",
       "Fair           223\n",
       "Poor            61\n",
       "protected       39\n",
       "Name: condition, dtype: int64"
      ]
     },
     "execution_count": 304,
     "metadata": {},
     "output_type": "execute_result"
    }
   ],
   "source": [
    "df1['condition'].value_counts()"
   ]
  },
  {
   "cell_type": "markdown",
   "metadata": {
    "index": 33
   },
   "source": [
    "HomeSales \n",
    "standard scaling allows you to find coefficients. \n",
    "Be sure to include metric - r squared - to describe overall model performance.  \n",
    "collineriety \n",
    "log scalling\n",
    "remove outliers.  \n",
    "Increase r squared. \n",
    "\n",
    "\n",
    "1. run model\n",
    "2. see improvements, clean feature engineer.  \n",
    "3. see coefficients becoming more accurate.\n"
   ]
  },
  {
   "cell_type": "markdown",
   "metadata": {},
   "source": [
    "## Target distribution"
   ]
  },
  {
   "cell_type": "code",
   "execution_count": 155,
   "metadata": {},
   "outputs": [
    {
     "data": {
      "text/plain": [
       "price            1.000000\n",
       "bedrooms         0.290832\n",
       "bathrooms        0.488047\n",
       "sqft_living      0.616651\n",
       "sqft_lot         0.086778\n",
       "floors           0.199824\n",
       "sqft_above       0.546001\n",
       "sqft_basement    0.246354\n",
       "sqft_garage      0.267526\n",
       "sqft_patio       0.317651\n",
       "yr_built         0.106133\n",
       "yr_renovated     0.085455\n",
       "lat              0.297267\n",
       "long             0.081310\n",
       "Zipcode         -0.104735\n",
       "yr_old          -0.138185\n",
       "Population      -0.112760\n",
       "Name: price, dtype: float64"
      ]
     },
     "execution_count": 155,
     "metadata": {},
     "output_type": "execute_result"
    }
   ],
   "source": [
    "df1.corr()['price']"
   ]
  },
  {
   "cell_type": "markdown",
   "metadata": {},
   "source": [
    "## Modeling 1:08"
   ]
  },
  {
   "cell_type": "code",
   "execution_count": 156,
   "metadata": {},
   "outputs": [],
   "source": [
    "cats = df1[['waterfront','greenbelt', 'nuisance', 'view', 'condition', 'grade', 'heat_source', 'sewer_system', 'Neighborhood']]\n",
    "cats2 = df1[['selldate','price','waterfront','greenbelt', 'nuisance', 'view', 'condition', 'grade', 'heat_source', 'sewer_system', 'address', 'Zipcode', 'Neighborhood']]"
   ]
  },
  {
   "cell_type": "markdown",
   "metadata": {
    "index": 35
   },
   "source": [
    "### Baseline Model"
   ]
  },
  {
   "cell_type": "code",
   "execution_count": 157,
   "metadata": {},
   "outputs": [],
   "source": [
    "pred_cols = [x for x in df1.columns if x not in cats2]"
   ]
  },
  {
   "cell_type": "code",
   "execution_count": 158,
   "metadata": {},
   "outputs": [
    {
     "data": {
      "text/plain": [
       "['bedrooms',\n",
       " 'bathrooms',\n",
       " 'sqft_living',\n",
       " 'sqft_lot',\n",
       " 'floors',\n",
       " 'sqft_above',\n",
       " 'sqft_basement',\n",
       " 'sqft_garage',\n",
       " 'sqft_patio',\n",
       " 'yr_built',\n",
       " 'yr_renovated',\n",
       " 'lat',\n",
       " 'long',\n",
       " 'yr_old',\n",
       " 'Population']"
      ]
     },
     "execution_count": 158,
     "metadata": {},
     "output_type": "execute_result"
    }
   ],
   "source": [
    "pred_cols"
   ]
  },
  {
   "cell_type": "code",
   "execution_count": 159,
   "metadata": {},
   "outputs": [],
   "source": [
    "# create baseline model\n",
    "preds = df1[pred_cols]\n",
    "target = df1['price']"
   ]
  },
  {
   "cell_type": "code",
   "execution_count": 160,
   "metadata": {},
   "outputs": [
    {
     "name": "stderr",
     "output_type": "stream",
     "text": [
      "/opt/conda/lib/python3.9/site-packages/statsmodels/tsa/tsatools.py:142: FutureWarning: In a future version of pandas all arguments of concat except for the argument 'objs' will be keyword-only\n",
      "  x = pd.concat(x[::order], 1)\n"
     ]
    }
   ],
   "source": [
    "y = target\n",
    "X = preds\n",
    "model = sm.OLS(y, sm.add_constant(X))\n",
    "results = model.fit()"
   ]
  },
  {
   "cell_type": "code",
   "execution_count": 96,
   "metadata": {},
   "outputs": [
    {
     "data": {
      "text/html": [
       "<table class=\"simpletable\">\n",
       "<caption>OLS Regression Results</caption>\n",
       "<tr>\n",
       "  <th>Dep. Variable:</th>          <td>price</td>      <th>  R-squared:         </th>  <td>   0.486</td>  \n",
       "</tr>\n",
       "<tr>\n",
       "  <th>Model:</th>                   <td>OLS</td>       <th>  Adj. R-squared:    </th>  <td>   0.485</td>  \n",
       "</tr>\n",
       "<tr>\n",
       "  <th>Method:</th>             <td>Least Squares</td>  <th>  F-statistic:       </th>  <td>   1835.</td>  \n",
       "</tr>\n",
       "<tr>\n",
       "  <th>Date:</th>             <td>Tue, 20 Sep 2022</td> <th>  Prob (F-statistic):</th>   <td>  0.00</td>   \n",
       "</tr>\n",
       "<tr>\n",
       "  <th>Time:</th>                 <td>10:50:07</td>     <th>  Log-Likelihood:    </th> <td>-4.3121e+05</td>\n",
       "</tr>\n",
       "<tr>\n",
       "  <th>No. Observations:</th>      <td> 29152</td>      <th>  AIC:               </th>  <td>8.625e+05</td> \n",
       "</tr>\n",
       "<tr>\n",
       "  <th>Df Residuals:</th>          <td> 29136</td>      <th>  BIC:               </th>  <td>8.626e+05</td> \n",
       "</tr>\n",
       "<tr>\n",
       "  <th>Df Model:</th>              <td>    15</td>      <th>                     </th>      <td> </td>     \n",
       "</tr>\n",
       "<tr>\n",
       "  <th>Covariance Type:</th>      <td>nonrobust</td>    <th>                     </th>      <td> </td>     \n",
       "</tr>\n",
       "</table>\n",
       "<table class=\"simpletable\">\n",
       "<tr>\n",
       "        <td></td>           <th>coef</th>     <th>std err</th>      <th>t</th>      <th>P>|t|</th>  <th>[0.025</th>    <th>0.975]</th>  \n",
       "</tr>\n",
       "<tr>\n",
       "  <th>const</th>         <td>-9.987e+07</td> <td> 4.34e+06</td> <td>  -23.027</td> <td> 0.000</td> <td>-1.08e+08</td> <td>-9.14e+07</td>\n",
       "</tr>\n",
       "<tr>\n",
       "  <th>bedrooms</th>      <td>-1.353e+05</td> <td> 5210.116</td> <td>  -25.963</td> <td> 0.000</td> <td>-1.45e+05</td> <td>-1.25e+05</td>\n",
       "</tr>\n",
       "<tr>\n",
       "  <th>bathrooms</th>     <td> 1.169e+05</td> <td> 7694.103</td> <td>   15.192</td> <td> 0.000</td> <td> 1.02e+05</td> <td> 1.32e+05</td>\n",
       "</tr>\n",
       "<tr>\n",
       "  <th>sqft_living</th>   <td>  327.8250</td> <td>   17.234</td> <td>   19.022</td> <td> 0.000</td> <td>  294.045</td> <td>  361.605</td>\n",
       "</tr>\n",
       "<tr>\n",
       "  <th>sqft_lot</th>      <td>    0.1725</td> <td>    0.064</td> <td>    2.679</td> <td> 0.007</td> <td>    0.046</td> <td>    0.299</td>\n",
       "</tr>\n",
       "<tr>\n",
       "  <th>floors</th>        <td>-9.946e+04</td> <td> 9795.916</td> <td>  -10.153</td> <td> 0.000</td> <td>-1.19e+05</td> <td>-8.03e+04</td>\n",
       "</tr>\n",
       "<tr>\n",
       "  <th>sqft_above</th>    <td>  291.6418</td> <td>   17.604</td> <td>   16.566</td> <td> 0.000</td> <td>  257.136</td> <td>  326.147</td>\n",
       "</tr>\n",
       "<tr>\n",
       "  <th>sqft_basement</th> <td>   78.0364</td> <td>   13.088</td> <td>    5.962</td> <td> 0.000</td> <td>   52.383</td> <td>  103.689</td>\n",
       "</tr>\n",
       "<tr>\n",
       "  <th>sqft_garage</th>   <td>  -18.9775</td> <td>   18.425</td> <td>   -1.030</td> <td> 0.303</td> <td>  -55.091</td> <td>   17.136</td>\n",
       "</tr>\n",
       "<tr>\n",
       "  <th>sqft_patio</th>    <td>  256.9423</td> <td>   17.059</td> <td>   15.062</td> <td> 0.000</td> <td>  223.505</td> <td>  290.379</td>\n",
       "</tr>\n",
       "<tr>\n",
       "  <th>yr_built</th>      <td> 2762.9371</td> <td>  726.631</td> <td>    3.802</td> <td> 0.000</td> <td> 1338.707</td> <td> 4187.167</td>\n",
       "</tr>\n",
       "<tr>\n",
       "  <th>yr_renovated</th>  <td>  202.0029</td> <td>   22.977</td> <td>    8.792</td> <td> 0.000</td> <td>  156.967</td> <td>  247.039</td>\n",
       "</tr>\n",
       "<tr>\n",
       "  <th>lat</th>           <td> 1.561e+06</td> <td> 2.72e+04</td> <td>   57.293</td> <td> 0.000</td> <td> 1.51e+06</td> <td> 1.61e+06</td>\n",
       "</tr>\n",
       "<tr>\n",
       "  <th>long</th>          <td> -1.65e+05</td> <td>  3.2e+04</td> <td>   -5.150</td> <td> 0.000</td> <td>-2.28e+05</td> <td>-1.02e+05</td>\n",
       "</tr>\n",
       "<tr>\n",
       "  <th>yr_old</th>        <td> 4843.0431</td> <td>  730.618</td> <td>    6.629</td> <td> 0.000</td> <td> 3410.999</td> <td> 6275.088</td>\n",
       "</tr>\n",
       "<tr>\n",
       "  <th>Population</th>    <td>   -2.5538</td> <td>    0.351</td> <td>   -7.275</td> <td> 0.000</td> <td>   -3.242</td> <td>   -1.866</td>\n",
       "</tr>\n",
       "</table>\n",
       "<table class=\"simpletable\">\n",
       "<tr>\n",
       "  <th>Omnibus:</th>       <td>45295.463</td> <th>  Durbin-Watson:     </th>   <td>   1.924</td>  \n",
       "</tr>\n",
       "<tr>\n",
       "  <th>Prob(Omnibus):</th>  <td> 0.000</td>   <th>  Jarque-Bera (JB):  </th> <td>78707746.853</td>\n",
       "</tr>\n",
       "<tr>\n",
       "  <th>Skew:</th>           <td> 9.421</td>   <th>  Prob(JB):          </th>   <td>    0.00</td>  \n",
       "</tr>\n",
       "<tr>\n",
       "  <th>Kurtosis:</th>       <td>256.856</td>  <th>  Cond. No.          </th>   <td>7.35e+07</td>  \n",
       "</tr>\n",
       "</table><br/><br/>Notes:<br/>[1] Standard Errors assume that the covariance matrix of the errors is correctly specified.<br/>[2] The condition number is large, 7.35e+07. This might indicate that there are<br/>strong multicollinearity or other numerical problems."
      ],
      "text/plain": [
       "<class 'statsmodels.iolib.summary.Summary'>\n",
       "\"\"\"\n",
       "                            OLS Regression Results                            \n",
       "==============================================================================\n",
       "Dep. Variable:                  price   R-squared:                       0.486\n",
       "Model:                            OLS   Adj. R-squared:                  0.485\n",
       "Method:                 Least Squares   F-statistic:                     1835.\n",
       "Date:                Tue, 20 Sep 2022   Prob (F-statistic):               0.00\n",
       "Time:                        10:50:07   Log-Likelihood:            -4.3121e+05\n",
       "No. Observations:               29152   AIC:                         8.625e+05\n",
       "Df Residuals:                   29136   BIC:                         8.626e+05\n",
       "Df Model:                          15                                         \n",
       "Covariance Type:            nonrobust                                         \n",
       "=================================================================================\n",
       "                    coef    std err          t      P>|t|      [0.025      0.975]\n",
       "---------------------------------------------------------------------------------\n",
       "const         -9.987e+07   4.34e+06    -23.027      0.000   -1.08e+08   -9.14e+07\n",
       "bedrooms      -1.353e+05   5210.116    -25.963      0.000   -1.45e+05   -1.25e+05\n",
       "bathrooms      1.169e+05   7694.103     15.192      0.000    1.02e+05    1.32e+05\n",
       "sqft_living     327.8250     17.234     19.022      0.000     294.045     361.605\n",
       "sqft_lot          0.1725      0.064      2.679      0.007       0.046       0.299\n",
       "floors        -9.946e+04   9795.916    -10.153      0.000   -1.19e+05   -8.03e+04\n",
       "sqft_above      291.6418     17.604     16.566      0.000     257.136     326.147\n",
       "sqft_basement    78.0364     13.088      5.962      0.000      52.383     103.689\n",
       "sqft_garage     -18.9775     18.425     -1.030      0.303     -55.091      17.136\n",
       "sqft_patio      256.9423     17.059     15.062      0.000     223.505     290.379\n",
       "yr_built       2762.9371    726.631      3.802      0.000    1338.707    4187.167\n",
       "yr_renovated    202.0029     22.977      8.792      0.000     156.967     247.039\n",
       "lat            1.561e+06   2.72e+04     57.293      0.000    1.51e+06    1.61e+06\n",
       "long           -1.65e+05    3.2e+04     -5.150      0.000   -2.28e+05   -1.02e+05\n",
       "yr_old         4843.0431    730.618      6.629      0.000    3410.999    6275.088\n",
       "Population       -2.5538      0.351     -7.275      0.000      -3.242      -1.866\n",
       "==============================================================================\n",
       "Omnibus:                    45295.463   Durbin-Watson:                   1.924\n",
       "Prob(Omnibus):                  0.000   Jarque-Bera (JB):         78707746.853\n",
       "Skew:                           9.421   Prob(JB):                         0.00\n",
       "Kurtosis:                     256.856   Cond. No.                     7.35e+07\n",
       "==============================================================================\n",
       "\n",
       "Notes:\n",
       "[1] Standard Errors assume that the covariance matrix of the errors is correctly specified.\n",
       "[2] The condition number is large, 7.35e+07. This might indicate that there are\n",
       "strong multicollinearity or other numerical problems.\n",
       "\"\"\""
      ]
     },
     "execution_count": 96,
     "metadata": {},
     "output_type": "execute_result"
    }
   ],
   "source": [
    "results.summary()"
   ]
  },
  {
   "cell_type": "markdown",
   "metadata": {},
   "source": [
    "`Bathrooms` is the most highly correlated feature in the baseline numeric model.  Bedrooms is strangely inversely correlated to price.  All coefficients except `sqft_garage` are statistically significant.  This model uses both discrete and continuous numeric predictors in the baseline.  "
   ]
  },
  {
   "cell_type": "code",
   "execution_count": 97,
   "metadata": {},
   "outputs": [
    {
     "name": "stderr",
     "output_type": "stream",
     "text": [
      "/opt/conda/lib/python3.9/site-packages/statsmodels/tsa/tsatools.py:142: FutureWarning: In a future version of pandas all arguments of concat except for the argument 'objs' will be keyword-only\n",
      "  x = pd.concat(x[::order], 1)\n"
     ]
    },
    {
     "data": {
      "text/plain": [
       "338483.67949278234"
      ]
     },
     "execution_count": 97,
     "metadata": {},
     "output_type": "execute_result"
    }
   ],
   "source": [
    "baseline_mae = mean_absolute_error(y, results.predict(sm.add_constant(X)))\n",
    "baseline_mae"
   ]
  },
  {
   "cell_type": "markdown",
   "metadata": {},
   "source": [
    "The Mean Absolute Error('MAE') indicates that we are about $338,484 off in our prediction of `price`.   EXPLAIN.  "
   ]
  },
  {
   "cell_type": "markdown",
   "metadata": {},
   "source": [
    "## improve upon the baseline"
   ]
  },
  {
   "cell_type": "markdown",
   "metadata": {},
   "source": [
    "### Dealing with categorical variables\\"
   ]
  },
  {
   "cell_type": "code",
   "execution_count": 98,
   "metadata": {},
   "outputs": [],
   "source": [
    "cat_cols = cats.columns"
   ]
  },
  {
   "cell_type": "code",
   "execution_count": 99,
   "metadata": {},
   "outputs": [],
   "source": [
    "dum_df1 = pd.get_dummies(data=df1, columns=cat_cols, drop_first=True)"
   ]
  },
  {
   "cell_type": "code",
   "execution_count": 100,
   "metadata": {
    "scrolled": true
   },
   "outputs": [
    {
     "data": {
      "text/plain": [
       "Index(['selldate', 'price', 'bedrooms', 'bathrooms', 'sqft_living', 'sqft_lot',\n",
       "       'floors', 'sqft_above', 'sqft_basement', 'sqft_garage', 'sqft_patio',\n",
       "       'yr_built', 'yr_renovated', 'address', 'lat', 'long', 'Zipcode',\n",
       "       'yr_old', 'Population', 'waterfront_YES', 'greenbelt_YES',\n",
       "       'nuisance_YES', 'view_EXCELLENT', 'view_FAIR', 'view_GOOD', 'view_NONE',\n",
       "       'condition_Fair', 'condition_Good', 'condition_Poor',\n",
       "       'condition_Very Good', 'grade_11 Excellent', 'grade_12 Luxury',\n",
       "       'grade_13 Mansion', 'grade_2 Substandard', 'grade_3 Poor',\n",
       "       'grade_4 Low', 'grade_5 Fair', 'grade_6 Low Average', 'grade_7 Average',\n",
       "       'grade_8 Good', 'grade_9 Better', 'heat_source_Electricity/Solar',\n",
       "       'heat_source_Gas', 'heat_source_Gas/Solar', 'heat_source_Oil',\n",
       "       'heat_source_Oil/Solar', 'heat_source_Other',\n",
       "       'sewer_system_PRIVATE RESTRICTED', 'sewer_system_PUBLIC',\n",
       "       'sewer_system_PUBLIC RESTRICTED', 'Neighborhood_Baring',\n",
       "       'Neighborhood_Bellevue', 'Neighborhood_Black Diamond',\n",
       "       'Neighborhood_Bothell', 'Neighborhood_Carnation', 'Neighborhood_Duvall',\n",
       "       'Neighborhood_Enumclaw', 'Neighborhood_Fall City',\n",
       "       'Neighborhood_Federal Way', 'Neighborhood_Gold Bar',\n",
       "       'Neighborhood_Issaquah', 'Neighborhood_Kenmore', 'Neighborhood_Kent',\n",
       "       'Neighborhood_Kirkland', 'Neighborhood_Maple Valley',\n",
       "       'Neighborhood_Medina', 'Neighborhood_Mercer Island',\n",
       "       'Neighborhood_North Bend', 'Neighborhood_Pacific',\n",
       "       'Neighborhood_Preston', 'Neighborhood_Ravensdale',\n",
       "       'Neighborhood_Redmond', 'Neighborhood_Renton', 'Neighborhood_Sammamish',\n",
       "       'Neighborhood_Seattle', 'Neighborhood_Skykomish',\n",
       "       'Neighborhood_Snoqualmie', 'Neighborhood_Vashon',\n",
       "       'Neighborhood_Woodinville'],\n",
       "      dtype='object')"
      ]
     },
     "execution_count": 100,
     "metadata": {},
     "output_type": "execute_result"
    }
   ],
   "source": [
    "dum_df1.columns"
   ]
  },
  {
   "cell_type": "markdown",
   "metadata": {},
   "source": [
    "### Model Iteration"
   ]
  },
  {
   "cell_type": "code",
   "execution_count": 49,
   "metadata": {},
   "outputs": [
    {
     "name": "stderr",
     "output_type": "stream",
     "text": [
      "/opt/conda/lib/python3.9/site-packages/statsmodels/tsa/tsatools.py:142: FutureWarning: In a future version of pandas all arguments of concat except for the argument 'objs' will be keyword-only\n",
      "  x = pd.concat(x[::order], 1)\n"
     ]
    },
    {
     "data": {
      "text/html": [
       "<table class=\"simpletable\">\n",
       "<caption>OLS Regression Results</caption>\n",
       "<tr>\n",
       "  <th>Dep. Variable:</th>          <td>price</td>      <th>  R-squared:         </th>  <td>   0.642</td>  \n",
       "</tr>\n",
       "<tr>\n",
       "  <th>Model:</th>                   <td>OLS</td>       <th>  Adj. R-squared:    </th>  <td>   0.641</td>  \n",
       "</tr>\n",
       "<tr>\n",
       "  <th>Method:</th>             <td>Least Squares</td>  <th>  F-statistic:       </th>  <td>   715.1</td>  \n",
       "</tr>\n",
       "<tr>\n",
       "  <th>Date:</th>             <td>Tue, 20 Sep 2022</td> <th>  Prob (F-statistic):</th>   <td>  0.00</td>   \n",
       "</tr>\n",
       "<tr>\n",
       "  <th>Time:</th>                 <td>10:40:12</td>     <th>  Log-Likelihood:    </th> <td>-4.2592e+05</td>\n",
       "</tr>\n",
       "<tr>\n",
       "  <th>No. Observations:</th>      <td> 29152</td>      <th>  AIC:               </th>  <td>8.520e+05</td> \n",
       "</tr>\n",
       "<tr>\n",
       "  <th>Df Residuals:</th>          <td> 29078</td>      <th>  BIC:               </th>  <td>8.526e+05</td> \n",
       "</tr>\n",
       "<tr>\n",
       "  <th>Df Model:</th>              <td>    73</td>      <th>                     </th>      <td> </td>     \n",
       "</tr>\n",
       "<tr>\n",
       "  <th>Covariance Type:</th>      <td>nonrobust</td>    <th>                     </th>      <td> </td>     \n",
       "</tr>\n",
       "</table>\n",
       "<table class=\"simpletable\">\n",
       "<tr>\n",
       "                 <td></td>                    <th>coef</th>     <th>std err</th>      <th>t</th>      <th>P>|t|</th>  <th>[0.025</th>    <th>0.975]</th>  \n",
       "</tr>\n",
       "<tr>\n",
       "  <th>const</th>                           <td>  2.18e+06</td> <td> 1.23e+06</td> <td>    1.768</td> <td> 0.077</td> <td>-2.37e+05</td> <td>  4.6e+06</td>\n",
       "</tr>\n",
       "<tr>\n",
       "  <th>bedrooms</th>                        <td>-4.314e+04</td> <td> 4583.533</td> <td>   -9.412</td> <td> 0.000</td> <td>-5.21e+04</td> <td>-3.42e+04</td>\n",
       "</tr>\n",
       "<tr>\n",
       "  <th>bathrooms</th>                       <td> 7.259e+04</td> <td> 6571.011</td> <td>   11.048</td> <td> 0.000</td> <td> 5.97e+04</td> <td> 8.55e+04</td>\n",
       "</tr>\n",
       "<tr>\n",
       "  <th>sqft_living</th>                     <td>   56.6908</td> <td>   14.864</td> <td>    3.814</td> <td> 0.000</td> <td>   27.557</td> <td>   85.824</td>\n",
       "</tr>\n",
       "<tr>\n",
       "  <th>sqft_lot</th>                        <td>    0.4531</td> <td>    0.057</td> <td>    7.920</td> <td> 0.000</td> <td>    0.341</td> <td>    0.565</td>\n",
       "</tr>\n",
       "<tr>\n",
       "  <th>floors</th>                          <td>-5889.5193</td> <td> 8677.073</td> <td>   -0.679</td> <td> 0.497</td> <td>-2.29e+04</td> <td> 1.11e+04</td>\n",
       "</tr>\n",
       "<tr>\n",
       "  <th>sqft_above</th>                      <td>  258.4519</td> <td>   15.171</td> <td>   17.036</td> <td> 0.000</td> <td>  228.717</td> <td>  288.187</td>\n",
       "</tr>\n",
       "<tr>\n",
       "  <th>sqft_basement</th>                   <td>  134.1393</td> <td>   11.305</td> <td>   11.866</td> <td> 0.000</td> <td>  111.981</td> <td>  156.297</td>\n",
       "</tr>\n",
       "<tr>\n",
       "  <th>sqft_garage</th>                     <td> -135.3532</td> <td>   16.141</td> <td>   -8.386</td> <td> 0.000</td> <td> -166.990</td> <td> -103.716</td>\n",
       "</tr>\n",
       "<tr>\n",
       "  <th>sqft_patio</th>                      <td>   63.6562</td> <td>   14.750</td> <td>    4.316</td> <td> 0.000</td> <td>   34.745</td> <td>   92.568</td>\n",
       "</tr>\n",
       "<tr>\n",
       "  <th>yr_built</th>                        <td> -891.9321</td> <td>  609.955</td> <td>   -1.462</td> <td> 0.144</td> <td>-2087.472</td> <td>  303.608</td>\n",
       "</tr>\n",
       "<tr>\n",
       "  <th>yr_renovated</th>                    <td>   62.4377</td> <td>   19.340</td> <td>    3.228</td> <td> 0.001</td> <td>   24.529</td> <td>  100.346</td>\n",
       "</tr>\n",
       "<tr>\n",
       "  <th>yr_old</th>                          <td>  672.1360</td> <td>  617.148</td> <td>    1.089</td> <td> 0.276</td> <td> -537.502</td> <td> 1881.774</td>\n",
       "</tr>\n",
       "<tr>\n",
       "  <th>Population</th>                      <td>    1.2357</td> <td>    0.397</td> <td>    3.111</td> <td> 0.002</td> <td>    0.457</td> <td>    2.014</td>\n",
       "</tr>\n",
       "<tr>\n",
       "  <th>waterfront_YES</th>                  <td> 7.541e+05</td> <td> 2.92e+04</td> <td>   25.868</td> <td> 0.000</td> <td> 6.97e+05</td> <td> 8.11e+05</td>\n",
       "</tr>\n",
       "<tr>\n",
       "  <th>greenbelt_YES</th>                   <td>-6.472e+04</td> <td> 2.03e+04</td> <td>   -3.185</td> <td> 0.001</td> <td>-1.05e+05</td> <td>-2.49e+04</td>\n",
       "</tr>\n",
       "<tr>\n",
       "  <th>nuisance_YES</th>                    <td>-2.335e+04</td> <td> 8589.248</td> <td>   -2.718</td> <td> 0.007</td> <td>-4.02e+04</td> <td>-6511.928</td>\n",
       "</tr>\n",
       "<tr>\n",
       "  <th>view_EXCELLENT</th>                  <td> 6.411e+05</td> <td> 2.95e+04</td> <td>   21.760</td> <td> 0.000</td> <td> 5.83e+05</td> <td> 6.99e+05</td>\n",
       "</tr>\n",
       "<tr>\n",
       "  <th>view_FAIR</th>                       <td> 1.143e+05</td> <td> 3.88e+04</td> <td>    2.946</td> <td> 0.003</td> <td> 3.82e+04</td> <td>  1.9e+05</td>\n",
       "</tr>\n",
       "<tr>\n",
       "  <th>view_GOOD</th>                       <td> 4.721e+04</td> <td> 2.22e+04</td> <td>    2.128</td> <td> 0.033</td> <td> 3731.663</td> <td> 9.07e+04</td>\n",
       "</tr>\n",
       "<tr>\n",
       "  <th>view_NONE</th>                       <td>-7.684e+04</td> <td> 1.34e+04</td> <td>   -5.727</td> <td> 0.000</td> <td>-1.03e+05</td> <td>-5.05e+04</td>\n",
       "</tr>\n",
       "<tr>\n",
       "  <th>condition_Fair</th>                  <td>-1.191e+05</td> <td> 3.68e+04</td> <td>   -3.240</td> <td> 0.001</td> <td>-1.91e+05</td> <td>-4.71e+04</td>\n",
       "</tr>\n",
       "<tr>\n",
       "  <th>condition_Good</th>                  <td> 3.907e+04</td> <td> 8082.228</td> <td>    4.834</td> <td> 0.000</td> <td> 2.32e+04</td> <td> 5.49e+04</td>\n",
       "</tr>\n",
       "<tr>\n",
       "  <th>condition_Poor</th>                  <td>-8.713e+04</td> <td> 7.17e+04</td> <td>   -1.215</td> <td> 0.224</td> <td>-2.28e+05</td> <td> 5.34e+04</td>\n",
       "</tr>\n",
       "<tr>\n",
       "  <th>condition_Very Good</th>             <td> 9.962e+04</td> <td> 1.14e+04</td> <td>    8.744</td> <td> 0.000</td> <td> 7.73e+04</td> <td> 1.22e+05</td>\n",
       "</tr>\n",
       "<tr>\n",
       "  <th>grade_11 Excellent</th>              <td> 7.107e+05</td> <td> 3.11e+04</td> <td>   22.873</td> <td> 0.000</td> <td>  6.5e+05</td> <td> 7.72e+05</td>\n",
       "</tr>\n",
       "<tr>\n",
       "  <th>grade_12 Luxury</th>                 <td> 1.574e+06</td> <td> 5.25e+04</td> <td>   29.995</td> <td> 0.000</td> <td> 1.47e+06</td> <td> 1.68e+06</td>\n",
       "</tr>\n",
       "<tr>\n",
       "  <th>grade_13 Mansion</th>                <td> 3.254e+06</td> <td> 1.14e+05</td> <td>   28.542</td> <td> 0.000</td> <td> 3.03e+06</td> <td> 3.48e+06</td>\n",
       "</tr>\n",
       "<tr>\n",
       "  <th>grade_2 Substandard</th>             <td>-3.102e+05</td> <td> 5.43e+05</td> <td>   -0.571</td> <td> 0.568</td> <td>-1.37e+06</td> <td> 7.54e+05</td>\n",
       "</tr>\n",
       "<tr>\n",
       "  <th>grade_3 Poor</th>                    <td>-6.451e+05</td> <td> 1.88e+05</td> <td>   -3.436</td> <td> 0.001</td> <td>-1.01e+06</td> <td>-2.77e+05</td>\n",
       "</tr>\n",
       "<tr>\n",
       "  <th>grade_4 Low</th>                     <td>-6.283e+05</td> <td>  8.4e+04</td> <td>   -7.477</td> <td> 0.000</td> <td>-7.93e+05</td> <td>-4.64e+05</td>\n",
       "</tr>\n",
       "<tr>\n",
       "  <th>grade_5 Fair</th>                    <td>-5.916e+05</td> <td> 3.64e+04</td> <td>  -16.262</td> <td> 0.000</td> <td>-6.63e+05</td> <td> -5.2e+05</td>\n",
       "</tr>\n",
       "<tr>\n",
       "  <th>grade_6 Low Average</th>             <td>-6.072e+05</td> <td> 2.43e+04</td> <td>  -24.963</td> <td> 0.000</td> <td>-6.55e+05</td> <td> -5.6e+05</td>\n",
       "</tr>\n",
       "<tr>\n",
       "  <th>grade_7 Average</th>                 <td>-5.934e+05</td> <td> 2.04e+04</td> <td>  -29.057</td> <td> 0.000</td> <td>-6.33e+05</td> <td>-5.53e+05</td>\n",
       "</tr>\n",
       "<tr>\n",
       "  <th>grade_8 Good</th>                    <td>-5.017e+05</td> <td> 1.84e+04</td> <td>  -27.245</td> <td> 0.000</td> <td>-5.38e+05</td> <td>-4.66e+05</td>\n",
       "</tr>\n",
       "<tr>\n",
       "  <th>grade_9 Better</th>                  <td>-2.635e+05</td> <td> 1.81e+04</td> <td>  -14.590</td> <td> 0.000</td> <td>-2.99e+05</td> <td>-2.28e+05</td>\n",
       "</tr>\n",
       "<tr>\n",
       "  <th>heat_source_Electricity/Solar</th>   <td>-7.548e+04</td> <td> 7.16e+04</td> <td>   -1.054</td> <td> 0.292</td> <td>-2.16e+05</td> <td> 6.48e+04</td>\n",
       "</tr>\n",
       "<tr>\n",
       "  <th>heat_source_Gas</th>                 <td> 1.055e+04</td> <td> 8655.029</td> <td>    1.219</td> <td> 0.223</td> <td>-6411.757</td> <td> 2.75e+04</td>\n",
       "</tr>\n",
       "<tr>\n",
       "  <th>heat_source_Gas/Solar</th>           <td> 1.756e+05</td> <td> 5.63e+04</td> <td>    3.119</td> <td> 0.002</td> <td> 6.53e+04</td> <td> 2.86e+05</td>\n",
       "</tr>\n",
       "<tr>\n",
       "  <th>heat_source_Oil</th>                 <td>-2066.8507</td> <td> 1.32e+04</td> <td>   -0.157</td> <td> 0.875</td> <td>-2.79e+04</td> <td> 2.37e+04</td>\n",
       "</tr>\n",
       "<tr>\n",
       "  <th>heat_source_Oil/Solar</th>           <td>-3.293e+04</td> <td> 2.68e+05</td> <td>   -0.123</td> <td> 0.902</td> <td>-5.59e+05</td> <td> 4.93e+05</td>\n",
       "</tr>\n",
       "<tr>\n",
       "  <th>heat_source_Other</th>               <td> 1.139e+04</td> <td> 1.21e+05</td> <td>    0.094</td> <td> 0.925</td> <td>-2.26e+05</td> <td> 2.49e+05</td>\n",
       "</tr>\n",
       "<tr>\n",
       "  <th>sewer_system_PRIVATE RESTRICTED</th> <td>-5.769e+05</td> <td> 2.45e+05</td> <td>   -2.350</td> <td> 0.019</td> <td>-1.06e+06</td> <td>-9.58e+04</td>\n",
       "</tr>\n",
       "<tr>\n",
       "  <th>sewer_system_PUBLIC</th>             <td> 9.854e+04</td> <td> 1.11e+04</td> <td>    8.854</td> <td> 0.000</td> <td> 7.67e+04</td> <td>  1.2e+05</td>\n",
       "</tr>\n",
       "<tr>\n",
       "  <th>sewer_system_PUBLIC RESTRICTED</th>  <td>-1.616e+04</td> <td>  3.8e+05</td> <td>   -0.043</td> <td> 0.966</td> <td> -7.6e+05</td> <td> 7.28e+05</td>\n",
       "</tr>\n",
       "<tr>\n",
       "  <th>Neighborhood_Baring</th>             <td>  1.14e+05</td> <td> 3.11e+05</td> <td>    0.367</td> <td> 0.714</td> <td>-4.96e+05</td> <td> 7.24e+05</td>\n",
       "</tr>\n",
       "<tr>\n",
       "  <th>Neighborhood_Bellevue</th>           <td> 1.022e+06</td> <td> 2.01e+04</td> <td>   50.749</td> <td> 0.000</td> <td> 9.82e+05</td> <td> 1.06e+06</td>\n",
       "</tr>\n",
       "<tr>\n",
       "  <th>Neighborhood_Black Diamond</th>      <td> 1.605e+04</td> <td> 3.55e+04</td> <td>    0.452</td> <td> 0.651</td> <td>-5.35e+04</td> <td> 8.56e+04</td>\n",
       "</tr>\n",
       "<tr>\n",
       "  <th>Neighborhood_Bothell</th>            <td> 4.565e+05</td> <td> 3.61e+04</td> <td>   12.651</td> <td> 0.000</td> <td> 3.86e+05</td> <td> 5.27e+05</td>\n",
       "</tr>\n",
       "<tr>\n",
       "  <th>Neighborhood_Carnation</th>          <td> 2.423e+05</td> <td> 4.66e+04</td> <td>    5.197</td> <td> 0.000</td> <td> 1.51e+05</td> <td> 3.34e+05</td>\n",
       "</tr>\n",
       "<tr>\n",
       "  <th>Neighborhood_Duvall</th>             <td> 2.568e+05</td> <td> 3.82e+04</td> <td>    6.729</td> <td> 0.000</td> <td> 1.82e+05</td> <td> 3.32e+05</td>\n",
       "</tr>\n",
       "<tr>\n",
       "  <th>Neighborhood_Enumclaw</th>           <td> 2.785e+04</td> <td> 2.92e+04</td> <td>    0.952</td> <td> 0.341</td> <td>-2.95e+04</td> <td> 8.52e+04</td>\n",
       "</tr>\n",
       "<tr>\n",
       "  <th>Neighborhood_Fall City</th>          <td> 6.459e+05</td> <td> 5.38e+04</td> <td>   12.002</td> <td> 0.000</td> <td>  5.4e+05</td> <td> 7.51e+05</td>\n",
       "</tr>\n",
       "<tr>\n",
       "  <th>Neighborhood_Federal Way</th>        <td>-3.318e+04</td> <td> 2.15e+04</td> <td>   -1.546</td> <td> 0.122</td> <td>-7.52e+04</td> <td> 8896.887</td>\n",
       "</tr>\n",
       "<tr>\n",
       "  <th>Neighborhood_Gold Bar</th>           <td> 3.426e+05</td> <td> 3.11e+05</td> <td>    1.103</td> <td> 0.270</td> <td>-2.66e+05</td> <td> 9.51e+05</td>\n",
       "</tr>\n",
       "<tr>\n",
       "  <th>Neighborhood_Issaquah</th>           <td> 5.303e+05</td> <td>  2.5e+04</td> <td>   21.239</td> <td> 0.000</td> <td> 4.81e+05</td> <td> 5.79e+05</td>\n",
       "</tr>\n",
       "<tr>\n",
       "  <th>Neighborhood_Kenmore</th>            <td> 3.958e+05</td> <td> 3.24e+04</td> <td>   12.205</td> <td> 0.000</td> <td> 3.32e+05</td> <td> 4.59e+05</td>\n",
       "</tr>\n",
       "<tr>\n",
       "  <th>Neighborhood_Kent</th>               <td>   4.9e+04</td> <td>  1.8e+04</td> <td>    2.723</td> <td> 0.006</td> <td> 1.37e+04</td> <td> 8.43e+04</td>\n",
       "</tr>\n",
       "<tr>\n",
       "  <th>Neighborhood_Kirkland</th>           <td> 8.359e+05</td> <td> 2.04e+04</td> <td>   40.993</td> <td> 0.000</td> <td> 7.96e+05</td> <td> 8.76e+05</td>\n",
       "</tr>\n",
       "<tr>\n",
       "  <th>Neighborhood_Maple Valley</th>       <td> 1.179e+05</td> <td> 2.29e+04</td> <td>    5.145</td> <td> 0.000</td> <td>  7.3e+04</td> <td> 1.63e+05</td>\n",
       "</tr>\n",
       "<tr>\n",
       "  <th>Neighborhood_Medina</th>             <td> 3.356e+06</td> <td> 7.31e+04</td> <td>   45.923</td> <td> 0.000</td> <td> 3.21e+06</td> <td>  3.5e+06</td>\n",
       "</tr>\n",
       "<tr>\n",
       "  <th>Neighborhood_Mercer Island</th>      <td> 1.185e+06</td> <td> 3.33e+04</td> <td>   35.554</td> <td> 0.000</td> <td> 1.12e+06</td> <td> 1.25e+06</td>\n",
       "</tr>\n",
       "<tr>\n",
       "  <th>Neighborhood_North Bend</th>         <td> 2.782e+05</td> <td> 2.96e+04</td> <td>    9.385</td> <td> 0.000</td> <td>  2.2e+05</td> <td> 3.36e+05</td>\n",
       "</tr>\n",
       "<tr>\n",
       "  <th>Neighborhood_Pacific</th>            <td> 1.401e+05</td> <td> 6.39e+04</td> <td>    2.195</td> <td> 0.028</td> <td>  1.5e+04</td> <td> 2.65e+05</td>\n",
       "</tr>\n",
       "<tr>\n",
       "  <th>Neighborhood_Preston</th>            <td> 6.216e+05</td> <td>  3.8e+05</td> <td>    1.635</td> <td> 0.102</td> <td>-1.24e+05</td> <td> 1.37e+06</td>\n",
       "</tr>\n",
       "<tr>\n",
       "  <th>Neighborhood_Ravensdale</th>         <td>  1.12e+05</td> <td> 6.91e+04</td> <td>    1.621</td> <td> 0.105</td> <td>-2.34e+04</td> <td> 2.47e+05</td>\n",
       "</tr>\n",
       "<tr>\n",
       "  <th>Neighborhood_Redmond</th>            <td> 6.839e+05</td> <td> 2.24e+04</td> <td>   30.515</td> <td> 0.000</td> <td>  6.4e+05</td> <td> 7.28e+05</td>\n",
       "</tr>\n",
       "<tr>\n",
       "  <th>Neighborhood_Renton</th>             <td> 1.977e+05</td> <td> 1.79e+04</td> <td>   11.051</td> <td> 0.000</td> <td> 1.63e+05</td> <td> 2.33e+05</td>\n",
       "</tr>\n",
       "<tr>\n",
       "  <th>Neighborhood_Sammamish</th>          <td> 6.164e+05</td> <td> 2.39e+04</td> <td>   25.758</td> <td> 0.000</td> <td> 5.69e+05</td> <td> 6.63e+05</td>\n",
       "</tr>\n",
       "<tr>\n",
       "  <th>Neighborhood_Seattle</th>            <td>  3.78e+05</td> <td> 1.58e+04</td> <td>   23.873</td> <td> 0.000</td> <td> 3.47e+05</td> <td> 4.09e+05</td>\n",
       "</tr>\n",
       "<tr>\n",
       "  <th>Neighborhood_Skykomish</th>          <td>-1.037e+05</td> <td> 1.36e+05</td> <td>   -0.762</td> <td> 0.446</td> <td>-3.71e+05</td> <td> 1.63e+05</td>\n",
       "</tr>\n",
       "<tr>\n",
       "  <th>Neighborhood_Snoqualmie</th>         <td> 3.404e+05</td> <td> 3.55e+04</td> <td>    9.576</td> <td> 0.000</td> <td> 2.71e+05</td> <td>  4.1e+05</td>\n",
       "</tr>\n",
       "<tr>\n",
       "  <th>Neighborhood_Vashon</th>             <td> 8.711e+04</td> <td> 4.33e+04</td> <td>    2.011</td> <td> 0.044</td> <td> 2192.974</td> <td> 1.72e+05</td>\n",
       "</tr>\n",
       "<tr>\n",
       "  <th>Neighborhood_Woodinville</th>        <td> 5.534e+05</td> <td> 2.73e+04</td> <td>   20.269</td> <td> 0.000</td> <td>    5e+05</td> <td> 6.07e+05</td>\n",
       "</tr>\n",
       "</table>\n",
       "<table class=\"simpletable\">\n",
       "<tr>\n",
       "  <th>Omnibus:</th>       <td>47329.350</td> <th>  Durbin-Watson:     </th>   <td>   1.895</td>   \n",
       "</tr>\n",
       "<tr>\n",
       "  <th>Prob(Omnibus):</th>  <td> 0.000</td>   <th>  Jarque-Bera (JB):  </th> <td>141669246.529</td>\n",
       "</tr>\n",
       "<tr>\n",
       "  <th>Skew:</th>           <td>10.139</td>   <th>  Prob(JB):          </th>   <td>    0.00</td>   \n",
       "</tr>\n",
       "<tr>\n",
       "  <th>Kurtosis:</th>       <td>343.912</td>  <th>  Cond. No.          </th>   <td>2.50e+07</td>   \n",
       "</tr>\n",
       "</table><br/><br/>Notes:<br/>[1] Standard Errors assume that the covariance matrix of the errors is correctly specified.<br/>[2] The condition number is large, 2.5e+07. This might indicate that there are<br/>strong multicollinearity or other numerical problems."
      ],
      "text/plain": [
       "<class 'statsmodels.iolib.summary.Summary'>\n",
       "\"\"\"\n",
       "                            OLS Regression Results                            \n",
       "==============================================================================\n",
       "Dep. Variable:                  price   R-squared:                       0.642\n",
       "Model:                            OLS   Adj. R-squared:                  0.641\n",
       "Method:                 Least Squares   F-statistic:                     715.1\n",
       "Date:                Tue, 20 Sep 2022   Prob (F-statistic):               0.00\n",
       "Time:                        10:40:12   Log-Likelihood:            -4.2592e+05\n",
       "No. Observations:               29152   AIC:                         8.520e+05\n",
       "Df Residuals:                   29078   BIC:                         8.526e+05\n",
       "Df Model:                          73                                         \n",
       "Covariance Type:            nonrobust                                         \n",
       "===================================================================================================\n",
       "                                      coef    std err          t      P>|t|      [0.025      0.975]\n",
       "---------------------------------------------------------------------------------------------------\n",
       "const                             2.18e+06   1.23e+06      1.768      0.077   -2.37e+05     4.6e+06\n",
       "bedrooms                        -4.314e+04   4583.533     -9.412      0.000   -5.21e+04   -3.42e+04\n",
       "bathrooms                        7.259e+04   6571.011     11.048      0.000    5.97e+04    8.55e+04\n",
       "sqft_living                        56.6908     14.864      3.814      0.000      27.557      85.824\n",
       "sqft_lot                            0.4531      0.057      7.920      0.000       0.341       0.565\n",
       "floors                          -5889.5193   8677.073     -0.679      0.497   -2.29e+04    1.11e+04\n",
       "sqft_above                        258.4519     15.171     17.036      0.000     228.717     288.187\n",
       "sqft_basement                     134.1393     11.305     11.866      0.000     111.981     156.297\n",
       "sqft_garage                      -135.3532     16.141     -8.386      0.000    -166.990    -103.716\n",
       "sqft_patio                         63.6562     14.750      4.316      0.000      34.745      92.568\n",
       "yr_built                         -891.9321    609.955     -1.462      0.144   -2087.472     303.608\n",
       "yr_renovated                       62.4377     19.340      3.228      0.001      24.529     100.346\n",
       "yr_old                            672.1360    617.148      1.089      0.276    -537.502    1881.774\n",
       "Population                          1.2357      0.397      3.111      0.002       0.457       2.014\n",
       "waterfront_YES                   7.541e+05   2.92e+04     25.868      0.000    6.97e+05    8.11e+05\n",
       "greenbelt_YES                   -6.472e+04   2.03e+04     -3.185      0.001   -1.05e+05   -2.49e+04\n",
       "nuisance_YES                    -2.335e+04   8589.248     -2.718      0.007   -4.02e+04   -6511.928\n",
       "view_EXCELLENT                   6.411e+05   2.95e+04     21.760      0.000    5.83e+05    6.99e+05\n",
       "view_FAIR                        1.143e+05   3.88e+04      2.946      0.003    3.82e+04     1.9e+05\n",
       "view_GOOD                        4.721e+04   2.22e+04      2.128      0.033    3731.663    9.07e+04\n",
       "view_NONE                       -7.684e+04   1.34e+04     -5.727      0.000   -1.03e+05   -5.05e+04\n",
       "condition_Fair                  -1.191e+05   3.68e+04     -3.240      0.001   -1.91e+05   -4.71e+04\n",
       "condition_Good                   3.907e+04   8082.228      4.834      0.000    2.32e+04    5.49e+04\n",
       "condition_Poor                  -8.713e+04   7.17e+04     -1.215      0.224   -2.28e+05    5.34e+04\n",
       "condition_Very Good              9.962e+04   1.14e+04      8.744      0.000    7.73e+04    1.22e+05\n",
       "grade_11 Excellent               7.107e+05   3.11e+04     22.873      0.000     6.5e+05    7.72e+05\n",
       "grade_12 Luxury                  1.574e+06   5.25e+04     29.995      0.000    1.47e+06    1.68e+06\n",
       "grade_13 Mansion                 3.254e+06   1.14e+05     28.542      0.000    3.03e+06    3.48e+06\n",
       "grade_2 Substandard             -3.102e+05   5.43e+05     -0.571      0.568   -1.37e+06    7.54e+05\n",
       "grade_3 Poor                    -6.451e+05   1.88e+05     -3.436      0.001   -1.01e+06   -2.77e+05\n",
       "grade_4 Low                     -6.283e+05    8.4e+04     -7.477      0.000   -7.93e+05   -4.64e+05\n",
       "grade_5 Fair                    -5.916e+05   3.64e+04    -16.262      0.000   -6.63e+05    -5.2e+05\n",
       "grade_6 Low Average             -6.072e+05   2.43e+04    -24.963      0.000   -6.55e+05    -5.6e+05\n",
       "grade_7 Average                 -5.934e+05   2.04e+04    -29.057      0.000   -6.33e+05   -5.53e+05\n",
       "grade_8 Good                    -5.017e+05   1.84e+04    -27.245      0.000   -5.38e+05   -4.66e+05\n",
       "grade_9 Better                  -2.635e+05   1.81e+04    -14.590      0.000   -2.99e+05   -2.28e+05\n",
       "heat_source_Electricity/Solar   -7.548e+04   7.16e+04     -1.054      0.292   -2.16e+05    6.48e+04\n",
       "heat_source_Gas                  1.055e+04   8655.029      1.219      0.223   -6411.757    2.75e+04\n",
       "heat_source_Gas/Solar            1.756e+05   5.63e+04      3.119      0.002    6.53e+04    2.86e+05\n",
       "heat_source_Oil                 -2066.8507   1.32e+04     -0.157      0.875   -2.79e+04    2.37e+04\n",
       "heat_source_Oil/Solar           -3.293e+04   2.68e+05     -0.123      0.902   -5.59e+05    4.93e+05\n",
       "heat_source_Other                1.139e+04   1.21e+05      0.094      0.925   -2.26e+05    2.49e+05\n",
       "sewer_system_PRIVATE RESTRICTED -5.769e+05   2.45e+05     -2.350      0.019   -1.06e+06   -9.58e+04\n",
       "sewer_system_PUBLIC              9.854e+04   1.11e+04      8.854      0.000    7.67e+04     1.2e+05\n",
       "sewer_system_PUBLIC RESTRICTED  -1.616e+04    3.8e+05     -0.043      0.966    -7.6e+05    7.28e+05\n",
       "Neighborhood_Baring               1.14e+05   3.11e+05      0.367      0.714   -4.96e+05    7.24e+05\n",
       "Neighborhood_Bellevue            1.022e+06   2.01e+04     50.749      0.000    9.82e+05    1.06e+06\n",
       "Neighborhood_Black Diamond       1.605e+04   3.55e+04      0.452      0.651   -5.35e+04    8.56e+04\n",
       "Neighborhood_Bothell             4.565e+05   3.61e+04     12.651      0.000    3.86e+05    5.27e+05\n",
       "Neighborhood_Carnation           2.423e+05   4.66e+04      5.197      0.000    1.51e+05    3.34e+05\n",
       "Neighborhood_Duvall              2.568e+05   3.82e+04      6.729      0.000    1.82e+05    3.32e+05\n",
       "Neighborhood_Enumclaw            2.785e+04   2.92e+04      0.952      0.341   -2.95e+04    8.52e+04\n",
       "Neighborhood_Fall City           6.459e+05   5.38e+04     12.002      0.000     5.4e+05    7.51e+05\n",
       "Neighborhood_Federal Way        -3.318e+04   2.15e+04     -1.546      0.122   -7.52e+04    8896.887\n",
       "Neighborhood_Gold Bar            3.426e+05   3.11e+05      1.103      0.270   -2.66e+05    9.51e+05\n",
       "Neighborhood_Issaquah            5.303e+05    2.5e+04     21.239      0.000    4.81e+05    5.79e+05\n",
       "Neighborhood_Kenmore             3.958e+05   3.24e+04     12.205      0.000    3.32e+05    4.59e+05\n",
       "Neighborhood_Kent                  4.9e+04    1.8e+04      2.723      0.006    1.37e+04    8.43e+04\n",
       "Neighborhood_Kirkland            8.359e+05   2.04e+04     40.993      0.000    7.96e+05    8.76e+05\n",
       "Neighborhood_Maple Valley        1.179e+05   2.29e+04      5.145      0.000     7.3e+04    1.63e+05\n",
       "Neighborhood_Medina              3.356e+06   7.31e+04     45.923      0.000    3.21e+06     3.5e+06\n",
       "Neighborhood_Mercer Island       1.185e+06   3.33e+04     35.554      0.000    1.12e+06    1.25e+06\n",
       "Neighborhood_North Bend          2.782e+05   2.96e+04      9.385      0.000     2.2e+05    3.36e+05\n",
       "Neighborhood_Pacific             1.401e+05   6.39e+04      2.195      0.028     1.5e+04    2.65e+05\n",
       "Neighborhood_Preston             6.216e+05    3.8e+05      1.635      0.102   -1.24e+05    1.37e+06\n",
       "Neighborhood_Ravensdale           1.12e+05   6.91e+04      1.621      0.105   -2.34e+04    2.47e+05\n",
       "Neighborhood_Redmond             6.839e+05   2.24e+04     30.515      0.000     6.4e+05    7.28e+05\n",
       "Neighborhood_Renton              1.977e+05   1.79e+04     11.051      0.000    1.63e+05    2.33e+05\n",
       "Neighborhood_Sammamish           6.164e+05   2.39e+04     25.758      0.000    5.69e+05    6.63e+05\n",
       "Neighborhood_Seattle              3.78e+05   1.58e+04     23.873      0.000    3.47e+05    4.09e+05\n",
       "Neighborhood_Skykomish          -1.037e+05   1.36e+05     -0.762      0.446   -3.71e+05    1.63e+05\n",
       "Neighborhood_Snoqualmie          3.404e+05   3.55e+04      9.576      0.000    2.71e+05     4.1e+05\n",
       "Neighborhood_Vashon              8.711e+04   4.33e+04      2.011      0.044    2192.974    1.72e+05\n",
       "Neighborhood_Woodinville         5.534e+05   2.73e+04     20.269      0.000       5e+05    6.07e+05\n",
       "==============================================================================\n",
       "Omnibus:                    47329.350   Durbin-Watson:                   1.895\n",
       "Prob(Omnibus):                  0.000   Jarque-Bera (JB):        141669246.529\n",
       "Skew:                          10.139   Prob(JB):                         0.00\n",
       "Kurtosis:                     343.912   Cond. No.                     2.50e+07\n",
       "==============================================================================\n",
       "\n",
       "Notes:\n",
       "[1] Standard Errors assume that the covariance matrix of the errors is correctly specified.\n",
       "[2] The condition number is large, 2.5e+07. This might indicate that there are\n",
       "strong multicollinearity or other numerical problems.\n",
       "\"\"\""
      ]
     },
     "execution_count": 49,
     "metadata": {},
     "output_type": "execute_result"
    }
   ],
   "source": [
    "# running our model with dummified predictors\n",
    "X=dum_df1.drop(labels=['selldate', 'price', 'Zipcode', 'address', 'lat', 'long'], axis=1)\n",
    "y=dum_df1.price\n",
    "\n",
    "model_1 = sm.OLS(y, sm.add_constant(X))\n",
    "results1 = model_1.fit()\n",
    "results1.summary()"
   ]
  },
  {
   "cell_type": "markdown",
   "metadata": {},
   "source": [
    "Well, we have a much higher R-squared number after incorporating the dummified categorical predictors, as this model claims to explain 64 percent of the variance in `price`.   The constant is no longer statistically significant, so we need to adjust our figures to more accurately account for why that is happening.  We should next remove columns that are statistically significant.  "
   ]
  },
  {
   "cell_type": "code",
   "execution_count": 50,
   "metadata": {},
   "outputs": [
    {
     "name": "stderr",
     "output_type": "stream",
     "text": [
      "/opt/conda/lib/python3.9/site-packages/statsmodels/tsa/tsatools.py:142: FutureWarning: In a future version of pandas all arguments of concat except for the argument 'objs' will be keyword-only\n",
      "  x = pd.concat(x[::order], 1)\n"
     ]
    },
    {
     "data": {
      "text/plain": [
       "274640.8892664338"
      ]
     },
     "execution_count": 50,
     "metadata": {},
     "output_type": "execute_result"
    }
   ],
   "source": [
    "baseline_mae = mean_absolute_error(y, results1.predict(sm.add_constant(X)))\n",
    "baseline_mae"
   ]
  },
  {
   "cell_type": "markdown",
   "metadata": {},
   "source": [
    "MAE dropped significantly.  "
   ]
  },
  {
   "cell_type": "markdown",
   "metadata": {},
   "source": [
    "\n",
    "\n",
    "Drop columns not correlated.  per gp 9-19.  "
   ]
  },
  {
   "cell_type": "code",
   "execution_count": 232,
   "metadata": {},
   "outputs": [
    {
     "data": {
      "text/plain": [
       "<AxesSubplot:>"
      ]
     },
     "execution_count": 232,
     "metadata": {},
     "output_type": "execute_result"
    },
    {
     "data": {
      "image/png": "[encoded data removed]",
      "text/plain": [
       "<Figure size 432x288 with 2 Axes>"
      ]
     },
     "metadata": {
      "needs_background": "light"
     },
     "output_type": "display_data"
    }
   ],
   "source": [
    "sns.heatmap(X.corr())"
   ]
  },
  {
   "cell_type": "code",
   "execution_count": 103,
   "metadata": {},
   "outputs": [
    {
     "data": {
      "text/html": [
       "<div>\n",
       "<style scoped>\n",
       "    .dataframe tbody tr th:only-of-type {\n",
       "        vertical-align: middle;\n",
       "    }\n",
       "\n",
       "    .dataframe tbody tr th {\n",
       "        vertical-align: top;\n",
       "    }\n",
       "\n",
       "    .dataframe thead th {\n",
       "        text-align: right;\n",
       "    }\n",
       "</style>\n",
       "<table border=\"1\" class=\"dataframe\">\n",
       "  <thead>\n",
       "    <tr style=\"text-align: right;\">\n",
       "      <th></th>\n",
       "      <th>bedrooms</th>\n",
       "      <th>bathrooms</th>\n",
       "      <th>sqft_living</th>\n",
       "      <th>sqft_lot</th>\n",
       "      <th>floors</th>\n",
       "      <th>sqft_above</th>\n",
       "      <th>sqft_basement</th>\n",
       "      <th>sqft_garage</th>\n",
       "      <th>sqft_patio</th>\n",
       "      <th>yr_built</th>\n",
       "      <th>yr_renovated</th>\n",
       "      <th>lat</th>\n",
       "      <th>long</th>\n",
       "      <th>yr_old</th>\n",
       "      <th>Population</th>\n",
       "    </tr>\n",
       "  </thead>\n",
       "  <tbody>\n",
       "    <tr>\n",
       "      <th>bedrooms</th>\n",
       "      <td>1.000000</td>\n",
       "      <td>0.593408</td>\n",
       "      <td>0.630755</td>\n",
       "      <td>0.000291</td>\n",
       "      <td>0.195625</td>\n",
       "      <td>0.537593</td>\n",
       "      <td>0.234867</td>\n",
       "      <td>0.304974</td>\n",
       "      <td>0.192084</td>\n",
       "      <td>0.182904</td>\n",
       "      <td>0.010753</td>\n",
       "      <td>-0.019399</td>\n",
       "      <td>0.133572</td>\n",
       "      <td>-0.192947</td>\n",
       "      <td>0.013681</td>\n",
       "    </tr>\n",
       "    <tr>\n",
       "      <th>bathrooms</th>\n",
       "      <td>0.593408</td>\n",
       "      <td>1.000000</td>\n",
       "      <td>0.779861</td>\n",
       "      <td>0.038917</td>\n",
       "      <td>0.427804</td>\n",
       "      <td>0.680873</td>\n",
       "      <td>0.260681</td>\n",
       "      <td>0.461214</td>\n",
       "      <td>0.333498</td>\n",
       "      <td>0.455823</td>\n",
       "      <td>0.042714</td>\n",
       "      <td>0.046573</td>\n",
       "      <td>0.178023</td>\n",
       "      <td>-0.484485</td>\n",
       "      <td>-0.055996</td>\n",
       "    </tr>\n",
       "    <tr>\n",
       "      <th>sqft_living</th>\n",
       "      <td>0.630755</td>\n",
       "      <td>0.779861</td>\n",
       "      <td>1.000000</td>\n",
       "      <td>0.118722</td>\n",
       "      <td>0.355948</td>\n",
       "      <td>0.881704</td>\n",
       "      <td>0.335856</td>\n",
       "      <td>0.503708</td>\n",
       "      <td>0.405895</td>\n",
       "      <td>0.328809</td>\n",
       "      <td>0.035455</td>\n",
       "      <td>0.046253</td>\n",
       "      <td>0.233359</td>\n",
       "      <td>-0.348895</td>\n",
       "      <td>-0.101580</td>\n",
       "    </tr>\n",
       "    <tr>\n",
       "      <th>sqft_lot</th>\n",
       "      <td>0.000291</td>\n",
       "      <td>0.038917</td>\n",
       "      <td>0.118722</td>\n",
       "      <td>1.000000</td>\n",
       "      <td>-0.020452</td>\n",
       "      <td>0.128513</td>\n",
       "      <td>0.002418</td>\n",
       "      <td>0.084977</td>\n",
       "      <td>0.157356</td>\n",
       "      <td>0.012632</td>\n",
       "      <td>0.007658</td>\n",
       "      <td>-0.074580</td>\n",
       "      <td>0.183201</td>\n",
       "      <td>-0.013740</td>\n",
       "      <td>-0.106876</td>\n",
       "    </tr>\n",
       "    <tr>\n",
       "      <th>floors</th>\n",
       "      <td>0.195625</td>\n",
       "      <td>0.427804</td>\n",
       "      <td>0.355948</td>\n",
       "      <td>-0.020452</td>\n",
       "      <td>1.000000</td>\n",
       "      <td>0.505866</td>\n",
       "      <td>-0.243438</td>\n",
       "      <td>0.179976</td>\n",
       "      <td>0.123638</td>\n",
       "      <td>0.521014</td>\n",
       "      <td>-0.015508</td>\n",
       "      <td>0.047992</td>\n",
       "      <td>0.088202</td>\n",
       "      <td>-0.531768</td>\n",
       "      <td>-0.068456</td>\n",
       "    </tr>\n",
       "    <tr>\n",
       "      <th>sqft_above</th>\n",
       "      <td>0.537593</td>\n",
       "      <td>0.680873</td>\n",
       "      <td>0.881704</td>\n",
       "      <td>0.128513</td>\n",
       "      <td>0.505866</td>\n",
       "      <td>1.000000</td>\n",
       "      <td>-0.073831</td>\n",
       "      <td>0.553849</td>\n",
       "      <td>0.320947</td>\n",
       "      <td>0.428496</td>\n",
       "      <td>0.007158</td>\n",
       "      <td>-0.024946</td>\n",
       "      <td>0.337772</td>\n",
       "      <td>-0.437196</td>\n",
       "      <td>-0.114727</td>\n",
       "    </tr>\n",
       "    <tr>\n",
       "      <th>sqft_basement</th>\n",
       "      <td>0.234867</td>\n",
       "      <td>0.260681</td>\n",
       "      <td>0.335856</td>\n",
       "      <td>0.002418</td>\n",
       "      <td>-0.243438</td>\n",
       "      <td>-0.073831</td>\n",
       "      <td>1.000000</td>\n",
       "      <td>0.017015</td>\n",
       "      <td>0.214328</td>\n",
       "      <td>-0.227452</td>\n",
       "      <td>0.052547</td>\n",
       "      <td>0.187594</td>\n",
       "      <td>-0.221703</td>\n",
       "      <td>0.207034</td>\n",
       "      <td>0.011529</td>\n",
       "    </tr>\n",
       "    <tr>\n",
       "      <th>sqft_garage</th>\n",
       "      <td>0.304974</td>\n",
       "      <td>0.461214</td>\n",
       "      <td>0.503708</td>\n",
       "      <td>0.084977</td>\n",
       "      <td>0.179976</td>\n",
       "      <td>0.553849</td>\n",
       "      <td>0.017015</td>\n",
       "      <td>1.000000</td>\n",
       "      <td>0.228163</td>\n",
       "      <td>0.496895</td>\n",
       "      <td>-0.104440</td>\n",
       "      <td>-0.131875</td>\n",
       "      <td>0.377277</td>\n",
       "      <td>-0.454412</td>\n",
       "      <td>0.002236</td>\n",
       "    </tr>\n",
       "    <tr>\n",
       "      <th>sqft_patio</th>\n",
       "      <td>0.192084</td>\n",
       "      <td>0.333498</td>\n",
       "      <td>0.405895</td>\n",
       "      <td>0.157356</td>\n",
       "      <td>0.123638</td>\n",
       "      <td>0.320947</td>\n",
       "      <td>0.214328</td>\n",
       "      <td>0.228163</td>\n",
       "      <td>1.000000</td>\n",
       "      <td>0.136048</td>\n",
       "      <td>0.057764</td>\n",
       "      <td>0.011023</td>\n",
       "      <td>0.122203</td>\n",
       "      <td>-0.155993</td>\n",
       "      <td>-0.095232</td>\n",
       "    </tr>\n",
       "    <tr>\n",
       "      <th>yr_built</th>\n",
       "      <td>0.182904</td>\n",
       "      <td>0.455823</td>\n",
       "      <td>0.328809</td>\n",
       "      <td>0.012632</td>\n",
       "      <td>0.521014</td>\n",
       "      <td>0.428496</td>\n",
       "      <td>-0.227452</td>\n",
       "      <td>0.496895</td>\n",
       "      <td>0.136048</td>\n",
       "      <td>1.000000</td>\n",
       "      <td>-0.237206</td>\n",
       "      <td>-0.152983</td>\n",
       "      <td>0.353998</td>\n",
       "      <td>-0.907946</td>\n",
       "      <td>-0.044433</td>\n",
       "    </tr>\n",
       "    <tr>\n",
       "      <th>yr_renovated</th>\n",
       "      <td>0.010753</td>\n",
       "      <td>0.042714</td>\n",
       "      <td>0.035455</td>\n",
       "      <td>0.007658</td>\n",
       "      <td>-0.015508</td>\n",
       "      <td>0.007158</td>\n",
       "      <td>0.052547</td>\n",
       "      <td>-0.104440</td>\n",
       "      <td>0.057764</td>\n",
       "      <td>-0.237206</td>\n",
       "      <td>1.000000</td>\n",
       "      <td>0.041715</td>\n",
       "      <td>-0.059761</td>\n",
       "      <td>-0.157683</td>\n",
       "      <td>-0.030505</td>\n",
       "    </tr>\n",
       "    <tr>\n",
       "      <th>lat</th>\n",
       "      <td>-0.019399</td>\n",
       "      <td>0.046573</td>\n",
       "      <td>0.046253</td>\n",
       "      <td>-0.074580</td>\n",
       "      <td>0.047992</td>\n",
       "      <td>-0.024946</td>\n",
       "      <td>0.187594</td>\n",
       "      <td>-0.131875</td>\n",
       "      <td>0.011023</td>\n",
       "      <td>-0.152983</td>\n",
       "      <td>0.041715</td>\n",
       "      <td>1.000000</td>\n",
       "      <td>-0.184541</td>\n",
       "      <td>0.136639</td>\n",
       "      <td>-0.032308</td>\n",
       "    </tr>\n",
       "    <tr>\n",
       "      <th>long</th>\n",
       "      <td>0.133572</td>\n",
       "      <td>0.178023</td>\n",
       "      <td>0.233359</td>\n",
       "      <td>0.183201</td>\n",
       "      <td>0.088202</td>\n",
       "      <td>0.337772</td>\n",
       "      <td>-0.221703</td>\n",
       "      <td>0.377277</td>\n",
       "      <td>0.122203</td>\n",
       "      <td>0.353998</td>\n",
       "      <td>-0.059761</td>\n",
       "      <td>-0.184541</td>\n",
       "      <td>1.000000</td>\n",
       "      <td>-0.329038</td>\n",
       "      <td>-0.240651</td>\n",
       "    </tr>\n",
       "    <tr>\n",
       "      <th>yr_old</th>\n",
       "      <td>-0.192947</td>\n",
       "      <td>-0.484485</td>\n",
       "      <td>-0.348895</td>\n",
       "      <td>-0.013740</td>\n",
       "      <td>-0.531768</td>\n",
       "      <td>-0.437196</td>\n",
       "      <td>0.207034</td>\n",
       "      <td>-0.454412</td>\n",
       "      <td>-0.155993</td>\n",
       "      <td>-0.907946</td>\n",
       "      <td>-0.157683</td>\n",
       "      <td>0.136639</td>\n",
       "      <td>-0.329038</td>\n",
       "      <td>1.000000</td>\n",
       "      <td>0.057019</td>\n",
       "    </tr>\n",
       "    <tr>\n",
       "      <th>Population</th>\n",
       "      <td>0.013681</td>\n",
       "      <td>-0.055996</td>\n",
       "      <td>-0.101580</td>\n",
       "      <td>-0.106876</td>\n",
       "      <td>-0.068456</td>\n",
       "      <td>-0.114727</td>\n",
       "      <td>0.011529</td>\n",
       "      <td>0.002236</td>\n",
       "      <td>-0.095232</td>\n",
       "      <td>-0.044433</td>\n",
       "      <td>-0.030505</td>\n",
       "      <td>-0.032308</td>\n",
       "      <td>-0.240651</td>\n",
       "      <td>0.057019</td>\n",
       "      <td>1.000000</td>\n",
       "    </tr>\n",
       "  </tbody>\n",
       "</table>\n",
       "</div>"
      ],
      "text/plain": [
       "               bedrooms  bathrooms  sqft_living  sqft_lot    floors  \\\n",
       "bedrooms       1.000000   0.593408     0.630755  0.000291  0.195625   \n",
       "bathrooms      0.593408   1.000000     0.779861  0.038917  0.427804   \n",
       "sqft_living    0.630755   0.779861     1.000000  0.118722  0.355948   \n",
       "sqft_lot       0.000291   0.038917     0.118722  1.000000 -0.020452   \n",
       "floors         0.195625   0.427804     0.355948 -0.020452  1.000000   \n",
       "sqft_above     0.537593   0.680873     0.881704  0.128513  0.505866   \n",
       "sqft_basement  0.234867   0.260681     0.335856  0.002418 -0.243438   \n",
       "sqft_garage    0.304974   0.461214     0.503708  0.084977  0.179976   \n",
       "sqft_patio     0.192084   0.333498     0.405895  0.157356  0.123638   \n",
       "yr_built       0.182904   0.455823     0.328809  0.012632  0.521014   \n",
       "yr_renovated   0.010753   0.042714     0.035455  0.007658 -0.015508   \n",
       "lat           -0.019399   0.046573     0.046253 -0.074580  0.047992   \n",
       "long           0.133572   0.178023     0.233359  0.183201  0.088202   \n",
       "yr_old        -0.192947  -0.484485    -0.348895 -0.013740 -0.531768   \n",
       "Population     0.013681  -0.055996    -0.101580 -0.106876 -0.068456   \n",
       "\n",
       "               sqft_above  sqft_basement  sqft_garage  sqft_patio  yr_built  \\\n",
       "bedrooms         0.537593       0.234867     0.304974    0.192084  0.182904   \n",
       "bathrooms        0.680873       0.260681     0.461214    0.333498  0.455823   \n",
       "sqft_living      0.881704       0.335856     0.503708    0.405895  0.328809   \n",
       "sqft_lot         0.128513       0.002418     0.084977    0.157356  0.012632   \n",
       "floors           0.505866      -0.243438     0.179976    0.123638  0.521014   \n",
       "sqft_above       1.000000      -0.073831     0.553849    0.320947  0.428496   \n",
       "sqft_basement   -0.073831       1.000000     0.017015    0.214328 -0.227452   \n",
       "sqft_garage      0.553849       0.017015     1.000000    0.228163  0.496895   \n",
       "sqft_patio       0.320947       0.214328     0.228163    1.000000  0.136048   \n",
       "yr_built         0.428496      -0.227452     0.496895    0.136048  1.000000   \n",
       "yr_renovated     0.007158       0.052547    -0.104440    0.057764 -0.237206   \n",
       "lat             -0.024946       0.187594    -0.131875    0.011023 -0.152983   \n",
       "long             0.337772      -0.221703     0.377277    0.122203  0.353998   \n",
       "yr_old          -0.437196       0.207034    -0.454412   -0.155993 -0.907946   \n",
       "Population      -0.114727       0.011529     0.002236   -0.095232 -0.044433   \n",
       "\n",
       "               yr_renovated       lat      long    yr_old  Population  \n",
       "bedrooms           0.010753 -0.019399  0.133572 -0.192947    0.013681  \n",
       "bathrooms          0.042714  0.046573  0.178023 -0.484485   -0.055996  \n",
       "sqft_living        0.035455  0.046253  0.233359 -0.348895   -0.101580  \n",
       "sqft_lot           0.007658 -0.074580  0.183201 -0.013740   -0.106876  \n",
       "floors            -0.015508  0.047992  0.088202 -0.531768   -0.068456  \n",
       "sqft_above         0.007158 -0.024946  0.337772 -0.437196   -0.114727  \n",
       "sqft_basement      0.052547  0.187594 -0.221703  0.207034    0.011529  \n",
       "sqft_garage       -0.104440 -0.131875  0.377277 -0.454412    0.002236  \n",
       "sqft_patio         0.057764  0.011023  0.122203 -0.155993   -0.095232  \n",
       "yr_built          -0.237206 -0.152983  0.353998 -0.907946   -0.044433  \n",
       "yr_renovated       1.000000  0.041715 -0.059761 -0.157683   -0.030505  \n",
       "lat                0.041715  1.000000 -0.184541  0.136639   -0.032308  \n",
       "long              -0.059761 -0.184541  1.000000 -0.329038   -0.240651  \n",
       "yr_old            -0.157683  0.136639 -0.329038  1.000000    0.057019  \n",
       "Population        -0.030505 -0.032308 -0.240651  0.057019    1.000000  "
      ]
     },
     "execution_count": 103,
     "metadata": {},
     "output_type": "execute_result"
    }
   ],
   "source": [
    "X.corr()"
   ]
  },
  {
   "cell_type": "code",
   "execution_count": 104,
   "metadata": {
    "scrolled": true
   },
   "outputs": [
    {
     "data": {
      "text/plain": [
       "<AxesSubplot:>"
      ]
     },
     "execution_count": 104,
     "metadata": {},
     "output_type": "execute_result"
    },
    {
     "data": {
      "image/png": "[encoded data removed]",
      "text/plain": [
       "<Figure size 432x288 with 2 Axes>"
      ]
     },
     "metadata": {
      "needs_background": "light"
     },
     "output_type": "display_data"
    }
   ],
   "source": [
    "sns.heatmap(X.corr())"
   ]
  },
  {
   "cell_type": "markdown",
   "metadata": {},
   "source": [
    "scatter plot: visualize relationship  \n",
    "box plot: gives you quantile info\n",
    "confidence interval \n",
    "histograms: distribution of frequencies \n",
    "qq plot residuals (outside of range) is "
   ]
  },
  {
   "cell_type": "code",
   "execution_count": 105,
   "metadata": {},
   "outputs": [
    {
     "data": {
      "text/plain": [
       "{'whiskers': [<matplotlib.lines.Line2D at 0x7f89b9e24be0>,\n",
       "  <matplotlib.lines.Line2D at 0x7f89b9e24eb0>],\n",
       " 'caps': [<matplotlib.lines.Line2D at 0x7f89b9e33280>,\n",
       "  <matplotlib.lines.Line2D at 0x7f89b9e33610>],\n",
       " 'boxes': [<matplotlib.lines.Line2D at 0x7f89b9e24790>],\n",
       " 'medians': [<matplotlib.lines.Line2D at 0x7f89b9e339a0>],\n",
       " 'fliers': [<matplotlib.lines.Line2D at 0x7f89b9e33cd0>],\n",
       " 'means': []}"
      ]
     },
     "execution_count": 105,
     "metadata": {},
     "output_type": "execute_result"
    },
    {
     "data": {
      "image/png": "[encoded data removed]",
      "text/plain": [
       "<Figure size 432x288 with 1 Axes>"
      ]
     },
     "metadata": {
      "needs_background": "light"
     },
     "output_type": "display_data"
    }
   ],
   "source": [
    "plt.boxplot(df1.price)"
   ]
  },
  {
   "cell_type": "code",
   "execution_count": 106,
   "metadata": {},
   "outputs": [
    {
     "data": {
      "text/plain": [
       "(array([2.8364e+04, 6.7600e+02, 7.9000e+01, 1.7000e+01, 1.0000e+01,\n",
       "        2.0000e+00, 1.0000e+00, 2.0000e+00, 0.0000e+00, 1.0000e+00]),\n",
       " array([2.7360000e+04, 3.0996240e+06, 6.1718880e+06, 9.2441520e+06,\n",
       "        1.2316416e+07, 1.5388680e+07, 1.8460944e+07, 2.1533208e+07,\n",
       "        2.4605472e+07, 2.7677736e+07, 3.0750000e+07]),\n",
       " <BarContainer object of 10 artists>)"
      ]
     },
     "execution_count": 106,
     "metadata": {},
     "output_type": "execute_result"
    },
    {
     "data": {
      "image/png": "[encoded data removed]",
      "text/plain": [
       "<Figure size 432x288 with 1 Axes>"
      ]
     },
     "metadata": {
      "needs_background": "light"
     },
     "output_type": "display_data"
    }
   ],
   "source": [
    "plt.hist(df1.price)"
   ]
  },
  {
   "cell_type": "code",
   "execution_count": 107,
   "metadata": {},
   "outputs": [
    {
     "name": "stderr",
     "output_type": "stream",
     "text": [
      "/opt/conda/lib/python3.9/site-packages/seaborn/distributions.py:2557: FutureWarning: `distplot` is a deprecated function and will be removed in a future version. Please adapt your code to use either `displot` (a figure-level function with similar flexibility) or `histplot` (an axes-level function for histograms).\n",
      "  warnings.warn(msg, FutureWarning)\n"
     ]
    },
    {
     "data": {
      "text/plain": [
       "<AxesSubplot:xlabel='price', ylabel='Density'>"
      ]
     },
     "execution_count": 107,
     "metadata": {},
     "output_type": "execute_result"
    },
    {
     "data": {
      "image/png": "[encoded data removed]",
      "text/plain": [
       "<Figure size 432x288 with 1 Axes>"
      ]
     },
     "metadata": {
      "needs_background": "light"
     },
     "output_type": "display_data"
    }
   ],
   "source": [
    "sns.distplot(df1.price, bins=30, kde=True)"
   ]
  },
  {
   "cell_type": "code",
   "execution_count": 108,
   "metadata": {},
   "outputs": [
    {
     "data": {
      "text/html": [
       "<div>\n",
       "<style scoped>\n",
       "    .dataframe tbody tr th:only-of-type {\n",
       "        vertical-align: middle;\n",
       "    }\n",
       "\n",
       "    .dataframe tbody tr th {\n",
       "        vertical-align: top;\n",
       "    }\n",
       "\n",
       "    .dataframe thead th {\n",
       "        text-align: right;\n",
       "    }\n",
       "</style>\n",
       "<table border=\"1\" class=\"dataframe\">\n",
       "  <thead>\n",
       "    <tr style=\"text-align: right;\">\n",
       "      <th></th>\n",
       "      <th>price</th>\n",
       "      <th>bedrooms</th>\n",
       "      <th>bathrooms</th>\n",
       "      <th>sqft_living</th>\n",
       "      <th>sqft_lot</th>\n",
       "      <th>floors</th>\n",
       "      <th>sqft_above</th>\n",
       "      <th>sqft_basement</th>\n",
       "      <th>sqft_garage</th>\n",
       "      <th>sqft_patio</th>\n",
       "      <th>yr_built</th>\n",
       "      <th>yr_renovated</th>\n",
       "      <th>lat</th>\n",
       "      <th>long</th>\n",
       "      <th>Zipcode</th>\n",
       "      <th>yr_old</th>\n",
       "      <th>Population</th>\n",
       "    </tr>\n",
       "  </thead>\n",
       "  <tbody>\n",
       "    <tr>\n",
       "      <th>count</th>\n",
       "      <td>2.915200e+04</td>\n",
       "      <td>29152.000000</td>\n",
       "      <td>29152.000000</td>\n",
       "      <td>29152.000000</td>\n",
       "      <td>2.915200e+04</td>\n",
       "      <td>29152.000000</td>\n",
       "      <td>29152.000000</td>\n",
       "      <td>29152.000000</td>\n",
       "      <td>29152.000000</td>\n",
       "      <td>29152.000000</td>\n",
       "      <td>29152.000000</td>\n",
       "      <td>29152.000000</td>\n",
       "      <td>29152.000000</td>\n",
       "      <td>29152.000000</td>\n",
       "      <td>29152.000000</td>\n",
       "      <td>29152.000000</td>\n",
       "      <td>29152.000000</td>\n",
       "    </tr>\n",
       "    <tr>\n",
       "      <th>mean</th>\n",
       "      <td>1.113367e+06</td>\n",
       "      <td>3.436883</td>\n",
       "      <td>2.332739</td>\n",
       "      <td>2131.673196</td>\n",
       "      <td>1.712848e+04</td>\n",
       "      <td>1.516654</td>\n",
       "      <td>1826.396371</td>\n",
       "      <td>481.397503</td>\n",
       "      <td>336.458905</td>\n",
       "      <td>216.378979</td>\n",
       "      <td>1973.830303</td>\n",
       "      <td>93.779535</td>\n",
       "      <td>47.543349</td>\n",
       "      <td>-122.214379</td>\n",
       "      <td>98077.248148</td>\n",
       "      <td>44.784612</td>\n",
       "      <td>30470.448957</td>\n",
       "    </tr>\n",
       "    <tr>\n",
       "      <th>std</th>\n",
       "      <td>8.958348e+05</td>\n",
       "      <td>0.976831</td>\n",
       "      <td>0.894813</td>\n",
       "      <td>976.875996</td>\n",
       "      <td>6.084812e+04</td>\n",
       "      <td>0.548313</td>\n",
       "      <td>880.303274</td>\n",
       "      <td>586.205229</td>\n",
       "      <td>286.244187</td>\n",
       "      <td>246.792890</td>\n",
       "      <td>31.665996</td>\n",
       "      <td>422.656961</td>\n",
       "      <td>0.145970</td>\n",
       "      <td>0.143108</td>\n",
       "      <td>54.133260</td>\n",
       "      <td>30.991642</td>\n",
       "      <td>11293.348724</td>\n",
       "    </tr>\n",
       "    <tr>\n",
       "      <th>min</th>\n",
       "      <td>2.736000e+04</td>\n",
       "      <td>0.000000</td>\n",
       "      <td>0.000000</td>\n",
       "      <td>3.000000</td>\n",
       "      <td>4.020000e+02</td>\n",
       "      <td>1.000000</td>\n",
       "      <td>2.000000</td>\n",
       "      <td>0.000000</td>\n",
       "      <td>0.000000</td>\n",
       "      <td>0.000000</td>\n",
       "      <td>1900.000000</td>\n",
       "      <td>0.000000</td>\n",
       "      <td>47.159700</td>\n",
       "      <td>-122.526650</td>\n",
       "      <td>98001.000000</td>\n",
       "      <td>-1.000000</td>\n",
       "      <td>294.000000</td>\n",
       "    </tr>\n",
       "    <tr>\n",
       "      <th>25%</th>\n",
       "      <td>6.450000e+05</td>\n",
       "      <td>3.000000</td>\n",
       "      <td>2.000000</td>\n",
       "      <td>1440.000000</td>\n",
       "      <td>5.000000e+03</td>\n",
       "      <td>1.000000</td>\n",
       "      <td>1190.000000</td>\n",
       "      <td>0.000000</td>\n",
       "      <td>0.000000</td>\n",
       "      <td>40.000000</td>\n",
       "      <td>1952.000000</td>\n",
       "      <td>0.000000</td>\n",
       "      <td>47.431014</td>\n",
       "      <td>-122.328445</td>\n",
       "      <td>98032.000000</td>\n",
       "      <td>18.000000</td>\n",
       "      <td>21147.000000</td>\n",
       "    </tr>\n",
       "    <tr>\n",
       "      <th>50%</th>\n",
       "      <td>8.690000e+05</td>\n",
       "      <td>3.000000</td>\n",
       "      <td>2.500000</td>\n",
       "      <td>1940.000000</td>\n",
       "      <td>7.560000e+03</td>\n",
       "      <td>1.500000</td>\n",
       "      <td>1580.000000</td>\n",
       "      <td>0.000000</td>\n",
       "      <td>400.000000</td>\n",
       "      <td>141.500000</td>\n",
       "      <td>1976.000000</td>\n",
       "      <td>0.000000</td>\n",
       "      <td>47.557950</td>\n",
       "      <td>-122.234025</td>\n",
       "      <td>98059.000000</td>\n",
       "      <td>43.000000</td>\n",
       "      <td>31365.000000</td>\n",
       "    </tr>\n",
       "    <tr>\n",
       "      <th>75%</th>\n",
       "      <td>1.310000e+06</td>\n",
       "      <td>4.000000</td>\n",
       "      <td>3.000000</td>\n",
       "      <td>2640.000000</td>\n",
       "      <td>1.077125e+04</td>\n",
       "      <td>2.000000</td>\n",
       "      <td>2290.000000</td>\n",
       "      <td>960.000000</td>\n",
       "      <td>520.000000</td>\n",
       "      <td>310.000000</td>\n",
       "      <td>2001.000000</td>\n",
       "      <td>0.000000</td>\n",
       "      <td>47.672016</td>\n",
       "      <td>-122.127607</td>\n",
       "      <td>98117.000000</td>\n",
       "      <td>66.000000</td>\n",
       "      <td>39816.000000</td>\n",
       "    </tr>\n",
       "    <tr>\n",
       "      <th>max</th>\n",
       "      <td>3.075000e+07</td>\n",
       "      <td>13.000000</td>\n",
       "      <td>10.500000</td>\n",
       "      <td>15360.000000</td>\n",
       "      <td>3.253932e+06</td>\n",
       "      <td>4.000000</td>\n",
       "      <td>12660.000000</td>\n",
       "      <td>8020.000000</td>\n",
       "      <td>3580.000000</td>\n",
       "      <td>4370.000000</td>\n",
       "      <td>2022.000000</td>\n",
       "      <td>2022.000000</td>\n",
       "      <td>47.789830</td>\n",
       "      <td>-121.163960</td>\n",
       "      <td>98288.000000</td>\n",
       "      <td>122.000000</td>\n",
       "      <td>58442.000000</td>\n",
       "    </tr>\n",
       "  </tbody>\n",
       "</table>\n",
       "</div>"
      ],
      "text/plain": [
       "              price      bedrooms     bathrooms   sqft_living      sqft_lot  \\\n",
       "count  2.915200e+04  29152.000000  29152.000000  29152.000000  2.915200e+04   \n",
       "mean   1.113367e+06      3.436883      2.332739   2131.673196  1.712848e+04   \n",
       "std    8.958348e+05      0.976831      0.894813    976.875996  6.084812e+04   \n",
       "min    2.736000e+04      0.000000      0.000000      3.000000  4.020000e+02   \n",
       "25%    6.450000e+05      3.000000      2.000000   1440.000000  5.000000e+03   \n",
       "50%    8.690000e+05      3.000000      2.500000   1940.000000  7.560000e+03   \n",
       "75%    1.310000e+06      4.000000      3.000000   2640.000000  1.077125e+04   \n",
       "max    3.075000e+07     13.000000     10.500000  15360.000000  3.253932e+06   \n",
       "\n",
       "             floors    sqft_above  sqft_basement   sqft_garage    sqft_patio  \\\n",
       "count  29152.000000  29152.000000   29152.000000  29152.000000  29152.000000   \n",
       "mean       1.516654   1826.396371     481.397503    336.458905    216.378979   \n",
       "std        0.548313    880.303274     586.205229    286.244187    246.792890   \n",
       "min        1.000000      2.000000       0.000000      0.000000      0.000000   \n",
       "25%        1.000000   1190.000000       0.000000      0.000000     40.000000   \n",
       "50%        1.500000   1580.000000       0.000000    400.000000    141.500000   \n",
       "75%        2.000000   2290.000000     960.000000    520.000000    310.000000   \n",
       "max        4.000000  12660.000000    8020.000000   3580.000000   4370.000000   \n",
       "\n",
       "           yr_built  yr_renovated           lat          long       Zipcode  \\\n",
       "count  29152.000000  29152.000000  29152.000000  29152.000000  29152.000000   \n",
       "mean    1973.830303     93.779535     47.543349   -122.214379  98077.248148   \n",
       "std       31.665996    422.656961      0.145970      0.143108     54.133260   \n",
       "min     1900.000000      0.000000     47.159700   -122.526650  98001.000000   \n",
       "25%     1952.000000      0.000000     47.431014   -122.328445  98032.000000   \n",
       "50%     1976.000000      0.000000     47.557950   -122.234025  98059.000000   \n",
       "75%     2001.000000      0.000000     47.672016   -122.127607  98117.000000   \n",
       "max     2022.000000   2022.000000     47.789830   -121.163960  98288.000000   \n",
       "\n",
       "             yr_old    Population  \n",
       "count  29152.000000  29152.000000  \n",
       "mean      44.784612  30470.448957  \n",
       "std       30.991642  11293.348724  \n",
       "min       -1.000000    294.000000  \n",
       "25%       18.000000  21147.000000  \n",
       "50%       43.000000  31365.000000  \n",
       "75%       66.000000  39816.000000  \n",
       "max      122.000000  58442.000000  "
      ]
     },
     "execution_count": 108,
     "metadata": {},
     "output_type": "execute_result"
    }
   ],
   "source": [
    "df1.describe()"
   ]
  },
  {
   "cell_type": "code",
   "execution_count": 109,
   "metadata": {},
   "outputs": [
    {
     "data": {
      "text/plain": [
       "3     12318\n",
       "4      9490\n",
       "2      3539\n",
       "5      2767\n",
       "6       493\n",
       "1       371\n",
       "7        80\n",
       "0        38\n",
       "8        37\n",
       "9        14\n",
       "10        3\n",
       "11        1\n",
       "13        1\n",
       "Name: bedrooms, dtype: int64"
      ]
     },
     "execution_count": 109,
     "metadata": {},
     "output_type": "execute_result"
    }
   ],
   "source": [
    "df1.bedrooms.value_counts()"
   ]
  },
  {
   "cell_type": "code",
   "execution_count": 110,
   "metadata": {},
   "outputs": [],
   "source": [
    "df1_clean = df1[df1.bedrooms < 6]"
   ]
  },
  {
   "cell_type": "code",
   "execution_count": 112,
   "metadata": {},
   "outputs": [
    {
     "data": {
      "text/plain": [
       "<matplotlib.collections.PathCollection at 0x7f89b9c422b0>"
      ]
     },
     "execution_count": 112,
     "metadata": {},
     "output_type": "execute_result"
    },
    {
     "data": {
      "image/png": "[encoded data removed]",
      "text/plain": [
       "<Figure size 432x288 with 1 Axes>"
      ]
     },
     "metadata": {
      "needs_background": "light"
     },
     "output_type": "display_data"
    }
   ],
   "source": [
    "plt.scatter(df1.bedrooms, df1.price)"
   ]
  },
  {
   "cell_type": "code",
   "execution_count": 113,
   "metadata": {},
   "outputs": [
    {
     "data": {
      "text/plain": [
       "<matplotlib.collections.PathCollection at 0x7f89b9c14ee0>"
      ]
     },
     "execution_count": 113,
     "metadata": {},
     "output_type": "execute_result"
    },
    {
     "data": {
      "image/png": "[encoded data removed]",
      "text/plain": [
       "<Figure size 432x288 with 1 Axes>"
      ]
     },
     "metadata": {
      "needs_background": "light"
     },
     "output_type": "display_data"
    }
   ],
   "source": [
    "plt.scatter(df1.heat_source, df1.price)"
   ]
  },
  {
   "cell_type": "code",
   "execution_count": 114,
   "metadata": {},
   "outputs": [
    {
     "data": {
      "text/plain": [
       "<matplotlib.collections.PathCollection at 0x7f89b9c78670>"
      ]
     },
     "execution_count": 114,
     "metadata": {},
     "output_type": "execute_result"
    },
    {
     "data": {
      "image/png": "[encoded data removed]",
      "text/plain": [
       "<Figure size 432x288 with 1 Axes>"
      ]
     },
     "metadata": {
      "needs_background": "light"
     },
     "output_type": "display_data"
    }
   ],
   "source": [
    "plt.scatter(df1.view, df1.price)"
   ]
  },
  {
   "cell_type": "code",
   "execution_count": 115,
   "metadata": {},
   "outputs": [
    {
     "data": {
      "text/plain": [
       "<matplotlib.collections.PathCollection at 0x7f89b9aab580>"
      ]
     },
     "execution_count": 115,
     "metadata": {},
     "output_type": "execute_result"
    },
    {
     "data": {
      "image/png": "[encoded data removed]",
      "text/plain": [
       "<Figure size 432x288 with 1 Axes>"
      ]
     },
     "metadata": {
      "needs_background": "light"
     },
     "output_type": "display_data"
    }
   ],
   "source": [
    "plt.scatter(df1.grade, df1.price)"
   ]
  },
  {
   "cell_type": "code",
   "execution_count": 116,
   "metadata": {},
   "outputs": [
    {
     "data": {
      "text/plain": [
       "<matplotlib.collections.PathCollection at 0x7f89b9a85a00>"
      ]
     },
     "execution_count": 116,
     "metadata": {},
     "output_type": "execute_result"
    },
    {
     "data": {
      "image/png": "[encoded data removed]",
      "text/plain": [
       "<Figure size 432x288 with 1 Axes>"
      ]
     },
     "metadata": {
      "needs_background": "light"
     },
     "output_type": "display_data"
    }
   ],
   "source": [
    "plt.scatter(df1.sewer_system, df1.price)"
   ]
  },
  {
   "cell_type": "code",
   "execution_count": 117,
   "metadata": {},
   "outputs": [
    {
     "data": {
      "text/plain": [
       "<matplotlib.collections.PathCollection at 0x7f89b9b58fa0>"
      ]
     },
     "execution_count": 117,
     "metadata": {},
     "output_type": "execute_result"
    },
    {
     "data": {
      "image/png": "[encoded data removed]",
      "text/plain": [
       "<Figure size 432x288 with 1 Axes>"
      ]
     },
     "metadata": {
      "needs_background": "light"
     },
     "output_type": "display_data"
    }
   ],
   "source": [
    "plt.scatter(df1.greenbelt, df1.price)"
   ]
  },
  {
   "cell_type": "code",
   "execution_count": null,
   "metadata": {},
   "outputs": [],
   "source": []
  },
  {
   "cell_type": "markdown",
   "metadata": {},
   "source": [
    "## BASELINE PROJECT"
   ]
  },
  {
   "cell_type": "markdown",
   "metadata": {},
   "source": [
    "## Discrete numeric predictors "
   ]
  },
  {
   "cell_type": "code",
   "execution_count": 235,
   "metadata": {},
   "outputs": [
    {
     "data": {
      "text/plain": [
       "<AxesSubplot:xlabel='bedrooms', ylabel='price'>"
      ]
     },
     "execution_count": 235,
     "metadata": {},
     "output_type": "execute_result"
    },
    {
     "data": {
      "image/png": "[encoded data removed]",
      "text/plain": [
       "<Figure size 864x360 with 2 Axes>"
      ]
     },
     "metadata": {
      "needs_background": "light"
     },
     "output_type": "display_data"
    }
   ],
   "source": [
    "fig, (ax1, ax2) = plt.subplots (ncols=2, figsize = (12, 5))\n",
    "df1.plot.scatter(x='bathrooms', y='price', ax=ax1)\n",
    "df1.plot.scatter(x='bedrooms', y='price', ax=ax2)"
   ]
  },
  {
   "cell_type": "code",
   "execution_count": 52,
   "metadata": {},
   "outputs": [
    {
     "data": {
      "text/plain": [
       "<AxesSubplot:xlabel='floors', ylabel='price'>"
      ]
     },
     "execution_count": 52,
     "metadata": {},
     "output_type": "execute_result"
    },
    {
     "data": {
      "image/png": "[encoded data removed]",
      "text/plain": [
       "<Figure size 864x360 with 2 Axes>"
      ]
     },
     "metadata": {
      "needs_background": "light"
     },
     "output_type": "display_data"
    }
   ],
   "source": [
    "fig, (ax1, ax2) = plt.subplots (ncols=2, figsize = (12, 5))\n",
    "df1.plot.scatter(x='yr_renovated', y='price', ax=ax1)\n",
    "df1.plot.scatter(x='floors', y='price', ax=ax2)"
   ]
  },
  {
   "cell_type": "markdown",
   "metadata": {},
   "source": [
    "## Continuous numerice predictors"
   ]
  },
  {
   "cell_type": "code",
   "execution_count": 53,
   "metadata": {},
   "outputs": [
    {
     "data": {
      "text/plain": [
       "<AxesSubplot:xlabel='sqft_lot', ylabel='price'>"
      ]
     },
     "execution_count": 53,
     "metadata": {},
     "output_type": "execute_result"
    },
    {
     "data": {
      "image/png": "[encoded data removed]",
      "text/plain": [
       "<Figure size 864x360 with 2 Axes>"
      ]
     },
     "metadata": {
      "needs_background": "light"
     },
     "output_type": "display_data"
    }
   ],
   "source": [
    "fig, (ax1, ax2) = plt.subplots (ncols=2, figsize = (12, 5))\n",
    "df1.plot.scatter(x='sqft_living', y='price', ax=ax1)\n",
    "df1.plot.scatter(x='sqft_lot', y='price', ax=ax2)"
   ]
  },
  {
   "cell_type": "code",
   "execution_count": 54,
   "metadata": {},
   "outputs": [
    {
     "data": {
      "text/plain": [
       "<AxesSubplot:xlabel='sqft_above', ylabel='price'>"
      ]
     },
     "execution_count": 54,
     "metadata": {},
     "output_type": "execute_result"
    },
    {
     "data": {
      "image/png": "[encoded data removed]",
      "text/plain": [
       "<Figure size 864x360 with 2 Axes>"
      ]
     },
     "metadata": {
      "needs_background": "light"
     },
     "output_type": "display_data"
    }
   ],
   "source": [
    "fig, (ax1, ax2) = plt.subplots (ncols=2, figsize = (12, 5))\n",
    "df1.plot.scatter(x='Population', y='price', ax=ax1)\n",
    "df1.plot.scatter(x='sqft_above', y='price', ax=ax2)"
   ]
  },
  {
   "cell_type": "raw",
   "metadata": {},
   "source": []
  },
  {
   "cell_type": "markdown",
   "metadata": {},
   "source": [
    "Population looks like a discrete measure here.  We will go with sqft living as the most correlated to begin our greedy algorithm approach."
   ]
  },
  {
   "cell_type": "code",
   "execution_count": 73,
   "metadata": {},
   "outputs": [],
   "source": [
    "y = df1['price']"
   ]
  },
  {
   "cell_type": "code",
   "execution_count": 74,
   "metadata": {},
   "outputs": [
    {
     "name": "stdout",
     "output_type": "stream",
     "text": [
      "                            OLS Regression Results                            \n",
      "==============================================================================\n",
      "Dep. Variable:                  price   R-squared:                       0.380\n",
      "Model:                            OLS   Adj. R-squared:                  0.380\n",
      "Method:                 Least Squares   F-statistic:                 1.789e+04\n",
      "Date:                Mon, 19 Sep 2022   Prob (F-statistic):               0.00\n",
      "Time:                        18:41:11   Log-Likelihood:            -4.3393e+05\n",
      "No. Observations:               29152   AIC:                         8.679e+05\n",
      "Df Residuals:                   29150   BIC:                         8.679e+05\n",
      "Df Model:                           1                                         \n",
      "Covariance Type:            nonrobust                                         \n",
      "===============================================================================\n",
      "                  coef    std err          t      P>|t|      [0.025      0.975]\n",
      "-------------------------------------------------------------------------------\n",
      "const       -9.208e+04   9914.898     -9.287      0.000   -1.12e+05   -7.26e+04\n",
      "sqft_living   565.4936      4.228    133.737      0.000     557.206     573.781\n",
      "==============================================================================\n",
      "Omnibus:                    42191.998   Durbin-Watson:                   1.937\n",
      "Prob(Omnibus):                  0.000   Jarque-Bera (JB):         49969054.904\n",
      "Skew:                           8.236   Prob(JB):                         0.00\n",
      "Kurtosis:                     205.155   Cond. No.                     5.63e+03\n",
      "==============================================================================\n",
      "\n",
      "Notes:\n",
      "[1] Standard Errors assume that the covariance matrix of the errors is correctly specified.\n",
      "[2] The condition number is large, 5.63e+03. This might indicate that there are\n",
      "strong multicollinearity or other numerical problems.\n"
     ]
    },
    {
     "name": "stderr",
     "output_type": "stream",
     "text": [
      "/opt/conda/lib/python3.9/site-packages/statsmodels/tsa/tsatools.py:142: FutureWarning: In a future version of pandas all arguments of concat except for the argument 'objs' will be keyword-only\n",
      "  x = pd.concat(x[::order], 1)\n"
     ]
    }
   ],
   "source": [
    "X1 = df1[['sqft_living']]\n",
    "Xbase = sm.OLS(y, sm.add_constant(X1))\n",
    "results1 = Xbase.fit()\n",
    "print(results1.summary())"
   ]
  },
  {
   "cell_type": "markdown",
   "metadata": {},
   "source": [
    "`sqft_living` was the attribute most strongly correlated with `price`, so we set our baseline by describing this relationship.  Overall this model is statistically significant, explaining about 38 percent of the variance in price.  "
   ]
  },
  {
   "cell_type": "code",
   "execution_count": 75,
   "metadata": {},
   "outputs": [
    {
     "name": "stderr",
     "output_type": "stream",
     "text": [
      "/opt/conda/lib/python3.9/site-packages/statsmodels/tsa/tsatools.py:142: FutureWarning: In a future version of pandas all arguments of concat except for the argument 'objs' will be keyword-only\n",
      "  x = pd.concat(x[::order], 1)\n"
     ]
    },
    {
     "data": {
      "text/plain": [
       "398942.3263465434"
      ]
     },
     "execution_count": 75,
     "metadata": {},
     "output_type": "execute_result"
    }
   ],
   "source": [
    "baseline_mae = mean_absolute_error(y, results1.predict(sm.add_constant(X1)))\n",
    "baseline_mae"
   ]
  },
  {
   "cell_type": "markdown",
   "metadata": {},
   "source": [
    "Overall this model is off by about $398,942. \n",
    "\n",
    "The intercept is extremely negative, at minus 9 to the 4th power.  The coefficient for `sqft_living` is about $565.  \n",
    "\n",
    "This means that for each additional square foot of living space, the cost of the home increases by about $565.  "
   ]
  },
  {
   "cell_type": "markdown",
   "metadata": {},
   "source": [
    "## Bathrooms"
   ]
  },
  {
   "cell_type": "code",
   "execution_count": 80,
   "metadata": {},
   "outputs": [
    {
     "name": "stdout",
     "output_type": "stream",
     "text": [
      "                            OLS Regression Results                            \n",
      "==============================================================================\n",
      "Dep. Variable:                  price   R-squared:                       0.396\n",
      "Model:                            OLS   Adj. R-squared:                  0.396\n",
      "Method:                 Least Squares   F-statistic:                     9565.\n",
      "Date:                Mon, 19 Sep 2022   Prob (F-statistic):               0.00\n",
      "Time:                        18:52:12   Log-Likelihood:            -4.3355e+05\n",
      "No. Observations:               29152   AIC:                         8.671e+05\n",
      "Df Residuals:                   29149   BIC:                         8.671e+05\n",
      "Df Model:                           2                                         \n",
      "Covariance Type:            nonrobust                                         \n",
      "===============================================================================\n",
      "                  coef    std err          t      P>|t|      [0.025      0.975]\n",
      "-------------------------------------------------------------------------------\n",
      "const        2.206e+05   1.49e+04     14.792      0.000    1.91e+05     2.5e+05\n",
      "sqft_living   659.7517      5.378    122.667      0.000     649.210     670.294\n",
      "bedrooms    -1.494e+05   5378.660    -27.785      0.000    -1.6e+05   -1.39e+05\n",
      "==============================================================================\n",
      "Omnibus:                    41895.801   Durbin-Watson:                   1.934\n",
      "Prob(Omnibus):                  0.000   Jarque-Bera (JB):         49590826.091\n",
      "Skew:                           8.114   Prob(JB):                         0.00\n",
      "Kurtosis:                     204.403   Cond. No.                     8.91e+03\n",
      "==============================================================================\n",
      "\n",
      "Notes:\n",
      "[1] Standard Errors assume that the covariance matrix of the errors is correctly specified.\n",
      "[2] The condition number is large, 8.91e+03. This might indicate that there are\n",
      "strong multicollinearity or other numerical problems.\n"
     ]
    },
    {
     "name": "stderr",
     "output_type": "stream",
     "text": [
      "/opt/conda/lib/python3.9/site-packages/statsmodels/tsa/tsatools.py:142: FutureWarning: In a future version of pandas all arguments of concat except for the argument 'objs' will be keyword-only\n",
      "  x = pd.concat(x[::order], 1)\n"
     ]
    }
   ],
   "source": [
    "X2 = df1[['sqft_living','bedrooms']]\n",
    "Xbase1 = sm.OLS(y, sm.add_constant(X2))\n",
    "results2 = Xbase1.fit()\n",
    "print(results2.summary())"
   ]
  },
  {
   "cell_type": "code",
   "execution_count": 81,
   "metadata": {
    "scrolled": true
   },
   "outputs": [
    {
     "data": {
      "image/png": "[encoded data removed]",
      "text/plain": [
       "<Figure size 864x360 with 3 Axes>"
      ]
     },
     "metadata": {
      "needs_background": "light"
     },
     "output_type": "display_data"
    }
   ],
   "source": [
    "cats1 = ['waterfront', 'view', 'grade']\n",
    "fig, axes = plt.subplots(ncols=len(cats1), figsize=(12,5))\n",
    "for index, feature in enumerate(cats1):\n",
    "    df1.groupby(feature).mean().plot.bar(\n",
    "        y='price', ax=axes[index])\n"
   ]
  },
  {
   "cell_type": "markdown",
   "metadata": {},
   "source": [
    "## View"
   ]
  },
  {
   "cell_type": "code",
   "execution_count": 86,
   "metadata": {},
   "outputs": [
    {
     "data": {
      "text/html": [
       "<div>\n",
       "<style scoped>\n",
       "    .dataframe tbody tr th:only-of-type {\n",
       "        vertical-align: middle;\n",
       "    }\n",
       "\n",
       "    .dataframe tbody tr th {\n",
       "        vertical-align: top;\n",
       "    }\n",
       "\n",
       "    .dataframe thead th {\n",
       "        text-align: right;\n",
       "    }\n",
       "</style>\n",
       "<table border=\"1\" class=\"dataframe\">\n",
       "  <thead>\n",
       "    <tr style=\"text-align: right;\">\n",
       "      <th></th>\n",
       "      <th>sqft_living</th>\n",
       "      <th>bedrooms</th>\n",
       "      <th>view</th>\n",
       "    </tr>\n",
       "  </thead>\n",
       "  <tbody>\n",
       "    <tr>\n",
       "      <th>0</th>\n",
       "      <td>1180</td>\n",
       "      <td>4</td>\n",
       "      <td>NONE</td>\n",
       "    </tr>\n",
       "    <tr>\n",
       "      <th>1</th>\n",
       "      <td>2770</td>\n",
       "      <td>5</td>\n",
       "      <td>AVERAGE</td>\n",
       "    </tr>\n",
       "    <tr>\n",
       "      <th>2</th>\n",
       "      <td>2880</td>\n",
       "      <td>6</td>\n",
       "      <td>AVERAGE</td>\n",
       "    </tr>\n",
       "    <tr>\n",
       "      <th>3</th>\n",
       "      <td>2160</td>\n",
       "      <td>3</td>\n",
       "      <td>AVERAGE</td>\n",
       "    </tr>\n",
       "    <tr>\n",
       "      <th>4</th>\n",
       "      <td>1120</td>\n",
       "      <td>2</td>\n",
       "      <td>NONE</td>\n",
       "    </tr>\n",
       "    <tr>\n",
       "      <th>...</th>\n",
       "      <td>...</td>\n",
       "      <td>...</td>\n",
       "      <td>...</td>\n",
       "    </tr>\n",
       "    <tr>\n",
       "      <th>29163</th>\n",
       "      <td>1910</td>\n",
       "      <td>5</td>\n",
       "      <td>NONE</td>\n",
       "    </tr>\n",
       "    <tr>\n",
       "      <th>29164</th>\n",
       "      <td>2020</td>\n",
       "      <td>3</td>\n",
       "      <td>FAIR</td>\n",
       "    </tr>\n",
       "    <tr>\n",
       "      <th>29165</th>\n",
       "      <td>1620</td>\n",
       "      <td>3</td>\n",
       "      <td>NONE</td>\n",
       "    </tr>\n",
       "    <tr>\n",
       "      <th>29166</th>\n",
       "      <td>2570</td>\n",
       "      <td>3</td>\n",
       "      <td>NONE</td>\n",
       "    </tr>\n",
       "    <tr>\n",
       "      <th>29167</th>\n",
       "      <td>1200</td>\n",
       "      <td>3</td>\n",
       "      <td>NONE</td>\n",
       "    </tr>\n",
       "  </tbody>\n",
       "</table>\n",
       "<p>29152 rows × 3 columns</p>\n",
       "</div>"
      ],
      "text/plain": [
       "       sqft_living  bedrooms     view\n",
       "0             1180         4     NONE\n",
       "1             2770         5  AVERAGE\n",
       "2             2880         6  AVERAGE\n",
       "3             2160         3  AVERAGE\n",
       "4             1120         2     NONE\n",
       "...            ...       ...      ...\n",
       "29163         1910         5     NONE\n",
       "29164         2020         3     FAIR\n",
       "29165         1620         3     NONE\n",
       "29166         2570         3     NONE\n",
       "29167         1200         3     NONE\n",
       "\n",
       "[29152 rows x 3 columns]"
      ]
     },
     "execution_count": 86,
     "metadata": {},
     "output_type": "execute_result"
    }
   ],
   "source": [
    "cat = \"view\"\n",
    "X_iter = df1[['sqft_living','bedrooms', cat]]\n",
    "X_iter"
   ]
  },
  {
   "cell_type": "code",
   "execution_count": 87,
   "metadata": {},
   "outputs": [
    {
     "data": {
      "text/html": [
       "<div>\n",
       "<style scoped>\n",
       "    .dataframe tbody tr th:only-of-type {\n",
       "        vertical-align: middle;\n",
       "    }\n",
       "\n",
       "    .dataframe tbody tr th {\n",
       "        vertical-align: top;\n",
       "    }\n",
       "\n",
       "    .dataframe thead th {\n",
       "        text-align: right;\n",
       "    }\n",
       "</style>\n",
       "<table border=\"1\" class=\"dataframe\">\n",
       "  <thead>\n",
       "    <tr style=\"text-align: right;\">\n",
       "      <th></th>\n",
       "      <th>sqft_living</th>\n",
       "      <th>bedrooms</th>\n",
       "      <th>view_AVERAGE</th>\n",
       "      <th>view_EXCELLENT</th>\n",
       "      <th>view_FAIR</th>\n",
       "      <th>view_GOOD</th>\n",
       "      <th>view_NONE</th>\n",
       "    </tr>\n",
       "  </thead>\n",
       "  <tbody>\n",
       "    <tr>\n",
       "      <th>0</th>\n",
       "      <td>1180</td>\n",
       "      <td>4</td>\n",
       "      <td>0</td>\n",
       "      <td>0</td>\n",
       "      <td>0</td>\n",
       "      <td>0</td>\n",
       "      <td>1</td>\n",
       "    </tr>\n",
       "    <tr>\n",
       "      <th>1</th>\n",
       "      <td>2770</td>\n",
       "      <td>5</td>\n",
       "      <td>1</td>\n",
       "      <td>0</td>\n",
       "      <td>0</td>\n",
       "      <td>0</td>\n",
       "      <td>0</td>\n",
       "    </tr>\n",
       "    <tr>\n",
       "      <th>2</th>\n",
       "      <td>2880</td>\n",
       "      <td>6</td>\n",
       "      <td>1</td>\n",
       "      <td>0</td>\n",
       "      <td>0</td>\n",
       "      <td>0</td>\n",
       "      <td>0</td>\n",
       "    </tr>\n",
       "    <tr>\n",
       "      <th>3</th>\n",
       "      <td>2160</td>\n",
       "      <td>3</td>\n",
       "      <td>1</td>\n",
       "      <td>0</td>\n",
       "      <td>0</td>\n",
       "      <td>0</td>\n",
       "      <td>0</td>\n",
       "    </tr>\n",
       "    <tr>\n",
       "      <th>4</th>\n",
       "      <td>1120</td>\n",
       "      <td>2</td>\n",
       "      <td>0</td>\n",
       "      <td>0</td>\n",
       "      <td>0</td>\n",
       "      <td>0</td>\n",
       "      <td>1</td>\n",
       "    </tr>\n",
       "    <tr>\n",
       "      <th>...</th>\n",
       "      <td>...</td>\n",
       "      <td>...</td>\n",
       "      <td>...</td>\n",
       "      <td>...</td>\n",
       "      <td>...</td>\n",
       "      <td>...</td>\n",
       "      <td>...</td>\n",
       "    </tr>\n",
       "    <tr>\n",
       "      <th>29163</th>\n",
       "      <td>1910</td>\n",
       "      <td>5</td>\n",
       "      <td>0</td>\n",
       "      <td>0</td>\n",
       "      <td>0</td>\n",
       "      <td>0</td>\n",
       "      <td>1</td>\n",
       "    </tr>\n",
       "    <tr>\n",
       "      <th>29164</th>\n",
       "      <td>2020</td>\n",
       "      <td>3</td>\n",
       "      <td>0</td>\n",
       "      <td>0</td>\n",
       "      <td>1</td>\n",
       "      <td>0</td>\n",
       "      <td>0</td>\n",
       "    </tr>\n",
       "    <tr>\n",
       "      <th>29165</th>\n",
       "      <td>1620</td>\n",
       "      <td>3</td>\n",
       "      <td>0</td>\n",
       "      <td>0</td>\n",
       "      <td>0</td>\n",
       "      <td>0</td>\n",
       "      <td>1</td>\n",
       "    </tr>\n",
       "    <tr>\n",
       "      <th>29166</th>\n",
       "      <td>2570</td>\n",
       "      <td>3</td>\n",
       "      <td>0</td>\n",
       "      <td>0</td>\n",
       "      <td>0</td>\n",
       "      <td>0</td>\n",
       "      <td>1</td>\n",
       "    </tr>\n",
       "    <tr>\n",
       "      <th>29167</th>\n",
       "      <td>1200</td>\n",
       "      <td>3</td>\n",
       "      <td>0</td>\n",
       "      <td>0</td>\n",
       "      <td>0</td>\n",
       "      <td>0</td>\n",
       "      <td>1</td>\n",
       "    </tr>\n",
       "  </tbody>\n",
       "</table>\n",
       "<p>29152 rows × 7 columns</p>\n",
       "</div>"
      ],
      "text/plain": [
       "       sqft_living  bedrooms  view_AVERAGE  view_EXCELLENT  view_FAIR  \\\n",
       "0             1180         4             0               0          0   \n",
       "1             2770         5             1               0          0   \n",
       "2             2880         6             1               0          0   \n",
       "3             2160         3             1               0          0   \n",
       "4             1120         2             0               0          0   \n",
       "...            ...       ...           ...             ...        ...   \n",
       "29163         1910         5             0               0          0   \n",
       "29164         2020         3             0               0          1   \n",
       "29165         1620         3             0               0          0   \n",
       "29166         2570         3             0               0          0   \n",
       "29167         1200         3             0               0          0   \n",
       "\n",
       "       view_GOOD  view_NONE  \n",
       "0              0          1  \n",
       "1              0          0  \n",
       "2              0          0  \n",
       "3              0          0  \n",
       "4              0          1  \n",
       "...          ...        ...  \n",
       "29163          0          1  \n",
       "29164          0          0  \n",
       "29165          0          1  \n",
       "29166          0          1  \n",
       "29167          0          1  \n",
       "\n",
       "[29152 rows x 7 columns]"
      ]
     },
     "execution_count": 87,
     "metadata": {},
     "output_type": "execute_result"
    }
   ],
   "source": [
    "X_iter = pd.get_dummies(X_iter, columns=[cat])\n",
    "X_iter"
   ]
  },
  {
   "cell_type": "code",
   "execution_count": 88,
   "metadata": {},
   "outputs": [
    {
     "data": {
      "text/html": [
       "<div>\n",
       "<style scoped>\n",
       "    .dataframe tbody tr th:only-of-type {\n",
       "        vertical-align: middle;\n",
       "    }\n",
       "\n",
       "    .dataframe tbody tr th {\n",
       "        vertical-align: top;\n",
       "    }\n",
       "\n",
       "    .dataframe thead th {\n",
       "        text-align: right;\n",
       "    }\n",
       "</style>\n",
       "<table border=\"1\" class=\"dataframe\">\n",
       "  <thead>\n",
       "    <tr style=\"text-align: right;\">\n",
       "      <th></th>\n",
       "      <th>sqft_living</th>\n",
       "      <th>bedrooms</th>\n",
       "      <th>view_AVERAGE</th>\n",
       "      <th>view_EXCELLENT</th>\n",
       "      <th>view_FAIR</th>\n",
       "      <th>view_GOOD</th>\n",
       "    </tr>\n",
       "  </thead>\n",
       "  <tbody>\n",
       "    <tr>\n",
       "      <th>0</th>\n",
       "      <td>1180</td>\n",
       "      <td>4</td>\n",
       "      <td>0</td>\n",
       "      <td>0</td>\n",
       "      <td>0</td>\n",
       "      <td>0</td>\n",
       "    </tr>\n",
       "    <tr>\n",
       "      <th>1</th>\n",
       "      <td>2770</td>\n",
       "      <td>5</td>\n",
       "      <td>1</td>\n",
       "      <td>0</td>\n",
       "      <td>0</td>\n",
       "      <td>0</td>\n",
       "    </tr>\n",
       "    <tr>\n",
       "      <th>2</th>\n",
       "      <td>2880</td>\n",
       "      <td>6</td>\n",
       "      <td>1</td>\n",
       "      <td>0</td>\n",
       "      <td>0</td>\n",
       "      <td>0</td>\n",
       "    </tr>\n",
       "    <tr>\n",
       "      <th>3</th>\n",
       "      <td>2160</td>\n",
       "      <td>3</td>\n",
       "      <td>1</td>\n",
       "      <td>0</td>\n",
       "      <td>0</td>\n",
       "      <td>0</td>\n",
       "    </tr>\n",
       "    <tr>\n",
       "      <th>4</th>\n",
       "      <td>1120</td>\n",
       "      <td>2</td>\n",
       "      <td>0</td>\n",
       "      <td>0</td>\n",
       "      <td>0</td>\n",
       "      <td>0</td>\n",
       "    </tr>\n",
       "    <tr>\n",
       "      <th>...</th>\n",
       "      <td>...</td>\n",
       "      <td>...</td>\n",
       "      <td>...</td>\n",
       "      <td>...</td>\n",
       "      <td>...</td>\n",
       "      <td>...</td>\n",
       "    </tr>\n",
       "    <tr>\n",
       "      <th>29163</th>\n",
       "      <td>1910</td>\n",
       "      <td>5</td>\n",
       "      <td>0</td>\n",
       "      <td>0</td>\n",
       "      <td>0</td>\n",
       "      <td>0</td>\n",
       "    </tr>\n",
       "    <tr>\n",
       "      <th>29164</th>\n",
       "      <td>2020</td>\n",
       "      <td>3</td>\n",
       "      <td>0</td>\n",
       "      <td>0</td>\n",
       "      <td>1</td>\n",
       "      <td>0</td>\n",
       "    </tr>\n",
       "    <tr>\n",
       "      <th>29165</th>\n",
       "      <td>1620</td>\n",
       "      <td>3</td>\n",
       "      <td>0</td>\n",
       "      <td>0</td>\n",
       "      <td>0</td>\n",
       "      <td>0</td>\n",
       "    </tr>\n",
       "    <tr>\n",
       "      <th>29166</th>\n",
       "      <td>2570</td>\n",
       "      <td>3</td>\n",
       "      <td>0</td>\n",
       "      <td>0</td>\n",
       "      <td>0</td>\n",
       "      <td>0</td>\n",
       "    </tr>\n",
       "    <tr>\n",
       "      <th>29167</th>\n",
       "      <td>1200</td>\n",
       "      <td>3</td>\n",
       "      <td>0</td>\n",
       "      <td>0</td>\n",
       "      <td>0</td>\n",
       "      <td>0</td>\n",
       "    </tr>\n",
       "  </tbody>\n",
       "</table>\n",
       "<p>29152 rows × 6 columns</p>\n",
       "</div>"
      ],
      "text/plain": [
       "       sqft_living  bedrooms  view_AVERAGE  view_EXCELLENT  view_FAIR  \\\n",
       "0             1180         4             0               0          0   \n",
       "1             2770         5             1               0          0   \n",
       "2             2880         6             1               0          0   \n",
       "3             2160         3             1               0          0   \n",
       "4             1120         2             0               0          0   \n",
       "...            ...       ...           ...             ...        ...   \n",
       "29163         1910         5             0               0          0   \n",
       "29164         2020         3             0               0          1   \n",
       "29165         1620         3             0               0          0   \n",
       "29166         2570         3             0               0          0   \n",
       "29167         1200         3             0               0          0   \n",
       "\n",
       "       view_GOOD  \n",
       "0              0  \n",
       "1              0  \n",
       "2              0  \n",
       "3              0  \n",
       "4              0  \n",
       "...          ...  \n",
       "29163          0  \n",
       "29164          0  \n",
       "29165          0  \n",
       "29166          0  \n",
       "29167          0  \n",
       "\n",
       "[29152 rows x 6 columns]"
      ]
     },
     "execution_count": 88,
     "metadata": {},
     "output_type": "execute_result"
    }
   ],
   "source": [
    "X_iter.drop('view_NONE', axis=1, inplace=True)\n",
    "X_iter"
   ]
  },
  {
   "cell_type": "code",
   "execution_count": 89,
   "metadata": {},
   "outputs": [
    {
     "name": "stdout",
     "output_type": "stream",
     "text": [
      "                            OLS Regression Results                            \n",
      "==============================================================================\n",
      "Dep. Variable:                  price   R-squared:                       0.438\n",
      "Model:                            OLS   Adj. R-squared:                  0.438\n",
      "Method:                 Least Squares   F-statistic:                     3781.\n",
      "Date:                Mon, 19 Sep 2022   Prob (F-statistic):               0.00\n",
      "Time:                        18:55:20   Log-Likelihood:            -4.3252e+05\n",
      "No. Observations:               29152   AIC:                         8.650e+05\n",
      "Df Residuals:                   29145   BIC:                         8.651e+05\n",
      "Df Model:                           6                                         \n",
      "Covariance Type:            nonrobust                                         \n",
      "==================================================================================\n",
      "                     coef    std err          t      P>|t|      [0.025      0.975]\n",
      "----------------------------------------------------------------------------------\n",
      "const           1.942e+05   1.44e+04     13.472      0.000    1.66e+05    2.23e+05\n",
      "sqft_living      600.8874      5.397    111.339      0.000     590.309     611.466\n",
      "bedrooms       -1.186e+05   5242.133    -22.616      0.000   -1.29e+05   -1.08e+05\n",
      "view_AVERAGE    1.673e+05   1.62e+04     10.351      0.000    1.36e+05    1.99e+05\n",
      "view_EXCELLENT  1.319e+06   2.96e+04     44.566      0.000    1.26e+06    1.38e+06\n",
      "view_FAIR       3.984e+05   4.61e+04      8.645      0.000    3.08e+05    4.89e+05\n",
      "view_GOOD       2.402e+05   2.35e+04     10.213      0.000    1.94e+05    2.86e+05\n",
      "==============================================================================\n",
      "Omnibus:                    40369.031   Durbin-Watson:                   1.929\n",
      "Prob(Omnibus):                  0.000   Jarque-Bera (JB):         44556958.897\n",
      "Skew:                           7.531   Prob(JB):                         0.00\n",
      "Kurtosis:                     193.933   Cond. No.                     2.75e+04\n",
      "==============================================================================\n",
      "\n",
      "Notes:\n",
      "[1] Standard Errors assume that the covariance matrix of the errors is correctly specified.\n",
      "[2] The condition number is large, 2.75e+04. This might indicate that there are\n",
      "strong multicollinearity or other numerical problems.\n"
     ]
    },
    {
     "name": "stderr",
     "output_type": "stream",
     "text": [
      "/opt/conda/lib/python3.9/site-packages/statsmodels/tsa/tsatools.py:142: FutureWarning: In a future version of pandas all arguments of concat except for the argument 'objs' will be keyword-only\n",
      "  x = pd.concat(x[::order], 1)\n"
     ]
    }
   ],
   "source": [
    "iter_model = sm.OLS(y, sm.add_constant(X_iter))\n",
    "iter_results = iter_model.fit()\n",
    "print(iter_results.summary())"
   ]
  },
  {
   "cell_type": "code",
   "execution_count": 90,
   "metadata": {},
   "outputs": [
    {
     "name": "stderr",
     "output_type": "stream",
     "text": [
      "/opt/conda/lib/python3.9/site-packages/statsmodels/tsa/tsatools.py:142: FutureWarning: In a future version of pandas all arguments of concat except for the argument 'objs' will be keyword-only\n",
      "  x = pd.concat(x[::order], 1)\n"
     ]
    },
    {
     "data": {
      "text/plain": [
       "385771.61647006357"
      ]
     },
     "execution_count": 90,
     "metadata": {},
     "output_type": "execute_result"
    }
   ],
   "source": [
    "iter_mae = mean_absolute_error(y, iter_results.predict(sm.add_constant(X_iter)))\n",
    "iter_mae"
   ]
  },
  {
   "cell_type": "code",
   "execution_count": 91,
   "metadata": {},
   "outputs": [
    {
     "data": {
      "image/png": "[encoded data removed]",
      "text/plain": [
       "<Figure size 1080x576 with 6 Axes>"
      ]
     },
     "metadata": {
      "needs_background": "light"
     },
     "output_type": "display_data"
    }
   ],
   "source": [
    "fig = plt.figure(figsize=(15,8))\n",
    "sm.graphics.plot_partregress_grid(\n",
    "    iter_results, \n",
    "    exog_idx=list(X_iter.columns),\n",
    "    grid=(2,3),\n",
    "    fig=fig)\n",
    "plt.tight_layout()\n",
    "plt.show()"
   ]
  },
  {
   "cell_type": "markdown",
   "metadata": {},
   "source": [
    "# Neighborhood"
   ]
  },
  {
   "cell_type": "code",
   "execution_count": 65,
   "metadata": {},
   "outputs": [
    {
     "data": {
      "image/png": "[encoded data removed]",
      "text/plain": [
       "<Figure size 864x360 with 1 Axes>"
      ]
     },
     "metadata": {
      "needs_background": "light"
     },
     "output_type": "display_data"
    }
   ],
   "source": [
    "Neigh = ['Neighborhood']\n",
    "fig, ax = plt.subplots(ncols=len(Neigh), figsize=(12,5))\n",
    "for index, feature in enumerate(Neigh):\n",
    "    df1.groupby(feature).mean().plot.bar(\n",
    "        y='price', ax=ax)\n"
   ]
  },
  {
   "cell_type": "code",
   "execution_count": 92,
   "metadata": {},
   "outputs": [
    {
     "data": {
      "text/html": [
       "<div>\n",
       "<style scoped>\n",
       "    .dataframe tbody tr th:only-of-type {\n",
       "        vertical-align: middle;\n",
       "    }\n",
       "\n",
       "    .dataframe tbody tr th {\n",
       "        vertical-align: top;\n",
       "    }\n",
       "\n",
       "    .dataframe thead th {\n",
       "        text-align: right;\n",
       "    }\n",
       "</style>\n",
       "<table border=\"1\" class=\"dataframe\">\n",
       "  <thead>\n",
       "    <tr style=\"text-align: right;\">\n",
       "      <th></th>\n",
       "      <th>sqft_living</th>\n",
       "      <th>bedrooms</th>\n",
       "      <th>Neighborhood</th>\n",
       "    </tr>\n",
       "  </thead>\n",
       "  <tbody>\n",
       "    <tr>\n",
       "      <th>0</th>\n",
       "      <td>1180</td>\n",
       "      <td>4</td>\n",
       "      <td>Renton</td>\n",
       "    </tr>\n",
       "    <tr>\n",
       "      <th>1</th>\n",
       "      <td>2770</td>\n",
       "      <td>5</td>\n",
       "      <td>Seattle</td>\n",
       "    </tr>\n",
       "    <tr>\n",
       "      <th>2</th>\n",
       "      <td>2880</td>\n",
       "      <td>6</td>\n",
       "      <td>Seattle</td>\n",
       "    </tr>\n",
       "    <tr>\n",
       "      <th>3</th>\n",
       "      <td>2160</td>\n",
       "      <td>3</td>\n",
       "      <td>Seattle</td>\n",
       "    </tr>\n",
       "    <tr>\n",
       "      <th>4</th>\n",
       "      <td>1120</td>\n",
       "      <td>2</td>\n",
       "      <td>Issaquah</td>\n",
       "    </tr>\n",
       "    <tr>\n",
       "      <th>...</th>\n",
       "      <td>...</td>\n",
       "      <td>...</td>\n",
       "      <td>...</td>\n",
       "    </tr>\n",
       "    <tr>\n",
       "      <th>29163</th>\n",
       "      <td>1910</td>\n",
       "      <td>5</td>\n",
       "      <td>Seattle</td>\n",
       "    </tr>\n",
       "    <tr>\n",
       "      <th>29164</th>\n",
       "      <td>2020</td>\n",
       "      <td>3</td>\n",
       "      <td>Seattle</td>\n",
       "    </tr>\n",
       "    <tr>\n",
       "      <th>29165</th>\n",
       "      <td>1620</td>\n",
       "      <td>3</td>\n",
       "      <td>Seattle</td>\n",
       "    </tr>\n",
       "    <tr>\n",
       "      <th>29166</th>\n",
       "      <td>2570</td>\n",
       "      <td>3</td>\n",
       "      <td>Renton</td>\n",
       "    </tr>\n",
       "    <tr>\n",
       "      <th>29167</th>\n",
       "      <td>1200</td>\n",
       "      <td>3</td>\n",
       "      <td>Seattle</td>\n",
       "    </tr>\n",
       "  </tbody>\n",
       "</table>\n",
       "<p>29152 rows × 3 columns</p>\n",
       "</div>"
      ],
      "text/plain": [
       "       sqft_living  bedrooms Neighborhood\n",
       "0             1180         4       Renton\n",
       "1             2770         5      Seattle\n",
       "2             2880         6      Seattle\n",
       "3             2160         3      Seattle\n",
       "4             1120         2     Issaquah\n",
       "...            ...       ...          ...\n",
       "29163         1910         5      Seattle\n",
       "29164         2020         3      Seattle\n",
       "29165         1620         3      Seattle\n",
       "29166         2570         3       Renton\n",
       "29167         1200         3      Seattle\n",
       "\n",
       "[29152 rows x 3 columns]"
      ]
     },
     "execution_count": 92,
     "metadata": {},
     "output_type": "execute_result"
    }
   ],
   "source": [
    "cat1 = \"Neighborhood\"\n",
    "X_iter = df1[['sqft_living', 'bedrooms', cat1]]\n",
    "X_iter"
   ]
  },
  {
   "cell_type": "code",
   "execution_count": 93,
   "metadata": {},
   "outputs": [
    {
     "data": {
      "text/html": [
       "<div>\n",
       "<style scoped>\n",
       "    .dataframe tbody tr th:only-of-type {\n",
       "        vertical-align: middle;\n",
       "    }\n",
       "\n",
       "    .dataframe tbody tr th {\n",
       "        vertical-align: top;\n",
       "    }\n",
       "\n",
       "    .dataframe thead th {\n",
       "        text-align: right;\n",
       "    }\n",
       "</style>\n",
       "<table border=\"1\" class=\"dataframe\">\n",
       "  <thead>\n",
       "    <tr style=\"text-align: right;\">\n",
       "      <th></th>\n",
       "      <th>sqft_living</th>\n",
       "      <th>bedrooms</th>\n",
       "      <th>Neighborhood_Auburn</th>\n",
       "      <th>Neighborhood_Baring</th>\n",
       "      <th>Neighborhood_Bellevue</th>\n",
       "      <th>Neighborhood_Black Diamond</th>\n",
       "      <th>Neighborhood_Bothell</th>\n",
       "      <th>Neighborhood_Carnation</th>\n",
       "      <th>Neighborhood_Duvall</th>\n",
       "      <th>Neighborhood_Enumclaw</th>\n",
       "      <th>...</th>\n",
       "      <th>Neighborhood_Preston</th>\n",
       "      <th>Neighborhood_Ravensdale</th>\n",
       "      <th>Neighborhood_Redmond</th>\n",
       "      <th>Neighborhood_Renton</th>\n",
       "      <th>Neighborhood_Sammamish</th>\n",
       "      <th>Neighborhood_Seattle</th>\n",
       "      <th>Neighborhood_Skykomish</th>\n",
       "      <th>Neighborhood_Snoqualmie</th>\n",
       "      <th>Neighborhood_Vashon</th>\n",
       "      <th>Neighborhood_Woodinville</th>\n",
       "    </tr>\n",
       "  </thead>\n",
       "  <tbody>\n",
       "    <tr>\n",
       "      <th>0</th>\n",
       "      <td>1180</td>\n",
       "      <td>4</td>\n",
       "      <td>0</td>\n",
       "      <td>0</td>\n",
       "      <td>0</td>\n",
       "      <td>0</td>\n",
       "      <td>0</td>\n",
       "      <td>0</td>\n",
       "      <td>0</td>\n",
       "      <td>0</td>\n",
       "      <td>...</td>\n",
       "      <td>0</td>\n",
       "      <td>0</td>\n",
       "      <td>0</td>\n",
       "      <td>1</td>\n",
       "      <td>0</td>\n",
       "      <td>0</td>\n",
       "      <td>0</td>\n",
       "      <td>0</td>\n",
       "      <td>0</td>\n",
       "      <td>0</td>\n",
       "    </tr>\n",
       "    <tr>\n",
       "      <th>1</th>\n",
       "      <td>2770</td>\n",
       "      <td>5</td>\n",
       "      <td>0</td>\n",
       "      <td>0</td>\n",
       "      <td>0</td>\n",
       "      <td>0</td>\n",
       "      <td>0</td>\n",
       "      <td>0</td>\n",
       "      <td>0</td>\n",
       "      <td>0</td>\n",
       "      <td>...</td>\n",
       "      <td>0</td>\n",
       "      <td>0</td>\n",
       "      <td>0</td>\n",
       "      <td>0</td>\n",
       "      <td>0</td>\n",
       "      <td>1</td>\n",
       "      <td>0</td>\n",
       "      <td>0</td>\n",
       "      <td>0</td>\n",
       "      <td>0</td>\n",
       "    </tr>\n",
       "    <tr>\n",
       "      <th>2</th>\n",
       "      <td>2880</td>\n",
       "      <td>6</td>\n",
       "      <td>0</td>\n",
       "      <td>0</td>\n",
       "      <td>0</td>\n",
       "      <td>0</td>\n",
       "      <td>0</td>\n",
       "      <td>0</td>\n",
       "      <td>0</td>\n",
       "      <td>0</td>\n",
       "      <td>...</td>\n",
       "      <td>0</td>\n",
       "      <td>0</td>\n",
       "      <td>0</td>\n",
       "      <td>0</td>\n",
       "      <td>0</td>\n",
       "      <td>1</td>\n",
       "      <td>0</td>\n",
       "      <td>0</td>\n",
       "      <td>0</td>\n",
       "      <td>0</td>\n",
       "    </tr>\n",
       "    <tr>\n",
       "      <th>3</th>\n",
       "      <td>2160</td>\n",
       "      <td>3</td>\n",
       "      <td>0</td>\n",
       "      <td>0</td>\n",
       "      <td>0</td>\n",
       "      <td>0</td>\n",
       "      <td>0</td>\n",
       "      <td>0</td>\n",
       "      <td>0</td>\n",
       "      <td>0</td>\n",
       "      <td>...</td>\n",
       "      <td>0</td>\n",
       "      <td>0</td>\n",
       "      <td>0</td>\n",
       "      <td>0</td>\n",
       "      <td>0</td>\n",
       "      <td>1</td>\n",
       "      <td>0</td>\n",
       "      <td>0</td>\n",
       "      <td>0</td>\n",
       "      <td>0</td>\n",
       "    </tr>\n",
       "    <tr>\n",
       "      <th>4</th>\n",
       "      <td>1120</td>\n",
       "      <td>2</td>\n",
       "      <td>0</td>\n",
       "      <td>0</td>\n",
       "      <td>0</td>\n",
       "      <td>0</td>\n",
       "      <td>0</td>\n",
       "      <td>0</td>\n",
       "      <td>0</td>\n",
       "      <td>0</td>\n",
       "      <td>...</td>\n",
       "      <td>0</td>\n",
       "      <td>0</td>\n",
       "      <td>0</td>\n",
       "      <td>0</td>\n",
       "      <td>0</td>\n",
       "      <td>0</td>\n",
       "      <td>0</td>\n",
       "      <td>0</td>\n",
       "      <td>0</td>\n",
       "      <td>0</td>\n",
       "    </tr>\n",
       "    <tr>\n",
       "      <th>...</th>\n",
       "      <td>...</td>\n",
       "      <td>...</td>\n",
       "      <td>...</td>\n",
       "      <td>...</td>\n",
       "      <td>...</td>\n",
       "      <td>...</td>\n",
       "      <td>...</td>\n",
       "      <td>...</td>\n",
       "      <td>...</td>\n",
       "      <td>...</td>\n",
       "      <td>...</td>\n",
       "      <td>...</td>\n",
       "      <td>...</td>\n",
       "      <td>...</td>\n",
       "      <td>...</td>\n",
       "      <td>...</td>\n",
       "      <td>...</td>\n",
       "      <td>...</td>\n",
       "      <td>...</td>\n",
       "      <td>...</td>\n",
       "      <td>...</td>\n",
       "    </tr>\n",
       "    <tr>\n",
       "      <th>29163</th>\n",
       "      <td>1910</td>\n",
       "      <td>5</td>\n",
       "      <td>0</td>\n",
       "      <td>0</td>\n",
       "      <td>0</td>\n",
       "      <td>0</td>\n",
       "      <td>0</td>\n",
       "      <td>0</td>\n",
       "      <td>0</td>\n",
       "      <td>0</td>\n",
       "      <td>...</td>\n",
       "      <td>0</td>\n",
       "      <td>0</td>\n",
       "      <td>0</td>\n",
       "      <td>0</td>\n",
       "      <td>0</td>\n",
       "      <td>1</td>\n",
       "      <td>0</td>\n",
       "      <td>0</td>\n",
       "      <td>0</td>\n",
       "      <td>0</td>\n",
       "    </tr>\n",
       "    <tr>\n",
       "      <th>29164</th>\n",
       "      <td>2020</td>\n",
       "      <td>3</td>\n",
       "      <td>0</td>\n",
       "      <td>0</td>\n",
       "      <td>0</td>\n",
       "      <td>0</td>\n",
       "      <td>0</td>\n",
       "      <td>0</td>\n",
       "      <td>0</td>\n",
       "      <td>0</td>\n",
       "      <td>...</td>\n",
       "      <td>0</td>\n",
       "      <td>0</td>\n",
       "      <td>0</td>\n",
       "      <td>0</td>\n",
       "      <td>0</td>\n",
       "      <td>1</td>\n",
       "      <td>0</td>\n",
       "      <td>0</td>\n",
       "      <td>0</td>\n",
       "      <td>0</td>\n",
       "    </tr>\n",
       "    <tr>\n",
       "      <th>29165</th>\n",
       "      <td>1620</td>\n",
       "      <td>3</td>\n",
       "      <td>0</td>\n",
       "      <td>0</td>\n",
       "      <td>0</td>\n",
       "      <td>0</td>\n",
       "      <td>0</td>\n",
       "      <td>0</td>\n",
       "      <td>0</td>\n",
       "      <td>0</td>\n",
       "      <td>...</td>\n",
       "      <td>0</td>\n",
       "      <td>0</td>\n",
       "      <td>0</td>\n",
       "      <td>0</td>\n",
       "      <td>0</td>\n",
       "      <td>1</td>\n",
       "      <td>0</td>\n",
       "      <td>0</td>\n",
       "      <td>0</td>\n",
       "      <td>0</td>\n",
       "    </tr>\n",
       "    <tr>\n",
       "      <th>29166</th>\n",
       "      <td>2570</td>\n",
       "      <td>3</td>\n",
       "      <td>0</td>\n",
       "      <td>0</td>\n",
       "      <td>0</td>\n",
       "      <td>0</td>\n",
       "      <td>0</td>\n",
       "      <td>0</td>\n",
       "      <td>0</td>\n",
       "      <td>0</td>\n",
       "      <td>...</td>\n",
       "      <td>0</td>\n",
       "      <td>0</td>\n",
       "      <td>0</td>\n",
       "      <td>1</td>\n",
       "      <td>0</td>\n",
       "      <td>0</td>\n",
       "      <td>0</td>\n",
       "      <td>0</td>\n",
       "      <td>0</td>\n",
       "      <td>0</td>\n",
       "    </tr>\n",
       "    <tr>\n",
       "      <th>29167</th>\n",
       "      <td>1200</td>\n",
       "      <td>3</td>\n",
       "      <td>0</td>\n",
       "      <td>0</td>\n",
       "      <td>0</td>\n",
       "      <td>0</td>\n",
       "      <td>0</td>\n",
       "      <td>0</td>\n",
       "      <td>0</td>\n",
       "      <td>0</td>\n",
       "      <td>...</td>\n",
       "      <td>0</td>\n",
       "      <td>0</td>\n",
       "      <td>0</td>\n",
       "      <td>0</td>\n",
       "      <td>0</td>\n",
       "      <td>1</td>\n",
       "      <td>0</td>\n",
       "      <td>0</td>\n",
       "      <td>0</td>\n",
       "      <td>0</td>\n",
       "    </tr>\n",
       "  </tbody>\n",
       "</table>\n",
       "<p>29152 rows × 32 columns</p>\n",
       "</div>"
      ],
      "text/plain": [
       "       sqft_living  bedrooms  Neighborhood_Auburn  Neighborhood_Baring  \\\n",
       "0             1180         4                    0                    0   \n",
       "1             2770         5                    0                    0   \n",
       "2             2880         6                    0                    0   \n",
       "3             2160         3                    0                    0   \n",
       "4             1120         2                    0                    0   \n",
       "...            ...       ...                  ...                  ...   \n",
       "29163         1910         5                    0                    0   \n",
       "29164         2020         3                    0                    0   \n",
       "29165         1620         3                    0                    0   \n",
       "29166         2570         3                    0                    0   \n",
       "29167         1200         3                    0                    0   \n",
       "\n",
       "       Neighborhood_Bellevue  Neighborhood_Black Diamond  \\\n",
       "0                          0                           0   \n",
       "1                          0                           0   \n",
       "2                          0                           0   \n",
       "3                          0                           0   \n",
       "4                          0                           0   \n",
       "...                      ...                         ...   \n",
       "29163                      0                           0   \n",
       "29164                      0                           0   \n",
       "29165                      0                           0   \n",
       "29166                      0                           0   \n",
       "29167                      0                           0   \n",
       "\n",
       "       Neighborhood_Bothell  Neighborhood_Carnation  Neighborhood_Duvall  \\\n",
       "0                         0                       0                    0   \n",
       "1                         0                       0                    0   \n",
       "2                         0                       0                    0   \n",
       "3                         0                       0                    0   \n",
       "4                         0                       0                    0   \n",
       "...                     ...                     ...                  ...   \n",
       "29163                     0                       0                    0   \n",
       "29164                     0                       0                    0   \n",
       "29165                     0                       0                    0   \n",
       "29166                     0                       0                    0   \n",
       "29167                     0                       0                    0   \n",
       "\n",
       "       Neighborhood_Enumclaw  ...  Neighborhood_Preston  \\\n",
       "0                          0  ...                     0   \n",
       "1                          0  ...                     0   \n",
       "2                          0  ...                     0   \n",
       "3                          0  ...                     0   \n",
       "4                          0  ...                     0   \n",
       "...                      ...  ...                   ...   \n",
       "29163                      0  ...                     0   \n",
       "29164                      0  ...                     0   \n",
       "29165                      0  ...                     0   \n",
       "29166                      0  ...                     0   \n",
       "29167                      0  ...                     0   \n",
       "\n",
       "       Neighborhood_Ravensdale  Neighborhood_Redmond  Neighborhood_Renton  \\\n",
       "0                            0                     0                    1   \n",
       "1                            0                     0                    0   \n",
       "2                            0                     0                    0   \n",
       "3                            0                     0                    0   \n",
       "4                            0                     0                    0   \n",
       "...                        ...                   ...                  ...   \n",
       "29163                        0                     0                    0   \n",
       "29164                        0                     0                    0   \n",
       "29165                        0                     0                    0   \n",
       "29166                        0                     0                    1   \n",
       "29167                        0                     0                    0   \n",
       "\n",
       "       Neighborhood_Sammamish  Neighborhood_Seattle  Neighborhood_Skykomish  \\\n",
       "0                           0                     0                       0   \n",
       "1                           0                     1                       0   \n",
       "2                           0                     1                       0   \n",
       "3                           0                     1                       0   \n",
       "4                           0                     0                       0   \n",
       "...                       ...                   ...                     ...   \n",
       "29163                       0                     1                       0   \n",
       "29164                       0                     1                       0   \n",
       "29165                       0                     1                       0   \n",
       "29166                       0                     0                       0   \n",
       "29167                       0                     1                       0   \n",
       "\n",
       "       Neighborhood_Snoqualmie  Neighborhood_Vashon  Neighborhood_Woodinville  \n",
       "0                            0                    0                         0  \n",
       "1                            0                    0                         0  \n",
       "2                            0                    0                         0  \n",
       "3                            0                    0                         0  \n",
       "4                            0                    0                         0  \n",
       "...                        ...                  ...                       ...  \n",
       "29163                        0                    0                         0  \n",
       "29164                        0                    0                         0  \n",
       "29165                        0                    0                         0  \n",
       "29166                        0                    0                         0  \n",
       "29167                        0                    0                         0  \n",
       "\n",
       "[29152 rows x 32 columns]"
      ]
     },
     "execution_count": 93,
     "metadata": {},
     "output_type": "execute_result"
    }
   ],
   "source": [
    "X_iter = pd.get_dummies(X_iter, columns=[cat1])\n",
    "X_iter"
   ]
  },
  {
   "cell_type": "code",
   "execution_count": 94,
   "metadata": {},
   "outputs": [],
   "source": [
    "X_iter.drop('Neighborhood_Seattle', axis=1, inplace=True)"
   ]
  },
  {
   "cell_type": "code",
   "execution_count": 95,
   "metadata": {},
   "outputs": [
    {
     "data": {
      "text/html": [
       "<div>\n",
       "<style scoped>\n",
       "    .dataframe tbody tr th:only-of-type {\n",
       "        vertical-align: middle;\n",
       "    }\n",
       "\n",
       "    .dataframe tbody tr th {\n",
       "        vertical-align: top;\n",
       "    }\n",
       "\n",
       "    .dataframe thead th {\n",
       "        text-align: right;\n",
       "    }\n",
       "</style>\n",
       "<table border=\"1\" class=\"dataframe\">\n",
       "  <thead>\n",
       "    <tr style=\"text-align: right;\">\n",
       "      <th></th>\n",
       "      <th>sqft_living</th>\n",
       "      <th>bedrooms</th>\n",
       "      <th>Neighborhood_Auburn</th>\n",
       "      <th>Neighborhood_Baring</th>\n",
       "      <th>Neighborhood_Bellevue</th>\n",
       "      <th>Neighborhood_Black Diamond</th>\n",
       "      <th>Neighborhood_Bothell</th>\n",
       "      <th>Neighborhood_Carnation</th>\n",
       "      <th>Neighborhood_Duvall</th>\n",
       "      <th>Neighborhood_Enumclaw</th>\n",
       "      <th>...</th>\n",
       "      <th>Neighborhood_Pacific</th>\n",
       "      <th>Neighborhood_Preston</th>\n",
       "      <th>Neighborhood_Ravensdale</th>\n",
       "      <th>Neighborhood_Redmond</th>\n",
       "      <th>Neighborhood_Renton</th>\n",
       "      <th>Neighborhood_Sammamish</th>\n",
       "      <th>Neighborhood_Skykomish</th>\n",
       "      <th>Neighborhood_Snoqualmie</th>\n",
       "      <th>Neighborhood_Vashon</th>\n",
       "      <th>Neighborhood_Woodinville</th>\n",
       "    </tr>\n",
       "  </thead>\n",
       "  <tbody>\n",
       "    <tr>\n",
       "      <th>0</th>\n",
       "      <td>1180</td>\n",
       "      <td>4</td>\n",
       "      <td>0</td>\n",
       "      <td>0</td>\n",
       "      <td>0</td>\n",
       "      <td>0</td>\n",
       "      <td>0</td>\n",
       "      <td>0</td>\n",
       "      <td>0</td>\n",
       "      <td>0</td>\n",
       "      <td>...</td>\n",
       "      <td>0</td>\n",
       "      <td>0</td>\n",
       "      <td>0</td>\n",
       "      <td>0</td>\n",
       "      <td>1</td>\n",
       "      <td>0</td>\n",
       "      <td>0</td>\n",
       "      <td>0</td>\n",
       "      <td>0</td>\n",
       "      <td>0</td>\n",
       "    </tr>\n",
       "    <tr>\n",
       "      <th>1</th>\n",
       "      <td>2770</td>\n",
       "      <td>5</td>\n",
       "      <td>0</td>\n",
       "      <td>0</td>\n",
       "      <td>0</td>\n",
       "      <td>0</td>\n",
       "      <td>0</td>\n",
       "      <td>0</td>\n",
       "      <td>0</td>\n",
       "      <td>0</td>\n",
       "      <td>...</td>\n",
       "      <td>0</td>\n",
       "      <td>0</td>\n",
       "      <td>0</td>\n",
       "      <td>0</td>\n",
       "      <td>0</td>\n",
       "      <td>0</td>\n",
       "      <td>0</td>\n",
       "      <td>0</td>\n",
       "      <td>0</td>\n",
       "      <td>0</td>\n",
       "    </tr>\n",
       "    <tr>\n",
       "      <th>2</th>\n",
       "      <td>2880</td>\n",
       "      <td>6</td>\n",
       "      <td>0</td>\n",
       "      <td>0</td>\n",
       "      <td>0</td>\n",
       "      <td>0</td>\n",
       "      <td>0</td>\n",
       "      <td>0</td>\n",
       "      <td>0</td>\n",
       "      <td>0</td>\n",
       "      <td>...</td>\n",
       "      <td>0</td>\n",
       "      <td>0</td>\n",
       "      <td>0</td>\n",
       "      <td>0</td>\n",
       "      <td>0</td>\n",
       "      <td>0</td>\n",
       "      <td>0</td>\n",
       "      <td>0</td>\n",
       "      <td>0</td>\n",
       "      <td>0</td>\n",
       "    </tr>\n",
       "    <tr>\n",
       "      <th>3</th>\n",
       "      <td>2160</td>\n",
       "      <td>3</td>\n",
       "      <td>0</td>\n",
       "      <td>0</td>\n",
       "      <td>0</td>\n",
       "      <td>0</td>\n",
       "      <td>0</td>\n",
       "      <td>0</td>\n",
       "      <td>0</td>\n",
       "      <td>0</td>\n",
       "      <td>...</td>\n",
       "      <td>0</td>\n",
       "      <td>0</td>\n",
       "      <td>0</td>\n",
       "      <td>0</td>\n",
       "      <td>0</td>\n",
       "      <td>0</td>\n",
       "      <td>0</td>\n",
       "      <td>0</td>\n",
       "      <td>0</td>\n",
       "      <td>0</td>\n",
       "    </tr>\n",
       "    <tr>\n",
       "      <th>4</th>\n",
       "      <td>1120</td>\n",
       "      <td>2</td>\n",
       "      <td>0</td>\n",
       "      <td>0</td>\n",
       "      <td>0</td>\n",
       "      <td>0</td>\n",
       "      <td>0</td>\n",
       "      <td>0</td>\n",
       "      <td>0</td>\n",
       "      <td>0</td>\n",
       "      <td>...</td>\n",
       "      <td>0</td>\n",
       "      <td>0</td>\n",
       "      <td>0</td>\n",
       "      <td>0</td>\n",
       "      <td>0</td>\n",
       "      <td>0</td>\n",
       "      <td>0</td>\n",
       "      <td>0</td>\n",
       "      <td>0</td>\n",
       "      <td>0</td>\n",
       "    </tr>\n",
       "    <tr>\n",
       "      <th>...</th>\n",
       "      <td>...</td>\n",
       "      <td>...</td>\n",
       "      <td>...</td>\n",
       "      <td>...</td>\n",
       "      <td>...</td>\n",
       "      <td>...</td>\n",
       "      <td>...</td>\n",
       "      <td>...</td>\n",
       "      <td>...</td>\n",
       "      <td>...</td>\n",
       "      <td>...</td>\n",
       "      <td>...</td>\n",
       "      <td>...</td>\n",
       "      <td>...</td>\n",
       "      <td>...</td>\n",
       "      <td>...</td>\n",
       "      <td>...</td>\n",
       "      <td>...</td>\n",
       "      <td>...</td>\n",
       "      <td>...</td>\n",
       "      <td>...</td>\n",
       "    </tr>\n",
       "    <tr>\n",
       "      <th>29163</th>\n",
       "      <td>1910</td>\n",
       "      <td>5</td>\n",
       "      <td>0</td>\n",
       "      <td>0</td>\n",
       "      <td>0</td>\n",
       "      <td>0</td>\n",
       "      <td>0</td>\n",
       "      <td>0</td>\n",
       "      <td>0</td>\n",
       "      <td>0</td>\n",
       "      <td>...</td>\n",
       "      <td>0</td>\n",
       "      <td>0</td>\n",
       "      <td>0</td>\n",
       "      <td>0</td>\n",
       "      <td>0</td>\n",
       "      <td>0</td>\n",
       "      <td>0</td>\n",
       "      <td>0</td>\n",
       "      <td>0</td>\n",
       "      <td>0</td>\n",
       "    </tr>\n",
       "    <tr>\n",
       "      <th>29164</th>\n",
       "      <td>2020</td>\n",
       "      <td>3</td>\n",
       "      <td>0</td>\n",
       "      <td>0</td>\n",
       "      <td>0</td>\n",
       "      <td>0</td>\n",
       "      <td>0</td>\n",
       "      <td>0</td>\n",
       "      <td>0</td>\n",
       "      <td>0</td>\n",
       "      <td>...</td>\n",
       "      <td>0</td>\n",
       "      <td>0</td>\n",
       "      <td>0</td>\n",
       "      <td>0</td>\n",
       "      <td>0</td>\n",
       "      <td>0</td>\n",
       "      <td>0</td>\n",
       "      <td>0</td>\n",
       "      <td>0</td>\n",
       "      <td>0</td>\n",
       "    </tr>\n",
       "    <tr>\n",
       "      <th>29165</th>\n",
       "      <td>1620</td>\n",
       "      <td>3</td>\n",
       "      <td>0</td>\n",
       "      <td>0</td>\n",
       "      <td>0</td>\n",
       "      <td>0</td>\n",
       "      <td>0</td>\n",
       "      <td>0</td>\n",
       "      <td>0</td>\n",
       "      <td>0</td>\n",
       "      <td>...</td>\n",
       "      <td>0</td>\n",
       "      <td>0</td>\n",
       "      <td>0</td>\n",
       "      <td>0</td>\n",
       "      <td>0</td>\n",
       "      <td>0</td>\n",
       "      <td>0</td>\n",
       "      <td>0</td>\n",
       "      <td>0</td>\n",
       "      <td>0</td>\n",
       "    </tr>\n",
       "    <tr>\n",
       "      <th>29166</th>\n",
       "      <td>2570</td>\n",
       "      <td>3</td>\n",
       "      <td>0</td>\n",
       "      <td>0</td>\n",
       "      <td>0</td>\n",
       "      <td>0</td>\n",
       "      <td>0</td>\n",
       "      <td>0</td>\n",
       "      <td>0</td>\n",
       "      <td>0</td>\n",
       "      <td>...</td>\n",
       "      <td>0</td>\n",
       "      <td>0</td>\n",
       "      <td>0</td>\n",
       "      <td>0</td>\n",
       "      <td>1</td>\n",
       "      <td>0</td>\n",
       "      <td>0</td>\n",
       "      <td>0</td>\n",
       "      <td>0</td>\n",
       "      <td>0</td>\n",
       "    </tr>\n",
       "    <tr>\n",
       "      <th>29167</th>\n",
       "      <td>1200</td>\n",
       "      <td>3</td>\n",
       "      <td>0</td>\n",
       "      <td>0</td>\n",
       "      <td>0</td>\n",
       "      <td>0</td>\n",
       "      <td>0</td>\n",
       "      <td>0</td>\n",
       "      <td>0</td>\n",
       "      <td>0</td>\n",
       "      <td>...</td>\n",
       "      <td>0</td>\n",
       "      <td>0</td>\n",
       "      <td>0</td>\n",
       "      <td>0</td>\n",
       "      <td>0</td>\n",
       "      <td>0</td>\n",
       "      <td>0</td>\n",
       "      <td>0</td>\n",
       "      <td>0</td>\n",
       "      <td>0</td>\n",
       "    </tr>\n",
       "  </tbody>\n",
       "</table>\n",
       "<p>29152 rows × 31 columns</p>\n",
       "</div>"
      ],
      "text/plain": [
       "       sqft_living  bedrooms  Neighborhood_Auburn  Neighborhood_Baring  \\\n",
       "0             1180         4                    0                    0   \n",
       "1             2770         5                    0                    0   \n",
       "2             2880         6                    0                    0   \n",
       "3             2160         3                    0                    0   \n",
       "4             1120         2                    0                    0   \n",
       "...            ...       ...                  ...                  ...   \n",
       "29163         1910         5                    0                    0   \n",
       "29164         2020         3                    0                    0   \n",
       "29165         1620         3                    0                    0   \n",
       "29166         2570         3                    0                    0   \n",
       "29167         1200         3                    0                    0   \n",
       "\n",
       "       Neighborhood_Bellevue  Neighborhood_Black Diamond  \\\n",
       "0                          0                           0   \n",
       "1                          0                           0   \n",
       "2                          0                           0   \n",
       "3                          0                           0   \n",
       "4                          0                           0   \n",
       "...                      ...                         ...   \n",
       "29163                      0                           0   \n",
       "29164                      0                           0   \n",
       "29165                      0                           0   \n",
       "29166                      0                           0   \n",
       "29167                      0                           0   \n",
       "\n",
       "       Neighborhood_Bothell  Neighborhood_Carnation  Neighborhood_Duvall  \\\n",
       "0                         0                       0                    0   \n",
       "1                         0                       0                    0   \n",
       "2                         0                       0                    0   \n",
       "3                         0                       0                    0   \n",
       "4                         0                       0                    0   \n",
       "...                     ...                     ...                  ...   \n",
       "29163                     0                       0                    0   \n",
       "29164                     0                       0                    0   \n",
       "29165                     0                       0                    0   \n",
       "29166                     0                       0                    0   \n",
       "29167                     0                       0                    0   \n",
       "\n",
       "       Neighborhood_Enumclaw  ...  Neighborhood_Pacific  Neighborhood_Preston  \\\n",
       "0                          0  ...                     0                     0   \n",
       "1                          0  ...                     0                     0   \n",
       "2                          0  ...                     0                     0   \n",
       "3                          0  ...                     0                     0   \n",
       "4                          0  ...                     0                     0   \n",
       "...                      ...  ...                   ...                   ...   \n",
       "29163                      0  ...                     0                     0   \n",
       "29164                      0  ...                     0                     0   \n",
       "29165                      0  ...                     0                     0   \n",
       "29166                      0  ...                     0                     0   \n",
       "29167                      0  ...                     0                     0   \n",
       "\n",
       "       Neighborhood_Ravensdale  Neighborhood_Redmond  Neighborhood_Renton  \\\n",
       "0                            0                     0                    1   \n",
       "1                            0                     0                    0   \n",
       "2                            0                     0                    0   \n",
       "3                            0                     0                    0   \n",
       "4                            0                     0                    0   \n",
       "...                        ...                   ...                  ...   \n",
       "29163                        0                     0                    0   \n",
       "29164                        0                     0                    0   \n",
       "29165                        0                     0                    0   \n",
       "29166                        0                     0                    1   \n",
       "29167                        0                     0                    0   \n",
       "\n",
       "       Neighborhood_Sammamish  Neighborhood_Skykomish  \\\n",
       "0                           0                       0   \n",
       "1                           0                       0   \n",
       "2                           0                       0   \n",
       "3                           0                       0   \n",
       "4                           0                       0   \n",
       "...                       ...                     ...   \n",
       "29163                       0                       0   \n",
       "29164                       0                       0   \n",
       "29165                       0                       0   \n",
       "29166                       0                       0   \n",
       "29167                       0                       0   \n",
       "\n",
       "       Neighborhood_Snoqualmie  Neighborhood_Vashon  Neighborhood_Woodinville  \n",
       "0                            0                    0                         0  \n",
       "1                            0                    0                         0  \n",
       "2                            0                    0                         0  \n",
       "3                            0                    0                         0  \n",
       "4                            0                    0                         0  \n",
       "...                        ...                  ...                       ...  \n",
       "29163                        0                    0                         0  \n",
       "29164                        0                    0                         0  \n",
       "29165                        0                    0                         0  \n",
       "29166                        0                    0                         0  \n",
       "29167                        0                    0                         0  \n",
       "\n",
       "[29152 rows x 31 columns]"
      ]
     },
     "execution_count": 95,
     "metadata": {},
     "output_type": "execute_result"
    }
   ],
   "source": [
    "X_iter"
   ]
  },
  {
   "cell_type": "code",
   "execution_count": 96,
   "metadata": {},
   "outputs": [
    {
     "name": "stdout",
     "output_type": "stream",
     "text": [
      "                            OLS Regression Results                            \n",
      "==============================================================================\n",
      "Dep. Variable:                  price   R-squared:                       0.544\n",
      "Model:                            OLS   Adj. R-squared:                  0.543\n",
      "Method:                 Least Squares   F-statistic:                     1119.\n",
      "Date:                Mon, 19 Sep 2022   Prob (F-statistic):               0.00\n",
      "Time:                        18:56:16   Log-Likelihood:            -4.2947e+05\n",
      "No. Observations:               29152   AIC:                         8.590e+05\n",
      "Df Residuals:                   29120   BIC:                         8.593e+05\n",
      "Df Model:                          31                                         \n",
      "Covariance Type:            nonrobust                                         \n",
      "==============================================================================================\n",
      "                                 coef    std err          t      P>|t|      [0.025      0.975]\n",
      "----------------------------------------------------------------------------------------------\n",
      "const                       3.573e+05   1.32e+04     26.969      0.000    3.31e+05    3.83e+05\n",
      "sqft_living                  579.3702      4.930    117.529      0.000     569.708     589.032\n",
      "bedrooms                   -1.266e+05   4730.732    -26.757      0.000   -1.36e+05   -1.17e+05\n",
      "Neighborhood_Auburn        -4.736e+05   1.62e+04    -29.280      0.000   -5.05e+05   -4.42e+05\n",
      "Neighborhood_Baring        -4.073e+05    3.5e+05     -1.165      0.244   -1.09e+06    2.78e+05\n",
      "Neighborhood_Bellevue       6.936e+05   1.66e+04     41.730      0.000    6.61e+05    7.26e+05\n",
      "Neighborhood_Black Diamond -5.351e+05   3.47e+04    -15.402      0.000   -6.03e+05   -4.67e+05\n",
      "Neighborhood_Bothell       -5.782e+04   3.79e+04     -1.524      0.128   -1.32e+05    1.66e+04\n",
      "Neighborhood_Carnation      -2.67e+05   4.88e+04     -5.468      0.000   -3.63e+05   -1.71e+05\n",
      "Neighborhood_Duvall        -2.846e+05   3.91e+04     -7.276      0.000   -3.61e+05   -2.08e+05\n",
      "Neighborhood_Enumclaw      -4.309e+05   2.89e+04    -14.927      0.000   -4.87e+05   -3.74e+05\n",
      "Neighborhood_Fall City        1.5e+05   5.71e+04      2.629      0.009    3.82e+04    2.62e+05\n",
      "Neighborhood_Federal Way    -4.57e+05   1.88e+04    -24.253      0.000   -4.94e+05    -4.2e+05\n",
      "Neighborhood_Gold Bar          -2e+05    3.5e+05     -0.572      0.567   -8.85e+05    4.85e+05\n",
      "Neighborhood_Issaquah       7.334e+04   2.37e+04      3.098      0.002    2.69e+04     1.2e+05\n",
      "Neighborhood_Kenmore       -1.347e+05   3.29e+04     -4.090      0.000   -1.99e+05   -7.01e+04\n",
      "Neighborhood_Kent          -4.473e+05   1.44e+04    -30.994      0.000   -4.76e+05   -4.19e+05\n",
      "Neighborhood_Kirkland       4.057e+05   1.78e+04     22.779      0.000    3.71e+05    4.41e+05\n",
      "Neighborhood_Maple Valley  -3.996e+05   2.15e+04    -18.615      0.000   -4.42e+05   -3.57e+05\n",
      "Neighborhood_Medina         3.299e+06   7.94e+04     41.542      0.000    3.14e+06    3.45e+06\n",
      "Neighborhood_Mercer Island  1.002e+06   3.34e+04     30.003      0.000    9.36e+05    1.07e+06\n",
      "Neighborhood_North Bend    -2.557e+05   2.87e+04     -8.915      0.000   -3.12e+05      -2e+05\n",
      "Neighborhood_Pacific       -3.769e+05   6.92e+04     -5.443      0.000   -5.13e+05   -2.41e+05\n",
      "Neighborhood_Preston        6.976e+04   4.28e+05      0.163      0.871    -7.7e+05    9.09e+05\n",
      "Neighborhood_Ravensdale    -4.047e+05   7.48e+04     -5.412      0.000   -5.51e+05   -2.58e+05\n",
      "Neighborhood_Redmond        2.034e+05   2.05e+04      9.936      0.000    1.63e+05    2.44e+05\n",
      "Neighborhood_Renton        -2.717e+05   1.43e+04    -18.995      0.000      -3e+05   -2.44e+05\n",
      "Neighborhood_Sammamish      2.126e+05   2.21e+04      9.624      0.000    1.69e+05    2.56e+05\n",
      "Neighborhood_Skykomish     -3.822e+05   1.51e+05     -2.523      0.012   -6.79e+05   -8.53e+04\n",
      "Neighborhood_Snoqualmie    -1.784e+05    3.6e+04     -4.962      0.000   -2.49e+05   -1.08e+05\n",
      "Neighborhood_Vashon        -9.248e+04   4.42e+04     -2.092      0.036   -1.79e+05   -5815.200\n",
      "Neighborhood_Woodinville    5.126e+04   2.58e+04      1.985      0.047     635.864    1.02e+05\n",
      "==============================================================================\n",
      "Omnibus:                    48315.463   Durbin-Watson:                   1.910\n",
      "Prob(Omnibus):                  0.000   Jarque-Bera (JB):        128265217.276\n",
      "Skew:                          10.672   Prob(JB):                         0.00\n",
      "Kurtosis:                     327.255   Cond. No.                     2.83e+05\n",
      "==============================================================================\n",
      "\n",
      "Notes:\n",
      "[1] Standard Errors assume that the covariance matrix of the errors is correctly specified.\n",
      "[2] The condition number is large, 2.83e+05. This might indicate that there are\n",
      "strong multicollinearity or other numerical problems.\n"
     ]
    },
    {
     "name": "stderr",
     "output_type": "stream",
     "text": [
      "/opt/conda/lib/python3.9/site-packages/statsmodels/tsa/tsatools.py:142: FutureWarning: In a future version of pandas all arguments of concat except for the argument 'objs' will be keyword-only\n",
      "  x = pd.concat(x[::order], 1)\n"
     ]
    }
   ],
   "source": [
    "iter_model = sm.OLS(y, sm.add_constant(X_iter))\n",
    "iter_results = iter_model.fit()\n",
    "print(iter_results.summary())"
   ]
  },
  {
   "cell_type": "code",
   "execution_count": 97,
   "metadata": {},
   "outputs": [
    {
     "name": "stderr",
     "output_type": "stream",
     "text": [
      "/opt/conda/lib/python3.9/site-packages/statsmodels/tsa/tsatools.py:142: FutureWarning: In a future version of pandas all arguments of concat except for the argument 'objs' will be keyword-only\n",
      "  x = pd.concat(x[::order], 1)\n"
     ]
    },
    {
     "data": {
      "text/plain": [
       "314246.8171421147"
      ]
     },
     "execution_count": 97,
     "metadata": {},
     "output_type": "execute_result"
    }
   ],
   "source": [
    "iter_mae = mean_absolute_error(y, iter_results.predict(sm.add_constant(X_iter)))\n",
    "iter_mae"
   ]
  },
  {
   "cell_type": "markdown",
   "metadata": {},
   "source": [
    "Our iterated model explains about 53 percent of the variance in `price` using `sqft_living` and `Neighborhood`. There  Overall this model is statistically significant, explaining about 38 percent of the variance in price."
   ]
  },
  {
   "cell_type": "code",
   "execution_count": null,
   "metadata": {},
   "outputs": [],
   "source": [
    "fig = plt.figure(figsize=(30,220))\n",
    "sm.graphics.plot_partregress_grid(\n",
    "    iter_results, \n",
    "    exog_idx=list(X_iter.columns),\n",
    "    grid=(14,15),\n",
    "    fig=fig)\n",
    "plt.tight_layout()\n",
    "plt.show()"
   ]
  },
  {
   "cell_type": "markdown",
   "metadata": {},
   "source": [
    "ccpr function partial "
   ]
  },
  {
   "cell_type": "markdown",
   "metadata": {},
   "source": [
    "### Final Model"
   ]
  },
  {
   "cell_type": "code",
   "execution_count": null,
   "metadata": {},
   "outputs": [],
   "source": []
  },
  {
   "cell_type": "markdown",
   "metadata": {
    "index": 67
   },
   "source": [
    "## Regression Results"
   ]
  },
  {
   "cell_type": "markdown",
   "metadata": {
    "index": 85
   },
   "source": [
    "## Level Up: Project Enhancements\n",
    "\n",
    "After completing the minimum project requirements, you could consider the following enhancements if you have time:\n",
    "\n",
    "* Consider applying a linear or non-linear transformation to your features and/or target\n",
    "* Investigate the linear regression assumptions for your final model\n",
    "* Identify and remove outliers, then redo the analysis\n",
    "* Compile the data cleaning code into a function"
   ]
  },
  {
   "cell_type": "markdown",
   "metadata": {
    "index": 86
   },
   "source": [
    "## Conclusion"
   ]
  },
  {
   "cell_type": "code",
   "execution_count": null,
   "metadata": {},
   "outputs": [],
   "source": []
  }
 ],
 "metadata": {
  "kernelspec": {
   "display_name": "Python 3",
   "language": "python",
   "name": "python3"
  },
  "language_info": {
   "codemirror_mode": {
    "name": "ipython",
    "version": 3
   },
   "file_extension": ".py",
   "mimetype": "text/x-python",
   "name": "python",
   "nbconvert_exporter": "python",
   "pygments_lexer": "ipython3",
   "version": "3.9.5"
  }
 },
 "nbformat": 4,
 "nbformat_minor": 4
}
