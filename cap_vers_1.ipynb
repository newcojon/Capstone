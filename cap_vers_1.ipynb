{
 "cells": [
  {
   "cell_type": "markdown",
   "metadata": {
    "index": 0
   },
   "source": [
    "# King County Real Estate Project"
   ]
  },
  {
   "cell_type": "markdown",
   "metadata": {
    "index": 2
   },
   "source": [
    "## Business Understanding"
   ]
  },
  {
   "cell_type": "markdown",
   "metadata": {},
   "source": [
    "For this project, I have been approached by the leadership of a new startup online real estate data analytics firm, Beatum Cheatum and Fleecum ('BCF'). BCF has tasked me with providing advice to one of its new clients, a small well established local real estate broker from the King County region, in the Ballard neighborhood of the city ('Client'). Client has a large crew of seasoned real estate agents, loan officers, lead generation experts, and other sales supply chain specialists.  Client is exploring ideas to scale its business in the King County region and keep pace with newer, more technologically advanced companies, and wants to obtain better insights by leveraging the abundance of real estate data available.  Toward this end, Client has approached BCF for a more analytical and scientific perpective on what drives residential real estate sales in King County so that it can provide actionable reference points for its relentless 'direct to consumer' sales team.  In particular, Client has heard of 'machine learning' and would love to be able to explain, in layperson terms, how its actionable data is generated from 'machine learning' techniques.  Admittedly, Client is not 'tech savy' and wants any such explaination to be understandable for even the most technologically challenged 'old school' members of its team.  \n",
    "\n",
    "After back and forth discussion, BCF was retained to provide Client with a multivariate regression analysis of the King County real estate market, with `price` being the primary dependent variable.  \n"
   ]
  },
  {
   "cell_type": "markdown",
   "metadata": {},
   "source": [
    "![Johnny discovers the internet](https://youtube.com/clip/Ugkx63KFvnginGMoSA6LueWTxb0a4E6bvkQz)"
   ]
  },
  {
   "cell_type": "markdown",
   "metadata": {
    "index": 2
   },
   "source": [
    "## Data Understanding\n",
    "\n",
    "\n",
    "Data for this analysis was taken from three different datasets.  The intitial 'given' data provided by BCF is a messy King County dataset with information scraped from the [King County Assessor's website](https://data.kingcounty.gov/Property-Assessments/Assessor-Localscape-Portal/2e9i-fa8a) ('Baseline Model Data'). The second dataset was scraped from [ZipDataMaps](https://www.zipdatamaps.com/king-wa-county-zipcodes) ('Zipcode data'). The third and final dataset was taken from the [King County GIS Open Data Site](https://data.kingcounty.gov/County-Operations/King-County-GIS-Open-Data-site/wuuf-xywg) and includes a range of factors that provide information for the final model.\n",
    "\n",
    "The initial baseline regression model was built utilizing the base dataset. The second model iteration was built using the\n",
    "\n",
    "-what each record represents\n",
    "-which column is begin used as the regress"
   ]
  },
  {
   "cell_type": "markdown",
   "metadata": {
    "index": 2
   },
   "source": [
    "## Data Preparation"
   ]
  },
  {
   "cell_type": "markdown",
   "metadata": {},
   "source": [
    "### Loading the Data"
   ]
  },
  {
   "cell_type": "code",
   "execution_count": 1,
   "metadata": {
    "index": 3
   },
   "outputs": [
    {
     "ename": "ImportError",
     "evalue": "\n\nIMPORTANT: PLEASE READ THIS FOR ADVICE ON HOW TO SOLVE THIS ISSUE!\n\nImporting the numpy C-extensions failed. This error can happen for\nmany reasons, often due to issues with your setup or how NumPy was\ninstalled.\n\nWe have compiled some common reasons and troubleshooting tips at:\n\n    https://numpy.org/devdocs/user/troubleshooting-importerror.html\n\nPlease note and check the following:\n\n  * The Python version is: Python3.8 from \"/Users/chuck/opt/anaconda3/envs/learn-env/bin/python\"\n  * The NumPy version is: \"1.21.5\"\n\nand make sure that they are the versions you expect.\nPlease carefully study the documentation linked above for further help.\n\nOriginal error was: dlopen(/Users/chuck/opt/anaconda3/envs/learn-env/lib/python3.8/site-packages/numpy/core/_multiarray_umath.cpython-38-darwin.so, 0x0002): Library not loaded: '@rpath/libopenblas.dylib'\n  Referenced from: '/Users/chuck/opt/anaconda3/envs/learn-env/lib/python3.8/site-packages/numpy/core/_multiarray_umath.cpython-38-darwin.so'\n  Reason: tried: '/Users/chuck/opt/anaconda3/envs/learn-env/lib/libopenblas.dylib' (no such file), '/Users/chuck/opt/anaconda3/envs/learn-env/lib/libopenblas.dylib' (no such file), '/Users/chuck/opt/anaconda3/envs/learn-env/lib/python3.8/site-packages/numpy/core/../../../../libopenblas.dylib' (no such file), '/Users/chuck/opt/anaconda3/envs/learn-env/lib/libopenblas.dylib' (no such file), '/Users/chuck/opt/anaconda3/envs/learn-env/lib/libopenblas.dylib' (no such file), '/Users/chuck/opt/anaconda3/envs/learn-env/lib/python3.8/site-packages/numpy/core/../../../../libopenblas.dylib' (no such file), '/Users/chuck/opt/anaconda3/envs/learn-env/lib/libopenblas.dylib' (no such file), '/Users/chuck/opt/anaconda3/envs/learn-env/bin/../lib/libopenblas.dylib' (no such file), '/Users/chuck/opt/anaconda3/envs/learn-env/lib/libopenblas.dylib' (no such file), '/Users/chuck/opt/anaconda3/envs/learn-env/bin/../lib/libopenblas.dylib' (no such file), '/usr/local/lib/libopenblas.dylib' (no such file), '/usr/lib/libopenblas.dylib' (no such file)\n",
     "output_type": "error",
     "traceback": [
      "\u001b[0;31m---------------------------------------------------------------------------\u001b[0m",
      "\u001b[0;31mImportError\u001b[0m                               Traceback (most recent call last)",
      "File \u001b[0;32m~/opt/anaconda3/envs/learn-env/lib/python3.8/site-packages/numpy/core/__init__.py:22\u001b[0m, in \u001b[0;36m<module>\u001b[0;34m\u001b[0m\n\u001b[1;32m     21\u001b[0m \u001b[38;5;28;01mtry\u001b[39;00m:\n\u001b[0;32m---> 22\u001b[0m     \u001b[38;5;28;01mfrom\u001b[39;00m \u001b[38;5;21;01m.\u001b[39;00m \u001b[38;5;28;01mimport\u001b[39;00m multiarray\n\u001b[1;32m     23\u001b[0m \u001b[38;5;28;01mexcept\u001b[39;00m \u001b[38;5;167;01mImportError\u001b[39;00m \u001b[38;5;28;01mas\u001b[39;00m exc:\n",
      "File \u001b[0;32m~/opt/anaconda3/envs/learn-env/lib/python3.8/site-packages/numpy/core/multiarray.py:12\u001b[0m, in \u001b[0;36m<module>\u001b[0;34m\u001b[0m\n\u001b[1;32m     10\u001b[0m \u001b[38;5;28;01mimport\u001b[39;00m \u001b[38;5;21;01mwarnings\u001b[39;00m\n\u001b[0;32m---> 12\u001b[0m \u001b[38;5;28;01mfrom\u001b[39;00m \u001b[38;5;21;01m.\u001b[39;00m \u001b[38;5;28;01mimport\u001b[39;00m overrides\n\u001b[1;32m     13\u001b[0m \u001b[38;5;28;01mfrom\u001b[39;00m \u001b[38;5;21;01m.\u001b[39;00m \u001b[38;5;28;01mimport\u001b[39;00m _multiarray_umath\n",
      "File \u001b[0;32m~/opt/anaconda3/envs/learn-env/lib/python3.8/site-packages/numpy/core/overrides.py:7\u001b[0m, in \u001b[0;36m<module>\u001b[0;34m\u001b[0m\n\u001b[1;32m      5\u001b[0m \u001b[38;5;28;01mimport\u001b[39;00m \u001b[38;5;21;01mtextwrap\u001b[39;00m\n\u001b[0;32m----> 7\u001b[0m \u001b[38;5;28;01mfrom\u001b[39;00m \u001b[38;5;21;01mnumpy\u001b[39;00m\u001b[38;5;21;01m.\u001b[39;00m\u001b[38;5;21;01mcore\u001b[39;00m\u001b[38;5;21;01m.\u001b[39;00m\u001b[38;5;21;01m_multiarray_umath\u001b[39;00m \u001b[38;5;28;01mimport\u001b[39;00m (\n\u001b[1;32m      8\u001b[0m     add_docstring, implement_array_function, _get_implementing_args)\n\u001b[1;32m      9\u001b[0m \u001b[38;5;28;01mfrom\u001b[39;00m \u001b[38;5;21;01mnumpy\u001b[39;00m\u001b[38;5;21;01m.\u001b[39;00m\u001b[38;5;21;01mcompat\u001b[39;00m\u001b[38;5;21;01m.\u001b[39;00m\u001b[38;5;21;01m_inspect\u001b[39;00m \u001b[38;5;28;01mimport\u001b[39;00m getargspec\n",
      "\u001b[0;31mImportError\u001b[0m: dlopen(/Users/chuck/opt/anaconda3/envs/learn-env/lib/python3.8/site-packages/numpy/core/_multiarray_umath.cpython-38-darwin.so, 0x0002): Library not loaded: '@rpath/libopenblas.dylib'\n  Referenced from: '/Users/chuck/opt/anaconda3/envs/learn-env/lib/python3.8/site-packages/numpy/core/_multiarray_umath.cpython-38-darwin.so'\n  Reason: tried: '/Users/chuck/opt/anaconda3/envs/learn-env/lib/libopenblas.dylib' (no such file), '/Users/chuck/opt/anaconda3/envs/learn-env/lib/libopenblas.dylib' (no such file), '/Users/chuck/opt/anaconda3/envs/learn-env/lib/python3.8/site-packages/numpy/core/../../../../libopenblas.dylib' (no such file), '/Users/chuck/opt/anaconda3/envs/learn-env/lib/libopenblas.dylib' (no such file), '/Users/chuck/opt/anaconda3/envs/learn-env/lib/libopenblas.dylib' (no such file), '/Users/chuck/opt/anaconda3/envs/learn-env/lib/python3.8/site-packages/numpy/core/../../../../libopenblas.dylib' (no such file), '/Users/chuck/opt/anaconda3/envs/learn-env/lib/libopenblas.dylib' (no such file), '/Users/chuck/opt/anaconda3/envs/learn-env/bin/../lib/libopenblas.dylib' (no such file), '/Users/chuck/opt/anaconda3/envs/learn-env/lib/libopenblas.dylib' (no such file), '/Users/chuck/opt/anaconda3/envs/learn-env/bin/../lib/libopenblas.dylib' (no such file), '/usr/local/lib/libopenblas.dylib' (no such file), '/usr/lib/libopenblas.dylib' (no such file)",
      "\nDuring handling of the above exception, another exception occurred:\n",
      "\u001b[0;31mImportError\u001b[0m                               Traceback (most recent call last)",
      "Input \u001b[0;32mIn [1]\u001b[0m, in \u001b[0;36m<cell line: 3>\u001b[0;34m()\u001b[0m\n\u001b[1;32m      1\u001b[0m \u001b[38;5;66;03m#importing all appropriate Pythonic libraries and packages \u001b[39;00m\n\u001b[0;32m----> 3\u001b[0m \u001b[38;5;28;01mimport\u001b[39;00m \u001b[38;5;21;01mnumpy\u001b[39;00m \u001b[38;5;28;01mas\u001b[39;00m \u001b[38;5;21;01mnp\u001b[39;00m\n\u001b[1;32m      4\u001b[0m \u001b[38;5;28;01mimport\u001b[39;00m \u001b[38;5;21;01mpandas\u001b[39;00m \u001b[38;5;28;01mas\u001b[39;00m \u001b[38;5;21;01mpd\u001b[39;00m\n\u001b[1;32m      5\u001b[0m \u001b[38;5;28;01mfrom\u001b[39;00m \u001b[38;5;21;01mmatplotlib\u001b[39;00m \u001b[38;5;28;01mimport\u001b[39;00m pyplot \u001b[38;5;28;01mas\u001b[39;00m plt\n",
      "File \u001b[0;32m~/opt/anaconda3/envs/learn-env/lib/python3.8/site-packages/numpy/__init__.py:150\u001b[0m, in \u001b[0;36m<module>\u001b[0;34m\u001b[0m\n\u001b[1;32m    147\u001b[0m \u001b[38;5;66;03m# Allow distributors to run custom init code\u001b[39;00m\n\u001b[1;32m    148\u001b[0m \u001b[38;5;28;01mfrom\u001b[39;00m \u001b[38;5;21;01m.\u001b[39;00m \u001b[38;5;28;01mimport\u001b[39;00m _distributor_init\n\u001b[0;32m--> 150\u001b[0m \u001b[38;5;28;01mfrom\u001b[39;00m \u001b[38;5;21;01m.\u001b[39;00m \u001b[38;5;28;01mimport\u001b[39;00m core\n\u001b[1;32m    151\u001b[0m \u001b[38;5;28;01mfrom\u001b[39;00m \u001b[38;5;21;01m.\u001b[39;00m\u001b[38;5;21;01mcore\u001b[39;00m \u001b[38;5;28;01mimport\u001b[39;00m \u001b[38;5;241m*\u001b[39m\n\u001b[1;32m    152\u001b[0m \u001b[38;5;28;01mfrom\u001b[39;00m \u001b[38;5;21;01m.\u001b[39;00m \u001b[38;5;28;01mimport\u001b[39;00m compat\n",
      "File \u001b[0;32m~/opt/anaconda3/envs/learn-env/lib/python3.8/site-packages/numpy/core/__init__.py:48\u001b[0m, in \u001b[0;36m<module>\u001b[0;34m\u001b[0m\n\u001b[1;32m     24\u001b[0m     \u001b[38;5;28;01mimport\u001b[39;00m \u001b[38;5;21;01msys\u001b[39;00m\n\u001b[1;32m     25\u001b[0m     msg \u001b[38;5;241m=\u001b[39m \u001b[38;5;124m\"\"\"\u001b[39m\n\u001b[1;32m     26\u001b[0m \n\u001b[1;32m     27\u001b[0m \u001b[38;5;124mIMPORTANT: PLEASE READ THIS FOR ADVICE ON HOW TO SOLVE THIS ISSUE!\u001b[39m\n\u001b[0;32m   (...)\u001b[0m\n\u001b[1;32m     46\u001b[0m \u001b[38;5;124m\"\"\"\u001b[39m \u001b[38;5;241m%\u001b[39m (sys\u001b[38;5;241m.\u001b[39mversion_info[\u001b[38;5;241m0\u001b[39m], sys\u001b[38;5;241m.\u001b[39mversion_info[\u001b[38;5;241m1\u001b[39m], sys\u001b[38;5;241m.\u001b[39mexecutable,\n\u001b[1;32m     47\u001b[0m         __version__, exc)\n\u001b[0;32m---> 48\u001b[0m     \u001b[38;5;28;01mraise\u001b[39;00m \u001b[38;5;167;01mImportError\u001b[39;00m(msg)\n\u001b[1;32m     49\u001b[0m \u001b[38;5;28;01mfinally\u001b[39;00m:\n\u001b[1;32m     50\u001b[0m     \u001b[38;5;28;01mfor\u001b[39;00m envkey \u001b[38;5;129;01min\u001b[39;00m env_added:\n",
      "\u001b[0;31mImportError\u001b[0m: \n\nIMPORTANT: PLEASE READ THIS FOR ADVICE ON HOW TO SOLVE THIS ISSUE!\n\nImporting the numpy C-extensions failed. This error can happen for\nmany reasons, often due to issues with your setup or how NumPy was\ninstalled.\n\nWe have compiled some common reasons and troubleshooting tips at:\n\n    https://numpy.org/devdocs/user/troubleshooting-importerror.html\n\nPlease note and check the following:\n\n  * The Python version is: Python3.8 from \"/Users/chuck/opt/anaconda3/envs/learn-env/bin/python\"\n  * The NumPy version is: \"1.21.5\"\n\nand make sure that they are the versions you expect.\nPlease carefully study the documentation linked above for further help.\n\nOriginal error was: dlopen(/Users/chuck/opt/anaconda3/envs/learn-env/lib/python3.8/site-packages/numpy/core/_multiarray_umath.cpython-38-darwin.so, 0x0002): Library not loaded: '@rpath/libopenblas.dylib'\n  Referenced from: '/Users/chuck/opt/anaconda3/envs/learn-env/lib/python3.8/site-packages/numpy/core/_multiarray_umath.cpython-38-darwin.so'\n  Reason: tried: '/Users/chuck/opt/anaconda3/envs/learn-env/lib/libopenblas.dylib' (no such file), '/Users/chuck/opt/anaconda3/envs/learn-env/lib/libopenblas.dylib' (no such file), '/Users/chuck/opt/anaconda3/envs/learn-env/lib/python3.8/site-packages/numpy/core/../../../../libopenblas.dylib' (no such file), '/Users/chuck/opt/anaconda3/envs/learn-env/lib/libopenblas.dylib' (no such file), '/Users/chuck/opt/anaconda3/envs/learn-env/lib/libopenblas.dylib' (no such file), '/Users/chuck/opt/anaconda3/envs/learn-env/lib/python3.8/site-packages/numpy/core/../../../../libopenblas.dylib' (no such file), '/Users/chuck/opt/anaconda3/envs/learn-env/lib/libopenblas.dylib' (no such file), '/Users/chuck/opt/anaconda3/envs/learn-env/bin/../lib/libopenblas.dylib' (no such file), '/Users/chuck/opt/anaconda3/envs/learn-env/lib/libopenblas.dylib' (no such file), '/Users/chuck/opt/anaconda3/envs/learn-env/bin/../lib/libopenblas.dylib' (no such file), '/usr/local/lib/libopenblas.dylib' (no such file), '/usr/lib/libopenblas.dylib' (no such file)\n"
     ]
    }
   ],
   "source": [
    "\n",
    "#importing all appropriate Pythonic libraries and packages \n",
    "\n",
    "import numpy as np\n",
    "import pandas as pd\n",
    "from matplotlib import pyplot as plt\n",
    "import seaborn as sns\n",
    "import statsmodels.api as sm\n",
    "from sklearn.preprocessing import OneHotEncoder, StandardScaler\n",
    "from sklearn.datasets import make_regression\n",
    "from sklearn.linear_model import LinearRegression\n",
    "import sklearn.metrics as metrics\n",
    "from sklearn.metrics import mean_absolute_error\n",
    "from random import gauss\n",
    "from mpl_toolkits.mplot3d import Axes3D\n",
    "from scipy import stats as stats\n",
    "import re\n",
    "%matplotlib inline"
   ]
  },
  {
   "cell_type": "markdown",
   "metadata": {},
   "source": [
    " # section_1"
   ]
  },
  {
   "cell_type": "markdown",
   "metadata": {},
   "source": [
    "[section_3](#section_3)\n",
    "[section_2](#section_2)"
   ]
  },
  {
   "cell_type": "code",
   "execution_count": 100,
   "metadata": {},
   "outputs": [
    {
     "data": {
      "text/html": [
       "<div>\n",
       "<style scoped>\n",
       "    .dataframe tbody tr th:only-of-type {\n",
       "        vertical-align: middle;\n",
       "    }\n",
       "\n",
       "    .dataframe tbody tr th {\n",
       "        vertical-align: top;\n",
       "    }\n",
       "\n",
       "    .dataframe thead th {\n",
       "        text-align: right;\n",
       "    }\n",
       "</style>\n",
       "<table border=\"1\" class=\"dataframe\">\n",
       "  <thead>\n",
       "    <tr style=\"text-align: right;\">\n",
       "      <th></th>\n",
       "      <th>id</th>\n",
       "      <th>date</th>\n",
       "      <th>price</th>\n",
       "      <th>bedrooms</th>\n",
       "      <th>bathrooms</th>\n",
       "      <th>sqft_living</th>\n",
       "      <th>sqft_lot</th>\n",
       "      <th>floors</th>\n",
       "      <th>waterfront</th>\n",
       "      <th>greenbelt</th>\n",
       "      <th>...</th>\n",
       "      <th>sewer_system</th>\n",
       "      <th>sqft_above</th>\n",
       "      <th>sqft_basement</th>\n",
       "      <th>sqft_garage</th>\n",
       "      <th>sqft_patio</th>\n",
       "      <th>yr_built</th>\n",
       "      <th>yr_renovated</th>\n",
       "      <th>address</th>\n",
       "      <th>lat</th>\n",
       "      <th>long</th>\n",
       "    </tr>\n",
       "  </thead>\n",
       "  <tbody>\n",
       "    <tr>\n",
       "      <th>0</th>\n",
       "      <td>7399300360</td>\n",
       "      <td>5/24/2022</td>\n",
       "      <td>675000.0</td>\n",
       "      <td>4</td>\n",
       "      <td>1.0</td>\n",
       "      <td>1180</td>\n",
       "      <td>7140</td>\n",
       "      <td>1.0</td>\n",
       "      <td>NO</td>\n",
       "      <td>NO</td>\n",
       "      <td>...</td>\n",
       "      <td>PUBLIC</td>\n",
       "      <td>1180</td>\n",
       "      <td>0</td>\n",
       "      <td>0</td>\n",
       "      <td>40</td>\n",
       "      <td>1969</td>\n",
       "      <td>0</td>\n",
       "      <td>2102 Southeast 21st Court, Renton, Washington ...</td>\n",
       "      <td>47.461975</td>\n",
       "      <td>-122.19052</td>\n",
       "    </tr>\n",
       "    <tr>\n",
       "      <th>1</th>\n",
       "      <td>8910500230</td>\n",
       "      <td>12/13/2021</td>\n",
       "      <td>920000.0</td>\n",
       "      <td>5</td>\n",
       "      <td>2.5</td>\n",
       "      <td>2770</td>\n",
       "      <td>6703</td>\n",
       "      <td>1.0</td>\n",
       "      <td>NO</td>\n",
       "      <td>NO</td>\n",
       "      <td>...</td>\n",
       "      <td>PUBLIC</td>\n",
       "      <td>1570</td>\n",
       "      <td>1570</td>\n",
       "      <td>0</td>\n",
       "      <td>240</td>\n",
       "      <td>1950</td>\n",
       "      <td>0</td>\n",
       "      <td>11231 Greenwood Avenue North, Seattle, Washing...</td>\n",
       "      <td>47.711525</td>\n",
       "      <td>-122.35591</td>\n",
       "    </tr>\n",
       "    <tr>\n",
       "      <th>2</th>\n",
       "      <td>1180000275</td>\n",
       "      <td>9/29/2021</td>\n",
       "      <td>311000.0</td>\n",
       "      <td>6</td>\n",
       "      <td>2.0</td>\n",
       "      <td>2880</td>\n",
       "      <td>6156</td>\n",
       "      <td>1.0</td>\n",
       "      <td>NO</td>\n",
       "      <td>NO</td>\n",
       "      <td>...</td>\n",
       "      <td>PUBLIC</td>\n",
       "      <td>1580</td>\n",
       "      <td>1580</td>\n",
       "      <td>0</td>\n",
       "      <td>0</td>\n",
       "      <td>1956</td>\n",
       "      <td>0</td>\n",
       "      <td>8504 South 113th Street, Seattle, Washington 9...</td>\n",
       "      <td>47.502045</td>\n",
       "      <td>-122.22520</td>\n",
       "    </tr>\n",
       "    <tr>\n",
       "      <th>3</th>\n",
       "      <td>1604601802</td>\n",
       "      <td>12/14/2021</td>\n",
       "      <td>775000.0</td>\n",
       "      <td>3</td>\n",
       "      <td>3.0</td>\n",
       "      <td>2160</td>\n",
       "      <td>1400</td>\n",
       "      <td>2.0</td>\n",
       "      <td>NO</td>\n",
       "      <td>NO</td>\n",
       "      <td>...</td>\n",
       "      <td>PUBLIC</td>\n",
       "      <td>1090</td>\n",
       "      <td>1070</td>\n",
       "      <td>200</td>\n",
       "      <td>270</td>\n",
       "      <td>2010</td>\n",
       "      <td>0</td>\n",
       "      <td>4079 Letitia Avenue South, Seattle, Washington...</td>\n",
       "      <td>47.566110</td>\n",
       "      <td>-122.29020</td>\n",
       "    </tr>\n",
       "    <tr>\n",
       "      <th>4</th>\n",
       "      <td>8562780790</td>\n",
       "      <td>8/24/2021</td>\n",
       "      <td>592500.0</td>\n",
       "      <td>2</td>\n",
       "      <td>2.0</td>\n",
       "      <td>1120</td>\n",
       "      <td>758</td>\n",
       "      <td>2.0</td>\n",
       "      <td>NO</td>\n",
       "      <td>NO</td>\n",
       "      <td>...</td>\n",
       "      <td>PUBLIC</td>\n",
       "      <td>1120</td>\n",
       "      <td>550</td>\n",
       "      <td>550</td>\n",
       "      <td>30</td>\n",
       "      <td>2012</td>\n",
       "      <td>0</td>\n",
       "      <td>2193 Northwest Talus Drive, Issaquah, Washingt...</td>\n",
       "      <td>47.532470</td>\n",
       "      <td>-122.07188</td>\n",
       "    </tr>\n",
       "  </tbody>\n",
       "</table>\n",
       "<p>5 rows × 25 columns</p>\n",
       "</div>"
      ],
      "text/plain": [
       "           id        date     price  bedrooms  bathrooms  sqft_living  \\\n",
       "0  7399300360   5/24/2022  675000.0         4        1.0         1180   \n",
       "1  8910500230  12/13/2021  920000.0         5        2.5         2770   \n",
       "2  1180000275   9/29/2021  311000.0         6        2.0         2880   \n",
       "3  1604601802  12/14/2021  775000.0         3        3.0         2160   \n",
       "4  8562780790   8/24/2021  592500.0         2        2.0         1120   \n",
       "\n",
       "   sqft_lot  floors waterfront greenbelt  ... sewer_system sqft_above  \\\n",
       "0      7140     1.0         NO        NO  ...       PUBLIC       1180   \n",
       "1      6703     1.0         NO        NO  ...       PUBLIC       1570   \n",
       "2      6156     1.0         NO        NO  ...       PUBLIC       1580   \n",
       "3      1400     2.0         NO        NO  ...       PUBLIC       1090   \n",
       "4       758     2.0         NO        NO  ...       PUBLIC       1120   \n",
       "\n",
       "  sqft_basement sqft_garage sqft_patio yr_built  yr_renovated  \\\n",
       "0             0           0         40     1969             0   \n",
       "1          1570           0        240     1950             0   \n",
       "2          1580           0          0     1956             0   \n",
       "3          1070         200        270     2010             0   \n",
       "4           550         550         30     2012             0   \n",
       "\n",
       "                                             address        lat       long  \n",
       "0  2102 Southeast 21st Court, Renton, Washington ...  47.461975 -122.19052  \n",
       "1  11231 Greenwood Avenue North, Seattle, Washing...  47.711525 -122.35591  \n",
       "2  8504 South 113th Street, Seattle, Washington 9...  47.502045 -122.22520  \n",
       "3  4079 Letitia Avenue South, Seattle, Washington...  47.566110 -122.29020  \n",
       "4  2193 Northwest Talus Drive, Issaquah, Washingt...  47.532470 -122.07188  \n",
       "\n",
       "[5 rows x 25 columns]"
      ]
     },
     "execution_count": 100,
     "metadata": {},
     "output_type": "execute_result"
    }
   ],
   "source": [
    "# reading in the King County dataset to Pandas\n",
    "df = pd.read_csv('data/kc_house_data.csv')\n",
    "df.head()"
   ]
  },
  {
   "cell_type": "markdown",
   "metadata": {
    "index": 8
   },
   "source": [
    "### Data Exploration"
   ]
  },
  {
   "cell_type": "code",
   "execution_count": 101,
   "metadata": {},
   "outputs": [
    {
     "name": "stdout",
     "output_type": "stream",
     "text": [
      "<class 'pandas.core.frame.DataFrame'>\n",
      "RangeIndex: 30155 entries, 0 to 30154\n",
      "Data columns (total 25 columns):\n",
      " #   Column         Non-Null Count  Dtype  \n",
      "---  ------         --------------  -----  \n",
      " 0   id             30155 non-null  int64  \n",
      " 1   date           30155 non-null  object \n",
      " 2   price          30155 non-null  float64\n",
      " 3   bedrooms       30155 non-null  int64  \n",
      " 4   bathrooms      30155 non-null  float64\n",
      " 5   sqft_living    30155 non-null  int64  \n",
      " 6   sqft_lot       30155 non-null  int64  \n",
      " 7   floors         30155 non-null  float64\n",
      " 8   waterfront     30155 non-null  object \n",
      " 9   greenbelt      30155 non-null  object \n",
      " 10  nuisance       30155 non-null  object \n",
      " 11  view           30155 non-null  object \n",
      " 12  condition      30155 non-null  object \n",
      " 13  grade          30155 non-null  object \n",
      " 14  heat_source    30123 non-null  object \n",
      " 15  sewer_system   30141 non-null  object \n",
      " 16  sqft_above     30155 non-null  int64  \n",
      " 17  sqft_basement  30155 non-null  int64  \n",
      " 18  sqft_garage    30155 non-null  int64  \n",
      " 19  sqft_patio     30155 non-null  int64  \n",
      " 20  yr_built       30155 non-null  int64  \n",
      " 21  yr_renovated   30155 non-null  int64  \n",
      " 22  address        30155 non-null  object \n",
      " 23  lat            30155 non-null  float64\n",
      " 24  long           30155 non-null  float64\n",
      "dtypes: float64(5), int64(10), object(10)\n",
      "memory usage: 5.8+ MB\n"
     ]
    }
   ],
   "source": [
    "df.info()"
   ]
  },
  {
   "cell_type": "code",
   "execution_count": 102,
   "metadata": {},
   "outputs": [],
   "source": [
    "# dropping the placeholder column\n",
    "df.drop(labels='id', axis=1, inplace=True)"
   ]
  },
  {
   "cell_type": "code",
   "execution_count": 103,
   "metadata": {},
   "outputs": [],
   "source": [
    "# converting all dates to datetime\n",
    "df['date'] = pd.to_datetime(df['date'])"
   ]
  },
  {
   "cell_type": "code",
   "execution_count": 104,
   "metadata": {},
   "outputs": [],
   "source": [
    "# isolating the zip code \n",
    "# alternative methods to achieve same\n",
    "# df['Zipcode'] = df['address'].str.extract(r'(\\d{5}\\-?\\d{0,4})')\n",
    "# df['address'][0].split(',')[2][-5:]\n",
    "# df['address'][1000][-20:-15]"
   ]
  },
  {
   "cell_type": "code",
   "execution_count": 105,
   "metadata": {},
   "outputs": [],
   "source": [
    "df['Zipcode'] = df['address'].apply(lambda x: x[-20:-15])"
   ]
  },
  {
   "cell_type": "code",
   "execution_count": 106,
   "metadata": {},
   "outputs": [],
   "source": [
    "df['Zipcode'] = df['Zipcode'].astype(int)"
   ]
  },
  {
   "cell_type": "code",
   "execution_count": 107,
   "metadata": {},
   "outputs": [
    {
     "data": {
      "text/plain": [
       "<AxesSubplot:>"
      ]
     },
     "execution_count": 107,
     "metadata": {},
     "output_type": "execute_result"
    },
    {
     "data": {
      "image/png": "[encoded data removed]",
      "text/plain": [
       "<Figure size 432x288 with 1 Axes>"
      ]
     },
     "metadata": {
      "needs_background": "light"
     },
     "output_type": "display_data"
    }
   ],
   "source": [
    "df['Zipcode'].hist()"
   ]
  },
  {
   "cell_type": "code",
   "execution_count": 108,
   "metadata": {},
   "outputs": [],
   "source": [
    "# controling for outliers\n",
    "df = df.loc[(df['Zipcode'] > 98000) & (df['Zipcode'] <= 98922)]"
   ]
  },
  {
   "cell_type": "code",
   "execution_count": 109,
   "metadata": {},
   "outputs": [
    {
     "data": {
      "text/html": [
       "<div>\n",
       "<style scoped>\n",
       "    .dataframe tbody tr th:only-of-type {\n",
       "        vertical-align: middle;\n",
       "    }\n",
       "\n",
       "    .dataframe tbody tr th {\n",
       "        vertical-align: top;\n",
       "    }\n",
       "\n",
       "    .dataframe thead th {\n",
       "        text-align: right;\n",
       "    }\n",
       "</style>\n",
       "<table border=\"1\" class=\"dataframe\">\n",
       "  <thead>\n",
       "    <tr style=\"text-align: right;\">\n",
       "      <th></th>\n",
       "      <th>Neighborhood</th>\n",
       "      <th>Population</th>\n",
       "    </tr>\n",
       "    <tr>\n",
       "      <th>ZIP Code</th>\n",
       "      <th></th>\n",
       "      <th></th>\n",
       "    </tr>\n",
       "  </thead>\n",
       "  <tbody>\n",
       "    <tr>\n",
       "      <th>98158</th>\n",
       "      <td>Seattle</td>\n",
       "      <td>NaN</td>\n",
       "    </tr>\n",
       "    <tr>\n",
       "      <th>98161</th>\n",
       "      <td>Seattle</td>\n",
       "      <td>NaN</td>\n",
       "    </tr>\n",
       "    <tr>\n",
       "      <th>98164</th>\n",
       "      <td>Seattle</td>\n",
       "      <td>141.0</td>\n",
       "    </tr>\n",
       "    <tr>\n",
       "      <th>98166</th>\n",
       "      <td>Seattle</td>\n",
       "      <td>20301.0</td>\n",
       "    </tr>\n",
       "    <tr>\n",
       "      <th>98168</th>\n",
       "      <td>Seattle</td>\n",
       "      <td>33734.0</td>\n",
       "    </tr>\n",
       "    <tr>\n",
       "      <th>98174</th>\n",
       "      <td>Seattle</td>\n",
       "      <td>NaN</td>\n",
       "    </tr>\n",
       "    <tr>\n",
       "      <th>98177</th>\n",
       "      <td>Seattle</td>\n",
       "      <td>19030.0</td>\n",
       "    </tr>\n",
       "    <tr>\n",
       "      <th>98178</th>\n",
       "      <td>Seattle</td>\n",
       "      <td>24092.0</td>\n",
       "    </tr>\n",
       "    <tr>\n",
       "      <th>98188</th>\n",
       "      <td>Seattle</td>\n",
       "      <td>23111.0</td>\n",
       "    </tr>\n",
       "    <tr>\n",
       "      <th>98195</th>\n",
       "      <td>Seattle</td>\n",
       "      <td>NaN</td>\n",
       "    </tr>\n",
       "    <tr>\n",
       "      <th>98198</th>\n",
       "      <td>Seattle</td>\n",
       "      <td>34584.0</td>\n",
       "    </tr>\n",
       "    <tr>\n",
       "      <th>98199</th>\n",
       "      <td>Seattle</td>\n",
       "      <td>19686.0</td>\n",
       "    </tr>\n",
       "    <tr>\n",
       "      <th>98224</th>\n",
       "      <td>Baring</td>\n",
       "      <td>294.0</td>\n",
       "    </tr>\n",
       "    <tr>\n",
       "      <th>98251</th>\n",
       "      <td>Gold Bar</td>\n",
       "      <td>4567.0</td>\n",
       "    </tr>\n",
       "    <tr>\n",
       "      <th>98288</th>\n",
       "      <td>Skykomish</td>\n",
       "      <td>333.0</td>\n",
       "    </tr>\n",
       "    <tr>\n",
       "      <th>98321</th>\n",
       "      <td>Buckley</td>\n",
       "      <td>15152.0</td>\n",
       "    </tr>\n",
       "    <tr>\n",
       "      <th>98354</th>\n",
       "      <td>Milton</td>\n",
       "      <td>6976.0</td>\n",
       "    </tr>\n",
       "    <tr>\n",
       "      <th>98826</th>\n",
       "      <td>Leavenworth</td>\n",
       "      <td>6504.0</td>\n",
       "    </tr>\n",
       "    <tr>\n",
       "      <th>98922</th>\n",
       "      <td>Cle Elum</td>\n",
       "      <td>5468.0</td>\n",
       "    </tr>\n",
       "    <tr>\n",
       "      <th>98009</th>\n",
       "      <td>Bellevue</td>\n",
       "      <td>NaN</td>\n",
       "    </tr>\n",
       "    <tr>\n",
       "      <th>98013</th>\n",
       "      <td>Burton</td>\n",
       "      <td>NaN</td>\n",
       "    </tr>\n",
       "    <tr>\n",
       "      <th>98015</th>\n",
       "      <td>Bellevue</td>\n",
       "      <td>NaN</td>\n",
       "    </tr>\n",
       "    <tr>\n",
       "      <th>98025</th>\n",
       "      <td>Hobart</td>\n",
       "      <td>NaN</td>\n",
       "    </tr>\n",
       "    <tr>\n",
       "      <th>98035</th>\n",
       "      <td>Kent</td>\n",
       "      <td>NaN</td>\n",
       "    </tr>\n",
       "    <tr>\n",
       "      <th>98041</th>\n",
       "      <td>Bothell</td>\n",
       "      <td>NaN</td>\n",
       "    </tr>\n",
       "    <tr>\n",
       "      <th>98050</th>\n",
       "      <td>Preston</td>\n",
       "      <td>322.0</td>\n",
       "    </tr>\n",
       "    <tr>\n",
       "      <th>98062</th>\n",
       "      <td>Seahurst</td>\n",
       "      <td>NaN</td>\n",
       "    </tr>\n",
       "    <tr>\n",
       "      <th>98063</th>\n",
       "      <td>Federal Way</td>\n",
       "      <td>NaN</td>\n",
       "    </tr>\n",
       "    <tr>\n",
       "      <th>98064</th>\n",
       "      <td>Kent</td>\n",
       "      <td>NaN</td>\n",
       "    </tr>\n",
       "    <tr>\n",
       "      <th>98071</th>\n",
       "      <td>Auburn</td>\n",
       "      <td>NaN</td>\n",
       "    </tr>\n",
       "    <tr>\n",
       "      <th>98073</th>\n",
       "      <td>Redmond</td>\n",
       "      <td>NaN</td>\n",
       "    </tr>\n",
       "    <tr>\n",
       "      <th>98082</th>\n",
       "      <td>Mill Creek</td>\n",
       "      <td>NaN</td>\n",
       "    </tr>\n",
       "    <tr>\n",
       "      <th>98083</th>\n",
       "      <td>Kirkland</td>\n",
       "      <td>NaN</td>\n",
       "    </tr>\n",
       "    <tr>\n",
       "      <th>98089</th>\n",
       "      <td>Kent</td>\n",
       "      <td>NaN</td>\n",
       "    </tr>\n",
       "    <tr>\n",
       "      <th>98093</th>\n",
       "      <td>Federal Way</td>\n",
       "      <td>NaN</td>\n",
       "    </tr>\n",
       "    <tr>\n",
       "      <th>98111</th>\n",
       "      <td>Seattle</td>\n",
       "      <td>NaN</td>\n",
       "    </tr>\n",
       "    <tr>\n",
       "      <th>98113</th>\n",
       "      <td>Seattle</td>\n",
       "      <td>NaN</td>\n",
       "    </tr>\n",
       "    <tr>\n",
       "      <th>98114</th>\n",
       "      <td>Seattle</td>\n",
       "      <td>NaN</td>\n",
       "    </tr>\n",
       "    <tr>\n",
       "      <th>98124</th>\n",
       "      <td>Seattle</td>\n",
       "      <td>NaN</td>\n",
       "    </tr>\n",
       "    <tr>\n",
       "      <th>98127</th>\n",
       "      <td>Seattle</td>\n",
       "      <td>NaN</td>\n",
       "    </tr>\n",
       "    <tr>\n",
       "      <th>98138</th>\n",
       "      <td>Seattle</td>\n",
       "      <td>NaN</td>\n",
       "    </tr>\n",
       "    <tr>\n",
       "      <th>98139</th>\n",
       "      <td>Seattle</td>\n",
       "      <td>NaN</td>\n",
       "    </tr>\n",
       "    <tr>\n",
       "      <th>98141</th>\n",
       "      <td>Seattle</td>\n",
       "      <td>NaN</td>\n",
       "    </tr>\n",
       "    <tr>\n",
       "      <th>98145</th>\n",
       "      <td>Seattle</td>\n",
       "      <td>NaN</td>\n",
       "    </tr>\n",
       "    <tr>\n",
       "      <th>98160</th>\n",
       "      <td>Seattle</td>\n",
       "      <td>NaN</td>\n",
       "    </tr>\n",
       "    <tr>\n",
       "      <th>98165</th>\n",
       "      <td>Seattle</td>\n",
       "      <td>NaN</td>\n",
       "    </tr>\n",
       "    <tr>\n",
       "      <th>98175</th>\n",
       "      <td>Seattle</td>\n",
       "      <td>NaN</td>\n",
       "    </tr>\n",
       "    <tr>\n",
       "      <th>98194</th>\n",
       "      <td>Seattle</td>\n",
       "      <td>NaN</td>\n",
       "    </tr>\n",
       "    <tr>\n",
       "      <th>98129</th>\n",
       "      <td>Seattle</td>\n",
       "      <td>NaN</td>\n",
       "    </tr>\n",
       "    <tr>\n",
       "      <th>98170</th>\n",
       "      <td>Seattle</td>\n",
       "      <td>NaN</td>\n",
       "    </tr>\n",
       "    <tr>\n",
       "      <th>98181</th>\n",
       "      <td>Seattle</td>\n",
       "      <td>NaN</td>\n",
       "    </tr>\n",
       "    <tr>\n",
       "      <th>98185</th>\n",
       "      <td>Seattle</td>\n",
       "      <td>NaN</td>\n",
       "    </tr>\n",
       "    <tr>\n",
       "      <th>98189</th>\n",
       "      <td>Seattle</td>\n",
       "      <td>NaN</td>\n",
       "    </tr>\n",
       "    <tr>\n",
       "      <th>98190</th>\n",
       "      <td>Seattle</td>\n",
       "      <td>NaN</td>\n",
       "    </tr>\n",
       "    <tr>\n",
       "      <th>98191</th>\n",
       "      <td>Seattle</td>\n",
       "      <td>NaN</td>\n",
       "    </tr>\n",
       "  </tbody>\n",
       "</table>\n",
       "</div>"
      ],
      "text/plain": [
       "         Neighborhood  Population\n",
       "ZIP Code                         \n",
       "98158         Seattle         NaN\n",
       "98161         Seattle         NaN\n",
       "98164         Seattle       141.0\n",
       "98166         Seattle     20301.0\n",
       "98168         Seattle     33734.0\n",
       "98174         Seattle         NaN\n",
       "98177         Seattle     19030.0\n",
       "98178         Seattle     24092.0\n",
       "98188         Seattle     23111.0\n",
       "98195         Seattle         NaN\n",
       "98198         Seattle     34584.0\n",
       "98199         Seattle     19686.0\n",
       "98224          Baring       294.0\n",
       "98251        Gold Bar      4567.0\n",
       "98288       Skykomish       333.0\n",
       "98321         Buckley     15152.0\n",
       "98354          Milton      6976.0\n",
       "98826     Leavenworth      6504.0\n",
       "98922        Cle Elum      5468.0\n",
       "98009        Bellevue         NaN\n",
       "98013          Burton         NaN\n",
       "98015        Bellevue         NaN\n",
       "98025          Hobart         NaN\n",
       "98035            Kent         NaN\n",
       "98041         Bothell         NaN\n",
       "98050         Preston       322.0\n",
       "98062        Seahurst         NaN\n",
       "98063     Federal Way         NaN\n",
       "98064            Kent         NaN\n",
       "98071          Auburn         NaN\n",
       "98073         Redmond         NaN\n",
       "98082      Mill Creek         NaN\n",
       "98083        Kirkland         NaN\n",
       "98089            Kent         NaN\n",
       "98093     Federal Way         NaN\n",
       "98111         Seattle         NaN\n",
       "98113         Seattle         NaN\n",
       "98114         Seattle         NaN\n",
       "98124         Seattle         NaN\n",
       "98127         Seattle         NaN\n",
       "98138         Seattle         NaN\n",
       "98139         Seattle         NaN\n",
       "98141         Seattle         NaN\n",
       "98145         Seattle         NaN\n",
       "98160         Seattle         NaN\n",
       "98165         Seattle         NaN\n",
       "98175         Seattle         NaN\n",
       "98194         Seattle         NaN\n",
       "98129         Seattle         NaN\n",
       "98170         Seattle         NaN\n",
       "98181         Seattle         NaN\n",
       "98185         Seattle         NaN\n",
       "98189         Seattle         NaN\n",
       "98190         Seattle         NaN\n",
       "98191         Seattle         NaN"
      ]
     },
     "execution_count": 109,
     "metadata": {},
     "output_type": "execute_result"
    }
   ],
   "source": [
    "# reading in Zip/Neighborhood/Population dataset\n",
    "df_zip = pd.read_csv('data/kc_zipcode_details.csv', index_col=0)\n",
    "df_zip.tail(55)"
   ]
  },
  {
   "cell_type": "code",
   "execution_count": 110,
   "metadata": {},
   "outputs": [
    {
     "data": {
      "text/plain": [
       "88"
      ]
     },
     "execution_count": 110,
     "metadata": {},
     "output_type": "execute_result"
    }
   ],
   "source": [
    "df.Zipcode.nunique()"
   ]
  },
  {
   "cell_type": "code",
   "execution_count": 111,
   "metadata": {},
   "outputs": [],
   "source": [
    "# changing index name to match other dataset\n",
    "df_zip.index.names = ['Zipcode']"
   ]
  },
  {
   "cell_type": "code",
   "execution_count": 112,
   "metadata": {},
   "outputs": [
    {
     "data": {
      "text/html": [
       "<div>\n",
       "<style scoped>\n",
       "    .dataframe tbody tr th:only-of-type {\n",
       "        vertical-align: middle;\n",
       "    }\n",
       "\n",
       "    .dataframe tbody tr th {\n",
       "        vertical-align: top;\n",
       "    }\n",
       "\n",
       "    .dataframe thead th {\n",
       "        text-align: right;\n",
       "    }\n",
       "</style>\n",
       "<table border=\"1\" class=\"dataframe\">\n",
       "  <thead>\n",
       "    <tr style=\"text-align: right;\">\n",
       "      <th></th>\n",
       "      <th>Zipcode</th>\n",
       "      <th>Neighborhood</th>\n",
       "      <th>Population</th>\n",
       "    </tr>\n",
       "  </thead>\n",
       "  <tbody>\n",
       "    <tr>\n",
       "      <th>0</th>\n",
       "      <td>98001</td>\n",
       "      <td>Auburn</td>\n",
       "      <td>31911.0</td>\n",
       "    </tr>\n",
       "    <tr>\n",
       "      <th>1</th>\n",
       "      <td>98002</td>\n",
       "      <td>Auburn</td>\n",
       "      <td>31647.0</td>\n",
       "    </tr>\n",
       "    <tr>\n",
       "      <th>2</th>\n",
       "      <td>98003</td>\n",
       "      <td>Federal Way</td>\n",
       "      <td>44151.0</td>\n",
       "    </tr>\n",
       "    <tr>\n",
       "      <th>3</th>\n",
       "      <td>98004</td>\n",
       "      <td>Bellevue</td>\n",
       "      <td>27946.0</td>\n",
       "    </tr>\n",
       "    <tr>\n",
       "      <th>4</th>\n",
       "      <td>98005</td>\n",
       "      <td>Bellevue</td>\n",
       "      <td>17714.0</td>\n",
       "    </tr>\n",
       "  </tbody>\n",
       "</table>\n",
       "</div>"
      ],
      "text/plain": [
       "   Zipcode Neighborhood  Population\n",
       "0    98001       Auburn     31911.0\n",
       "1    98002       Auburn     31647.0\n",
       "2    98003  Federal Way     44151.0\n",
       "3    98004     Bellevue     27946.0\n",
       "4    98005     Bellevue     17714.0"
      ]
     },
     "execution_count": 112,
     "metadata": {},
     "output_type": "execute_result"
    }
   ],
   "source": [
    "df_zip.reset_index(inplace=True)\n",
    "df_zip.head()"
   ]
  },
  {
   "cell_type": "code",
   "execution_count": 113,
   "metadata": {},
   "outputs": [
    {
     "data": {
      "text/plain": [
       "<AxesSubplot:>"
      ]
     },
     "execution_count": 113,
     "metadata": {},
     "output_type": "execute_result"
    },
    {
     "data": {
      "image/png": "[encoded data removed]",
      "text/plain": [
       "<Figure size 432x288 with 1 Axes>"
      ]
     },
     "metadata": {
      "needs_background": "light"
     },
     "output_type": "display_data"
    }
   ],
   "source": [
    "# Outliers\n",
    "df_zip['Zipcode'].hist()"
   ]
  },
  {
   "cell_type": "code",
   "execution_count": 114,
   "metadata": {},
   "outputs": [],
   "source": [
    "# # controlling for outliers\n",
    "# df_zip = df_zip.loc[(df_zip['Zipcode'] > 98000) & (df_zip['Zipcode'] <= 98288)]"
   ]
  },
  {
   "cell_type": "code",
   "execution_count": 115,
   "metadata": {},
   "outputs": [
    {
     "data": {
      "text/plain": [
       "Zipcode         128\n",
       "Neighborhood     38\n",
       "Population       85\n",
       "dtype: int64"
      ]
     },
     "execution_count": 115,
     "metadata": {},
     "output_type": "execute_result"
    }
   ],
   "source": [
    "df_zip.nunique()"
   ]
  },
  {
   "cell_type": "code",
   "execution_count": 116,
   "metadata": {
    "scrolled": true
   },
   "outputs": [
    {
     "data": {
      "text/plain": [
       "128"
      ]
     },
     "execution_count": 116,
     "metadata": {},
     "output_type": "execute_result"
    }
   ],
   "source": [
    "df_zip['Zipcode'].nunique()"
   ]
  },
  {
   "cell_type": "markdown",
   "metadata": {},
   "source": [
    "### Renaming Selldate"
   ]
  },
  {
   "cell_type": "code",
   "execution_count": 117,
   "metadata": {},
   "outputs": [],
   "source": [
    "# renaming date to selldate\n",
    "rnmdate = {'date':'selldate'}\n",
    "df.rename(columns=rnmdate, inplace=True)"
   ]
  },
  {
   "cell_type": "markdown",
   "metadata": {},
   "source": [
    "## Engineering Yr_Old"
   ]
  },
  {
   "cell_type": "code",
   "execution_count": 118,
   "metadata": {},
   "outputs": [],
   "source": [
    "# creating a year old column\n",
    "df['yr_old'] = np.where(df['yr_renovated'] !=0,df.selldate.apply(lambda x: x.year) - df['yr_renovated'],\n",
    "                        df['selldate'].apply(lambda x: x.year) - df['yr_built'])"
   ]
  },
  {
   "cell_type": "code",
   "execution_count": 119,
   "metadata": {},
   "outputs": [
    {
     "data": {
      "text/html": [
       "<div>\n",
       "<style scoped>\n",
       "    .dataframe tbody tr th:only-of-type {\n",
       "        vertical-align: middle;\n",
       "    }\n",
       "\n",
       "    .dataframe tbody tr th {\n",
       "        vertical-align: top;\n",
       "    }\n",
       "\n",
       "    .dataframe thead th {\n",
       "        text-align: right;\n",
       "    }\n",
       "</style>\n",
       "<table border=\"1\" class=\"dataframe\">\n",
       "  <thead>\n",
       "    <tr style=\"text-align: right;\">\n",
       "      <th></th>\n",
       "      <th>price</th>\n",
       "      <th>bedrooms</th>\n",
       "      <th>bathrooms</th>\n",
       "      <th>sqft_living</th>\n",
       "      <th>sqft_lot</th>\n",
       "      <th>floors</th>\n",
       "      <th>sqft_above</th>\n",
       "      <th>sqft_basement</th>\n",
       "      <th>sqft_garage</th>\n",
       "      <th>sqft_patio</th>\n",
       "      <th>yr_built</th>\n",
       "      <th>yr_renovated</th>\n",
       "      <th>lat</th>\n",
       "      <th>long</th>\n",
       "      <th>Zipcode</th>\n",
       "      <th>yr_old</th>\n",
       "    </tr>\n",
       "  </thead>\n",
       "  <tbody>\n",
       "    <tr>\n",
       "      <th>count</th>\n",
       "      <td>2.924100e+04</td>\n",
       "      <td>29241.000000</td>\n",
       "      <td>29241.000000</td>\n",
       "      <td>29241.000000</td>\n",
       "      <td>2.924100e+04</td>\n",
       "      <td>29241.000000</td>\n",
       "      <td>29241.000000</td>\n",
       "      <td>29241.000000</td>\n",
       "      <td>29241.000000</td>\n",
       "      <td>29241.000000</td>\n",
       "      <td>29241.000000</td>\n",
       "      <td>29241.000000</td>\n",
       "      <td>29241.000000</td>\n",
       "      <td>29241.000000</td>\n",
       "      <td>29241.000000</td>\n",
       "      <td>29241.000000</td>\n",
       "    </tr>\n",
       "    <tr>\n",
       "      <th>mean</th>\n",
       "      <td>1.112620e+06</td>\n",
       "      <td>3.435040</td>\n",
       "      <td>2.332239</td>\n",
       "      <td>2130.756643</td>\n",
       "      <td>1.719192e+04</td>\n",
       "      <td>1.517151</td>\n",
       "      <td>1825.820423</td>\n",
       "      <td>480.763654</td>\n",
       "      <td>336.275811</td>\n",
       "      <td>216.363599</td>\n",
       "      <td>1973.878458</td>\n",
       "      <td>93.764304</td>\n",
       "      <td>47.543109</td>\n",
       "      <td>-122.214209</td>\n",
       "      <td>98077.684826</td>\n",
       "      <td>44.741698</td>\n",
       "    </tr>\n",
       "    <tr>\n",
       "      <th>std</th>\n",
       "      <td>8.953389e+05</td>\n",
       "      <td>0.978861</td>\n",
       "      <td>0.895780</td>\n",
       "      <td>977.344954</td>\n",
       "      <td>6.125879e+04</td>\n",
       "      <td>0.548585</td>\n",
       "      <td>880.729276</td>\n",
       "      <td>585.935636</td>\n",
       "      <td>286.199465</td>\n",
       "      <td>246.749571</td>\n",
       "      <td>31.684861</td>\n",
       "      <td>422.616958</td>\n",
       "      <td>0.147563</td>\n",
       "      <td>0.143653</td>\n",
       "      <td>55.267033</td>\n",
       "      <td>31.007476</td>\n",
       "    </tr>\n",
       "    <tr>\n",
       "      <th>min</th>\n",
       "      <td>2.736000e+04</td>\n",
       "      <td>0.000000</td>\n",
       "      <td>0.000000</td>\n",
       "      <td>3.000000</td>\n",
       "      <td>4.020000e+02</td>\n",
       "      <td>1.000000</td>\n",
       "      <td>2.000000</td>\n",
       "      <td>0.000000</td>\n",
       "      <td>0.000000</td>\n",
       "      <td>0.000000</td>\n",
       "      <td>1900.000000</td>\n",
       "      <td>0.000000</td>\n",
       "      <td>45.636797</td>\n",
       "      <td>-122.666021</td>\n",
       "      <td>98001.000000</td>\n",
       "      <td>-1.000000</td>\n",
       "    </tr>\n",
       "    <tr>\n",
       "      <th>25%</th>\n",
       "      <td>6.450000e+05</td>\n",
       "      <td>3.000000</td>\n",
       "      <td>2.000000</td>\n",
       "      <td>1440.000000</td>\n",
       "      <td>5.000000e+03</td>\n",
       "      <td>1.000000</td>\n",
       "      <td>1190.000000</td>\n",
       "      <td>0.000000</td>\n",
       "      <td>0.000000</td>\n",
       "      <td>40.000000</td>\n",
       "      <td>1952.000000</td>\n",
       "      <td>0.000000</td>\n",
       "      <td>47.430065</td>\n",
       "      <td>-122.328290</td>\n",
       "      <td>98032.000000</td>\n",
       "      <td>18.000000</td>\n",
       "    </tr>\n",
       "    <tr>\n",
       "      <th>50%</th>\n",
       "      <td>8.670000e+05</td>\n",
       "      <td>3.000000</td>\n",
       "      <td>2.500000</td>\n",
       "      <td>1940.000000</td>\n",
       "      <td>7.560000e+03</td>\n",
       "      <td>1.500000</td>\n",
       "      <td>1580.000000</td>\n",
       "      <td>0.000000</td>\n",
       "      <td>400.000000</td>\n",
       "      <td>142.000000</td>\n",
       "      <td>1976.000000</td>\n",
       "      <td>0.000000</td>\n",
       "      <td>47.557680</td>\n",
       "      <td>-122.234070</td>\n",
       "      <td>98059.000000</td>\n",
       "      <td>43.000000</td>\n",
       "    </tr>\n",
       "    <tr>\n",
       "      <th>75%</th>\n",
       "      <td>1.310000e+06</td>\n",
       "      <td>4.000000</td>\n",
       "      <td>3.000000</td>\n",
       "      <td>2640.000000</td>\n",
       "      <td>1.078000e+04</td>\n",
       "      <td>2.000000</td>\n",
       "      <td>2290.000000</td>\n",
       "      <td>960.000000</td>\n",
       "      <td>510.000000</td>\n",
       "      <td>310.000000</td>\n",
       "      <td>2001.000000</td>\n",
       "      <td>0.000000</td>\n",
       "      <td>47.672045</td>\n",
       "      <td>-122.127475</td>\n",
       "      <td>98117.000000</td>\n",
       "      <td>66.000000</td>\n",
       "    </tr>\n",
       "    <tr>\n",
       "      <th>max</th>\n",
       "      <td>3.075000e+07</td>\n",
       "      <td>13.000000</td>\n",
       "      <td>10.500000</td>\n",
       "      <td>15360.000000</td>\n",
       "      <td>3.253932e+06</td>\n",
       "      <td>4.000000</td>\n",
       "      <td>12660.000000</td>\n",
       "      <td>8020.000000</td>\n",
       "      <td>3580.000000</td>\n",
       "      <td>4370.000000</td>\n",
       "      <td>2022.000000</td>\n",
       "      <td>2022.000000</td>\n",
       "      <td>48.111504</td>\n",
       "      <td>-121.163960</td>\n",
       "      <td>98663.000000</td>\n",
       "      <td>122.000000</td>\n",
       "    </tr>\n",
       "  </tbody>\n",
       "</table>\n",
       "</div>"
      ],
      "text/plain": [
       "              price      bedrooms     bathrooms   sqft_living      sqft_lot  \\\n",
       "count  2.924100e+04  29241.000000  29241.000000  29241.000000  2.924100e+04   \n",
       "mean   1.112620e+06      3.435040      2.332239   2130.756643  1.719192e+04   \n",
       "std    8.953389e+05      0.978861      0.895780    977.344954  6.125879e+04   \n",
       "min    2.736000e+04      0.000000      0.000000      3.000000  4.020000e+02   \n",
       "25%    6.450000e+05      3.000000      2.000000   1440.000000  5.000000e+03   \n",
       "50%    8.670000e+05      3.000000      2.500000   1940.000000  7.560000e+03   \n",
       "75%    1.310000e+06      4.000000      3.000000   2640.000000  1.078000e+04   \n",
       "max    3.075000e+07     13.000000     10.500000  15360.000000  3.253932e+06   \n",
       "\n",
       "             floors    sqft_above  sqft_basement   sqft_garage    sqft_patio  \\\n",
       "count  29241.000000  29241.000000   29241.000000  29241.000000  29241.000000   \n",
       "mean       1.517151   1825.820423     480.763654    336.275811    216.363599   \n",
       "std        0.548585    880.729276     585.935636    286.199465    246.749571   \n",
       "min        1.000000      2.000000       0.000000      0.000000      0.000000   \n",
       "25%        1.000000   1190.000000       0.000000      0.000000     40.000000   \n",
       "50%        1.500000   1580.000000       0.000000    400.000000    142.000000   \n",
       "75%        2.000000   2290.000000     960.000000    510.000000    310.000000   \n",
       "max        4.000000  12660.000000    8020.000000   3580.000000   4370.000000   \n",
       "\n",
       "           yr_built  yr_renovated           lat          long       Zipcode  \\\n",
       "count  29241.000000  29241.000000  29241.000000  29241.000000  29241.000000   \n",
       "mean    1973.878458     93.764304     47.543109   -122.214209  98077.684826   \n",
       "std       31.684861    422.616958      0.147563      0.143653     55.267033   \n",
       "min     1900.000000      0.000000     45.636797   -122.666021  98001.000000   \n",
       "25%     1952.000000      0.000000     47.430065   -122.328290  98032.000000   \n",
       "50%     1976.000000      0.000000     47.557680   -122.234070  98059.000000   \n",
       "75%     2001.000000      0.000000     47.672045   -122.127475  98117.000000   \n",
       "max     2022.000000   2022.000000     48.111504   -121.163960  98663.000000   \n",
       "\n",
       "             yr_old  \n",
       "count  29241.000000  \n",
       "mean      44.741698  \n",
       "std       31.007476  \n",
       "min       -1.000000  \n",
       "25%       18.000000  \n",
       "50%       43.000000  \n",
       "75%       66.000000  \n",
       "max      122.000000  "
      ]
     },
     "execution_count": 119,
     "metadata": {},
     "output_type": "execute_result"
    }
   ],
   "source": [
    "df.describe()"
   ]
  },
  {
   "cell_type": "code",
   "execution_count": 120,
   "metadata": {},
   "outputs": [],
   "source": [
    "# controlling for dates where house was sold after renovation\n",
    "df.loc[df['yr_old'] < 0, 'yr_old'] = 0"
   ]
  },
  {
   "cell_type": "code",
   "execution_count": 121,
   "metadata": {},
   "outputs": [
    {
     "data": {
      "text/plain": [
       "0      1368\n",
       "1       664\n",
       "44      504\n",
       "54      478\n",
       "16      468\n",
       "       ... \n",
       "89       32\n",
       "87       31\n",
       "119      30\n",
       "88       30\n",
       "120      27\n",
       "Name: yr_old, Length: 123, dtype: int64"
      ]
     },
     "execution_count": 121,
     "metadata": {},
     "output_type": "execute_result"
    }
   ],
   "source": [
    "df.yr_old.value_counts()"
   ]
  },
  {
   "cell_type": "markdown",
   "metadata": {},
   "source": [
    "### Data Cleaning"
   ]
  },
  {
   "cell_type": "code",
   "execution_count": 122,
   "metadata": {},
   "outputs": [
    {
     "data": {
      "text/plain": [
       "selldate         0.000000\n",
       "price            0.000000\n",
       "bedrooms         0.000000\n",
       "bathrooms        0.000000\n",
       "sqft_living      0.000000\n",
       "sqft_lot         0.000000\n",
       "floors           0.000000\n",
       "waterfront       0.000000\n",
       "greenbelt        0.000000\n",
       "nuisance         0.000000\n",
       "view             0.000000\n",
       "condition        0.000000\n",
       "grade            0.000000\n",
       "heat_source      0.001026\n",
       "sewer_system     0.000445\n",
       "sqft_above       0.000000\n",
       "sqft_basement    0.000000\n",
       "sqft_garage      0.000000\n",
       "sqft_patio       0.000000\n",
       "yr_built         0.000000\n",
       "yr_renovated     0.000000\n",
       "address          0.000000\n",
       "lat              0.000000\n",
       "long             0.000000\n",
       "Zipcode          0.000000\n",
       "yr_old           0.000000\n",
       "dtype: float64"
      ]
     },
     "execution_count": 122,
     "metadata": {},
     "output_type": "execute_result"
    }
   ],
   "source": [
    "# identifying missing values \n",
    "df.isna().sum()/df.shape[0]"
   ]
  },
  {
   "cell_type": "code",
   "execution_count": 123,
   "metadata": {},
   "outputs": [],
   "source": [
    "# remove missing values in columns\n",
    "df.dropna(subset=['heat_source', 'sewer_system'], axis=0, inplace=True)"
   ]
  },
  {
   "cell_type": "code",
   "execution_count": 124,
   "metadata": {},
   "outputs": [
    {
     "data": {
      "text/plain": [
       "Zipcode         0.000000\n",
       "Neighborhood    0.000000\n",
       "Population      0.001438\n",
       "dtype: float64"
      ]
     },
     "execution_count": 124,
     "metadata": {},
     "output_type": "execute_result"
    }
   ],
   "source": [
    "# identify missing values in zip code data\n",
    "df_zip.isna().sum()/df.shape[0]"
   ]
  },
  {
   "cell_type": "code",
   "execution_count": 125,
   "metadata": {},
   "outputs": [],
   "source": [
    "df_zip.dropna(subset=['Population'], axis=0, inplace=True)"
   ]
  },
  {
   "cell_type": "markdown",
   "metadata": {},
   "source": [
    "## Merge on zipcode to include neighborhood/population\n",
    "# section_2"
   ]
  },
  {
   "cell_type": "markdown",
   "metadata": {},
   "source": [
    "[section_1](#section_1)\n",
    "[section_3](#section_3)   "
   ]
  },
  {
   "cell_type": "code",
   "execution_count": 126,
   "metadata": {},
   "outputs": [],
   "source": [
    "df1 = df.merge(df_zip, how='left', on='Zipcode')"
   ]
  },
  {
   "cell_type": "code",
   "execution_count": 127,
   "metadata": {},
   "outputs": [
    {
     "name": "stdout",
     "output_type": "stream",
     "text": [
      "<class 'pandas.core.frame.DataFrame'>\n",
      "Int64Index: 29200 entries, 0 to 29199\n",
      "Data columns (total 28 columns):\n",
      " #   Column         Non-Null Count  Dtype         \n",
      "---  ------         --------------  -----         \n",
      " 0   selldate       29200 non-null  datetime64[ns]\n",
      " 1   price          29200 non-null  float64       \n",
      " 2   bedrooms       29200 non-null  int64         \n",
      " 3   bathrooms      29200 non-null  float64       \n",
      " 4   sqft_living    29200 non-null  int64         \n",
      " 5   sqft_lot       29200 non-null  int64         \n",
      " 6   floors         29200 non-null  float64       \n",
      " 7   waterfront     29200 non-null  object        \n",
      " 8   greenbelt      29200 non-null  object        \n",
      " 9   nuisance       29200 non-null  object        \n",
      " 10  view           29200 non-null  object        \n",
      " 11  condition      29200 non-null  object        \n",
      " 12  grade          29200 non-null  object        \n",
      " 13  heat_source    29200 non-null  object        \n",
      " 14  sewer_system   29200 non-null  object        \n",
      " 15  sqft_above     29200 non-null  int64         \n",
      " 16  sqft_basement  29200 non-null  int64         \n",
      " 17  sqft_garage    29200 non-null  int64         \n",
      " 18  sqft_patio     29200 non-null  int64         \n",
      " 19  yr_built       29200 non-null  int64         \n",
      " 20  yr_renovated   29200 non-null  int64         \n",
      " 21  address        29200 non-null  object        \n",
      " 22  lat            29200 non-null  float64       \n",
      " 23  long           29200 non-null  float64       \n",
      " 24  Zipcode        29200 non-null  int64         \n",
      " 25  yr_old         29200 non-null  int64         \n",
      " 26  Neighborhood   29175 non-null  object        \n",
      " 27  Population     29175 non-null  float64       \n",
      "dtypes: datetime64[ns](1), float64(6), int64(11), object(10)\n",
      "memory usage: 6.5+ MB\n"
     ]
    }
   ],
   "source": [
    "df1.info()"
   ]
  },
  {
   "cell_type": "code",
   "execution_count": 128,
   "metadata": {},
   "outputs": [
    {
     "data": {
      "text/plain": [
       "selldate         0.000000\n",
       "price            0.000000\n",
       "bedrooms         0.000000\n",
       "bathrooms        0.000000\n",
       "sqft_living      0.000000\n",
       "sqft_lot         0.000000\n",
       "floors           0.000000\n",
       "waterfront       0.000000\n",
       "greenbelt        0.000000\n",
       "nuisance         0.000000\n",
       "view             0.000000\n",
       "condition        0.000000\n",
       "grade            0.000000\n",
       "heat_source      0.000000\n",
       "sewer_system     0.000000\n",
       "sqft_above       0.000000\n",
       "sqft_basement    0.000000\n",
       "sqft_garage      0.000000\n",
       "sqft_patio       0.000000\n",
       "yr_built         0.000000\n",
       "yr_renovated     0.000000\n",
       "address          0.000000\n",
       "lat              0.000000\n",
       "long             0.000000\n",
       "Zipcode          0.000000\n",
       "yr_old           0.000000\n",
       "Neighborhood     0.000856\n",
       "Population       0.000856\n",
       "dtype: float64"
      ]
     },
     "execution_count": 128,
     "metadata": {},
     "output_type": "execute_result"
    }
   ],
   "source": [
    "# identify missing data in new dataset\n",
    "df1.isna().sum()/df.shape[0]"
   ]
  },
  {
   "cell_type": "code",
   "execution_count": 129,
   "metadata": {},
   "outputs": [],
   "source": [
    "df1.dropna(subset=['Population', 'Neighborhood'], axis=0, inplace=True)"
   ]
  },
  {
   "cell_type": "code",
   "execution_count": 130,
   "metadata": {},
   "outputs": [
    {
     "name": "stdout",
     "output_type": "stream",
     "text": [
      "<class 'pandas.core.frame.DataFrame'>\n",
      "Int64Index: 29175 entries, 0 to 29199\n",
      "Data columns (total 28 columns):\n",
      " #   Column         Non-Null Count  Dtype         \n",
      "---  ------         --------------  -----         \n",
      " 0   selldate       29175 non-null  datetime64[ns]\n",
      " 1   price          29175 non-null  float64       \n",
      " 2   bedrooms       29175 non-null  int64         \n",
      " 3   bathrooms      29175 non-null  float64       \n",
      " 4   sqft_living    29175 non-null  int64         \n",
      " 5   sqft_lot       29175 non-null  int64         \n",
      " 6   floors         29175 non-null  float64       \n",
      " 7   waterfront     29175 non-null  object        \n",
      " 8   greenbelt      29175 non-null  object        \n",
      " 9   nuisance       29175 non-null  object        \n",
      " 10  view           29175 non-null  object        \n",
      " 11  condition      29175 non-null  object        \n",
      " 12  grade          29175 non-null  object        \n",
      " 13  heat_source    29175 non-null  object        \n",
      " 14  sewer_system   29175 non-null  object        \n",
      " 15  sqft_above     29175 non-null  int64         \n",
      " 16  sqft_basement  29175 non-null  int64         \n",
      " 17  sqft_garage    29175 non-null  int64         \n",
      " 18  sqft_patio     29175 non-null  int64         \n",
      " 19  yr_built       29175 non-null  int64         \n",
      " 20  yr_renovated   29175 non-null  int64         \n",
      " 21  address        29175 non-null  object        \n",
      " 22  lat            29175 non-null  float64       \n",
      " 23  long           29175 non-null  float64       \n",
      " 24  Zipcode        29175 non-null  int64         \n",
      " 25  yr_old         29175 non-null  int64         \n",
      " 26  Neighborhood   29175 non-null  object        \n",
      " 27  Population     29175 non-null  float64       \n",
      "dtypes: datetime64[ns](1), float64(6), int64(11), object(10)\n",
      "memory usage: 6.5+ MB\n"
     ]
    }
   ],
   "source": [
    "df1.info()"
   ]
  },
  {
   "cell_type": "code",
   "execution_count": 131,
   "metadata": {
    "scrolled": true
   },
   "outputs": [
    {
     "data": {
      "text/plain": [
       "selldate         0.0\n",
       "price            0.0\n",
       "bedrooms         0.0\n",
       "bathrooms        0.0\n",
       "sqft_living      0.0\n",
       "sqft_lot         0.0\n",
       "floors           0.0\n",
       "waterfront       0.0\n",
       "greenbelt        0.0\n",
       "nuisance         0.0\n",
       "view             0.0\n",
       "condition        0.0\n",
       "grade            0.0\n",
       "heat_source      0.0\n",
       "sewer_system     0.0\n",
       "sqft_above       0.0\n",
       "sqft_basement    0.0\n",
       "sqft_garage      0.0\n",
       "sqft_patio       0.0\n",
       "yr_built         0.0\n",
       "yr_renovated     0.0\n",
       "address          0.0\n",
       "lat              0.0\n",
       "long             0.0\n",
       "Zipcode          0.0\n",
       "yr_old           0.0\n",
       "Neighborhood     0.0\n",
       "Population       0.0\n",
       "dtype: float64"
      ]
     },
     "execution_count": 131,
     "metadata": {},
     "output_type": "execute_result"
    }
   ],
   "source": [
    "# no NA/missing values in merged dataset\n",
    "df1.isna().sum()/df1.shape[0]"
   ]
  },
  {
   "cell_type": "markdown",
   "metadata": {},
   "source": [
    "## Protected\n",
    "\n",
    "The code below was a failed attempt to establish a protected/unprotected feature that would include only homes contained in a greenbelt that likely had some watershed/wildlife/environmental nuisance protection.  It was not correlated with price, nor large enough to be a predictor.  "
   ]
  },
  {
   "cell_type": "code",
   "execution_count": 132,
   "metadata": {},
   "outputs": [],
   "source": [
    "# df1.loc[(df1['nuisance'] == 'YES') & (df1['greenbelt'] == 'YES'), 'protected'] = 'protected'\n",
    "# df1.loc[(df1['nuisance'] != 'YES') | (df1['greenbelt'] != 'YES'), 'protected'] = 'unprotected'"
   ]
  },
  {
   "cell_type": "code",
   "execution_count": 133,
   "metadata": {},
   "outputs": [],
   "source": [
    "# df1['protected']"
   ]
  },
  {
   "cell_type": "code",
   "execution_count": 134,
   "metadata": {},
   "outputs": [],
   "source": [
    "# df1['protected'].value_counts() "
   ]
  },
  {
   "cell_type": "code",
   "execution_count": null,
   "metadata": {},
   "outputs": [],
   "source": []
  },
  {
   "cell_type": "markdown",
   "metadata": {
    "index": 33
   },
   "source": [
    "HomeSales \n",
    "standard scaling allows you to find coefficients. \n",
    "Be sure to include metric - r squared - to describe overall model performance.  \n",
    "collineriety \n",
    "log scalling\n",
    "remove outliers.  \n",
    "Increase r squared. \n",
    "\n",
    "\n",
    "1. run model\n",
    "2. see improvements, clean/feature engineer.  \n",
    "3. see coefficients becoming more accurate.\n"
   ]
  },
  {
   "cell_type": "markdown",
   "metadata": {},
   "source": [
    "## Target distribution"
   ]
  },
  {
   "cell_type": "code",
   "execution_count": 135,
   "metadata": {},
   "outputs": [
    {
     "data": {
      "text/plain": [
       "price            1.000000\n",
       "bedrooms         0.290838\n",
       "bathrooms        0.487932\n",
       "sqft_living      0.616666\n",
       "sqft_lot         0.086788\n",
       "floors           0.199866\n",
       "sqft_above       0.546010\n",
       "sqft_basement    0.246373\n",
       "sqft_garage      0.267238\n",
       "sqft_patio       0.317644\n",
       "yr_built         0.105905\n",
       "yr_renovated     0.085546\n",
       "lat              0.297701\n",
       "long             0.081589\n",
       "Zipcode         -0.106057\n",
       "yr_old          -0.138005\n",
       "Population      -0.111565\n",
       "Name: price, dtype: float64"
      ]
     },
     "execution_count": 135,
     "metadata": {},
     "output_type": "execute_result"
    }
   ],
   "source": [
    "df1.corr()['price']"
   ]
  },
  {
   "cell_type": "markdown",
   "metadata": {},
   "source": [
    "`sqft_living` is the most highly correlated feature in the baseline numeric model.  "
   ]
  },
  {
   "cell_type": "markdown",
   "metadata": {},
   "source": [
    "Price is the singular dependent variable in our model.  "
   ]
  },
  {
   "cell_type": "markdown",
   "metadata": {},
   "source": [
    "## Modeling"
   ]
  },
  {
   "cell_type": "code",
   "execution_count": 136,
   "metadata": {},
   "outputs": [],
   "source": [
    "# Creating categorical variables\n",
    "cats = df1[['waterfront','greenbelt', 'nuisance', 'view', 'condition', 'heat_source', 'sewer_system', 'Neighborhood', 'grade']]\n",
    "cats1 = df1[['selldate','price','waterfront','greenbelt', 'nuisance', 'view', 'condition', 'heat_source', 'sewer_system', 'address', 'Zipcode', 'Neighborhood', 'grade']]"
   ]
  },
  {
   "cell_type": "markdown",
   "metadata": {
    "index": 35
   },
   "source": [
    "### Baseline Model"
   ]
  },
  {
   "cell_type": "code",
   "execution_count": 137,
   "metadata": {},
   "outputs": [],
   "source": [
    "pred_cols = [x for x in df1.columns if x not in cats1]"
   ]
  },
  {
   "cell_type": "code",
   "execution_count": 138,
   "metadata": {},
   "outputs": [
    {
     "data": {
      "text/plain": [
       "['bedrooms',\n",
       " 'bathrooms',\n",
       " 'sqft_living',\n",
       " 'sqft_lot',\n",
       " 'floors',\n",
       " 'sqft_above',\n",
       " 'sqft_basement',\n",
       " 'sqft_garage',\n",
       " 'sqft_patio',\n",
       " 'yr_built',\n",
       " 'yr_renovated',\n",
       " 'lat',\n",
       " 'long',\n",
       " 'yr_old',\n",
       " 'Population']"
      ]
     },
     "execution_count": 138,
     "metadata": {},
     "output_type": "execute_result"
    }
   ],
   "source": [
    "pred_cols"
   ]
  },
  {
   "cell_type": "code",
   "execution_count": 139,
   "metadata": {},
   "outputs": [],
   "source": [
    "# create baseline model\n",
    "preds = df1[pred_cols]\n",
    "target = df1['price']"
   ]
  },
  {
   "cell_type": "code",
   "execution_count": 140,
   "metadata": {},
   "outputs": [],
   "source": [
    "y = target\n",
    "X = preds\n",
    "model = sm.OLS(y, sm.add_constant(X))\n",
    "results = model.fit()"
   ]
  },
  {
   "cell_type": "code",
   "execution_count": 141,
   "metadata": {},
   "outputs": [
    {
     "data": {
      "text/html": [
       "<table class=\"simpletable\">\n",
       "<caption>OLS Regression Results</caption>\n",
       "<tr>\n",
       "  <th>Dep. Variable:</th>          <td>price</td>      <th>  R-squared:         </th>  <td>   0.486</td>  \n",
       "</tr>\n",
       "<tr>\n",
       "  <th>Model:</th>                   <td>OLS</td>       <th>  Adj. R-squared:    </th>  <td>   0.486</td>  \n",
       "</tr>\n",
       "<tr>\n",
       "  <th>Method:</th>             <td>Least Squares</td>  <th>  F-statistic:       </th>  <td>   1837.</td>  \n",
       "</tr>\n",
       "<tr>\n",
       "  <th>Date:</th>             <td>Sat, 24 Sep 2022</td> <th>  Prob (F-statistic):</th>   <td>  0.00</td>   \n",
       "</tr>\n",
       "<tr>\n",
       "  <th>Time:</th>                 <td>09:04:39</td>     <th>  Log-Likelihood:    </th> <td>-4.3154e+05</td>\n",
       "</tr>\n",
       "<tr>\n",
       "  <th>No. Observations:</th>      <td> 29175</td>      <th>  AIC:               </th>  <td>8.631e+05</td> \n",
       "</tr>\n",
       "<tr>\n",
       "  <th>Df Residuals:</th>          <td> 29159</td>      <th>  BIC:               </th>  <td>8.633e+05</td> \n",
       "</tr>\n",
       "<tr>\n",
       "  <th>Df Model:</th>              <td>    15</td>      <th>                     </th>      <td> </td>     \n",
       "</tr>\n",
       "<tr>\n",
       "  <th>Covariance Type:</th>      <td>nonrobust</td>    <th>                     </th>      <td> </td>     \n",
       "</tr>\n",
       "</table>\n",
       "<table class=\"simpletable\">\n",
       "<tr>\n",
       "        <td></td>           <th>coef</th>     <th>std err</th>      <th>t</th>      <th>P>|t|</th>  <th>[0.025</th>    <th>0.975]</th>  \n",
       "</tr>\n",
       "<tr>\n",
       "  <th>const</th>         <td>-9.986e+07</td> <td> 4.33e+06</td> <td>  -23.040</td> <td> 0.000</td> <td>-1.08e+08</td> <td>-9.14e+07</td>\n",
       "</tr>\n",
       "<tr>\n",
       "  <th>bedrooms</th>      <td>-1.352e+05</td> <td> 5206.837</td> <td>  -25.965</td> <td> 0.000</td> <td>-1.45e+05</td> <td>-1.25e+05</td>\n",
       "</tr>\n",
       "<tr>\n",
       "  <th>bathrooms</th>     <td> 1.169e+05</td> <td> 7690.091</td> <td>   15.206</td> <td> 0.000</td> <td> 1.02e+05</td> <td> 1.32e+05</td>\n",
       "</tr>\n",
       "<tr>\n",
       "  <th>sqft_living</th>   <td>  327.6509</td> <td>   17.226</td> <td>   19.020</td> <td> 0.000</td> <td>  293.886</td> <td>  361.416</td>\n",
       "</tr>\n",
       "<tr>\n",
       "  <th>sqft_lot</th>      <td>    0.1726</td> <td>    0.064</td> <td>    2.683</td> <td> 0.007</td> <td>    0.046</td> <td>    0.299</td>\n",
       "</tr>\n",
       "<tr>\n",
       "  <th>floors</th>        <td>-9.947e+04</td> <td> 9789.703</td> <td>  -10.161</td> <td> 0.000</td> <td>-1.19e+05</td> <td>-8.03e+04</td>\n",
       "</tr>\n",
       "<tr>\n",
       "  <th>sqft_above</th>    <td>  291.6558</td> <td>   17.598</td> <td>   16.573</td> <td> 0.000</td> <td>  257.163</td> <td>  326.148</td>\n",
       "</tr>\n",
       "<tr>\n",
       "  <th>sqft_basement</th> <td>   77.9615</td> <td>   13.081</td> <td>    5.960</td> <td> 0.000</td> <td>   52.322</td> <td>  103.601</td>\n",
       "</tr>\n",
       "<tr>\n",
       "  <th>sqft_garage</th>   <td>  -18.6810</td> <td>   18.413</td> <td>   -1.015</td> <td> 0.310</td> <td>  -54.772</td> <td>   17.410</td>\n",
       "</tr>\n",
       "<tr>\n",
       "  <th>sqft_patio</th>    <td>  256.8007</td> <td>   17.050</td> <td>   15.062</td> <td> 0.000</td> <td>  223.382</td> <td>  290.219</td>\n",
       "</tr>\n",
       "<tr>\n",
       "  <th>yr_built</th>      <td> 2737.4296</td> <td>  726.443</td> <td>    3.768</td> <td> 0.000</td> <td> 1313.569</td> <td> 4161.290</td>\n",
       "</tr>\n",
       "<tr>\n",
       "  <th>yr_renovated</th>  <td>  201.2677</td> <td>   22.971</td> <td>    8.762</td> <td> 0.000</td> <td>  156.243</td> <td>  246.292</td>\n",
       "</tr>\n",
       "<tr>\n",
       "  <th>lat</th>           <td> 1.561e+06</td> <td> 2.72e+04</td> <td>   57.399</td> <td> 0.000</td> <td> 1.51e+06</td> <td> 1.61e+06</td>\n",
       "</tr>\n",
       "<tr>\n",
       "  <th>long</th>          <td>-1.655e+05</td> <td>  3.2e+04</td> <td>   -5.172</td> <td> 0.000</td> <td>-2.28e+05</td> <td>-1.03e+05</td>\n",
       "</tr>\n",
       "<tr>\n",
       "  <th>yr_old</th>        <td> 4817.6011</td> <td>  730.511</td> <td>    6.595</td> <td> 0.000</td> <td> 3385.767</td> <td> 6249.435</td>\n",
       "</tr>\n",
       "<tr>\n",
       "  <th>Population</th>    <td>   -2.5603</td> <td>    0.350</td> <td>   -7.316</td> <td> 0.000</td> <td>   -3.246</td> <td>   -1.874</td>\n",
       "</tr>\n",
       "</table>\n",
       "<table class=\"simpletable\">\n",
       "<tr>\n",
       "  <th>Omnibus:</th>       <td>45339.400</td> <th>  Durbin-Watson:     </th>   <td>   1.924</td>  \n",
       "</tr>\n",
       "<tr>\n",
       "  <th>Prob(Omnibus):</th>  <td> 0.000</td>   <th>  Jarque-Bera (JB):  </th> <td>78876428.635</td>\n",
       "</tr>\n",
       "<tr>\n",
       "  <th>Skew:</th>           <td> 9.425</td>   <th>  Prob(JB):          </th>   <td>    0.00</td>  \n",
       "</tr>\n",
       "<tr>\n",
       "  <th>Kurtosis:</th>       <td>257.028</td>  <th>  Cond. No.          </th>   <td>7.35e+07</td>  \n",
       "</tr>\n",
       "</table><br/><br/>Notes:<br/>[1] Standard Errors assume that the covariance matrix of the errors is correctly specified.<br/>[2] The condition number is large, 7.35e+07. This might indicate that there are<br/>strong multicollinearity or other numerical problems."
      ],
      "text/plain": [
       "<class 'statsmodels.iolib.summary.Summary'>\n",
       "\"\"\"\n",
       "                            OLS Regression Results                            \n",
       "==============================================================================\n",
       "Dep. Variable:                  price   R-squared:                       0.486\n",
       "Model:                            OLS   Adj. R-squared:                  0.486\n",
       "Method:                 Least Squares   F-statistic:                     1837.\n",
       "Date:                Sat, 24 Sep 2022   Prob (F-statistic):               0.00\n",
       "Time:                        09:04:39   Log-Likelihood:            -4.3154e+05\n",
       "No. Observations:               29175   AIC:                         8.631e+05\n",
       "Df Residuals:                   29159   BIC:                         8.633e+05\n",
       "Df Model:                          15                                         \n",
       "Covariance Type:            nonrobust                                         \n",
       "=================================================================================\n",
       "                    coef    std err          t      P>|t|      [0.025      0.975]\n",
       "---------------------------------------------------------------------------------\n",
       "const         -9.986e+07   4.33e+06    -23.040      0.000   -1.08e+08   -9.14e+07\n",
       "bedrooms      -1.352e+05   5206.837    -25.965      0.000   -1.45e+05   -1.25e+05\n",
       "bathrooms      1.169e+05   7690.091     15.206      0.000    1.02e+05    1.32e+05\n",
       "sqft_living     327.6509     17.226     19.020      0.000     293.886     361.416\n",
       "sqft_lot          0.1726      0.064      2.683      0.007       0.046       0.299\n",
       "floors        -9.947e+04   9789.703    -10.161      0.000   -1.19e+05   -8.03e+04\n",
       "sqft_above      291.6558     17.598     16.573      0.000     257.163     326.148\n",
       "sqft_basement    77.9615     13.081      5.960      0.000      52.322     103.601\n",
       "sqft_garage     -18.6810     18.413     -1.015      0.310     -54.772      17.410\n",
       "sqft_patio      256.8007     17.050     15.062      0.000     223.382     290.219\n",
       "yr_built       2737.4296    726.443      3.768      0.000    1313.569    4161.290\n",
       "yr_renovated    201.2677     22.971      8.762      0.000     156.243     246.292\n",
       "lat            1.561e+06   2.72e+04     57.399      0.000    1.51e+06    1.61e+06\n",
       "long          -1.655e+05    3.2e+04     -5.172      0.000   -2.28e+05   -1.03e+05\n",
       "yr_old         4817.6011    730.511      6.595      0.000    3385.767    6249.435\n",
       "Population       -2.5603      0.350     -7.316      0.000      -3.246      -1.874\n",
       "==============================================================================\n",
       "Omnibus:                    45339.400   Durbin-Watson:                   1.924\n",
       "Prob(Omnibus):                  0.000   Jarque-Bera (JB):         78876428.635\n",
       "Skew:                           9.425   Prob(JB):                         0.00\n",
       "Kurtosis:                     257.028   Cond. No.                     7.35e+07\n",
       "==============================================================================\n",
       "\n",
       "Notes:\n",
       "[1] Standard Errors assume that the covariance matrix of the errors is correctly specified.\n",
       "[2] The condition number is large, 7.35e+07. This might indicate that there are\n",
       "strong multicollinearity or other numerical problems.\n",
       "\"\"\""
      ]
     },
     "execution_count": 141,
     "metadata": {},
     "output_type": "execute_result"
    }
   ],
   "source": [
    "results.summary()"
   ]
  },
  {
   "cell_type": "code",
   "execution_count": 142,
   "metadata": {},
   "outputs": [
    {
     "data": {
      "text/plain": [
       "338346.69291785813"
      ]
     },
     "execution_count": 142,
     "metadata": {},
     "output_type": "execute_result"
    }
   ],
   "source": [
    "baseline_mae = mean_absolute_error(y, results.predict(sm.add_constant(X)))\n",
    "baseline_mae"
   ]
  },
  {
   "cell_type": "markdown",
   "metadata": {},
   "source": [
    "This baseline model is limited to both discrete and continuous numeric predictors.  \n",
    "\n",
    "Based on the Mean Absolute Error ('MAE'), overall this baseline model is off by about an average of $338,488.68 for any given prediction. This calculation is the mean absolute (regardless of whether it is positve or negative) distance of all errors.   \n",
    "\n",
    "The intercept is extremely negative, at minus 9 to the 7th power.  \n",
    "\n",
    "The coefficient for `sqft_living` tells us that for each increase of square foot living space, we see an associated increase in saleprice of about $327.83 dollars.  "
   ]
  },
  {
   "cell_type": "markdown",
   "metadata": {},
   "source": [
    "## Improving upon the baseline"
   ]
  },
  {
   "cell_type": "markdown",
   "metadata": {},
   "source": [
    "## Grade - a failed attempt at making an Ordinal category numeric"
   ]
  },
  {
   "cell_type": "code",
   "execution_count": 143,
   "metadata": {},
   "outputs": [],
   "source": [
    "# df1.grade.value_counts()"
   ]
  },
  {
   "cell_type": "code",
   "execution_count": 144,
   "metadata": {},
   "outputs": [],
   "source": [
    "# df1.grade.value_counts()"
   ]
  },
  {
   "cell_type": "code",
   "execution_count": 145,
   "metadata": {},
   "outputs": [],
   "source": [
    "# # grade_map = {\n",
    "#     \"7 Average\": 7,\n",
    "#     \"8 Good\": 8,\n",
    "#     \"9 Better\": 9,\n",
    "#     \"6 Low Average\": 6,\n",
    "#     \"5 Fair\": 5,\n",
    "#     \"4 Low\": 4,\n",
    "#     \"3 Poor\": 3,\n",
    "#     \"2 Substandard\": 2,\n",
    "#     \"10 Very Good\": 10,\n",
    "#     \"11 Excellent\": 11,\n",
    "#     \"13 Mansion\": 13,\n",
    "#     \"12 Luxury\": 12,\n",
    "# }"
   ]
  },
  {
   "cell_type": "code",
   "execution_count": 146,
   "metadata": {},
   "outputs": [],
   "source": [
    "# df1.grade = df1.grade.map(grade_map)"
   ]
  },
  {
   "cell_type": "code",
   "execution_count": 147,
   "metadata": {},
   "outputs": [],
   "source": [
    "# making results more model friendly \n",
    "# dum_df1.loc[dum_df1['grade'] == '2 Substandard', 'grade'] = 1\n",
    "# dum_df1.loc[dum_df1['grade'] == '3 Poor', 'grade'] = 1\n",
    "# dum_df1.loc[dum_df1['grade'] == '4 Low', 'grade'] = 1\n",
    "\n",
    "# dum_df1.loc[dum_df1['grade'] == '5 Fair', 'grade'] = 2\n",
    "# dum_df1.loc[dum_df1['grade'] == '6 Low Average', 'grade'] = 2\n",
    "# dum_df1.loc[dum_df1['grade'] == '7 Average', 'grade'] = 2\n",
    "\n",
    "# dum_df1.loc[dum_df1['grade'] == '8 Good', 'grade'] = 3\n",
    "# dum_df1.loc[dum_df1['grade'] == '9 Better', 'grade'] = 3\n",
    "# dum_df1.loc[dum_df1['grade'] == '10 Very Good', 'grade'] = 3\n",
    "\n",
    "# dum_df1.loc[dum_df1['grade'] == '11 Excellent', 'grade'] = 4\n",
    "# dum_df1.loc[dum_df1['grade'] == '12 Luxury', 'grade'] = 4\n",
    "# dum_df1.loc[dum_df1['grade'] == '13 Mansion', 'grade'] = 4"
   ]
  },
  {
   "cell_type": "markdown",
   "metadata": {},
   "source": [
    "The above code, which was not used, was a brief lesson in why you do not want to force ordinal categories into continuous numeric variables, unless the values are in fact multiples of each other.    "
   ]
  },
  {
   "cell_type": "markdown",
   "metadata": {},
   "source": [
    "## Lesson"
   ]
  },
  {
   "cell_type": "markdown",
   "metadata": {},
   "source": [
    "scatter plot: visualize relationship  \n",
    "\n",
    "box plot: gives you quantile info\n",
    "\n",
    "histograms: distribution of frequencies \n",
    "\n",
    "qq plot residuals (outside of range) is "
   ]
  },
  {
   "cell_type": "code",
   "execution_count": 148,
   "metadata": {},
   "outputs": [],
   "source": [
    "# plt.boxplot(df1.price)"
   ]
  },
  {
   "cell_type": "code",
   "execution_count": null,
   "metadata": {},
   "outputs": [],
   "source": []
  },
  {
   "cell_type": "code",
   "execution_count": 149,
   "metadata": {},
   "outputs": [],
   "source": [
    "# sns.heatmap(X.corr())"
   ]
  },
  {
   "cell_type": "markdown",
   "metadata": {},
   "source": [
    "## Discrete numeric predictors "
   ]
  },
  {
   "cell_type": "code",
   "execution_count": 150,
   "metadata": {},
   "outputs": [
    {
     "data": {
      "text/plain": [
       "<AxesSubplot:xlabel='bedrooms', ylabel='price'>"
      ]
     },
     "execution_count": 150,
     "metadata": {},
     "output_type": "execute_result"
    },
    {
     "data": {
      "image/png": "[encoded data removed]",
      "text/plain": [
       "<Figure size 864x360 with 2 Axes>"
      ]
     },
     "metadata": {
      "needs_background": "light"
     },
     "output_type": "display_data"
    }
   ],
   "source": [
    "fig, (ax1, ax2) = plt.subplots (ncols=2, figsize = (12, 5))\n",
    "df1.plot.scatter(x='bathrooms', y='price', ax=ax1)\n",
    "df1.plot.scatter(x='bedrooms', y='price', ax=ax2)"
   ]
  },
  {
   "cell_type": "code",
   "execution_count": 151,
   "metadata": {},
   "outputs": [
    {
     "data": {
      "text/plain": [
       "<AxesSubplot:xlabel='bathrooms', ylabel='Density'>"
      ]
     },
     "execution_count": 151,
     "metadata": {},
     "output_type": "execute_result"
    },
    {
     "data": {
      "image/png": "[encoded data removed]",
      "text/plain": [
       "<Figure size 1152x360 with 2 Axes>"
      ]
     },
     "metadata": {
      "needs_background": "light"
     },
     "output_type": "display_data"
    }
   ],
   "source": [
    "import warnings\n",
    "warnings.filterwarnings('ignore')\n",
    "plt.figure(figsize=(16,5))\n",
    "plt.subplot(1,2,1)\n",
    "sns.distplot(df1['bedrooms'])\n",
    "plt.subplot(1,2,2)\n",
    "sns.distplot(df1['bathrooms'])"
   ]
  },
  {
   "cell_type": "code",
   "execution_count": 152,
   "metadata": {},
   "outputs": [],
   "source": [
    "upper_limit = df1['bedrooms'].mean() + 3*df1['bedrooms'].std()\n",
    "lower_limit = df1['bedrooms'].mean() - 3*df1['bedrooms'].std()\n",
    "df1['bedrooms'] = np.where(df1['bedrooms'] > upper_limit, upper_limit,\n",
    "np.where(df1['bedrooms'] < lower_limit, lower_limit, df1['bedrooms']))"
   ]
  },
  {
   "cell_type": "code",
   "execution_count": 153,
   "metadata": {},
   "outputs": [],
   "source": [
    "upper_limit = df1['bathrooms'].mean() + 3*df1['bathrooms'].std()\n",
    "lower_limit = df1['bathrooms'].mean() - 3*df1['bathrooms'].std()\n",
    "\n",
    "df1['bathrooms'] = np.where(df1['bathrooms'] > upper_limit, upper_limit,\n",
    "    np.where(df1['bathrooms'] < lower_limit, lower_limit, df1['bathrooms']))"
   ]
  },
  {
   "cell_type": "code",
   "execution_count": 154,
   "metadata": {},
   "outputs": [
    {
     "data": {
      "text/plain": [
       "<AxesSubplot:xlabel='floors', ylabel='price'>"
      ]
     },
     "execution_count": 154,
     "metadata": {},
     "output_type": "execute_result"
    },
    {
     "data": {
      "image/png": "[encoded data removed]",
      "text/plain": [
       "<Figure size 864x360 with 2 Axes>"
      ]
     },
     "metadata": {
      "needs_background": "light"
     },
     "output_type": "display_data"
    }
   ],
   "source": [
    "fig, (ax1, ax2) = plt.subplots (ncols=2, figsize = (12, 5))\n",
    "df1.plot.scatter(x='yr_old', y='price', ax=ax1)\n",
    "df1.plot.scatter(x='floors', y='price', ax=ax2)"
   ]
  },
  {
   "cell_type": "code",
   "execution_count": 155,
   "metadata": {},
   "outputs": [],
   "source": [
    "upper_limit = df1['yr_old'].mean() + 3*df1['yr_old'].std()\n",
    "lower_limit = df1['yr_old'].mean() - 3*df1['yr_old'].std()\n",
    "df1['yr_old'] = np.where(df1['yr_old'] > upper_limit, upper_limit,\n",
    "np.where(df1['yr_old'] < lower_limit, lower_limit, df1['yr_old']))"
   ]
  },
  {
   "cell_type": "code",
   "execution_count": 156,
   "metadata": {},
   "outputs": [],
   "source": [
    "upper_limit = df1['floors'].mean() + 3*df1['floors'].std()\n",
    "lower_limit = df1['floors'].mean() - 3*df1['floors'].std()\n",
    "df1['floors'] = np.where(df1['floors'] > upper_limit, upper_limit,\n",
    "np.where(df1['floors'] < lower_limit, lower_limit, df1['floors']))"
   ]
  },
  {
   "cell_type": "code",
   "execution_count": 157,
   "metadata": {},
   "outputs": [
    {
     "data": {
      "text/plain": [
       "<AxesSubplot:xlabel='floors', ylabel='Density'>"
      ]
     },
     "execution_count": 157,
     "metadata": {},
     "output_type": "execute_result"
    },
    {
     "data": {
      "image/png": "[encoded data removed]",
      "text/plain": [
       "<Figure size 1152x360 with 2 Axes>"
      ]
     },
     "metadata": {
      "needs_background": "light"
     },
     "output_type": "display_data"
    }
   ],
   "source": [
    "plt.figure(figsize=(16,5))\n",
    "plt.subplot(1,2,1)\n",
    "sns.distplot(df1['yr_old'])\n",
    "plt.subplot(1,2,2)\n",
    "sns.distplot(df1['floors'])"
   ]
  },
  {
   "cell_type": "markdown",
   "metadata": {},
   "source": [
    "## Continuous numerice predictors"
   ]
  },
  {
   "cell_type": "code",
   "execution_count": 158,
   "metadata": {},
   "outputs": [
    {
     "data": {
      "text/plain": [
       "<AxesSubplot:xlabel='sqft_garage', ylabel='price'>"
      ]
     },
     "execution_count": 158,
     "metadata": {},
     "output_type": "execute_result"
    },
    {
     "data": {
      "image/png": "[encoded data removed]",
      "text/plain": [
       "<Figure size 864x360 with 2 Axes>"
      ]
     },
     "metadata": {
      "needs_background": "light"
     },
     "output_type": "display_data"
    }
   ],
   "source": [
    "fig, (ax1, ax2) = plt.subplots (ncols=2, figsize = (12, 5))\n",
    "df1.plot.scatter(x='sqft_living', y='price', ax=ax1)\n",
    "df1.plot.scatter(x='sqft_garage', y='price', ax=ax2)"
   ]
  },
  {
   "cell_type": "code",
   "execution_count": 159,
   "metadata": {},
   "outputs": [],
   "source": [
    "upper_limit = df1['sqft_garage'].mean() + 3*df1['sqft_garage'].std()\n",
    "lower_limit = df1['sqft_garage'].mean() - 3*df1['sqft_garage'].std()\n",
    "\n",
    "df1['sqft_garage'] = np.where(df1['sqft_garage'] > upper_limit, upper_limit,\n",
    "    np.where(df1['sqft_garage'] < lower_limit, lower_limit, df1['sqft_garage']))"
   ]
  },
  {
   "cell_type": "code",
   "execution_count": 160,
   "metadata": {},
   "outputs": [],
   "source": [
    "upper_limit = df1['sqft_living'].mean() + 3*df1['sqft_living'].std()\n",
    "lower_limit = df1['sqft_living'].mean() - 3*df1['sqft_living'].std()\n",
    "\n",
    "df1['sqft_living'] = np.where(df1['sqft_living'] > upper_limit, upper_limit,\n",
    "    np.where(df1['sqft_living'] < lower_limit, lower_limit, df1['sqft_living']))"
   ]
  },
  {
   "cell_type": "code",
   "execution_count": 161,
   "metadata": {},
   "outputs": [
    {
     "data": {
      "text/plain": [
       "<AxesSubplot:xlabel='sqft_garage', ylabel='Density'>"
      ]
     },
     "execution_count": 161,
     "metadata": {},
     "output_type": "execute_result"
    },
    {
     "data": {
      "image/png": "[encoded data removed]",
      "text/plain": [
       "<Figure size 1152x360 with 2 Axes>"
      ]
     },
     "metadata": {
      "needs_background": "light"
     },
     "output_type": "display_data"
    }
   ],
   "source": [
    "plt.figure(figsize=(16,5))\n",
    "plt.subplot(1,2,1)\n",
    "sns.distplot(df1['sqft_living'])\n",
    "plt.subplot(1,2,2)\n",
    "sns.distplot(df1['sqft_garage'])"
   ]
  },
  {
   "cell_type": "code",
   "execution_count": 162,
   "metadata": {},
   "outputs": [
    {
     "data": {
      "text/plain": [
       "<AxesSubplot:xlabel='sqft_above', ylabel='price'>"
      ]
     },
     "execution_count": 162,
     "metadata": {},
     "output_type": "execute_result"
    },
    {
     "data": {
      "image/png": "[encoded data removed]",
      "text/plain": [
       "<Figure size 864x360 with 2 Axes>"
      ]
     },
     "metadata": {
      "needs_background": "light"
     },
     "output_type": "display_data"
    }
   ],
   "source": [
    "fig, (ax1, ax2) = plt.subplots (ncols=2, figsize = (12, 5))\n",
    "df1.plot.scatter(x='Population', y='price', ax=ax1)\n",
    "df1.plot.scatter(x='sqft_above', y='price', ax=ax2)"
   ]
  },
  {
   "cell_type": "code",
   "execution_count": null,
   "metadata": {},
   "outputs": [],
   "source": [
    "upper_limit = df1['Population'].mean() + 3*df1['Population'].std()\n",
    "lower_limit = df1['Population'].mean() - 3*df1['Population'].std()\n",
    "\n",
    "df1['Population'] = np.where(df1['Population'] > upper_limit, upper_limit,\n",
    "    np.where(df1['Population'] < lower_limit, lower_limit, df1['Population']))"
   ]
  },
  {
   "cell_type": "code",
   "execution_count": null,
   "metadata": {},
   "outputs": [],
   "source": [
    "upper_limit = df1['sqft_above'].mean() + 3*df1['sqft_above'].std()\n",
    "lower_limit = df1['sqft_above'].mean() - 3*df1['sqft_above'].std()\n",
    "\n",
    "df1['sqft_above'] = np.where(df1['sqft_above'] > upper_limit, upper_limit,\n",
    "    np.where(df1['sqft_above'] < lower_limit, lower_limit, df1['sqft_above']))"
   ]
  },
  {
   "cell_type": "code",
   "execution_count": null,
   "metadata": {},
   "outputs": [],
   "source": [
    "plt.figure(figsize=(16,5))\n",
    "plt.subplot(1,2,1)\n",
    "sns.distplot(df1['Population'])\n",
    "plt.subplot(1,2,2)\n",
    "sns.distplot(df1['sqft_above'])"
   ]
  },
  {
   "cell_type": "code",
   "execution_count": null,
   "metadata": {},
   "outputs": [],
   "source": [
    "fig, (ax1, ax2) = plt.subplots (ncols=2, figsize = (12, 5))\n",
    "df1.plot.scatter(x='sqft_basement', y='price', ax=ax1)\n",
    "df1.plot.scatter(x='sqft_patio', y='price', ax=ax2)"
   ]
  },
  {
   "cell_type": "code",
   "execution_count": null,
   "metadata": {},
   "outputs": [],
   "source": [
    "upper_limit = df1['sqft_basement'].mean() + 3*df1['sqft_basement'].std()\n",
    "lower_limit = df1['sqft_basement'].mean() - 3*df1['sqft_basement'].std()\n",
    "\n",
    "df1['sqft_basement'] = np.where(df1['sqft_basement'] > upper_limit, upper_limit,\n",
    "    np.where(df1['sqft_basement'] < lower_limit, lower_limit, df1['sqft_basement']))"
   ]
  },
  {
   "cell_type": "code",
   "execution_count": null,
   "metadata": {},
   "outputs": [],
   "source": [
    "upper_limit = df1['sqft_patio'].mean() + 3*df1['sqft_patio'].std()\n",
    "lower_limit = df1['sqft_patio'].mean() - 3*df1['sqft_patio'].std()\n",
    "\n",
    "df1['sqft_patio'] = np.where(df1['sqft_patio'] > upper_limit, upper_limit,\n",
    "    np.where(df1['sqft_patio'] < lower_limit, lower_limit, df1['sqft_patio']))"
   ]
  },
  {
   "cell_type": "code",
   "execution_count": null,
   "metadata": {},
   "outputs": [],
   "source": [
    "plt.figure(figsize=(16,5))\n",
    "plt.subplot(1,2,1)\n",
    "sns.distplot(df1['sqft_patio'])\n",
    "plt.subplot(1,2,2)\n",
    "sns.distplot(df1['sqft_basement'])"
   ]
  },
  {
   "cell_type": "markdown",
   "metadata": {},
   "source": [
    "Population looks like a discrete measure here.  We will go with sqft living as the most correlated to begin our greedy algorithm approach."
   ]
  },
  {
   "cell_type": "markdown",
   "metadata": {},
   "source": [
    "## Categorical Variables"
   ]
  },
  {
   "cell_type": "code",
   "execution_count": null,
   "metadata": {
    "scrolled": false
   },
   "outputs": [],
   "source": [
    "# cats2 = ['waterfront', 'view', 'grade', 'condition']\n",
    "# fig, axes = plt.subplots(ncols=len(cats2), figsize=(12,5))\n",
    "# for index, feature in enumerate(cats2):\n",
    "#     df1.groupby(feature).mean().sort_values(by='price', ascending=False).plot.bar(\n",
    "#         y='price', ax=axes[index])\n"
   ]
  },
  {
   "cell_type": "markdown",
   "metadata": {},
   "source": [
    "There is some real symetry in the grade category.  As the grade increases, it appears that the average price of homes increases as well.  Good views and waterfront properties also seem correlated positively with price, which is understandable.  "
   ]
  },
  {
   "cell_type": "code",
   "execution_count": null,
   "metadata": {},
   "outputs": [],
   "source": [
    "# cats3 = ['nuisance', 'sewer_system', 'greenbelt']\n",
    "# fig, axes = plt.subplots(ncols=len(cats3), figsize=(12,5))\n",
    "# for index, feature in enumerate(cats3):\n",
    "#     df1.groupby(feature).mean().sort_values(by='price', ascending=False).plot.bar(\n",
    "#         y='price', ax=axes[index])"
   ]
  },
  {
   "cell_type": "markdown",
   "metadata": {},
   "source": [
    "Not much can be gleaned from these bar charts.  "
   ]
  },
  {
   "cell_type": "code",
   "execution_count": null,
   "metadata": {},
   "outputs": [],
   "source": [
    "# plt.scatter(df1.sewer_system, df1.price)"
   ]
  },
  {
   "cell_type": "code",
   "execution_count": null,
   "metadata": {},
   "outputs": [],
   "source": [
    "# plt.scatter(df1.greenbelt, df1.price)"
   ]
  },
  {
   "cell_type": "code",
   "execution_count": null,
   "metadata": {},
   "outputs": [],
   "source": [
    "# fig, (ax1, ax2) = plt.subplots (ncols=2, figsize = (12, 5))\n",
    "# df1.sort_values(by='price', ascending=False).plot.scatter(x='condition', y='price', ax=ax1)\n",
    "# df1.sort_values(by='price', ascending=False).plot.scatter(x='view', y='price', ax=ax2)"
   ]
  },
  {
   "cell_type": "code",
   "execution_count": null,
   "metadata": {},
   "outputs": [],
   "source": [
    "# fig, (ax) = plt.subplots (ncols=1, figsize = (15, 10))\n",
    "# df1.sort_values(by='price', ascending=False).plot.scatter(x='grade', y='price', ax=ax)"
   ]
  },
  {
   "cell_type": "markdown",
   "metadata": {},
   "source": [
    "## Attempts at some partial models.  "
   ]
  },
  {
   "cell_type": "code",
   "execution_count": null,
   "metadata": {},
   "outputs": [],
   "source": [
    "y = df1.price\n",
    "# X_iter = df1[['sqft_living', 'waterfront', 'grade']]"
   ]
  },
  {
   "cell_type": "code",
   "execution_count": null,
   "metadata": {},
   "outputs": [],
   "source": [
    "# X_iter = pd.get_dummies(X_iter, columns=['grade', 'waterfront'], drop_first=True)"
   ]
  },
  {
   "cell_type": "code",
   "execution_count": null,
   "metadata": {},
   "outputs": [],
   "source": [
    "# model = sm.OLS(y, sm.add_constant(X_iter))\n",
    "# results = model.fit()\n",
    "# print(results.summary())"
   ]
  },
  {
   "cell_type": "code",
   "execution_count": null,
   "metadata": {},
   "outputs": [],
   "source": [
    "# mae = mean_absolute_error(y, results.predict(sm.add_constant(X_iter)))\n",
    "# mae"
   ]
  },
  {
   "cell_type": "markdown",
   "metadata": {},
   "source": [
    "The explained variance is higher, but the MAE is worse than our baseline model.  This model is now off by about $359,121.21 for any given prediction.  We will need to adjust the model.  We will attempt some partial regressions below to see what stands out.   "
   ]
  },
  {
   "cell_type": "markdown",
   "metadata": {},
   "source": [
    "## Partial regression of Grade, sqft_living, and waterfront"
   ]
  },
  {
   "cell_type": "code",
   "execution_count": null,
   "metadata": {},
   "outputs": [],
   "source": []
  },
  {
   "cell_type": "code",
   "execution_count": null,
   "metadata": {},
   "outputs": [],
   "source": [
    "# fig = plt.figure(figsize=(15,8))\n",
    "# sm.graphics.plot_partregress_grid(\n",
    "#     results, \n",
    "#     exog_idx=list(X_iter.columns),\n",
    "#     grid=(2,7),\n",
    "#     fig=fig)\n",
    "# plt.tight_layout()\n",
    "# plt.show()"
   ]
  },
  {
   "cell_type": "markdown",
   "metadata": {},
   "source": [
    "## Model and partial of Sqft Living, Waterfront, and View"
   ]
  },
  {
   "cell_type": "code",
   "execution_count": null,
   "metadata": {},
   "outputs": [],
   "source": [
    "# y = df1.price\n",
    "# X_iter2 = df1[['sqft_living', 'waterfront', 'view']]"
   ]
  },
  {
   "cell_type": "code",
   "execution_count": null,
   "metadata": {},
   "outputs": [],
   "source": [
    "# X_iter2 = pd.get_dummies(X_iter2, columns=['view', 'waterfront'], drop_first=True)"
   ]
  },
  {
   "cell_type": "code",
   "execution_count": null,
   "metadata": {},
   "outputs": [],
   "source": [
    "# model = sm.OLS(y, sm.add_constant(X_iter2))\n",
    "# results = model.fit()\n",
    "# print(results.summary())"
   ]
  },
  {
   "cell_type": "code",
   "execution_count": null,
   "metadata": {},
   "outputs": [],
   "source": [
    "# mae = mean_absolute_error(y, results.predict(sm.add_constant(X_iter2)))\n",
    "# mae"
   ]
  },
  {
   "cell_type": "code",
   "execution_count": null,
   "metadata": {},
   "outputs": [],
   "source": [
    "# fig = plt.figure(figsize=(15,8))\n",
    "# sm.graphics.plot_partregress_grid(\n",
    "#     results, \n",
    "#     exog_idx=list(X_iter2.columns),\n",
    "#     grid=(2,7),\n",
    "#     fig=fig)\n",
    "# plt.tight_layout()\n",
    "# plt.show()"
   ]
  },
  {
   "cell_type": "markdown",
   "metadata": {},
   "source": [
    "While I feel strongly about sqft living, I am beginning to think view does not have much impact on price as we predicted.  Perhaps the relationship can be better explained by a term or some transformation.  "
   ]
  },
  {
   "cell_type": "markdown",
   "metadata": {},
   "source": [
    "# Neighborhood"
   ]
  },
  {
   "cell_type": "code",
   "execution_count": null,
   "metadata": {
    "scrolled": true
   },
   "outputs": [],
   "source": [
    "# Neigh = ['Neighborhood']\n",
    "# fig, ax = plt.subplots(ncols=len(Neigh), figsize=(12,5))\n",
    "# for index, feature in enumerate(Neigh):\n",
    "#     df1.groupby(feature).mean().sort_values(by='price', ascending=False).plot.bar(\n",
    "#         y='price', ax=ax)\n"
   ]
  },
  {
   "cell_type": "code",
   "execution_count": null,
   "metadata": {},
   "outputs": [],
   "source": [
    "# y = df1.price\n",
    "# X_iter_Neigh = df1[['Neighborhood', 'sqft_living', 'waterfront']]\n",
    "# X_iter_Neigh = pd.get_dummies(X_iter_Neigh, columns=['Neighborhood', 'waterfront'], drop_first=True)"
   ]
  },
  {
   "cell_type": "code",
   "execution_count": null,
   "metadata": {},
   "outputs": [],
   "source": [
    "# model = sm.OLS(y, sm.add_constant(X_iter_Neigh))\n",
    "# results = model.fit()\n",
    "# print(results.summary())"
   ]
  },
  {
   "cell_type": "code",
   "execution_count": null,
   "metadata": {},
   "outputs": [],
   "source": [
    "# mae = mean_absolute_error(y, results.predict(sm.add_constant(X_iter_Neigh)))\n",
    "# mae"
   ]
  },
  {
   "cell_type": "markdown",
   "metadata": {},
   "source": [
    "Neighborhood really seems to explain a great deal about the variance in price, and it reduced our MAE down from our baseline.  Our predictions are now around $313,516.77 off by any given predictor.    "
   ]
  },
  {
   "cell_type": "code",
   "execution_count": null,
   "metadata": {},
   "outputs": [],
   "source": [
    "# X_iter_Neigh"
   ]
  },
  {
   "cell_type": "code",
   "execution_count": null,
   "metadata": {},
   "outputs": [],
   "source": [
    "# fig = plt.figure(figsize=(275,475))\n",
    "# sm.graphics.plot_partregress_grid(\n",
    "#     results, \n",
    "#     exog_idx=list(X_iter_Neigh.columns),\n",
    "#     grid=(16,16),\n",
    "#     fig=fig)\n",
    "# plt.tight_layout()\n",
    "# plt.show()"
   ]
  },
  {
   "cell_type": "code",
   "execution_count": null,
   "metadata": {},
   "outputs": [],
   "source": []
  },
  {
   "cell_type": "code",
   "execution_count": null,
   "metadata": {},
   "outputs": [],
   "source": [
    "# # running our model with dummified predictors\n",
    "# X1=dum_df1.drop(labels=['selldate', 'price', 'Zipcode', 'address', 'lat', 'long', \n",
    "#                        'sewer_system_PUBLIC RESTRICTED', 'yr_built', 'sqft_above', 'bathrooms',\n",
    "#                       'heat_source_Oil', 'heat_source_Oil/Solar', 'heat_source_Other',\n",
    "#                       'floors', 'Neighborhood_Skykomish', 'Neighborhood_Black Diamond',\n",
    "#                       'Neighborhood_Baring' ], axis=1)\n",
    "# y=dum_df1.price\n",
    "\n",
    "# model_1 = sm.OLS(y, sm.add_constant(X1))\n",
    "# results1 = model_1.fit()\n",
    "# results1.summary()"
   ]
  },
  {
   "cell_type": "code",
   "execution_count": null,
   "metadata": {},
   "outputs": [],
   "source": [
    "# baseline_mae = mean_absolute_error(y, results1.predict(sm.add_constant(X1)))\n",
    "# # baseline_mae"
   ]
  },
  {
   "cell_type": "code",
   "execution_count": null,
   "metadata": {},
   "outputs": [],
   "source": [
    "# dum_df1 = pd.get_dummies(data=df1, columns=cat_cols, drop_first=True)"
   ]
  },
  {
   "cell_type": "code",
   "execution_count": null,
   "metadata": {
    "scrolled": true
   },
   "outputs": [],
   "source": [
    "# dum_df1.columns"
   ]
  },
  {
   "cell_type": "markdown",
   "metadata": {},
   "source": [
    "Drop columns not correlated.  per gp 9-19.  "
   ]
  },
  {
   "cell_type": "code",
   "execution_count": null,
   "metadata": {},
   "outputs": [],
   "source": [
    "# plt.hist(df1.price)"
   ]
  },
  {
   "cell_type": "code",
   "execution_count": null,
   "metadata": {},
   "outputs": [],
   "source": [
    "# sns.distplot(df1.price, bins=30, kde=True)"
   ]
  },
  {
   "cell_type": "markdown",
   "metadata": {},
   "source": [
    "## Cleaning data"
   ]
  },
  {
   "cell_type": "markdown",
   "metadata": {},
   "source": [
    "applying a function to remove outliers outside 3 standard deviations"
   ]
  },
  {
   "cell_type": "code",
   "execution_count": null,
   "metadata": {},
   "outputs": [],
   "source": [
    "  "
   ]
  },
  {
   "cell_type": "markdown",
   "metadata": {},
   "source": [
    "## Bedrooms"
   ]
  },
  {
   "cell_type": "code",
   "execution_count": null,
   "metadata": {},
   "outputs": [],
   "source": [
    "# here we remove outliers by adding them to the highest, most relevant category, thus preserving data.  \n",
    "df1.bathrooms.value_counts()"
   ]
  },
  {
   "cell_type": "code",
   "execution_count": null,
   "metadata": {},
   "outputs": [],
   "source": []
  },
  {
   "cell_type": "code",
   "execution_count": null,
   "metadata": {
    "scrolled": true
   },
   "outputs": [],
   "source": [
    "df1.describe()"
   ]
  },
  {
   "cell_type": "code",
   "execution_count": null,
   "metadata": {},
   "outputs": [],
   "source": [
    "# df1.loc[(df1['bedrooms'] > 6) & (df1['bathrooms'] > 6)]"
   ]
  },
  {
   "cell_type": "code",
   "execution_count": null,
   "metadata": {},
   "outputs": [],
   "source": [
    "df1.bathrooms.value_counts()"
   ]
  },
  {
   "cell_type": "markdown",
   "metadata": {},
   "source": [
    "Anything with zero bathrooms is suspect. "
   ]
  },
  {
   "cell_type": "code",
   "execution_count": null,
   "metadata": {},
   "outputs": [],
   "source": [
    "# df1.loc[df1['bathrooms'] < 1] = 1\n",
    "# df1.loc[df1['bathrooms'] > 6] = 6"
   ]
  },
  {
   "cell_type": "code",
   "execution_count": null,
   "metadata": {},
   "outputs": [],
   "source": [
    "# def change_value(condition): \n",
    "#     new_living = df1.sqft_living = np.sum(df1.sqft_living, (df1.sqft_garage*.75))\n",
    "#     new_garage = df1.sqft_garage = np.subtract(df1.sqft_garage, (df1.sqft_garage*.75))\n",
    "#     if condition == df1.loc[df1['sqft_garage'] > ['sqft_living']]:\n",
    "#         return new_living, new_garage"
   ]
  },
  {
   "cell_type": "code",
   "execution_count": null,
   "metadata": {},
   "outputs": [],
   "source": [
    "# df1.sqft_garage.apply(change_value)"
   ]
  },
  {
   "cell_type": "code",
   "execution_count": null,
   "metadata": {},
   "outputs": [],
   "source": []
  },
  {
   "cell_type": "code",
   "execution_count": null,
   "metadata": {},
   "outputs": [],
   "source": [
    "# X_iter"
   ]
  },
  {
   "cell_type": "code",
   "execution_count": null,
   "metadata": {},
   "outputs": [],
   "source": [
    "# iter_model = sm.OLS(y, sm.add_constant(X_iter))\n",
    "# iter_results = iter_model.fit()\n",
    "# print(iter_results.summary())"
   ]
  },
  {
   "cell_type": "code",
   "execution_count": null,
   "metadata": {},
   "outputs": [],
   "source": [
    "# iter_mae = mean_absolute_error(y, iter_results.predict(sm.add_constant(X_iter)))\n",
    "# iter_mae"
   ]
  },
  {
   "cell_type": "markdown",
   "metadata": {},
   "source": [
    "Our iterated model explains about 53 percent of the variance in `price` using `sqft_living` and `Neighborhood`. There  Overall this model is statistically significant, explaining about 38 percent of the variance in price."
   ]
  },
  {
   "cell_type": "code",
   "execution_count": null,
   "metadata": {},
   "outputs": [],
   "source": [
    "# fig = plt.figure(figsize=(30,220))\n",
    "# sm.graphics.plot_partregress_grid(\n",
    "#     iter_results, \n",
    "#     exog_idx=list(X_iter.columns),\n",
    "#     grid=(14,15),\n",
    "#     fig=fig)\n",
    "# plt.tight_layout()\n",
    "# plt.show()"
   ]
  },
  {
   "cell_type": "code",
   "execution_count": null,
   "metadata": {
    "scrolled": false
   },
   "outputs": [],
   "source": [
    "sns.heatmap(X.corr())"
   ]
  },
  {
   "cell_type": "markdown",
   "metadata": {},
   "source": [
    "ccpr function partial "
   ]
  },
  {
   "cell_type": "code",
   "execution_count": null,
   "metadata": {},
   "outputs": [],
   "source": [
    "# df1['Neighborhood'].value_counts()"
   ]
  },
  {
   "cell_type": "code",
   "execution_count": null,
   "metadata": {},
   "outputs": [],
   "source": [
    "# sns.heatmap(X.corr())"
   ]
  },
  {
   "cell_type": "code",
   "execution_count": null,
   "metadata": {},
   "outputs": [],
   "source": [
    "# df1.heat_source"
   ]
  },
  {
   "cell_type": "markdown",
   "metadata": {},
   "source": [
    "### Model Iteration"
   ]
  },
  {
   "cell_type": "code",
   "execution_count": null,
   "metadata": {},
   "outputs": [],
   "source": [
    "# Creating categorical variables\n",
    "cats = df1[['waterfront','greenbelt', 'nuisance', 'view', 'condition', 'heat_source', 'sewer_system', 'Neighborhood', 'grade']]\n",
    "cats1 = df1[['selldate','price','waterfront','greenbelt', 'nuisance', 'view', 'condition', 'heat_source', 'sewer_system', 'address', 'Zipcode', 'Neighborhood', 'grade']]"
   ]
  },
  {
   "cell_type": "code",
   "execution_count": null,
   "metadata": {},
   "outputs": [],
   "source": [
    "cat_cols = cats.columns\n",
    "dum_df1 = pd.get_dummies(data=df1, columns=cat_cols, drop_first=True)"
   ]
  },
  {
   "cell_type": "code",
   "execution_count": null,
   "metadata": {
    "scrolled": true
   },
   "outputs": [],
   "source": [
    "# running our model with dummified predictors\n",
    "X1=dum_df1.drop(labels=['selldate', 'price', 'Zipcode', 'address', 'lat', 'long', \n",
    "                       'sewer_system_PUBLIC RESTRICTED',\n",
    "                      'heat_source_Oil', 'heat_source_Oil/Solar', 'heat_source_Other',\n",
    "                      'floors', 'Neighborhood_Skykomish', 'Neighborhood_Black Diamond',\n",
    "                      'Neighborhood_Baring', 'grade_2 Substandard'], axis=1)\n",
    "y=df1.price\n",
    "\n",
    "model_1 = sm.OLS(y, sm.add_constant(X1))\n",
    "results1 = model_1.fit()\n",
    "results1.summary()"
   ]
  },
  {
   "cell_type": "code",
   "execution_count": null,
   "metadata": {},
   "outputs": [],
   "source": [
    "mae = mean_absolute_error(y, results1.predict(sm.add_constant(X1)))\n",
    "mae"
   ]
  },
  {
   "cell_type": "markdown",
   "metadata": {},
   "source": [
    "### Utilizing categorical variables"
   ]
  },
  {
   "cell_type": "markdown",
   "metadata": {},
   "source": [
    "Well, we have a much higher R-squared number after incorporating the dummified categorical predictors, as this model claims to explain 64 percent of the variance in `price`.   The constant is no longer statistically significant, so we need to adjust our figures to more accurately account for why that is happening.  We should next remove columns that are statistically significant.  "
   ]
  },
  {
   "cell_type": "markdown",
   "metadata": {},
   "source": [
    "MAE dropped significantly.  "
   ]
  },
  {
   "cell_type": "markdown",
   "metadata": {},
   "source": [
    "## Addressing Multicolinerity"
   ]
  },
  {
   "cell_type": "code",
   "execution_count": null,
   "metadata": {},
   "outputs": [],
   "source": [
    "X1.corr()"
   ]
  },
  {
   "cell_type": "code",
   "execution_count": null,
   "metadata": {},
   "outputs": [],
   "source": [
    "abs(X1.corr()) > .75"
   ]
  },
  {
   "cell_type": "code",
   "execution_count": null,
   "metadata": {},
   "outputs": [],
   "source": [
    "X2 = X1.corr().abs().stack().reset_index().sort_values(0, ascending=False)\n",
    "X2['pairs'] = list(zip(X2.level_0, X2.level_1))\n",
    "X2.set_index(['pairs'], inplace=True)\n",
    "X2.drop(columns=['level_1', 'level_0'], inplace = True)\n",
    "X2.columns = ['cc']\n",
    "X2.drop_duplicates(inplace=True)\n",
    "X2[(X2.cc>.75) & (X2.cc<1)]"
   ]
  },
  {
   "cell_type": "code",
   "execution_count": null,
   "metadata": {},
   "outputs": [],
   "source": [
    "X1.drop(columns=['yr_built'], inplace=True)"
   ]
  },
  {
   "cell_type": "markdown",
   "metadata": {},
   "source": [
    "There are three sets of variables that are highly correlated: yr_old and yr_built, sqft_above\n",
    "and sqft_living, and bathrooms with sqft_living"
   ]
  },
  {
   "cell_type": "code",
   "execution_count": null,
   "metadata": {},
   "outputs": [],
   "source": [
    "# running our model with dummified predictors\n",
    "y=dum_df1.price\n",
    "model_1 = sm.OLS(y, sm.add_constant(X1))\n",
    "results1 = model_1.fit()\n",
    "results1.summary()\n"
   ]
  },
  {
   "cell_type": "code",
   "execution_count": null,
   "metadata": {},
   "outputs": [],
   "source": [
    "mae = mean_absolute_error(y, results1.predict(sm.add_constant(X1)))\n",
    "mae"
   ]
  },
  {
   "cell_type": "markdown",
   "metadata": {},
   "source": [
    "### Final Model"
   ]
  },
  {
   "cell_type": "code",
   "execution_count": null,
   "metadata": {},
   "outputs": [],
   "source": [
    "X1=dum_df1.drop(labels=['selldate', 'price', 'Zipcode', 'address', 'lat', 'long', \n",
    "                       'sewer_system_PUBLIC RESTRICTED',\n",
    "                      'heat_source_Oil', 'heat_source_Oil/Solar', 'heat_source_Other',\n",
    "                      'floors', 'Neighborhood_Skykomish', 'Neighborhood_Black Diamond',\n",
    "                      'Neighborhood_Baring', 'grade_2 Substandard', 'Neighborhood_Enumclaw', 'heat_source_Electricity/Solar'], axis=1)\n",
    "y=dum_df1.price\n",
    "\n",
    "model_1 = sm.OLS(y, sm.add_constant(X1))\n",
    "results1 = model_1.fit()\n",
    "results1.summary()"
   ]
  },
  {
   "cell_type": "code",
   "execution_count": null,
   "metadata": {},
   "outputs": [],
   "source": [
    "mae = mean_absolute_error(y, results1.predict(sm.add_constant(X1)))\n",
    "mae"
   ]
  },
  {
   "cell_type": "markdown",
   "metadata": {},
   "source": [
    "## TEST without cleaning after baseline"
   ]
  },
  {
   "cell_type": "code",
   "execution_count": 85,
   "metadata": {},
   "outputs": [],
   "source": [
    "cats = df1[['waterfront','greenbelt', 'nuisance', 'view', 'condition', 'heat_source', 'sewer_system', 'Neighborhood', 'grade']]\n",
    "cats1 = df1[['selldate','price','waterfront','greenbelt', 'nuisance', 'view', 'condition', 'heat_source', 'sewer_system', 'address', 'Zipcode', 'Neighborhood', 'grade']]"
   ]
  },
  {
   "cell_type": "code",
   "execution_count": 86,
   "metadata": {},
   "outputs": [],
   "source": [
    "cat_cols = cats.columns\n",
    "dum_df1 = pd.get_dummies(data=df1, columns=cat_cols, drop_first=True)"
   ]
  },
  {
   "cell_type": "code",
   "execution_count": 163,
   "metadata": {},
   "outputs": [
    {
     "data": {
      "text/html": [
       "<table class=\"simpletable\">\n",
       "<caption>OLS Regression Results</caption>\n",
       "<tr>\n",
       "  <th>Dep. Variable:</th>          <td>price</td>      <th>  R-squared:         </th>  <td>   0.651</td>  \n",
       "</tr>\n",
       "<tr>\n",
       "  <th>Model:</th>                   <td>OLS</td>       <th>  Adj. R-squared:    </th>  <td>   0.650</td>  \n",
       "</tr>\n",
       "<tr>\n",
       "  <th>Method:</th>             <td>Least Squares</td>  <th>  F-statistic:       </th>  <td>   834.7</td>  \n",
       "</tr>\n",
       "<tr>\n",
       "  <th>Date:</th>             <td>Sat, 24 Sep 2022</td> <th>  Prob (F-statistic):</th>   <td>  0.00</td>   \n",
       "</tr>\n",
       "<tr>\n",
       "  <th>Time:</th>                 <td>09:05:02</td>     <th>  Log-Likelihood:    </th> <td>-4.2590e+05</td>\n",
       "</tr>\n",
       "<tr>\n",
       "  <th>No. Observations:</th>      <td> 29175</td>      <th>  AIC:               </th>  <td>8.519e+05</td> \n",
       "</tr>\n",
       "<tr>\n",
       "  <th>Df Residuals:</th>          <td> 29109</td>      <th>  BIC:               </th>  <td>8.525e+05</td> \n",
       "</tr>\n",
       "<tr>\n",
       "  <th>Df Model:</th>              <td>    65</td>      <th>                     </th>      <td> </td>     \n",
       "</tr>\n",
       "<tr>\n",
       "  <th>Covariance Type:</th>      <td>nonrobust</td>    <th>                     </th>      <td> </td>     \n",
       "</tr>\n",
       "</table>\n",
       "<table class=\"simpletable\">\n",
       "<tr>\n",
       "                 <td></td>                    <th>coef</th>     <th>std err</th>      <th>t</th>      <th>P>|t|</th>  <th>[0.025</th>    <th>0.975]</th>  \n",
       "</tr>\n",
       "<tr>\n",
       "  <th>const</th>                           <td>-1.255e+08</td> <td> 7.74e+06</td> <td>  -16.224</td> <td> 0.000</td> <td>-1.41e+08</td> <td> -1.1e+08</td>\n",
       "</tr>\n",
       "<tr>\n",
       "  <th>bedrooms</th>                        <td>-3.803e+04</td> <td> 4524.756</td> <td>   -8.404</td> <td> 0.000</td> <td>-4.69e+04</td> <td>-2.92e+04</td>\n",
       "</tr>\n",
       "<tr>\n",
       "  <th>bathrooms</th>                       <td> 6.428e+04</td> <td> 6389.420</td> <td>   10.060</td> <td> 0.000</td> <td> 5.18e+04</td> <td> 7.68e+04</td>\n",
       "</tr>\n",
       "<tr>\n",
       "  <th>sqft_living</th>                     <td>   66.5237</td> <td>   14.514</td> <td>    4.583</td> <td> 0.000</td> <td>   38.075</td> <td>   94.972</td>\n",
       "</tr>\n",
       "<tr>\n",
       "  <th>sqft_lot</th>                        <td>    0.4892</td> <td>    0.056</td> <td>    8.686</td> <td> 0.000</td> <td>    0.379</td> <td>    0.600</td>\n",
       "</tr>\n",
       "<tr>\n",
       "  <th>sqft_above</th>                      <td>  254.4461</td> <td>   14.422</td> <td>   17.643</td> <td> 0.000</td> <td>  226.178</td> <td>  282.714</td>\n",
       "</tr>\n",
       "<tr>\n",
       "  <th>sqft_basement</th>                   <td>  124.0680</td> <td>   11.112</td> <td>   11.166</td> <td> 0.000</td> <td>  102.289</td> <td>  145.847</td>\n",
       "</tr>\n",
       "<tr>\n",
       "  <th>sqft_garage</th>                     <td> -106.3984</td> <td>   15.584</td> <td>   -6.827</td> <td> 0.000</td> <td> -136.944</td> <td>  -75.852</td>\n",
       "</tr>\n",
       "<tr>\n",
       "  <th>sqft_patio</th>                      <td>   66.7510</td> <td>   14.526</td> <td>    4.595</td> <td> 0.000</td> <td>   38.279</td> <td>   95.223</td>\n",
       "</tr>\n",
       "<tr>\n",
       "  <th>yr_built</th>                        <td> -762.6501</td> <td>  602.321</td> <td>   -1.266</td> <td> 0.205</td> <td>-1943.227</td> <td>  417.927</td>\n",
       "</tr>\n",
       "<tr>\n",
       "  <th>yr_renovated</th>                    <td>   59.7285</td> <td>   19.083</td> <td>    3.130</td> <td> 0.002</td> <td>   22.325</td> <td>   97.132</td>\n",
       "</tr>\n",
       "<tr>\n",
       "  <th>lat</th>                             <td> 1.195e+06</td> <td> 4.91e+04</td> <td>   24.351</td> <td> 0.000</td> <td>  1.1e+06</td> <td> 1.29e+06</td>\n",
       "</tr>\n",
       "<tr>\n",
       "  <th>long</th>                            <td>-5.812e+05</td> <td> 6.06e+04</td> <td>   -9.587</td> <td> 0.000</td> <td>   -7e+05</td> <td>-4.62e+05</td>\n",
       "</tr>\n",
       "<tr>\n",
       "  <th>yr_old</th>                          <td>  378.0578</td> <td>  607.391</td> <td>    0.622</td> <td> 0.534</td> <td> -812.456</td> <td> 1568.572</td>\n",
       "</tr>\n",
       "<tr>\n",
       "  <th>Population</th>                      <td>   -1.1604</td> <td>    0.377</td> <td>   -3.076</td> <td> 0.002</td> <td>   -1.900</td> <td>   -0.421</td>\n",
       "</tr>\n",
       "<tr>\n",
       "  <th>waterfront_YES</th>                  <td> 7.579e+05</td> <td> 2.87e+04</td> <td>   26.388</td> <td> 0.000</td> <td> 7.02e+05</td> <td> 8.14e+05</td>\n",
       "</tr>\n",
       "<tr>\n",
       "  <th>greenbelt_YES</th>                   <td>-5.829e+04</td> <td> 2.01e+04</td> <td>   -2.903</td> <td> 0.004</td> <td>-9.76e+04</td> <td>-1.89e+04</td>\n",
       "</tr>\n",
       "<tr>\n",
       "  <th>nuisance_YES</th>                    <td>-3.422e+04</td> <td> 8479.426</td> <td>   -4.036</td> <td> 0.000</td> <td>-5.08e+04</td> <td>-1.76e+04</td>\n",
       "</tr>\n",
       "<tr>\n",
       "  <th>view_EXCELLENT</th>                  <td> 6.442e+05</td> <td> 2.91e+04</td> <td>   22.154</td> <td> 0.000</td> <td> 5.87e+05</td> <td> 7.01e+05</td>\n",
       "</tr>\n",
       "<tr>\n",
       "  <th>view_FAIR</th>                       <td> 1.101e+05</td> <td> 3.83e+04</td> <td>    2.875</td> <td> 0.004</td> <td>  3.5e+04</td> <td> 1.85e+05</td>\n",
       "</tr>\n",
       "<tr>\n",
       "  <th>view_GOOD</th>                       <td> 5.331e+04</td> <td> 2.19e+04</td> <td>    2.435</td> <td> 0.015</td> <td> 1.04e+04</td> <td> 9.62e+04</td>\n",
       "</tr>\n",
       "<tr>\n",
       "  <th>view_NONE</th>                       <td>-9.016e+04</td> <td> 1.32e+04</td> <td>   -6.816</td> <td> 0.000</td> <td>-1.16e+05</td> <td>-6.42e+04</td>\n",
       "</tr>\n",
       "<tr>\n",
       "  <th>condition_Fair</th>                  <td>-1.234e+05</td> <td> 3.62e+04</td> <td>   -3.409</td> <td> 0.001</td> <td>-1.94e+05</td> <td>-5.24e+04</td>\n",
       "</tr>\n",
       "<tr>\n",
       "  <th>condition_Good</th>                  <td> 4.223e+04</td> <td> 7948.020</td> <td>    5.313</td> <td> 0.000</td> <td> 2.66e+04</td> <td> 5.78e+04</td>\n",
       "</tr>\n",
       "<tr>\n",
       "  <th>condition_Poor</th>                  <td>-7.191e+04</td> <td> 7.02e+04</td> <td>   -1.024</td> <td> 0.306</td> <td> -2.1e+05</td> <td> 6.57e+04</td>\n",
       "</tr>\n",
       "<tr>\n",
       "  <th>condition_Very Good</th>             <td> 1.011e+05</td> <td> 1.12e+04</td> <td>    9.068</td> <td> 0.000</td> <td> 7.93e+04</td> <td> 1.23e+05</td>\n",
       "</tr>\n",
       "<tr>\n",
       "  <th>heat_source_Gas</th>                 <td> 1.861e+04</td> <td> 7544.823</td> <td>    2.466</td> <td> 0.014</td> <td> 3820.287</td> <td> 3.34e+04</td>\n",
       "</tr>\n",
       "<tr>\n",
       "  <th>heat_source_Gas/Solar</th>           <td> 1.632e+05</td> <td> 5.55e+04</td> <td>    2.941</td> <td> 0.003</td> <td> 5.44e+04</td> <td> 2.72e+05</td>\n",
       "</tr>\n",
       "<tr>\n",
       "  <th>sewer_system_PRIVATE RESTRICTED</th> <td>-5.904e+05</td> <td> 2.42e+05</td> <td>   -2.437</td> <td> 0.015</td> <td>-1.07e+06</td> <td>-1.15e+05</td>\n",
       "</tr>\n",
       "<tr>\n",
       "  <th>sewer_system_PUBLIC</th>             <td> 5.779e+04</td> <td> 1.11e+04</td> <td>    5.218</td> <td> 0.000</td> <td> 3.61e+04</td> <td> 7.95e+04</td>\n",
       "</tr>\n",
       "<tr>\n",
       "  <th>Neighborhood_Bellevue</th>           <td> 6.838e+05</td> <td> 2.28e+04</td> <td>   29.968</td> <td> 0.000</td> <td> 6.39e+05</td> <td> 7.28e+05</td>\n",
       "</tr>\n",
       "<tr>\n",
       "  <th>Neighborhood_Bothell</th>            <td>-1.143e+05</td> <td> 4.12e+04</td> <td>   -2.776</td> <td> 0.006</td> <td>-1.95e+05</td> <td>-3.36e+04</td>\n",
       "</tr>\n",
       "<tr>\n",
       "  <th>Neighborhood_Carnation</th>          <td>-1.296e+05</td> <td>  5.1e+04</td> <td>   -2.542</td> <td> 0.011</td> <td> -2.3e+05</td> <td>-2.97e+04</td>\n",
       "</tr>\n",
       "<tr>\n",
       "  <th>Neighborhood_Duvall</th>             <td>-2.084e+05</td> <td> 4.45e+04</td> <td>   -4.679</td> <td> 0.000</td> <td>-2.96e+05</td> <td>-1.21e+05</td>\n",
       "</tr>\n",
       "<tr>\n",
       "  <th>Neighborhood_Fall City</th>          <td> 3.807e+05</td> <td> 5.61e+04</td> <td>    6.790</td> <td> 0.000</td> <td> 2.71e+05</td> <td> 4.91e+05</td>\n",
       "</tr>\n",
       "<tr>\n",
       "  <th>Neighborhood_Federal Way</th>        <td>  -1.2e+05</td> <td> 2.33e+04</td> <td>   -5.150</td> <td> 0.000</td> <td>-1.66e+05</td> <td>-7.44e+04</td>\n",
       "</tr>\n",
       "<tr>\n",
       "  <th>Neighborhood_Gold Bar</th>           <td> 5.676e+04</td> <td>  3.1e+05</td> <td>    0.183</td> <td> 0.855</td> <td>-5.51e+05</td> <td> 6.65e+05</td>\n",
       "</tr>\n",
       "<tr>\n",
       "  <th>Neighborhood_Issaquah</th>           <td> 3.116e+05</td> <td> 2.71e+04</td> <td>   11.507</td> <td> 0.000</td> <td> 2.59e+05</td> <td> 3.65e+05</td>\n",
       "</tr>\n",
       "<tr>\n",
       "  <th>Neighborhood_Kenmore</th>            <td>-2.183e+05</td> <td> 3.85e+04</td> <td>   -5.676</td> <td> 0.000</td> <td>-2.94e+05</td> <td>-1.43e+05</td>\n",
       "</tr>\n",
       "<tr>\n",
       "  <th>Neighborhood_Kent</th>               <td> -3.28e+04</td> <td> 1.67e+04</td> <td>   -1.960</td> <td> 0.050</td> <td>-6.56e+04</td> <td>   -5.042</td>\n",
       "</tr>\n",
       "<tr>\n",
       "  <th>Neighborhood_Kirkland</th>           <td> 3.541e+05</td> <td> 2.66e+04</td> <td>   13.326</td> <td> 0.000</td> <td> 3.02e+05</td> <td> 4.06e+05</td>\n",
       "</tr>\n",
       "<tr>\n",
       "  <th>Neighborhood_Maple Valley</th>       <td> 9.005e+04</td> <td> 2.26e+04</td> <td>    3.979</td> <td> 0.000</td> <td> 4.57e+04</td> <td> 1.34e+05</td>\n",
       "</tr>\n",
       "<tr>\n",
       "  <th>Neighborhood_Medina</th>             <td> 2.882e+06</td> <td> 7.34e+04</td> <td>   39.249</td> <td> 0.000</td> <td> 2.74e+06</td> <td> 3.03e+06</td>\n",
       "</tr>\n",
       "<tr>\n",
       "  <th>Neighborhood_Mercer Island</th>      <td> 8.363e+05</td> <td> 3.43e+04</td> <td>   24.381</td> <td> 0.000</td> <td> 7.69e+05</td> <td> 9.04e+05</td>\n",
       "</tr>\n",
       "<tr>\n",
       "  <th>Neighborhood_Milton</th>             <td> 3.454e+04</td> <td> 1.12e+05</td> <td>    0.309</td> <td> 0.757</td> <td>-1.85e+05</td> <td> 2.54e+05</td>\n",
       "</tr>\n",
       "<tr>\n",
       "  <th>Neighborhood_North Bend</th>         <td> 2.406e+05</td> <td> 3.75e+04</td> <td>    6.416</td> <td> 0.000</td> <td> 1.67e+05</td> <td> 3.14e+05</td>\n",
       "</tr>\n",
       "<tr>\n",
       "  <th>Neighborhood_Pacific</th>            <td> 6.054e+04</td> <td> 6.24e+04</td> <td>    0.970</td> <td> 0.332</td> <td>-6.18e+04</td> <td> 1.83e+05</td>\n",
       "</tr>\n",
       "<tr>\n",
       "  <th>Neighborhood_Preston</th>            <td> 3.446e+05</td> <td> 3.76e+05</td> <td>    0.917</td> <td> 0.359</td> <td>-3.92e+05</td> <td> 1.08e+06</td>\n",
       "</tr>\n",
       "<tr>\n",
       "  <th>Neighborhood_Ravensdale</th>         <td> 6.389e+04</td> <td> 6.84e+04</td> <td>    0.934</td> <td> 0.350</td> <td>-7.01e+04</td> <td> 1.98e+05</td>\n",
       "</tr>\n",
       "<tr>\n",
       "  <th>Neighborhood_Redmond</th>            <td>     3e+05</td> <td> 2.78e+04</td> <td>   10.808</td> <td> 0.000</td> <td> 2.46e+05</td> <td> 3.54e+05</td>\n",
       "</tr>\n",
       "<tr>\n",
       "  <th>Neighborhood_Renton</th>             <td>-1.501e+04</td> <td>  1.8e+04</td> <td>   -0.832</td> <td> 0.405</td> <td>-5.04e+04</td> <td> 2.04e+04</td>\n",
       "</tr>\n",
       "<tr>\n",
       "  <th>Neighborhood_Sammamish</th>          <td> 3.064e+05</td> <td> 2.79e+04</td> <td>   11.002</td> <td> 0.000</td> <td> 2.52e+05</td> <td> 3.61e+05</td>\n",
       "</tr>\n",
       "<tr>\n",
       "  <th>Neighborhood_Seattle</th>            <td>-7.447e+04</td> <td> 2.18e+04</td> <td>   -3.412</td> <td> 0.001</td> <td>-1.17e+05</td> <td>-3.17e+04</td>\n",
       "</tr>\n",
       "<tr>\n",
       "  <th>Neighborhood_Snoqualmie</th>         <td> 1.874e+05</td> <td> 4.02e+04</td> <td>    4.663</td> <td> 0.000</td> <td> 1.09e+05</td> <td> 2.66e+05</td>\n",
       "</tr>\n",
       "<tr>\n",
       "  <th>Neighborhood_Vashon</th>             <td>-3.217e+05</td> <td> 4.69e+04</td> <td>   -6.865</td> <td> 0.000</td> <td>-4.14e+05</td> <td> -2.3e+05</td>\n",
       "</tr>\n",
       "<tr>\n",
       "  <th>Neighborhood_Woodinville</th>        <td>-1296.0488</td> <td> 3.44e+04</td> <td>   -0.038</td> <td> 0.970</td> <td>-6.88e+04</td> <td> 6.62e+04</td>\n",
       "</tr>\n",
       "<tr>\n",
       "  <th>grade_11 Excellent</th>              <td> 6.985e+05</td> <td> 3.07e+04</td> <td>   22.775</td> <td> 0.000</td> <td> 6.38e+05</td> <td> 7.59e+05</td>\n",
       "</tr>\n",
       "<tr>\n",
       "  <th>grade_12 Luxury</th>                 <td> 1.554e+06</td> <td> 5.18e+04</td> <td>   29.985</td> <td> 0.000</td> <td> 1.45e+06</td> <td> 1.66e+06</td>\n",
       "</tr>\n",
       "<tr>\n",
       "  <th>grade_13 Mansion</th>                <td> 3.223e+06</td> <td> 1.13e+05</td> <td>   28.644</td> <td> 0.000</td> <td>    3e+06</td> <td> 3.44e+06</td>\n",
       "</tr>\n",
       "<tr>\n",
       "  <th>grade_3 Poor</th>                    <td>-5.815e+05</td> <td> 1.85e+05</td> <td>   -3.146</td> <td> 0.002</td> <td>-9.44e+05</td> <td>-2.19e+05</td>\n",
       "</tr>\n",
       "<tr>\n",
       "  <th>grade_4 Low</th>                     <td> -5.53e+05</td> <td> 8.29e+04</td> <td>   -6.671</td> <td> 0.000</td> <td>-7.16e+05</td> <td>-3.91e+05</td>\n",
       "</tr>\n",
       "<tr>\n",
       "  <th>grade_5 Fair</th>                    <td>-5.233e+05</td> <td> 3.59e+04</td> <td>  -14.585</td> <td> 0.000</td> <td>-5.94e+05</td> <td>-4.53e+05</td>\n",
       "</tr>\n",
       "<tr>\n",
       "  <th>grade_6 Low Average</th>             <td>-5.233e+05</td> <td>  2.4e+04</td> <td>  -21.779</td> <td> 0.000</td> <td> -5.7e+05</td> <td>-4.76e+05</td>\n",
       "</tr>\n",
       "<tr>\n",
       "  <th>grade_7 Average</th>                 <td>-5.467e+05</td> <td> 2.01e+04</td> <td>  -27.167</td> <td> 0.000</td> <td>-5.86e+05</td> <td>-5.07e+05</td>\n",
       "</tr>\n",
       "<tr>\n",
       "  <th>grade_8 Good</th>                    <td>-4.787e+05</td> <td> 1.82e+04</td> <td>  -26.343</td> <td> 0.000</td> <td>-5.14e+05</td> <td>-4.43e+05</td>\n",
       "</tr>\n",
       "<tr>\n",
       "  <th>grade_9 Better</th>                  <td>-2.548e+05</td> <td> 1.78e+04</td> <td>  -14.296</td> <td> 0.000</td> <td> -2.9e+05</td> <td> -2.2e+05</td>\n",
       "</tr>\n",
       "</table>\n",
       "<table class=\"simpletable\">\n",
       "<tr>\n",
       "  <th>Omnibus:</th>       <td>48101.366</td> <th>  Durbin-Watson:     </th>   <td>   1.892</td>   \n",
       "</tr>\n",
       "<tr>\n",
       "  <th>Prob(Omnibus):</th>  <td> 0.000</td>   <th>  Jarque-Bera (JB):  </th> <td>156205674.620</td>\n",
       "</tr>\n",
       "<tr>\n",
       "  <th>Skew:</th>           <td>10.461</td>   <th>  Prob(JB):          </th>   <td>    0.00</td>   \n",
       "</tr>\n",
       "<tr>\n",
       "  <th>Kurtosis:</th>       <td>360.855</td>  <th>  Cond. No.          </th>   <td>1.59e+08</td>   \n",
       "</tr>\n",
       "</table><br/><br/>Notes:<br/>[1] Standard Errors assume that the covariance matrix of the errors is correctly specified.<br/>[2] The condition number is large, 1.59e+08. This might indicate that there are<br/>strong multicollinearity or other numerical problems."
      ],
      "text/plain": [
       "<class 'statsmodels.iolib.summary.Summary'>\n",
       "\"\"\"\n",
       "                            OLS Regression Results                            \n",
       "==============================================================================\n",
       "Dep. Variable:                  price   R-squared:                       0.651\n",
       "Model:                            OLS   Adj. R-squared:                  0.650\n",
       "Method:                 Least Squares   F-statistic:                     834.7\n",
       "Date:                Sat, 24 Sep 2022   Prob (F-statistic):               0.00\n",
       "Time:                        09:05:02   Log-Likelihood:            -4.2590e+05\n",
       "No. Observations:               29175   AIC:                         8.519e+05\n",
       "Df Residuals:                   29109   BIC:                         8.525e+05\n",
       "Df Model:                          65                                         \n",
       "Covariance Type:            nonrobust                                         \n",
       "===================================================================================================\n",
       "                                      coef    std err          t      P>|t|      [0.025      0.975]\n",
       "---------------------------------------------------------------------------------------------------\n",
       "const                           -1.255e+08   7.74e+06    -16.224      0.000   -1.41e+08    -1.1e+08\n",
       "bedrooms                        -3.803e+04   4524.756     -8.404      0.000   -4.69e+04   -2.92e+04\n",
       "bathrooms                        6.428e+04   6389.420     10.060      0.000    5.18e+04    7.68e+04\n",
       "sqft_living                        66.5237     14.514      4.583      0.000      38.075      94.972\n",
       "sqft_lot                            0.4892      0.056      8.686      0.000       0.379       0.600\n",
       "sqft_above                        254.4461     14.422     17.643      0.000     226.178     282.714\n",
       "sqft_basement                     124.0680     11.112     11.166      0.000     102.289     145.847\n",
       "sqft_garage                      -106.3984     15.584     -6.827      0.000    -136.944     -75.852\n",
       "sqft_patio                         66.7510     14.526      4.595      0.000      38.279      95.223\n",
       "yr_built                         -762.6501    602.321     -1.266      0.205   -1943.227     417.927\n",
       "yr_renovated                       59.7285     19.083      3.130      0.002      22.325      97.132\n",
       "lat                              1.195e+06   4.91e+04     24.351      0.000     1.1e+06    1.29e+06\n",
       "long                            -5.812e+05   6.06e+04     -9.587      0.000      -7e+05   -4.62e+05\n",
       "yr_old                            378.0578    607.391      0.622      0.534    -812.456    1568.572\n",
       "Population                         -1.1604      0.377     -3.076      0.002      -1.900      -0.421\n",
       "waterfront_YES                   7.579e+05   2.87e+04     26.388      0.000    7.02e+05    8.14e+05\n",
       "greenbelt_YES                   -5.829e+04   2.01e+04     -2.903      0.004   -9.76e+04   -1.89e+04\n",
       "nuisance_YES                    -3.422e+04   8479.426     -4.036      0.000   -5.08e+04   -1.76e+04\n",
       "view_EXCELLENT                   6.442e+05   2.91e+04     22.154      0.000    5.87e+05    7.01e+05\n",
       "view_FAIR                        1.101e+05   3.83e+04      2.875      0.004     3.5e+04    1.85e+05\n",
       "view_GOOD                        5.331e+04   2.19e+04      2.435      0.015    1.04e+04    9.62e+04\n",
       "view_NONE                       -9.016e+04   1.32e+04     -6.816      0.000   -1.16e+05   -6.42e+04\n",
       "condition_Fair                  -1.234e+05   3.62e+04     -3.409      0.001   -1.94e+05   -5.24e+04\n",
       "condition_Good                   4.223e+04   7948.020      5.313      0.000    2.66e+04    5.78e+04\n",
       "condition_Poor                  -7.191e+04   7.02e+04     -1.024      0.306    -2.1e+05    6.57e+04\n",
       "condition_Very Good              1.011e+05   1.12e+04      9.068      0.000    7.93e+04    1.23e+05\n",
       "heat_source_Gas                  1.861e+04   7544.823      2.466      0.014    3820.287    3.34e+04\n",
       "heat_source_Gas/Solar            1.632e+05   5.55e+04      2.941      0.003    5.44e+04    2.72e+05\n",
       "sewer_system_PRIVATE RESTRICTED -5.904e+05   2.42e+05     -2.437      0.015   -1.07e+06   -1.15e+05\n",
       "sewer_system_PUBLIC              5.779e+04   1.11e+04      5.218      0.000    3.61e+04    7.95e+04\n",
       "Neighborhood_Bellevue            6.838e+05   2.28e+04     29.968      0.000    6.39e+05    7.28e+05\n",
       "Neighborhood_Bothell            -1.143e+05   4.12e+04     -2.776      0.006   -1.95e+05   -3.36e+04\n",
       "Neighborhood_Carnation          -1.296e+05    5.1e+04     -2.542      0.011    -2.3e+05   -2.97e+04\n",
       "Neighborhood_Duvall             -2.084e+05   4.45e+04     -4.679      0.000   -2.96e+05   -1.21e+05\n",
       "Neighborhood_Fall City           3.807e+05   5.61e+04      6.790      0.000    2.71e+05    4.91e+05\n",
       "Neighborhood_Federal Way          -1.2e+05   2.33e+04     -5.150      0.000   -1.66e+05   -7.44e+04\n",
       "Neighborhood_Gold Bar            5.676e+04    3.1e+05      0.183      0.855   -5.51e+05    6.65e+05\n",
       "Neighborhood_Issaquah            3.116e+05   2.71e+04     11.507      0.000    2.59e+05    3.65e+05\n",
       "Neighborhood_Kenmore            -2.183e+05   3.85e+04     -5.676      0.000   -2.94e+05   -1.43e+05\n",
       "Neighborhood_Kent                -3.28e+04   1.67e+04     -1.960      0.050   -6.56e+04      -5.042\n",
       "Neighborhood_Kirkland            3.541e+05   2.66e+04     13.326      0.000    3.02e+05    4.06e+05\n",
       "Neighborhood_Maple Valley        9.005e+04   2.26e+04      3.979      0.000    4.57e+04    1.34e+05\n",
       "Neighborhood_Medina              2.882e+06   7.34e+04     39.249      0.000    2.74e+06    3.03e+06\n",
       "Neighborhood_Mercer Island       8.363e+05   3.43e+04     24.381      0.000    7.69e+05    9.04e+05\n",
       "Neighborhood_Milton              3.454e+04   1.12e+05      0.309      0.757   -1.85e+05    2.54e+05\n",
       "Neighborhood_North Bend          2.406e+05   3.75e+04      6.416      0.000    1.67e+05    3.14e+05\n",
       "Neighborhood_Pacific             6.054e+04   6.24e+04      0.970      0.332   -6.18e+04    1.83e+05\n",
       "Neighborhood_Preston             3.446e+05   3.76e+05      0.917      0.359   -3.92e+05    1.08e+06\n",
       "Neighborhood_Ravensdale          6.389e+04   6.84e+04      0.934      0.350   -7.01e+04    1.98e+05\n",
       "Neighborhood_Redmond                 3e+05   2.78e+04     10.808      0.000    2.46e+05    3.54e+05\n",
       "Neighborhood_Renton             -1.501e+04    1.8e+04     -0.832      0.405   -5.04e+04    2.04e+04\n",
       "Neighborhood_Sammamish           3.064e+05   2.79e+04     11.002      0.000    2.52e+05    3.61e+05\n",
       "Neighborhood_Seattle            -7.447e+04   2.18e+04     -3.412      0.001   -1.17e+05   -3.17e+04\n",
       "Neighborhood_Snoqualmie          1.874e+05   4.02e+04      4.663      0.000    1.09e+05    2.66e+05\n",
       "Neighborhood_Vashon             -3.217e+05   4.69e+04     -6.865      0.000   -4.14e+05    -2.3e+05\n",
       "Neighborhood_Woodinville        -1296.0488   3.44e+04     -0.038      0.970   -6.88e+04    6.62e+04\n",
       "grade_11 Excellent               6.985e+05   3.07e+04     22.775      0.000    6.38e+05    7.59e+05\n",
       "grade_12 Luxury                  1.554e+06   5.18e+04     29.985      0.000    1.45e+06    1.66e+06\n",
       "grade_13 Mansion                 3.223e+06   1.13e+05     28.644      0.000       3e+06    3.44e+06\n",
       "grade_3 Poor                    -5.815e+05   1.85e+05     -3.146      0.002   -9.44e+05   -2.19e+05\n",
       "grade_4 Low                      -5.53e+05   8.29e+04     -6.671      0.000   -7.16e+05   -3.91e+05\n",
       "grade_5 Fair                    -5.233e+05   3.59e+04    -14.585      0.000   -5.94e+05   -4.53e+05\n",
       "grade_6 Low Average             -5.233e+05    2.4e+04    -21.779      0.000    -5.7e+05   -4.76e+05\n",
       "grade_7 Average                 -5.467e+05   2.01e+04    -27.167      0.000   -5.86e+05   -5.07e+05\n",
       "grade_8 Good                    -4.787e+05   1.82e+04    -26.343      0.000   -5.14e+05   -4.43e+05\n",
       "grade_9 Better                  -2.548e+05   1.78e+04    -14.296      0.000    -2.9e+05    -2.2e+05\n",
       "==============================================================================\n",
       "Omnibus:                    48101.366   Durbin-Watson:                   1.892\n",
       "Prob(Omnibus):                  0.000   Jarque-Bera (JB):        156205674.620\n",
       "Skew:                          10.461   Prob(JB):                         0.00\n",
       "Kurtosis:                     360.855   Cond. No.                     1.59e+08\n",
       "==============================================================================\n",
       "\n",
       "Notes:\n",
       "[1] Standard Errors assume that the covariance matrix of the errors is correctly specified.\n",
       "[2] The condition number is large, 1.59e+08. This might indicate that there are\n",
       "strong multicollinearity or other numerical problems.\n",
       "\"\"\""
      ]
     },
     "execution_count": 163,
     "metadata": {},
     "output_type": "execute_result"
    }
   ],
   "source": [
    "X1=dum_df1.drop(labels=['selldate', 'price', 'Zipcode', 'address', \n",
    "                       'sewer_system_PUBLIC RESTRICTED',\n",
    "                      'heat_source_Oil', 'heat_source_Oil/Solar', 'heat_source_Other',\n",
    "                      'floors', 'Neighborhood_Skykomish', 'Neighborhood_Black Diamond',\n",
    "                      'Neighborhood_Baring', 'grade_2 Substandard', 'Neighborhood_Enumclaw', 'heat_source_Electricity/Solar'], axis=1)\n",
    "y=dum_df1.price\n",
    "\n",
    "model_1 = sm.OLS(y, sm.add_constant(X1))\n",
    "results1 = model_1.fit()\n",
    "results1.summary()"
   ]
  },
  {
   "cell_type": "code",
   "execution_count": 164,
   "metadata": {},
   "outputs": [
    {
     "data": {
      "text/plain": [
       "266810.88743535284"
      ]
     },
     "execution_count": 164,
     "metadata": {},
     "output_type": "execute_result"
    }
   ],
   "source": [
    "mae = mean_absolute_error(y, results1.predict(sm.add_constant(X1)))\n",
    "mae"
   ]
  },
  {
   "cell_type": "markdown",
   "metadata": {},
   "source": [
    "# section_3"
   ]
  },
  {
   "cell_type": "markdown",
   "metadata": {},
   "source": [
    " [section_1](#section_1)\n"
   ]
  },
  {
   "cell_type": "markdown",
   "metadata": {},
   "source": [
    "[section_2](#section_2)"
   ]
  },
  {
   "cell_type": "markdown",
   "metadata": {
    "index": 67
   },
   "source": [
    "## Regression Results"
   ]
  },
  {
   "cell_type": "markdown",
   "metadata": {
    "index": 85
   },
   "source": [
    "## Level Up: Project Enhancements\n",
    "\n",
    "After completing the minimum project requirements, you could consider the following enhancements if you have time:\n",
    "\n",
    "* Consider applying a linear or non-linear transformation to your features and/or target\n",
    "* Investigate the linear regression assumptions for your final model\n",
    "* Identify and remove outliers, then redo the analysis\n",
    "* Compile the data cleaning code into a function"
   ]
  },
  {
   "cell_type": "code",
   "execution_count": null,
   "metadata": {},
   "outputs": [],
   "source": [
    "# # reading in the King County dataset to Pandas\n",
    "# df = pd.read_csv('data/Regional_Geographies.csv')\n",
    "# df.info()"
   ]
  },
  {
   "cell_type": "code",
   "execution_count": null,
   "metadata": {},
   "outputs": [],
   "source": [
    "# df.drop(labels='OBJECTID', axis=1, inplace=True)"
   ]
  },
  {
   "cell_type": "code",
   "execution_count": null,
   "metadata": {},
   "outputs": [],
   "source": []
  },
  {
   "cell_type": "code",
   "execution_count": 89,
   "metadata": {},
   "outputs": [
    {
     "data": {
      "text/html": [
       "<div>\n",
       "<style scoped>\n",
       "    .dataframe tbody tr th:only-of-type {\n",
       "        vertical-align: middle;\n",
       "    }\n",
       "\n",
       "    .dataframe tbody tr th {\n",
       "        vertical-align: top;\n",
       "    }\n",
       "\n",
       "    .dataframe thead th {\n",
       "        text-align: right;\n",
       "    }\n",
       "</style>\n",
       "<table border=\"1\" class=\"dataframe\">\n",
       "  <thead>\n",
       "    <tr style=\"text-align: right;\">\n",
       "      <th></th>\n",
       "      <th>X</th>\n",
       "      <th>Y</th>\n",
       "      <th>OBJECTID</th>\n",
       "      <th>FEATURE_ID</th>\n",
       "      <th>ESITE</th>\n",
       "      <th>CODE</th>\n",
       "      <th>NAME</th>\n",
       "      <th>ABB_NAME</th>\n",
       "      <th>ADDRESS</th>\n",
       "      <th>ZIPCODE</th>\n",
       "    </tr>\n",
       "  </thead>\n",
       "  <tbody>\n",
       "    <tr>\n",
       "      <th>0</th>\n",
       "      <td>-122.067101</td>\n",
       "      <td>47.465386</td>\n",
       "      <td>1</td>\n",
       "      <td>10000032</td>\n",
       "      <td>5733.0</td>\n",
       "      <td>66</td>\n",
       "      <td>Station 79</td>\n",
       "      <td>79</td>\n",
       "      <td>20505 SE 152nd St</td>\n",
       "      <td>98059.0</td>\n",
       "    </tr>\n",
       "    <tr>\n",
       "      <th>1</th>\n",
       "      <td>-122.313910</td>\n",
       "      <td>47.552302</td>\n",
       "      <td>2</td>\n",
       "      <td>905</td>\n",
       "      <td>490884.0</td>\n",
       "      <td>664</td>\n",
       "      <td>Cleveland STEM High School</td>\n",
       "      <td>Cleveland</td>\n",
       "      <td>5511 15th Ave S</td>\n",
       "      <td>98108.0</td>\n",
       "    </tr>\n",
       "    <tr>\n",
       "      <th>2</th>\n",
       "      <td>-122.195782</td>\n",
       "      <td>47.657500</td>\n",
       "      <td>3</td>\n",
       "      <td>6600168</td>\n",
       "      <td>35858.0</td>\n",
       "      <td>663</td>\n",
       "      <td>Northwest University</td>\n",
       "      <td>NW University</td>\n",
       "      <td>5520 108th Ave NE</td>\n",
       "      <td>98033.0</td>\n",
       "    </tr>\n",
       "    <tr>\n",
       "      <th>3</th>\n",
       "      <td>-122.264083</td>\n",
       "      <td>47.319432</td>\n",
       "      <td>4</td>\n",
       "      <td>7</td>\n",
       "      <td>33.0</td>\n",
       "      <td>660</td>\n",
       "      <td>Evergreen Heights Elementary School</td>\n",
       "      <td>Evergreen Heights</td>\n",
       "      <td>5602 S 316th St</td>\n",
       "      <td>98001.0</td>\n",
       "    </tr>\n",
       "    <tr>\n",
       "      <th>4</th>\n",
       "      <td>-122.261359</td>\n",
       "      <td>47.333845</td>\n",
       "      <td>5</td>\n",
       "      <td>6600283</td>\n",
       "      <td>692199.0</td>\n",
       "      <td>660</td>\n",
       "      <td>Meredith Hill Elementary School</td>\n",
       "      <td>Hill</td>\n",
       "      <td>5830 S 300th St</td>\n",
       "      <td>98001.0</td>\n",
       "    </tr>\n",
       "  </tbody>\n",
       "</table>\n",
       "</div>"
      ],
      "text/plain": [
       "            X          Y  OBJECTID  FEATURE_ID     ESITE  CODE  \\\n",
       "0 -122.067101  47.465386         1    10000032    5733.0    66   \n",
       "1 -122.313910  47.552302         2         905  490884.0   664   \n",
       "2 -122.195782  47.657500         3     6600168   35858.0   663   \n",
       "3 -122.264083  47.319432         4           7      33.0   660   \n",
       "4 -122.261359  47.333845         5     6600283  692199.0   660   \n",
       "\n",
       "                                  NAME           ABB_NAME            ADDRESS  \\\n",
       "0                           Station 79                 79  20505 SE 152nd St   \n",
       "1           Cleveland STEM High School          Cleveland    5511 15th Ave S   \n",
       "2                 Northwest University      NW University  5520 108th Ave NE   \n",
       "3  Evergreen Heights Elementary School  Evergreen Heights    5602 S 316th St   \n",
       "4      Meredith Hill Elementary School               Hill  5830 S 300th St     \n",
       "\n",
       "   ZIPCODE  \n",
       "0  98059.0  \n",
       "1  98108.0  \n",
       "2  98033.0  \n",
       "3  98001.0  \n",
       "4  98001.0  "
      ]
     },
     "execution_count": 89,
     "metadata": {},
     "output_type": "execute_result"
    }
   ],
   "source": [
    "df_dem = pd.read_csv('data/Points_of_Interest.csv')\n",
    "df_dem.head()"
   ]
  },
  {
   "cell_type": "code",
   "execution_count": 90,
   "metadata": {},
   "outputs": [
    {
     "name": "stdout",
     "output_type": "stream",
     "text": [
      "<class 'pandas.core.frame.DataFrame'>\n",
      "RangeIndex: 5637 entries, 0 to 5636\n",
      "Data columns (total 10 columns):\n",
      " #   Column      Non-Null Count  Dtype  \n",
      "---  ------      --------------  -----  \n",
      " 0   X           5637 non-null   float64\n",
      " 1   Y           5637 non-null   float64\n",
      " 2   OBJECTID    5637 non-null   int64  \n",
      " 3   FEATURE_ID  5637 non-null   int64  \n",
      " 4   ESITE       4569 non-null   float64\n",
      " 5   CODE        5637 non-null   int64  \n",
      " 6   NAME        5637 non-null   object \n",
      " 7   ABB_NAME    5637 non-null   object \n",
      " 8   ADDRESS     5635 non-null   object \n",
      " 9   ZIPCODE     5625 non-null   float64\n",
      "dtypes: float64(4), int64(3), object(3)\n",
      "memory usage: 440.5+ KB\n"
     ]
    }
   ],
   "source": [
    "df_dem.info()"
   ]
  },
  {
   "cell_type": "code",
   "execution_count": 91,
   "metadata": {},
   "outputs": [
    {
     "name": "stdout",
     "output_type": "stream",
     "text": [
      "<class 'pandas.core.frame.DataFrame'>\n",
      "Int64Index: 29200 entries, 0 to 30154\n",
      "Data columns (total 26 columns):\n",
      " #   Column         Non-Null Count  Dtype         \n",
      "---  ------         --------------  -----         \n",
      " 0   selldate       29200 non-null  datetime64[ns]\n",
      " 1   price          29200 non-null  float64       \n",
      " 2   bedrooms       29200 non-null  int64         \n",
      " 3   bathrooms      29200 non-null  float64       \n",
      " 4   sqft_living    29200 non-null  int64         \n",
      " 5   sqft_lot       29200 non-null  int64         \n",
      " 6   floors         29200 non-null  float64       \n",
      " 7   waterfront     29200 non-null  object        \n",
      " 8   greenbelt      29200 non-null  object        \n",
      " 9   nuisance       29200 non-null  object        \n",
      " 10  view           29200 non-null  object        \n",
      " 11  condition      29200 non-null  object        \n",
      " 12  grade          29200 non-null  object        \n",
      " 13  heat_source    29200 non-null  object        \n",
      " 14  sewer_system   29200 non-null  object        \n",
      " 15  sqft_above     29200 non-null  int64         \n",
      " 16  sqft_basement  29200 non-null  int64         \n",
      " 17  sqft_garage    29200 non-null  int64         \n",
      " 18  sqft_patio     29200 non-null  int64         \n",
      " 19  yr_built       29200 non-null  int64         \n",
      " 20  yr_renovated   29200 non-null  int64         \n",
      " 21  address        29200 non-null  object        \n",
      " 22  lat            29200 non-null  float64       \n",
      " 23  long           29200 non-null  float64       \n",
      " 24  Zipcode        29200 non-null  int64         \n",
      " 25  yr_old         29200 non-null  int64         \n",
      "dtypes: datetime64[ns](1), float64(5), int64(11), object(9)\n",
      "memory usage: 6.0+ MB\n"
     ]
    }
   ],
   "source": [
    "df.info()"
   ]
  },
  {
   "cell_type": "code",
   "execution_count": 92,
   "metadata": {},
   "outputs": [
    {
     "name": "stdout",
     "output_type": "stream",
     "text": [
      "<class 'pandas.core.frame.DataFrame'>\n",
      "RangeIndex: 5637 entries, 0 to 5636\n",
      "Data columns (total 10 columns):\n",
      " #   Column      Non-Null Count  Dtype  \n",
      "---  ------      --------------  -----  \n",
      " 0   X           5637 non-null   float64\n",
      " 1   Y           5637 non-null   float64\n",
      " 2   OBJECTID    5637 non-null   int64  \n",
      " 3   FEATURE_ID  5637 non-null   int64  \n",
      " 4   ESITE       4569 non-null   float64\n",
      " 5   CODE        5637 non-null   int64  \n",
      " 6   NAME        5637 non-null   object \n",
      " 7   ABB_NAME    5637 non-null   object \n",
      " 8   ADDRESS     5635 non-null   object \n",
      " 9   ZIPCODE     5625 non-null   float64\n",
      "dtypes: float64(4), int64(3), object(3)\n",
      "memory usage: 440.5+ KB\n"
     ]
    }
   ],
   "source": [
    "df_dem.info()"
   ]
  },
  {
   "cell_type": "code",
   "execution_count": 93,
   "metadata": {},
   "outputs": [],
   "source": [
    "rename_zip = {'ZIPCODE':'Zipcode'}\n",
    "df_dem.rename(columns=rename_zip, inplace=True)"
   ]
  },
  {
   "cell_type": "code",
   "execution_count": 94,
   "metadata": {},
   "outputs": [],
   "source": [
    "rename_long = {'X': 'long'}\n",
    "rename_lat = {'Y': 'lat'}"
   ]
  },
  {
   "cell_type": "code",
   "execution_count": 95,
   "metadata": {},
   "outputs": [],
   "source": [
    "df_dem.rename(columns=rename_long, inplace=True)\n",
    "df_dem.rename(columns=rename_lat, inplace=True)"
   ]
  },
  {
   "cell_type": "code",
   "execution_count": 96,
   "metadata": {},
   "outputs": [
    {
     "name": "stdout",
     "output_type": "stream",
     "text": [
      "<class 'pandas.core.frame.DataFrame'>\n",
      "RangeIndex: 5637 entries, 0 to 5636\n",
      "Data columns (total 10 columns):\n",
      " #   Column      Non-Null Count  Dtype  \n",
      "---  ------      --------------  -----  \n",
      " 0   long        5637 non-null   float64\n",
      " 1   lat         5637 non-null   float64\n",
      " 2   OBJECTID    5637 non-null   int64  \n",
      " 3   FEATURE_ID  5637 non-null   int64  \n",
      " 4   ESITE       4569 non-null   float64\n",
      " 5   CODE        5637 non-null   int64  \n",
      " 6   NAME        5637 non-null   object \n",
      " 7   ABB_NAME    5637 non-null   object \n",
      " 8   ADDRESS     5635 non-null   object \n",
      " 9   Zipcode     5625 non-null   float64\n",
      "dtypes: float64(4), int64(3), object(3)\n",
      "memory usage: 440.5+ KB\n"
     ]
    }
   ],
   "source": [
    "df_dem.info()"
   ]
  },
  {
   "cell_type": "code",
   "execution_count": null,
   "metadata": {},
   "outputs": [],
   "source": [
    "df1 = df.merge(df_zip, how='left', on='Zipcode')"
   ]
  },
  {
   "cell_type": "markdown",
   "metadata": {},
   "source": [
    "## terms and transformations"
   ]
  },
  {
   "cell_type": "code",
   "execution_count": null,
   "metadata": {},
   "outputs": [],
   "source": [
    "df_dem.loc[df_dem['CODE'] == 330].value_counts()"
   ]
  },
  {
   "cell_type": "code",
   "execution_count": null,
   "metadata": {},
   "outputs": [],
   "source": [
    "import plotly.graph_objects as go\n",
    "\n",
    "fig = go.Figure(go.Scattergeo())\n",
    "fig.update_layout(height=300, margin={\"r\":0,\"t\":0,\"l\":0,\"b\":0})\n",
    "fig.show()"
   ]
  },
  {
   "cell_type": "code",
   "execution_count": null,
   "metadata": {},
   "outputs": [],
   "source": [
    "import plotly.graph_objects as go\n",
    "\n",
    "fig = go.Figure(go.Scattergeo())\n",
    "fig.update_geos(\n",
    "    resolution=50,\n",
    "    showcoastlines=True, coastlinecolor=\"RebeccaPurple\",\n",
    "    showland=True, landcolor=\"LightGreen\",\n",
    "    showocean=True, oceancolor=\"LightBlue\",\n",
    "    showlakes=True, lakecolor=\"Blue\",\n",
    "    showrivers=True, rivercolor=\"Blue\"\n",
    ")\n",
    "fig.update_layout(height=300, margin={\"r\":0,\"t\":0,\"l\":0,\"b\":0})\n",
    "fig.show()"
   ]
  },
  {
   "cell_type": "code",
   "execution_count": 165,
   "metadata": {},
   "outputs": [
    {
     "ename": "ModuleNotFoundError",
     "evalue": "No module named 'geopandas'",
     "output_type": "error",
     "traceback": [
      "\u001b[0;31m---------------------------------------------------------------------------\u001b[0m",
      "\u001b[0;31mModuleNotFoundError\u001b[0m                       Traceback (most recent call last)",
      "Input \u001b[0;32mIn [165]\u001b[0m, in \u001b[0;36m<cell line: 1>\u001b[0;34m()\u001b[0m\n\u001b[0;32m----> 1\u001b[0m \u001b[38;5;28;01mimport\u001b[39;00m \u001b[38;5;21;01mgeopandas\u001b[39;00m\n",
      "\u001b[0;31mModuleNotFoundError\u001b[0m: No module named 'geopandas'"
     ]
    }
   ],
   "source": [
    "import geopandas"
   ]
  },
  {
   "cell_type": "markdown",
   "metadata": {
    "index": 86
   },
   "source": [
    "## Conclusion"
   ]
  },
  {
   "cell_type": "code",
   "execution_count": null,
   "metadata": {},
   "outputs": [],
   "source": []
  }
 ],
 "metadata": {
  "kernelspec": {
   "display_name": "Python (learn-env)",
   "language": "python",
   "name": "learn-env"
  },
  "language_info": {
   "codemirror_mode": {
    "name": "ipython",
    "version": 3
   },
   "file_extension": ".py",
   "mimetype": "text/x-python",
   "name": "python",
   "nbconvert_exporter": "python",
   "pygments_lexer": "ipython3",
   "version": "3.8.13"
  }
 },
 "nbformat": 4,
 "nbformat_minor": 4
}
