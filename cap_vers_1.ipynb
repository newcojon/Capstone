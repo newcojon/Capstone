{
 "cells": [
  {
   "cell_type": "markdown",
   "metadata": {
    "index": 0
   },
   "source": [
    "# Capstone Regression Project"
   ]
  },
  {
   "cell_type": "markdown",
   "metadata": {
    "index": 2
   },
   "source": [
    "## Business Understanding"
   ]
  },
  {
   "cell_type": "markdown",
   "metadata": {
    "index": 2
   },
   "source": [
    "## Data Understanding\n",
    "\n",
    "-describes source of dataset\n",
    "There are two datasets used for this project.  The first was the king county dataset.  \n",
    "\n",
    "The second dataset was obtained from https://www.zipdatamaps.com/king-wa-county-zipcodes\n",
    "\n",
    "-what each record represents\n",
    "-which column is begin used as the regress"
   ]
  },
  {
   "cell_type": "markdown",
   "metadata": {
    "index": 2
   },
   "source": [
    "## Data Preparation"
   ]
  },
  {
   "cell_type": "markdown",
   "metadata": {},
   "source": [
    "### Loading the Data"
   ]
  },
  {
   "cell_type": "code",
   "execution_count": 1319,
   "metadata": {
    "index": 3
   },
   "outputs": [],
   "source": [
    "#importing all appropriate Pythonic libraries and packages \n",
    "\n",
    "import numpy as np\n",
    "import pandas as pd\n",
    "from matplotlib import pyplot as plt\n",
    "import seaborn as sns\n",
    "import statsmodels.api as sm\n",
    "from sklearn.preprocessing import OneHotEncoder, StandardScaler\n",
    "from sklearn.datasets import make_regression\n",
    "from sklearn.linear_model import LinearRegression\n",
    "import sklearn.metrics as metrics\n",
    "from sklearn.metrics import mean_absolute_error\n",
    "from random import gauss\n",
    "from mpl_toolkits.mplot3d import Axes3D\n",
    "from scipy import stats as stats\n",
    "import re\n",
    "%matplotlib inline"
   ]
  },
  {
   "cell_type": "code",
   "execution_count": 1320,
   "metadata": {},
   "outputs": [
    {
     "data": {
      "text/html": [
       "<div>\n",
       "<style scoped>\n",
       "    .dataframe tbody tr th:only-of-type {\n",
       "        vertical-align: middle;\n",
       "    }\n",
       "\n",
       "    .dataframe tbody tr th {\n",
       "        vertical-align: top;\n",
       "    }\n",
       "\n",
       "    .dataframe thead th {\n",
       "        text-align: right;\n",
       "    }\n",
       "</style>\n",
       "<table border=\"1\" class=\"dataframe\">\n",
       "  <thead>\n",
       "    <tr style=\"text-align: right;\">\n",
       "      <th></th>\n",
       "      <th>id</th>\n",
       "      <th>date</th>\n",
       "      <th>price</th>\n",
       "      <th>bedrooms</th>\n",
       "      <th>bathrooms</th>\n",
       "      <th>sqft_living</th>\n",
       "      <th>sqft_lot</th>\n",
       "      <th>floors</th>\n",
       "      <th>waterfront</th>\n",
       "      <th>greenbelt</th>\n",
       "      <th>...</th>\n",
       "      <th>sewer_system</th>\n",
       "      <th>sqft_above</th>\n",
       "      <th>sqft_basement</th>\n",
       "      <th>sqft_garage</th>\n",
       "      <th>sqft_patio</th>\n",
       "      <th>yr_built</th>\n",
       "      <th>yr_renovated</th>\n",
       "      <th>address</th>\n",
       "      <th>lat</th>\n",
       "      <th>long</th>\n",
       "    </tr>\n",
       "  </thead>\n",
       "  <tbody>\n",
       "    <tr>\n",
       "      <th>0</th>\n",
       "      <td>7399300360</td>\n",
       "      <td>5/24/2022</td>\n",
       "      <td>675000.0</td>\n",
       "      <td>4</td>\n",
       "      <td>1.0</td>\n",
       "      <td>1180</td>\n",
       "      <td>7140</td>\n",
       "      <td>1.0</td>\n",
       "      <td>NO</td>\n",
       "      <td>NO</td>\n",
       "      <td>...</td>\n",
       "      <td>PUBLIC</td>\n",
       "      <td>1180</td>\n",
       "      <td>0</td>\n",
       "      <td>0</td>\n",
       "      <td>40</td>\n",
       "      <td>1969</td>\n",
       "      <td>0</td>\n",
       "      <td>2102 Southeast 21st Court, Renton, Washington ...</td>\n",
       "      <td>47.461975</td>\n",
       "      <td>-122.19052</td>\n",
       "    </tr>\n",
       "    <tr>\n",
       "      <th>1</th>\n",
       "      <td>8910500230</td>\n",
       "      <td>12/13/2021</td>\n",
       "      <td>920000.0</td>\n",
       "      <td>5</td>\n",
       "      <td>2.5</td>\n",
       "      <td>2770</td>\n",
       "      <td>6703</td>\n",
       "      <td>1.0</td>\n",
       "      <td>NO</td>\n",
       "      <td>NO</td>\n",
       "      <td>...</td>\n",
       "      <td>PUBLIC</td>\n",
       "      <td>1570</td>\n",
       "      <td>1570</td>\n",
       "      <td>0</td>\n",
       "      <td>240</td>\n",
       "      <td>1950</td>\n",
       "      <td>0</td>\n",
       "      <td>11231 Greenwood Avenue North, Seattle, Washing...</td>\n",
       "      <td>47.711525</td>\n",
       "      <td>-122.35591</td>\n",
       "    </tr>\n",
       "    <tr>\n",
       "      <th>2</th>\n",
       "      <td>1180000275</td>\n",
       "      <td>9/29/2021</td>\n",
       "      <td>311000.0</td>\n",
       "      <td>6</td>\n",
       "      <td>2.0</td>\n",
       "      <td>2880</td>\n",
       "      <td>6156</td>\n",
       "      <td>1.0</td>\n",
       "      <td>NO</td>\n",
       "      <td>NO</td>\n",
       "      <td>...</td>\n",
       "      <td>PUBLIC</td>\n",
       "      <td>1580</td>\n",
       "      <td>1580</td>\n",
       "      <td>0</td>\n",
       "      <td>0</td>\n",
       "      <td>1956</td>\n",
       "      <td>0</td>\n",
       "      <td>8504 South 113th Street, Seattle, Washington 9...</td>\n",
       "      <td>47.502045</td>\n",
       "      <td>-122.22520</td>\n",
       "    </tr>\n",
       "    <tr>\n",
       "      <th>3</th>\n",
       "      <td>1604601802</td>\n",
       "      <td>12/14/2021</td>\n",
       "      <td>775000.0</td>\n",
       "      <td>3</td>\n",
       "      <td>3.0</td>\n",
       "      <td>2160</td>\n",
       "      <td>1400</td>\n",
       "      <td>2.0</td>\n",
       "      <td>NO</td>\n",
       "      <td>NO</td>\n",
       "      <td>...</td>\n",
       "      <td>PUBLIC</td>\n",
       "      <td>1090</td>\n",
       "      <td>1070</td>\n",
       "      <td>200</td>\n",
       "      <td>270</td>\n",
       "      <td>2010</td>\n",
       "      <td>0</td>\n",
       "      <td>4079 Letitia Avenue South, Seattle, Washington...</td>\n",
       "      <td>47.566110</td>\n",
       "      <td>-122.29020</td>\n",
       "    </tr>\n",
       "    <tr>\n",
       "      <th>4</th>\n",
       "      <td>8562780790</td>\n",
       "      <td>8/24/2021</td>\n",
       "      <td>592500.0</td>\n",
       "      <td>2</td>\n",
       "      <td>2.0</td>\n",
       "      <td>1120</td>\n",
       "      <td>758</td>\n",
       "      <td>2.0</td>\n",
       "      <td>NO</td>\n",
       "      <td>NO</td>\n",
       "      <td>...</td>\n",
       "      <td>PUBLIC</td>\n",
       "      <td>1120</td>\n",
       "      <td>550</td>\n",
       "      <td>550</td>\n",
       "      <td>30</td>\n",
       "      <td>2012</td>\n",
       "      <td>0</td>\n",
       "      <td>2193 Northwest Talus Drive, Issaquah, Washingt...</td>\n",
       "      <td>47.532470</td>\n",
       "      <td>-122.07188</td>\n",
       "    </tr>\n",
       "  </tbody>\n",
       "</table>\n",
       "<p>5 rows × 25 columns</p>\n",
       "</div>"
      ],
      "text/plain": [
       "           id        date     price  bedrooms  bathrooms  sqft_living  \\\n",
       "0  7399300360   5/24/2022  675000.0         4        1.0         1180   \n",
       "1  8910500230  12/13/2021  920000.0         5        2.5         2770   \n",
       "2  1180000275   9/29/2021  311000.0         6        2.0         2880   \n",
       "3  1604601802  12/14/2021  775000.0         3        3.0         2160   \n",
       "4  8562780790   8/24/2021  592500.0         2        2.0         1120   \n",
       "\n",
       "   sqft_lot  floors waterfront greenbelt  ... sewer_system sqft_above  \\\n",
       "0      7140     1.0         NO        NO  ...       PUBLIC       1180   \n",
       "1      6703     1.0         NO        NO  ...       PUBLIC       1570   \n",
       "2      6156     1.0         NO        NO  ...       PUBLIC       1580   \n",
       "3      1400     2.0         NO        NO  ...       PUBLIC       1090   \n",
       "4       758     2.0         NO        NO  ...       PUBLIC       1120   \n",
       "\n",
       "  sqft_basement sqft_garage sqft_patio yr_built  yr_renovated  \\\n",
       "0             0           0         40     1969             0   \n",
       "1          1570           0        240     1950             0   \n",
       "2          1580           0          0     1956             0   \n",
       "3          1070         200        270     2010             0   \n",
       "4           550         550         30     2012             0   \n",
       "\n",
       "                                             address        lat       long  \n",
       "0  2102 Southeast 21st Court, Renton, Washington ...  47.461975 -122.19052  \n",
       "1  11231 Greenwood Avenue North, Seattle, Washing...  47.711525 -122.35591  \n",
       "2  8504 South 113th Street, Seattle, Washington 9...  47.502045 -122.22520  \n",
       "3  4079 Letitia Avenue South, Seattle, Washington...  47.566110 -122.29020  \n",
       "4  2193 Northwest Talus Drive, Issaquah, Washingt...  47.532470 -122.07188  \n",
       "\n",
       "[5 rows x 25 columns]"
      ]
     },
     "execution_count": 1320,
     "metadata": {},
     "output_type": "execute_result"
    }
   ],
   "source": [
    "# reading in the King County dataset to Pandas\n",
    "df = pd.read_csv('data/kc_house_data.csv')\n",
    "df.head()"
   ]
  },
  {
   "cell_type": "markdown",
   "metadata": {
    "index": 8
   },
   "source": [
    "### Data Exploration"
   ]
  },
  {
   "cell_type": "code",
   "execution_count": 1321,
   "metadata": {},
   "outputs": [
    {
     "name": "stdout",
     "output_type": "stream",
     "text": [
      "<class 'pandas.core.frame.DataFrame'>\n",
      "RangeIndex: 30155 entries, 0 to 30154\n",
      "Data columns (total 25 columns):\n",
      " #   Column         Non-Null Count  Dtype  \n",
      "---  ------         --------------  -----  \n",
      " 0   id             30155 non-null  int64  \n",
      " 1   date           30155 non-null  object \n",
      " 2   price          30155 non-null  float64\n",
      " 3   bedrooms       30155 non-null  int64  \n",
      " 4   bathrooms      30155 non-null  float64\n",
      " 5   sqft_living    30155 non-null  int64  \n",
      " 6   sqft_lot       30155 non-null  int64  \n",
      " 7   floors         30155 non-null  float64\n",
      " 8   waterfront     30155 non-null  object \n",
      " 9   greenbelt      30155 non-null  object \n",
      " 10  nuisance       30155 non-null  object \n",
      " 11  view           30155 non-null  object \n",
      " 12  condition      30155 non-null  object \n",
      " 13  grade          30155 non-null  object \n",
      " 14  heat_source    30123 non-null  object \n",
      " 15  sewer_system   30141 non-null  object \n",
      " 16  sqft_above     30155 non-null  int64  \n",
      " 17  sqft_basement  30155 non-null  int64  \n",
      " 18  sqft_garage    30155 non-null  int64  \n",
      " 19  sqft_patio     30155 non-null  int64  \n",
      " 20  yr_built       30155 non-null  int64  \n",
      " 21  yr_renovated   30155 non-null  int64  \n",
      " 22  address        30155 non-null  object \n",
      " 23  lat            30155 non-null  float64\n",
      " 24  long           30155 non-null  float64\n",
      "dtypes: float64(5), int64(10), object(10)\n",
      "memory usage: 5.8+ MB\n"
     ]
    }
   ],
   "source": [
    "df.info()"
   ]
  },
  {
   "cell_type": "code",
   "execution_count": 1322,
   "metadata": {},
   "outputs": [],
   "source": [
    "# dropping the placeholder column\n",
    "df.drop(labels='id', axis=1, inplace=True)"
   ]
  },
  {
   "cell_type": "code",
   "execution_count": 1323,
   "metadata": {},
   "outputs": [],
   "source": [
    "# converting all dates to datetime\n",
    "df['date'] = pd.to_datetime(df['date'])"
   ]
  },
  {
   "cell_type": "code",
   "execution_count": 1324,
   "metadata": {},
   "outputs": [],
   "source": [
    "# isolating the zip code \n",
    "# alternative methods to achieve same\n",
    "# df['Zipcode'] = df['address'].str.extract(r'(\\d{5}\\-?\\d{0,4})')\n",
    "# df['address'][0].split(',')[2][-5:]\n",
    "# df['address'][1000][-20:-15]"
   ]
  },
  {
   "cell_type": "code",
   "execution_count": 1325,
   "metadata": {},
   "outputs": [],
   "source": [
    "df['Zipcode'] = df['address'].apply(lambda x: x[-20:-15])"
   ]
  },
  {
   "cell_type": "code",
   "execution_count": 1326,
   "metadata": {},
   "outputs": [],
   "source": [
    "df['Zipcode'] = df['Zipcode'].astype(int)"
   ]
  },
  {
   "cell_type": "code",
   "execution_count": 1327,
   "metadata": {},
   "outputs": [
    {
     "data": {
      "text/plain": [
       "<AxesSubplot:>"
      ]
     },
     "execution_count": 1327,
     "metadata": {},
     "output_type": "execute_result"
    },
    {
     "data": {
      "image/png": "[encoded data removed]",
      "text/plain": [
       "<Figure size 432x288 with 1 Axes>"
      ]
     },
     "metadata": {
      "needs_background": "light"
     },
     "output_type": "display_data"
    }
   ],
   "source": [
    "df['Zipcode'].hist()"
   ]
  },
  {
   "cell_type": "code",
   "execution_count": 1328,
   "metadata": {},
   "outputs": [],
   "source": [
    "# controling for outliers\n",
    "df = df.loc[(df['Zipcode'] > 98000) & (df['Zipcode'] <= 98922)]"
   ]
  },
  {
   "cell_type": "code",
   "execution_count": 1329,
   "metadata": {},
   "outputs": [
    {
     "data": {
      "text/html": [
       "<div>\n",
       "<style scoped>\n",
       "    .dataframe tbody tr th:only-of-type {\n",
       "        vertical-align: middle;\n",
       "    }\n",
       "\n",
       "    .dataframe tbody tr th {\n",
       "        vertical-align: top;\n",
       "    }\n",
       "\n",
       "    .dataframe thead th {\n",
       "        text-align: right;\n",
       "    }\n",
       "</style>\n",
       "<table border=\"1\" class=\"dataframe\">\n",
       "  <thead>\n",
       "    <tr style=\"text-align: right;\">\n",
       "      <th></th>\n",
       "      <th>Neighborhood</th>\n",
       "      <th>Population</th>\n",
       "    </tr>\n",
       "    <tr>\n",
       "      <th>ZIP Code</th>\n",
       "      <th></th>\n",
       "      <th></th>\n",
       "    </tr>\n",
       "  </thead>\n",
       "  <tbody>\n",
       "    <tr>\n",
       "      <th>98158</th>\n",
       "      <td>Seattle</td>\n",
       "      <td>NaN</td>\n",
       "    </tr>\n",
       "    <tr>\n",
       "      <th>98161</th>\n",
       "      <td>Seattle</td>\n",
       "      <td>NaN</td>\n",
       "    </tr>\n",
       "    <tr>\n",
       "      <th>98164</th>\n",
       "      <td>Seattle</td>\n",
       "      <td>141.0</td>\n",
       "    </tr>\n",
       "    <tr>\n",
       "      <th>98166</th>\n",
       "      <td>Seattle</td>\n",
       "      <td>20301.0</td>\n",
       "    </tr>\n",
       "    <tr>\n",
       "      <th>98168</th>\n",
       "      <td>Seattle</td>\n",
       "      <td>33734.0</td>\n",
       "    </tr>\n",
       "    <tr>\n",
       "      <th>98174</th>\n",
       "      <td>Seattle</td>\n",
       "      <td>NaN</td>\n",
       "    </tr>\n",
       "    <tr>\n",
       "      <th>98177</th>\n",
       "      <td>Seattle</td>\n",
       "      <td>19030.0</td>\n",
       "    </tr>\n",
       "    <tr>\n",
       "      <th>98178</th>\n",
       "      <td>Seattle</td>\n",
       "      <td>24092.0</td>\n",
       "    </tr>\n",
       "    <tr>\n",
       "      <th>98188</th>\n",
       "      <td>Seattle</td>\n",
       "      <td>23111.0</td>\n",
       "    </tr>\n",
       "    <tr>\n",
       "      <th>98195</th>\n",
       "      <td>Seattle</td>\n",
       "      <td>NaN</td>\n",
       "    </tr>\n",
       "    <tr>\n",
       "      <th>98198</th>\n",
       "      <td>Seattle</td>\n",
       "      <td>34584.0</td>\n",
       "    </tr>\n",
       "    <tr>\n",
       "      <th>98199</th>\n",
       "      <td>Seattle</td>\n",
       "      <td>19686.0</td>\n",
       "    </tr>\n",
       "    <tr>\n",
       "      <th>98224</th>\n",
       "      <td>Baring</td>\n",
       "      <td>294.0</td>\n",
       "    </tr>\n",
       "    <tr>\n",
       "      <th>98251</th>\n",
       "      <td>Gold Bar</td>\n",
       "      <td>4567.0</td>\n",
       "    </tr>\n",
       "    <tr>\n",
       "      <th>98288</th>\n",
       "      <td>Skykomish</td>\n",
       "      <td>333.0</td>\n",
       "    </tr>\n",
       "    <tr>\n",
       "      <th>98321</th>\n",
       "      <td>Buckley</td>\n",
       "      <td>15152.0</td>\n",
       "    </tr>\n",
       "    <tr>\n",
       "      <th>98354</th>\n",
       "      <td>Milton</td>\n",
       "      <td>6976.0</td>\n",
       "    </tr>\n",
       "    <tr>\n",
       "      <th>98826</th>\n",
       "      <td>Leavenworth</td>\n",
       "      <td>6504.0</td>\n",
       "    </tr>\n",
       "    <tr>\n",
       "      <th>98922</th>\n",
       "      <td>Cle Elum</td>\n",
       "      <td>5468.0</td>\n",
       "    </tr>\n",
       "    <tr>\n",
       "      <th>98009</th>\n",
       "      <td>Bellevue</td>\n",
       "      <td>NaN</td>\n",
       "    </tr>\n",
       "    <tr>\n",
       "      <th>98013</th>\n",
       "      <td>Burton</td>\n",
       "      <td>NaN</td>\n",
       "    </tr>\n",
       "    <tr>\n",
       "      <th>98015</th>\n",
       "      <td>Bellevue</td>\n",
       "      <td>NaN</td>\n",
       "    </tr>\n",
       "    <tr>\n",
       "      <th>98025</th>\n",
       "      <td>Hobart</td>\n",
       "      <td>NaN</td>\n",
       "    </tr>\n",
       "    <tr>\n",
       "      <th>98035</th>\n",
       "      <td>Kent</td>\n",
       "      <td>NaN</td>\n",
       "    </tr>\n",
       "    <tr>\n",
       "      <th>98041</th>\n",
       "      <td>Bothell</td>\n",
       "      <td>NaN</td>\n",
       "    </tr>\n",
       "    <tr>\n",
       "      <th>98050</th>\n",
       "      <td>Preston</td>\n",
       "      <td>322.0</td>\n",
       "    </tr>\n",
       "    <tr>\n",
       "      <th>98062</th>\n",
       "      <td>Seahurst</td>\n",
       "      <td>NaN</td>\n",
       "    </tr>\n",
       "    <tr>\n",
       "      <th>98063</th>\n",
       "      <td>Federal Way</td>\n",
       "      <td>NaN</td>\n",
       "    </tr>\n",
       "    <tr>\n",
       "      <th>98064</th>\n",
       "      <td>Kent</td>\n",
       "      <td>NaN</td>\n",
       "    </tr>\n",
       "    <tr>\n",
       "      <th>98071</th>\n",
       "      <td>Auburn</td>\n",
       "      <td>NaN</td>\n",
       "    </tr>\n",
       "    <tr>\n",
       "      <th>98073</th>\n",
       "      <td>Redmond</td>\n",
       "      <td>NaN</td>\n",
       "    </tr>\n",
       "    <tr>\n",
       "      <th>98082</th>\n",
       "      <td>Mill Creek</td>\n",
       "      <td>NaN</td>\n",
       "    </tr>\n",
       "    <tr>\n",
       "      <th>98083</th>\n",
       "      <td>Kirkland</td>\n",
       "      <td>NaN</td>\n",
       "    </tr>\n",
       "    <tr>\n",
       "      <th>98089</th>\n",
       "      <td>Kent</td>\n",
       "      <td>NaN</td>\n",
       "    </tr>\n",
       "    <tr>\n",
       "      <th>98093</th>\n",
       "      <td>Federal Way</td>\n",
       "      <td>NaN</td>\n",
       "    </tr>\n",
       "    <tr>\n",
       "      <th>98111</th>\n",
       "      <td>Seattle</td>\n",
       "      <td>NaN</td>\n",
       "    </tr>\n",
       "    <tr>\n",
       "      <th>98113</th>\n",
       "      <td>Seattle</td>\n",
       "      <td>NaN</td>\n",
       "    </tr>\n",
       "    <tr>\n",
       "      <th>98114</th>\n",
       "      <td>Seattle</td>\n",
       "      <td>NaN</td>\n",
       "    </tr>\n",
       "    <tr>\n",
       "      <th>98124</th>\n",
       "      <td>Seattle</td>\n",
       "      <td>NaN</td>\n",
       "    </tr>\n",
       "    <tr>\n",
       "      <th>98127</th>\n",
       "      <td>Seattle</td>\n",
       "      <td>NaN</td>\n",
       "    </tr>\n",
       "    <tr>\n",
       "      <th>98138</th>\n",
       "      <td>Seattle</td>\n",
       "      <td>NaN</td>\n",
       "    </tr>\n",
       "    <tr>\n",
       "      <th>98139</th>\n",
       "      <td>Seattle</td>\n",
       "      <td>NaN</td>\n",
       "    </tr>\n",
       "    <tr>\n",
       "      <th>98141</th>\n",
       "      <td>Seattle</td>\n",
       "      <td>NaN</td>\n",
       "    </tr>\n",
       "    <tr>\n",
       "      <th>98145</th>\n",
       "      <td>Seattle</td>\n",
       "      <td>NaN</td>\n",
       "    </tr>\n",
       "    <tr>\n",
       "      <th>98160</th>\n",
       "      <td>Seattle</td>\n",
       "      <td>NaN</td>\n",
       "    </tr>\n",
       "    <tr>\n",
       "      <th>98165</th>\n",
       "      <td>Seattle</td>\n",
       "      <td>NaN</td>\n",
       "    </tr>\n",
       "    <tr>\n",
       "      <th>98175</th>\n",
       "      <td>Seattle</td>\n",
       "      <td>NaN</td>\n",
       "    </tr>\n",
       "    <tr>\n",
       "      <th>98194</th>\n",
       "      <td>Seattle</td>\n",
       "      <td>NaN</td>\n",
       "    </tr>\n",
       "    <tr>\n",
       "      <th>98129</th>\n",
       "      <td>Seattle</td>\n",
       "      <td>NaN</td>\n",
       "    </tr>\n",
       "    <tr>\n",
       "      <th>98170</th>\n",
       "      <td>Seattle</td>\n",
       "      <td>NaN</td>\n",
       "    </tr>\n",
       "    <tr>\n",
       "      <th>98181</th>\n",
       "      <td>Seattle</td>\n",
       "      <td>NaN</td>\n",
       "    </tr>\n",
       "    <tr>\n",
       "      <th>98185</th>\n",
       "      <td>Seattle</td>\n",
       "      <td>NaN</td>\n",
       "    </tr>\n",
       "    <tr>\n",
       "      <th>98189</th>\n",
       "      <td>Seattle</td>\n",
       "      <td>NaN</td>\n",
       "    </tr>\n",
       "    <tr>\n",
       "      <th>98190</th>\n",
       "      <td>Seattle</td>\n",
       "      <td>NaN</td>\n",
       "    </tr>\n",
       "    <tr>\n",
       "      <th>98191</th>\n",
       "      <td>Seattle</td>\n",
       "      <td>NaN</td>\n",
       "    </tr>\n",
       "  </tbody>\n",
       "</table>\n",
       "</div>"
      ],
      "text/plain": [
       "         Neighborhood  Population\n",
       "ZIP Code                         \n",
       "98158         Seattle         NaN\n",
       "98161         Seattle         NaN\n",
       "98164         Seattle       141.0\n",
       "98166         Seattle     20301.0\n",
       "98168         Seattle     33734.0\n",
       "98174         Seattle         NaN\n",
       "98177         Seattle     19030.0\n",
       "98178         Seattle     24092.0\n",
       "98188         Seattle     23111.0\n",
       "98195         Seattle         NaN\n",
       "98198         Seattle     34584.0\n",
       "98199         Seattle     19686.0\n",
       "98224          Baring       294.0\n",
       "98251        Gold Bar      4567.0\n",
       "98288       Skykomish       333.0\n",
       "98321         Buckley     15152.0\n",
       "98354          Milton      6976.0\n",
       "98826     Leavenworth      6504.0\n",
       "98922        Cle Elum      5468.0\n",
       "98009        Bellevue         NaN\n",
       "98013          Burton         NaN\n",
       "98015        Bellevue         NaN\n",
       "98025          Hobart         NaN\n",
       "98035            Kent         NaN\n",
       "98041         Bothell         NaN\n",
       "98050         Preston       322.0\n",
       "98062        Seahurst         NaN\n",
       "98063     Federal Way         NaN\n",
       "98064            Kent         NaN\n",
       "98071          Auburn         NaN\n",
       "98073         Redmond         NaN\n",
       "98082      Mill Creek         NaN\n",
       "98083        Kirkland         NaN\n",
       "98089            Kent         NaN\n",
       "98093     Federal Way         NaN\n",
       "98111         Seattle         NaN\n",
       "98113         Seattle         NaN\n",
       "98114         Seattle         NaN\n",
       "98124         Seattle         NaN\n",
       "98127         Seattle         NaN\n",
       "98138         Seattle         NaN\n",
       "98139         Seattle         NaN\n",
       "98141         Seattle         NaN\n",
       "98145         Seattle         NaN\n",
       "98160         Seattle         NaN\n",
       "98165         Seattle         NaN\n",
       "98175         Seattle         NaN\n",
       "98194         Seattle         NaN\n",
       "98129         Seattle         NaN\n",
       "98170         Seattle         NaN\n",
       "98181         Seattle         NaN\n",
       "98185         Seattle         NaN\n",
       "98189         Seattle         NaN\n",
       "98190         Seattle         NaN\n",
       "98191         Seattle         NaN"
      ]
     },
     "execution_count": 1329,
     "metadata": {},
     "output_type": "execute_result"
    }
   ],
   "source": [
    "# reading in Zip/Neighborhood/Population dataset\n",
    "df_zip = pd.read_csv('data/kc_zipcode_details.csv', index_col=0)\n",
    "df_zip.tail(55)"
   ]
  },
  {
   "cell_type": "code",
   "execution_count": 1330,
   "metadata": {},
   "outputs": [
    {
     "data": {
      "text/plain": [
       "88"
      ]
     },
     "execution_count": 1330,
     "metadata": {},
     "output_type": "execute_result"
    }
   ],
   "source": [
    "df.Zipcode.nunique()"
   ]
  },
  {
   "cell_type": "code",
   "execution_count": 1331,
   "metadata": {},
   "outputs": [],
   "source": [
    "# changing index name to match other dataset\n",
    "df_zip.index.names = ['Zipcode']"
   ]
  },
  {
   "cell_type": "code",
   "execution_count": 1332,
   "metadata": {},
   "outputs": [
    {
     "data": {
      "text/html": [
       "<div>\n",
       "<style scoped>\n",
       "    .dataframe tbody tr th:only-of-type {\n",
       "        vertical-align: middle;\n",
       "    }\n",
       "\n",
       "    .dataframe tbody tr th {\n",
       "        vertical-align: top;\n",
       "    }\n",
       "\n",
       "    .dataframe thead th {\n",
       "        text-align: right;\n",
       "    }\n",
       "</style>\n",
       "<table border=\"1\" class=\"dataframe\">\n",
       "  <thead>\n",
       "    <tr style=\"text-align: right;\">\n",
       "      <th></th>\n",
       "      <th>Zipcode</th>\n",
       "      <th>Neighborhood</th>\n",
       "      <th>Population</th>\n",
       "    </tr>\n",
       "  </thead>\n",
       "  <tbody>\n",
       "    <tr>\n",
       "      <th>0</th>\n",
       "      <td>98001</td>\n",
       "      <td>Auburn</td>\n",
       "      <td>31911.0</td>\n",
       "    </tr>\n",
       "    <tr>\n",
       "      <th>1</th>\n",
       "      <td>98002</td>\n",
       "      <td>Auburn</td>\n",
       "      <td>31647.0</td>\n",
       "    </tr>\n",
       "    <tr>\n",
       "      <th>2</th>\n",
       "      <td>98003</td>\n",
       "      <td>Federal Way</td>\n",
       "      <td>44151.0</td>\n",
       "    </tr>\n",
       "    <tr>\n",
       "      <th>3</th>\n",
       "      <td>98004</td>\n",
       "      <td>Bellevue</td>\n",
       "      <td>27946.0</td>\n",
       "    </tr>\n",
       "    <tr>\n",
       "      <th>4</th>\n",
       "      <td>98005</td>\n",
       "      <td>Bellevue</td>\n",
       "      <td>17714.0</td>\n",
       "    </tr>\n",
       "  </tbody>\n",
       "</table>\n",
       "</div>"
      ],
      "text/plain": [
       "   Zipcode Neighborhood  Population\n",
       "0    98001       Auburn     31911.0\n",
       "1    98002       Auburn     31647.0\n",
       "2    98003  Federal Way     44151.0\n",
       "3    98004     Bellevue     27946.0\n",
       "4    98005     Bellevue     17714.0"
      ]
     },
     "execution_count": 1332,
     "metadata": {},
     "output_type": "execute_result"
    }
   ],
   "source": [
    "df_zip.reset_index(inplace=True)\n",
    "df_zip.head()"
   ]
  },
  {
   "cell_type": "code",
   "execution_count": 1333,
   "metadata": {},
   "outputs": [
    {
     "data": {
      "text/plain": [
       "<AxesSubplot:>"
      ]
     },
     "execution_count": 1333,
     "metadata": {},
     "output_type": "execute_result"
    },
    {
     "data": {
      "image/png": "[encoded data removed]",
      "text/plain": [
       "<Figure size 432x288 with 1 Axes>"
      ]
     },
     "metadata": {
      "needs_background": "light"
     },
     "output_type": "display_data"
    }
   ],
   "source": [
    "# Outliers\n",
    "df_zip['Zipcode'].hist()"
   ]
  },
  {
   "cell_type": "code",
   "execution_count": 1334,
   "metadata": {},
   "outputs": [],
   "source": [
    "# # controlling for outliers\n",
    "# df_zip = df_zip.loc[(df_zip['Zipcode'] > 98000) & (df_zip['Zipcode'] <= 98288)]"
   ]
  },
  {
   "cell_type": "code",
   "execution_count": 1335,
   "metadata": {},
   "outputs": [
    {
     "data": {
      "text/plain": [
       "Zipcode         128\n",
       "Neighborhood     38\n",
       "Population       85\n",
       "dtype: int64"
      ]
     },
     "execution_count": 1335,
     "metadata": {},
     "output_type": "execute_result"
    }
   ],
   "source": [
    "df_zip.nunique()"
   ]
  },
  {
   "cell_type": "code",
   "execution_count": 1336,
   "metadata": {
    "scrolled": true
   },
   "outputs": [
    {
     "data": {
      "text/plain": [
       "128"
      ]
     },
     "execution_count": 1336,
     "metadata": {},
     "output_type": "execute_result"
    }
   ],
   "source": [
    "df_zip['Zipcode'].nunique()"
   ]
  },
  {
   "cell_type": "markdown",
   "metadata": {},
   "source": [
    "### Renaming Selldate"
   ]
  },
  {
   "cell_type": "code",
   "execution_count": 1337,
   "metadata": {},
   "outputs": [],
   "source": [
    "# renaming date to selldate\n",
    "rnmdate = {'date':'selldate'}\n",
    "df.rename(columns=rnmdate, inplace=True)"
   ]
  },
  {
   "cell_type": "markdown",
   "metadata": {},
   "source": [
    "## Engineering Yr_Old"
   ]
  },
  {
   "cell_type": "code",
   "execution_count": 1338,
   "metadata": {},
   "outputs": [],
   "source": [
    "# creating a year old column\n",
    "df['yr_old'] = np.where(df['yr_renovated'] !=0,df.selldate.apply(lambda x: x.year) - df['yr_renovated'],\n",
    "                        df['selldate'].apply(lambda x: x.year) - df['yr_built'])"
   ]
  },
  {
   "cell_type": "code",
   "execution_count": 1339,
   "metadata": {},
   "outputs": [
    {
     "data": {
      "text/html": [
       "<div>\n",
       "<style scoped>\n",
       "    .dataframe tbody tr th:only-of-type {\n",
       "        vertical-align: middle;\n",
       "    }\n",
       "\n",
       "    .dataframe tbody tr th {\n",
       "        vertical-align: top;\n",
       "    }\n",
       "\n",
       "    .dataframe thead th {\n",
       "        text-align: right;\n",
       "    }\n",
       "</style>\n",
       "<table border=\"1\" class=\"dataframe\">\n",
       "  <thead>\n",
       "    <tr style=\"text-align: right;\">\n",
       "      <th></th>\n",
       "      <th>price</th>\n",
       "      <th>bedrooms</th>\n",
       "      <th>bathrooms</th>\n",
       "      <th>sqft_living</th>\n",
       "      <th>sqft_lot</th>\n",
       "      <th>floors</th>\n",
       "      <th>sqft_above</th>\n",
       "      <th>sqft_basement</th>\n",
       "      <th>sqft_garage</th>\n",
       "      <th>sqft_patio</th>\n",
       "      <th>yr_built</th>\n",
       "      <th>yr_renovated</th>\n",
       "      <th>lat</th>\n",
       "      <th>long</th>\n",
       "      <th>Zipcode</th>\n",
       "      <th>yr_old</th>\n",
       "    </tr>\n",
       "  </thead>\n",
       "  <tbody>\n",
       "    <tr>\n",
       "      <th>count</th>\n",
       "      <td>2.924100e+04</td>\n",
       "      <td>29241.000000</td>\n",
       "      <td>29241.000000</td>\n",
       "      <td>29241.000000</td>\n",
       "      <td>2.924100e+04</td>\n",
       "      <td>29241.000000</td>\n",
       "      <td>29241.000000</td>\n",
       "      <td>29241.000000</td>\n",
       "      <td>29241.000000</td>\n",
       "      <td>29241.000000</td>\n",
       "      <td>29241.000000</td>\n",
       "      <td>29241.000000</td>\n",
       "      <td>29241.000000</td>\n",
       "      <td>29241.000000</td>\n",
       "      <td>29241.000000</td>\n",
       "      <td>29241.000000</td>\n",
       "    </tr>\n",
       "    <tr>\n",
       "      <th>mean</th>\n",
       "      <td>1.112620e+06</td>\n",
       "      <td>3.435040</td>\n",
       "      <td>2.332239</td>\n",
       "      <td>2130.756643</td>\n",
       "      <td>1.719192e+04</td>\n",
       "      <td>1.517151</td>\n",
       "      <td>1825.820423</td>\n",
       "      <td>480.763654</td>\n",
       "      <td>336.275811</td>\n",
       "      <td>216.363599</td>\n",
       "      <td>1973.878458</td>\n",
       "      <td>93.764304</td>\n",
       "      <td>47.543109</td>\n",
       "      <td>-122.214209</td>\n",
       "      <td>98077.684826</td>\n",
       "      <td>44.741698</td>\n",
       "    </tr>\n",
       "    <tr>\n",
       "      <th>std</th>\n",
       "      <td>8.953389e+05</td>\n",
       "      <td>0.978861</td>\n",
       "      <td>0.895780</td>\n",
       "      <td>977.344954</td>\n",
       "      <td>6.125879e+04</td>\n",
       "      <td>0.548585</td>\n",
       "      <td>880.729276</td>\n",
       "      <td>585.935636</td>\n",
       "      <td>286.199465</td>\n",
       "      <td>246.749571</td>\n",
       "      <td>31.684861</td>\n",
       "      <td>422.616958</td>\n",
       "      <td>0.147563</td>\n",
       "      <td>0.143653</td>\n",
       "      <td>55.267033</td>\n",
       "      <td>31.007476</td>\n",
       "    </tr>\n",
       "    <tr>\n",
       "      <th>min</th>\n",
       "      <td>2.736000e+04</td>\n",
       "      <td>0.000000</td>\n",
       "      <td>0.000000</td>\n",
       "      <td>3.000000</td>\n",
       "      <td>4.020000e+02</td>\n",
       "      <td>1.000000</td>\n",
       "      <td>2.000000</td>\n",
       "      <td>0.000000</td>\n",
       "      <td>0.000000</td>\n",
       "      <td>0.000000</td>\n",
       "      <td>1900.000000</td>\n",
       "      <td>0.000000</td>\n",
       "      <td>45.636797</td>\n",
       "      <td>-122.666021</td>\n",
       "      <td>98001.000000</td>\n",
       "      <td>-1.000000</td>\n",
       "    </tr>\n",
       "    <tr>\n",
       "      <th>25%</th>\n",
       "      <td>6.450000e+05</td>\n",
       "      <td>3.000000</td>\n",
       "      <td>2.000000</td>\n",
       "      <td>1440.000000</td>\n",
       "      <td>5.000000e+03</td>\n",
       "      <td>1.000000</td>\n",
       "      <td>1190.000000</td>\n",
       "      <td>0.000000</td>\n",
       "      <td>0.000000</td>\n",
       "      <td>40.000000</td>\n",
       "      <td>1952.000000</td>\n",
       "      <td>0.000000</td>\n",
       "      <td>47.430065</td>\n",
       "      <td>-122.328290</td>\n",
       "      <td>98032.000000</td>\n",
       "      <td>18.000000</td>\n",
       "    </tr>\n",
       "    <tr>\n",
       "      <th>50%</th>\n",
       "      <td>8.670000e+05</td>\n",
       "      <td>3.000000</td>\n",
       "      <td>2.500000</td>\n",
       "      <td>1940.000000</td>\n",
       "      <td>7.560000e+03</td>\n",
       "      <td>1.500000</td>\n",
       "      <td>1580.000000</td>\n",
       "      <td>0.000000</td>\n",
       "      <td>400.000000</td>\n",
       "      <td>142.000000</td>\n",
       "      <td>1976.000000</td>\n",
       "      <td>0.000000</td>\n",
       "      <td>47.557680</td>\n",
       "      <td>-122.234070</td>\n",
       "      <td>98059.000000</td>\n",
       "      <td>43.000000</td>\n",
       "    </tr>\n",
       "    <tr>\n",
       "      <th>75%</th>\n",
       "      <td>1.310000e+06</td>\n",
       "      <td>4.000000</td>\n",
       "      <td>3.000000</td>\n",
       "      <td>2640.000000</td>\n",
       "      <td>1.078000e+04</td>\n",
       "      <td>2.000000</td>\n",
       "      <td>2290.000000</td>\n",
       "      <td>960.000000</td>\n",
       "      <td>510.000000</td>\n",
       "      <td>310.000000</td>\n",
       "      <td>2001.000000</td>\n",
       "      <td>0.000000</td>\n",
       "      <td>47.672045</td>\n",
       "      <td>-122.127475</td>\n",
       "      <td>98117.000000</td>\n",
       "      <td>66.000000</td>\n",
       "    </tr>\n",
       "    <tr>\n",
       "      <th>max</th>\n",
       "      <td>3.075000e+07</td>\n",
       "      <td>13.000000</td>\n",
       "      <td>10.500000</td>\n",
       "      <td>15360.000000</td>\n",
       "      <td>3.253932e+06</td>\n",
       "      <td>4.000000</td>\n",
       "      <td>12660.000000</td>\n",
       "      <td>8020.000000</td>\n",
       "      <td>3580.000000</td>\n",
       "      <td>4370.000000</td>\n",
       "      <td>2022.000000</td>\n",
       "      <td>2022.000000</td>\n",
       "      <td>48.111504</td>\n",
       "      <td>-121.163960</td>\n",
       "      <td>98663.000000</td>\n",
       "      <td>122.000000</td>\n",
       "    </tr>\n",
       "  </tbody>\n",
       "</table>\n",
       "</div>"
      ],
      "text/plain": [
       "              price      bedrooms     bathrooms   sqft_living      sqft_lot  \\\n",
       "count  2.924100e+04  29241.000000  29241.000000  29241.000000  2.924100e+04   \n",
       "mean   1.112620e+06      3.435040      2.332239   2130.756643  1.719192e+04   \n",
       "std    8.953389e+05      0.978861      0.895780    977.344954  6.125879e+04   \n",
       "min    2.736000e+04      0.000000      0.000000      3.000000  4.020000e+02   \n",
       "25%    6.450000e+05      3.000000      2.000000   1440.000000  5.000000e+03   \n",
       "50%    8.670000e+05      3.000000      2.500000   1940.000000  7.560000e+03   \n",
       "75%    1.310000e+06      4.000000      3.000000   2640.000000  1.078000e+04   \n",
       "max    3.075000e+07     13.000000     10.500000  15360.000000  3.253932e+06   \n",
       "\n",
       "             floors    sqft_above  sqft_basement   sqft_garage    sqft_patio  \\\n",
       "count  29241.000000  29241.000000   29241.000000  29241.000000  29241.000000   \n",
       "mean       1.517151   1825.820423     480.763654    336.275811    216.363599   \n",
       "std        0.548585    880.729276     585.935636    286.199465    246.749571   \n",
       "min        1.000000      2.000000       0.000000      0.000000      0.000000   \n",
       "25%        1.000000   1190.000000       0.000000      0.000000     40.000000   \n",
       "50%        1.500000   1580.000000       0.000000    400.000000    142.000000   \n",
       "75%        2.000000   2290.000000     960.000000    510.000000    310.000000   \n",
       "max        4.000000  12660.000000    8020.000000   3580.000000   4370.000000   \n",
       "\n",
       "           yr_built  yr_renovated           lat          long       Zipcode  \\\n",
       "count  29241.000000  29241.000000  29241.000000  29241.000000  29241.000000   \n",
       "mean    1973.878458     93.764304     47.543109   -122.214209  98077.684826   \n",
       "std       31.684861    422.616958      0.147563      0.143653     55.267033   \n",
       "min     1900.000000      0.000000     45.636797   -122.666021  98001.000000   \n",
       "25%     1952.000000      0.000000     47.430065   -122.328290  98032.000000   \n",
       "50%     1976.000000      0.000000     47.557680   -122.234070  98059.000000   \n",
       "75%     2001.000000      0.000000     47.672045   -122.127475  98117.000000   \n",
       "max     2022.000000   2022.000000     48.111504   -121.163960  98663.000000   \n",
       "\n",
       "             yr_old  \n",
       "count  29241.000000  \n",
       "mean      44.741698  \n",
       "std       31.007476  \n",
       "min       -1.000000  \n",
       "25%       18.000000  \n",
       "50%       43.000000  \n",
       "75%       66.000000  \n",
       "max      122.000000  "
      ]
     },
     "execution_count": 1339,
     "metadata": {},
     "output_type": "execute_result"
    }
   ],
   "source": [
    "df.describe()"
   ]
  },
  {
   "cell_type": "code",
   "execution_count": 1342,
   "metadata": {},
   "outputs": [],
   "source": [
    "# controlling for dates where house was sold after renovation\n",
    "df.loc[df['yr_old'] < 0, 'yr_old'] = 0"
   ]
  },
  {
   "cell_type": "code",
   "execution_count": 1343,
   "metadata": {},
   "outputs": [
    {
     "data": {
      "text/plain": [
       "0      1368\n",
       "1       664\n",
       "44      504\n",
       "54      478\n",
       "16      468\n",
       "       ... \n",
       "122      32\n",
       "87       31\n",
       "88       30\n",
       "119      30\n",
       "120      27\n",
       "Name: yr_old, Length: 123, dtype: int64"
      ]
     },
     "execution_count": 1343,
     "metadata": {},
     "output_type": "execute_result"
    }
   ],
   "source": [
    "df.yr_old.value_counts()"
   ]
  },
  {
   "cell_type": "markdown",
   "metadata": {},
   "source": [
    "### Data Cleaning"
   ]
  },
  {
   "cell_type": "code",
   "execution_count": 1344,
   "metadata": {},
   "outputs": [
    {
     "data": {
      "text/plain": [
       "selldate         0.000000\n",
       "price            0.000000\n",
       "bedrooms         0.000000\n",
       "bathrooms        0.000000\n",
       "sqft_living      0.000000\n",
       "sqft_lot         0.000000\n",
       "floors           0.000000\n",
       "waterfront       0.000000\n",
       "greenbelt        0.000000\n",
       "nuisance         0.000000\n",
       "view             0.000000\n",
       "condition        0.000000\n",
       "grade            0.000000\n",
       "heat_source      0.001026\n",
       "sewer_system     0.000445\n",
       "sqft_above       0.000000\n",
       "sqft_basement    0.000000\n",
       "sqft_garage      0.000000\n",
       "sqft_patio       0.000000\n",
       "yr_built         0.000000\n",
       "yr_renovated     0.000000\n",
       "address          0.000000\n",
       "lat              0.000000\n",
       "long             0.000000\n",
       "Zipcode          0.000000\n",
       "yr_old           0.000000\n",
       "dtype: float64"
      ]
     },
     "execution_count": 1344,
     "metadata": {},
     "output_type": "execute_result"
    }
   ],
   "source": [
    "# identifying missing values \n",
    "df.isna().sum()/df.shape[0]"
   ]
  },
  {
   "cell_type": "code",
   "execution_count": 1345,
   "metadata": {},
   "outputs": [],
   "source": [
    "# remove missing values in columns\n",
    "df.dropna(subset=['heat_source', 'sewer_system'], axis=0, inplace=True)"
   ]
  },
  {
   "cell_type": "code",
   "execution_count": 1346,
   "metadata": {},
   "outputs": [
    {
     "data": {
      "text/plain": [
       "Zipcode         0.000000\n",
       "Neighborhood    0.000000\n",
       "Population      0.001438\n",
       "dtype: float64"
      ]
     },
     "execution_count": 1346,
     "metadata": {},
     "output_type": "execute_result"
    }
   ],
   "source": [
    "# identify missing values in zip code data\n",
    "df_zip.isna().sum()/df.shape[0]"
   ]
  },
  {
   "cell_type": "code",
   "execution_count": 1347,
   "metadata": {},
   "outputs": [],
   "source": [
    "df_zip.dropna(subset=['Population'], axis=0, inplace=True)"
   ]
  },
  {
   "cell_type": "markdown",
   "metadata": {},
   "source": [
    "## Merge on zipcode to include neighborhood/population"
   ]
  },
  {
   "cell_type": "code",
   "execution_count": 1348,
   "metadata": {},
   "outputs": [],
   "source": [
    "df1 = df.merge(df_zip, how='left', on='Zipcode')"
   ]
  },
  {
   "cell_type": "code",
   "execution_count": 1349,
   "metadata": {},
   "outputs": [
    {
     "name": "stdout",
     "output_type": "stream",
     "text": [
      "<class 'pandas.core.frame.DataFrame'>\n",
      "Int64Index: 29200 entries, 0 to 29199\n",
      "Data columns (total 28 columns):\n",
      " #   Column         Non-Null Count  Dtype         \n",
      "---  ------         --------------  -----         \n",
      " 0   selldate       29200 non-null  datetime64[ns]\n",
      " 1   price          29200 non-null  float64       \n",
      " 2   bedrooms       29200 non-null  int64         \n",
      " 3   bathrooms      29200 non-null  float64       \n",
      " 4   sqft_living    29200 non-null  int64         \n",
      " 5   sqft_lot       29200 non-null  int64         \n",
      " 6   floors         29200 non-null  float64       \n",
      " 7   waterfront     29200 non-null  object        \n",
      " 8   greenbelt      29200 non-null  object        \n",
      " 9   nuisance       29200 non-null  object        \n",
      " 10  view           29200 non-null  object        \n",
      " 11  condition      29200 non-null  object        \n",
      " 12  grade          29200 non-null  object        \n",
      " 13  heat_source    29200 non-null  object        \n",
      " 14  sewer_system   29200 non-null  object        \n",
      " 15  sqft_above     29200 non-null  int64         \n",
      " 16  sqft_basement  29200 non-null  int64         \n",
      " 17  sqft_garage    29200 non-null  int64         \n",
      " 18  sqft_patio     29200 non-null  int64         \n",
      " 19  yr_built       29200 non-null  int64         \n",
      " 20  yr_renovated   29200 non-null  int64         \n",
      " 21  address        29200 non-null  object        \n",
      " 22  lat            29200 non-null  float64       \n",
      " 23  long           29200 non-null  float64       \n",
      " 24  Zipcode        29200 non-null  int64         \n",
      " 25  yr_old         29200 non-null  int64         \n",
      " 26  Neighborhood   29175 non-null  object        \n",
      " 27  Population     29175 non-null  float64       \n",
      "dtypes: datetime64[ns](1), float64(6), int64(11), object(10)\n",
      "memory usage: 6.5+ MB\n"
     ]
    }
   ],
   "source": [
    "df1.info()"
   ]
  },
  {
   "cell_type": "code",
   "execution_count": 1350,
   "metadata": {},
   "outputs": [
    {
     "data": {
      "text/plain": [
       "selldate         0.000000\n",
       "price            0.000000\n",
       "bedrooms         0.000000\n",
       "bathrooms        0.000000\n",
       "sqft_living      0.000000\n",
       "sqft_lot         0.000000\n",
       "floors           0.000000\n",
       "waterfront       0.000000\n",
       "greenbelt        0.000000\n",
       "nuisance         0.000000\n",
       "view             0.000000\n",
       "condition        0.000000\n",
       "grade            0.000000\n",
       "heat_source      0.000000\n",
       "sewer_system     0.000000\n",
       "sqft_above       0.000000\n",
       "sqft_basement    0.000000\n",
       "sqft_garage      0.000000\n",
       "sqft_patio       0.000000\n",
       "yr_built         0.000000\n",
       "yr_renovated     0.000000\n",
       "address          0.000000\n",
       "lat              0.000000\n",
       "long             0.000000\n",
       "Zipcode          0.000000\n",
       "yr_old           0.000000\n",
       "Neighborhood     0.000856\n",
       "Population       0.000856\n",
       "dtype: float64"
      ]
     },
     "execution_count": 1350,
     "metadata": {},
     "output_type": "execute_result"
    }
   ],
   "source": [
    "# identify missing data in new dataset\n",
    "df1.isna().sum()/df.shape[0]"
   ]
  },
  {
   "cell_type": "code",
   "execution_count": 1351,
   "metadata": {},
   "outputs": [],
   "source": [
    "df1.dropna(subset=['Population', 'Neighborhood'], axis=0, inplace=True)"
   ]
  },
  {
   "cell_type": "code",
   "execution_count": 1352,
   "metadata": {},
   "outputs": [
    {
     "name": "stdout",
     "output_type": "stream",
     "text": [
      "<class 'pandas.core.frame.DataFrame'>\n",
      "Int64Index: 29175 entries, 0 to 29199\n",
      "Data columns (total 28 columns):\n",
      " #   Column         Non-Null Count  Dtype         \n",
      "---  ------         --------------  -----         \n",
      " 0   selldate       29175 non-null  datetime64[ns]\n",
      " 1   price          29175 non-null  float64       \n",
      " 2   bedrooms       29175 non-null  int64         \n",
      " 3   bathrooms      29175 non-null  float64       \n",
      " 4   sqft_living    29175 non-null  int64         \n",
      " 5   sqft_lot       29175 non-null  int64         \n",
      " 6   floors         29175 non-null  float64       \n",
      " 7   waterfront     29175 non-null  object        \n",
      " 8   greenbelt      29175 non-null  object        \n",
      " 9   nuisance       29175 non-null  object        \n",
      " 10  view           29175 non-null  object        \n",
      " 11  condition      29175 non-null  object        \n",
      " 12  grade          29175 non-null  object        \n",
      " 13  heat_source    29175 non-null  object        \n",
      " 14  sewer_system   29175 non-null  object        \n",
      " 15  sqft_above     29175 non-null  int64         \n",
      " 16  sqft_basement  29175 non-null  int64         \n",
      " 17  sqft_garage    29175 non-null  int64         \n",
      " 18  sqft_patio     29175 non-null  int64         \n",
      " 19  yr_built       29175 non-null  int64         \n",
      " 20  yr_renovated   29175 non-null  int64         \n",
      " 21  address        29175 non-null  object        \n",
      " 22  lat            29175 non-null  float64       \n",
      " 23  long           29175 non-null  float64       \n",
      " 24  Zipcode        29175 non-null  int64         \n",
      " 25  yr_old         29175 non-null  int64         \n",
      " 26  Neighborhood   29175 non-null  object        \n",
      " 27  Population     29175 non-null  float64       \n",
      "dtypes: datetime64[ns](1), float64(6), int64(11), object(10)\n",
      "memory usage: 6.5+ MB\n"
     ]
    }
   ],
   "source": [
    "df1.info()"
   ]
  },
  {
   "cell_type": "code",
   "execution_count": 1353,
   "metadata": {
    "scrolled": true
   },
   "outputs": [
    {
     "data": {
      "text/plain": [
       "selldate         0.0\n",
       "price            0.0\n",
       "bedrooms         0.0\n",
       "bathrooms        0.0\n",
       "sqft_living      0.0\n",
       "sqft_lot         0.0\n",
       "floors           0.0\n",
       "waterfront       0.0\n",
       "greenbelt        0.0\n",
       "nuisance         0.0\n",
       "view             0.0\n",
       "condition        0.0\n",
       "grade            0.0\n",
       "heat_source      0.0\n",
       "sewer_system     0.0\n",
       "sqft_above       0.0\n",
       "sqft_basement    0.0\n",
       "sqft_garage      0.0\n",
       "sqft_patio       0.0\n",
       "yr_built         0.0\n",
       "yr_renovated     0.0\n",
       "address          0.0\n",
       "lat              0.0\n",
       "long             0.0\n",
       "Zipcode          0.0\n",
       "yr_old           0.0\n",
       "Neighborhood     0.0\n",
       "Population       0.0\n",
       "dtype: float64"
      ]
     },
     "execution_count": 1353,
     "metadata": {},
     "output_type": "execute_result"
    }
   ],
   "source": [
    "# no NA/missing values in merged dataset\n",
    "df1.isna().sum()/df1.shape[0]"
   ]
  },
  {
   "cell_type": "markdown",
   "metadata": {},
   "source": [
    "## Protected\n",
    "\n",
    "The code below was a failed attempt to establish a protected/unprotected feature that would include only homes contained in a greenbelt that likely had some watershed/wildlife/environmental nuisance protection.  It was not correlated with price, nor large enough to be a predictor.  "
   ]
  },
  {
   "cell_type": "code",
   "execution_count": 1354,
   "metadata": {},
   "outputs": [],
   "source": [
    "# df1.loc[(df1['nuisance'] == 'YES') & (df1['greenbelt'] == 'YES'), 'protected'] = 'protected'\n",
    "# df1.loc[(df1['nuisance'] != 'YES') | (df1['greenbelt'] != 'YES'), 'protected'] = 'unprotected'"
   ]
  },
  {
   "cell_type": "code",
   "execution_count": 1193,
   "metadata": {},
   "outputs": [],
   "source": [
    "# df1['protected']"
   ]
  },
  {
   "cell_type": "code",
   "execution_count": 1194,
   "metadata": {},
   "outputs": [],
   "source": [
    "# df1['protected'].value_counts() "
   ]
  },
  {
   "cell_type": "code",
   "execution_count": null,
   "metadata": {},
   "outputs": [],
   "source": []
  },
  {
   "cell_type": "markdown",
   "metadata": {
    "index": 33
   },
   "source": [
    "HomeSales \n",
    "standard scaling allows you to find coefficients. \n",
    "Be sure to include metric - r squared - to describe overall model performance.  \n",
    "collineriety \n",
    "log scalling\n",
    "remove outliers.  \n",
    "Increase r squared. \n",
    "\n",
    "\n",
    "1. run model\n",
    "2. see improvements, clean/feature engineer.  \n",
    "3. see coefficients becoming more accurate.\n"
   ]
  },
  {
   "cell_type": "markdown",
   "metadata": {},
   "source": [
    "## Target distribution"
   ]
  },
  {
   "cell_type": "code",
   "execution_count": 1249,
   "metadata": {},
   "outputs": [
    {
     "data": {
      "text/plain": [
       "price            1.000000\n",
       "bedrooms         0.290838\n",
       "bathrooms        0.487932\n",
       "sqft_living      0.616666\n",
       "sqft_lot         0.086788\n",
       "floors           0.199866\n",
       "sqft_above       0.546010\n",
       "sqft_basement    0.246373\n",
       "sqft_garage      0.267238\n",
       "sqft_patio       0.317644\n",
       "yr_built         0.105905\n",
       "yr_renovated     0.085546\n",
       "lat              0.297701\n",
       "long             0.081589\n",
       "Zipcode         -0.106057\n",
       "Population      -0.111565\n",
       "Name: price, dtype: float64"
      ]
     },
     "execution_count": 1249,
     "metadata": {},
     "output_type": "execute_result"
    }
   ],
   "source": [
    "df1.corr()['price']"
   ]
  },
  {
   "cell_type": "markdown",
   "metadata": {},
   "source": [
    "`sqft_living` is the most highly correlated feature in the baseline numeric model.  "
   ]
  },
  {
   "cell_type": "markdown",
   "metadata": {},
   "source": [
    "Price is the singular dependent variable in our model.  "
   ]
  },
  {
   "cell_type": "markdown",
   "metadata": {},
   "source": [
    "## Modeling"
   ]
  },
  {
   "cell_type": "code",
   "execution_count": 1250,
   "metadata": {},
   "outputs": [],
   "source": [
    "# Creating categorical variables\n",
    "cats = df1[['waterfront','greenbelt', 'nuisance', 'view', 'condition', 'heat_source', 'sewer_system', 'Neighborhood', 'grade']]\n",
    "cats1 = df1[['selldate','price','waterfront','greenbelt', 'nuisance', 'view', 'condition', 'heat_source', 'sewer_system', 'address', 'Zipcode', 'Neighborhood', 'grade']]"
   ]
  },
  {
   "cell_type": "markdown",
   "metadata": {
    "index": 35
   },
   "source": [
    "### Baseline Model"
   ]
  },
  {
   "cell_type": "code",
   "execution_count": 1251,
   "metadata": {},
   "outputs": [],
   "source": [
    "pred_cols = [x for x in df1.columns if x not in cats1]"
   ]
  },
  {
   "cell_type": "code",
   "execution_count": 1252,
   "metadata": {},
   "outputs": [
    {
     "data": {
      "text/plain": [
       "['bedrooms',\n",
       " 'bathrooms',\n",
       " 'sqft_living',\n",
       " 'sqft_lot',\n",
       " 'floors',\n",
       " 'sqft_above',\n",
       " 'sqft_basement',\n",
       " 'sqft_garage',\n",
       " 'sqft_patio',\n",
       " 'yr_built',\n",
       " 'yr_renovated',\n",
       " 'lat',\n",
       " 'long',\n",
       " 'Population']"
      ]
     },
     "execution_count": 1252,
     "metadata": {},
     "output_type": "execute_result"
    }
   ],
   "source": [
    "pred_cols"
   ]
  },
  {
   "cell_type": "code",
   "execution_count": 1253,
   "metadata": {},
   "outputs": [],
   "source": [
    "# create baseline model\n",
    "preds = df1[pred_cols]\n",
    "target = df1['price']"
   ]
  },
  {
   "cell_type": "code",
   "execution_count": 1254,
   "metadata": {},
   "outputs": [],
   "source": [
    "y = target\n",
    "X = preds\n",
    "model = sm.OLS(y, sm.add_constant(X))\n",
    "results = model.fit()"
   ]
  },
  {
   "cell_type": "code",
   "execution_count": 1255,
   "metadata": {},
   "outputs": [
    {
     "data": {
      "text/html": [
       "<table class=\"simpletable\">\n",
       "<caption>OLS Regression Results</caption>\n",
       "<tr>\n",
       "  <th>Dep. Variable:</th>          <td>price</td>      <th>  R-squared:         </th>  <td>   0.485</td>  \n",
       "</tr>\n",
       "<tr>\n",
       "  <th>Model:</th>                   <td>OLS</td>       <th>  Adj. R-squared:    </th>  <td>   0.485</td>  \n",
       "</tr>\n",
       "<tr>\n",
       "  <th>Method:</th>             <td>Least Squares</td>  <th>  F-statistic:       </th>  <td>   1962.</td>  \n",
       "</tr>\n",
       "<tr>\n",
       "  <th>Date:</th>             <td>Thu, 22 Sep 2022</td> <th>  Prob (F-statistic):</th>   <td>  0.00</td>   \n",
       "</tr>\n",
       "<tr>\n",
       "  <th>Time:</th>                 <td>21:46:45</td>     <th>  Log-Likelihood:    </th> <td>-4.3157e+05</td>\n",
       "</tr>\n",
       "<tr>\n",
       "  <th>No. Observations:</th>      <td> 29175</td>      <th>  AIC:               </th>  <td>8.632e+05</td> \n",
       "</tr>\n",
       "<tr>\n",
       "  <th>Df Residuals:</th>          <td> 29160</td>      <th>  BIC:               </th>  <td>8.633e+05</td> \n",
       "</tr>\n",
       "<tr>\n",
       "  <th>Df Model:</th>              <td>    14</td>      <th>                     </th>      <td> </td>     \n",
       "</tr>\n",
       "<tr>\n",
       "  <th>Covariance Type:</th>      <td>nonrobust</td>    <th>                     </th>      <td> </td>     \n",
       "</tr>\n",
       "</table>\n",
       "<table class=\"simpletable\">\n",
       "<tr>\n",
       "        <td></td>           <th>coef</th>     <th>std err</th>      <th>t</th>      <th>P>|t|</th>  <th>[0.025</th>    <th>0.975]</th>  \n",
       "</tr>\n",
       "<tr>\n",
       "  <th>const</th>         <td>-9.091e+07</td> <td> 4.12e+06</td> <td>  -22.070</td> <td> 0.000</td> <td> -9.9e+07</td> <td>-8.28e+07</td>\n",
       "</tr>\n",
       "<tr>\n",
       "  <th>bedrooms</th>      <td>-1.351e+05</td> <td> 5210.596</td> <td>  -25.923</td> <td> 0.000</td> <td>-1.45e+05</td> <td>-1.25e+05</td>\n",
       "</tr>\n",
       "<tr>\n",
       "  <th>bathrooms</th>     <td>  1.14e+05</td> <td> 7682.601</td> <td>   14.836</td> <td> 0.000</td> <td> 9.89e+04</td> <td> 1.29e+05</td>\n",
       "</tr>\n",
       "<tr>\n",
       "  <th>sqft_living</th>   <td>  325.8084</td> <td>   17.237</td> <td>   18.902</td> <td> 0.000</td> <td>  292.024</td> <td>  359.593</td>\n",
       "</tr>\n",
       "<tr>\n",
       "  <th>sqft_lot</th>      <td>    0.1735</td> <td>    0.064</td> <td>    2.694</td> <td> 0.007</td> <td>    0.047</td> <td>    0.300</td>\n",
       "</tr>\n",
       "<tr>\n",
       "  <th>floors</th>        <td>-1.058e+05</td> <td> 9749.876</td> <td>  -10.850</td> <td> 0.000</td> <td>-1.25e+05</td> <td>-8.67e+04</td>\n",
       "</tr>\n",
       "<tr>\n",
       "  <th>sqft_above</th>    <td>  295.0695</td> <td>   17.603</td> <td>   16.762</td> <td> 0.000</td> <td>  260.567</td> <td>  329.572</td>\n",
       "</tr>\n",
       "<tr>\n",
       "  <th>sqft_basement</th> <td>   79.3789</td> <td>   13.089</td> <td>    6.065</td> <td> 0.000</td> <td>   53.724</td> <td>  105.034</td>\n",
       "</tr>\n",
       "<tr>\n",
       "  <th>sqft_garage</th>   <td>  -18.5343</td> <td>   18.427</td> <td>   -1.006</td> <td> 0.314</td> <td>  -54.651</td> <td>   17.583</td>\n",
       "</tr>\n",
       "<tr>\n",
       "  <th>sqft_patio</th>    <td>  260.6715</td> <td>   17.052</td> <td>   15.287</td> <td> 0.000</td> <td>  227.248</td> <td>  294.095</td>\n",
       "</tr>\n",
       "<tr>\n",
       "  <th>yr_built</th>      <td>-1900.9849</td> <td>  181.879</td> <td>  -10.452</td> <td> 0.000</td> <td>-2257.476</td> <td>-1544.494</td>\n",
       "</tr>\n",
       "<tr>\n",
       "  <th>yr_renovated</th>  <td>   63.0504</td> <td>    9.410</td> <td>    6.700</td> <td> 0.000</td> <td>   44.606</td> <td>   81.495</td>\n",
       "</tr>\n",
       "<tr>\n",
       "  <th>lat</th>           <td> 1.565e+06</td> <td> 2.72e+04</td> <td>   57.525</td> <td> 0.000</td> <td> 1.51e+06</td> <td> 1.62e+06</td>\n",
       "</tr>\n",
       "<tr>\n",
       "  <th>long</th>          <td>-1.675e+05</td> <td>  3.2e+04</td> <td>   -5.231</td> <td> 0.000</td> <td> -2.3e+05</td> <td>-1.05e+05</td>\n",
       "</tr>\n",
       "<tr>\n",
       "  <th>Population</th>    <td>   -2.5589</td> <td>    0.350</td> <td>   -7.307</td> <td> 0.000</td> <td>   -3.245</td> <td>   -1.873</td>\n",
       "</tr>\n",
       "</table>\n",
       "<table class=\"simpletable\">\n",
       "<tr>\n",
       "  <th>Omnibus:</th>       <td>45391.593</td> <th>  Durbin-Watson:     </th>   <td>   1.923</td>  \n",
       "</tr>\n",
       "<tr>\n",
       "  <th>Prob(Omnibus):</th>  <td> 0.000</td>   <th>  Jarque-Bera (JB):  </th> <td>79206475.595</td>\n",
       "</tr>\n",
       "<tr>\n",
       "  <th>Skew:</th>           <td> 9.447</td>   <th>  Prob(JB):          </th>   <td>    0.00</td>  \n",
       "</tr>\n",
       "<tr>\n",
       "  <th>Kurtosis:</th>       <td>257.558</td>  <th>  Cond. No.          </th>   <td>6.98e+07</td>  \n",
       "</tr>\n",
       "</table><br/><br/>Notes:<br/>[1] Standard Errors assume that the covariance matrix of the errors is correctly specified.<br/>[2] The condition number is large, 6.98e+07. This might indicate that there are<br/>strong multicollinearity or other numerical problems."
      ],
      "text/plain": [
       "<class 'statsmodels.iolib.summary.Summary'>\n",
       "\"\"\"\n",
       "                            OLS Regression Results                            \n",
       "==============================================================================\n",
       "Dep. Variable:                  price   R-squared:                       0.485\n",
       "Model:                            OLS   Adj. R-squared:                  0.485\n",
       "Method:                 Least Squares   F-statistic:                     1962.\n",
       "Date:                Thu, 22 Sep 2022   Prob (F-statistic):               0.00\n",
       "Time:                        21:46:45   Log-Likelihood:            -4.3157e+05\n",
       "No. Observations:               29175   AIC:                         8.632e+05\n",
       "Df Residuals:                   29160   BIC:                         8.633e+05\n",
       "Df Model:                          14                                         \n",
       "Covariance Type:            nonrobust                                         \n",
       "=================================================================================\n",
       "                    coef    std err          t      P>|t|      [0.025      0.975]\n",
       "---------------------------------------------------------------------------------\n",
       "const         -9.091e+07   4.12e+06    -22.070      0.000    -9.9e+07   -8.28e+07\n",
       "bedrooms      -1.351e+05   5210.596    -25.923      0.000   -1.45e+05   -1.25e+05\n",
       "bathrooms       1.14e+05   7682.601     14.836      0.000    9.89e+04    1.29e+05\n",
       "sqft_living     325.8084     17.237     18.902      0.000     292.024     359.593\n",
       "sqft_lot          0.1735      0.064      2.694      0.007       0.047       0.300\n",
       "floors        -1.058e+05   9749.876    -10.850      0.000   -1.25e+05   -8.67e+04\n",
       "sqft_above      295.0695     17.603     16.762      0.000     260.567     329.572\n",
       "sqft_basement    79.3789     13.089      6.065      0.000      53.724     105.034\n",
       "sqft_garage     -18.5343     18.427     -1.006      0.314     -54.651      17.583\n",
       "sqft_patio      260.6715     17.052     15.287      0.000     227.248     294.095\n",
       "yr_built      -1900.9849    181.879    -10.452      0.000   -2257.476   -1544.494\n",
       "yr_renovated     63.0504      9.410      6.700      0.000      44.606      81.495\n",
       "lat            1.565e+06   2.72e+04     57.525      0.000    1.51e+06    1.62e+06\n",
       "long          -1.675e+05    3.2e+04     -5.231      0.000    -2.3e+05   -1.05e+05\n",
       "Population       -2.5589      0.350     -7.307      0.000      -3.245      -1.873\n",
       "==============================================================================\n",
       "Omnibus:                    45391.593   Durbin-Watson:                   1.923\n",
       "Prob(Omnibus):                  0.000   Jarque-Bera (JB):         79206475.595\n",
       "Skew:                           9.447   Prob(JB):                         0.00\n",
       "Kurtosis:                     257.558   Cond. No.                     6.98e+07\n",
       "==============================================================================\n",
       "\n",
       "Notes:\n",
       "[1] Standard Errors assume that the covariance matrix of the errors is correctly specified.\n",
       "[2] The condition number is large, 6.98e+07. This might indicate that there are\n",
       "strong multicollinearity or other numerical problems.\n",
       "\"\"\""
      ]
     },
     "execution_count": 1255,
     "metadata": {},
     "output_type": "execute_result"
    }
   ],
   "source": [
    "results.summary()"
   ]
  },
  {
   "cell_type": "code",
   "execution_count": 1256,
   "metadata": {},
   "outputs": [
    {
     "data": {
      "text/plain": [
       "338532.32079385564"
      ]
     },
     "execution_count": 1256,
     "metadata": {},
     "output_type": "execute_result"
    }
   ],
   "source": [
    "baseline_mae = mean_absolute_error(y, results.predict(sm.add_constant(X)))\n",
    "baseline_mae"
   ]
  },
  {
   "cell_type": "markdown",
   "metadata": {},
   "source": [
    "This baseline model is limited to both discrete and continuous numeric predictors.  \n",
    "\n",
    "Based on the Mean Absolute Error ('MAE'), overall this baseline model is off by about an average of $338,488.68 for any given prediction. This calculation is the mean absolute (regardless of whether it is positve or negative) distance of all errors.   \n",
    "\n",
    "The intercept is extremely negative, at minus 9 to the 7th power.  \n",
    "\n",
    "The coefficient for `sqft_living` tells us that for each increase of square foot living space, we see an associated increase in saleprice of about $327.83 dollars.  "
   ]
  },
  {
   "cell_type": "markdown",
   "metadata": {},
   "source": [
    "## Improving upon the baseline"
   ]
  },
  {
   "cell_type": "markdown",
   "metadata": {},
   "source": [
    "## Grade - a failed attempt at making an Ordinal category numeric"
   ]
  },
  {
   "cell_type": "code",
   "execution_count": 1257,
   "metadata": {},
   "outputs": [],
   "source": [
    "# df1.grade.value_counts()"
   ]
  },
  {
   "cell_type": "code",
   "execution_count": 1258,
   "metadata": {},
   "outputs": [],
   "source": [
    "# df1.grade.value_counts()"
   ]
  },
  {
   "cell_type": "code",
   "execution_count": 827,
   "metadata": {},
   "outputs": [],
   "source": [
    "# # grade_map = {\n",
    "#     \"7 Average\": 7,\n",
    "#     \"8 Good\": 8,\n",
    "#     \"9 Better\": 9,\n",
    "#     \"6 Low Average\": 6,\n",
    "#     \"5 Fair\": 5,\n",
    "#     \"4 Low\": 4,\n",
    "#     \"3 Poor\": 3,\n",
    "#     \"2 Substandard\": 2,\n",
    "#     \"10 Very Good\": 10,\n",
    "#     \"11 Excellent\": 11,\n",
    "#     \"13 Mansion\": 13,\n",
    "#     \"12 Luxury\": 12,\n",
    "# }"
   ]
  },
  {
   "cell_type": "code",
   "execution_count": 828,
   "metadata": {},
   "outputs": [],
   "source": [
    "# df1.grade = df1.grade.map(grade_map)"
   ]
  },
  {
   "cell_type": "code",
   "execution_count": 829,
   "metadata": {},
   "outputs": [],
   "source": [
    "# making results more model friendly \n",
    "# dum_df1.loc[dum_df1['grade'] == '2 Substandard', 'grade'] = 1\n",
    "# dum_df1.loc[dum_df1['grade'] == '3 Poor', 'grade'] = 1\n",
    "# dum_df1.loc[dum_df1['grade'] == '4 Low', 'grade'] = 1\n",
    "\n",
    "# dum_df1.loc[dum_df1['grade'] == '5 Fair', 'grade'] = 2\n",
    "# dum_df1.loc[dum_df1['grade'] == '6 Low Average', 'grade'] = 2\n",
    "# dum_df1.loc[dum_df1['grade'] == '7 Average', 'grade'] = 2\n",
    "\n",
    "# dum_df1.loc[dum_df1['grade'] == '8 Good', 'grade'] = 3\n",
    "# dum_df1.loc[dum_df1['grade'] == '9 Better', 'grade'] = 3\n",
    "# dum_df1.loc[dum_df1['grade'] == '10 Very Good', 'grade'] = 3\n",
    "\n",
    "# dum_df1.loc[dum_df1['grade'] == '11 Excellent', 'grade'] = 4\n",
    "# dum_df1.loc[dum_df1['grade'] == '12 Luxury', 'grade'] = 4\n",
    "# dum_df1.loc[dum_df1['grade'] == '13 Mansion', 'grade'] = 4"
   ]
  },
  {
   "cell_type": "markdown",
   "metadata": {},
   "source": [
    "The above code, which was not used, was a brief lesson in why you do not want to force ordinal categories into continuous numeric variables, unless the values are in fact multiples of each other.    "
   ]
  },
  {
   "cell_type": "markdown",
   "metadata": {},
   "source": [
    "## Lesson"
   ]
  },
  {
   "cell_type": "markdown",
   "metadata": {},
   "source": [
    "scatter plot: visualize relationship  \n",
    "\n",
    "box plot: gives you quantile info\n",
    "\n",
    "histograms: distribution of frequencies \n",
    "\n",
    "qq plot residuals (outside of range) is "
   ]
  },
  {
   "cell_type": "code",
   "execution_count": 830,
   "metadata": {},
   "outputs": [],
   "source": [
    "# plt.boxplot(df1.price)"
   ]
  },
  {
   "cell_type": "code",
   "execution_count": null,
   "metadata": {},
   "outputs": [],
   "source": []
  },
  {
   "cell_type": "code",
   "execution_count": 831,
   "metadata": {},
   "outputs": [],
   "source": [
    "# sns.heatmap(X.corr())"
   ]
  },
  {
   "cell_type": "markdown",
   "metadata": {},
   "source": [
    "## Discrete numeric predictors "
   ]
  },
  {
   "cell_type": "code",
   "execution_count": 1259,
   "metadata": {},
   "outputs": [
    {
     "data": {
      "text/plain": [
       "<AxesSubplot:xlabel='bedrooms', ylabel='price'>"
      ]
     },
     "execution_count": 1259,
     "metadata": {},
     "output_type": "execute_result"
    },
    {
     "data": {
      "image/png": "[encoded data removed]",
      "text/plain": [
       "<Figure size 864x360 with 2 Axes>"
      ]
     },
     "metadata": {
      "needs_background": "light"
     },
     "output_type": "display_data"
    }
   ],
   "source": [
    "fig, (ax1, ax2) = plt.subplots (ncols=2, figsize = (12, 5))\n",
    "df1.plot.scatter(x='bathrooms', y='price', ax=ax1)\n",
    "df1.plot.scatter(x='bedrooms', y='price', ax=ax2)"
   ]
  },
  {
   "cell_type": "code",
   "execution_count": 1260,
   "metadata": {},
   "outputs": [
    {
     "data": {
      "text/plain": [
       "<AxesSubplot:xlabel='bathrooms', ylabel='Density'>"
      ]
     },
     "execution_count": 1260,
     "metadata": {},
     "output_type": "execute_result"
    },
    {
     "data": {
      "image/png": "[encoded data removed]",
      "text/plain": [
       "<Figure size 1152x360 with 2 Axes>"
      ]
     },
     "metadata": {
      "needs_background": "light"
     },
     "output_type": "display_data"
    }
   ],
   "source": [
    "import warnings\n",
    "warnings.filterwarnings('ignore')\n",
    "plt.figure(figsize=(16,5))\n",
    "plt.subplot(1,2,1)\n",
    "sns.distplot(df1['bedrooms'])\n",
    "plt.subplot(1,2,2)\n",
    "sns.distplot(df1['bathrooms'])"
   ]
  },
  {
   "cell_type": "code",
   "execution_count": 1261,
   "metadata": {},
   "outputs": [],
   "source": [
    "upper_limit = df1['bedrooms'].mean() + 3*df1['bedrooms'].std()\n",
    "lower_limit = df1['bedrooms'].mean() - 3*df1['bedrooms'].std()\n",
    "df1['bedrooms'] = np.where(df1['bedrooms'] > upper_limit, upper_limit,\n",
    "np.where(df1['bedrooms'] < lower_limit, lower_limit, df1['bedrooms']))"
   ]
  },
  {
   "cell_type": "code",
   "execution_count": 1262,
   "metadata": {},
   "outputs": [],
   "source": [
    "upper_limit = df1['bathrooms'].mean() + 3*df1['bathrooms'].std()\n",
    "lower_limit = df1['bathrooms'].mean() - 3*df1['bathrooms'].std()\n",
    "\n",
    "df1['bathrooms'] = np.where(df1['bathrooms'] > upper_limit, upper_limit,\n",
    "    np.where(df1['bathrooms'] < lower_limit, lower_limit, df1['bathrooms']))"
   ]
  },
  {
   "cell_type": "code",
   "execution_count": 1263,
   "metadata": {},
   "outputs": [
    {
     "ename": "KeyError",
     "evalue": "'yr_old'",
     "output_type": "error",
     "traceback": [
      "\u001b[0;31m---------------------------------------------------------------------------\u001b[0m",
      "\u001b[0;31mKeyError\u001b[0m                                  Traceback (most recent call last)",
      "\u001b[0;32m~/opt/anaconda3/envs/learn-env/lib/python3.8/site-packages/pandas/core/indexes/base.py\u001b[0m in \u001b[0;36mget_loc\u001b[0;34m(self, key, method, tolerance)\u001b[0m\n\u001b[1;32m   2894\u001b[0m             \u001b[0;32mtry\u001b[0m\u001b[0;34m:\u001b[0m\u001b[0;34m\u001b[0m\u001b[0;34m\u001b[0m\u001b[0m\n\u001b[0;32m-> 2895\u001b[0;31m                 \u001b[0;32mreturn\u001b[0m \u001b[0mself\u001b[0m\u001b[0;34m.\u001b[0m\u001b[0m_engine\u001b[0m\u001b[0;34m.\u001b[0m\u001b[0mget_loc\u001b[0m\u001b[0;34m(\u001b[0m\u001b[0mcasted_key\u001b[0m\u001b[0;34m)\u001b[0m\u001b[0;34m\u001b[0m\u001b[0;34m\u001b[0m\u001b[0m\n\u001b[0m\u001b[1;32m   2896\u001b[0m             \u001b[0;32mexcept\u001b[0m \u001b[0mKeyError\u001b[0m \u001b[0;32mas\u001b[0m \u001b[0merr\u001b[0m\u001b[0;34m:\u001b[0m\u001b[0;34m\u001b[0m\u001b[0;34m\u001b[0m\u001b[0m\n",
      "\u001b[0;32mpandas/_libs/index.pyx\u001b[0m in \u001b[0;36mpandas._libs.index.IndexEngine.get_loc\u001b[0;34m()\u001b[0m\n",
      "\u001b[0;32mpandas/_libs/index.pyx\u001b[0m in \u001b[0;36mpandas._libs.index.IndexEngine.get_loc\u001b[0;34m()\u001b[0m\n",
      "\u001b[0;32mpandas/_libs/hashtable_class_helper.pxi\u001b[0m in \u001b[0;36mpandas._libs.hashtable.PyObjectHashTable.get_item\u001b[0;34m()\u001b[0m\n",
      "\u001b[0;32mpandas/_libs/hashtable_class_helper.pxi\u001b[0m in \u001b[0;36mpandas._libs.hashtable.PyObjectHashTable.get_item\u001b[0;34m()\u001b[0m\n",
      "\u001b[0;31mKeyError\u001b[0m: 'yr_old'",
      "\nThe above exception was the direct cause of the following exception:\n",
      "\u001b[0;31mKeyError\u001b[0m                                  Traceback (most recent call last)",
      "\u001b[0;32m<ipython-input-1263-8bb33dbae3b6>\u001b[0m in \u001b[0;36m<module>\u001b[0;34m\u001b[0m\n\u001b[1;32m      1\u001b[0m \u001b[0mfig\u001b[0m\u001b[0;34m,\u001b[0m \u001b[0;34m(\u001b[0m\u001b[0max1\u001b[0m\u001b[0;34m,\u001b[0m \u001b[0max2\u001b[0m\u001b[0;34m)\u001b[0m \u001b[0;34m=\u001b[0m \u001b[0mplt\u001b[0m\u001b[0;34m.\u001b[0m\u001b[0msubplots\u001b[0m \u001b[0;34m(\u001b[0m\u001b[0mncols\u001b[0m\u001b[0;34m=\u001b[0m\u001b[0;36m2\u001b[0m\u001b[0;34m,\u001b[0m \u001b[0mfigsize\u001b[0m \u001b[0;34m=\u001b[0m \u001b[0;34m(\u001b[0m\u001b[0;36m12\u001b[0m\u001b[0;34m,\u001b[0m \u001b[0;36m5\u001b[0m\u001b[0;34m)\u001b[0m\u001b[0;34m)\u001b[0m\u001b[0;34m\u001b[0m\u001b[0;34m\u001b[0m\u001b[0m\n\u001b[0;32m----> 2\u001b[0;31m \u001b[0mdf1\u001b[0m\u001b[0;34m.\u001b[0m\u001b[0mplot\u001b[0m\u001b[0;34m.\u001b[0m\u001b[0mscatter\u001b[0m\u001b[0;34m(\u001b[0m\u001b[0mx\u001b[0m\u001b[0;34m=\u001b[0m\u001b[0;34m'yr_old'\u001b[0m\u001b[0;34m,\u001b[0m \u001b[0my\u001b[0m\u001b[0;34m=\u001b[0m\u001b[0;34m'price'\u001b[0m\u001b[0;34m,\u001b[0m \u001b[0max\u001b[0m\u001b[0;34m=\u001b[0m\u001b[0max1\u001b[0m\u001b[0;34m)\u001b[0m\u001b[0;34m\u001b[0m\u001b[0;34m\u001b[0m\u001b[0m\n\u001b[0m\u001b[1;32m      3\u001b[0m \u001b[0mdf1\u001b[0m\u001b[0;34m.\u001b[0m\u001b[0mplot\u001b[0m\u001b[0;34m.\u001b[0m\u001b[0mscatter\u001b[0m\u001b[0;34m(\u001b[0m\u001b[0mx\u001b[0m\u001b[0;34m=\u001b[0m\u001b[0;34m'floors'\u001b[0m\u001b[0;34m,\u001b[0m \u001b[0my\u001b[0m\u001b[0;34m=\u001b[0m\u001b[0;34m'price'\u001b[0m\u001b[0;34m,\u001b[0m \u001b[0max\u001b[0m\u001b[0;34m=\u001b[0m\u001b[0max2\u001b[0m\u001b[0;34m)\u001b[0m\u001b[0;34m\u001b[0m\u001b[0;34m\u001b[0m\u001b[0m\n",
      "\u001b[0;32m~/opt/anaconda3/envs/learn-env/lib/python3.8/site-packages/pandas/plotting/_core.py\u001b[0m in \u001b[0;36mscatter\u001b[0;34m(self, x, y, s, c, **kwargs)\u001b[0m\n\u001b[1;32m   1611\u001b[0m             ...                       colormap='viridis')\n\u001b[1;32m   1612\u001b[0m         \"\"\"\n\u001b[0;32m-> 1613\u001b[0;31m         \u001b[0;32mreturn\u001b[0m \u001b[0mself\u001b[0m\u001b[0;34m(\u001b[0m\u001b[0mkind\u001b[0m\u001b[0;34m=\u001b[0m\u001b[0;34m\"scatter\"\u001b[0m\u001b[0;34m,\u001b[0m \u001b[0mx\u001b[0m\u001b[0;34m=\u001b[0m\u001b[0mx\u001b[0m\u001b[0;34m,\u001b[0m \u001b[0my\u001b[0m\u001b[0;34m=\u001b[0m\u001b[0my\u001b[0m\u001b[0;34m,\u001b[0m \u001b[0ms\u001b[0m\u001b[0;34m=\u001b[0m\u001b[0ms\u001b[0m\u001b[0;34m,\u001b[0m \u001b[0mc\u001b[0m\u001b[0;34m=\u001b[0m\u001b[0mc\u001b[0m\u001b[0;34m,\u001b[0m \u001b[0;34m**\u001b[0m\u001b[0mkwargs\u001b[0m\u001b[0;34m)\u001b[0m\u001b[0;34m\u001b[0m\u001b[0;34m\u001b[0m\u001b[0m\n\u001b[0m\u001b[1;32m   1614\u001b[0m \u001b[0;34m\u001b[0m\u001b[0m\n\u001b[1;32m   1615\u001b[0m     \u001b[0;32mdef\u001b[0m \u001b[0mhexbin\u001b[0m\u001b[0;34m(\u001b[0m\u001b[0mself\u001b[0m\u001b[0;34m,\u001b[0m \u001b[0mx\u001b[0m\u001b[0;34m,\u001b[0m \u001b[0my\u001b[0m\u001b[0;34m,\u001b[0m \u001b[0mC\u001b[0m\u001b[0;34m=\u001b[0m\u001b[0;32mNone\u001b[0m\u001b[0;34m,\u001b[0m \u001b[0mreduce_C_function\u001b[0m\u001b[0;34m=\u001b[0m\u001b[0;32mNone\u001b[0m\u001b[0;34m,\u001b[0m \u001b[0mgridsize\u001b[0m\u001b[0;34m=\u001b[0m\u001b[0;32mNone\u001b[0m\u001b[0;34m,\u001b[0m \u001b[0;34m**\u001b[0m\u001b[0mkwargs\u001b[0m\u001b[0;34m)\u001b[0m\u001b[0;34m:\u001b[0m\u001b[0;34m\u001b[0m\u001b[0;34m\u001b[0m\u001b[0m\n",
      "\u001b[0;32m~/opt/anaconda3/envs/learn-env/lib/python3.8/site-packages/pandas/plotting/_core.py\u001b[0m in \u001b[0;36m__call__\u001b[0;34m(self, *args, **kwargs)\u001b[0m\n\u001b[1;32m    892\u001b[0m         \u001b[0;32mif\u001b[0m \u001b[0mkind\u001b[0m \u001b[0;32min\u001b[0m \u001b[0mself\u001b[0m\u001b[0;34m.\u001b[0m\u001b[0m_dataframe_kinds\u001b[0m\u001b[0;34m:\u001b[0m\u001b[0;34m\u001b[0m\u001b[0;34m\u001b[0m\u001b[0m\n\u001b[1;32m    893\u001b[0m             \u001b[0;32mif\u001b[0m \u001b[0misinstance\u001b[0m\u001b[0;34m(\u001b[0m\u001b[0mdata\u001b[0m\u001b[0;34m,\u001b[0m \u001b[0mABCDataFrame\u001b[0m\u001b[0;34m)\u001b[0m\u001b[0;34m:\u001b[0m\u001b[0;34m\u001b[0m\u001b[0;34m\u001b[0m\u001b[0m\n\u001b[0;32m--> 894\u001b[0;31m                 \u001b[0;32mreturn\u001b[0m \u001b[0mplot_backend\u001b[0m\u001b[0;34m.\u001b[0m\u001b[0mplot\u001b[0m\u001b[0;34m(\u001b[0m\u001b[0mdata\u001b[0m\u001b[0;34m,\u001b[0m \u001b[0mx\u001b[0m\u001b[0;34m=\u001b[0m\u001b[0mx\u001b[0m\u001b[0;34m,\u001b[0m \u001b[0my\u001b[0m\u001b[0;34m=\u001b[0m\u001b[0my\u001b[0m\u001b[0;34m,\u001b[0m \u001b[0mkind\u001b[0m\u001b[0;34m=\u001b[0m\u001b[0mkind\u001b[0m\u001b[0;34m,\u001b[0m \u001b[0;34m**\u001b[0m\u001b[0mkwargs\u001b[0m\u001b[0;34m)\u001b[0m\u001b[0;34m\u001b[0m\u001b[0;34m\u001b[0m\u001b[0m\n\u001b[0m\u001b[1;32m    895\u001b[0m             \u001b[0;32melse\u001b[0m\u001b[0;34m:\u001b[0m\u001b[0;34m\u001b[0m\u001b[0;34m\u001b[0m\u001b[0m\n\u001b[1;32m    896\u001b[0m                 \u001b[0;32mraise\u001b[0m \u001b[0mValueError\u001b[0m\u001b[0;34m(\u001b[0m\u001b[0;34mf\"plot kind {kind} can only be used for data frames\"\u001b[0m\u001b[0;34m)\u001b[0m\u001b[0;34m\u001b[0m\u001b[0;34m\u001b[0m\u001b[0m\n",
      "\u001b[0;32m~/opt/anaconda3/envs/learn-env/lib/python3.8/site-packages/pandas/plotting/_matplotlib/__init__.py\u001b[0m in \u001b[0;36mplot\u001b[0;34m(data, kind, **kwargs)\u001b[0m\n\u001b[1;32m     59\u001b[0m             \u001b[0mkwargs\u001b[0m\u001b[0;34m[\u001b[0m\u001b[0;34m\"ax\"\u001b[0m\u001b[0;34m]\u001b[0m \u001b[0;34m=\u001b[0m \u001b[0mgetattr\u001b[0m\u001b[0;34m(\u001b[0m\u001b[0max\u001b[0m\u001b[0;34m,\u001b[0m \u001b[0;34m\"left_ax\"\u001b[0m\u001b[0;34m,\u001b[0m \u001b[0max\u001b[0m\u001b[0;34m)\u001b[0m\u001b[0;34m\u001b[0m\u001b[0;34m\u001b[0m\u001b[0m\n\u001b[1;32m     60\u001b[0m     \u001b[0mplot_obj\u001b[0m \u001b[0;34m=\u001b[0m \u001b[0mPLOT_CLASSES\u001b[0m\u001b[0;34m[\u001b[0m\u001b[0mkind\u001b[0m\u001b[0;34m]\u001b[0m\u001b[0;34m(\u001b[0m\u001b[0mdata\u001b[0m\u001b[0;34m,\u001b[0m \u001b[0;34m**\u001b[0m\u001b[0mkwargs\u001b[0m\u001b[0;34m)\u001b[0m\u001b[0;34m\u001b[0m\u001b[0;34m\u001b[0m\u001b[0m\n\u001b[0;32m---> 61\u001b[0;31m     \u001b[0mplot_obj\u001b[0m\u001b[0;34m.\u001b[0m\u001b[0mgenerate\u001b[0m\u001b[0;34m(\u001b[0m\u001b[0;34m)\u001b[0m\u001b[0;34m\u001b[0m\u001b[0;34m\u001b[0m\u001b[0m\n\u001b[0m\u001b[1;32m     62\u001b[0m     \u001b[0mplot_obj\u001b[0m\u001b[0;34m.\u001b[0m\u001b[0mdraw\u001b[0m\u001b[0;34m(\u001b[0m\u001b[0;34m)\u001b[0m\u001b[0;34m\u001b[0m\u001b[0;34m\u001b[0m\u001b[0m\n\u001b[1;32m     63\u001b[0m     \u001b[0;32mreturn\u001b[0m \u001b[0mplot_obj\u001b[0m\u001b[0;34m.\u001b[0m\u001b[0mresult\u001b[0m\u001b[0;34m\u001b[0m\u001b[0;34m\u001b[0m\u001b[0m\n",
      "\u001b[0;32m~/opt/anaconda3/envs/learn-env/lib/python3.8/site-packages/pandas/plotting/_matplotlib/core.py\u001b[0m in \u001b[0;36mgenerate\u001b[0;34m(self)\u001b[0m\n\u001b[1;32m    269\u001b[0m         \u001b[0mself\u001b[0m\u001b[0;34m.\u001b[0m\u001b[0m_compute_plot_data\u001b[0m\u001b[0;34m(\u001b[0m\u001b[0;34m)\u001b[0m\u001b[0;34m\u001b[0m\u001b[0;34m\u001b[0m\u001b[0m\n\u001b[1;32m    270\u001b[0m         \u001b[0mself\u001b[0m\u001b[0;34m.\u001b[0m\u001b[0m_setup_subplots\u001b[0m\u001b[0;34m(\u001b[0m\u001b[0;34m)\u001b[0m\u001b[0;34m\u001b[0m\u001b[0;34m\u001b[0m\u001b[0m\n\u001b[0;32m--> 271\u001b[0;31m         \u001b[0mself\u001b[0m\u001b[0;34m.\u001b[0m\u001b[0m_make_plot\u001b[0m\u001b[0;34m(\u001b[0m\u001b[0;34m)\u001b[0m\u001b[0;34m\u001b[0m\u001b[0;34m\u001b[0m\u001b[0m\n\u001b[0m\u001b[1;32m    272\u001b[0m         \u001b[0mself\u001b[0m\u001b[0;34m.\u001b[0m\u001b[0m_add_table\u001b[0m\u001b[0;34m(\u001b[0m\u001b[0;34m)\u001b[0m\u001b[0;34m\u001b[0m\u001b[0;34m\u001b[0m\u001b[0m\n\u001b[1;32m    273\u001b[0m         \u001b[0mself\u001b[0m\u001b[0;34m.\u001b[0m\u001b[0m_make_legend\u001b[0m\u001b[0;34m(\u001b[0m\u001b[0;34m)\u001b[0m\u001b[0;34m\u001b[0m\u001b[0;34m\u001b[0m\u001b[0m\n",
      "\u001b[0;32m~/opt/anaconda3/envs/learn-env/lib/python3.8/site-packages/pandas/plotting/_matplotlib/core.py\u001b[0m in \u001b[0;36m_make_plot\u001b[0;34m(self)\u001b[0m\n\u001b[1;32m   1009\u001b[0m             \u001b[0mlabel\u001b[0m \u001b[0;34m=\u001b[0m \u001b[0;32mNone\u001b[0m\u001b[0;34m\u001b[0m\u001b[0;34m\u001b[0m\u001b[0m\n\u001b[1;32m   1010\u001b[0m         scatter = ax.scatter(\n\u001b[0;32m-> 1011\u001b[0;31m             \u001b[0mdata\u001b[0m\u001b[0;34m[\u001b[0m\u001b[0mx\u001b[0m\u001b[0;34m]\u001b[0m\u001b[0;34m.\u001b[0m\u001b[0mvalues\u001b[0m\u001b[0;34m,\u001b[0m\u001b[0;34m\u001b[0m\u001b[0;34m\u001b[0m\u001b[0m\n\u001b[0m\u001b[1;32m   1012\u001b[0m             \u001b[0mdata\u001b[0m\u001b[0;34m[\u001b[0m\u001b[0my\u001b[0m\u001b[0;34m]\u001b[0m\u001b[0;34m.\u001b[0m\u001b[0mvalues\u001b[0m\u001b[0;34m,\u001b[0m\u001b[0;34m\u001b[0m\u001b[0;34m\u001b[0m\u001b[0m\n\u001b[1;32m   1013\u001b[0m             \u001b[0mc\u001b[0m\u001b[0;34m=\u001b[0m\u001b[0mc_values\u001b[0m\u001b[0;34m,\u001b[0m\u001b[0;34m\u001b[0m\u001b[0;34m\u001b[0m\u001b[0m\n",
      "\u001b[0;32m~/opt/anaconda3/envs/learn-env/lib/python3.8/site-packages/pandas/core/frame.py\u001b[0m in \u001b[0;36m__getitem__\u001b[0;34m(self, key)\u001b[0m\n\u001b[1;32m   2900\u001b[0m             \u001b[0;32mif\u001b[0m \u001b[0mself\u001b[0m\u001b[0;34m.\u001b[0m\u001b[0mcolumns\u001b[0m\u001b[0;34m.\u001b[0m\u001b[0mnlevels\u001b[0m \u001b[0;34m>\u001b[0m \u001b[0;36m1\u001b[0m\u001b[0;34m:\u001b[0m\u001b[0;34m\u001b[0m\u001b[0;34m\u001b[0m\u001b[0m\n\u001b[1;32m   2901\u001b[0m                 \u001b[0;32mreturn\u001b[0m \u001b[0mself\u001b[0m\u001b[0;34m.\u001b[0m\u001b[0m_getitem_multilevel\u001b[0m\u001b[0;34m(\u001b[0m\u001b[0mkey\u001b[0m\u001b[0;34m)\u001b[0m\u001b[0;34m\u001b[0m\u001b[0;34m\u001b[0m\u001b[0m\n\u001b[0;32m-> 2902\u001b[0;31m             \u001b[0mindexer\u001b[0m \u001b[0;34m=\u001b[0m \u001b[0mself\u001b[0m\u001b[0;34m.\u001b[0m\u001b[0mcolumns\u001b[0m\u001b[0;34m.\u001b[0m\u001b[0mget_loc\u001b[0m\u001b[0;34m(\u001b[0m\u001b[0mkey\u001b[0m\u001b[0;34m)\u001b[0m\u001b[0;34m\u001b[0m\u001b[0;34m\u001b[0m\u001b[0m\n\u001b[0m\u001b[1;32m   2903\u001b[0m             \u001b[0;32mif\u001b[0m \u001b[0mis_integer\u001b[0m\u001b[0;34m(\u001b[0m\u001b[0mindexer\u001b[0m\u001b[0;34m)\u001b[0m\u001b[0;34m:\u001b[0m\u001b[0;34m\u001b[0m\u001b[0;34m\u001b[0m\u001b[0m\n\u001b[1;32m   2904\u001b[0m                 \u001b[0mindexer\u001b[0m \u001b[0;34m=\u001b[0m \u001b[0;34m[\u001b[0m\u001b[0mindexer\u001b[0m\u001b[0;34m]\u001b[0m\u001b[0;34m\u001b[0m\u001b[0;34m\u001b[0m\u001b[0m\n",
      "\u001b[0;32m~/opt/anaconda3/envs/learn-env/lib/python3.8/site-packages/pandas/core/indexes/base.py\u001b[0m in \u001b[0;36mget_loc\u001b[0;34m(self, key, method, tolerance)\u001b[0m\n\u001b[1;32m   2895\u001b[0m                 \u001b[0;32mreturn\u001b[0m \u001b[0mself\u001b[0m\u001b[0;34m.\u001b[0m\u001b[0m_engine\u001b[0m\u001b[0;34m.\u001b[0m\u001b[0mget_loc\u001b[0m\u001b[0;34m(\u001b[0m\u001b[0mcasted_key\u001b[0m\u001b[0;34m)\u001b[0m\u001b[0;34m\u001b[0m\u001b[0;34m\u001b[0m\u001b[0m\n\u001b[1;32m   2896\u001b[0m             \u001b[0;32mexcept\u001b[0m \u001b[0mKeyError\u001b[0m \u001b[0;32mas\u001b[0m \u001b[0merr\u001b[0m\u001b[0;34m:\u001b[0m\u001b[0;34m\u001b[0m\u001b[0;34m\u001b[0m\u001b[0m\n\u001b[0;32m-> 2897\u001b[0;31m                 \u001b[0;32mraise\u001b[0m \u001b[0mKeyError\u001b[0m\u001b[0;34m(\u001b[0m\u001b[0mkey\u001b[0m\u001b[0;34m)\u001b[0m \u001b[0;32mfrom\u001b[0m \u001b[0merr\u001b[0m\u001b[0;34m\u001b[0m\u001b[0;34m\u001b[0m\u001b[0m\n\u001b[0m\u001b[1;32m   2898\u001b[0m \u001b[0;34m\u001b[0m\u001b[0m\n\u001b[1;32m   2899\u001b[0m         \u001b[0;32mif\u001b[0m \u001b[0mtolerance\u001b[0m \u001b[0;32mis\u001b[0m \u001b[0;32mnot\u001b[0m \u001b[0;32mNone\u001b[0m\u001b[0;34m:\u001b[0m\u001b[0;34m\u001b[0m\u001b[0;34m\u001b[0m\u001b[0m\n",
      "\u001b[0;31mKeyError\u001b[0m: 'yr_old'"
     ]
    },
    {
     "data": {
      "image/png": "[encoded data removed]",
      "text/plain": [
       "<Figure size 864x360 with 2 Axes>"
      ]
     },
     "metadata": {
      "needs_background": "light"
     },
     "output_type": "display_data"
    }
   ],
   "source": [
    "fig, (ax1, ax2) = plt.subplots (ncols=2, figsize = (12, 5))\n",
    "df1.plot.scatter(x='yr_old', y='price', ax=ax1)\n",
    "df1.plot.scatter(x='floors', y='price', ax=ax2)"
   ]
  },
  {
   "cell_type": "code",
   "execution_count": 1264,
   "metadata": {},
   "outputs": [
    {
     "ename": "KeyError",
     "evalue": "'yr_old'",
     "output_type": "error",
     "traceback": [
      "\u001b[0;31m---------------------------------------------------------------------------\u001b[0m",
      "\u001b[0;31mKeyError\u001b[0m                                  Traceback (most recent call last)",
      "\u001b[0;32m~/opt/anaconda3/envs/learn-env/lib/python3.8/site-packages/pandas/core/indexes/base.py\u001b[0m in \u001b[0;36mget_loc\u001b[0;34m(self, key, method, tolerance)\u001b[0m\n\u001b[1;32m   2894\u001b[0m             \u001b[0;32mtry\u001b[0m\u001b[0;34m:\u001b[0m\u001b[0;34m\u001b[0m\u001b[0;34m\u001b[0m\u001b[0m\n\u001b[0;32m-> 2895\u001b[0;31m                 \u001b[0;32mreturn\u001b[0m \u001b[0mself\u001b[0m\u001b[0;34m.\u001b[0m\u001b[0m_engine\u001b[0m\u001b[0;34m.\u001b[0m\u001b[0mget_loc\u001b[0m\u001b[0;34m(\u001b[0m\u001b[0mcasted_key\u001b[0m\u001b[0;34m)\u001b[0m\u001b[0;34m\u001b[0m\u001b[0;34m\u001b[0m\u001b[0m\n\u001b[0m\u001b[1;32m   2896\u001b[0m             \u001b[0;32mexcept\u001b[0m \u001b[0mKeyError\u001b[0m \u001b[0;32mas\u001b[0m \u001b[0merr\u001b[0m\u001b[0;34m:\u001b[0m\u001b[0;34m\u001b[0m\u001b[0;34m\u001b[0m\u001b[0m\n",
      "\u001b[0;32mpandas/_libs/index.pyx\u001b[0m in \u001b[0;36mpandas._libs.index.IndexEngine.get_loc\u001b[0;34m()\u001b[0m\n",
      "\u001b[0;32mpandas/_libs/index.pyx\u001b[0m in \u001b[0;36mpandas._libs.index.IndexEngine.get_loc\u001b[0;34m()\u001b[0m\n",
      "\u001b[0;32mpandas/_libs/hashtable_class_helper.pxi\u001b[0m in \u001b[0;36mpandas._libs.hashtable.PyObjectHashTable.get_item\u001b[0;34m()\u001b[0m\n",
      "\u001b[0;32mpandas/_libs/hashtable_class_helper.pxi\u001b[0m in \u001b[0;36mpandas._libs.hashtable.PyObjectHashTable.get_item\u001b[0;34m()\u001b[0m\n",
      "\u001b[0;31mKeyError\u001b[0m: 'yr_old'",
      "\nThe above exception was the direct cause of the following exception:\n",
      "\u001b[0;31mKeyError\u001b[0m                                  Traceback (most recent call last)",
      "\u001b[0;32m<ipython-input-1264-1c55dd9c08fe>\u001b[0m in \u001b[0;36m<module>\u001b[0;34m\u001b[0m\n\u001b[0;32m----> 1\u001b[0;31m \u001b[0mupper_limit\u001b[0m \u001b[0;34m=\u001b[0m \u001b[0mdf1\u001b[0m\u001b[0;34m[\u001b[0m\u001b[0;34m'yr_old'\u001b[0m\u001b[0;34m]\u001b[0m\u001b[0;34m.\u001b[0m\u001b[0mmean\u001b[0m\u001b[0;34m(\u001b[0m\u001b[0;34m)\u001b[0m \u001b[0;34m+\u001b[0m \u001b[0;36m3\u001b[0m\u001b[0;34m*\u001b[0m\u001b[0mdf1\u001b[0m\u001b[0;34m[\u001b[0m\u001b[0;34m'yr_old'\u001b[0m\u001b[0;34m]\u001b[0m\u001b[0;34m.\u001b[0m\u001b[0mstd\u001b[0m\u001b[0;34m(\u001b[0m\u001b[0;34m)\u001b[0m\u001b[0;34m\u001b[0m\u001b[0;34m\u001b[0m\u001b[0m\n\u001b[0m\u001b[1;32m      2\u001b[0m \u001b[0mlower_limit\u001b[0m \u001b[0;34m=\u001b[0m \u001b[0mdf1\u001b[0m\u001b[0;34m[\u001b[0m\u001b[0;34m'yr_old'\u001b[0m\u001b[0;34m]\u001b[0m\u001b[0;34m.\u001b[0m\u001b[0mmean\u001b[0m\u001b[0;34m(\u001b[0m\u001b[0;34m)\u001b[0m \u001b[0;34m-\u001b[0m \u001b[0;36m3\u001b[0m\u001b[0;34m*\u001b[0m\u001b[0mdf1\u001b[0m\u001b[0;34m[\u001b[0m\u001b[0;34m'yr_old'\u001b[0m\u001b[0;34m]\u001b[0m\u001b[0;34m.\u001b[0m\u001b[0mstd\u001b[0m\u001b[0;34m(\u001b[0m\u001b[0;34m)\u001b[0m\u001b[0;34m\u001b[0m\u001b[0;34m\u001b[0m\u001b[0m\n\u001b[1;32m      3\u001b[0m df1['yr_old'] = np.where(df1['yr_old'] > upper_limit, upper_limit,\n\u001b[1;32m      4\u001b[0m np.where(df1['yr_old'] < lower_limit, lower_limit, df1['yr_old']))\n",
      "\u001b[0;32m~/opt/anaconda3/envs/learn-env/lib/python3.8/site-packages/pandas/core/frame.py\u001b[0m in \u001b[0;36m__getitem__\u001b[0;34m(self, key)\u001b[0m\n\u001b[1;32m   2900\u001b[0m             \u001b[0;32mif\u001b[0m \u001b[0mself\u001b[0m\u001b[0;34m.\u001b[0m\u001b[0mcolumns\u001b[0m\u001b[0;34m.\u001b[0m\u001b[0mnlevels\u001b[0m \u001b[0;34m>\u001b[0m \u001b[0;36m1\u001b[0m\u001b[0;34m:\u001b[0m\u001b[0;34m\u001b[0m\u001b[0;34m\u001b[0m\u001b[0m\n\u001b[1;32m   2901\u001b[0m                 \u001b[0;32mreturn\u001b[0m \u001b[0mself\u001b[0m\u001b[0;34m.\u001b[0m\u001b[0m_getitem_multilevel\u001b[0m\u001b[0;34m(\u001b[0m\u001b[0mkey\u001b[0m\u001b[0;34m)\u001b[0m\u001b[0;34m\u001b[0m\u001b[0;34m\u001b[0m\u001b[0m\n\u001b[0;32m-> 2902\u001b[0;31m             \u001b[0mindexer\u001b[0m \u001b[0;34m=\u001b[0m \u001b[0mself\u001b[0m\u001b[0;34m.\u001b[0m\u001b[0mcolumns\u001b[0m\u001b[0;34m.\u001b[0m\u001b[0mget_loc\u001b[0m\u001b[0;34m(\u001b[0m\u001b[0mkey\u001b[0m\u001b[0;34m)\u001b[0m\u001b[0;34m\u001b[0m\u001b[0;34m\u001b[0m\u001b[0m\n\u001b[0m\u001b[1;32m   2903\u001b[0m             \u001b[0;32mif\u001b[0m \u001b[0mis_integer\u001b[0m\u001b[0;34m(\u001b[0m\u001b[0mindexer\u001b[0m\u001b[0;34m)\u001b[0m\u001b[0;34m:\u001b[0m\u001b[0;34m\u001b[0m\u001b[0;34m\u001b[0m\u001b[0m\n\u001b[1;32m   2904\u001b[0m                 \u001b[0mindexer\u001b[0m \u001b[0;34m=\u001b[0m \u001b[0;34m[\u001b[0m\u001b[0mindexer\u001b[0m\u001b[0;34m]\u001b[0m\u001b[0;34m\u001b[0m\u001b[0;34m\u001b[0m\u001b[0m\n",
      "\u001b[0;32m~/opt/anaconda3/envs/learn-env/lib/python3.8/site-packages/pandas/core/indexes/base.py\u001b[0m in \u001b[0;36mget_loc\u001b[0;34m(self, key, method, tolerance)\u001b[0m\n\u001b[1;32m   2895\u001b[0m                 \u001b[0;32mreturn\u001b[0m \u001b[0mself\u001b[0m\u001b[0;34m.\u001b[0m\u001b[0m_engine\u001b[0m\u001b[0;34m.\u001b[0m\u001b[0mget_loc\u001b[0m\u001b[0;34m(\u001b[0m\u001b[0mcasted_key\u001b[0m\u001b[0;34m)\u001b[0m\u001b[0;34m\u001b[0m\u001b[0;34m\u001b[0m\u001b[0m\n\u001b[1;32m   2896\u001b[0m             \u001b[0;32mexcept\u001b[0m \u001b[0mKeyError\u001b[0m \u001b[0;32mas\u001b[0m \u001b[0merr\u001b[0m\u001b[0;34m:\u001b[0m\u001b[0;34m\u001b[0m\u001b[0;34m\u001b[0m\u001b[0m\n\u001b[0;32m-> 2897\u001b[0;31m                 \u001b[0;32mraise\u001b[0m \u001b[0mKeyError\u001b[0m\u001b[0;34m(\u001b[0m\u001b[0mkey\u001b[0m\u001b[0;34m)\u001b[0m \u001b[0;32mfrom\u001b[0m \u001b[0merr\u001b[0m\u001b[0;34m\u001b[0m\u001b[0;34m\u001b[0m\u001b[0m\n\u001b[0m\u001b[1;32m   2898\u001b[0m \u001b[0;34m\u001b[0m\u001b[0m\n\u001b[1;32m   2899\u001b[0m         \u001b[0;32mif\u001b[0m \u001b[0mtolerance\u001b[0m \u001b[0;32mis\u001b[0m \u001b[0;32mnot\u001b[0m \u001b[0;32mNone\u001b[0m\u001b[0;34m:\u001b[0m\u001b[0;34m\u001b[0m\u001b[0;34m\u001b[0m\u001b[0m\n",
      "\u001b[0;31mKeyError\u001b[0m: 'yr_old'"
     ]
    }
   ],
   "source": [
    "upper_limit = df1['yr_old'].mean() + 3*df1['yr_old'].std()\n",
    "lower_limit = df1['yr_old'].mean() - 3*df1['yr_old'].std()\n",
    "df1['yr_old'] = np.where(df1['yr_old'] > upper_limit, upper_limit,\n",
    "np.where(df1['yr_old'] < lower_limit, lower_limit, df1['yr_old']))"
   ]
  },
  {
   "cell_type": "code",
   "execution_count": 1265,
   "metadata": {},
   "outputs": [],
   "source": [
    "upper_limit = df1['floors'].mean() + 3*df1['floors'].std()\n",
    "lower_limit = df1['floors'].mean() - 3*df1['floors'].std()\n",
    "df1['floors'] = np.where(df1['floors'] > upper_limit, upper_limit,\n",
    "np.where(df1['floors'] < lower_limit, lower_limit, df1['floors']))"
   ]
  },
  {
   "cell_type": "code",
   "execution_count": 1266,
   "metadata": {},
   "outputs": [
    {
     "ename": "KeyError",
     "evalue": "'yr_old'",
     "output_type": "error",
     "traceback": [
      "\u001b[0;31m---------------------------------------------------------------------------\u001b[0m",
      "\u001b[0;31mKeyError\u001b[0m                                  Traceback (most recent call last)",
      "\u001b[0;32m~/opt/anaconda3/envs/learn-env/lib/python3.8/site-packages/pandas/core/indexes/base.py\u001b[0m in \u001b[0;36mget_loc\u001b[0;34m(self, key, method, tolerance)\u001b[0m\n\u001b[1;32m   2894\u001b[0m             \u001b[0;32mtry\u001b[0m\u001b[0;34m:\u001b[0m\u001b[0;34m\u001b[0m\u001b[0;34m\u001b[0m\u001b[0m\n\u001b[0;32m-> 2895\u001b[0;31m                 \u001b[0;32mreturn\u001b[0m \u001b[0mself\u001b[0m\u001b[0;34m.\u001b[0m\u001b[0m_engine\u001b[0m\u001b[0;34m.\u001b[0m\u001b[0mget_loc\u001b[0m\u001b[0;34m(\u001b[0m\u001b[0mcasted_key\u001b[0m\u001b[0;34m)\u001b[0m\u001b[0;34m\u001b[0m\u001b[0;34m\u001b[0m\u001b[0m\n\u001b[0m\u001b[1;32m   2896\u001b[0m             \u001b[0;32mexcept\u001b[0m \u001b[0mKeyError\u001b[0m \u001b[0;32mas\u001b[0m \u001b[0merr\u001b[0m\u001b[0;34m:\u001b[0m\u001b[0;34m\u001b[0m\u001b[0;34m\u001b[0m\u001b[0m\n",
      "\u001b[0;32mpandas/_libs/index.pyx\u001b[0m in \u001b[0;36mpandas._libs.index.IndexEngine.get_loc\u001b[0;34m()\u001b[0m\n",
      "\u001b[0;32mpandas/_libs/index.pyx\u001b[0m in \u001b[0;36mpandas._libs.index.IndexEngine.get_loc\u001b[0;34m()\u001b[0m\n",
      "\u001b[0;32mpandas/_libs/hashtable_class_helper.pxi\u001b[0m in \u001b[0;36mpandas._libs.hashtable.PyObjectHashTable.get_item\u001b[0;34m()\u001b[0m\n",
      "\u001b[0;32mpandas/_libs/hashtable_class_helper.pxi\u001b[0m in \u001b[0;36mpandas._libs.hashtable.PyObjectHashTable.get_item\u001b[0;34m()\u001b[0m\n",
      "\u001b[0;31mKeyError\u001b[0m: 'yr_old'",
      "\nThe above exception was the direct cause of the following exception:\n",
      "\u001b[0;31mKeyError\u001b[0m                                  Traceback (most recent call last)",
      "\u001b[0;32m<ipython-input-1266-e178e256f645>\u001b[0m in \u001b[0;36m<module>\u001b[0;34m\u001b[0m\n\u001b[1;32m      1\u001b[0m \u001b[0mplt\u001b[0m\u001b[0;34m.\u001b[0m\u001b[0mfigure\u001b[0m\u001b[0;34m(\u001b[0m\u001b[0mfigsize\u001b[0m\u001b[0;34m=\u001b[0m\u001b[0;34m(\u001b[0m\u001b[0;36m16\u001b[0m\u001b[0;34m,\u001b[0m\u001b[0;36m5\u001b[0m\u001b[0;34m)\u001b[0m\u001b[0;34m)\u001b[0m\u001b[0;34m\u001b[0m\u001b[0;34m\u001b[0m\u001b[0m\n\u001b[1;32m      2\u001b[0m \u001b[0mplt\u001b[0m\u001b[0;34m.\u001b[0m\u001b[0msubplot\u001b[0m\u001b[0;34m(\u001b[0m\u001b[0;36m1\u001b[0m\u001b[0;34m,\u001b[0m\u001b[0;36m2\u001b[0m\u001b[0;34m,\u001b[0m\u001b[0;36m1\u001b[0m\u001b[0;34m)\u001b[0m\u001b[0;34m\u001b[0m\u001b[0;34m\u001b[0m\u001b[0m\n\u001b[0;32m----> 3\u001b[0;31m \u001b[0msns\u001b[0m\u001b[0;34m.\u001b[0m\u001b[0mdistplot\u001b[0m\u001b[0;34m(\u001b[0m\u001b[0mdf1\u001b[0m\u001b[0;34m[\u001b[0m\u001b[0;34m'yr_old'\u001b[0m\u001b[0;34m]\u001b[0m\u001b[0;34m)\u001b[0m\u001b[0;34m\u001b[0m\u001b[0;34m\u001b[0m\u001b[0m\n\u001b[0m\u001b[1;32m      4\u001b[0m \u001b[0mplt\u001b[0m\u001b[0;34m.\u001b[0m\u001b[0msubplot\u001b[0m\u001b[0;34m(\u001b[0m\u001b[0;36m1\u001b[0m\u001b[0;34m,\u001b[0m\u001b[0;36m2\u001b[0m\u001b[0;34m,\u001b[0m\u001b[0;36m2\u001b[0m\u001b[0;34m)\u001b[0m\u001b[0;34m\u001b[0m\u001b[0;34m\u001b[0m\u001b[0m\n\u001b[1;32m      5\u001b[0m \u001b[0msns\u001b[0m\u001b[0;34m.\u001b[0m\u001b[0mdistplot\u001b[0m\u001b[0;34m(\u001b[0m\u001b[0mdf1\u001b[0m\u001b[0;34m[\u001b[0m\u001b[0;34m'floors'\u001b[0m\u001b[0;34m]\u001b[0m\u001b[0;34m)\u001b[0m\u001b[0;34m\u001b[0m\u001b[0;34m\u001b[0m\u001b[0m\n",
      "\u001b[0;32m~/opt/anaconda3/envs/learn-env/lib/python3.8/site-packages/pandas/core/frame.py\u001b[0m in \u001b[0;36m__getitem__\u001b[0;34m(self, key)\u001b[0m\n\u001b[1;32m   2900\u001b[0m             \u001b[0;32mif\u001b[0m \u001b[0mself\u001b[0m\u001b[0;34m.\u001b[0m\u001b[0mcolumns\u001b[0m\u001b[0;34m.\u001b[0m\u001b[0mnlevels\u001b[0m \u001b[0;34m>\u001b[0m \u001b[0;36m1\u001b[0m\u001b[0;34m:\u001b[0m\u001b[0;34m\u001b[0m\u001b[0;34m\u001b[0m\u001b[0m\n\u001b[1;32m   2901\u001b[0m                 \u001b[0;32mreturn\u001b[0m \u001b[0mself\u001b[0m\u001b[0;34m.\u001b[0m\u001b[0m_getitem_multilevel\u001b[0m\u001b[0;34m(\u001b[0m\u001b[0mkey\u001b[0m\u001b[0;34m)\u001b[0m\u001b[0;34m\u001b[0m\u001b[0;34m\u001b[0m\u001b[0m\n\u001b[0;32m-> 2902\u001b[0;31m             \u001b[0mindexer\u001b[0m \u001b[0;34m=\u001b[0m \u001b[0mself\u001b[0m\u001b[0;34m.\u001b[0m\u001b[0mcolumns\u001b[0m\u001b[0;34m.\u001b[0m\u001b[0mget_loc\u001b[0m\u001b[0;34m(\u001b[0m\u001b[0mkey\u001b[0m\u001b[0;34m)\u001b[0m\u001b[0;34m\u001b[0m\u001b[0;34m\u001b[0m\u001b[0m\n\u001b[0m\u001b[1;32m   2903\u001b[0m             \u001b[0;32mif\u001b[0m \u001b[0mis_integer\u001b[0m\u001b[0;34m(\u001b[0m\u001b[0mindexer\u001b[0m\u001b[0;34m)\u001b[0m\u001b[0;34m:\u001b[0m\u001b[0;34m\u001b[0m\u001b[0;34m\u001b[0m\u001b[0m\n\u001b[1;32m   2904\u001b[0m                 \u001b[0mindexer\u001b[0m \u001b[0;34m=\u001b[0m \u001b[0;34m[\u001b[0m\u001b[0mindexer\u001b[0m\u001b[0;34m]\u001b[0m\u001b[0;34m\u001b[0m\u001b[0;34m\u001b[0m\u001b[0m\n",
      "\u001b[0;32m~/opt/anaconda3/envs/learn-env/lib/python3.8/site-packages/pandas/core/indexes/base.py\u001b[0m in \u001b[0;36mget_loc\u001b[0;34m(self, key, method, tolerance)\u001b[0m\n\u001b[1;32m   2895\u001b[0m                 \u001b[0;32mreturn\u001b[0m \u001b[0mself\u001b[0m\u001b[0;34m.\u001b[0m\u001b[0m_engine\u001b[0m\u001b[0;34m.\u001b[0m\u001b[0mget_loc\u001b[0m\u001b[0;34m(\u001b[0m\u001b[0mcasted_key\u001b[0m\u001b[0;34m)\u001b[0m\u001b[0;34m\u001b[0m\u001b[0;34m\u001b[0m\u001b[0m\n\u001b[1;32m   2896\u001b[0m             \u001b[0;32mexcept\u001b[0m \u001b[0mKeyError\u001b[0m \u001b[0;32mas\u001b[0m \u001b[0merr\u001b[0m\u001b[0;34m:\u001b[0m\u001b[0;34m\u001b[0m\u001b[0;34m\u001b[0m\u001b[0m\n\u001b[0;32m-> 2897\u001b[0;31m                 \u001b[0;32mraise\u001b[0m \u001b[0mKeyError\u001b[0m\u001b[0;34m(\u001b[0m\u001b[0mkey\u001b[0m\u001b[0;34m)\u001b[0m \u001b[0;32mfrom\u001b[0m \u001b[0merr\u001b[0m\u001b[0;34m\u001b[0m\u001b[0;34m\u001b[0m\u001b[0m\n\u001b[0m\u001b[1;32m   2898\u001b[0m \u001b[0;34m\u001b[0m\u001b[0m\n\u001b[1;32m   2899\u001b[0m         \u001b[0;32mif\u001b[0m \u001b[0mtolerance\u001b[0m \u001b[0;32mis\u001b[0m \u001b[0;32mnot\u001b[0m \u001b[0;32mNone\u001b[0m\u001b[0;34m:\u001b[0m\u001b[0;34m\u001b[0m\u001b[0;34m\u001b[0m\u001b[0m\n",
      "\u001b[0;31mKeyError\u001b[0m: 'yr_old'"
     ]
    },
    {
     "data": {
      "image/png": "[encoded data removed]",
      "text/plain": [
       "<Figure size 1152x360 with 1 Axes>"
      ]
     },
     "metadata": {
      "needs_background": "light"
     },
     "output_type": "display_data"
    }
   ],
   "source": [
    "plt.figure(figsize=(16,5))\n",
    "plt.subplot(1,2,1)\n",
    "sns.distplot(df1['yr_old'])\n",
    "plt.subplot(1,2,2)\n",
    "sns.distplot(df1['floors'])"
   ]
  },
  {
   "cell_type": "markdown",
   "metadata": {},
   "source": [
    "## Continuous numerice predictors"
   ]
  },
  {
   "cell_type": "code",
   "execution_count": 1267,
   "metadata": {},
   "outputs": [
    {
     "data": {
      "text/plain": [
       "<AxesSubplot:xlabel='sqft_garage', ylabel='price'>"
      ]
     },
     "execution_count": 1267,
     "metadata": {},
     "output_type": "execute_result"
    },
    {
     "data": {
      "image/png": "[encoded data removed]",
      "text/plain": [
       "<Figure size 864x360 with 2 Axes>"
      ]
     },
     "metadata": {
      "needs_background": "light"
     },
     "output_type": "display_data"
    }
   ],
   "source": [
    "fig, (ax1, ax2) = plt.subplots (ncols=2, figsize = (12, 5))\n",
    "df1.plot.scatter(x='sqft_living', y='price', ax=ax1)\n",
    "df1.plot.scatter(x='sqft_garage', y='price', ax=ax2)"
   ]
  },
  {
   "cell_type": "code",
   "execution_count": 1268,
   "metadata": {},
   "outputs": [],
   "source": [
    "upper_limit = df1['sqft_garage'].mean() + 3*df1['sqft_garage'].std()\n",
    "lower_limit = df1['sqft_garage'].mean() - 3*df1['sqft_garage'].std()\n",
    "\n",
    "df1['sqft_garage'] = np.where(df1['sqft_garage'] > upper_limit, upper_limit,\n",
    "    np.where(df1['sqft_garage'] < lower_limit, lower_limit, df1['sqft_garage']))"
   ]
  },
  {
   "cell_type": "code",
   "execution_count": 1269,
   "metadata": {},
   "outputs": [],
   "source": [
    "upper_limit = df1['sqft_living'].mean() + 3*df1['sqft_living'].std()\n",
    "lower_limit = df1['sqft_living'].mean() - 3*df1['sqft_living'].std()\n",
    "\n",
    "df1['sqft_living'] = np.where(df1['sqft_living'] > upper_limit, upper_limit,\n",
    "    np.where(df1['sqft_living'] < lower_limit, lower_limit, df1['sqft_living']))"
   ]
  },
  {
   "cell_type": "code",
   "execution_count": 1270,
   "metadata": {},
   "outputs": [
    {
     "data": {
      "text/plain": [
       "<AxesSubplot:xlabel='sqft_garage', ylabel='Density'>"
      ]
     },
     "execution_count": 1270,
     "metadata": {},
     "output_type": "execute_result"
    },
    {
     "data": {
      "image/png": "[encoded data removed]",
      "text/plain": [
       "<Figure size 1152x360 with 2 Axes>"
      ]
     },
     "metadata": {
      "needs_background": "light"
     },
     "output_type": "display_data"
    }
   ],
   "source": [
    "plt.figure(figsize=(16,5))\n",
    "plt.subplot(1,2,1)\n",
    "sns.distplot(df1['sqft_living'])\n",
    "plt.subplot(1,2,2)\n",
    "sns.distplot(df1['sqft_garage'])"
   ]
  },
  {
   "cell_type": "code",
   "execution_count": 1271,
   "metadata": {},
   "outputs": [
    {
     "data": {
      "text/plain": [
       "<AxesSubplot:xlabel='sqft_above', ylabel='price'>"
      ]
     },
     "execution_count": 1271,
     "metadata": {},
     "output_type": "execute_result"
    },
    {
     "data": {
      "image/png": "[encoded data removed]",
      "text/plain": [
       "<Figure size 864x360 with 2 Axes>"
      ]
     },
     "metadata": {
      "needs_background": "light"
     },
     "output_type": "display_data"
    }
   ],
   "source": [
    "fig, (ax1, ax2) = plt.subplots (ncols=2, figsize = (12, 5))\n",
    "df1.plot.scatter(x='Population', y='price', ax=ax1)\n",
    "df1.plot.scatter(x='sqft_above', y='price', ax=ax2)"
   ]
  },
  {
   "cell_type": "code",
   "execution_count": 1272,
   "metadata": {},
   "outputs": [],
   "source": [
    "upper_limit = df1['Population'].mean() + 3*df1['Population'].std()\n",
    "lower_limit = df1['Population'].mean() - 3*df1['Population'].std()\n",
    "\n",
    "df1['Population'] = np.where(df1['Population'] > upper_limit, upper_limit,\n",
    "    np.where(df1['Population'] < lower_limit, lower_limit, df1['Population']))"
   ]
  },
  {
   "cell_type": "code",
   "execution_count": 1273,
   "metadata": {},
   "outputs": [],
   "source": [
    "upper_limit = df1['sqft_above'].mean() + 3*df1['sqft_above'].std()\n",
    "lower_limit = df1['sqft_above'].mean() - 3*df1['sqft_above'].std()\n",
    "\n",
    "df1['sqft_above'] = np.where(df1['sqft_above'] > upper_limit, upper_limit,\n",
    "    np.where(df1['sqft_above'] < lower_limit, lower_limit, df1['sqft_above']))"
   ]
  },
  {
   "cell_type": "code",
   "execution_count": 1274,
   "metadata": {},
   "outputs": [
    {
     "data": {
      "text/plain": [
       "<AxesSubplot:xlabel='sqft_above', ylabel='Density'>"
      ]
     },
     "execution_count": 1274,
     "metadata": {},
     "output_type": "execute_result"
    },
    {
     "data": {
      "image/png": "[encoded data removed]",
      "text/plain": [
       "<Figure size 1152x360 with 2 Axes>"
      ]
     },
     "metadata": {
      "needs_background": "light"
     },
     "output_type": "display_data"
    }
   ],
   "source": [
    "plt.figure(figsize=(16,5))\n",
    "plt.subplot(1,2,1)\n",
    "sns.distplot(df1['Population'])\n",
    "plt.subplot(1,2,2)\n",
    "sns.distplot(df1['sqft_above'])"
   ]
  },
  {
   "cell_type": "code",
   "execution_count": 1275,
   "metadata": {},
   "outputs": [
    {
     "data": {
      "text/plain": [
       "<AxesSubplot:xlabel='sqft_patio', ylabel='price'>"
      ]
     },
     "execution_count": 1275,
     "metadata": {},
     "output_type": "execute_result"
    },
    {
     "data": {
      "image/png": "[encoded data removed]",
      "text/plain": [
       "<Figure size 864x360 with 2 Axes>"
      ]
     },
     "metadata": {
      "needs_background": "light"
     },
     "output_type": "display_data"
    }
   ],
   "source": [
    "fig, (ax1, ax2) = plt.subplots (ncols=2, figsize = (12, 5))\n",
    "df1.plot.scatter(x='sqft_basement', y='price', ax=ax1)\n",
    "df1.plot.scatter(x='sqft_patio', y='price', ax=ax2)"
   ]
  },
  {
   "cell_type": "code",
   "execution_count": 1276,
   "metadata": {},
   "outputs": [],
   "source": [
    "upper_limit = df1['sqft_basement'].mean() + 3*df1['sqft_basement'].std()\n",
    "lower_limit = df1['sqft_basement'].mean() - 3*df1['sqft_basement'].std()\n",
    "\n",
    "df1['sqft_basement'] = np.where(df1['sqft_basement'] > upper_limit, upper_limit,\n",
    "    np.where(df1['sqft_basement'] < lower_limit, lower_limit, df1['sqft_basement']))"
   ]
  },
  {
   "cell_type": "code",
   "execution_count": 1277,
   "metadata": {},
   "outputs": [],
   "source": [
    "upper_limit = df1['sqft_patio'].mean() + 3*df1['sqft_patio'].std()\n",
    "lower_limit = df1['sqft_patio'].mean() - 3*df1['sqft_patio'].std()\n",
    "\n",
    "df1['sqft_patio'] = np.where(df1['sqft_patio'] > upper_limit, upper_limit,\n",
    "    np.where(df1['sqft_patio'] < lower_limit, lower_limit, df1['sqft_patio']))"
   ]
  },
  {
   "cell_type": "code",
   "execution_count": 1278,
   "metadata": {},
   "outputs": [
    {
     "data": {
      "text/plain": [
       "<AxesSubplot:xlabel='sqft_basement', ylabel='Density'>"
      ]
     },
     "execution_count": 1278,
     "metadata": {},
     "output_type": "execute_result"
    },
    {
     "data": {
      "image/png": "[encoded data removed]",
      "text/plain": [
       "<Figure size 1152x360 with 2 Axes>"
      ]
     },
     "metadata": {
      "needs_background": "light"
     },
     "output_type": "display_data"
    }
   ],
   "source": [
    "plt.figure(figsize=(16,5))\n",
    "plt.subplot(1,2,1)\n",
    "sns.distplot(df1['sqft_patio'])\n",
    "plt.subplot(1,2,2)\n",
    "sns.distplot(df1['sqft_basement'])"
   ]
  },
  {
   "cell_type": "markdown",
   "metadata": {},
   "source": [
    "Population looks like a discrete measure here.  We will go with sqft living as the most correlated to begin our greedy algorithm approach."
   ]
  },
  {
   "cell_type": "markdown",
   "metadata": {},
   "source": [
    "## Categorical Variables"
   ]
  },
  {
   "cell_type": "code",
   "execution_count": 1279,
   "metadata": {
    "scrolled": false
   },
   "outputs": [],
   "source": [
    "# cats2 = ['waterfront', 'view', 'grade', 'condition']\n",
    "# fig, axes = plt.subplots(ncols=len(cats2), figsize=(12,5))\n",
    "# for index, feature in enumerate(cats2):\n",
    "#     df1.groupby(feature).mean().sort_values(by='price', ascending=False).plot.bar(\n",
    "#         y='price', ax=axes[index])\n"
   ]
  },
  {
   "cell_type": "markdown",
   "metadata": {},
   "source": [
    "There is some real symetry in the grade category.  As the grade increases, it appears that the average price of homes increases as well.  Good views and waterfront properties also seem correlated positively with price, which is understandable.  "
   ]
  },
  {
   "cell_type": "code",
   "execution_count": 1280,
   "metadata": {},
   "outputs": [],
   "source": [
    "# cats3 = ['nuisance', 'sewer_system', 'greenbelt']\n",
    "# fig, axes = plt.subplots(ncols=len(cats3), figsize=(12,5))\n",
    "# for index, feature in enumerate(cats3):\n",
    "#     df1.groupby(feature).mean().sort_values(by='price', ascending=False).plot.bar(\n",
    "#         y='price', ax=axes[index])"
   ]
  },
  {
   "cell_type": "markdown",
   "metadata": {},
   "source": [
    "Not much can be gleaned from these bar charts.  "
   ]
  },
  {
   "cell_type": "code",
   "execution_count": 1281,
   "metadata": {},
   "outputs": [],
   "source": [
    "# plt.scatter(df1.sewer_system, df1.price)"
   ]
  },
  {
   "cell_type": "code",
   "execution_count": 1282,
   "metadata": {},
   "outputs": [],
   "source": [
    "# plt.scatter(df1.greenbelt, df1.price)"
   ]
  },
  {
   "cell_type": "code",
   "execution_count": 1283,
   "metadata": {},
   "outputs": [],
   "source": [
    "# fig, (ax1, ax2) = plt.subplots (ncols=2, figsize = (12, 5))\n",
    "# df1.sort_values(by='price', ascending=False).plot.scatter(x='condition', y='price', ax=ax1)\n",
    "# df1.sort_values(by='price', ascending=False).plot.scatter(x='view', y='price', ax=ax2)"
   ]
  },
  {
   "cell_type": "code",
   "execution_count": 1284,
   "metadata": {},
   "outputs": [],
   "source": [
    "# fig, (ax) = plt.subplots (ncols=1, figsize = (15, 10))\n",
    "# df1.sort_values(by='price', ascending=False).plot.scatter(x='grade', y='price', ax=ax)"
   ]
  },
  {
   "cell_type": "markdown",
   "metadata": {},
   "source": [
    "## Attempts at some partial models.  "
   ]
  },
  {
   "cell_type": "code",
   "execution_count": 1285,
   "metadata": {},
   "outputs": [],
   "source": [
    "y = df1.price\n",
    "# X_iter = df1[['sqft_living', 'waterfront', 'grade']]"
   ]
  },
  {
   "cell_type": "code",
   "execution_count": 1286,
   "metadata": {},
   "outputs": [],
   "source": [
    "# X_iter = pd.get_dummies(X_iter, columns=['grade', 'waterfront'], drop_first=True)"
   ]
  },
  {
   "cell_type": "code",
   "execution_count": 1287,
   "metadata": {},
   "outputs": [],
   "source": [
    "# model = sm.OLS(y, sm.add_constant(X_iter))\n",
    "# results = model.fit()\n",
    "# print(results.summary())"
   ]
  },
  {
   "cell_type": "code",
   "execution_count": 1288,
   "metadata": {},
   "outputs": [],
   "source": [
    "# mae = mean_absolute_error(y, results.predict(sm.add_constant(X_iter)))\n",
    "# mae"
   ]
  },
  {
   "cell_type": "markdown",
   "metadata": {},
   "source": [
    "The explained variance is higher, but the MAE is worse than our baseline model.  This model is now off by about $359,121.21 for any given prediction.  We will need to adjust the model.  We will attempt some partial regressions below to see what stands out.   "
   ]
  },
  {
   "cell_type": "markdown",
   "metadata": {},
   "source": [
    "## Partial regression of Grade, sqft_living, and waterfront"
   ]
  },
  {
   "cell_type": "code",
   "execution_count": null,
   "metadata": {},
   "outputs": [],
   "source": []
  },
  {
   "cell_type": "code",
   "execution_count": 1289,
   "metadata": {},
   "outputs": [],
   "source": [
    "# fig = plt.figure(figsize=(15,8))\n",
    "# sm.graphics.plot_partregress_grid(\n",
    "#     results, \n",
    "#     exog_idx=list(X_iter.columns),\n",
    "#     grid=(2,7),\n",
    "#     fig=fig)\n",
    "# plt.tight_layout()\n",
    "# plt.show()"
   ]
  },
  {
   "cell_type": "markdown",
   "metadata": {},
   "source": [
    "## Model and partial of Sqft Living, Waterfront, and View"
   ]
  },
  {
   "cell_type": "code",
   "execution_count": 1290,
   "metadata": {},
   "outputs": [],
   "source": [
    "# y = df1.price\n",
    "# X_iter2 = df1[['sqft_living', 'waterfront', 'view']]"
   ]
  },
  {
   "cell_type": "code",
   "execution_count": 1291,
   "metadata": {},
   "outputs": [],
   "source": [
    "# X_iter2 = pd.get_dummies(X_iter2, columns=['view', 'waterfront'], drop_first=True)"
   ]
  },
  {
   "cell_type": "code",
   "execution_count": 1292,
   "metadata": {},
   "outputs": [],
   "source": [
    "# model = sm.OLS(y, sm.add_constant(X_iter2))\n",
    "# results = model.fit()\n",
    "# print(results.summary())"
   ]
  },
  {
   "cell_type": "code",
   "execution_count": 851,
   "metadata": {},
   "outputs": [],
   "source": [
    "# mae = mean_absolute_error(y, results.predict(sm.add_constant(X_iter2)))\n",
    "# mae"
   ]
  },
  {
   "cell_type": "code",
   "execution_count": 852,
   "metadata": {},
   "outputs": [],
   "source": [
    "# fig = plt.figure(figsize=(15,8))\n",
    "# sm.graphics.plot_partregress_grid(\n",
    "#     results, \n",
    "#     exog_idx=list(X_iter2.columns),\n",
    "#     grid=(2,7),\n",
    "#     fig=fig)\n",
    "# plt.tight_layout()\n",
    "# plt.show()"
   ]
  },
  {
   "cell_type": "markdown",
   "metadata": {},
   "source": [
    "While I feel strongly about sqft living, I am beginning to think view does not have much impact on price as we predicted.  Perhaps the relationship can be better explained by a term or some transformation.  "
   ]
  },
  {
   "cell_type": "markdown",
   "metadata": {},
   "source": [
    "# Neighborhood"
   ]
  },
  {
   "cell_type": "code",
   "execution_count": 853,
   "metadata": {
    "scrolled": true
   },
   "outputs": [],
   "source": [
    "# Neigh = ['Neighborhood']\n",
    "# fig, ax = plt.subplots(ncols=len(Neigh), figsize=(12,5))\n",
    "# for index, feature in enumerate(Neigh):\n",
    "#     df1.groupby(feature).mean().sort_values(by='price', ascending=False).plot.bar(\n",
    "#         y='price', ax=ax)\n"
   ]
  },
  {
   "cell_type": "code",
   "execution_count": 854,
   "metadata": {},
   "outputs": [],
   "source": [
    "# y = df1.price\n",
    "# X_iter_Neigh = df1[['Neighborhood', 'sqft_living', 'waterfront']]\n",
    "# X_iter_Neigh = pd.get_dummies(X_iter_Neigh, columns=['Neighborhood', 'waterfront'], drop_first=True)"
   ]
  },
  {
   "cell_type": "code",
   "execution_count": 855,
   "metadata": {},
   "outputs": [],
   "source": [
    "# model = sm.OLS(y, sm.add_constant(X_iter_Neigh))\n",
    "# results = model.fit()\n",
    "# print(results.summary())"
   ]
  },
  {
   "cell_type": "code",
   "execution_count": 856,
   "metadata": {},
   "outputs": [],
   "source": [
    "# mae = mean_absolute_error(y, results.predict(sm.add_constant(X_iter_Neigh)))\n",
    "# mae"
   ]
  },
  {
   "cell_type": "markdown",
   "metadata": {},
   "source": [
    "Neighborhood really seems to explain a great deal about the variance in price, and it reduced our MAE down from our baseline.  Our predictions are now around $313,516.77 off by any given predictor.    "
   ]
  },
  {
   "cell_type": "code",
   "execution_count": 857,
   "metadata": {},
   "outputs": [],
   "source": [
    "# X_iter_Neigh"
   ]
  },
  {
   "cell_type": "code",
   "execution_count": 858,
   "metadata": {},
   "outputs": [],
   "source": [
    "# fig = plt.figure(figsize=(275,475))\n",
    "# sm.graphics.plot_partregress_grid(\n",
    "#     results, \n",
    "#     exog_idx=list(X_iter_Neigh.columns),\n",
    "#     grid=(16,16),\n",
    "#     fig=fig)\n",
    "# plt.tight_layout()\n",
    "# plt.show()"
   ]
  },
  {
   "cell_type": "code",
   "execution_count": null,
   "metadata": {},
   "outputs": [],
   "source": []
  },
  {
   "cell_type": "code",
   "execution_count": 859,
   "metadata": {},
   "outputs": [],
   "source": [
    "# # running our model with dummified predictors\n",
    "# X1=dum_df1.drop(labels=['selldate', 'price', 'Zipcode', 'address', 'lat', 'long', \n",
    "#                        'sewer_system_PUBLIC RESTRICTED', 'yr_built', 'sqft_above', 'bathrooms',\n",
    "#                       'heat_source_Oil', 'heat_source_Oil/Solar', 'heat_source_Other',\n",
    "#                       'floors', 'Neighborhood_Skykomish', 'Neighborhood_Black Diamond',\n",
    "#                       'Neighborhood_Baring' ], axis=1)\n",
    "# y=dum_df1.price\n",
    "\n",
    "# model_1 = sm.OLS(y, sm.add_constant(X1))\n",
    "# results1 = model_1.fit()\n",
    "# results1.summary()"
   ]
  },
  {
   "cell_type": "code",
   "execution_count": 860,
   "metadata": {},
   "outputs": [],
   "source": [
    "# baseline_mae = mean_absolute_error(y, results1.predict(sm.add_constant(X1)))\n",
    "# # baseline_mae"
   ]
  },
  {
   "cell_type": "code",
   "execution_count": 861,
   "metadata": {},
   "outputs": [],
   "source": [
    "# dum_df1 = pd.get_dummies(data=df1, columns=cat_cols, drop_first=True)"
   ]
  },
  {
   "cell_type": "code",
   "execution_count": 862,
   "metadata": {
    "scrolled": true
   },
   "outputs": [],
   "source": [
    "# dum_df1.columns"
   ]
  },
  {
   "cell_type": "markdown",
   "metadata": {},
   "source": [
    "Drop columns not correlated.  per gp 9-19.  "
   ]
  },
  {
   "cell_type": "code",
   "execution_count": 863,
   "metadata": {},
   "outputs": [],
   "source": [
    "# plt.hist(df1.price)"
   ]
  },
  {
   "cell_type": "code",
   "execution_count": 864,
   "metadata": {},
   "outputs": [],
   "source": [
    "# sns.distplot(df1.price, bins=30, kde=True)"
   ]
  },
  {
   "cell_type": "markdown",
   "metadata": {},
   "source": [
    "## Cleaning data"
   ]
  },
  {
   "cell_type": "markdown",
   "metadata": {},
   "source": [
    "applying a function to remove outliers outside 3 standard deviations"
   ]
  },
  {
   "cell_type": "code",
   "execution_count": null,
   "metadata": {},
   "outputs": [],
   "source": [
    "  "
   ]
  },
  {
   "cell_type": "markdown",
   "metadata": {},
   "source": [
    "## Bedrooms"
   ]
  },
  {
   "cell_type": "code",
   "execution_count": 1293,
   "metadata": {},
   "outputs": [
    {
     "data": {
      "text/plain": [
       "2.500000    8172\n",
       "2.000000    6935\n",
       "1.000000    4551\n",
       "3.000000    4076\n",
       "3.500000    2146\n",
       "1.500000    1765\n",
       "4.000000     637\n",
       "4.500000     523\n",
       "5.016428     199\n",
       "5.000000     142\n",
       "0.000000      24\n",
       "0.500000       5\n",
       "Name: bathrooms, dtype: int64"
      ]
     },
     "execution_count": 1293,
     "metadata": {},
     "output_type": "execute_result"
    }
   ],
   "source": [
    "# here we remove outliers by adding them to the highest, most relevant category, thus preserving data.  \n",
    "df1.bathrooms.value_counts()"
   ]
  },
  {
   "cell_type": "code",
   "execution_count": null,
   "metadata": {},
   "outputs": [],
   "source": []
  },
  {
   "cell_type": "code",
   "execution_count": 1294,
   "metadata": {
    "scrolled": true
   },
   "outputs": [
    {
     "data": {
      "text/html": [
       "<div>\n",
       "<style scoped>\n",
       "    .dataframe tbody tr th:only-of-type {\n",
       "        vertical-align: middle;\n",
       "    }\n",
       "\n",
       "    .dataframe tbody tr th {\n",
       "        vertical-align: top;\n",
       "    }\n",
       "\n",
       "    .dataframe thead th {\n",
       "        text-align: right;\n",
       "    }\n",
       "</style>\n",
       "<table border=\"1\" class=\"dataframe\">\n",
       "  <thead>\n",
       "    <tr style=\"text-align: right;\">\n",
       "      <th></th>\n",
       "      <th>price</th>\n",
       "      <th>bedrooms</th>\n",
       "      <th>bathrooms</th>\n",
       "      <th>sqft_living</th>\n",
       "      <th>sqft_lot</th>\n",
       "      <th>floors</th>\n",
       "      <th>sqft_above</th>\n",
       "      <th>sqft_basement</th>\n",
       "      <th>sqft_garage</th>\n",
       "      <th>sqft_patio</th>\n",
       "      <th>yr_built</th>\n",
       "      <th>yr_renovated</th>\n",
       "      <th>lat</th>\n",
       "      <th>long</th>\n",
       "      <th>Zipcode</th>\n",
       "      <th>Population</th>\n",
       "    </tr>\n",
       "  </thead>\n",
       "  <tbody>\n",
       "    <tr>\n",
       "      <th>count</th>\n",
       "      <td>2.917500e+04</td>\n",
       "      <td>29175.000000</td>\n",
       "      <td>29175.000000</td>\n",
       "      <td>29175.000000</td>\n",
       "      <td>2.917500e+04</td>\n",
       "      <td>29175.000000</td>\n",
       "      <td>29175.000000</td>\n",
       "      <td>29175.000000</td>\n",
       "      <td>29175.000000</td>\n",
       "      <td>29175.000000</td>\n",
       "      <td>29175.000000</td>\n",
       "      <td>29175.000000</td>\n",
       "      <td>29175.000000</td>\n",
       "      <td>29175.000000</td>\n",
       "      <td>29175.000000</td>\n",
       "      <td>29175.000000</td>\n",
       "    </tr>\n",
       "    <tr>\n",
       "      <th>mean</th>\n",
       "      <td>1.112942e+06</td>\n",
       "      <td>3.431607</td>\n",
       "      <td>2.325613</td>\n",
       "      <td>2118.450148</td>\n",
       "      <td>1.712491e+04</td>\n",
       "      <td>1.515715</td>\n",
       "      <td>1816.363627</td>\n",
       "      <td>478.025536</td>\n",
       "      <td>334.863086</td>\n",
       "      <td>211.370485</td>\n",
       "      <td>1973.841988</td>\n",
       "      <td>93.705604</td>\n",
       "      <td>47.543125</td>\n",
       "      <td>-122.214451</td>\n",
       "      <td>98077.466324</td>\n",
       "      <td>30451.927198</td>\n",
       "    </tr>\n",
       "    <tr>\n",
       "      <th>std</th>\n",
       "      <td>8.956167e+05</td>\n",
       "      <td>0.950838</td>\n",
       "      <td>0.865603</td>\n",
       "      <td>917.673207</td>\n",
       "      <td>6.082535e+04</td>\n",
       "      <td>0.545133</td>\n",
       "      <td>837.449359</td>\n",
       "      <td>572.026869</td>\n",
       "      <td>278.554990</td>\n",
       "      <td>223.372870</td>\n",
       "      <td>31.657833</td>\n",
       "      <td>422.498521</td>\n",
       "      <td>0.146130</td>\n",
       "      <td>0.143075</td>\n",
       "      <td>54.666578</td>\n",
       "      <td>11308.138966</td>\n",
       "    </tr>\n",
       "    <tr>\n",
       "      <th>min</th>\n",
       "      <td>2.736000e+04</td>\n",
       "      <td>0.506741</td>\n",
       "      <td>0.000000</td>\n",
       "      <td>3.000000</td>\n",
       "      <td>4.020000e+02</td>\n",
       "      <td>1.000000</td>\n",
       "      <td>2.000000</td>\n",
       "      <td>0.000000</td>\n",
       "      <td>0.000000</td>\n",
       "      <td>0.000000</td>\n",
       "      <td>1900.000000</td>\n",
       "      <td>0.000000</td>\n",
       "      <td>47.159700</td>\n",
       "      <td>-122.526650</td>\n",
       "      <td>98001.000000</td>\n",
       "      <td>294.000000</td>\n",
       "    </tr>\n",
       "    <tr>\n",
       "      <th>25%</th>\n",
       "      <td>6.450000e+05</td>\n",
       "      <td>3.000000</td>\n",
       "      <td>2.000000</td>\n",
       "      <td>1440.000000</td>\n",
       "      <td>5.000000e+03</td>\n",
       "      <td>1.000000</td>\n",
       "      <td>1190.000000</td>\n",
       "      <td>0.000000</td>\n",
       "      <td>0.000000</td>\n",
       "      <td>40.000000</td>\n",
       "      <td>1952.000000</td>\n",
       "      <td>0.000000</td>\n",
       "      <td>47.430280</td>\n",
       "      <td>-122.328385</td>\n",
       "      <td>98032.000000</td>\n",
       "      <td>21147.000000</td>\n",
       "    </tr>\n",
       "    <tr>\n",
       "      <th>50%</th>\n",
       "      <td>8.680000e+05</td>\n",
       "      <td>3.000000</td>\n",
       "      <td>2.500000</td>\n",
       "      <td>1940.000000</td>\n",
       "      <td>7.560000e+03</td>\n",
       "      <td>1.500000</td>\n",
       "      <td>1580.000000</td>\n",
       "      <td>0.000000</td>\n",
       "      <td>400.000000</td>\n",
       "      <td>140.000000</td>\n",
       "      <td>1976.000000</td>\n",
       "      <td>0.000000</td>\n",
       "      <td>47.557680</td>\n",
       "      <td>-122.234335</td>\n",
       "      <td>98059.000000</td>\n",
       "      <td>31365.000000</td>\n",
       "    </tr>\n",
       "    <tr>\n",
       "      <th>75%</th>\n",
       "      <td>1.310000e+06</td>\n",
       "      <td>4.000000</td>\n",
       "      <td>3.000000</td>\n",
       "      <td>2640.000000</td>\n",
       "      <td>1.076650e+04</td>\n",
       "      <td>2.000000</td>\n",
       "      <td>2290.000000</td>\n",
       "      <td>960.000000</td>\n",
       "      <td>520.000000</td>\n",
       "      <td>310.000000</td>\n",
       "      <td>2001.000000</td>\n",
       "      <td>0.000000</td>\n",
       "      <td>47.671963</td>\n",
       "      <td>-122.127725</td>\n",
       "      <td>98117.000000</td>\n",
       "      <td>39816.000000</td>\n",
       "    </tr>\n",
       "    <tr>\n",
       "      <th>max</th>\n",
       "      <td>3.075000e+07</td>\n",
       "      <td>6.366815</td>\n",
       "      <td>5.016428</td>\n",
       "      <td>5061.318228</td>\n",
       "      <td>3.253932e+06</td>\n",
       "      <td>3.161346</td>\n",
       "      <td>4466.382318</td>\n",
       "      <td>2239.840067</td>\n",
       "      <td>1195.089702</td>\n",
       "      <td>956.586968</td>\n",
       "      <td>2022.000000</td>\n",
       "      <td>2022.000000</td>\n",
       "      <td>47.789830</td>\n",
       "      <td>-121.163960</td>\n",
       "      <td>98354.000000</td>\n",
       "      <td>58442.000000</td>\n",
       "    </tr>\n",
       "  </tbody>\n",
       "</table>\n",
       "</div>"
      ],
      "text/plain": [
       "              price      bedrooms     bathrooms   sqft_living      sqft_lot  \\\n",
       "count  2.917500e+04  29175.000000  29175.000000  29175.000000  2.917500e+04   \n",
       "mean   1.112942e+06      3.431607      2.325613   2118.450148  1.712491e+04   \n",
       "std    8.956167e+05      0.950838      0.865603    917.673207  6.082535e+04   \n",
       "min    2.736000e+04      0.506741      0.000000      3.000000  4.020000e+02   \n",
       "25%    6.450000e+05      3.000000      2.000000   1440.000000  5.000000e+03   \n",
       "50%    8.680000e+05      3.000000      2.500000   1940.000000  7.560000e+03   \n",
       "75%    1.310000e+06      4.000000      3.000000   2640.000000  1.076650e+04   \n",
       "max    3.075000e+07      6.366815      5.016428   5061.318228  3.253932e+06   \n",
       "\n",
       "             floors    sqft_above  sqft_basement   sqft_garage    sqft_patio  \\\n",
       "count  29175.000000  29175.000000   29175.000000  29175.000000  29175.000000   \n",
       "mean       1.515715   1816.363627     478.025536    334.863086    211.370485   \n",
       "std        0.545133    837.449359     572.026869    278.554990    223.372870   \n",
       "min        1.000000      2.000000       0.000000      0.000000      0.000000   \n",
       "25%        1.000000   1190.000000       0.000000      0.000000     40.000000   \n",
       "50%        1.500000   1580.000000       0.000000    400.000000    140.000000   \n",
       "75%        2.000000   2290.000000     960.000000    520.000000    310.000000   \n",
       "max        3.161346   4466.382318    2239.840067   1195.089702    956.586968   \n",
       "\n",
       "           yr_built  yr_renovated           lat          long       Zipcode  \\\n",
       "count  29175.000000  29175.000000  29175.000000  29175.000000  29175.000000   \n",
       "mean    1973.841988     93.705604     47.543125   -122.214451  98077.466324   \n",
       "std       31.657833    422.498521      0.146130      0.143075     54.666578   \n",
       "min     1900.000000      0.000000     47.159700   -122.526650  98001.000000   \n",
       "25%     1952.000000      0.000000     47.430280   -122.328385  98032.000000   \n",
       "50%     1976.000000      0.000000     47.557680   -122.234335  98059.000000   \n",
       "75%     2001.000000      0.000000     47.671963   -122.127725  98117.000000   \n",
       "max     2022.000000   2022.000000     47.789830   -121.163960  98354.000000   \n",
       "\n",
       "         Population  \n",
       "count  29175.000000  \n",
       "mean   30451.927198  \n",
       "std    11308.138966  \n",
       "min      294.000000  \n",
       "25%    21147.000000  \n",
       "50%    31365.000000  \n",
       "75%    39816.000000  \n",
       "max    58442.000000  "
      ]
     },
     "execution_count": 1294,
     "metadata": {},
     "output_type": "execute_result"
    }
   ],
   "source": [
    "df1.describe()"
   ]
  },
  {
   "cell_type": "code",
   "execution_count": 1295,
   "metadata": {},
   "outputs": [],
   "source": [
    "# df1.loc[(df1['bedrooms'] > 6) & (df1['bathrooms'] > 6)]"
   ]
  },
  {
   "cell_type": "code",
   "execution_count": 1296,
   "metadata": {},
   "outputs": [
    {
     "data": {
      "text/plain": [
       "2.500000    8172\n",
       "2.000000    6935\n",
       "1.000000    4551\n",
       "3.000000    4076\n",
       "3.500000    2146\n",
       "1.500000    1765\n",
       "4.000000     637\n",
       "4.500000     523\n",
       "5.016428     199\n",
       "5.000000     142\n",
       "0.000000      24\n",
       "0.500000       5\n",
       "Name: bathrooms, dtype: int64"
      ]
     },
     "execution_count": 1296,
     "metadata": {},
     "output_type": "execute_result"
    }
   ],
   "source": [
    "df1.bathrooms.value_counts()"
   ]
  },
  {
   "cell_type": "markdown",
   "metadata": {},
   "source": [
    "Anything with zero bathrooms is suspect. "
   ]
  },
  {
   "cell_type": "code",
   "execution_count": 1297,
   "metadata": {},
   "outputs": [],
   "source": [
    "# df1.loc[df1['bathrooms'] < 1] = 1\n",
    "# df1.loc[df1['bathrooms'] > 6] = 6"
   ]
  },
  {
   "cell_type": "code",
   "execution_count": 1298,
   "metadata": {},
   "outputs": [],
   "source": [
    "# def change_value(condition): \n",
    "#     new_living = df1.sqft_living = np.sum(df1.sqft_living, (df1.sqft_garage*.75))\n",
    "#     new_garage = df1.sqft_garage = np.subtract(df1.sqft_garage, (df1.sqft_garage*.75))\n",
    "#     if condition == df1.loc[df1['sqft_garage'] > ['sqft_living']]:\n",
    "#         return new_living, new_garage"
   ]
  },
  {
   "cell_type": "code",
   "execution_count": 1299,
   "metadata": {},
   "outputs": [],
   "source": [
    "# df1.sqft_garage.apply(change_value)"
   ]
  },
  {
   "cell_type": "code",
   "execution_count": null,
   "metadata": {},
   "outputs": [],
   "source": []
  },
  {
   "cell_type": "code",
   "execution_count": 1300,
   "metadata": {},
   "outputs": [],
   "source": [
    "# X_iter"
   ]
  },
  {
   "cell_type": "code",
   "execution_count": 1301,
   "metadata": {},
   "outputs": [],
   "source": [
    "# iter_model = sm.OLS(y, sm.add_constant(X_iter))\n",
    "# iter_results = iter_model.fit()\n",
    "# print(iter_results.summary())"
   ]
  },
  {
   "cell_type": "code",
   "execution_count": 1302,
   "metadata": {},
   "outputs": [],
   "source": [
    "# iter_mae = mean_absolute_error(y, iter_results.predict(sm.add_constant(X_iter)))\n",
    "# iter_mae"
   ]
  },
  {
   "cell_type": "markdown",
   "metadata": {},
   "source": [
    "Our iterated model explains about 53 percent of the variance in `price` using `sqft_living` and `Neighborhood`. There  Overall this model is statistically significant, explaining about 38 percent of the variance in price."
   ]
  },
  {
   "cell_type": "code",
   "execution_count": 1303,
   "metadata": {},
   "outputs": [],
   "source": [
    "# fig = plt.figure(figsize=(30,220))\n",
    "# sm.graphics.plot_partregress_grid(\n",
    "#     iter_results, \n",
    "#     exog_idx=list(X_iter.columns),\n",
    "#     grid=(14,15),\n",
    "#     fig=fig)\n",
    "# plt.tight_layout()\n",
    "# plt.show()"
   ]
  },
  {
   "cell_type": "code",
   "execution_count": 1304,
   "metadata": {
    "scrolled": false
   },
   "outputs": [
    {
     "data": {
      "text/plain": [
       "<AxesSubplot:>"
      ]
     },
     "execution_count": 1304,
     "metadata": {},
     "output_type": "execute_result"
    },
    {
     "data": {
      "image/png": "[encoded data removed]",
      "text/plain": [
       "<Figure size 432x288 with 2 Axes>"
      ]
     },
     "metadata": {
      "needs_background": "light"
     },
     "output_type": "display_data"
    }
   ],
   "source": [
    "sns.heatmap(X.corr())"
   ]
  },
  {
   "cell_type": "markdown",
   "metadata": {},
   "source": [
    "ccpr function partial "
   ]
  },
  {
   "cell_type": "code",
   "execution_count": 1305,
   "metadata": {},
   "outputs": [],
   "source": [
    "# df1['Neighborhood'].value_counts()"
   ]
  },
  {
   "cell_type": "code",
   "execution_count": 1306,
   "metadata": {},
   "outputs": [],
   "source": [
    "# sns.heatmap(X.corr())"
   ]
  },
  {
   "cell_type": "code",
   "execution_count": 1307,
   "metadata": {},
   "outputs": [],
   "source": [
    "# df1.heat_source"
   ]
  },
  {
   "cell_type": "markdown",
   "metadata": {},
   "source": [
    "### Model Iteration"
   ]
  },
  {
   "cell_type": "code",
   "execution_count": 1308,
   "metadata": {},
   "outputs": [],
   "source": [
    "# Creating categorical variables\n",
    "cats = df1[['waterfront','greenbelt', 'nuisance', 'view', 'condition', 'heat_source', 'sewer_system', 'Neighborhood', 'grade']]\n",
    "cats1 = df1[['selldate','price','waterfront','greenbelt', 'nuisance', 'view', 'condition', 'heat_source', 'sewer_system', 'address', 'Zipcode', 'Neighborhood', 'grade']]"
   ]
  },
  {
   "cell_type": "code",
   "execution_count": 1309,
   "metadata": {},
   "outputs": [],
   "source": [
    "cat_cols = cats.columns\n",
    "dum_df1 = pd.get_dummies(data=df1, columns=cat_cols, drop_first=True)"
   ]
  },
  {
   "cell_type": "code",
   "execution_count": 1310,
   "metadata": {
    "scrolled": true
   },
   "outputs": [
    {
     "data": {
      "text/html": [
       "<table class=\"simpletable\">\n",
       "<caption>OLS Regression Results</caption>\n",
       "<tr>\n",
       "  <th>Dep. Variable:</th>          <td>price</td>      <th>  R-squared:         </th>  <td>   0.636</td>  \n",
       "</tr>\n",
       "<tr>\n",
       "  <th>Model:</th>                   <td>OLS</td>       <th>  Adj. R-squared:    </th>  <td>   0.635</td>  \n",
       "</tr>\n",
       "<tr>\n",
       "  <th>Method:</th>             <td>Least Squares</td>  <th>  F-statistic:       </th>  <td>   793.1</td>  \n",
       "</tr>\n",
       "<tr>\n",
       "  <th>Date:</th>             <td>Thu, 22 Sep 2022</td> <th>  Prob (F-statistic):</th>   <td>  0.00</td>   \n",
       "</tr>\n",
       "<tr>\n",
       "  <th>Time:</th>                 <td>21:47:49</td>     <th>  Log-Likelihood:    </th> <td>-4.2653e+05</td>\n",
       "</tr>\n",
       "<tr>\n",
       "  <th>No. Observations:</th>      <td> 29175</td>      <th>  AIC:               </th>  <td>8.532e+05</td> \n",
       "</tr>\n",
       "<tr>\n",
       "  <th>Df Residuals:</th>          <td> 29110</td>      <th>  BIC:               </th>  <td>8.537e+05</td> \n",
       "</tr>\n",
       "<tr>\n",
       "  <th>Df Model:</th>              <td>    64</td>      <th>                     </th>      <td> </td>     \n",
       "</tr>\n",
       "<tr>\n",
       "  <th>Covariance Type:</th>      <td>nonrobust</td>    <th>                     </th>      <td> </td>     \n",
       "</tr>\n",
       "</table>\n",
       "<table class=\"simpletable\">\n",
       "<tr>\n",
       "                 <td></td>                    <th>coef</th>     <th>std err</th>      <th>t</th>      <th>P>|t|</th>  <th>[0.025</th>    <th>0.975]</th>  \n",
       "</tr>\n",
       "<tr>\n",
       "  <th>const</th>                           <td> 3.547e+06</td> <td>  3.3e+05</td> <td>   10.738</td> <td> 0.000</td> <td>  2.9e+06</td> <td> 4.19e+06</td>\n",
       "</tr>\n",
       "<tr>\n",
       "  <th>bedrooms</th>                        <td>-2.991e+04</td> <td> 4810.831</td> <td>   -6.218</td> <td> 0.000</td> <td>-3.93e+04</td> <td>-2.05e+04</td>\n",
       "</tr>\n",
       "<tr>\n",
       "  <th>bathrooms</th>                       <td> 7.608e+04</td> <td> 6684.189</td> <td>   11.382</td> <td> 0.000</td> <td>  6.3e+04</td> <td> 8.92e+04</td>\n",
       "</tr>\n",
       "<tr>\n",
       "  <th>sqft_living</th>                     <td>   24.6166</td> <td>   14.881</td> <td>    1.654</td> <td> 0.098</td> <td>   -4.551</td> <td>   53.784</td>\n",
       "</tr>\n",
       "<tr>\n",
       "  <th>sqft_lot</th>                        <td>    0.5003</td> <td>    0.058</td> <td>    8.687</td> <td> 0.000</td> <td>    0.387</td> <td>    0.613</td>\n",
       "</tr>\n",
       "<tr>\n",
       "  <th>sqft_above</th>                      <td>  268.3400</td> <td>   14.748</td> <td>   18.195</td> <td> 0.000</td> <td>  239.433</td> <td>  297.247</td>\n",
       "</tr>\n",
       "<tr>\n",
       "  <th>sqft_basement</th>                   <td>  137.7866</td> <td>   11.130</td> <td>   12.380</td> <td> 0.000</td> <td>  115.971</td> <td>  159.602</td>\n",
       "</tr>\n",
       "<tr>\n",
       "  <th>sqft_garage</th>                     <td> -128.6146</td> <td>   16.430</td> <td>   -7.828</td> <td> 0.000</td> <td> -160.818</td> <td>  -96.412</td>\n",
       "</tr>\n",
       "<tr>\n",
       "  <th>sqft_patio</th>                      <td>   56.4669</td> <td>   16.401</td> <td>    3.443</td> <td> 0.001</td> <td>   24.320</td> <td>   88.614</td>\n",
       "</tr>\n",
       "<tr>\n",
       "  <th>yr_built</th>                        <td>-1553.9270</td> <td>  165.165</td> <td>   -9.408</td> <td> 0.000</td> <td>-1877.657</td> <td>-1230.197</td>\n",
       "</tr>\n",
       "<tr>\n",
       "  <th>yr_renovated</th>                    <td>   43.2709</td> <td>    8.185</td> <td>    5.286</td> <td> 0.000</td> <td>   27.227</td> <td>   59.315</td>\n",
       "</tr>\n",
       "<tr>\n",
       "  <th>Population</th>                      <td>    1.0568</td> <td>    0.377</td> <td>    2.807</td> <td> 0.005</td> <td>    0.319</td> <td>    1.795</td>\n",
       "</tr>\n",
       "<tr>\n",
       "  <th>waterfront_YES</th>                  <td> 7.462e+05</td> <td> 2.93e+04</td> <td>   25.440</td> <td> 0.000</td> <td> 6.89e+05</td> <td> 8.04e+05</td>\n",
       "</tr>\n",
       "<tr>\n",
       "  <th>greenbelt_YES</th>                   <td>-7.006e+04</td> <td> 2.05e+04</td> <td>   -3.418</td> <td> 0.001</td> <td> -1.1e+05</td> <td>-2.99e+04</td>\n",
       "</tr>\n",
       "<tr>\n",
       "  <th>nuisance_YES</th>                    <td>-2.308e+04</td> <td> 8653.883</td> <td>   -2.667</td> <td> 0.008</td> <td>   -4e+04</td> <td>-6114.027</td>\n",
       "</tr>\n",
       "<tr>\n",
       "  <th>view_EXCELLENT</th>                  <td>  6.63e+05</td> <td> 2.97e+04</td> <td>   22.342</td> <td> 0.000</td> <td> 6.05e+05</td> <td> 7.21e+05</td>\n",
       "</tr>\n",
       "<tr>\n",
       "  <th>view_FAIR</th>                       <td> 1.169e+05</td> <td> 3.91e+04</td> <td>    2.988</td> <td> 0.003</td> <td> 4.02e+04</td> <td> 1.94e+05</td>\n",
       "</tr>\n",
       "<tr>\n",
       "  <th>view_GOOD</th>                       <td> 4.736e+04</td> <td> 2.24e+04</td> <td>    2.117</td> <td> 0.034</td> <td> 3513.542</td> <td> 9.12e+04</td>\n",
       "</tr>\n",
       "<tr>\n",
       "  <th>view_NONE</th>                       <td>-8.204e+04</td> <td> 1.35e+04</td> <td>   -6.062</td> <td> 0.000</td> <td>-1.09e+05</td> <td>-5.55e+04</td>\n",
       "</tr>\n",
       "<tr>\n",
       "  <th>condition_Fair</th>                  <td>-1.217e+05</td> <td>  3.7e+04</td> <td>   -3.292</td> <td> 0.001</td> <td>-1.94e+05</td> <td>-4.93e+04</td>\n",
       "</tr>\n",
       "<tr>\n",
       "  <th>condition_Good</th>                  <td> 3.909e+04</td> <td> 8102.049</td> <td>    4.824</td> <td> 0.000</td> <td> 2.32e+04</td> <td>  5.5e+04</td>\n",
       "</tr>\n",
       "<tr>\n",
       "  <th>condition_Poor</th>                  <td>-9.444e+04</td> <td> 7.17e+04</td> <td>   -1.317</td> <td> 0.188</td> <td>-2.35e+05</td> <td> 4.61e+04</td>\n",
       "</tr>\n",
       "<tr>\n",
       "  <th>condition_Very Good</th>             <td>  1.01e+05</td> <td> 1.14e+04</td> <td>    8.873</td> <td> 0.000</td> <td> 7.87e+04</td> <td> 1.23e+05</td>\n",
       "</tr>\n",
       "<tr>\n",
       "  <th>heat_source_Electricity/Solar</th>   <td>-8.069e+04</td> <td> 7.21e+04</td> <td>   -1.119</td> <td> 0.263</td> <td>-2.22e+05</td> <td> 6.06e+04</td>\n",
       "</tr>\n",
       "<tr>\n",
       "  <th>heat_source_Gas</th>                 <td> 1.232e+04</td> <td> 7724.504</td> <td>    1.595</td> <td> 0.111</td> <td>-2822.301</td> <td> 2.75e+04</td>\n",
       "</tr>\n",
       "<tr>\n",
       "  <th>heat_source_Gas/Solar</th>           <td>  1.83e+05</td> <td> 5.67e+04</td> <td>    3.229</td> <td> 0.001</td> <td> 7.19e+04</td> <td> 2.94e+05</td>\n",
       "</tr>\n",
       "<tr>\n",
       "  <th>sewer_system_PRIVATE RESTRICTED</th> <td>-5.911e+05</td> <td> 2.48e+05</td> <td>   -2.388</td> <td> 0.017</td> <td>-1.08e+06</td> <td>-1.06e+05</td>\n",
       "</tr>\n",
       "<tr>\n",
       "  <th>sewer_system_PUBLIC</th>             <td> 9.051e+04</td> <td> 1.12e+04</td> <td>    8.098</td> <td> 0.000</td> <td> 6.86e+04</td> <td> 1.12e+05</td>\n",
       "</tr>\n",
       "<tr>\n",
       "  <th>Neighborhood_Bellevue</th>           <td> 1.032e+06</td> <td> 1.93e+04</td> <td>   53.472</td> <td> 0.000</td> <td> 9.94e+05</td> <td> 1.07e+06</td>\n",
       "</tr>\n",
       "<tr>\n",
       "  <th>Neighborhood_Bothell</th>            <td> 4.586e+05</td> <td> 3.59e+04</td> <td>   12.782</td> <td> 0.000</td> <td> 3.88e+05</td> <td> 5.29e+05</td>\n",
       "</tr>\n",
       "<tr>\n",
       "  <th>Neighborhood_Carnation</th>          <td> 2.375e+05</td> <td> 4.61e+04</td> <td>    5.146</td> <td> 0.000</td> <td> 1.47e+05</td> <td> 3.28e+05</td>\n",
       "</tr>\n",
       "<tr>\n",
       "  <th>Neighborhood_Duvall</th>             <td> 2.539e+05</td> <td> 3.75e+04</td> <td>    6.767</td> <td> 0.000</td> <td>  1.8e+05</td> <td> 3.27e+05</td>\n",
       "</tr>\n",
       "<tr>\n",
       "  <th>Neighborhood_Enumclaw</th>           <td> 2.254e+04</td> <td> 2.87e+04</td> <td>    0.786</td> <td> 0.432</td> <td>-3.37e+04</td> <td> 7.87e+04</td>\n",
       "</tr>\n",
       "<tr>\n",
       "  <th>Neighborhood_Fall City</th>          <td> 6.419e+05</td> <td> 5.35e+04</td> <td>   11.997</td> <td> 0.000</td> <td> 5.37e+05</td> <td> 7.47e+05</td>\n",
       "</tr>\n",
       "<tr>\n",
       "  <th>Neighborhood_Federal Way</th>        <td>-3.154e+04</td> <td> 2.13e+04</td> <td>   -1.478</td> <td> 0.139</td> <td>-7.34e+04</td> <td> 1.03e+04</td>\n",
       "</tr>\n",
       "<tr>\n",
       "  <th>Neighborhood_Gold Bar</th>           <td> 3.272e+05</td> <td> 3.13e+05</td> <td>    1.045</td> <td> 0.296</td> <td>-2.87e+05</td> <td> 9.41e+05</td>\n",
       "</tr>\n",
       "<tr>\n",
       "  <th>Neighborhood_Issaquah</th>           <td> 5.294e+05</td> <td> 2.43e+04</td> <td>   21.789</td> <td> 0.000</td> <td> 4.82e+05</td> <td> 5.77e+05</td>\n",
       "</tr>\n",
       "<tr>\n",
       "  <th>Neighborhood_Kenmore</th>            <td> 3.972e+05</td> <td> 3.19e+04</td> <td>   12.458</td> <td> 0.000</td> <td> 3.35e+05</td> <td>  4.6e+05</td>\n",
       "</tr>\n",
       "<tr>\n",
       "  <th>Neighborhood_Kent</th>               <td> 4.824e+04</td> <td> 1.75e+04</td> <td>    2.753</td> <td> 0.006</td> <td> 1.39e+04</td> <td> 8.26e+04</td>\n",
       "</tr>\n",
       "<tr>\n",
       "  <th>Neighborhood_Kirkland</th>           <td> 8.372e+05</td> <td>    2e+04</td> <td>   41.931</td> <td> 0.000</td> <td> 7.98e+05</td> <td> 8.76e+05</td>\n",
       "</tr>\n",
       "<tr>\n",
       "  <th>Neighborhood_Maple Valley</th>       <td> 1.172e+05</td> <td> 2.23e+04</td> <td>    5.251</td> <td> 0.000</td> <td> 7.35e+04</td> <td> 1.61e+05</td>\n",
       "</tr>\n",
       "<tr>\n",
       "  <th>Neighborhood_Medina</th>             <td> 3.397e+06</td> <td>  7.3e+04</td> <td>   46.532</td> <td> 0.000</td> <td> 3.25e+06</td> <td> 3.54e+06</td>\n",
       "</tr>\n",
       "<tr>\n",
       "  <th>Neighborhood_Mercer Island</th>      <td> 1.188e+06</td> <td> 3.29e+04</td> <td>   36.133</td> <td> 0.000</td> <td> 1.12e+06</td> <td> 1.25e+06</td>\n",
       "</tr>\n",
       "<tr>\n",
       "  <th>Neighborhood_Milton</th>             <td> 1.269e+05</td> <td> 1.14e+05</td> <td>    1.114</td> <td> 0.265</td> <td>-9.65e+04</td> <td>  3.5e+05</td>\n",
       "</tr>\n",
       "<tr>\n",
       "  <th>Neighborhood_North Bend</th>         <td> 2.742e+05</td> <td> 2.87e+04</td> <td>    9.545</td> <td> 0.000</td> <td> 2.18e+05</td> <td> 3.31e+05</td>\n",
       "</tr>\n",
       "<tr>\n",
       "  <th>Neighborhood_Pacific</th>            <td> 1.327e+05</td> <td> 6.38e+04</td> <td>    2.081</td> <td> 0.037</td> <td> 7692.287</td> <td> 2.58e+05</td>\n",
       "</tr>\n",
       "<tr>\n",
       "  <th>Neighborhood_Preston</th>            <td> 6.304e+05</td> <td> 3.84e+05</td> <td>    1.644</td> <td> 0.100</td> <td>-1.21e+05</td> <td> 1.38e+06</td>\n",
       "</tr>\n",
       "<tr>\n",
       "  <th>Neighborhood_Ravensdale</th>         <td> 9.742e+04</td> <td> 6.91e+04</td> <td>    1.411</td> <td> 0.158</td> <td> -3.8e+04</td> <td> 2.33e+05</td>\n",
       "</tr>\n",
       "<tr>\n",
       "  <th>Neighborhood_Redmond</th>            <td> 6.907e+05</td> <td> 2.22e+04</td> <td>   31.153</td> <td> 0.000</td> <td> 6.47e+05</td> <td> 7.34e+05</td>\n",
       "</tr>\n",
       "<tr>\n",
       "  <th>Neighborhood_Renton</th>             <td> 1.975e+05</td> <td> 1.72e+04</td> <td>   11.481</td> <td> 0.000</td> <td> 1.64e+05</td> <td> 2.31e+05</td>\n",
       "</tr>\n",
       "<tr>\n",
       "  <th>Neighborhood_Sammamish</th>          <td> 6.111e+05</td> <td> 2.31e+04</td> <td>   26.432</td> <td> 0.000</td> <td> 5.66e+05</td> <td> 6.56e+05</td>\n",
       "</tr>\n",
       "<tr>\n",
       "  <th>Neighborhood_Seattle</th>            <td> 3.793e+05</td> <td> 1.49e+04</td> <td>   25.540</td> <td> 0.000</td> <td>  3.5e+05</td> <td> 4.08e+05</td>\n",
       "</tr>\n",
       "<tr>\n",
       "  <th>Neighborhood_Snoqualmie</th>         <td>   3.4e+05</td> <td> 3.48e+04</td> <td>    9.758</td> <td> 0.000</td> <td> 2.72e+05</td> <td> 4.08e+05</td>\n",
       "</tr>\n",
       "<tr>\n",
       "  <th>Neighborhood_Vashon</th>             <td> 7.888e+04</td> <td> 4.28e+04</td> <td>    1.845</td> <td> 0.065</td> <td>-4940.373</td> <td> 1.63e+05</td>\n",
       "</tr>\n",
       "<tr>\n",
       "  <th>Neighborhood_Woodinville</th>        <td> 5.486e+05</td> <td> 2.65e+04</td> <td>   20.672</td> <td> 0.000</td> <td> 4.97e+05</td> <td> 6.01e+05</td>\n",
       "</tr>\n",
       "<tr>\n",
       "  <th>grade_11 Excellent</th>              <td> 7.921e+05</td> <td> 3.12e+04</td> <td>   25.407</td> <td> 0.000</td> <td> 7.31e+05</td> <td> 8.53e+05</td>\n",
       "</tr>\n",
       "<tr>\n",
       "  <th>grade_12 Luxury</th>                 <td> 1.852e+06</td> <td> 5.21e+04</td> <td>   35.525</td> <td> 0.000</td> <td> 1.75e+06</td> <td> 1.95e+06</td>\n",
       "</tr>\n",
       "<tr>\n",
       "  <th>grade_13 Mansion</th>                <td> 4.176e+06</td> <td> 1.12e+05</td> <td>   37.179</td> <td> 0.000</td> <td> 3.96e+06</td> <td>  4.4e+06</td>\n",
       "</tr>\n",
       "<tr>\n",
       "  <th>grade_3 Poor</th>                    <td>-6.676e+05</td> <td> 1.89e+05</td> <td>   -3.535</td> <td> 0.000</td> <td>-1.04e+06</td> <td>-2.97e+05</td>\n",
       "</tr>\n",
       "<tr>\n",
       "  <th>grade_4 Low</th>                     <td>-6.626e+05</td> <td> 8.48e+04</td> <td>   -7.816</td> <td> 0.000</td> <td>-8.29e+05</td> <td>-4.96e+05</td>\n",
       "</tr>\n",
       "<tr>\n",
       "  <th>grade_5 Fair</th>                    <td>-6.246e+05</td> <td> 3.68e+04</td> <td>  -16.962</td> <td> 0.000</td> <td>-6.97e+05</td> <td>-5.52e+05</td>\n",
       "</tr>\n",
       "<tr>\n",
       "  <th>grade_6 Low Average</th>             <td>-6.418e+05</td> <td> 2.47e+04</td> <td>  -26.008</td> <td> 0.000</td> <td> -6.9e+05</td> <td>-5.93e+05</td>\n",
       "</tr>\n",
       "<tr>\n",
       "  <th>grade_7 Average</th>                 <td>-6.275e+05</td> <td> 2.07e+04</td> <td>  -30.260</td> <td> 0.000</td> <td>-6.68e+05</td> <td>-5.87e+05</td>\n",
       "</tr>\n",
       "<tr>\n",
       "  <th>grade_8 Good</th>                    <td>-5.321e+05</td> <td> 1.87e+04</td> <td>  -28.501</td> <td> 0.000</td> <td>-5.69e+05</td> <td>-4.96e+05</td>\n",
       "</tr>\n",
       "<tr>\n",
       "  <th>grade_9 Better</th>                  <td>-2.859e+05</td> <td> 1.82e+04</td> <td>  -15.689</td> <td> 0.000</td> <td>-3.22e+05</td> <td> -2.5e+05</td>\n",
       "</tr>\n",
       "</table>\n",
       "<table class=\"simpletable\">\n",
       "<tr>\n",
       "  <th>Omnibus:</th>       <td>47315.263</td> <th>  Durbin-Watson:     </th>   <td>   1.898</td>   \n",
       "</tr>\n",
       "<tr>\n",
       "  <th>Prob(Omnibus):</th>  <td> 0.000</td>   <th>  Jarque-Bera (JB):  </th> <td>136094194.814</td>\n",
       "</tr>\n",
       "<tr>\n",
       "  <th>Skew:</th>           <td>10.131</td>   <th>  Prob(JB):          </th>   <td>    0.00</td>   \n",
       "</tr>\n",
       "<tr>\n",
       "  <th>Kurtosis:</th>       <td>336.981</td>  <th>  Cond. No.          </th>   <td>7.71e+06</td>   \n",
       "</tr>\n",
       "</table><br/><br/>Notes:<br/>[1] Standard Errors assume that the covariance matrix of the errors is correctly specified.<br/>[2] The condition number is large, 7.71e+06. This might indicate that there are<br/>strong multicollinearity or other numerical problems."
      ],
      "text/plain": [
       "<class 'statsmodels.iolib.summary.Summary'>\n",
       "\"\"\"\n",
       "                            OLS Regression Results                            \n",
       "==============================================================================\n",
       "Dep. Variable:                  price   R-squared:                       0.636\n",
       "Model:                            OLS   Adj. R-squared:                  0.635\n",
       "Method:                 Least Squares   F-statistic:                     793.1\n",
       "Date:                Thu, 22 Sep 2022   Prob (F-statistic):               0.00\n",
       "Time:                        21:47:49   Log-Likelihood:            -4.2653e+05\n",
       "No. Observations:               29175   AIC:                         8.532e+05\n",
       "Df Residuals:                   29110   BIC:                         8.537e+05\n",
       "Df Model:                          64                                         \n",
       "Covariance Type:            nonrobust                                         \n",
       "===================================================================================================\n",
       "                                      coef    std err          t      P>|t|      [0.025      0.975]\n",
       "---------------------------------------------------------------------------------------------------\n",
       "const                            3.547e+06    3.3e+05     10.738      0.000     2.9e+06    4.19e+06\n",
       "bedrooms                        -2.991e+04   4810.831     -6.218      0.000   -3.93e+04   -2.05e+04\n",
       "bathrooms                        7.608e+04   6684.189     11.382      0.000     6.3e+04    8.92e+04\n",
       "sqft_living                        24.6166     14.881      1.654      0.098      -4.551      53.784\n",
       "sqft_lot                            0.5003      0.058      8.687      0.000       0.387       0.613\n",
       "sqft_above                        268.3400     14.748     18.195      0.000     239.433     297.247\n",
       "sqft_basement                     137.7866     11.130     12.380      0.000     115.971     159.602\n",
       "sqft_garage                      -128.6146     16.430     -7.828      0.000    -160.818     -96.412\n",
       "sqft_patio                         56.4669     16.401      3.443      0.001      24.320      88.614\n",
       "yr_built                        -1553.9270    165.165     -9.408      0.000   -1877.657   -1230.197\n",
       "yr_renovated                       43.2709      8.185      5.286      0.000      27.227      59.315\n",
       "Population                          1.0568      0.377      2.807      0.005       0.319       1.795\n",
       "waterfront_YES                   7.462e+05   2.93e+04     25.440      0.000    6.89e+05    8.04e+05\n",
       "greenbelt_YES                   -7.006e+04   2.05e+04     -3.418      0.001    -1.1e+05   -2.99e+04\n",
       "nuisance_YES                    -2.308e+04   8653.883     -2.667      0.008      -4e+04   -6114.027\n",
       "view_EXCELLENT                    6.63e+05   2.97e+04     22.342      0.000    6.05e+05    7.21e+05\n",
       "view_FAIR                        1.169e+05   3.91e+04      2.988      0.003    4.02e+04    1.94e+05\n",
       "view_GOOD                        4.736e+04   2.24e+04      2.117      0.034    3513.542    9.12e+04\n",
       "view_NONE                       -8.204e+04   1.35e+04     -6.062      0.000   -1.09e+05   -5.55e+04\n",
       "condition_Fair                  -1.217e+05    3.7e+04     -3.292      0.001   -1.94e+05   -4.93e+04\n",
       "condition_Good                   3.909e+04   8102.049      4.824      0.000    2.32e+04     5.5e+04\n",
       "condition_Poor                  -9.444e+04   7.17e+04     -1.317      0.188   -2.35e+05    4.61e+04\n",
       "condition_Very Good               1.01e+05   1.14e+04      8.873      0.000    7.87e+04    1.23e+05\n",
       "heat_source_Electricity/Solar   -8.069e+04   7.21e+04     -1.119      0.263   -2.22e+05    6.06e+04\n",
       "heat_source_Gas                  1.232e+04   7724.504      1.595      0.111   -2822.301    2.75e+04\n",
       "heat_source_Gas/Solar             1.83e+05   5.67e+04      3.229      0.001    7.19e+04    2.94e+05\n",
       "sewer_system_PRIVATE RESTRICTED -5.911e+05   2.48e+05     -2.388      0.017   -1.08e+06   -1.06e+05\n",
       "sewer_system_PUBLIC              9.051e+04   1.12e+04      8.098      0.000    6.86e+04    1.12e+05\n",
       "Neighborhood_Bellevue            1.032e+06   1.93e+04     53.472      0.000    9.94e+05    1.07e+06\n",
       "Neighborhood_Bothell             4.586e+05   3.59e+04     12.782      0.000    3.88e+05    5.29e+05\n",
       "Neighborhood_Carnation           2.375e+05   4.61e+04      5.146      0.000    1.47e+05    3.28e+05\n",
       "Neighborhood_Duvall              2.539e+05   3.75e+04      6.767      0.000     1.8e+05    3.27e+05\n",
       "Neighborhood_Enumclaw            2.254e+04   2.87e+04      0.786      0.432   -3.37e+04    7.87e+04\n",
       "Neighborhood_Fall City           6.419e+05   5.35e+04     11.997      0.000    5.37e+05    7.47e+05\n",
       "Neighborhood_Federal Way        -3.154e+04   2.13e+04     -1.478      0.139   -7.34e+04    1.03e+04\n",
       "Neighborhood_Gold Bar            3.272e+05   3.13e+05      1.045      0.296   -2.87e+05    9.41e+05\n",
       "Neighborhood_Issaquah            5.294e+05   2.43e+04     21.789      0.000    4.82e+05    5.77e+05\n",
       "Neighborhood_Kenmore             3.972e+05   3.19e+04     12.458      0.000    3.35e+05     4.6e+05\n",
       "Neighborhood_Kent                4.824e+04   1.75e+04      2.753      0.006    1.39e+04    8.26e+04\n",
       "Neighborhood_Kirkland            8.372e+05      2e+04     41.931      0.000    7.98e+05    8.76e+05\n",
       "Neighborhood_Maple Valley        1.172e+05   2.23e+04      5.251      0.000    7.35e+04    1.61e+05\n",
       "Neighborhood_Medina              3.397e+06    7.3e+04     46.532      0.000    3.25e+06    3.54e+06\n",
       "Neighborhood_Mercer Island       1.188e+06   3.29e+04     36.133      0.000    1.12e+06    1.25e+06\n",
       "Neighborhood_Milton              1.269e+05   1.14e+05      1.114      0.265   -9.65e+04     3.5e+05\n",
       "Neighborhood_North Bend          2.742e+05   2.87e+04      9.545      0.000    2.18e+05    3.31e+05\n",
       "Neighborhood_Pacific             1.327e+05   6.38e+04      2.081      0.037    7692.287    2.58e+05\n",
       "Neighborhood_Preston             6.304e+05   3.84e+05      1.644      0.100   -1.21e+05    1.38e+06\n",
       "Neighborhood_Ravensdale          9.742e+04   6.91e+04      1.411      0.158    -3.8e+04    2.33e+05\n",
       "Neighborhood_Redmond             6.907e+05   2.22e+04     31.153      0.000    6.47e+05    7.34e+05\n",
       "Neighborhood_Renton              1.975e+05   1.72e+04     11.481      0.000    1.64e+05    2.31e+05\n",
       "Neighborhood_Sammamish           6.111e+05   2.31e+04     26.432      0.000    5.66e+05    6.56e+05\n",
       "Neighborhood_Seattle             3.793e+05   1.49e+04     25.540      0.000     3.5e+05    4.08e+05\n",
       "Neighborhood_Snoqualmie            3.4e+05   3.48e+04      9.758      0.000    2.72e+05    4.08e+05\n",
       "Neighborhood_Vashon              7.888e+04   4.28e+04      1.845      0.065   -4940.373    1.63e+05\n",
       "Neighborhood_Woodinville         5.486e+05   2.65e+04     20.672      0.000    4.97e+05    6.01e+05\n",
       "grade_11 Excellent               7.921e+05   3.12e+04     25.407      0.000    7.31e+05    8.53e+05\n",
       "grade_12 Luxury                  1.852e+06   5.21e+04     35.525      0.000    1.75e+06    1.95e+06\n",
       "grade_13 Mansion                 4.176e+06   1.12e+05     37.179      0.000    3.96e+06     4.4e+06\n",
       "grade_3 Poor                    -6.676e+05   1.89e+05     -3.535      0.000   -1.04e+06   -2.97e+05\n",
       "grade_4 Low                     -6.626e+05   8.48e+04     -7.816      0.000   -8.29e+05   -4.96e+05\n",
       "grade_5 Fair                    -6.246e+05   3.68e+04    -16.962      0.000   -6.97e+05   -5.52e+05\n",
       "grade_6 Low Average             -6.418e+05   2.47e+04    -26.008      0.000    -6.9e+05   -5.93e+05\n",
       "grade_7 Average                 -6.275e+05   2.07e+04    -30.260      0.000   -6.68e+05   -5.87e+05\n",
       "grade_8 Good                    -5.321e+05   1.87e+04    -28.501      0.000   -5.69e+05   -4.96e+05\n",
       "grade_9 Better                  -2.859e+05   1.82e+04    -15.689      0.000   -3.22e+05    -2.5e+05\n",
       "==============================================================================\n",
       "Omnibus:                    47315.263   Durbin-Watson:                   1.898\n",
       "Prob(Omnibus):                  0.000   Jarque-Bera (JB):        136094194.814\n",
       "Skew:                          10.131   Prob(JB):                         0.00\n",
       "Kurtosis:                     336.981   Cond. No.                     7.71e+06\n",
       "==============================================================================\n",
       "\n",
       "Notes:\n",
       "[1] Standard Errors assume that the covariance matrix of the errors is correctly specified.\n",
       "[2] The condition number is large, 7.71e+06. This might indicate that there are\n",
       "strong multicollinearity or other numerical problems.\n",
       "\"\"\""
      ]
     },
     "execution_count": 1310,
     "metadata": {},
     "output_type": "execute_result"
    }
   ],
   "source": [
    "# running our model with dummified predictors\n",
    "X1=dum_df1.drop(labels=['selldate', 'price', 'Zipcode', 'address', 'lat', 'long', \n",
    "                       'sewer_system_PUBLIC RESTRICTED',\n",
    "                      'heat_source_Oil', 'heat_source_Oil/Solar', 'heat_source_Other',\n",
    "                      'floors', 'Neighborhood_Skykomish', 'Neighborhood_Black Diamond',\n",
    "                      'Neighborhood_Baring', 'grade_2 Substandard'], axis=1)\n",
    "y=df1.price\n",
    "\n",
    "model_1 = sm.OLS(y, sm.add_constant(X1))\n",
    "results1 = model_1.fit()\n",
    "results1.summary()"
   ]
  },
  {
   "cell_type": "code",
   "execution_count": 1311,
   "metadata": {},
   "outputs": [
    {
     "data": {
      "text/plain": [
       "275085.9270423972"
      ]
     },
     "execution_count": 1311,
     "metadata": {},
     "output_type": "execute_result"
    }
   ],
   "source": [
    "mae = mean_absolute_error(y, results1.predict(sm.add_constant(X1)))\n",
    "mae"
   ]
  },
  {
   "cell_type": "markdown",
   "metadata": {},
   "source": [
    "### Utilizing categorical variables"
   ]
  },
  {
   "cell_type": "markdown",
   "metadata": {},
   "source": [
    "Well, we have a much higher R-squared number after incorporating the dummified categorical predictors, as this model claims to explain 64 percent of the variance in `price`.   The constant is no longer statistically significant, so we need to adjust our figures to more accurately account for why that is happening.  We should next remove columns that are statistically significant.  "
   ]
  },
  {
   "cell_type": "markdown",
   "metadata": {},
   "source": [
    "MAE dropped significantly.  "
   ]
  },
  {
   "cell_type": "markdown",
   "metadata": {},
   "source": [
    "## Addressing Multicolinerity"
   ]
  },
  {
   "cell_type": "code",
   "execution_count": 1312,
   "metadata": {},
   "outputs": [
    {
     "data": {
      "text/html": [
       "<div>\n",
       "<style scoped>\n",
       "    .dataframe tbody tr th:only-of-type {\n",
       "        vertical-align: middle;\n",
       "    }\n",
       "\n",
       "    .dataframe tbody tr th {\n",
       "        vertical-align: top;\n",
       "    }\n",
       "\n",
       "    .dataframe thead th {\n",
       "        text-align: right;\n",
       "    }\n",
       "</style>\n",
       "<table border=\"1\" class=\"dataframe\">\n",
       "  <thead>\n",
       "    <tr style=\"text-align: right;\">\n",
       "      <th></th>\n",
       "      <th>bedrooms</th>\n",
       "      <th>bathrooms</th>\n",
       "      <th>sqft_living</th>\n",
       "      <th>sqft_lot</th>\n",
       "      <th>sqft_above</th>\n",
       "      <th>sqft_basement</th>\n",
       "      <th>sqft_garage</th>\n",
       "      <th>sqft_patio</th>\n",
       "      <th>yr_built</th>\n",
       "      <th>yr_renovated</th>\n",
       "      <th>...</th>\n",
       "      <th>grade_11 Excellent</th>\n",
       "      <th>grade_12 Luxury</th>\n",
       "      <th>grade_13 Mansion</th>\n",
       "      <th>grade_3 Poor</th>\n",
       "      <th>grade_4 Low</th>\n",
       "      <th>grade_5 Fair</th>\n",
       "      <th>grade_6 Low Average</th>\n",
       "      <th>grade_7 Average</th>\n",
       "      <th>grade_8 Good</th>\n",
       "      <th>grade_9 Better</th>\n",
       "    </tr>\n",
       "  </thead>\n",
       "  <tbody>\n",
       "    <tr>\n",
       "      <th>bedrooms</th>\n",
       "      <td>1.000000</td>\n",
       "      <td>0.595132</td>\n",
       "      <td>0.651580</td>\n",
       "      <td>-0.000102</td>\n",
       "      <td>0.549862</td>\n",
       "      <td>0.233347</td>\n",
       "      <td>0.319387</td>\n",
       "      <td>0.199271</td>\n",
       "      <td>0.189486</td>\n",
       "      <td>0.008750</td>\n",
       "      <td>...</td>\n",
       "      <td>0.105243</td>\n",
       "      <td>0.069723</td>\n",
       "      <td>0.044815</td>\n",
       "      <td>-0.032580</td>\n",
       "      <td>-0.083456</td>\n",
       "      <td>-0.165261</td>\n",
       "      <td>-0.250092</td>\n",
       "      <td>-0.104077</td>\n",
       "      <td>0.087981</td>\n",
       "      <td>0.171799</td>\n",
       "    </tr>\n",
       "    <tr>\n",
       "      <th>bathrooms</th>\n",
       "      <td>0.595132</td>\n",
       "      <td>1.000000</td>\n",
       "      <td>0.777592</td>\n",
       "      <td>0.036177</td>\n",
       "      <td>0.674476</td>\n",
       "      <td>0.242933</td>\n",
       "      <td>0.466942</td>\n",
       "      <td>0.337319</td>\n",
       "      <td>0.465433</td>\n",
       "      <td>0.041501</td>\n",
       "      <td>...</td>\n",
       "      <td>0.207650</td>\n",
       "      <td>0.152674</td>\n",
       "      <td>0.085585</td>\n",
       "      <td>-0.026902</td>\n",
       "      <td>-0.060360</td>\n",
       "      <td>-0.158881</td>\n",
       "      <td>-0.368283</td>\n",
       "      <td>-0.286733</td>\n",
       "      <td>0.189431</td>\n",
       "      <td>0.274837</td>\n",
       "    </tr>\n",
       "    <tr>\n",
       "      <th>sqft_living</th>\n",
       "      <td>0.651580</td>\n",
       "      <td>0.777592</td>\n",
       "      <td>1.000000</td>\n",
       "      <td>0.112210</td>\n",
       "      <td>0.877221</td>\n",
       "      <td>0.306726</td>\n",
       "      <td>0.506436</td>\n",
       "      <td>0.404538</td>\n",
       "      <td>0.341083</td>\n",
       "      <td>0.037569</td>\n",
       "      <td>...</td>\n",
       "      <td>0.285114</td>\n",
       "      <td>0.188442</td>\n",
       "      <td>0.092017</td>\n",
       "      <td>-0.025643</td>\n",
       "      <td>-0.064466</td>\n",
       "      <td>-0.152820</td>\n",
       "      <td>-0.324331</td>\n",
       "      <td>-0.339840</td>\n",
       "      <td>0.102082</td>\n",
       "      <td>0.331219</td>\n",
       "    </tr>\n",
       "    <tr>\n",
       "      <th>sqft_lot</th>\n",
       "      <td>-0.000102</td>\n",
       "      <td>0.036177</td>\n",
       "      <td>0.112210</td>\n",
       "      <td>1.000000</td>\n",
       "      <td>0.121869</td>\n",
       "      <td>-0.002481</td>\n",
       "      <td>0.077591</td>\n",
       "      <td>0.139125</td>\n",
       "      <td>0.012554</td>\n",
       "      <td>0.007671</td>\n",
       "      <td>...</td>\n",
       "      <td>0.048622</td>\n",
       "      <td>0.054327</td>\n",
       "      <td>0.022921</td>\n",
       "      <td>0.020680</td>\n",
       "      <td>0.034163</td>\n",
       "      <td>0.041430</td>\n",
       "      <td>0.004429</td>\n",
       "      <td>-0.053376</td>\n",
       "      <td>-0.026535</td>\n",
       "      <td>0.021503</td>\n",
       "    </tr>\n",
       "    <tr>\n",
       "      <th>sqft_above</th>\n",
       "      <td>0.549862</td>\n",
       "      <td>0.674476</td>\n",
       "      <td>0.877221</td>\n",
       "      <td>0.121869</td>\n",
       "      <td>1.000000</td>\n",
       "      <td>-0.106239</td>\n",
       "      <td>0.556535</td>\n",
       "      <td>0.312967</td>\n",
       "      <td>0.441457</td>\n",
       "      <td>0.008017</td>\n",
       "      <td>...</td>\n",
       "      <td>0.268633</td>\n",
       "      <td>0.176192</td>\n",
       "      <td>0.090109</td>\n",
       "      <td>-0.022602</td>\n",
       "      <td>-0.056173</td>\n",
       "      <td>-0.129679</td>\n",
       "      <td>-0.286874</td>\n",
       "      <td>-0.365705</td>\n",
       "      <td>0.095235</td>\n",
       "      <td>0.344370</td>\n",
       "    </tr>\n",
       "    <tr>\n",
       "      <th>...</th>\n",
       "      <td>...</td>\n",
       "      <td>...</td>\n",
       "      <td>...</td>\n",
       "      <td>...</td>\n",
       "      <td>...</td>\n",
       "      <td>...</td>\n",
       "      <td>...</td>\n",
       "      <td>...</td>\n",
       "      <td>...</td>\n",
       "      <td>...</td>\n",
       "      <td>...</td>\n",
       "      <td>...</td>\n",
       "      <td>...</td>\n",
       "      <td>...</td>\n",
       "      <td>...</td>\n",
       "      <td>...</td>\n",
       "      <td>...</td>\n",
       "      <td>...</td>\n",
       "      <td>...</td>\n",
       "      <td>...</td>\n",
       "      <td>...</td>\n",
       "    </tr>\n",
       "    <tr>\n",
       "      <th>grade_5 Fair</th>\n",
       "      <td>-0.165261</td>\n",
       "      <td>-0.158881</td>\n",
       "      <td>-0.152820</td>\n",
       "      <td>0.041430</td>\n",
       "      <td>-0.129679</td>\n",
       "      <td>-0.067470</td>\n",
       "      <td>-0.127662</td>\n",
       "      <td>-0.064007</td>\n",
       "      <td>-0.140405</td>\n",
       "      <td>-0.004473</td>\n",
       "      <td>...</td>\n",
       "      <td>-0.013669</td>\n",
       "      <td>-0.007494</td>\n",
       "      <td>-0.003318</td>\n",
       "      <td>-0.002031</td>\n",
       "      <td>-0.004595</td>\n",
       "      <td>1.000000</td>\n",
       "      <td>-0.038035</td>\n",
       "      <td>-0.093600</td>\n",
       "      <td>-0.076332</td>\n",
       "      <td>-0.043311</td>\n",
       "    </tr>\n",
       "    <tr>\n",
       "      <th>grade_6 Low Average</th>\n",
       "      <td>-0.250092</td>\n",
       "      <td>-0.368283</td>\n",
       "      <td>-0.324331</td>\n",
       "      <td>0.004429</td>\n",
       "      <td>-0.286874</td>\n",
       "      <td>-0.112551</td>\n",
       "      <td>-0.302619</td>\n",
       "      <td>-0.147633</td>\n",
       "      <td>-0.308220</td>\n",
       "      <td>0.014267</td>\n",
       "      <td>...</td>\n",
       "      <td>-0.038877</td>\n",
       "      <td>-0.021313</td>\n",
       "      <td>-0.009437</td>\n",
       "      <td>-0.005778</td>\n",
       "      <td>-0.013070</td>\n",
       "      <td>-0.038035</td>\n",
       "      <td>1.000000</td>\n",
       "      <td>-0.266216</td>\n",
       "      <td>-0.217103</td>\n",
       "      <td>-0.123184</td>\n",
       "    </tr>\n",
       "    <tr>\n",
       "      <th>grade_7 Average</th>\n",
       "      <td>-0.104077</td>\n",
       "      <td>-0.286733</td>\n",
       "      <td>-0.339840</td>\n",
       "      <td>-0.053376</td>\n",
       "      <td>-0.365705</td>\n",
       "      <td>0.029374</td>\n",
       "      <td>-0.196190</td>\n",
       "      <td>-0.178991</td>\n",
       "      <td>-0.270761</td>\n",
       "      <td>0.013225</td>\n",
       "      <td>...</td>\n",
       "      <td>-0.095672</td>\n",
       "      <td>-0.052450</td>\n",
       "      <td>-0.023224</td>\n",
       "      <td>-0.014218</td>\n",
       "      <td>-0.032165</td>\n",
       "      <td>-0.093600</td>\n",
       "      <td>-0.266216</td>\n",
       "      <td>1.000000</td>\n",
       "      <td>-0.534271</td>\n",
       "      <td>-0.303145</td>\n",
       "    </tr>\n",
       "    <tr>\n",
       "      <th>grade_8 Good</th>\n",
       "      <td>0.087981</td>\n",
       "      <td>0.189431</td>\n",
       "      <td>0.102082</td>\n",
       "      <td>-0.026535</td>\n",
       "      <td>0.095235</td>\n",
       "      <td>0.012753</td>\n",
       "      <td>0.117347</td>\n",
       "      <td>0.055667</td>\n",
       "      <td>0.252723</td>\n",
       "      <td>-0.020331</td>\n",
       "      <td>...</td>\n",
       "      <td>-0.078022</td>\n",
       "      <td>-0.042774</td>\n",
       "      <td>-0.018940</td>\n",
       "      <td>-0.011595</td>\n",
       "      <td>-0.026231</td>\n",
       "      <td>-0.076332</td>\n",
       "      <td>-0.217103</td>\n",
       "      <td>-0.534271</td>\n",
       "      <td>1.000000</td>\n",
       "      <td>-0.247220</td>\n",
       "    </tr>\n",
       "    <tr>\n",
       "      <th>grade_9 Better</th>\n",
       "      <td>0.171799</td>\n",
       "      <td>0.274837</td>\n",
       "      <td>0.331219</td>\n",
       "      <td>0.021503</td>\n",
       "      <td>0.344370</td>\n",
       "      <td>-0.000723</td>\n",
       "      <td>0.205335</td>\n",
       "      <td>0.158379</td>\n",
       "      <td>0.254491</td>\n",
       "      <td>-0.006354</td>\n",
       "      <td>...</td>\n",
       "      <td>-0.044270</td>\n",
       "      <td>-0.024270</td>\n",
       "      <td>-0.010746</td>\n",
       "      <td>-0.006579</td>\n",
       "      <td>-0.014883</td>\n",
       "      <td>-0.043311</td>\n",
       "      <td>-0.123184</td>\n",
       "      <td>-0.303145</td>\n",
       "      <td>-0.247220</td>\n",
       "      <td>1.000000</td>\n",
       "    </tr>\n",
       "  </tbody>\n",
       "</table>\n",
       "<p>64 rows × 64 columns</p>\n",
       "</div>"
      ],
      "text/plain": [
       "                     bedrooms  bathrooms  sqft_living  sqft_lot  sqft_above  \\\n",
       "bedrooms             1.000000   0.595132     0.651580 -0.000102    0.549862   \n",
       "bathrooms            0.595132   1.000000     0.777592  0.036177    0.674476   \n",
       "sqft_living          0.651580   0.777592     1.000000  0.112210    0.877221   \n",
       "sqft_lot            -0.000102   0.036177     0.112210  1.000000    0.121869   \n",
       "sqft_above           0.549862   0.674476     0.877221  0.121869    1.000000   \n",
       "...                       ...        ...          ...       ...         ...   \n",
       "grade_5 Fair        -0.165261  -0.158881    -0.152820  0.041430   -0.129679   \n",
       "grade_6 Low Average -0.250092  -0.368283    -0.324331  0.004429   -0.286874   \n",
       "grade_7 Average     -0.104077  -0.286733    -0.339840 -0.053376   -0.365705   \n",
       "grade_8 Good         0.087981   0.189431     0.102082 -0.026535    0.095235   \n",
       "grade_9 Better       0.171799   0.274837     0.331219  0.021503    0.344370   \n",
       "\n",
       "                     sqft_basement  sqft_garage  sqft_patio  yr_built  \\\n",
       "bedrooms                  0.233347     0.319387    0.199271  0.189486   \n",
       "bathrooms                 0.242933     0.466942    0.337319  0.465433   \n",
       "sqft_living               0.306726     0.506436    0.404538  0.341083   \n",
       "sqft_lot                 -0.002481     0.077591    0.139125  0.012554   \n",
       "sqft_above               -0.106239     0.556535    0.312967  0.441457   \n",
       "...                            ...          ...         ...       ...   \n",
       "grade_5 Fair             -0.067470    -0.127662   -0.064007 -0.140405   \n",
       "grade_6 Low Average      -0.112551    -0.302619   -0.147633 -0.308220   \n",
       "grade_7 Average           0.029374    -0.196190   -0.178991 -0.270761   \n",
       "grade_8 Good              0.012753     0.117347    0.055667  0.252723   \n",
       "grade_9 Better           -0.000723     0.205335    0.158379  0.254491   \n",
       "\n",
       "                     yr_renovated  ...  grade_11 Excellent  grade_12 Luxury  \\\n",
       "bedrooms                 0.008750  ...            0.105243         0.069723   \n",
       "bathrooms                0.041501  ...            0.207650         0.152674   \n",
       "sqft_living              0.037569  ...            0.285114         0.188442   \n",
       "sqft_lot                 0.007671  ...            0.048622         0.054327   \n",
       "sqft_above               0.008017  ...            0.268633         0.176192   \n",
       "...                           ...  ...                 ...              ...   \n",
       "grade_5 Fair            -0.004473  ...           -0.013669        -0.007494   \n",
       "grade_6 Low Average      0.014267  ...           -0.038877        -0.021313   \n",
       "grade_7 Average          0.013225  ...           -0.095672        -0.052450   \n",
       "grade_8 Good            -0.020331  ...           -0.078022        -0.042774   \n",
       "grade_9 Better          -0.006354  ...           -0.044270        -0.024270   \n",
       "\n",
       "                     grade_13 Mansion  grade_3 Poor  grade_4 Low  \\\n",
       "bedrooms                     0.044815     -0.032580    -0.083456   \n",
       "bathrooms                    0.085585     -0.026902    -0.060360   \n",
       "sqft_living                  0.092017     -0.025643    -0.064466   \n",
       "sqft_lot                     0.022921      0.020680     0.034163   \n",
       "sqft_above                   0.090109     -0.022602    -0.056173   \n",
       "...                               ...           ...          ...   \n",
       "grade_5 Fair                -0.003318     -0.002031    -0.004595   \n",
       "grade_6 Low Average         -0.009437     -0.005778    -0.013070   \n",
       "grade_7 Average             -0.023224     -0.014218    -0.032165   \n",
       "grade_8 Good                -0.018940     -0.011595    -0.026231   \n",
       "grade_9 Better              -0.010746     -0.006579    -0.014883   \n",
       "\n",
       "                     grade_5 Fair  grade_6 Low Average  grade_7 Average  \\\n",
       "bedrooms                -0.165261            -0.250092        -0.104077   \n",
       "bathrooms               -0.158881            -0.368283        -0.286733   \n",
       "sqft_living             -0.152820            -0.324331        -0.339840   \n",
       "sqft_lot                 0.041430             0.004429        -0.053376   \n",
       "sqft_above              -0.129679            -0.286874        -0.365705   \n",
       "...                           ...                  ...              ...   \n",
       "grade_5 Fair             1.000000            -0.038035        -0.093600   \n",
       "grade_6 Low Average     -0.038035             1.000000        -0.266216   \n",
       "grade_7 Average         -0.093600            -0.266216         1.000000   \n",
       "grade_8 Good            -0.076332            -0.217103        -0.534271   \n",
       "grade_9 Better          -0.043311            -0.123184        -0.303145   \n",
       "\n",
       "                     grade_8 Good  grade_9 Better  \n",
       "bedrooms                 0.087981        0.171799  \n",
       "bathrooms                0.189431        0.274837  \n",
       "sqft_living              0.102082        0.331219  \n",
       "sqft_lot                -0.026535        0.021503  \n",
       "sqft_above               0.095235        0.344370  \n",
       "...                           ...             ...  \n",
       "grade_5 Fair            -0.076332       -0.043311  \n",
       "grade_6 Low Average     -0.217103       -0.123184  \n",
       "grade_7 Average         -0.534271       -0.303145  \n",
       "grade_8 Good             1.000000       -0.247220  \n",
       "grade_9 Better          -0.247220        1.000000  \n",
       "\n",
       "[64 rows x 64 columns]"
      ]
     },
     "execution_count": 1312,
     "metadata": {},
     "output_type": "execute_result"
    }
   ],
   "source": [
    "X1.corr()"
   ]
  },
  {
   "cell_type": "code",
   "execution_count": 1313,
   "metadata": {},
   "outputs": [
    {
     "data": {
      "text/html": [
       "<div>\n",
       "<style scoped>\n",
       "    .dataframe tbody tr th:only-of-type {\n",
       "        vertical-align: middle;\n",
       "    }\n",
       "\n",
       "    .dataframe tbody tr th {\n",
       "        vertical-align: top;\n",
       "    }\n",
       "\n",
       "    .dataframe thead th {\n",
       "        text-align: right;\n",
       "    }\n",
       "</style>\n",
       "<table border=\"1\" class=\"dataframe\">\n",
       "  <thead>\n",
       "    <tr style=\"text-align: right;\">\n",
       "      <th></th>\n",
       "      <th>bedrooms</th>\n",
       "      <th>bathrooms</th>\n",
       "      <th>sqft_living</th>\n",
       "      <th>sqft_lot</th>\n",
       "      <th>sqft_above</th>\n",
       "      <th>sqft_basement</th>\n",
       "      <th>sqft_garage</th>\n",
       "      <th>sqft_patio</th>\n",
       "      <th>yr_built</th>\n",
       "      <th>yr_renovated</th>\n",
       "      <th>...</th>\n",
       "      <th>grade_11 Excellent</th>\n",
       "      <th>grade_12 Luxury</th>\n",
       "      <th>grade_13 Mansion</th>\n",
       "      <th>grade_3 Poor</th>\n",
       "      <th>grade_4 Low</th>\n",
       "      <th>grade_5 Fair</th>\n",
       "      <th>grade_6 Low Average</th>\n",
       "      <th>grade_7 Average</th>\n",
       "      <th>grade_8 Good</th>\n",
       "      <th>grade_9 Better</th>\n",
       "    </tr>\n",
       "  </thead>\n",
       "  <tbody>\n",
       "    <tr>\n",
       "      <th>bedrooms</th>\n",
       "      <td>True</td>\n",
       "      <td>False</td>\n",
       "      <td>False</td>\n",
       "      <td>False</td>\n",
       "      <td>False</td>\n",
       "      <td>False</td>\n",
       "      <td>False</td>\n",
       "      <td>False</td>\n",
       "      <td>False</td>\n",
       "      <td>False</td>\n",
       "      <td>...</td>\n",
       "      <td>False</td>\n",
       "      <td>False</td>\n",
       "      <td>False</td>\n",
       "      <td>False</td>\n",
       "      <td>False</td>\n",
       "      <td>False</td>\n",
       "      <td>False</td>\n",
       "      <td>False</td>\n",
       "      <td>False</td>\n",
       "      <td>False</td>\n",
       "    </tr>\n",
       "    <tr>\n",
       "      <th>bathrooms</th>\n",
       "      <td>False</td>\n",
       "      <td>True</td>\n",
       "      <td>True</td>\n",
       "      <td>False</td>\n",
       "      <td>False</td>\n",
       "      <td>False</td>\n",
       "      <td>False</td>\n",
       "      <td>False</td>\n",
       "      <td>False</td>\n",
       "      <td>False</td>\n",
       "      <td>...</td>\n",
       "      <td>False</td>\n",
       "      <td>False</td>\n",
       "      <td>False</td>\n",
       "      <td>False</td>\n",
       "      <td>False</td>\n",
       "      <td>False</td>\n",
       "      <td>False</td>\n",
       "      <td>False</td>\n",
       "      <td>False</td>\n",
       "      <td>False</td>\n",
       "    </tr>\n",
       "    <tr>\n",
       "      <th>sqft_living</th>\n",
       "      <td>False</td>\n",
       "      <td>True</td>\n",
       "      <td>True</td>\n",
       "      <td>False</td>\n",
       "      <td>True</td>\n",
       "      <td>False</td>\n",
       "      <td>False</td>\n",
       "      <td>False</td>\n",
       "      <td>False</td>\n",
       "      <td>False</td>\n",
       "      <td>...</td>\n",
       "      <td>False</td>\n",
       "      <td>False</td>\n",
       "      <td>False</td>\n",
       "      <td>False</td>\n",
       "      <td>False</td>\n",
       "      <td>False</td>\n",
       "      <td>False</td>\n",
       "      <td>False</td>\n",
       "      <td>False</td>\n",
       "      <td>False</td>\n",
       "    </tr>\n",
       "    <tr>\n",
       "      <th>sqft_lot</th>\n",
       "      <td>False</td>\n",
       "      <td>False</td>\n",
       "      <td>False</td>\n",
       "      <td>True</td>\n",
       "      <td>False</td>\n",
       "      <td>False</td>\n",
       "      <td>False</td>\n",
       "      <td>False</td>\n",
       "      <td>False</td>\n",
       "      <td>False</td>\n",
       "      <td>...</td>\n",
       "      <td>False</td>\n",
       "      <td>False</td>\n",
       "      <td>False</td>\n",
       "      <td>False</td>\n",
       "      <td>False</td>\n",
       "      <td>False</td>\n",
       "      <td>False</td>\n",
       "      <td>False</td>\n",
       "      <td>False</td>\n",
       "      <td>False</td>\n",
       "    </tr>\n",
       "    <tr>\n",
       "      <th>sqft_above</th>\n",
       "      <td>False</td>\n",
       "      <td>False</td>\n",
       "      <td>True</td>\n",
       "      <td>False</td>\n",
       "      <td>True</td>\n",
       "      <td>False</td>\n",
       "      <td>False</td>\n",
       "      <td>False</td>\n",
       "      <td>False</td>\n",
       "      <td>False</td>\n",
       "      <td>...</td>\n",
       "      <td>False</td>\n",
       "      <td>False</td>\n",
       "      <td>False</td>\n",
       "      <td>False</td>\n",
       "      <td>False</td>\n",
       "      <td>False</td>\n",
       "      <td>False</td>\n",
       "      <td>False</td>\n",
       "      <td>False</td>\n",
       "      <td>False</td>\n",
       "    </tr>\n",
       "    <tr>\n",
       "      <th>...</th>\n",
       "      <td>...</td>\n",
       "      <td>...</td>\n",
       "      <td>...</td>\n",
       "      <td>...</td>\n",
       "      <td>...</td>\n",
       "      <td>...</td>\n",
       "      <td>...</td>\n",
       "      <td>...</td>\n",
       "      <td>...</td>\n",
       "      <td>...</td>\n",
       "      <td>...</td>\n",
       "      <td>...</td>\n",
       "      <td>...</td>\n",
       "      <td>...</td>\n",
       "      <td>...</td>\n",
       "      <td>...</td>\n",
       "      <td>...</td>\n",
       "      <td>...</td>\n",
       "      <td>...</td>\n",
       "      <td>...</td>\n",
       "      <td>...</td>\n",
       "    </tr>\n",
       "    <tr>\n",
       "      <th>grade_5 Fair</th>\n",
       "      <td>False</td>\n",
       "      <td>False</td>\n",
       "      <td>False</td>\n",
       "      <td>False</td>\n",
       "      <td>False</td>\n",
       "      <td>False</td>\n",
       "      <td>False</td>\n",
       "      <td>False</td>\n",
       "      <td>False</td>\n",
       "      <td>False</td>\n",
       "      <td>...</td>\n",
       "      <td>False</td>\n",
       "      <td>False</td>\n",
       "      <td>False</td>\n",
       "      <td>False</td>\n",
       "      <td>False</td>\n",
       "      <td>True</td>\n",
       "      <td>False</td>\n",
       "      <td>False</td>\n",
       "      <td>False</td>\n",
       "      <td>False</td>\n",
       "    </tr>\n",
       "    <tr>\n",
       "      <th>grade_6 Low Average</th>\n",
       "      <td>False</td>\n",
       "      <td>False</td>\n",
       "      <td>False</td>\n",
       "      <td>False</td>\n",
       "      <td>False</td>\n",
       "      <td>False</td>\n",
       "      <td>False</td>\n",
       "      <td>False</td>\n",
       "      <td>False</td>\n",
       "      <td>False</td>\n",
       "      <td>...</td>\n",
       "      <td>False</td>\n",
       "      <td>False</td>\n",
       "      <td>False</td>\n",
       "      <td>False</td>\n",
       "      <td>False</td>\n",
       "      <td>False</td>\n",
       "      <td>True</td>\n",
       "      <td>False</td>\n",
       "      <td>False</td>\n",
       "      <td>False</td>\n",
       "    </tr>\n",
       "    <tr>\n",
       "      <th>grade_7 Average</th>\n",
       "      <td>False</td>\n",
       "      <td>False</td>\n",
       "      <td>False</td>\n",
       "      <td>False</td>\n",
       "      <td>False</td>\n",
       "      <td>False</td>\n",
       "      <td>False</td>\n",
       "      <td>False</td>\n",
       "      <td>False</td>\n",
       "      <td>False</td>\n",
       "      <td>...</td>\n",
       "      <td>False</td>\n",
       "      <td>False</td>\n",
       "      <td>False</td>\n",
       "      <td>False</td>\n",
       "      <td>False</td>\n",
       "      <td>False</td>\n",
       "      <td>False</td>\n",
       "      <td>True</td>\n",
       "      <td>False</td>\n",
       "      <td>False</td>\n",
       "    </tr>\n",
       "    <tr>\n",
       "      <th>grade_8 Good</th>\n",
       "      <td>False</td>\n",
       "      <td>False</td>\n",
       "      <td>False</td>\n",
       "      <td>False</td>\n",
       "      <td>False</td>\n",
       "      <td>False</td>\n",
       "      <td>False</td>\n",
       "      <td>False</td>\n",
       "      <td>False</td>\n",
       "      <td>False</td>\n",
       "      <td>...</td>\n",
       "      <td>False</td>\n",
       "      <td>False</td>\n",
       "      <td>False</td>\n",
       "      <td>False</td>\n",
       "      <td>False</td>\n",
       "      <td>False</td>\n",
       "      <td>False</td>\n",
       "      <td>False</td>\n",
       "      <td>True</td>\n",
       "      <td>False</td>\n",
       "    </tr>\n",
       "    <tr>\n",
       "      <th>grade_9 Better</th>\n",
       "      <td>False</td>\n",
       "      <td>False</td>\n",
       "      <td>False</td>\n",
       "      <td>False</td>\n",
       "      <td>False</td>\n",
       "      <td>False</td>\n",
       "      <td>False</td>\n",
       "      <td>False</td>\n",
       "      <td>False</td>\n",
       "      <td>False</td>\n",
       "      <td>...</td>\n",
       "      <td>False</td>\n",
       "      <td>False</td>\n",
       "      <td>False</td>\n",
       "      <td>False</td>\n",
       "      <td>False</td>\n",
       "      <td>False</td>\n",
       "      <td>False</td>\n",
       "      <td>False</td>\n",
       "      <td>False</td>\n",
       "      <td>True</td>\n",
       "    </tr>\n",
       "  </tbody>\n",
       "</table>\n",
       "<p>64 rows × 64 columns</p>\n",
       "</div>"
      ],
      "text/plain": [
       "                     bedrooms  bathrooms  sqft_living  sqft_lot  sqft_above  \\\n",
       "bedrooms                 True      False        False     False       False   \n",
       "bathrooms               False       True         True     False       False   \n",
       "sqft_living             False       True         True     False        True   \n",
       "sqft_lot                False      False        False      True       False   \n",
       "sqft_above              False      False         True     False        True   \n",
       "...                       ...        ...          ...       ...         ...   \n",
       "grade_5 Fair            False      False        False     False       False   \n",
       "grade_6 Low Average     False      False        False     False       False   \n",
       "grade_7 Average         False      False        False     False       False   \n",
       "grade_8 Good            False      False        False     False       False   \n",
       "grade_9 Better          False      False        False     False       False   \n",
       "\n",
       "                     sqft_basement  sqft_garage  sqft_patio  yr_built  \\\n",
       "bedrooms                     False        False       False     False   \n",
       "bathrooms                    False        False       False     False   \n",
       "sqft_living                  False        False       False     False   \n",
       "sqft_lot                     False        False       False     False   \n",
       "sqft_above                   False        False       False     False   \n",
       "...                            ...          ...         ...       ...   \n",
       "grade_5 Fair                 False        False       False     False   \n",
       "grade_6 Low Average          False        False       False     False   \n",
       "grade_7 Average              False        False       False     False   \n",
       "grade_8 Good                 False        False       False     False   \n",
       "grade_9 Better               False        False       False     False   \n",
       "\n",
       "                     yr_renovated  ...  grade_11 Excellent  grade_12 Luxury  \\\n",
       "bedrooms                    False  ...               False            False   \n",
       "bathrooms                   False  ...               False            False   \n",
       "sqft_living                 False  ...               False            False   \n",
       "sqft_lot                    False  ...               False            False   \n",
       "sqft_above                  False  ...               False            False   \n",
       "...                           ...  ...                 ...              ...   \n",
       "grade_5 Fair                False  ...               False            False   \n",
       "grade_6 Low Average         False  ...               False            False   \n",
       "grade_7 Average             False  ...               False            False   \n",
       "grade_8 Good                False  ...               False            False   \n",
       "grade_9 Better              False  ...               False            False   \n",
       "\n",
       "                     grade_13 Mansion  grade_3 Poor  grade_4 Low  \\\n",
       "bedrooms                        False         False        False   \n",
       "bathrooms                       False         False        False   \n",
       "sqft_living                     False         False        False   \n",
       "sqft_lot                        False         False        False   \n",
       "sqft_above                      False         False        False   \n",
       "...                               ...           ...          ...   \n",
       "grade_5 Fair                    False         False        False   \n",
       "grade_6 Low Average             False         False        False   \n",
       "grade_7 Average                 False         False        False   \n",
       "grade_8 Good                    False         False        False   \n",
       "grade_9 Better                  False         False        False   \n",
       "\n",
       "                     grade_5 Fair  grade_6 Low Average  grade_7 Average  \\\n",
       "bedrooms                    False                False            False   \n",
       "bathrooms                   False                False            False   \n",
       "sqft_living                 False                False            False   \n",
       "sqft_lot                    False                False            False   \n",
       "sqft_above                  False                False            False   \n",
       "...                           ...                  ...              ...   \n",
       "grade_5 Fair                 True                False            False   \n",
       "grade_6 Low Average         False                 True            False   \n",
       "grade_7 Average             False                False             True   \n",
       "grade_8 Good                False                False            False   \n",
       "grade_9 Better              False                False            False   \n",
       "\n",
       "                     grade_8 Good  grade_9 Better  \n",
       "bedrooms                    False           False  \n",
       "bathrooms                   False           False  \n",
       "sqft_living                 False           False  \n",
       "sqft_lot                    False           False  \n",
       "sqft_above                  False           False  \n",
       "...                           ...             ...  \n",
       "grade_5 Fair                False           False  \n",
       "grade_6 Low Average         False           False  \n",
       "grade_7 Average             False           False  \n",
       "grade_8 Good                 True           False  \n",
       "grade_9 Better              False            True  \n",
       "\n",
       "[64 rows x 64 columns]"
      ]
     },
     "execution_count": 1313,
     "metadata": {},
     "output_type": "execute_result"
    }
   ],
   "source": [
    "abs(X1.corr()) > .75"
   ]
  },
  {
   "cell_type": "code",
   "execution_count": 1314,
   "metadata": {},
   "outputs": [
    {
     "data": {
      "text/html": [
       "<div>\n",
       "<style scoped>\n",
       "    .dataframe tbody tr th:only-of-type {\n",
       "        vertical-align: middle;\n",
       "    }\n",
       "\n",
       "    .dataframe tbody tr th {\n",
       "        vertical-align: top;\n",
       "    }\n",
       "\n",
       "    .dataframe thead th {\n",
       "        text-align: right;\n",
       "    }\n",
       "</style>\n",
       "<table border=\"1\" class=\"dataframe\">\n",
       "  <thead>\n",
       "    <tr style=\"text-align: right;\">\n",
       "      <th></th>\n",
       "      <th>cc</th>\n",
       "    </tr>\n",
       "    <tr>\n",
       "      <th>pairs</th>\n",
       "      <th></th>\n",
       "    </tr>\n",
       "  </thead>\n",
       "  <tbody>\n",
       "    <tr>\n",
       "      <th>(sqft_living, sqft_above)</th>\n",
       "      <td>0.877221</td>\n",
       "    </tr>\n",
       "    <tr>\n",
       "      <th>(bathrooms, sqft_living)</th>\n",
       "      <td>0.777592</td>\n",
       "    </tr>\n",
       "  </tbody>\n",
       "</table>\n",
       "</div>"
      ],
      "text/plain": [
       "                                 cc\n",
       "pairs                              \n",
       "(sqft_living, sqft_above)  0.877221\n",
       "(bathrooms, sqft_living)   0.777592"
      ]
     },
     "execution_count": 1314,
     "metadata": {},
     "output_type": "execute_result"
    }
   ],
   "source": [
    "X2 = X1.corr().abs().stack().reset_index().sort_values(0, ascending=False)\n",
    "X2['pairs'] = list(zip(X2.level_0, X2.level_1))\n",
    "X2.set_index(['pairs'], inplace=True)\n",
    "X2.drop(columns=['level_1', 'level_0'], inplace = True)\n",
    "X2.columns = ['cc']\n",
    "X2.drop_duplicates(inplace=True)\n",
    "X2[(X2.cc>.75) & (X2.cc<1)]"
   ]
  },
  {
   "cell_type": "code",
   "execution_count": 1181,
   "metadata": {},
   "outputs": [],
   "source": [
    "X1.drop(columns=['yr_built'], inplace=True)"
   ]
  },
  {
   "cell_type": "markdown",
   "metadata": {},
   "source": [
    "There are three sets of variables that are highly correlated: yr_old and yr_built, sqft_above\n",
    "and sqft_living, and bathrooms with sqft_living"
   ]
  },
  {
   "cell_type": "code",
   "execution_count": 1315,
   "metadata": {},
   "outputs": [
    {
     "data": {
      "text/html": [
       "<table class=\"simpletable\">\n",
       "<caption>OLS Regression Results</caption>\n",
       "<tr>\n",
       "  <th>Dep. Variable:</th>          <td>price</td>      <th>  R-squared:         </th>  <td>   0.636</td>  \n",
       "</tr>\n",
       "<tr>\n",
       "  <th>Model:</th>                   <td>OLS</td>       <th>  Adj. R-squared:    </th>  <td>   0.635</td>  \n",
       "</tr>\n",
       "<tr>\n",
       "  <th>Method:</th>             <td>Least Squares</td>  <th>  F-statistic:       </th>  <td>   793.1</td>  \n",
       "</tr>\n",
       "<tr>\n",
       "  <th>Date:</th>             <td>Thu, 22 Sep 2022</td> <th>  Prob (F-statistic):</th>   <td>  0.00</td>   \n",
       "</tr>\n",
       "<tr>\n",
       "  <th>Time:</th>                 <td>21:48:14</td>     <th>  Log-Likelihood:    </th> <td>-4.2653e+05</td>\n",
       "</tr>\n",
       "<tr>\n",
       "  <th>No. Observations:</th>      <td> 29175</td>      <th>  AIC:               </th>  <td>8.532e+05</td> \n",
       "</tr>\n",
       "<tr>\n",
       "  <th>Df Residuals:</th>          <td> 29110</td>      <th>  BIC:               </th>  <td>8.537e+05</td> \n",
       "</tr>\n",
       "<tr>\n",
       "  <th>Df Model:</th>              <td>    64</td>      <th>                     </th>      <td> </td>     \n",
       "</tr>\n",
       "<tr>\n",
       "  <th>Covariance Type:</th>      <td>nonrobust</td>    <th>                     </th>      <td> </td>     \n",
       "</tr>\n",
       "</table>\n",
       "<table class=\"simpletable\">\n",
       "<tr>\n",
       "                 <td></td>                    <th>coef</th>     <th>std err</th>      <th>t</th>      <th>P>|t|</th>  <th>[0.025</th>    <th>0.975]</th>  \n",
       "</tr>\n",
       "<tr>\n",
       "  <th>const</th>                           <td> 3.547e+06</td> <td>  3.3e+05</td> <td>   10.738</td> <td> 0.000</td> <td>  2.9e+06</td> <td> 4.19e+06</td>\n",
       "</tr>\n",
       "<tr>\n",
       "  <th>bedrooms</th>                        <td>-2.991e+04</td> <td> 4810.831</td> <td>   -6.218</td> <td> 0.000</td> <td>-3.93e+04</td> <td>-2.05e+04</td>\n",
       "</tr>\n",
       "<tr>\n",
       "  <th>bathrooms</th>                       <td> 7.608e+04</td> <td> 6684.189</td> <td>   11.382</td> <td> 0.000</td> <td>  6.3e+04</td> <td> 8.92e+04</td>\n",
       "</tr>\n",
       "<tr>\n",
       "  <th>sqft_living</th>                     <td>   24.6166</td> <td>   14.881</td> <td>    1.654</td> <td> 0.098</td> <td>   -4.551</td> <td>   53.784</td>\n",
       "</tr>\n",
       "<tr>\n",
       "  <th>sqft_lot</th>                        <td>    0.5003</td> <td>    0.058</td> <td>    8.687</td> <td> 0.000</td> <td>    0.387</td> <td>    0.613</td>\n",
       "</tr>\n",
       "<tr>\n",
       "  <th>sqft_above</th>                      <td>  268.3400</td> <td>   14.748</td> <td>   18.195</td> <td> 0.000</td> <td>  239.433</td> <td>  297.247</td>\n",
       "</tr>\n",
       "<tr>\n",
       "  <th>sqft_basement</th>                   <td>  137.7866</td> <td>   11.130</td> <td>   12.380</td> <td> 0.000</td> <td>  115.971</td> <td>  159.602</td>\n",
       "</tr>\n",
       "<tr>\n",
       "  <th>sqft_garage</th>                     <td> -128.6146</td> <td>   16.430</td> <td>   -7.828</td> <td> 0.000</td> <td> -160.818</td> <td>  -96.412</td>\n",
       "</tr>\n",
       "<tr>\n",
       "  <th>sqft_patio</th>                      <td>   56.4669</td> <td>   16.401</td> <td>    3.443</td> <td> 0.001</td> <td>   24.320</td> <td>   88.614</td>\n",
       "</tr>\n",
       "<tr>\n",
       "  <th>yr_built</th>                        <td>-1553.9270</td> <td>  165.165</td> <td>   -9.408</td> <td> 0.000</td> <td>-1877.657</td> <td>-1230.197</td>\n",
       "</tr>\n",
       "<tr>\n",
       "  <th>yr_renovated</th>                    <td>   43.2709</td> <td>    8.185</td> <td>    5.286</td> <td> 0.000</td> <td>   27.227</td> <td>   59.315</td>\n",
       "</tr>\n",
       "<tr>\n",
       "  <th>Population</th>                      <td>    1.0568</td> <td>    0.377</td> <td>    2.807</td> <td> 0.005</td> <td>    0.319</td> <td>    1.795</td>\n",
       "</tr>\n",
       "<tr>\n",
       "  <th>waterfront_YES</th>                  <td> 7.462e+05</td> <td> 2.93e+04</td> <td>   25.440</td> <td> 0.000</td> <td> 6.89e+05</td> <td> 8.04e+05</td>\n",
       "</tr>\n",
       "<tr>\n",
       "  <th>greenbelt_YES</th>                   <td>-7.006e+04</td> <td> 2.05e+04</td> <td>   -3.418</td> <td> 0.001</td> <td> -1.1e+05</td> <td>-2.99e+04</td>\n",
       "</tr>\n",
       "<tr>\n",
       "  <th>nuisance_YES</th>                    <td>-2.308e+04</td> <td> 8653.883</td> <td>   -2.667</td> <td> 0.008</td> <td>   -4e+04</td> <td>-6114.027</td>\n",
       "</tr>\n",
       "<tr>\n",
       "  <th>view_EXCELLENT</th>                  <td>  6.63e+05</td> <td> 2.97e+04</td> <td>   22.342</td> <td> 0.000</td> <td> 6.05e+05</td> <td> 7.21e+05</td>\n",
       "</tr>\n",
       "<tr>\n",
       "  <th>view_FAIR</th>                       <td> 1.169e+05</td> <td> 3.91e+04</td> <td>    2.988</td> <td> 0.003</td> <td> 4.02e+04</td> <td> 1.94e+05</td>\n",
       "</tr>\n",
       "<tr>\n",
       "  <th>view_GOOD</th>                       <td> 4.736e+04</td> <td> 2.24e+04</td> <td>    2.117</td> <td> 0.034</td> <td> 3513.542</td> <td> 9.12e+04</td>\n",
       "</tr>\n",
       "<tr>\n",
       "  <th>view_NONE</th>                       <td>-8.204e+04</td> <td> 1.35e+04</td> <td>   -6.062</td> <td> 0.000</td> <td>-1.09e+05</td> <td>-5.55e+04</td>\n",
       "</tr>\n",
       "<tr>\n",
       "  <th>condition_Fair</th>                  <td>-1.217e+05</td> <td>  3.7e+04</td> <td>   -3.292</td> <td> 0.001</td> <td>-1.94e+05</td> <td>-4.93e+04</td>\n",
       "</tr>\n",
       "<tr>\n",
       "  <th>condition_Good</th>                  <td> 3.909e+04</td> <td> 8102.049</td> <td>    4.824</td> <td> 0.000</td> <td> 2.32e+04</td> <td>  5.5e+04</td>\n",
       "</tr>\n",
       "<tr>\n",
       "  <th>condition_Poor</th>                  <td>-9.444e+04</td> <td> 7.17e+04</td> <td>   -1.317</td> <td> 0.188</td> <td>-2.35e+05</td> <td> 4.61e+04</td>\n",
       "</tr>\n",
       "<tr>\n",
       "  <th>condition_Very Good</th>             <td>  1.01e+05</td> <td> 1.14e+04</td> <td>    8.873</td> <td> 0.000</td> <td> 7.87e+04</td> <td> 1.23e+05</td>\n",
       "</tr>\n",
       "<tr>\n",
       "  <th>heat_source_Electricity/Solar</th>   <td>-8.069e+04</td> <td> 7.21e+04</td> <td>   -1.119</td> <td> 0.263</td> <td>-2.22e+05</td> <td> 6.06e+04</td>\n",
       "</tr>\n",
       "<tr>\n",
       "  <th>heat_source_Gas</th>                 <td> 1.232e+04</td> <td> 7724.504</td> <td>    1.595</td> <td> 0.111</td> <td>-2822.301</td> <td> 2.75e+04</td>\n",
       "</tr>\n",
       "<tr>\n",
       "  <th>heat_source_Gas/Solar</th>           <td>  1.83e+05</td> <td> 5.67e+04</td> <td>    3.229</td> <td> 0.001</td> <td> 7.19e+04</td> <td> 2.94e+05</td>\n",
       "</tr>\n",
       "<tr>\n",
       "  <th>sewer_system_PRIVATE RESTRICTED</th> <td>-5.911e+05</td> <td> 2.48e+05</td> <td>   -2.388</td> <td> 0.017</td> <td>-1.08e+06</td> <td>-1.06e+05</td>\n",
       "</tr>\n",
       "<tr>\n",
       "  <th>sewer_system_PUBLIC</th>             <td> 9.051e+04</td> <td> 1.12e+04</td> <td>    8.098</td> <td> 0.000</td> <td> 6.86e+04</td> <td> 1.12e+05</td>\n",
       "</tr>\n",
       "<tr>\n",
       "  <th>Neighborhood_Bellevue</th>           <td> 1.032e+06</td> <td> 1.93e+04</td> <td>   53.472</td> <td> 0.000</td> <td> 9.94e+05</td> <td> 1.07e+06</td>\n",
       "</tr>\n",
       "<tr>\n",
       "  <th>Neighborhood_Bothell</th>            <td> 4.586e+05</td> <td> 3.59e+04</td> <td>   12.782</td> <td> 0.000</td> <td> 3.88e+05</td> <td> 5.29e+05</td>\n",
       "</tr>\n",
       "<tr>\n",
       "  <th>Neighborhood_Carnation</th>          <td> 2.375e+05</td> <td> 4.61e+04</td> <td>    5.146</td> <td> 0.000</td> <td> 1.47e+05</td> <td> 3.28e+05</td>\n",
       "</tr>\n",
       "<tr>\n",
       "  <th>Neighborhood_Duvall</th>             <td> 2.539e+05</td> <td> 3.75e+04</td> <td>    6.767</td> <td> 0.000</td> <td>  1.8e+05</td> <td> 3.27e+05</td>\n",
       "</tr>\n",
       "<tr>\n",
       "  <th>Neighborhood_Enumclaw</th>           <td> 2.254e+04</td> <td> 2.87e+04</td> <td>    0.786</td> <td> 0.432</td> <td>-3.37e+04</td> <td> 7.87e+04</td>\n",
       "</tr>\n",
       "<tr>\n",
       "  <th>Neighborhood_Fall City</th>          <td> 6.419e+05</td> <td> 5.35e+04</td> <td>   11.997</td> <td> 0.000</td> <td> 5.37e+05</td> <td> 7.47e+05</td>\n",
       "</tr>\n",
       "<tr>\n",
       "  <th>Neighborhood_Federal Way</th>        <td>-3.154e+04</td> <td> 2.13e+04</td> <td>   -1.478</td> <td> 0.139</td> <td>-7.34e+04</td> <td> 1.03e+04</td>\n",
       "</tr>\n",
       "<tr>\n",
       "  <th>Neighborhood_Gold Bar</th>           <td> 3.272e+05</td> <td> 3.13e+05</td> <td>    1.045</td> <td> 0.296</td> <td>-2.87e+05</td> <td> 9.41e+05</td>\n",
       "</tr>\n",
       "<tr>\n",
       "  <th>Neighborhood_Issaquah</th>           <td> 5.294e+05</td> <td> 2.43e+04</td> <td>   21.789</td> <td> 0.000</td> <td> 4.82e+05</td> <td> 5.77e+05</td>\n",
       "</tr>\n",
       "<tr>\n",
       "  <th>Neighborhood_Kenmore</th>            <td> 3.972e+05</td> <td> 3.19e+04</td> <td>   12.458</td> <td> 0.000</td> <td> 3.35e+05</td> <td>  4.6e+05</td>\n",
       "</tr>\n",
       "<tr>\n",
       "  <th>Neighborhood_Kent</th>               <td> 4.824e+04</td> <td> 1.75e+04</td> <td>    2.753</td> <td> 0.006</td> <td> 1.39e+04</td> <td> 8.26e+04</td>\n",
       "</tr>\n",
       "<tr>\n",
       "  <th>Neighborhood_Kirkland</th>           <td> 8.372e+05</td> <td>    2e+04</td> <td>   41.931</td> <td> 0.000</td> <td> 7.98e+05</td> <td> 8.76e+05</td>\n",
       "</tr>\n",
       "<tr>\n",
       "  <th>Neighborhood_Maple Valley</th>       <td> 1.172e+05</td> <td> 2.23e+04</td> <td>    5.251</td> <td> 0.000</td> <td> 7.35e+04</td> <td> 1.61e+05</td>\n",
       "</tr>\n",
       "<tr>\n",
       "  <th>Neighborhood_Medina</th>             <td> 3.397e+06</td> <td>  7.3e+04</td> <td>   46.532</td> <td> 0.000</td> <td> 3.25e+06</td> <td> 3.54e+06</td>\n",
       "</tr>\n",
       "<tr>\n",
       "  <th>Neighborhood_Mercer Island</th>      <td> 1.188e+06</td> <td> 3.29e+04</td> <td>   36.133</td> <td> 0.000</td> <td> 1.12e+06</td> <td> 1.25e+06</td>\n",
       "</tr>\n",
       "<tr>\n",
       "  <th>Neighborhood_Milton</th>             <td> 1.269e+05</td> <td> 1.14e+05</td> <td>    1.114</td> <td> 0.265</td> <td>-9.65e+04</td> <td>  3.5e+05</td>\n",
       "</tr>\n",
       "<tr>\n",
       "  <th>Neighborhood_North Bend</th>         <td> 2.742e+05</td> <td> 2.87e+04</td> <td>    9.545</td> <td> 0.000</td> <td> 2.18e+05</td> <td> 3.31e+05</td>\n",
       "</tr>\n",
       "<tr>\n",
       "  <th>Neighborhood_Pacific</th>            <td> 1.327e+05</td> <td> 6.38e+04</td> <td>    2.081</td> <td> 0.037</td> <td> 7692.287</td> <td> 2.58e+05</td>\n",
       "</tr>\n",
       "<tr>\n",
       "  <th>Neighborhood_Preston</th>            <td> 6.304e+05</td> <td> 3.84e+05</td> <td>    1.644</td> <td> 0.100</td> <td>-1.21e+05</td> <td> 1.38e+06</td>\n",
       "</tr>\n",
       "<tr>\n",
       "  <th>Neighborhood_Ravensdale</th>         <td> 9.742e+04</td> <td> 6.91e+04</td> <td>    1.411</td> <td> 0.158</td> <td> -3.8e+04</td> <td> 2.33e+05</td>\n",
       "</tr>\n",
       "<tr>\n",
       "  <th>Neighborhood_Redmond</th>            <td> 6.907e+05</td> <td> 2.22e+04</td> <td>   31.153</td> <td> 0.000</td> <td> 6.47e+05</td> <td> 7.34e+05</td>\n",
       "</tr>\n",
       "<tr>\n",
       "  <th>Neighborhood_Renton</th>             <td> 1.975e+05</td> <td> 1.72e+04</td> <td>   11.481</td> <td> 0.000</td> <td> 1.64e+05</td> <td> 2.31e+05</td>\n",
       "</tr>\n",
       "<tr>\n",
       "  <th>Neighborhood_Sammamish</th>          <td> 6.111e+05</td> <td> 2.31e+04</td> <td>   26.432</td> <td> 0.000</td> <td> 5.66e+05</td> <td> 6.56e+05</td>\n",
       "</tr>\n",
       "<tr>\n",
       "  <th>Neighborhood_Seattle</th>            <td> 3.793e+05</td> <td> 1.49e+04</td> <td>   25.540</td> <td> 0.000</td> <td>  3.5e+05</td> <td> 4.08e+05</td>\n",
       "</tr>\n",
       "<tr>\n",
       "  <th>Neighborhood_Snoqualmie</th>         <td>   3.4e+05</td> <td> 3.48e+04</td> <td>    9.758</td> <td> 0.000</td> <td> 2.72e+05</td> <td> 4.08e+05</td>\n",
       "</tr>\n",
       "<tr>\n",
       "  <th>Neighborhood_Vashon</th>             <td> 7.888e+04</td> <td> 4.28e+04</td> <td>    1.845</td> <td> 0.065</td> <td>-4940.373</td> <td> 1.63e+05</td>\n",
       "</tr>\n",
       "<tr>\n",
       "  <th>Neighborhood_Woodinville</th>        <td> 5.486e+05</td> <td> 2.65e+04</td> <td>   20.672</td> <td> 0.000</td> <td> 4.97e+05</td> <td> 6.01e+05</td>\n",
       "</tr>\n",
       "<tr>\n",
       "  <th>grade_11 Excellent</th>              <td> 7.921e+05</td> <td> 3.12e+04</td> <td>   25.407</td> <td> 0.000</td> <td> 7.31e+05</td> <td> 8.53e+05</td>\n",
       "</tr>\n",
       "<tr>\n",
       "  <th>grade_12 Luxury</th>                 <td> 1.852e+06</td> <td> 5.21e+04</td> <td>   35.525</td> <td> 0.000</td> <td> 1.75e+06</td> <td> 1.95e+06</td>\n",
       "</tr>\n",
       "<tr>\n",
       "  <th>grade_13 Mansion</th>                <td> 4.176e+06</td> <td> 1.12e+05</td> <td>   37.179</td> <td> 0.000</td> <td> 3.96e+06</td> <td>  4.4e+06</td>\n",
       "</tr>\n",
       "<tr>\n",
       "  <th>grade_3 Poor</th>                    <td>-6.676e+05</td> <td> 1.89e+05</td> <td>   -3.535</td> <td> 0.000</td> <td>-1.04e+06</td> <td>-2.97e+05</td>\n",
       "</tr>\n",
       "<tr>\n",
       "  <th>grade_4 Low</th>                     <td>-6.626e+05</td> <td> 8.48e+04</td> <td>   -7.816</td> <td> 0.000</td> <td>-8.29e+05</td> <td>-4.96e+05</td>\n",
       "</tr>\n",
       "<tr>\n",
       "  <th>grade_5 Fair</th>                    <td>-6.246e+05</td> <td> 3.68e+04</td> <td>  -16.962</td> <td> 0.000</td> <td>-6.97e+05</td> <td>-5.52e+05</td>\n",
       "</tr>\n",
       "<tr>\n",
       "  <th>grade_6 Low Average</th>             <td>-6.418e+05</td> <td> 2.47e+04</td> <td>  -26.008</td> <td> 0.000</td> <td> -6.9e+05</td> <td>-5.93e+05</td>\n",
       "</tr>\n",
       "<tr>\n",
       "  <th>grade_7 Average</th>                 <td>-6.275e+05</td> <td> 2.07e+04</td> <td>  -30.260</td> <td> 0.000</td> <td>-6.68e+05</td> <td>-5.87e+05</td>\n",
       "</tr>\n",
       "<tr>\n",
       "  <th>grade_8 Good</th>                    <td>-5.321e+05</td> <td> 1.87e+04</td> <td>  -28.501</td> <td> 0.000</td> <td>-5.69e+05</td> <td>-4.96e+05</td>\n",
       "</tr>\n",
       "<tr>\n",
       "  <th>grade_9 Better</th>                  <td>-2.859e+05</td> <td> 1.82e+04</td> <td>  -15.689</td> <td> 0.000</td> <td>-3.22e+05</td> <td> -2.5e+05</td>\n",
       "</tr>\n",
       "</table>\n",
       "<table class=\"simpletable\">\n",
       "<tr>\n",
       "  <th>Omnibus:</th>       <td>47315.263</td> <th>  Durbin-Watson:     </th>   <td>   1.898</td>   \n",
       "</tr>\n",
       "<tr>\n",
       "  <th>Prob(Omnibus):</th>  <td> 0.000</td>   <th>  Jarque-Bera (JB):  </th> <td>136094194.814</td>\n",
       "</tr>\n",
       "<tr>\n",
       "  <th>Skew:</th>           <td>10.131</td>   <th>  Prob(JB):          </th>   <td>    0.00</td>   \n",
       "</tr>\n",
       "<tr>\n",
       "  <th>Kurtosis:</th>       <td>336.981</td>  <th>  Cond. No.          </th>   <td>7.71e+06</td>   \n",
       "</tr>\n",
       "</table><br/><br/>Notes:<br/>[1] Standard Errors assume that the covariance matrix of the errors is correctly specified.<br/>[2] The condition number is large, 7.71e+06. This might indicate that there are<br/>strong multicollinearity or other numerical problems."
      ],
      "text/plain": [
       "<class 'statsmodels.iolib.summary.Summary'>\n",
       "\"\"\"\n",
       "                            OLS Regression Results                            \n",
       "==============================================================================\n",
       "Dep. Variable:                  price   R-squared:                       0.636\n",
       "Model:                            OLS   Adj. R-squared:                  0.635\n",
       "Method:                 Least Squares   F-statistic:                     793.1\n",
       "Date:                Thu, 22 Sep 2022   Prob (F-statistic):               0.00\n",
       "Time:                        21:48:14   Log-Likelihood:            -4.2653e+05\n",
       "No. Observations:               29175   AIC:                         8.532e+05\n",
       "Df Residuals:                   29110   BIC:                         8.537e+05\n",
       "Df Model:                          64                                         \n",
       "Covariance Type:            nonrobust                                         \n",
       "===================================================================================================\n",
       "                                      coef    std err          t      P>|t|      [0.025      0.975]\n",
       "---------------------------------------------------------------------------------------------------\n",
       "const                            3.547e+06    3.3e+05     10.738      0.000     2.9e+06    4.19e+06\n",
       "bedrooms                        -2.991e+04   4810.831     -6.218      0.000   -3.93e+04   -2.05e+04\n",
       "bathrooms                        7.608e+04   6684.189     11.382      0.000     6.3e+04    8.92e+04\n",
       "sqft_living                        24.6166     14.881      1.654      0.098      -4.551      53.784\n",
       "sqft_lot                            0.5003      0.058      8.687      0.000       0.387       0.613\n",
       "sqft_above                        268.3400     14.748     18.195      0.000     239.433     297.247\n",
       "sqft_basement                     137.7866     11.130     12.380      0.000     115.971     159.602\n",
       "sqft_garage                      -128.6146     16.430     -7.828      0.000    -160.818     -96.412\n",
       "sqft_patio                         56.4669     16.401      3.443      0.001      24.320      88.614\n",
       "yr_built                        -1553.9270    165.165     -9.408      0.000   -1877.657   -1230.197\n",
       "yr_renovated                       43.2709      8.185      5.286      0.000      27.227      59.315\n",
       "Population                          1.0568      0.377      2.807      0.005       0.319       1.795\n",
       "waterfront_YES                   7.462e+05   2.93e+04     25.440      0.000    6.89e+05    8.04e+05\n",
       "greenbelt_YES                   -7.006e+04   2.05e+04     -3.418      0.001    -1.1e+05   -2.99e+04\n",
       "nuisance_YES                    -2.308e+04   8653.883     -2.667      0.008      -4e+04   -6114.027\n",
       "view_EXCELLENT                    6.63e+05   2.97e+04     22.342      0.000    6.05e+05    7.21e+05\n",
       "view_FAIR                        1.169e+05   3.91e+04      2.988      0.003    4.02e+04    1.94e+05\n",
       "view_GOOD                        4.736e+04   2.24e+04      2.117      0.034    3513.542    9.12e+04\n",
       "view_NONE                       -8.204e+04   1.35e+04     -6.062      0.000   -1.09e+05   -5.55e+04\n",
       "condition_Fair                  -1.217e+05    3.7e+04     -3.292      0.001   -1.94e+05   -4.93e+04\n",
       "condition_Good                   3.909e+04   8102.049      4.824      0.000    2.32e+04     5.5e+04\n",
       "condition_Poor                  -9.444e+04   7.17e+04     -1.317      0.188   -2.35e+05    4.61e+04\n",
       "condition_Very Good               1.01e+05   1.14e+04      8.873      0.000    7.87e+04    1.23e+05\n",
       "heat_source_Electricity/Solar   -8.069e+04   7.21e+04     -1.119      0.263   -2.22e+05    6.06e+04\n",
       "heat_source_Gas                  1.232e+04   7724.504      1.595      0.111   -2822.301    2.75e+04\n",
       "heat_source_Gas/Solar             1.83e+05   5.67e+04      3.229      0.001    7.19e+04    2.94e+05\n",
       "sewer_system_PRIVATE RESTRICTED -5.911e+05   2.48e+05     -2.388      0.017   -1.08e+06   -1.06e+05\n",
       "sewer_system_PUBLIC              9.051e+04   1.12e+04      8.098      0.000    6.86e+04    1.12e+05\n",
       "Neighborhood_Bellevue            1.032e+06   1.93e+04     53.472      0.000    9.94e+05    1.07e+06\n",
       "Neighborhood_Bothell             4.586e+05   3.59e+04     12.782      0.000    3.88e+05    5.29e+05\n",
       "Neighborhood_Carnation           2.375e+05   4.61e+04      5.146      0.000    1.47e+05    3.28e+05\n",
       "Neighborhood_Duvall              2.539e+05   3.75e+04      6.767      0.000     1.8e+05    3.27e+05\n",
       "Neighborhood_Enumclaw            2.254e+04   2.87e+04      0.786      0.432   -3.37e+04    7.87e+04\n",
       "Neighborhood_Fall City           6.419e+05   5.35e+04     11.997      0.000    5.37e+05    7.47e+05\n",
       "Neighborhood_Federal Way        -3.154e+04   2.13e+04     -1.478      0.139   -7.34e+04    1.03e+04\n",
       "Neighborhood_Gold Bar            3.272e+05   3.13e+05      1.045      0.296   -2.87e+05    9.41e+05\n",
       "Neighborhood_Issaquah            5.294e+05   2.43e+04     21.789      0.000    4.82e+05    5.77e+05\n",
       "Neighborhood_Kenmore             3.972e+05   3.19e+04     12.458      0.000    3.35e+05     4.6e+05\n",
       "Neighborhood_Kent                4.824e+04   1.75e+04      2.753      0.006    1.39e+04    8.26e+04\n",
       "Neighborhood_Kirkland            8.372e+05      2e+04     41.931      0.000    7.98e+05    8.76e+05\n",
       "Neighborhood_Maple Valley        1.172e+05   2.23e+04      5.251      0.000    7.35e+04    1.61e+05\n",
       "Neighborhood_Medina              3.397e+06    7.3e+04     46.532      0.000    3.25e+06    3.54e+06\n",
       "Neighborhood_Mercer Island       1.188e+06   3.29e+04     36.133      0.000    1.12e+06    1.25e+06\n",
       "Neighborhood_Milton              1.269e+05   1.14e+05      1.114      0.265   -9.65e+04     3.5e+05\n",
       "Neighborhood_North Bend          2.742e+05   2.87e+04      9.545      0.000    2.18e+05    3.31e+05\n",
       "Neighborhood_Pacific             1.327e+05   6.38e+04      2.081      0.037    7692.287    2.58e+05\n",
       "Neighborhood_Preston             6.304e+05   3.84e+05      1.644      0.100   -1.21e+05    1.38e+06\n",
       "Neighborhood_Ravensdale          9.742e+04   6.91e+04      1.411      0.158    -3.8e+04    2.33e+05\n",
       "Neighborhood_Redmond             6.907e+05   2.22e+04     31.153      0.000    6.47e+05    7.34e+05\n",
       "Neighborhood_Renton              1.975e+05   1.72e+04     11.481      0.000    1.64e+05    2.31e+05\n",
       "Neighborhood_Sammamish           6.111e+05   2.31e+04     26.432      0.000    5.66e+05    6.56e+05\n",
       "Neighborhood_Seattle             3.793e+05   1.49e+04     25.540      0.000     3.5e+05    4.08e+05\n",
       "Neighborhood_Snoqualmie            3.4e+05   3.48e+04      9.758      0.000    2.72e+05    4.08e+05\n",
       "Neighborhood_Vashon              7.888e+04   4.28e+04      1.845      0.065   -4940.373    1.63e+05\n",
       "Neighborhood_Woodinville         5.486e+05   2.65e+04     20.672      0.000    4.97e+05    6.01e+05\n",
       "grade_11 Excellent               7.921e+05   3.12e+04     25.407      0.000    7.31e+05    8.53e+05\n",
       "grade_12 Luxury                  1.852e+06   5.21e+04     35.525      0.000    1.75e+06    1.95e+06\n",
       "grade_13 Mansion                 4.176e+06   1.12e+05     37.179      0.000    3.96e+06     4.4e+06\n",
       "grade_3 Poor                    -6.676e+05   1.89e+05     -3.535      0.000   -1.04e+06   -2.97e+05\n",
       "grade_4 Low                     -6.626e+05   8.48e+04     -7.816      0.000   -8.29e+05   -4.96e+05\n",
       "grade_5 Fair                    -6.246e+05   3.68e+04    -16.962      0.000   -6.97e+05   -5.52e+05\n",
       "grade_6 Low Average             -6.418e+05   2.47e+04    -26.008      0.000    -6.9e+05   -5.93e+05\n",
       "grade_7 Average                 -6.275e+05   2.07e+04    -30.260      0.000   -6.68e+05   -5.87e+05\n",
       "grade_8 Good                    -5.321e+05   1.87e+04    -28.501      0.000   -5.69e+05   -4.96e+05\n",
       "grade_9 Better                  -2.859e+05   1.82e+04    -15.689      0.000   -3.22e+05    -2.5e+05\n",
       "==============================================================================\n",
       "Omnibus:                    47315.263   Durbin-Watson:                   1.898\n",
       "Prob(Omnibus):                  0.000   Jarque-Bera (JB):        136094194.814\n",
       "Skew:                          10.131   Prob(JB):                         0.00\n",
       "Kurtosis:                     336.981   Cond. No.                     7.71e+06\n",
       "==============================================================================\n",
       "\n",
       "Notes:\n",
       "[1] Standard Errors assume that the covariance matrix of the errors is correctly specified.\n",
       "[2] The condition number is large, 7.71e+06. This might indicate that there are\n",
       "strong multicollinearity or other numerical problems.\n",
       "\"\"\""
      ]
     },
     "execution_count": 1315,
     "metadata": {},
     "output_type": "execute_result"
    }
   ],
   "source": [
    "# running our model with dummified predictors\n",
    "y=dum_df1.price\n",
    "model_1 = sm.OLS(y, sm.add_constant(X1))\n",
    "results1 = model_1.fit()\n",
    "results1.summary()\n"
   ]
  },
  {
   "cell_type": "code",
   "execution_count": 1316,
   "metadata": {},
   "outputs": [
    {
     "data": {
      "text/plain": [
       "275085.9270423972"
      ]
     },
     "execution_count": 1316,
     "metadata": {},
     "output_type": "execute_result"
    }
   ],
   "source": [
    "mae = mean_absolute_error(y, results1.predict(sm.add_constant(X1)))\n",
    "mae"
   ]
  },
  {
   "cell_type": "markdown",
   "metadata": {},
   "source": [
    "### Final Model"
   ]
  },
  {
   "cell_type": "code",
   "execution_count": 1317,
   "metadata": {},
   "outputs": [
    {
     "data": {
      "text/html": [
       "<table class=\"simpletable\">\n",
       "<caption>OLS Regression Results</caption>\n",
       "<tr>\n",
       "  <th>Dep. Variable:</th>          <td>price</td>      <th>  R-squared:         </th>  <td>   0.635</td>  \n",
       "</tr>\n",
       "<tr>\n",
       "  <th>Model:</th>                   <td>OLS</td>       <th>  Adj. R-squared:    </th>  <td>   0.635</td>  \n",
       "</tr>\n",
       "<tr>\n",
       "  <th>Method:</th>             <td>Least Squares</td>  <th>  F-statistic:       </th>  <td>   818.6</td>  \n",
       "</tr>\n",
       "<tr>\n",
       "  <th>Date:</th>             <td>Thu, 22 Sep 2022</td> <th>  Prob (F-statistic):</th>   <td>  0.00</td>   \n",
       "</tr>\n",
       "<tr>\n",
       "  <th>Time:</th>                 <td>21:48:18</td>     <th>  Log-Likelihood:    </th> <td>-4.2653e+05</td>\n",
       "</tr>\n",
       "<tr>\n",
       "  <th>No. Observations:</th>      <td> 29175</td>      <th>  AIC:               </th>  <td>8.532e+05</td> \n",
       "</tr>\n",
       "<tr>\n",
       "  <th>Df Residuals:</th>          <td> 29112</td>      <th>  BIC:               </th>  <td>8.537e+05</td> \n",
       "</tr>\n",
       "<tr>\n",
       "  <th>Df Model:</th>              <td>    62</td>      <th>                     </th>      <td> </td>     \n",
       "</tr>\n",
       "<tr>\n",
       "  <th>Covariance Type:</th>      <td>nonrobust</td>    <th>                     </th>      <td> </td>     \n",
       "</tr>\n",
       "</table>\n",
       "<table class=\"simpletable\">\n",
       "<tr>\n",
       "                 <td></td>                    <th>coef</th>     <th>std err</th>      <th>t</th>      <th>P>|t|</th>  <th>[0.025</th>    <th>0.975]</th>  \n",
       "</tr>\n",
       "<tr>\n",
       "  <th>const</th>                           <td> 3.559e+06</td> <td>  3.3e+05</td> <td>   10.777</td> <td> 0.000</td> <td> 2.91e+06</td> <td> 4.21e+06</td>\n",
       "</tr>\n",
       "<tr>\n",
       "  <th>bedrooms</th>                        <td>-3.002e+04</td> <td> 4809.747</td> <td>   -6.241</td> <td> 0.000</td> <td>-3.94e+04</td> <td>-2.06e+04</td>\n",
       "</tr>\n",
       "<tr>\n",
       "  <th>bathrooms</th>                       <td> 7.608e+04</td> <td> 6683.673</td> <td>   11.383</td> <td> 0.000</td> <td>  6.3e+04</td> <td> 8.92e+04</td>\n",
       "</tr>\n",
       "<tr>\n",
       "  <th>sqft_living</th>                     <td>   24.3991</td> <td>   14.878</td> <td>    1.640</td> <td> 0.101</td> <td>   -4.763</td> <td>   53.561</td>\n",
       "</tr>\n",
       "<tr>\n",
       "  <th>sqft_lot</th>                        <td>    0.5046</td> <td>    0.057</td> <td>    8.800</td> <td> 0.000</td> <td>    0.392</td> <td>    0.617</td>\n",
       "</tr>\n",
       "<tr>\n",
       "  <th>sqft_above</th>                      <td>  268.5070</td> <td>   14.747</td> <td>   18.208</td> <td> 0.000</td> <td>  239.603</td> <td>  297.411</td>\n",
       "</tr>\n",
       "<tr>\n",
       "  <th>sqft_basement</th>                   <td>  137.8931</td> <td>   11.130</td> <td>   12.390</td> <td> 0.000</td> <td>  116.078</td> <td>  159.708</td>\n",
       "</tr>\n",
       "<tr>\n",
       "  <th>sqft_garage</th>                     <td> -128.5870</td> <td>   16.429</td> <td>   -7.827</td> <td> 0.000</td> <td> -160.789</td> <td>  -96.385</td>\n",
       "</tr>\n",
       "<tr>\n",
       "  <th>sqft_patio</th>                      <td>   56.4553</td> <td>   16.400</td> <td>    3.442</td> <td> 0.001</td> <td>   24.311</td> <td>   88.600</td>\n",
       "</tr>\n",
       "<tr>\n",
       "  <th>yr_built</th>                        <td>-1557.0531</td> <td>  165.144</td> <td>   -9.428</td> <td> 0.000</td> <td>-1880.743</td> <td>-1233.363</td>\n",
       "</tr>\n",
       "<tr>\n",
       "  <th>yr_renovated</th>                    <td>   43.1564</td> <td>    8.183</td> <td>    5.274</td> <td> 0.000</td> <td>   27.116</td> <td>   59.196</td>\n",
       "</tr>\n",
       "<tr>\n",
       "  <th>Population</th>                      <td>    1.0289</td> <td>    0.374</td> <td>    2.748</td> <td> 0.006</td> <td>    0.295</td> <td>    1.763</td>\n",
       "</tr>\n",
       "<tr>\n",
       "  <th>waterfront_YES</th>                  <td>  7.46e+05</td> <td> 2.93e+04</td> <td>   25.450</td> <td> 0.000</td> <td> 6.89e+05</td> <td> 8.03e+05</td>\n",
       "</tr>\n",
       "<tr>\n",
       "  <th>greenbelt_YES</th>                   <td>-7.001e+04</td> <td> 2.05e+04</td> <td>   -3.416</td> <td> 0.001</td> <td> -1.1e+05</td> <td>-2.98e+04</td>\n",
       "</tr>\n",
       "<tr>\n",
       "  <th>nuisance_YES</th>                    <td>-2.296e+04</td> <td> 8653.424</td> <td>   -2.653</td> <td> 0.008</td> <td>-3.99e+04</td> <td>-5998.219</td>\n",
       "</tr>\n",
       "<tr>\n",
       "  <th>view_EXCELLENT</th>                  <td> 6.622e+05</td> <td> 2.97e+04</td> <td>   22.319</td> <td> 0.000</td> <td> 6.04e+05</td> <td>  7.2e+05</td>\n",
       "</tr>\n",
       "<tr>\n",
       "  <th>view_FAIR</th>                       <td> 1.167e+05</td> <td> 3.91e+04</td> <td>    2.984</td> <td> 0.003</td> <td>    4e+04</td> <td> 1.93e+05</td>\n",
       "</tr>\n",
       "<tr>\n",
       "  <th>view_GOOD</th>                       <td> 4.779e+04</td> <td> 2.24e+04</td> <td>    2.137</td> <td> 0.033</td> <td> 3960.441</td> <td> 9.16e+04</td>\n",
       "</tr>\n",
       "<tr>\n",
       "  <th>view_NONE</th>                       <td>-8.248e+04</td> <td> 1.35e+04</td> <td>   -6.102</td> <td> 0.000</td> <td>-1.09e+05</td> <td> -5.6e+04</td>\n",
       "</tr>\n",
       "<tr>\n",
       "  <th>condition_Fair</th>                  <td>-1.217e+05</td> <td>  3.7e+04</td> <td>   -3.293</td> <td> 0.001</td> <td>-1.94e+05</td> <td>-4.93e+04</td>\n",
       "</tr>\n",
       "<tr>\n",
       "  <th>condition_Good</th>                  <td> 3.908e+04</td> <td> 8101.025</td> <td>    4.824</td> <td> 0.000</td> <td> 2.32e+04</td> <td>  5.5e+04</td>\n",
       "</tr>\n",
       "<tr>\n",
       "  <th>condition_Poor</th>                  <td>-9.417e+04</td> <td> 7.17e+04</td> <td>   -1.313</td> <td> 0.189</td> <td>-2.35e+05</td> <td> 4.64e+04</td>\n",
       "</tr>\n",
       "<tr>\n",
       "  <th>condition_Very Good</th>             <td>  1.01e+05</td> <td> 1.14e+04</td> <td>    8.872</td> <td> 0.000</td> <td> 7.87e+04</td> <td> 1.23e+05</td>\n",
       "</tr>\n",
       "<tr>\n",
       "  <th>heat_source_Gas</th>                 <td> 1.295e+04</td> <td> 7704.774</td> <td>    1.681</td> <td> 0.093</td> <td>-2151.161</td> <td> 2.81e+04</td>\n",
       "</tr>\n",
       "<tr>\n",
       "  <th>heat_source_Gas/Solar</th>           <td>  1.84e+05</td> <td> 5.67e+04</td> <td>    3.247</td> <td> 0.001</td> <td> 7.29e+04</td> <td> 2.95e+05</td>\n",
       "</tr>\n",
       "<tr>\n",
       "  <th>sewer_system_PRIVATE RESTRICTED</th> <td>-5.918e+05</td> <td> 2.48e+05</td> <td>   -2.391</td> <td> 0.017</td> <td>-1.08e+06</td> <td>-1.07e+05</td>\n",
       "</tr>\n",
       "<tr>\n",
       "  <th>sewer_system_PUBLIC</th>             <td> 9.034e+04</td> <td> 1.12e+04</td> <td>    8.084</td> <td> 0.000</td> <td> 6.84e+04</td> <td> 1.12e+05</td>\n",
       "</tr>\n",
       "<tr>\n",
       "  <th>Neighborhood_Bellevue</th>           <td> 1.027e+06</td> <td> 1.86e+04</td> <td>   55.316</td> <td> 0.000</td> <td> 9.91e+05</td> <td> 1.06e+06</td>\n",
       "</tr>\n",
       "<tr>\n",
       "  <th>Neighborhood_Bothell</th>            <td> 4.546e+05</td> <td> 3.55e+04</td> <td>   12.803</td> <td> 0.000</td> <td> 3.85e+05</td> <td> 5.24e+05</td>\n",
       "</tr>\n",
       "<tr>\n",
       "  <th>Neighborhood_Carnation</th>          <td> 2.324e+05</td> <td> 4.57e+04</td> <td>    5.090</td> <td> 0.000</td> <td> 1.43e+05</td> <td> 3.22e+05</td>\n",
       "</tr>\n",
       "<tr>\n",
       "  <th>Neighborhood_Duvall</th>             <td> 2.492e+05</td> <td>  3.7e+04</td> <td>    6.734</td> <td> 0.000</td> <td> 1.77e+05</td> <td> 3.22e+05</td>\n",
       "</tr>\n",
       "<tr>\n",
       "  <th>Neighborhood_Fall City</th>          <td> 6.368e+05</td> <td> 5.31e+04</td> <td>   11.997</td> <td> 0.000</td> <td> 5.33e+05</td> <td> 7.41e+05</td>\n",
       "</tr>\n",
       "<tr>\n",
       "  <th>Neighborhood_Federal Way</th>        <td>-3.517e+04</td> <td> 2.08e+04</td> <td>   -1.688</td> <td> 0.091</td> <td> -7.6e+04</td> <td> 5676.559</td>\n",
       "</tr>\n",
       "<tr>\n",
       "  <th>Neighborhood_Gold Bar</th>           <td> 3.223e+05</td> <td> 3.13e+05</td> <td>    1.029</td> <td> 0.303</td> <td>-2.91e+05</td> <td> 9.36e+05</td>\n",
       "</tr>\n",
       "<tr>\n",
       "  <th>Neighborhood_Issaquah</th>           <td>  5.25e+05</td> <td> 2.37e+04</td> <td>   22.167</td> <td> 0.000</td> <td> 4.79e+05</td> <td> 5.71e+05</td>\n",
       "</tr>\n",
       "<tr>\n",
       "  <th>Neighborhood_Kenmore</th>            <td> 3.929e+05</td> <td> 3.14e+04</td> <td>   12.517</td> <td> 0.000</td> <td> 3.31e+05</td> <td> 4.54e+05</td>\n",
       "</tr>\n",
       "<tr>\n",
       "  <th>Neighborhood_Kent</th>               <td> 4.441e+04</td> <td> 1.68e+04</td> <td>    2.638</td> <td> 0.008</td> <td> 1.14e+04</td> <td> 7.74e+04</td>\n",
       "</tr>\n",
       "<tr>\n",
       "  <th>Neighborhood_Kirkland</th>           <td> 8.332e+05</td> <td> 1.94e+04</td> <td>   43.046</td> <td> 0.000</td> <td> 7.95e+05</td> <td> 8.71e+05</td>\n",
       "</tr>\n",
       "<tr>\n",
       "  <th>Neighborhood_Maple Valley</th>       <td> 1.131e+05</td> <td> 2.17e+04</td> <td>    5.212</td> <td> 0.000</td> <td> 7.06e+04</td> <td> 1.56e+05</td>\n",
       "</tr>\n",
       "<tr>\n",
       "  <th>Neighborhood_Medina</th>             <td> 3.392e+06</td> <td> 7.27e+04</td> <td>   46.636</td> <td> 0.000</td> <td> 3.25e+06</td> <td> 3.53e+06</td>\n",
       "</tr>\n",
       "<tr>\n",
       "  <th>Neighborhood_Mercer Island</th>      <td> 1.184e+06</td> <td> 3.24e+04</td> <td>   36.514</td> <td> 0.000</td> <td> 1.12e+06</td> <td> 1.25e+06</td>\n",
       "</tr>\n",
       "<tr>\n",
       "  <th>Neighborhood_Milton</th>             <td> 1.224e+05</td> <td> 1.14e+05</td> <td>    1.075</td> <td> 0.282</td> <td>-1.01e+05</td> <td> 3.45e+05</td>\n",
       "</tr>\n",
       "<tr>\n",
       "  <th>Neighborhood_North Bend</th>         <td> 2.697e+05</td> <td> 2.81e+04</td> <td>    9.599</td> <td> 0.000</td> <td> 2.15e+05</td> <td> 3.25e+05</td>\n",
       "</tr>\n",
       "<tr>\n",
       "  <th>Neighborhood_Pacific</th>            <td>  1.28e+05</td> <td> 6.35e+04</td> <td>    2.017</td> <td> 0.044</td> <td> 3629.666</td> <td> 2.52e+05</td>\n",
       "</tr>\n",
       "<tr>\n",
       "  <th>Neighborhood_Preston</th>            <td>  6.25e+05</td> <td> 3.83e+05</td> <td>    1.630</td> <td> 0.103</td> <td>-1.27e+05</td> <td> 1.38e+06</td>\n",
       "</tr>\n",
       "<tr>\n",
       "  <th>Neighborhood_Ravensdale</th>         <td>  9.21e+04</td> <td> 6.87e+04</td> <td>    1.341</td> <td> 0.180</td> <td>-4.26e+04</td> <td> 2.27e+05</td>\n",
       "</tr>\n",
       "<tr>\n",
       "  <th>Neighborhood_Redmond</th>            <td>  6.87e+05</td> <td> 2.17e+04</td> <td>   31.715</td> <td> 0.000</td> <td> 6.45e+05</td> <td> 7.29e+05</td>\n",
       "</tr>\n",
       "<tr>\n",
       "  <th>Neighborhood_Renton</th>             <td>  1.93e+05</td> <td> 1.64e+04</td> <td>   11.753</td> <td> 0.000</td> <td> 1.61e+05</td> <td> 2.25e+05</td>\n",
       "</tr>\n",
       "<tr>\n",
       "  <th>Neighborhood_Sammamish</th>          <td> 6.069e+05</td> <td> 2.25e+04</td> <td>   26.976</td> <td> 0.000</td> <td> 5.63e+05</td> <td> 6.51e+05</td>\n",
       "</tr>\n",
       "<tr>\n",
       "  <th>Neighborhood_Seattle</th>            <td> 3.751e+05</td> <td> 1.39e+04</td> <td>   27.024</td> <td> 0.000</td> <td> 3.48e+05</td> <td> 4.02e+05</td>\n",
       "</tr>\n",
       "<tr>\n",
       "  <th>Neighborhood_Snoqualmie</th>         <td>  3.35e+05</td> <td> 3.43e+04</td> <td>    9.763</td> <td> 0.000</td> <td> 2.68e+05</td> <td> 4.02e+05</td>\n",
       "</tr>\n",
       "<tr>\n",
       "  <th>Neighborhood_Vashon</th>             <td> 7.396e+04</td> <td> 4.22e+04</td> <td>    1.751</td> <td> 0.080</td> <td>-8841.589</td> <td> 1.57e+05</td>\n",
       "</tr>\n",
       "<tr>\n",
       "  <th>Neighborhood_Woodinville</th>        <td> 5.441e+05</td> <td> 2.59e+04</td> <td>   21.004</td> <td> 0.000</td> <td> 4.93e+05</td> <td> 5.95e+05</td>\n",
       "</tr>\n",
       "<tr>\n",
       "  <th>grade_11 Excellent</th>              <td> 7.923e+05</td> <td> 3.12e+04</td> <td>   25.411</td> <td> 0.000</td> <td> 7.31e+05</td> <td> 8.53e+05</td>\n",
       "</tr>\n",
       "<tr>\n",
       "  <th>grade_12 Luxury</th>                 <td> 1.852e+06</td> <td> 5.21e+04</td> <td>   35.530</td> <td> 0.000</td> <td> 1.75e+06</td> <td> 1.95e+06</td>\n",
       "</tr>\n",
       "<tr>\n",
       "  <th>grade_13 Mansion</th>                <td> 4.176e+06</td> <td> 1.12e+05</td> <td>   37.181</td> <td> 0.000</td> <td> 3.96e+06</td> <td>  4.4e+06</td>\n",
       "</tr>\n",
       "<tr>\n",
       "  <th>grade_3 Poor</th>                    <td>-6.687e+05</td> <td> 1.89e+05</td> <td>   -3.541</td> <td> 0.000</td> <td>-1.04e+06</td> <td>-2.99e+05</td>\n",
       "</tr>\n",
       "<tr>\n",
       "  <th>grade_4 Low</th>                     <td>-6.628e+05</td> <td> 8.48e+04</td> <td>   -7.819</td> <td> 0.000</td> <td>-8.29e+05</td> <td>-4.97e+05</td>\n",
       "</tr>\n",
       "<tr>\n",
       "  <th>grade_5 Fair</th>                    <td>-6.246e+05</td> <td> 3.68e+04</td> <td>  -16.961</td> <td> 0.000</td> <td>-6.97e+05</td> <td>-5.52e+05</td>\n",
       "</tr>\n",
       "<tr>\n",
       "  <th>grade_6 Low Average</th>             <td>-6.414e+05</td> <td> 2.47e+04</td> <td>  -25.997</td> <td> 0.000</td> <td> -6.9e+05</td> <td>-5.93e+05</td>\n",
       "</tr>\n",
       "<tr>\n",
       "  <th>grade_7 Average</th>                 <td>-6.273e+05</td> <td> 2.07e+04</td> <td>  -30.257</td> <td> 0.000</td> <td>-6.68e+05</td> <td>-5.87e+05</td>\n",
       "</tr>\n",
       "<tr>\n",
       "  <th>grade_8 Good</th>                    <td> -5.32e+05</td> <td> 1.87e+04</td> <td>  -28.498</td> <td> 0.000</td> <td>-5.69e+05</td> <td>-4.95e+05</td>\n",
       "</tr>\n",
       "<tr>\n",
       "  <th>grade_9 Better</th>                  <td>-2.858e+05</td> <td> 1.82e+04</td> <td>  -15.684</td> <td> 0.000</td> <td>-3.22e+05</td> <td> -2.5e+05</td>\n",
       "</tr>\n",
       "</table>\n",
       "<table class=\"simpletable\">\n",
       "<tr>\n",
       "  <th>Omnibus:</th>       <td>47314.070</td> <th>  Durbin-Watson:     </th>   <td>   1.898</td>   \n",
       "</tr>\n",
       "<tr>\n",
       "  <th>Prob(Omnibus):</th>  <td> 0.000</td>   <th>  Jarque-Bera (JB):  </th> <td>136076642.882</td>\n",
       "</tr>\n",
       "<tr>\n",
       "  <th>Skew:</th>           <td>10.131</td>   <th>  Prob(JB):          </th>   <td>    0.00</td>   \n",
       "</tr>\n",
       "<tr>\n",
       "  <th>Kurtosis:</th>       <td>336.960</td>  <th>  Cond. No.          </th>   <td>7.71e+06</td>   \n",
       "</tr>\n",
       "</table><br/><br/>Notes:<br/>[1] Standard Errors assume that the covariance matrix of the errors is correctly specified.<br/>[2] The condition number is large, 7.71e+06. This might indicate that there are<br/>strong multicollinearity or other numerical problems."
      ],
      "text/plain": [
       "<class 'statsmodels.iolib.summary.Summary'>\n",
       "\"\"\"\n",
       "                            OLS Regression Results                            \n",
       "==============================================================================\n",
       "Dep. Variable:                  price   R-squared:                       0.635\n",
       "Model:                            OLS   Adj. R-squared:                  0.635\n",
       "Method:                 Least Squares   F-statistic:                     818.6\n",
       "Date:                Thu, 22 Sep 2022   Prob (F-statistic):               0.00\n",
       "Time:                        21:48:18   Log-Likelihood:            -4.2653e+05\n",
       "No. Observations:               29175   AIC:                         8.532e+05\n",
       "Df Residuals:                   29112   BIC:                         8.537e+05\n",
       "Df Model:                          62                                         \n",
       "Covariance Type:            nonrobust                                         \n",
       "===================================================================================================\n",
       "                                      coef    std err          t      P>|t|      [0.025      0.975]\n",
       "---------------------------------------------------------------------------------------------------\n",
       "const                            3.559e+06    3.3e+05     10.777      0.000    2.91e+06    4.21e+06\n",
       "bedrooms                        -3.002e+04   4809.747     -6.241      0.000   -3.94e+04   -2.06e+04\n",
       "bathrooms                        7.608e+04   6683.673     11.383      0.000     6.3e+04    8.92e+04\n",
       "sqft_living                        24.3991     14.878      1.640      0.101      -4.763      53.561\n",
       "sqft_lot                            0.5046      0.057      8.800      0.000       0.392       0.617\n",
       "sqft_above                        268.5070     14.747     18.208      0.000     239.603     297.411\n",
       "sqft_basement                     137.8931     11.130     12.390      0.000     116.078     159.708\n",
       "sqft_garage                      -128.5870     16.429     -7.827      0.000    -160.789     -96.385\n",
       "sqft_patio                         56.4553     16.400      3.442      0.001      24.311      88.600\n",
       "yr_built                        -1557.0531    165.144     -9.428      0.000   -1880.743   -1233.363\n",
       "yr_renovated                       43.1564      8.183      5.274      0.000      27.116      59.196\n",
       "Population                          1.0289      0.374      2.748      0.006       0.295       1.763\n",
       "waterfront_YES                    7.46e+05   2.93e+04     25.450      0.000    6.89e+05    8.03e+05\n",
       "greenbelt_YES                   -7.001e+04   2.05e+04     -3.416      0.001    -1.1e+05   -2.98e+04\n",
       "nuisance_YES                    -2.296e+04   8653.424     -2.653      0.008   -3.99e+04   -5998.219\n",
       "view_EXCELLENT                   6.622e+05   2.97e+04     22.319      0.000    6.04e+05     7.2e+05\n",
       "view_FAIR                        1.167e+05   3.91e+04      2.984      0.003       4e+04    1.93e+05\n",
       "view_GOOD                        4.779e+04   2.24e+04      2.137      0.033    3960.441    9.16e+04\n",
       "view_NONE                       -8.248e+04   1.35e+04     -6.102      0.000   -1.09e+05    -5.6e+04\n",
       "condition_Fair                  -1.217e+05    3.7e+04     -3.293      0.001   -1.94e+05   -4.93e+04\n",
       "condition_Good                   3.908e+04   8101.025      4.824      0.000    2.32e+04     5.5e+04\n",
       "condition_Poor                  -9.417e+04   7.17e+04     -1.313      0.189   -2.35e+05    4.64e+04\n",
       "condition_Very Good               1.01e+05   1.14e+04      8.872      0.000    7.87e+04    1.23e+05\n",
       "heat_source_Gas                  1.295e+04   7704.774      1.681      0.093   -2151.161    2.81e+04\n",
       "heat_source_Gas/Solar             1.84e+05   5.67e+04      3.247      0.001    7.29e+04    2.95e+05\n",
       "sewer_system_PRIVATE RESTRICTED -5.918e+05   2.48e+05     -2.391      0.017   -1.08e+06   -1.07e+05\n",
       "sewer_system_PUBLIC              9.034e+04   1.12e+04      8.084      0.000    6.84e+04    1.12e+05\n",
       "Neighborhood_Bellevue            1.027e+06   1.86e+04     55.316      0.000    9.91e+05    1.06e+06\n",
       "Neighborhood_Bothell             4.546e+05   3.55e+04     12.803      0.000    3.85e+05    5.24e+05\n",
       "Neighborhood_Carnation           2.324e+05   4.57e+04      5.090      0.000    1.43e+05    3.22e+05\n",
       "Neighborhood_Duvall              2.492e+05    3.7e+04      6.734      0.000    1.77e+05    3.22e+05\n",
       "Neighborhood_Fall City           6.368e+05   5.31e+04     11.997      0.000    5.33e+05    7.41e+05\n",
       "Neighborhood_Federal Way        -3.517e+04   2.08e+04     -1.688      0.091    -7.6e+04    5676.559\n",
       "Neighborhood_Gold Bar            3.223e+05   3.13e+05      1.029      0.303   -2.91e+05    9.36e+05\n",
       "Neighborhood_Issaquah             5.25e+05   2.37e+04     22.167      0.000    4.79e+05    5.71e+05\n",
       "Neighborhood_Kenmore             3.929e+05   3.14e+04     12.517      0.000    3.31e+05    4.54e+05\n",
       "Neighborhood_Kent                4.441e+04   1.68e+04      2.638      0.008    1.14e+04    7.74e+04\n",
       "Neighborhood_Kirkland            8.332e+05   1.94e+04     43.046      0.000    7.95e+05    8.71e+05\n",
       "Neighborhood_Maple Valley        1.131e+05   2.17e+04      5.212      0.000    7.06e+04    1.56e+05\n",
       "Neighborhood_Medina              3.392e+06   7.27e+04     46.636      0.000    3.25e+06    3.53e+06\n",
       "Neighborhood_Mercer Island       1.184e+06   3.24e+04     36.514      0.000    1.12e+06    1.25e+06\n",
       "Neighborhood_Milton              1.224e+05   1.14e+05      1.075      0.282   -1.01e+05    3.45e+05\n",
       "Neighborhood_North Bend          2.697e+05   2.81e+04      9.599      0.000    2.15e+05    3.25e+05\n",
       "Neighborhood_Pacific              1.28e+05   6.35e+04      2.017      0.044    3629.666    2.52e+05\n",
       "Neighborhood_Preston              6.25e+05   3.83e+05      1.630      0.103   -1.27e+05    1.38e+06\n",
       "Neighborhood_Ravensdale           9.21e+04   6.87e+04      1.341      0.180   -4.26e+04    2.27e+05\n",
       "Neighborhood_Redmond              6.87e+05   2.17e+04     31.715      0.000    6.45e+05    7.29e+05\n",
       "Neighborhood_Renton               1.93e+05   1.64e+04     11.753      0.000    1.61e+05    2.25e+05\n",
       "Neighborhood_Sammamish           6.069e+05   2.25e+04     26.976      0.000    5.63e+05    6.51e+05\n",
       "Neighborhood_Seattle             3.751e+05   1.39e+04     27.024      0.000    3.48e+05    4.02e+05\n",
       "Neighborhood_Snoqualmie           3.35e+05   3.43e+04      9.763      0.000    2.68e+05    4.02e+05\n",
       "Neighborhood_Vashon              7.396e+04   4.22e+04      1.751      0.080   -8841.589    1.57e+05\n",
       "Neighborhood_Woodinville         5.441e+05   2.59e+04     21.004      0.000    4.93e+05    5.95e+05\n",
       "grade_11 Excellent               7.923e+05   3.12e+04     25.411      0.000    7.31e+05    8.53e+05\n",
       "grade_12 Luxury                  1.852e+06   5.21e+04     35.530      0.000    1.75e+06    1.95e+06\n",
       "grade_13 Mansion                 4.176e+06   1.12e+05     37.181      0.000    3.96e+06     4.4e+06\n",
       "grade_3 Poor                    -6.687e+05   1.89e+05     -3.541      0.000   -1.04e+06   -2.99e+05\n",
       "grade_4 Low                     -6.628e+05   8.48e+04     -7.819      0.000   -8.29e+05   -4.97e+05\n",
       "grade_5 Fair                    -6.246e+05   3.68e+04    -16.961      0.000   -6.97e+05   -5.52e+05\n",
       "grade_6 Low Average             -6.414e+05   2.47e+04    -25.997      0.000    -6.9e+05   -5.93e+05\n",
       "grade_7 Average                 -6.273e+05   2.07e+04    -30.257      0.000   -6.68e+05   -5.87e+05\n",
       "grade_8 Good                     -5.32e+05   1.87e+04    -28.498      0.000   -5.69e+05   -4.95e+05\n",
       "grade_9 Better                  -2.858e+05   1.82e+04    -15.684      0.000   -3.22e+05    -2.5e+05\n",
       "==============================================================================\n",
       "Omnibus:                    47314.070   Durbin-Watson:                   1.898\n",
       "Prob(Omnibus):                  0.000   Jarque-Bera (JB):        136076642.882\n",
       "Skew:                          10.131   Prob(JB):                         0.00\n",
       "Kurtosis:                     336.960   Cond. No.                     7.71e+06\n",
       "==============================================================================\n",
       "\n",
       "Notes:\n",
       "[1] Standard Errors assume that the covariance matrix of the errors is correctly specified.\n",
       "[2] The condition number is large, 7.71e+06. This might indicate that there are\n",
       "strong multicollinearity or other numerical problems.\n",
       "\"\"\""
      ]
     },
     "execution_count": 1317,
     "metadata": {},
     "output_type": "execute_result"
    }
   ],
   "source": [
    "X1=dum_df1.drop(labels=['selldate', 'price', 'Zipcode', 'address', 'lat', 'long', \n",
    "                       'sewer_system_PUBLIC RESTRICTED',\n",
    "                      'heat_source_Oil', 'heat_source_Oil/Solar', 'heat_source_Other',\n",
    "                      'floors', 'Neighborhood_Skykomish', 'Neighborhood_Black Diamond',\n",
    "                      'Neighborhood_Baring', 'grade_2 Substandard', 'Neighborhood_Enumclaw', 'heat_source_Electricity/Solar'], axis=1)\n",
    "y=dum_df1.price\n",
    "\n",
    "model_1 = sm.OLS(y, sm.add_constant(X1))\n",
    "results1 = model_1.fit()\n",
    "results1.summary()"
   ]
  },
  {
   "cell_type": "code",
   "execution_count": 1318,
   "metadata": {},
   "outputs": [
    {
     "data": {
      "text/plain": [
       "275113.75901236146"
      ]
     },
     "execution_count": 1318,
     "metadata": {},
     "output_type": "execute_result"
    }
   ],
   "source": [
    "mae = mean_absolute_error(y, results1.predict(sm.add_constant(X1)))\n",
    "mae"
   ]
  },
  {
   "cell_type": "markdown",
   "metadata": {},
   "source": [
    "## TEST without cleaning after baseline"
   ]
  },
  {
   "cell_type": "code",
   "execution_count": 1207,
   "metadata": {},
   "outputs": [],
   "source": [
    "cats = df1[['waterfront','greenbelt', 'nuisance', 'view', 'condition', 'heat_source', 'sewer_system', 'Neighborhood', 'grade']]\n",
    "cats1 = df1[['selldate','price','waterfront','greenbelt', 'nuisance', 'view', 'condition', 'heat_source', 'sewer_system', 'address', 'Zipcode', 'Neighborhood', 'grade']]"
   ]
  },
  {
   "cell_type": "code",
   "execution_count": 1208,
   "metadata": {},
   "outputs": [],
   "source": [
    "cat_cols = cats.columns\n",
    "dum_df1 = pd.get_dummies(data=df1, columns=cat_cols, drop_first=True)"
   ]
  },
  {
   "cell_type": "code",
   "execution_count": 1210,
   "metadata": {},
   "outputs": [
    {
     "data": {
      "text/html": [
       "<table class=\"simpletable\">\n",
       "<caption>OLS Regression Results</caption>\n",
       "<tr>\n",
       "  <th>Dep. Variable:</th>          <td>price</td>      <th>  R-squared:         </th>  <td>   0.642</td>  \n",
       "</tr>\n",
       "<tr>\n",
       "  <th>Model:</th>                   <td>OLS</td>       <th>  Adj. R-squared:    </th>  <td>   0.642</td>  \n",
       "</tr>\n",
       "<tr>\n",
       "  <th>Method:</th>             <td>Least Squares</td>  <th>  F-statistic:       </th>  <td>   829.7</td>  \n",
       "</tr>\n",
       "<tr>\n",
       "  <th>Date:</th>             <td>Thu, 22 Sep 2022</td> <th>  Prob (F-statistic):</th>   <td>  0.00</td>   \n",
       "</tr>\n",
       "<tr>\n",
       "  <th>Time:</th>                 <td>21:41:07</td>     <th>  Log-Likelihood:    </th> <td>-4.2625e+05</td>\n",
       "</tr>\n",
       "<tr>\n",
       "  <th>No. Observations:</th>      <td> 29175</td>      <th>  AIC:               </th>  <td>8.526e+05</td> \n",
       "</tr>\n",
       "<tr>\n",
       "  <th>Df Residuals:</th>          <td> 29111</td>      <th>  BIC:               </th>  <td>8.532e+05</td> \n",
       "</tr>\n",
       "<tr>\n",
       "  <th>Df Model:</th>              <td>    63</td>      <th>                     </th>      <td> </td>     \n",
       "</tr>\n",
       "<tr>\n",
       "  <th>Covariance Type:</th>      <td>nonrobust</td>    <th>                     </th>      <td> </td>     \n",
       "</tr>\n",
       "</table>\n",
       "<table class=\"simpletable\">\n",
       "<tr>\n",
       "                 <td></td>                    <th>coef</th>     <th>std err</th>      <th>t</th>      <th>P>|t|</th>  <th>[0.025</th>    <th>0.975]</th>  \n",
       "</tr>\n",
       "<tr>\n",
       "  <th>const</th>                           <td> 2.248e+06</td> <td> 1.23e+06</td> <td>    1.825</td> <td> 0.068</td> <td>-1.66e+05</td> <td> 4.66e+06</td>\n",
       "</tr>\n",
       "<tr>\n",
       "  <th>bedrooms</th>                        <td>-4.314e+04</td> <td> 4574.686</td> <td>   -9.431</td> <td> 0.000</td> <td>-5.21e+04</td> <td>-3.42e+04</td>\n",
       "</tr>\n",
       "<tr>\n",
       "  <th>bathrooms</th>                       <td> 7.202e+04</td> <td> 6459.047</td> <td>   11.151</td> <td> 0.000</td> <td> 5.94e+04</td> <td> 8.47e+04</td>\n",
       "</tr>\n",
       "<tr>\n",
       "  <th>sqft_living</th>                     <td>   58.0350</td> <td>   14.684</td> <td>    3.952</td> <td> 0.000</td> <td>   29.253</td> <td>   86.817</td>\n",
       "</tr>\n",
       "<tr>\n",
       "  <th>sqft_lot</th>                        <td>    0.4580</td> <td>    0.057</td> <td>    8.052</td> <td> 0.000</td> <td>    0.346</td> <td>    0.569</td>\n",
       "</tr>\n",
       "<tr>\n",
       "  <th>sqft_above</th>                      <td>  256.0343</td> <td>   14.596</td> <td>   17.542</td> <td> 0.000</td> <td>  227.426</td> <td>  284.642</td>\n",
       "</tr>\n",
       "<tr>\n",
       "  <th>sqft_basement</th>                   <td>  134.3690</td> <td>   11.236</td> <td>   11.958</td> <td> 0.000</td> <td>  112.345</td> <td>  156.393</td>\n",
       "</tr>\n",
       "<tr>\n",
       "  <th>sqft_garage</th>                     <td> -132.7411</td> <td>   15.741</td> <td>   -8.433</td> <td> 0.000</td> <td> -163.593</td> <td> -101.889</td>\n",
       "</tr>\n",
       "<tr>\n",
       "  <th>sqft_patio</th>                      <td>   63.2588</td> <td>   14.702</td> <td>    4.303</td> <td> 0.000</td> <td>   34.443</td> <td>   92.074</td>\n",
       "</tr>\n",
       "<tr>\n",
       "  <th>yr_built</th>                        <td> -926.2952</td> <td>  609.551</td> <td>   -1.520</td> <td> 0.129</td> <td>-2121.042</td> <td>  268.452</td>\n",
       "</tr>\n",
       "<tr>\n",
       "  <th>yr_renovated</th>                    <td>   61.9480</td> <td>   19.313</td> <td>    3.208</td> <td> 0.001</td> <td>   24.093</td> <td>   99.803</td>\n",
       "</tr>\n",
       "<tr>\n",
       "  <th>yr_old</th>                          <td>  667.0728</td> <td>  614.595</td> <td>    1.085</td> <td> 0.278</td> <td> -537.561</td> <td> 1871.706</td>\n",
       "</tr>\n",
       "<tr>\n",
       "  <th>Population</th>                      <td>    1.1583</td> <td>    0.371</td> <td>    3.123</td> <td> 0.002</td> <td>    0.431</td> <td>    1.885</td>\n",
       "</tr>\n",
       "<tr>\n",
       "  <th>waterfront_YES</th>                  <td> 7.531e+05</td> <td> 2.91e+04</td> <td>   25.923</td> <td> 0.000</td> <td> 6.96e+05</td> <td>  8.1e+05</td>\n",
       "</tr>\n",
       "<tr>\n",
       "  <th>greenbelt_YES</th>                   <td> -6.46e+04</td> <td> 2.03e+04</td> <td>   -3.182</td> <td> 0.001</td> <td>-1.04e+05</td> <td>-2.48e+04</td>\n",
       "</tr>\n",
       "<tr>\n",
       "  <th>nuisance_YES</th>                    <td>-2.344e+04</td> <td> 8571.554</td> <td>   -2.735</td> <td> 0.006</td> <td>-4.02e+04</td> <td>-6641.751</td>\n",
       "</tr>\n",
       "<tr>\n",
       "  <th>view_EXCELLENT</th>                  <td> 6.413e+05</td> <td> 2.94e+04</td> <td>   21.796</td> <td> 0.000</td> <td> 5.84e+05</td> <td> 6.99e+05</td>\n",
       "</tr>\n",
       "<tr>\n",
       "  <th>view_FAIR</th>                       <td> 1.142e+05</td> <td> 3.88e+04</td> <td>    2.946</td> <td> 0.003</td> <td> 3.82e+04</td> <td>  1.9e+05</td>\n",
       "</tr>\n",
       "<tr>\n",
       "  <th>view_GOOD</th>                       <td> 4.764e+04</td> <td> 2.22e+04</td> <td>    2.150</td> <td> 0.032</td> <td> 4213.888</td> <td> 9.11e+04</td>\n",
       "</tr>\n",
       "<tr>\n",
       "  <th>view_NONE</th>                       <td> -7.73e+04</td> <td> 1.34e+04</td> <td>   -5.778</td> <td> 0.000</td> <td>-1.04e+05</td> <td>-5.11e+04</td>\n",
       "</tr>\n",
       "<tr>\n",
       "  <th>condition_Fair</th>                  <td>-1.184e+05</td> <td> 3.66e+04</td> <td>   -3.232</td> <td> 0.001</td> <td> -1.9e+05</td> <td>-4.66e+04</td>\n",
       "</tr>\n",
       "<tr>\n",
       "  <th>condition_Good</th>                  <td>  3.94e+04</td> <td> 8041.373</td> <td>    4.899</td> <td> 0.000</td> <td> 2.36e+04</td> <td> 5.52e+04</td>\n",
       "</tr>\n",
       "<tr>\n",
       "  <th>condition_Poor</th>                  <td>-9.217e+04</td> <td>  7.1e+04</td> <td>   -1.297</td> <td> 0.195</td> <td>-2.31e+05</td> <td> 4.71e+04</td>\n",
       "</tr>\n",
       "<tr>\n",
       "  <th>condition_Very Good</th>             <td> 1.001e+05</td> <td> 1.13e+04</td> <td>    8.865</td> <td> 0.000</td> <td>  7.8e+04</td> <td> 1.22e+05</td>\n",
       "</tr>\n",
       "<tr>\n",
       "  <th>heat_source_Gas</th>                 <td> 1.164e+04</td> <td> 7631.502</td> <td>    1.526</td> <td> 0.127</td> <td>-3313.969</td> <td> 2.66e+04</td>\n",
       "</tr>\n",
       "<tr>\n",
       "  <th>heat_source_Gas/Solar</th>           <td> 1.776e+05</td> <td> 5.61e+04</td> <td>    3.163</td> <td> 0.002</td> <td> 6.75e+04</td> <td> 2.88e+05</td>\n",
       "</tr>\n",
       "<tr>\n",
       "  <th>sewer_system_PRIVATE RESTRICTED</th> <td>-5.763e+05</td> <td> 2.45e+05</td> <td>   -2.350</td> <td> 0.019</td> <td>-1.06e+06</td> <td>-9.57e+04</td>\n",
       "</tr>\n",
       "<tr>\n",
       "  <th>sewer_system_PUBLIC</th>             <td>  9.79e+04</td> <td> 1.11e+04</td> <td>    8.851</td> <td> 0.000</td> <td> 7.62e+04</td> <td>  1.2e+05</td>\n",
       "</tr>\n",
       "<tr>\n",
       "  <th>Neighborhood_Bellevue</th>           <td> 1.016e+06</td> <td> 1.84e+04</td> <td>   55.166</td> <td> 0.000</td> <td>  9.8e+05</td> <td> 1.05e+06</td>\n",
       "</tr>\n",
       "<tr>\n",
       "  <th>Neighborhood_Bothell</th>            <td> 4.503e+05</td> <td> 3.52e+04</td> <td>   12.804</td> <td> 0.000</td> <td> 3.81e+05</td> <td> 5.19e+05</td>\n",
       "</tr>\n",
       "<tr>\n",
       "  <th>Neighborhood_Carnation</th>          <td> 2.341e+05</td> <td> 4.52e+04</td> <td>    5.175</td> <td> 0.000</td> <td> 1.45e+05</td> <td> 3.23e+05</td>\n",
       "</tr>\n",
       "<tr>\n",
       "  <th>Neighborhood_Duvall</th>             <td> 2.485e+05</td> <td> 3.67e+04</td> <td>    6.778</td> <td> 0.000</td> <td> 1.77e+05</td> <td>  3.2e+05</td>\n",
       "</tr>\n",
       "<tr>\n",
       "  <th>Neighborhood_Fall City</th>          <td> 6.376e+05</td> <td> 5.26e+04</td> <td>   12.117</td> <td> 0.000</td> <td> 5.34e+05</td> <td> 7.41e+05</td>\n",
       "</tr>\n",
       "<tr>\n",
       "  <th>Neighborhood_Federal Way</th>        <td>-3.818e+04</td> <td> 2.06e+04</td> <td>   -1.850</td> <td> 0.064</td> <td>-7.86e+04</td> <td> 2269.794</td>\n",
       "</tr>\n",
       "<tr>\n",
       "  <th>Neighborhood_Gold Bar</th>           <td> 3.322e+05</td> <td>  3.1e+05</td> <td>    1.071</td> <td> 0.284</td> <td>-2.76e+05</td> <td>  9.4e+05</td>\n",
       "</tr>\n",
       "<tr>\n",
       "  <th>Neighborhood_Issaquah</th>           <td> 5.228e+05</td> <td> 2.35e+04</td> <td>   22.283</td> <td> 0.000</td> <td> 4.77e+05</td> <td> 5.69e+05</td>\n",
       "</tr>\n",
       "<tr>\n",
       "  <th>Neighborhood_Kenmore</th>            <td> 3.887e+05</td> <td> 3.11e+04</td> <td>   12.500</td> <td> 0.000</td> <td> 3.28e+05</td> <td>  4.5e+05</td>\n",
       "</tr>\n",
       "<tr>\n",
       "  <th>Neighborhood_Kent</th>               <td> 4.306e+04</td> <td> 1.67e+04</td> <td>    2.582</td> <td> 0.010</td> <td> 1.04e+04</td> <td> 7.57e+04</td>\n",
       "</tr>\n",
       "<tr>\n",
       "  <th>Neighborhood_Kirkland</th>           <td> 8.301e+05</td> <td> 1.92e+04</td> <td>   43.274</td> <td> 0.000</td> <td> 7.93e+05</td> <td> 8.68e+05</td>\n",
       "</tr>\n",
       "<tr>\n",
       "  <th>Neighborhood_Maple Valley</th>       <td>  1.11e+05</td> <td> 2.15e+04</td> <td>    5.163</td> <td> 0.000</td> <td> 6.89e+04</td> <td> 1.53e+05</td>\n",
       "</tr>\n",
       "<tr>\n",
       "  <th>Neighborhood_Medina</th>             <td> 3.348e+06</td> <td> 7.21e+04</td> <td>   46.416</td> <td> 0.000</td> <td> 3.21e+06</td> <td> 3.49e+06</td>\n",
       "</tr>\n",
       "<tr>\n",
       "  <th>Neighborhood_Mercer Island</th>      <td> 1.179e+06</td> <td> 3.22e+04</td> <td>   36.662</td> <td> 0.000</td> <td> 1.12e+06</td> <td> 1.24e+06</td>\n",
       "</tr>\n",
       "<tr>\n",
       "  <th>Neighborhood_Milton</th>             <td> 1.244e+05</td> <td> 1.13e+05</td> <td>    1.103</td> <td> 0.270</td> <td>-9.66e+04</td> <td> 3.45e+05</td>\n",
       "</tr>\n",
       "<tr>\n",
       "  <th>Neighborhood_North Bend</th>         <td> 2.708e+05</td> <td> 2.78e+04</td> <td>    9.729</td> <td> 0.000</td> <td> 2.16e+05</td> <td> 3.25e+05</td>\n",
       "</tr>\n",
       "<tr>\n",
       "  <th>Neighborhood_Pacific</th>            <td> 1.314e+05</td> <td> 6.29e+04</td> <td>    2.090</td> <td> 0.037</td> <td> 8166.736</td> <td> 2.55e+05</td>\n",
       "</tr>\n",
       "<tr>\n",
       "  <th>Neighborhood_Preston</th>            <td> 6.075e+05</td> <td>  3.8e+05</td> <td>    1.599</td> <td> 0.110</td> <td>-1.37e+05</td> <td> 1.35e+06</td>\n",
       "</tr>\n",
       "<tr>\n",
       "  <th>Neighborhood_Ravensdale</th>         <td> 1.029e+05</td> <td> 6.81e+04</td> <td>    1.512</td> <td> 0.130</td> <td>-3.05e+04</td> <td> 2.36e+05</td>\n",
       "</tr>\n",
       "<tr>\n",
       "  <th>Neighborhood_Redmond</th>            <td> 6.787e+05</td> <td> 2.15e+04</td> <td>   31.634</td> <td> 0.000</td> <td> 6.37e+05</td> <td> 7.21e+05</td>\n",
       "</tr>\n",
       "<tr>\n",
       "  <th>Neighborhood_Renton</th>             <td> 1.909e+05</td> <td> 1.63e+04</td> <td>   11.733</td> <td> 0.000</td> <td> 1.59e+05</td> <td> 2.23e+05</td>\n",
       "</tr>\n",
       "<tr>\n",
       "  <th>Neighborhood_Sammamish</th>          <td> 6.096e+05</td> <td> 2.23e+04</td> <td>   27.350</td> <td> 0.000</td> <td> 5.66e+05</td> <td> 6.53e+05</td>\n",
       "</tr>\n",
       "<tr>\n",
       "  <th>Neighborhood_Seattle</th>            <td> 3.702e+05</td> <td> 1.37e+04</td> <td>   26.976</td> <td> 0.000</td> <td> 3.43e+05</td> <td> 3.97e+05</td>\n",
       "</tr>\n",
       "<tr>\n",
       "  <th>Neighborhood_Snoqualmie</th>         <td> 3.315e+05</td> <td>  3.4e+04</td> <td>    9.752</td> <td> 0.000</td> <td> 2.65e+05</td> <td> 3.98e+05</td>\n",
       "</tr>\n",
       "<tr>\n",
       "  <th>Neighborhood_Vashon</th>             <td> 7.715e+04</td> <td> 4.18e+04</td> <td>    1.844</td> <td> 0.065</td> <td>-4869.517</td> <td> 1.59e+05</td>\n",
       "</tr>\n",
       "<tr>\n",
       "  <th>Neighborhood_Woodinville</th>        <td>  5.46e+05</td> <td> 2.57e+04</td> <td>   21.279</td> <td> 0.000</td> <td> 4.96e+05</td> <td> 5.96e+05</td>\n",
       "</tr>\n",
       "<tr>\n",
       "  <th>grade_11 Excellent</th>              <td> 7.114e+05</td> <td>  3.1e+04</td> <td>   22.919</td> <td> 0.000</td> <td> 6.51e+05</td> <td> 7.72e+05</td>\n",
       "</tr>\n",
       "<tr>\n",
       "  <th>grade_12 Luxury</th>                 <td> 1.575e+06</td> <td> 5.24e+04</td> <td>   30.042</td> <td> 0.000</td> <td> 1.47e+06</td> <td> 1.68e+06</td>\n",
       "</tr>\n",
       "<tr>\n",
       "  <th>grade_13 Mansion</th>                <td> 3.257e+06</td> <td> 1.14e+05</td> <td>   28.601</td> <td> 0.000</td> <td> 3.03e+06</td> <td> 3.48e+06</td>\n",
       "</tr>\n",
       "<tr>\n",
       "  <th>grade_3 Poor</th>                    <td>-6.392e+05</td> <td> 1.87e+05</td> <td>   -3.417</td> <td> 0.001</td> <td>-1.01e+06</td> <td>-2.73e+05</td>\n",
       "</tr>\n",
       "<tr>\n",
       "  <th>grade_4 Low</th>                     <td>-6.271e+05</td> <td> 8.38e+04</td> <td>   -7.479</td> <td> 0.000</td> <td>-7.91e+05</td> <td>-4.63e+05</td>\n",
       "</tr>\n",
       "<tr>\n",
       "  <th>grade_5 Fair</th>                    <td>-5.891e+05</td> <td> 3.62e+04</td> <td>  -16.261</td> <td> 0.000</td> <td> -6.6e+05</td> <td>-5.18e+05</td>\n",
       "</tr>\n",
       "<tr>\n",
       "  <th>grade_6 Low Average</th>             <td>-6.042e+05</td> <td> 2.41e+04</td> <td>  -25.046</td> <td> 0.000</td> <td>-6.51e+05</td> <td>-5.57e+05</td>\n",
       "</tr>\n",
       "<tr>\n",
       "  <th>grade_7 Average</th>                 <td>-5.912e+05</td> <td> 2.03e+04</td> <td>  -29.135</td> <td> 0.000</td> <td>-6.31e+05</td> <td>-5.51e+05</td>\n",
       "</tr>\n",
       "<tr>\n",
       "  <th>grade_8 Good</th>                    <td>-5.009e+05</td> <td> 1.84e+04</td> <td>  -27.269</td> <td> 0.000</td> <td>-5.37e+05</td> <td>-4.65e+05</td>\n",
       "</tr>\n",
       "<tr>\n",
       "  <th>grade_9 Better</th>                  <td>-2.632e+05</td> <td>  1.8e+04</td> <td>  -14.598</td> <td> 0.000</td> <td>-2.99e+05</td> <td>-2.28e+05</td>\n",
       "</tr>\n",
       "</table>\n",
       "<table class=\"simpletable\">\n",
       "<tr>\n",
       "  <th>Omnibus:</th>       <td>47378.197</td> <th>  Durbin-Watson:     </th>   <td>   1.895</td>   \n",
       "</tr>\n",
       "<tr>\n",
       "  <th>Prob(Omnibus):</th>  <td> 0.000</td>   <th>  Jarque-Bera (JB):  </th> <td>142033498.270</td>\n",
       "</tr>\n",
       "<tr>\n",
       "  <th>Skew:</th>           <td>10.144</td>   <th>  Prob(JB):          </th>   <td>    0.00</td>   \n",
       "</tr>\n",
       "<tr>\n",
       "  <th>Kurtosis:</th>       <td>344.216</td>  <th>  Cond. No.          </th>   <td>2.50e+07</td>   \n",
       "</tr>\n",
       "</table><br/><br/>Notes:<br/>[1] Standard Errors assume that the covariance matrix of the errors is correctly specified.<br/>[2] The condition number is large, 2.5e+07. This might indicate that there are<br/>strong multicollinearity or other numerical problems."
      ],
      "text/plain": [
       "<class 'statsmodels.iolib.summary.Summary'>\n",
       "\"\"\"\n",
       "                            OLS Regression Results                            \n",
       "==============================================================================\n",
       "Dep. Variable:                  price   R-squared:                       0.642\n",
       "Model:                            OLS   Adj. R-squared:                  0.642\n",
       "Method:                 Least Squares   F-statistic:                     829.7\n",
       "Date:                Thu, 22 Sep 2022   Prob (F-statistic):               0.00\n",
       "Time:                        21:41:07   Log-Likelihood:            -4.2625e+05\n",
       "No. Observations:               29175   AIC:                         8.526e+05\n",
       "Df Residuals:                   29111   BIC:                         8.532e+05\n",
       "Df Model:                          63                                         \n",
       "Covariance Type:            nonrobust                                         \n",
       "===================================================================================================\n",
       "                                      coef    std err          t      P>|t|      [0.025      0.975]\n",
       "---------------------------------------------------------------------------------------------------\n",
       "const                            2.248e+06   1.23e+06      1.825      0.068   -1.66e+05    4.66e+06\n",
       "bedrooms                        -4.314e+04   4574.686     -9.431      0.000   -5.21e+04   -3.42e+04\n",
       "bathrooms                        7.202e+04   6459.047     11.151      0.000    5.94e+04    8.47e+04\n",
       "sqft_living                        58.0350     14.684      3.952      0.000      29.253      86.817\n",
       "sqft_lot                            0.4580      0.057      8.052      0.000       0.346       0.569\n",
       "sqft_above                        256.0343     14.596     17.542      0.000     227.426     284.642\n",
       "sqft_basement                     134.3690     11.236     11.958      0.000     112.345     156.393\n",
       "sqft_garage                      -132.7411     15.741     -8.433      0.000    -163.593    -101.889\n",
       "sqft_patio                         63.2588     14.702      4.303      0.000      34.443      92.074\n",
       "yr_built                         -926.2952    609.551     -1.520      0.129   -2121.042     268.452\n",
       "yr_renovated                       61.9480     19.313      3.208      0.001      24.093      99.803\n",
       "yr_old                            667.0728    614.595      1.085      0.278    -537.561    1871.706\n",
       "Population                          1.1583      0.371      3.123      0.002       0.431       1.885\n",
       "waterfront_YES                   7.531e+05   2.91e+04     25.923      0.000    6.96e+05     8.1e+05\n",
       "greenbelt_YES                    -6.46e+04   2.03e+04     -3.182      0.001   -1.04e+05   -2.48e+04\n",
       "nuisance_YES                    -2.344e+04   8571.554     -2.735      0.006   -4.02e+04   -6641.751\n",
       "view_EXCELLENT                   6.413e+05   2.94e+04     21.796      0.000    5.84e+05    6.99e+05\n",
       "view_FAIR                        1.142e+05   3.88e+04      2.946      0.003    3.82e+04     1.9e+05\n",
       "view_GOOD                        4.764e+04   2.22e+04      2.150      0.032    4213.888    9.11e+04\n",
       "view_NONE                        -7.73e+04   1.34e+04     -5.778      0.000   -1.04e+05   -5.11e+04\n",
       "condition_Fair                  -1.184e+05   3.66e+04     -3.232      0.001    -1.9e+05   -4.66e+04\n",
       "condition_Good                    3.94e+04   8041.373      4.899      0.000    2.36e+04    5.52e+04\n",
       "condition_Poor                  -9.217e+04    7.1e+04     -1.297      0.195   -2.31e+05    4.71e+04\n",
       "condition_Very Good              1.001e+05   1.13e+04      8.865      0.000     7.8e+04    1.22e+05\n",
       "heat_source_Gas                  1.164e+04   7631.502      1.526      0.127   -3313.969    2.66e+04\n",
       "heat_source_Gas/Solar            1.776e+05   5.61e+04      3.163      0.002    6.75e+04    2.88e+05\n",
       "sewer_system_PRIVATE RESTRICTED -5.763e+05   2.45e+05     -2.350      0.019   -1.06e+06   -9.57e+04\n",
       "sewer_system_PUBLIC               9.79e+04   1.11e+04      8.851      0.000    7.62e+04     1.2e+05\n",
       "Neighborhood_Bellevue            1.016e+06   1.84e+04     55.166      0.000     9.8e+05    1.05e+06\n",
       "Neighborhood_Bothell             4.503e+05   3.52e+04     12.804      0.000    3.81e+05    5.19e+05\n",
       "Neighborhood_Carnation           2.341e+05   4.52e+04      5.175      0.000    1.45e+05    3.23e+05\n",
       "Neighborhood_Duvall              2.485e+05   3.67e+04      6.778      0.000    1.77e+05     3.2e+05\n",
       "Neighborhood_Fall City           6.376e+05   5.26e+04     12.117      0.000    5.34e+05    7.41e+05\n",
       "Neighborhood_Federal Way        -3.818e+04   2.06e+04     -1.850      0.064   -7.86e+04    2269.794\n",
       "Neighborhood_Gold Bar            3.322e+05    3.1e+05      1.071      0.284   -2.76e+05     9.4e+05\n",
       "Neighborhood_Issaquah            5.228e+05   2.35e+04     22.283      0.000    4.77e+05    5.69e+05\n",
       "Neighborhood_Kenmore             3.887e+05   3.11e+04     12.500      0.000    3.28e+05     4.5e+05\n",
       "Neighborhood_Kent                4.306e+04   1.67e+04      2.582      0.010    1.04e+04    7.57e+04\n",
       "Neighborhood_Kirkland            8.301e+05   1.92e+04     43.274      0.000    7.93e+05    8.68e+05\n",
       "Neighborhood_Maple Valley         1.11e+05   2.15e+04      5.163      0.000    6.89e+04    1.53e+05\n",
       "Neighborhood_Medina              3.348e+06   7.21e+04     46.416      0.000    3.21e+06    3.49e+06\n",
       "Neighborhood_Mercer Island       1.179e+06   3.22e+04     36.662      0.000    1.12e+06    1.24e+06\n",
       "Neighborhood_Milton              1.244e+05   1.13e+05      1.103      0.270   -9.66e+04    3.45e+05\n",
       "Neighborhood_North Bend          2.708e+05   2.78e+04      9.729      0.000    2.16e+05    3.25e+05\n",
       "Neighborhood_Pacific             1.314e+05   6.29e+04      2.090      0.037    8166.736    2.55e+05\n",
       "Neighborhood_Preston             6.075e+05    3.8e+05      1.599      0.110   -1.37e+05    1.35e+06\n",
       "Neighborhood_Ravensdale          1.029e+05   6.81e+04      1.512      0.130   -3.05e+04    2.36e+05\n",
       "Neighborhood_Redmond             6.787e+05   2.15e+04     31.634      0.000    6.37e+05    7.21e+05\n",
       "Neighborhood_Renton              1.909e+05   1.63e+04     11.733      0.000    1.59e+05    2.23e+05\n",
       "Neighborhood_Sammamish           6.096e+05   2.23e+04     27.350      0.000    5.66e+05    6.53e+05\n",
       "Neighborhood_Seattle             3.702e+05   1.37e+04     26.976      0.000    3.43e+05    3.97e+05\n",
       "Neighborhood_Snoqualmie          3.315e+05    3.4e+04      9.752      0.000    2.65e+05    3.98e+05\n",
       "Neighborhood_Vashon              7.715e+04   4.18e+04      1.844      0.065   -4869.517    1.59e+05\n",
       "Neighborhood_Woodinville          5.46e+05   2.57e+04     21.279      0.000    4.96e+05    5.96e+05\n",
       "grade_11 Excellent               7.114e+05    3.1e+04     22.919      0.000    6.51e+05    7.72e+05\n",
       "grade_12 Luxury                  1.575e+06   5.24e+04     30.042      0.000    1.47e+06    1.68e+06\n",
       "grade_13 Mansion                 3.257e+06   1.14e+05     28.601      0.000    3.03e+06    3.48e+06\n",
       "grade_3 Poor                    -6.392e+05   1.87e+05     -3.417      0.001   -1.01e+06   -2.73e+05\n",
       "grade_4 Low                     -6.271e+05   8.38e+04     -7.479      0.000   -7.91e+05   -4.63e+05\n",
       "grade_5 Fair                    -5.891e+05   3.62e+04    -16.261      0.000    -6.6e+05   -5.18e+05\n",
       "grade_6 Low Average             -6.042e+05   2.41e+04    -25.046      0.000   -6.51e+05   -5.57e+05\n",
       "grade_7 Average                 -5.912e+05   2.03e+04    -29.135      0.000   -6.31e+05   -5.51e+05\n",
       "grade_8 Good                    -5.009e+05   1.84e+04    -27.269      0.000   -5.37e+05   -4.65e+05\n",
       "grade_9 Better                  -2.632e+05    1.8e+04    -14.598      0.000   -2.99e+05   -2.28e+05\n",
       "==============================================================================\n",
       "Omnibus:                    47378.197   Durbin-Watson:                   1.895\n",
       "Prob(Omnibus):                  0.000   Jarque-Bera (JB):        142033498.270\n",
       "Skew:                          10.144   Prob(JB):                         0.00\n",
       "Kurtosis:                     344.216   Cond. No.                     2.50e+07\n",
       "==============================================================================\n",
       "\n",
       "Notes:\n",
       "[1] Standard Errors assume that the covariance matrix of the errors is correctly specified.\n",
       "[2] The condition number is large, 2.5e+07. This might indicate that there are\n",
       "strong multicollinearity or other numerical problems.\n",
       "\"\"\""
      ]
     },
     "execution_count": 1210,
     "metadata": {},
     "output_type": "execute_result"
    }
   ],
   "source": [
    "X1=dum_df1.drop(labels=['selldate', 'price', 'Zipcode', 'address', 'lat', 'long', \n",
    "                       'sewer_system_PUBLIC RESTRICTED',\n",
    "                      'heat_source_Oil', 'heat_source_Oil/Solar', 'heat_source_Other',\n",
    "                      'floors', 'Neighborhood_Skykomish', 'Neighborhood_Black Diamond',\n",
    "                      'Neighborhood_Baring', 'grade_2 Substandard', 'Neighborhood_Enumclaw', 'heat_source_Electricity/Solar'], axis=1)\n",
    "y=dum_df1.price\n",
    "\n",
    "model_1 = sm.OLS(y, sm.add_constant(X1))\n",
    "results1 = model_1.fit()\n",
    "results1.summary()"
   ]
  },
  {
   "cell_type": "code",
   "execution_count": 1211,
   "metadata": {},
   "outputs": [
    {
     "data": {
      "text/plain": [
       "274525.5846135185"
      ]
     },
     "execution_count": 1211,
     "metadata": {},
     "output_type": "execute_result"
    }
   ],
   "source": [
    "mae = mean_absolute_error(y, results1.predict(sm.add_constant(X1)))\n",
    "mae"
   ]
  },
  {
   "cell_type": "markdown",
   "metadata": {},
   "source": [
    "## Bathrooms"
   ]
  },
  {
   "cell_type": "markdown",
   "metadata": {
    "index": 67
   },
   "source": [
    "## Regression Results"
   ]
  },
  {
   "cell_type": "markdown",
   "metadata": {
    "index": 85
   },
   "source": [
    "## Level Up: Project Enhancements\n",
    "\n",
    "After completing the minimum project requirements, you could consider the following enhancements if you have time:\n",
    "\n",
    "* Consider applying a linear or non-linear transformation to your features and/or target\n",
    "* Investigate the linear regression assumptions for your final model\n",
    "* Identify and remove outliers, then redo the analysis\n",
    "* Compile the data cleaning code into a function"
   ]
  },
  {
   "cell_type": "markdown",
   "metadata": {},
   "source": [
    "## terms and transformations"
   ]
  },
  {
   "cell_type": "code",
   "execution_count": null,
   "metadata": {},
   "outputs": [],
   "source": []
  },
  {
   "cell_type": "markdown",
   "metadata": {
    "index": 86
   },
   "source": [
    "## Conclusion"
   ]
  },
  {
   "cell_type": "code",
   "execution_count": null,
   "metadata": {},
   "outputs": [],
   "source": []
  }
 ],
 "metadata": {
  "kernelspec": {
   "display_name": "Python 3",
   "language": "python",
   "name": "python3"
  },
  "language_info": {
   "codemirror_mode": {
    "name": "ipython",
    "version": 3
   },
   "file_extension": ".py",
   "mimetype": "text/x-python",
   "name": "python",
   "nbconvert_exporter": "python",
   "pygments_lexer": "ipython3",
   "version": "3.8.5"
  }
 },
 "nbformat": 4,
 "nbformat_minor": 4
}
