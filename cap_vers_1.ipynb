{
 "cells": [
  {
   "cell_type": "markdown",
   "metadata": {
    "index": 0
   },
   "source": [
    "# Capstone Regression Project"
   ]
  },
  {
   "cell_type": "markdown",
   "metadata": {
    "index": 2
   },
   "source": [
    "## Business Understanding"
   ]
  },
  {
   "cell_type": "markdown",
   "metadata": {
    "index": 2
   },
   "source": [
    "## Data Understanding\n",
    "\n",
    "-describes source of dataset\n",
    "-what each record represents\n",
    "-which column is begin used as the regress"
   ]
  },
  {
   "cell_type": "markdown",
   "metadata": {
    "index": 2
   },
   "source": [
    "## Data Preparation"
   ]
  },
  {
   "cell_type": "markdown",
   "metadata": {},
   "source": [
    "### Loading the Data"
   ]
  },
  {
   "cell_type": "code",
   "execution_count": 1,
   "metadata": {
    "index": 3
   },
   "outputs": [],
   "source": [
    "#importing all appropriate Pythonic libraries and packages \n",
    "\n",
    "import numpy as np\n",
    "import pandas as pd\n",
    "from matplotlib import pyplot as plt\n",
    "import seaborn as sns\n",
    "import statsmodels.api as sm\n",
    "from sklearn.preprocessing import OneHotEncoder, StandardScaler\n",
    "from sklearn.datasets import make_regression\n",
    "from sklearn.linear_model import LinearRegression\n",
    "import sklearn.metrics as metrics\n",
    "from sklearn.metrics import mean_absolute_error\n",
    "from random import gauss\n",
    "from mpl_toolkits.mplot3d import Axes3D\n",
    "from scipy import stats as stats\n",
    "import re\n",
    "%matplotlib inline"
   ]
  },
  {
   "cell_type": "code",
   "execution_count": 2,
   "metadata": {},
   "outputs": [
    {
     "data": {
      "text/html": [
       "<div>\n",
       "<style scoped>\n",
       "    .dataframe tbody tr th:only-of-type {\n",
       "        vertical-align: middle;\n",
       "    }\n",
       "\n",
       "    .dataframe tbody tr th {\n",
       "        vertical-align: top;\n",
       "    }\n",
       "\n",
       "    .dataframe thead th {\n",
       "        text-align: right;\n",
       "    }\n",
       "</style>\n",
       "<table border=\"1\" class=\"dataframe\">\n",
       "  <thead>\n",
       "    <tr style=\"text-align: right;\">\n",
       "      <th></th>\n",
       "      <th>id</th>\n",
       "      <th>date</th>\n",
       "      <th>price</th>\n",
       "      <th>bedrooms</th>\n",
       "      <th>bathrooms</th>\n",
       "      <th>sqft_living</th>\n",
       "      <th>sqft_lot</th>\n",
       "      <th>floors</th>\n",
       "      <th>waterfront</th>\n",
       "      <th>greenbelt</th>\n",
       "      <th>...</th>\n",
       "      <th>sewer_system</th>\n",
       "      <th>sqft_above</th>\n",
       "      <th>sqft_basement</th>\n",
       "      <th>sqft_garage</th>\n",
       "      <th>sqft_patio</th>\n",
       "      <th>yr_built</th>\n",
       "      <th>yr_renovated</th>\n",
       "      <th>address</th>\n",
       "      <th>lat</th>\n",
       "      <th>long</th>\n",
       "    </tr>\n",
       "  </thead>\n",
       "  <tbody>\n",
       "    <tr>\n",
       "      <th>0</th>\n",
       "      <td>7399300360</td>\n",
       "      <td>5/24/2022</td>\n",
       "      <td>675000.0</td>\n",
       "      <td>4</td>\n",
       "      <td>1.0</td>\n",
       "      <td>1180</td>\n",
       "      <td>7140</td>\n",
       "      <td>1.0</td>\n",
       "      <td>NO</td>\n",
       "      <td>NO</td>\n",
       "      <td>...</td>\n",
       "      <td>PUBLIC</td>\n",
       "      <td>1180</td>\n",
       "      <td>0</td>\n",
       "      <td>0</td>\n",
       "      <td>40</td>\n",
       "      <td>1969</td>\n",
       "      <td>0</td>\n",
       "      <td>2102 Southeast 21st Court, Renton, Washington ...</td>\n",
       "      <td>47.461975</td>\n",
       "      <td>-122.19052</td>\n",
       "    </tr>\n",
       "    <tr>\n",
       "      <th>1</th>\n",
       "      <td>8910500230</td>\n",
       "      <td>12/13/2021</td>\n",
       "      <td>920000.0</td>\n",
       "      <td>5</td>\n",
       "      <td>2.5</td>\n",
       "      <td>2770</td>\n",
       "      <td>6703</td>\n",
       "      <td>1.0</td>\n",
       "      <td>NO</td>\n",
       "      <td>NO</td>\n",
       "      <td>...</td>\n",
       "      <td>PUBLIC</td>\n",
       "      <td>1570</td>\n",
       "      <td>1570</td>\n",
       "      <td>0</td>\n",
       "      <td>240</td>\n",
       "      <td>1950</td>\n",
       "      <td>0</td>\n",
       "      <td>11231 Greenwood Avenue North, Seattle, Washing...</td>\n",
       "      <td>47.711525</td>\n",
       "      <td>-122.35591</td>\n",
       "    </tr>\n",
       "    <tr>\n",
       "      <th>2</th>\n",
       "      <td>1180000275</td>\n",
       "      <td>9/29/2021</td>\n",
       "      <td>311000.0</td>\n",
       "      <td>6</td>\n",
       "      <td>2.0</td>\n",
       "      <td>2880</td>\n",
       "      <td>6156</td>\n",
       "      <td>1.0</td>\n",
       "      <td>NO</td>\n",
       "      <td>NO</td>\n",
       "      <td>...</td>\n",
       "      <td>PUBLIC</td>\n",
       "      <td>1580</td>\n",
       "      <td>1580</td>\n",
       "      <td>0</td>\n",
       "      <td>0</td>\n",
       "      <td>1956</td>\n",
       "      <td>0</td>\n",
       "      <td>8504 South 113th Street, Seattle, Washington 9...</td>\n",
       "      <td>47.502045</td>\n",
       "      <td>-122.22520</td>\n",
       "    </tr>\n",
       "    <tr>\n",
       "      <th>3</th>\n",
       "      <td>1604601802</td>\n",
       "      <td>12/14/2021</td>\n",
       "      <td>775000.0</td>\n",
       "      <td>3</td>\n",
       "      <td>3.0</td>\n",
       "      <td>2160</td>\n",
       "      <td>1400</td>\n",
       "      <td>2.0</td>\n",
       "      <td>NO</td>\n",
       "      <td>NO</td>\n",
       "      <td>...</td>\n",
       "      <td>PUBLIC</td>\n",
       "      <td>1090</td>\n",
       "      <td>1070</td>\n",
       "      <td>200</td>\n",
       "      <td>270</td>\n",
       "      <td>2010</td>\n",
       "      <td>0</td>\n",
       "      <td>4079 Letitia Avenue South, Seattle, Washington...</td>\n",
       "      <td>47.566110</td>\n",
       "      <td>-122.29020</td>\n",
       "    </tr>\n",
       "    <tr>\n",
       "      <th>4</th>\n",
       "      <td>8562780790</td>\n",
       "      <td>8/24/2021</td>\n",
       "      <td>592500.0</td>\n",
       "      <td>2</td>\n",
       "      <td>2.0</td>\n",
       "      <td>1120</td>\n",
       "      <td>758</td>\n",
       "      <td>2.0</td>\n",
       "      <td>NO</td>\n",
       "      <td>NO</td>\n",
       "      <td>...</td>\n",
       "      <td>PUBLIC</td>\n",
       "      <td>1120</td>\n",
       "      <td>550</td>\n",
       "      <td>550</td>\n",
       "      <td>30</td>\n",
       "      <td>2012</td>\n",
       "      <td>0</td>\n",
       "      <td>2193 Northwest Talus Drive, Issaquah, Washingt...</td>\n",
       "      <td>47.532470</td>\n",
       "      <td>-122.07188</td>\n",
       "    </tr>\n",
       "  </tbody>\n",
       "</table>\n",
       "<p>5 rows × 25 columns</p>\n",
       "</div>"
      ],
      "text/plain": [
       "           id        date     price  bedrooms  bathrooms  sqft_living  \\\n",
       "0  7399300360   5/24/2022  675000.0         4        1.0         1180   \n",
       "1  8910500230  12/13/2021  920000.0         5        2.5         2770   \n",
       "2  1180000275   9/29/2021  311000.0         6        2.0         2880   \n",
       "3  1604601802  12/14/2021  775000.0         3        3.0         2160   \n",
       "4  8562780790   8/24/2021  592500.0         2        2.0         1120   \n",
       "\n",
       "   sqft_lot  floors waterfront greenbelt  ... sewer_system sqft_above  \\\n",
       "0      7140     1.0         NO        NO  ...       PUBLIC       1180   \n",
       "1      6703     1.0         NO        NO  ...       PUBLIC       1570   \n",
       "2      6156     1.0         NO        NO  ...       PUBLIC       1580   \n",
       "3      1400     2.0         NO        NO  ...       PUBLIC       1090   \n",
       "4       758     2.0         NO        NO  ...       PUBLIC       1120   \n",
       "\n",
       "  sqft_basement sqft_garage sqft_patio yr_built  yr_renovated  \\\n",
       "0             0           0         40     1969             0   \n",
       "1          1570           0        240     1950             0   \n",
       "2          1580           0          0     1956             0   \n",
       "3          1070         200        270     2010             0   \n",
       "4           550         550         30     2012             0   \n",
       "\n",
       "                                             address        lat       long  \n",
       "0  2102 Southeast 21st Court, Renton, Washington ...  47.461975 -122.19052  \n",
       "1  11231 Greenwood Avenue North, Seattle, Washing...  47.711525 -122.35591  \n",
       "2  8504 South 113th Street, Seattle, Washington 9...  47.502045 -122.22520  \n",
       "3  4079 Letitia Avenue South, Seattle, Washington...  47.566110 -122.29020  \n",
       "4  2193 Northwest Talus Drive, Issaquah, Washingt...  47.532470 -122.07188  \n",
       "\n",
       "[5 rows x 25 columns]"
      ]
     },
     "execution_count": 2,
     "metadata": {},
     "output_type": "execute_result"
    }
   ],
   "source": [
    "# reading in the King County dataset to Pandas\n",
    "df = pd.read_csv('data/kc_house_data.csv')\n",
    "df.head()"
   ]
  },
  {
   "cell_type": "markdown",
   "metadata": {
    "index": 8
   },
   "source": [
    "### Data Exploration"
   ]
  },
  {
   "cell_type": "code",
   "execution_count": 3,
   "metadata": {},
   "outputs": [
    {
     "name": "stdout",
     "output_type": "stream",
     "text": [
      "<class 'pandas.core.frame.DataFrame'>\n",
      "RangeIndex: 30155 entries, 0 to 30154\n",
      "Data columns (total 25 columns):\n",
      " #   Column         Non-Null Count  Dtype  \n",
      "---  ------         --------------  -----  \n",
      " 0   id             30155 non-null  int64  \n",
      " 1   date           30155 non-null  object \n",
      " 2   price          30155 non-null  float64\n",
      " 3   bedrooms       30155 non-null  int64  \n",
      " 4   bathrooms      30155 non-null  float64\n",
      " 5   sqft_living    30155 non-null  int64  \n",
      " 6   sqft_lot       30155 non-null  int64  \n",
      " 7   floors         30155 non-null  float64\n",
      " 8   waterfront     30155 non-null  object \n",
      " 9   greenbelt      30155 non-null  object \n",
      " 10  nuisance       30155 non-null  object \n",
      " 11  view           30155 non-null  object \n",
      " 12  condition      30155 non-null  object \n",
      " 13  grade          30155 non-null  object \n",
      " 14  heat_source    30123 non-null  object \n",
      " 15  sewer_system   30141 non-null  object \n",
      " 16  sqft_above     30155 non-null  int64  \n",
      " 17  sqft_basement  30155 non-null  int64  \n",
      " 18  sqft_garage    30155 non-null  int64  \n",
      " 19  sqft_patio     30155 non-null  int64  \n",
      " 20  yr_built       30155 non-null  int64  \n",
      " 21  yr_renovated   30155 non-null  int64  \n",
      " 22  address        30155 non-null  object \n",
      " 23  lat            30155 non-null  float64\n",
      " 24  long           30155 non-null  float64\n",
      "dtypes: float64(5), int64(10), object(10)\n",
      "memory usage: 5.8+ MB\n"
     ]
    }
   ],
   "source": [
    "df.info()"
   ]
  },
  {
   "cell_type": "code",
   "execution_count": 4,
   "metadata": {},
   "outputs": [],
   "source": [
    "# dropping the placeholder column\n",
    "df.drop(labels='id', axis=1, inplace=True)"
   ]
  },
  {
   "cell_type": "code",
   "execution_count": 5,
   "metadata": {},
   "outputs": [],
   "source": [
    "# converting all dates to datetime\n",
    "df['date'] = pd.to_datetime(df['date'])"
   ]
  },
  {
   "cell_type": "code",
   "execution_count": 6,
   "metadata": {},
   "outputs": [],
   "source": [
    "# isolating the zip code \n",
    "# alternative methods to achieve same\n",
    "# df['Zipcode'] = df['address'].str.extract(r'(\\d{5}\\-?\\d{0,4})')\n",
    "# df['address'][0].split(',')[2][-5:]\n",
    "# df['address'][1000][-20:-15]"
   ]
  },
  {
   "cell_type": "code",
   "execution_count": 7,
   "metadata": {},
   "outputs": [],
   "source": [
    "df['Zipcode'] = df['address'].apply(lambda x: x[-20:-15])"
   ]
  },
  {
   "cell_type": "code",
   "execution_count": 8,
   "metadata": {},
   "outputs": [],
   "source": [
    "df['Zipcode'] = df['Zipcode'].astype(int)"
   ]
  },
  {
   "cell_type": "code",
   "execution_count": 9,
   "metadata": {},
   "outputs": [
    {
     "data": {
      "text/plain": [
       "<AxesSubplot:>"
      ]
     },
     "execution_count": 9,
     "metadata": {},
     "output_type": "execute_result"
    },
    {
     "data": {
      "image/png": "[encoded data removed]",
      "text/plain": [
       "<Figure size 432x288 with 1 Axes>"
      ]
     },
     "metadata": {
      "needs_background": "light"
     },
     "output_type": "display_data"
    }
   ],
   "source": [
    "df['Zipcode'].hist()"
   ]
  },
  {
   "cell_type": "code",
   "execution_count": 10,
   "metadata": {},
   "outputs": [],
   "source": [
    "# controling for outliers\n",
    "df = df.loc[(df['Zipcode'] > 98000) & (df['Zipcode'] <= 98288)]"
   ]
  },
  {
   "cell_type": "code",
   "execution_count": 11,
   "metadata": {},
   "outputs": [
    {
     "data": {
      "text/html": [
       "<div>\n",
       "<style scoped>\n",
       "    .dataframe tbody tr th:only-of-type {\n",
       "        vertical-align: middle;\n",
       "    }\n",
       "\n",
       "    .dataframe tbody tr th {\n",
       "        vertical-align: top;\n",
       "    }\n",
       "\n",
       "    .dataframe thead th {\n",
       "        text-align: right;\n",
       "    }\n",
       "</style>\n",
       "<table border=\"1\" class=\"dataframe\">\n",
       "  <thead>\n",
       "    <tr style=\"text-align: right;\">\n",
       "      <th></th>\n",
       "      <th>Neighborhood</th>\n",
       "      <th>Population</th>\n",
       "    </tr>\n",
       "    <tr>\n",
       "      <th>ZIP Code</th>\n",
       "      <th></th>\n",
       "      <th></th>\n",
       "    </tr>\n",
       "  </thead>\n",
       "  <tbody>\n",
       "    <tr>\n",
       "      <th>98001</th>\n",
       "      <td>Auburn</td>\n",
       "      <td>31911.0</td>\n",
       "    </tr>\n",
       "    <tr>\n",
       "      <th>98002</th>\n",
       "      <td>Auburn</td>\n",
       "      <td>31647.0</td>\n",
       "    </tr>\n",
       "    <tr>\n",
       "      <th>98003</th>\n",
       "      <td>Federal Way</td>\n",
       "      <td>44151.0</td>\n",
       "    </tr>\n",
       "    <tr>\n",
       "      <th>98004</th>\n",
       "      <td>Bellevue</td>\n",
       "      <td>27946.0</td>\n",
       "    </tr>\n",
       "    <tr>\n",
       "      <th>98005</th>\n",
       "      <td>Bellevue</td>\n",
       "      <td>17714.0</td>\n",
       "    </tr>\n",
       "  </tbody>\n",
       "</table>\n",
       "</div>"
      ],
      "text/plain": [
       "         Neighborhood  Population\n",
       "ZIP Code                         \n",
       "98001          Auburn     31911.0\n",
       "98002          Auburn     31647.0\n",
       "98003     Federal Way     44151.0\n",
       "98004        Bellevue     27946.0\n",
       "98005        Bellevue     17714.0"
      ]
     },
     "execution_count": 11,
     "metadata": {},
     "output_type": "execute_result"
    }
   ],
   "source": [
    "# reading in Zip/Neighborhood/Population dataset\n",
    "df_zip = pd.read_csv('data/kc_zipcode_details.csv', index_col=0)\n",
    "df_zip.head()"
   ]
  },
  {
   "cell_type": "code",
   "execution_count": 12,
   "metadata": {},
   "outputs": [
    {
     "data": {
      "text/plain": [
       "38"
      ]
     },
     "execution_count": 12,
     "metadata": {},
     "output_type": "execute_result"
    }
   ],
   "source": [
    "df_zip.Neighborhood.nunique()"
   ]
  },
  {
   "cell_type": "code",
   "execution_count": 13,
   "metadata": {},
   "outputs": [],
   "source": [
    "# changing index name to match other dataset\n",
    "df_zip.index.names = ['Zipcode']"
   ]
  },
  {
   "cell_type": "code",
   "execution_count": 14,
   "metadata": {},
   "outputs": [
    {
     "data": {
      "text/html": [
       "<div>\n",
       "<style scoped>\n",
       "    .dataframe tbody tr th:only-of-type {\n",
       "        vertical-align: middle;\n",
       "    }\n",
       "\n",
       "    .dataframe tbody tr th {\n",
       "        vertical-align: top;\n",
       "    }\n",
       "\n",
       "    .dataframe thead th {\n",
       "        text-align: right;\n",
       "    }\n",
       "</style>\n",
       "<table border=\"1\" class=\"dataframe\">\n",
       "  <thead>\n",
       "    <tr style=\"text-align: right;\">\n",
       "      <th></th>\n",
       "      <th>Zipcode</th>\n",
       "      <th>Neighborhood</th>\n",
       "      <th>Population</th>\n",
       "    </tr>\n",
       "  </thead>\n",
       "  <tbody>\n",
       "    <tr>\n",
       "      <th>0</th>\n",
       "      <td>98001</td>\n",
       "      <td>Auburn</td>\n",
       "      <td>31911.0</td>\n",
       "    </tr>\n",
       "    <tr>\n",
       "      <th>1</th>\n",
       "      <td>98002</td>\n",
       "      <td>Auburn</td>\n",
       "      <td>31647.0</td>\n",
       "    </tr>\n",
       "    <tr>\n",
       "      <th>2</th>\n",
       "      <td>98003</td>\n",
       "      <td>Federal Way</td>\n",
       "      <td>44151.0</td>\n",
       "    </tr>\n",
       "    <tr>\n",
       "      <th>3</th>\n",
       "      <td>98004</td>\n",
       "      <td>Bellevue</td>\n",
       "      <td>27946.0</td>\n",
       "    </tr>\n",
       "    <tr>\n",
       "      <th>4</th>\n",
       "      <td>98005</td>\n",
       "      <td>Bellevue</td>\n",
       "      <td>17714.0</td>\n",
       "    </tr>\n",
       "  </tbody>\n",
       "</table>\n",
       "</div>"
      ],
      "text/plain": [
       "   Zipcode Neighborhood  Population\n",
       "0    98001       Auburn     31911.0\n",
       "1    98002       Auburn     31647.0\n",
       "2    98003  Federal Way     44151.0\n",
       "3    98004     Bellevue     27946.0\n",
       "4    98005     Bellevue     17714.0"
      ]
     },
     "execution_count": 14,
     "metadata": {},
     "output_type": "execute_result"
    }
   ],
   "source": [
    "df_zip.reset_index(inplace=True)\n",
    "df_zip.head()"
   ]
  },
  {
   "cell_type": "code",
   "execution_count": 15,
   "metadata": {},
   "outputs": [
    {
     "data": {
      "text/plain": [
       "<AxesSubplot:>"
      ]
     },
     "execution_count": 15,
     "metadata": {},
     "output_type": "execute_result"
    },
    {
     "data": {
      "image/png": "[encoded data removed]",
      "text/plain": [
       "<Figure size 432x288 with 1 Axes>"
      ]
     },
     "metadata": {
      "needs_background": "light"
     },
     "output_type": "display_data"
    }
   ],
   "source": [
    "# Outliers\n",
    "df_zip['Zipcode'].hist()"
   ]
  },
  {
   "cell_type": "code",
   "execution_count": 16,
   "metadata": {},
   "outputs": [],
   "source": [
    "# controlling for outliers\n",
    "df_zip = df_zip.loc[(df_zip['Zipcode'] > 98000) & (df_zip['Zipcode'] <= 98288)]"
   ]
  },
  {
   "cell_type": "code",
   "execution_count": 17,
   "metadata": {},
   "outputs": [
    {
     "data": {
      "text/plain": [
       "Zipcode         124\n",
       "Neighborhood     34\n",
       "Population       81\n",
       "dtype: int64"
      ]
     },
     "execution_count": 17,
     "metadata": {},
     "output_type": "execute_result"
    }
   ],
   "source": [
    "df_zip.nunique()"
   ]
  },
  {
   "cell_type": "code",
   "execution_count": 18,
   "metadata": {
    "scrolled": true
   },
   "outputs": [
    {
     "data": {
      "text/plain": [
       "81"
      ]
     },
     "execution_count": 18,
     "metadata": {},
     "output_type": "execute_result"
    }
   ],
   "source": [
    "df['Zipcode'].nunique()"
   ]
  },
  {
   "cell_type": "markdown",
   "metadata": {},
   "source": [
    "### Renaming Selldate"
   ]
  },
  {
   "cell_type": "code",
   "execution_count": 19,
   "metadata": {},
   "outputs": [],
   "source": [
    "# renaming date to selldate\n",
    "rnmdate = {'date':'selldate'}\n",
    "df.rename(columns=rnmdate, inplace=True)"
   ]
  },
  {
   "cell_type": "markdown",
   "metadata": {},
   "source": [
    "## Engineering Yr_Old"
   ]
  },
  {
   "cell_type": "code",
   "execution_count": 20,
   "metadata": {},
   "outputs": [],
   "source": [
    "# creating a year old column\n",
    "df['yr_old'] = np.where(df['yr_renovated'] !=0,df.selldate.apply(lambda x: x.year) - df['yr_renovated'],\n",
    "                        df['selldate'].apply(lambda x: x.year) - df['yr_built'])"
   ]
  },
  {
   "cell_type": "code",
   "execution_count": 21,
   "metadata": {},
   "outputs": [
    {
     "data": {
      "text/html": [
       "<div>\n",
       "<style scoped>\n",
       "    .dataframe tbody tr th:only-of-type {\n",
       "        vertical-align: middle;\n",
       "    }\n",
       "\n",
       "    .dataframe tbody tr th {\n",
       "        vertical-align: top;\n",
       "    }\n",
       "\n",
       "    .dataframe thead th {\n",
       "        text-align: right;\n",
       "    }\n",
       "</style>\n",
       "<table border=\"1\" class=\"dataframe\">\n",
       "  <thead>\n",
       "    <tr style=\"text-align: right;\">\n",
       "      <th></th>\n",
       "      <th>price</th>\n",
       "      <th>bedrooms</th>\n",
       "      <th>bathrooms</th>\n",
       "      <th>sqft_living</th>\n",
       "      <th>sqft_lot</th>\n",
       "      <th>floors</th>\n",
       "      <th>sqft_above</th>\n",
       "      <th>sqft_basement</th>\n",
       "      <th>sqft_garage</th>\n",
       "      <th>sqft_patio</th>\n",
       "      <th>yr_built</th>\n",
       "      <th>yr_renovated</th>\n",
       "      <th>lat</th>\n",
       "      <th>long</th>\n",
       "      <th>Zipcode</th>\n",
       "      <th>yr_old</th>\n",
       "    </tr>\n",
       "  </thead>\n",
       "  <tbody>\n",
       "    <tr>\n",
       "      <th>count</th>\n",
       "      <td>2.920800e+04</td>\n",
       "      <td>29208.000000</td>\n",
       "      <td>29208.000000</td>\n",
       "      <td>29208.000000</td>\n",
       "      <td>2.920800e+04</td>\n",
       "      <td>29208.000000</td>\n",
       "      <td>29208.000000</td>\n",
       "      <td>29208.000000</td>\n",
       "      <td>29208.000000</td>\n",
       "      <td>29208.000000</td>\n",
       "      <td>29208.000000</td>\n",
       "      <td>29208.000000</td>\n",
       "      <td>29208.000000</td>\n",
       "      <td>29208.000000</td>\n",
       "      <td>29208.000000</td>\n",
       "      <td>29208.000000</td>\n",
       "    </tr>\n",
       "    <tr>\n",
       "      <th>mean</th>\n",
       "      <td>1.113195e+06</td>\n",
       "      <td>3.435497</td>\n",
       "      <td>2.332221</td>\n",
       "      <td>2131.250342</td>\n",
       "      <td>1.720087e+04</td>\n",
       "      <td>1.516947</td>\n",
       "      <td>1826.203437</td>\n",
       "      <td>480.945974</td>\n",
       "      <td>336.247364</td>\n",
       "      <td>216.391742</td>\n",
       "      <td>1973.852267</td>\n",
       "      <td>93.870241</td>\n",
       "      <td>47.543569</td>\n",
       "      <td>-122.214082</td>\n",
       "      <td>98077.348740</td>\n",
       "      <td>44.764688</td>\n",
       "    </tr>\n",
       "    <tr>\n",
       "      <th>std</th>\n",
       "      <td>8.956666e+05</td>\n",
       "      <td>0.978918</td>\n",
       "      <td>0.896185</td>\n",
       "      <td>977.621843</td>\n",
       "      <td>6.129149e+04</td>\n",
       "      <td>0.548426</td>\n",
       "      <td>881.013444</td>\n",
       "      <td>586.026595</td>\n",
       "      <td>286.269126</td>\n",
       "      <td>246.817642</td>\n",
       "      <td>31.688131</td>\n",
       "      <td>422.843882</td>\n",
       "      <td>0.146367</td>\n",
       "      <td>0.143646</td>\n",
       "      <td>54.326649</td>\n",
       "      <td>31.012330</td>\n",
       "    </tr>\n",
       "    <tr>\n",
       "      <th>min</th>\n",
       "      <td>2.736000e+04</td>\n",
       "      <td>0.000000</td>\n",
       "      <td>0.000000</td>\n",
       "      <td>3.000000</td>\n",
       "      <td>4.020000e+02</td>\n",
       "      <td>1.000000</td>\n",
       "      <td>2.000000</td>\n",
       "      <td>0.000000</td>\n",
       "      <td>0.000000</td>\n",
       "      <td>0.000000</td>\n",
       "      <td>1900.000000</td>\n",
       "      <td>0.000000</td>\n",
       "      <td>47.155265</td>\n",
       "      <td>-122.526650</td>\n",
       "      <td>98001.000000</td>\n",
       "      <td>-1.000000</td>\n",
       "    </tr>\n",
       "    <tr>\n",
       "      <th>25%</th>\n",
       "      <td>6.450000e+05</td>\n",
       "      <td>3.000000</td>\n",
       "      <td>2.000000</td>\n",
       "      <td>1440.000000</td>\n",
       "      <td>5.000000e+03</td>\n",
       "      <td>1.000000</td>\n",
       "      <td>1190.000000</td>\n",
       "      <td>0.000000</td>\n",
       "      <td>0.000000</td>\n",
       "      <td>40.000000</td>\n",
       "      <td>1952.000000</td>\n",
       "      <td>0.000000</td>\n",
       "      <td>47.431060</td>\n",
       "      <td>-122.328355</td>\n",
       "      <td>98032.000000</td>\n",
       "      <td>18.000000</td>\n",
       "    </tr>\n",
       "    <tr>\n",
       "      <th>50%</th>\n",
       "      <td>8.689000e+05</td>\n",
       "      <td>3.000000</td>\n",
       "      <td>2.500000</td>\n",
       "      <td>1940.000000</td>\n",
       "      <td>7.560000e+03</td>\n",
       "      <td>1.500000</td>\n",
       "      <td>1580.000000</td>\n",
       "      <td>0.000000</td>\n",
       "      <td>400.000000</td>\n",
       "      <td>141.500000</td>\n",
       "      <td>1976.000000</td>\n",
       "      <td>0.000000</td>\n",
       "      <td>47.557997</td>\n",
       "      <td>-122.233798</td>\n",
       "      <td>98059.000000</td>\n",
       "      <td>43.000000</td>\n",
       "    </tr>\n",
       "    <tr>\n",
       "      <th>75%</th>\n",
       "      <td>1.310000e+06</td>\n",
       "      <td>4.000000</td>\n",
       "      <td>3.000000</td>\n",
       "      <td>2640.000000</td>\n",
       "      <td>1.078075e+04</td>\n",
       "      <td>2.000000</td>\n",
       "      <td>2290.000000</td>\n",
       "      <td>960.000000</td>\n",
       "      <td>510.250000</td>\n",
       "      <td>310.000000</td>\n",
       "      <td>2001.000000</td>\n",
       "      <td>0.000000</td>\n",
       "      <td>47.672063</td>\n",
       "      <td>-122.127324</td>\n",
       "      <td>98117.000000</td>\n",
       "      <td>66.000000</td>\n",
       "    </tr>\n",
       "    <tr>\n",
       "      <th>max</th>\n",
       "      <td>3.075000e+07</td>\n",
       "      <td>13.000000</td>\n",
       "      <td>10.500000</td>\n",
       "      <td>15360.000000</td>\n",
       "      <td>3.253932e+06</td>\n",
       "      <td>4.000000</td>\n",
       "      <td>12660.000000</td>\n",
       "      <td>8020.000000</td>\n",
       "      <td>3580.000000</td>\n",
       "      <td>4370.000000</td>\n",
       "      <td>2022.000000</td>\n",
       "      <td>2022.000000</td>\n",
       "      <td>48.111504</td>\n",
       "      <td>-121.163960</td>\n",
       "      <td>98288.000000</td>\n",
       "      <td>122.000000</td>\n",
       "    </tr>\n",
       "  </tbody>\n",
       "</table>\n",
       "</div>"
      ],
      "text/plain": [
       "              price      bedrooms     bathrooms   sqft_living      sqft_lot  \\\n",
       "count  2.920800e+04  29208.000000  29208.000000  29208.000000  2.920800e+04   \n",
       "mean   1.113195e+06      3.435497      2.332221   2131.250342  1.720087e+04   \n",
       "std    8.956666e+05      0.978918      0.896185    977.621843  6.129149e+04   \n",
       "min    2.736000e+04      0.000000      0.000000      3.000000  4.020000e+02   \n",
       "25%    6.450000e+05      3.000000      2.000000   1440.000000  5.000000e+03   \n",
       "50%    8.689000e+05      3.000000      2.500000   1940.000000  7.560000e+03   \n",
       "75%    1.310000e+06      4.000000      3.000000   2640.000000  1.078075e+04   \n",
       "max    3.075000e+07     13.000000     10.500000  15360.000000  3.253932e+06   \n",
       "\n",
       "             floors    sqft_above  sqft_basement   sqft_garage    sqft_patio  \\\n",
       "count  29208.000000  29208.000000   29208.000000  29208.000000  29208.000000   \n",
       "mean       1.516947   1826.203437     480.945974    336.247364    216.391742   \n",
       "std        0.548426    881.013444     586.026595    286.269126    246.817642   \n",
       "min        1.000000      2.000000       0.000000      0.000000      0.000000   \n",
       "25%        1.000000   1190.000000       0.000000      0.000000     40.000000   \n",
       "50%        1.500000   1580.000000       0.000000    400.000000    141.500000   \n",
       "75%        2.000000   2290.000000     960.000000    510.250000    310.000000   \n",
       "max        4.000000  12660.000000    8020.000000   3580.000000   4370.000000   \n",
       "\n",
       "           yr_built  yr_renovated           lat          long       Zipcode  \\\n",
       "count  29208.000000  29208.000000  29208.000000  29208.000000  29208.000000   \n",
       "mean    1973.852267     93.870241     47.543569   -122.214082  98077.348740   \n",
       "std       31.688131    422.843882      0.146367      0.143646     54.326649   \n",
       "min     1900.000000      0.000000     47.155265   -122.526650  98001.000000   \n",
       "25%     1952.000000      0.000000     47.431060   -122.328355  98032.000000   \n",
       "50%     1976.000000      0.000000     47.557997   -122.233798  98059.000000   \n",
       "75%     2001.000000      0.000000     47.672063   -122.127324  98117.000000   \n",
       "max     2022.000000   2022.000000     48.111504   -121.163960  98288.000000   \n",
       "\n",
       "             yr_old  \n",
       "count  29208.000000  \n",
       "mean      44.764688  \n",
       "std       31.012330  \n",
       "min       -1.000000  \n",
       "25%       18.000000  \n",
       "50%       43.000000  \n",
       "75%       66.000000  \n",
       "max      122.000000  "
      ]
     },
     "execution_count": 21,
     "metadata": {},
     "output_type": "execute_result"
    }
   ],
   "source": [
    "df.describe()"
   ]
  },
  {
   "cell_type": "code",
   "execution_count": 22,
   "metadata": {},
   "outputs": [],
   "source": [
    "# controlling for dates where house was sold after renovation\n",
    "df.loc[df['yr_old'] < 0, 'yr_old'] = 0"
   ]
  },
  {
   "cell_type": "code",
   "execution_count": 23,
   "metadata": {},
   "outputs": [
    {
     "data": {
      "text/plain": [
       "0      1365\n",
       "1       659\n",
       "44      504\n",
       "54      478\n",
       "16      468\n",
       "       ... \n",
       "122      32\n",
       "87       31\n",
       "88       30\n",
       "119      30\n",
       "120      27\n",
       "Name: yr_old, Length: 123, dtype: int64"
      ]
     },
     "execution_count": 23,
     "metadata": {},
     "output_type": "execute_result"
    }
   ],
   "source": [
    "df.yr_old.value_counts()"
   ]
  },
  {
   "cell_type": "markdown",
   "metadata": {},
   "source": [
    "### Data Cleaning"
   ]
  },
  {
   "cell_type": "code",
   "execution_count": 24,
   "metadata": {},
   "outputs": [
    {
     "data": {
      "text/plain": [
       "selldate         0.000000\n",
       "price            0.000000\n",
       "bedrooms         0.000000\n",
       "bathrooms        0.000000\n",
       "sqft_living      0.000000\n",
       "sqft_lot         0.000000\n",
       "floors           0.000000\n",
       "waterfront       0.000000\n",
       "greenbelt        0.000000\n",
       "nuisance         0.000000\n",
       "view             0.000000\n",
       "condition        0.000000\n",
       "grade            0.000000\n",
       "heat_source      0.000993\n",
       "sewer_system     0.000445\n",
       "sqft_above       0.000000\n",
       "sqft_basement    0.000000\n",
       "sqft_garage      0.000000\n",
       "sqft_patio       0.000000\n",
       "yr_built         0.000000\n",
       "yr_renovated     0.000000\n",
       "address          0.000000\n",
       "lat              0.000000\n",
       "long             0.000000\n",
       "Zipcode          0.000000\n",
       "yr_old           0.000000\n",
       "dtype: float64"
      ]
     },
     "execution_count": 24,
     "metadata": {},
     "output_type": "execute_result"
    }
   ],
   "source": [
    "# identifying missing values \n",
    "df.isna().sum()/df.shape[0]"
   ]
  },
  {
   "cell_type": "code",
   "execution_count": 25,
   "metadata": {},
   "outputs": [],
   "source": [
    "# remove missing values in columns\n",
    "df.dropna(subset=['heat_source', 'sewer_system'], axis=0, inplace=True)"
   ]
  },
  {
   "cell_type": "code",
   "execution_count": 26,
   "metadata": {},
   "outputs": [
    {
     "data": {
      "text/plain": [
       "Zipcode         0.00000\n",
       "Neighborhood    0.00000\n",
       "Population      0.00144\n",
       "dtype: float64"
      ]
     },
     "execution_count": 26,
     "metadata": {},
     "output_type": "execute_result"
    }
   ],
   "source": [
    "# identify missing values in zip code data\n",
    "df_zip.isna().sum()/df.shape[0]"
   ]
  },
  {
   "cell_type": "code",
   "execution_count": 27,
   "metadata": {},
   "outputs": [],
   "source": [
    "df_zip.dropna(subset=['Population'], axis=0, inplace=True)"
   ]
  },
  {
   "cell_type": "markdown",
   "metadata": {},
   "source": [
    "## Merge on zipcode to include neighborhood/population"
   ]
  },
  {
   "cell_type": "code",
   "execution_count": 28,
   "metadata": {},
   "outputs": [],
   "source": [
    "df1 = df.merge(df_zip, how='left', on='Zipcode')"
   ]
  },
  {
   "cell_type": "code",
   "execution_count": 29,
   "metadata": {},
   "outputs": [
    {
     "name": "stdout",
     "output_type": "stream",
     "text": [
      "<class 'pandas.core.frame.DataFrame'>\n",
      "Int64Index: 29168 entries, 0 to 29167\n",
      "Data columns (total 28 columns):\n",
      " #   Column         Non-Null Count  Dtype         \n",
      "---  ------         --------------  -----         \n",
      " 0   selldate       29168 non-null  datetime64[ns]\n",
      " 1   price          29168 non-null  float64       \n",
      " 2   bedrooms       29168 non-null  int64         \n",
      " 3   bathrooms      29168 non-null  float64       \n",
      " 4   sqft_living    29168 non-null  int64         \n",
      " 5   sqft_lot       29168 non-null  int64         \n",
      " 6   floors         29168 non-null  float64       \n",
      " 7   waterfront     29168 non-null  object        \n",
      " 8   greenbelt      29168 non-null  object        \n",
      " 9   nuisance       29168 non-null  object        \n",
      " 10  view           29168 non-null  object        \n",
      " 11  condition      29168 non-null  object        \n",
      " 12  grade          29168 non-null  object        \n",
      " 13  heat_source    29168 non-null  object        \n",
      " 14  sewer_system   29168 non-null  object        \n",
      " 15  sqft_above     29168 non-null  int64         \n",
      " 16  sqft_basement  29168 non-null  int64         \n",
      " 17  sqft_garage    29168 non-null  int64         \n",
      " 18  sqft_patio     29168 non-null  int64         \n",
      " 19  yr_built       29168 non-null  int64         \n",
      " 20  yr_renovated   29168 non-null  int64         \n",
      " 21  address        29168 non-null  object        \n",
      " 22  lat            29168 non-null  float64       \n",
      " 23  long           29168 non-null  float64       \n",
      " 24  Zipcode        29168 non-null  int64         \n",
      " 25  yr_old         29168 non-null  int64         \n",
      " 26  Neighborhood   29152 non-null  object        \n",
      " 27  Population     29152 non-null  float64       \n",
      "dtypes: datetime64[ns](1), float64(6), int64(11), object(10)\n",
      "memory usage: 6.5+ MB\n"
     ]
    }
   ],
   "source": [
    "df1.info()"
   ]
  },
  {
   "cell_type": "code",
   "execution_count": 30,
   "metadata": {},
   "outputs": [
    {
     "data": {
      "text/plain": [
       "selldate         0.000000\n",
       "price            0.000000\n",
       "bedrooms         0.000000\n",
       "bathrooms        0.000000\n",
       "sqft_living      0.000000\n",
       "sqft_lot         0.000000\n",
       "floors           0.000000\n",
       "waterfront       0.000000\n",
       "greenbelt        0.000000\n",
       "nuisance         0.000000\n",
       "view             0.000000\n",
       "condition        0.000000\n",
       "grade            0.000000\n",
       "heat_source      0.000000\n",
       "sewer_system     0.000000\n",
       "sqft_above       0.000000\n",
       "sqft_basement    0.000000\n",
       "sqft_garage      0.000000\n",
       "sqft_patio       0.000000\n",
       "yr_built         0.000000\n",
       "yr_renovated     0.000000\n",
       "address          0.000000\n",
       "lat              0.000000\n",
       "long             0.000000\n",
       "Zipcode          0.000000\n",
       "yr_old           0.000000\n",
       "Neighborhood     0.000549\n",
       "Population       0.000549\n",
       "dtype: float64"
      ]
     },
     "execution_count": 30,
     "metadata": {},
     "output_type": "execute_result"
    }
   ],
   "source": [
    "# identify missing data in new dataset\n",
    "df1.isna().sum()/df.shape[0]"
   ]
  },
  {
   "cell_type": "code",
   "execution_count": 31,
   "metadata": {},
   "outputs": [],
   "source": [
    "df1.dropna(subset=['Population', 'Neighborhood'], axis=0, inplace=True)"
   ]
  },
  {
   "cell_type": "code",
   "execution_count": 32,
   "metadata": {},
   "outputs": [
    {
     "name": "stdout",
     "output_type": "stream",
     "text": [
      "<class 'pandas.core.frame.DataFrame'>\n",
      "Int64Index: 29152 entries, 0 to 29167\n",
      "Data columns (total 28 columns):\n",
      " #   Column         Non-Null Count  Dtype         \n",
      "---  ------         --------------  -----         \n",
      " 0   selldate       29152 non-null  datetime64[ns]\n",
      " 1   price          29152 non-null  float64       \n",
      " 2   bedrooms       29152 non-null  int64         \n",
      " 3   bathrooms      29152 non-null  float64       \n",
      " 4   sqft_living    29152 non-null  int64         \n",
      " 5   sqft_lot       29152 non-null  int64         \n",
      " 6   floors         29152 non-null  float64       \n",
      " 7   waterfront     29152 non-null  object        \n",
      " 8   greenbelt      29152 non-null  object        \n",
      " 9   nuisance       29152 non-null  object        \n",
      " 10  view           29152 non-null  object        \n",
      " 11  condition      29152 non-null  object        \n",
      " 12  grade          29152 non-null  object        \n",
      " 13  heat_source    29152 non-null  object        \n",
      " 14  sewer_system   29152 non-null  object        \n",
      " 15  sqft_above     29152 non-null  int64         \n",
      " 16  sqft_basement  29152 non-null  int64         \n",
      " 17  sqft_garage    29152 non-null  int64         \n",
      " 18  sqft_patio     29152 non-null  int64         \n",
      " 19  yr_built       29152 non-null  int64         \n",
      " 20  yr_renovated   29152 non-null  int64         \n",
      " 21  address        29152 non-null  object        \n",
      " 22  lat            29152 non-null  float64       \n",
      " 23  long           29152 non-null  float64       \n",
      " 24  Zipcode        29152 non-null  int64         \n",
      " 25  yr_old         29152 non-null  int64         \n",
      " 26  Neighborhood   29152 non-null  object        \n",
      " 27  Population     29152 non-null  float64       \n",
      "dtypes: datetime64[ns](1), float64(6), int64(11), object(10)\n",
      "memory usage: 6.4+ MB\n"
     ]
    }
   ],
   "source": [
    "df1.info()"
   ]
  },
  {
   "cell_type": "code",
   "execution_count": 33,
   "metadata": {},
   "outputs": [
    {
     "data": {
      "text/plain": [
       "selldate         0.0\n",
       "price            0.0\n",
       "bedrooms         0.0\n",
       "bathrooms        0.0\n",
       "sqft_living      0.0\n",
       "sqft_lot         0.0\n",
       "floors           0.0\n",
       "waterfront       0.0\n",
       "greenbelt        0.0\n",
       "nuisance         0.0\n",
       "view             0.0\n",
       "condition        0.0\n",
       "grade            0.0\n",
       "heat_source      0.0\n",
       "sewer_system     0.0\n",
       "sqft_above       0.0\n",
       "sqft_basement    0.0\n",
       "sqft_garage      0.0\n",
       "sqft_patio       0.0\n",
       "yr_built         0.0\n",
       "yr_renovated     0.0\n",
       "address          0.0\n",
       "lat              0.0\n",
       "long             0.0\n",
       "Zipcode          0.0\n",
       "yr_old           0.0\n",
       "Neighborhood     0.0\n",
       "Population       0.0\n",
       "dtype: float64"
      ]
     },
     "execution_count": 33,
     "metadata": {},
     "output_type": "execute_result"
    }
   ],
   "source": [
    "df1.isna().sum()/df1.shape[0]"
   ]
  },
  {
   "cell_type": "code",
   "execution_count": 34,
   "metadata": {},
   "outputs": [],
   "source": [
    "# df1['condition'].value_counts()"
   ]
  },
  {
   "cell_type": "code",
   "execution_count": 35,
   "metadata": {},
   "outputs": [],
   "source": [
    "# df1.loc[(df1['nuisance'] == 'YES') & (df1['greenbelt'] == 'YES'), 'protected'] = 'protected'\n",
    "# df1.loc[(df1['nuisance'] != 'YES') | (df1['greenbelt'] != 'YES'), 'protected'] = 'unprotected'"
   ]
  },
  {
   "cell_type": "code",
   "execution_count": 36,
   "metadata": {},
   "outputs": [],
   "source": [
    "# df1['protected']"
   ]
  },
  {
   "cell_type": "code",
   "execution_count": 37,
   "metadata": {},
   "outputs": [],
   "source": [
    "# df1['grade'].value_counts()"
   ]
  },
  {
   "cell_type": "code",
   "execution_count": null,
   "metadata": {},
   "outputs": [],
   "source": []
  },
  {
   "cell_type": "markdown",
   "metadata": {
    "index": 33
   },
   "source": [
    "HomeSales \n",
    "standard scaling allows you to find coefficients. \n",
    "Be sure to include metric - r squared - to describe overall model performance.  \n",
    "collineriety \n",
    "log scalling\n",
    "remove outliers.  \n",
    "Increase r squared. \n",
    "\n",
    "\n",
    "1. run model\n",
    "2. see improvements, clean/feature engineer.  \n",
    "3. see coefficients becoming more accurate.\n"
   ]
  },
  {
   "cell_type": "markdown",
   "metadata": {},
   "source": [
    "## Target distribution"
   ]
  },
  {
   "cell_type": "code",
   "execution_count": 38,
   "metadata": {},
   "outputs": [
    {
     "data": {
      "text/plain": [
       "price            1.000000\n",
       "bedrooms         0.290832\n",
       "bathrooms        0.488047\n",
       "sqft_living      0.616651\n",
       "sqft_lot         0.086778\n",
       "floors           0.199824\n",
       "sqft_above       0.546001\n",
       "sqft_basement    0.246354\n",
       "sqft_garage      0.267526\n",
       "sqft_patio       0.317651\n",
       "yr_built         0.106133\n",
       "yr_renovated     0.085455\n",
       "lat              0.297267\n",
       "long             0.081310\n",
       "Zipcode         -0.104735\n",
       "yr_old          -0.138201\n",
       "Population      -0.112760\n",
       "Name: price, dtype: float64"
      ]
     },
     "execution_count": 38,
     "metadata": {},
     "output_type": "execute_result"
    }
   ],
   "source": [
    "df1.corr()['price']"
   ]
  },
  {
   "cell_type": "code",
   "execution_count": null,
   "metadata": {},
   "outputs": [],
   "source": []
  },
  {
   "cell_type": "markdown",
   "metadata": {},
   "source": [
    "## Modeling 1:08"
   ]
  },
  {
   "cell_type": "code",
   "execution_count": 39,
   "metadata": {},
   "outputs": [],
   "source": [
    "# Creating categorical variables\n",
    "cats = df1[['waterfront','greenbelt', 'nuisance', 'view', 'condition', 'heat_source', 'sewer_system', 'Neighborhood', 'grade']]\n",
    "cats1 = df1[['selldate','price','waterfront','greenbelt', 'nuisance', 'view', 'condition', 'heat_source', 'sewer_system', 'address', 'Zipcode', 'Neighborhood', 'grade']]"
   ]
  },
  {
   "cell_type": "markdown",
   "metadata": {
    "index": 35
   },
   "source": [
    "### Baseline Model"
   ]
  },
  {
   "cell_type": "code",
   "execution_count": 40,
   "metadata": {},
   "outputs": [],
   "source": [
    "pred_cols = [x for x in df1.columns if x not in cats1]"
   ]
  },
  {
   "cell_type": "code",
   "execution_count": 41,
   "metadata": {},
   "outputs": [
    {
     "data": {
      "text/plain": [
       "['bedrooms',\n",
       " 'bathrooms',\n",
       " 'sqft_living',\n",
       " 'sqft_lot',\n",
       " 'floors',\n",
       " 'sqft_above',\n",
       " 'sqft_basement',\n",
       " 'sqft_garage',\n",
       " 'sqft_patio',\n",
       " 'yr_built',\n",
       " 'yr_renovated',\n",
       " 'lat',\n",
       " 'long',\n",
       " 'yr_old',\n",
       " 'Population']"
      ]
     },
     "execution_count": 41,
     "metadata": {},
     "output_type": "execute_result"
    }
   ],
   "source": [
    "pred_cols"
   ]
  },
  {
   "cell_type": "code",
   "execution_count": 42,
   "metadata": {},
   "outputs": [],
   "source": [
    "# create baseline model\n",
    "preds = df1[pred_cols]\n",
    "target = df1['price']"
   ]
  },
  {
   "cell_type": "code",
   "execution_count": 43,
   "metadata": {},
   "outputs": [],
   "source": [
    "y = target\n",
    "X = preds\n",
    "model = sm.OLS(y, sm.add_constant(X))\n",
    "results = model.fit()"
   ]
  },
  {
   "cell_type": "code",
   "execution_count": 44,
   "metadata": {},
   "outputs": [
    {
     "data": {
      "text/html": [
       "<table class=\"simpletable\">\n",
       "<caption>OLS Regression Results</caption>\n",
       "<tr>\n",
       "  <th>Dep. Variable:</th>          <td>price</td>      <th>  R-squared:         </th>  <td>   0.486</td>  \n",
       "</tr>\n",
       "<tr>\n",
       "  <th>Model:</th>                   <td>OLS</td>       <th>  Adj. R-squared:    </th>  <td>   0.485</td>  \n",
       "</tr>\n",
       "<tr>\n",
       "  <th>Method:</th>             <td>Least Squares</td>  <th>  F-statistic:       </th>  <td>   1835.</td>  \n",
       "</tr>\n",
       "<tr>\n",
       "  <th>Date:</th>             <td>Wed, 21 Sep 2022</td> <th>  Prob (F-statistic):</th>   <td>  0.00</td>   \n",
       "</tr>\n",
       "<tr>\n",
       "  <th>Time:</th>                 <td>22:19:18</td>     <th>  Log-Likelihood:    </th> <td>-4.3121e+05</td>\n",
       "</tr>\n",
       "<tr>\n",
       "  <th>No. Observations:</th>      <td> 29152</td>      <th>  AIC:               </th>  <td>8.625e+05</td> \n",
       "</tr>\n",
       "<tr>\n",
       "  <th>Df Residuals:</th>          <td> 29136</td>      <th>  BIC:               </th>  <td>8.626e+05</td> \n",
       "</tr>\n",
       "<tr>\n",
       "  <th>Df Model:</th>              <td>    15</td>      <th>                     </th>      <td> </td>     \n",
       "</tr>\n",
       "<tr>\n",
       "  <th>Covariance Type:</th>      <td>nonrobust</td>    <th>                     </th>      <td> </td>     \n",
       "</tr>\n",
       "</table>\n",
       "<table class=\"simpletable\">\n",
       "<tr>\n",
       "        <td></td>           <th>coef</th>     <th>std err</th>      <th>t</th>      <th>P>|t|</th>  <th>[0.025</th>    <th>0.975]</th>  \n",
       "</tr>\n",
       "<tr>\n",
       "  <th>const</th>         <td>-9.983e+07</td> <td> 4.34e+06</td> <td>  -23.015</td> <td> 0.000</td> <td>-1.08e+08</td> <td>-9.13e+07</td>\n",
       "</tr>\n",
       "<tr>\n",
       "  <th>bedrooms</th>      <td>-1.353e+05</td> <td> 5210.164</td> <td>  -25.964</td> <td> 0.000</td> <td>-1.45e+05</td> <td>-1.25e+05</td>\n",
       "</tr>\n",
       "<tr>\n",
       "  <th>bathrooms</th>     <td> 1.169e+05</td> <td> 7694.176</td> <td>   15.190</td> <td> 0.000</td> <td> 1.02e+05</td> <td> 1.32e+05</td>\n",
       "</tr>\n",
       "<tr>\n",
       "  <th>sqft_living</th>   <td>  327.8317</td> <td>   17.234</td> <td>   19.022</td> <td> 0.000</td> <td>  294.052</td> <td>  361.612</td>\n",
       "</tr>\n",
       "<tr>\n",
       "  <th>sqft_lot</th>      <td>    0.1725</td> <td>    0.064</td> <td>    2.680</td> <td> 0.007</td> <td>    0.046</td> <td>    0.299</td>\n",
       "</tr>\n",
       "<tr>\n",
       "  <th>floors</th>        <td>-9.949e+04</td> <td> 9796.097</td> <td>  -10.156</td> <td> 0.000</td> <td>-1.19e+05</td> <td>-8.03e+04</td>\n",
       "</tr>\n",
       "<tr>\n",
       "  <th>sqft_above</th>    <td>  291.6381</td> <td>   17.605</td> <td>   16.566</td> <td> 0.000</td> <td>  257.132</td> <td>  326.144</td>\n",
       "</tr>\n",
       "<tr>\n",
       "  <th>sqft_basement</th> <td>   78.0302</td> <td>   13.088</td> <td>    5.962</td> <td> 0.000</td> <td>   52.377</td> <td>  103.683</td>\n",
       "</tr>\n",
       "<tr>\n",
       "  <th>sqft_garage</th>   <td>  -18.9436</td> <td>   18.425</td> <td>   -1.028</td> <td> 0.304</td> <td>  -55.058</td> <td>   17.171</td>\n",
       "</tr>\n",
       "<tr>\n",
       "  <th>sqft_patio</th>    <td>  256.9688</td> <td>   17.060</td> <td>   15.063</td> <td> 0.000</td> <td>  223.531</td> <td>  290.406</td>\n",
       "</tr>\n",
       "<tr>\n",
       "  <th>yr_built</th>      <td> 2736.3220</td> <td>  726.700</td> <td>    3.765</td> <td> 0.000</td> <td> 1311.957</td> <td> 4160.687</td>\n",
       "</tr>\n",
       "<tr>\n",
       "  <th>yr_renovated</th>  <td>  201.2133</td> <td>   22.979</td> <td>    8.756</td> <td> 0.000</td> <td>  156.173</td> <td>  246.254</td>\n",
       "</tr>\n",
       "<tr>\n",
       "  <th>lat</th>           <td> 1.561e+06</td> <td> 2.72e+04</td> <td>   57.293</td> <td> 0.000</td> <td> 1.51e+06</td> <td> 1.61e+06</td>\n",
       "</tr>\n",
       "<tr>\n",
       "  <th>long</th>          <td>-1.651e+05</td> <td>  3.2e+04</td> <td>   -5.153</td> <td> 0.000</td> <td>-2.28e+05</td> <td>-1.02e+05</td>\n",
       "</tr>\n",
       "<tr>\n",
       "  <th>yr_old</th>        <td> 4815.9255</td> <td>  730.771</td> <td>    6.590</td> <td> 0.000</td> <td> 3383.581</td> <td> 6248.270</td>\n",
       "</tr>\n",
       "<tr>\n",
       "  <th>Population</th>    <td>   -2.5537</td> <td>    0.351</td> <td>   -7.275</td> <td> 0.000</td> <td>   -3.242</td> <td>   -1.866</td>\n",
       "</tr>\n",
       "</table>\n",
       "<table class=\"simpletable\">\n",
       "<tr>\n",
       "  <th>Omnibus:</th>       <td>45295.400</td> <th>  Durbin-Watson:     </th>   <td>   1.924</td>  \n",
       "</tr>\n",
       "<tr>\n",
       "  <th>Prob(Omnibus):</th>  <td> 0.000</td>   <th>  Jarque-Bera (JB):  </th> <td>78707298.800</td>\n",
       "</tr>\n",
       "<tr>\n",
       "  <th>Skew:</th>           <td> 9.421</td>   <th>  Prob(JB):          </th>   <td>    0.00</td>  \n",
       "</tr>\n",
       "<tr>\n",
       "  <th>Kurtosis:</th>       <td>256.855</td>  <th>  Cond. No.          </th>   <td>7.35e+07</td>  \n",
       "</tr>\n",
       "</table><br/><br/>Notes:<br/>[1] Standard Errors assume that the covariance matrix of the errors is correctly specified.<br/>[2] The condition number is large, 7.35e+07. This might indicate that there are<br/>strong multicollinearity or other numerical problems."
      ],
      "text/plain": [
       "<class 'statsmodels.iolib.summary.Summary'>\n",
       "\"\"\"\n",
       "                            OLS Regression Results                            \n",
       "==============================================================================\n",
       "Dep. Variable:                  price   R-squared:                       0.486\n",
       "Model:                            OLS   Adj. R-squared:                  0.485\n",
       "Method:                 Least Squares   F-statistic:                     1835.\n",
       "Date:                Wed, 21 Sep 2022   Prob (F-statistic):               0.00\n",
       "Time:                        22:19:18   Log-Likelihood:            -4.3121e+05\n",
       "No. Observations:               29152   AIC:                         8.625e+05\n",
       "Df Residuals:                   29136   BIC:                         8.626e+05\n",
       "Df Model:                          15                                         \n",
       "Covariance Type:            nonrobust                                         \n",
       "=================================================================================\n",
       "                    coef    std err          t      P>|t|      [0.025      0.975]\n",
       "---------------------------------------------------------------------------------\n",
       "const         -9.983e+07   4.34e+06    -23.015      0.000   -1.08e+08   -9.13e+07\n",
       "bedrooms      -1.353e+05   5210.164    -25.964      0.000   -1.45e+05   -1.25e+05\n",
       "bathrooms      1.169e+05   7694.176     15.190      0.000    1.02e+05    1.32e+05\n",
       "sqft_living     327.8317     17.234     19.022      0.000     294.052     361.612\n",
       "sqft_lot          0.1725      0.064      2.680      0.007       0.046       0.299\n",
       "floors        -9.949e+04   9796.097    -10.156      0.000   -1.19e+05   -8.03e+04\n",
       "sqft_above      291.6381     17.605     16.566      0.000     257.132     326.144\n",
       "sqft_basement    78.0302     13.088      5.962      0.000      52.377     103.683\n",
       "sqft_garage     -18.9436     18.425     -1.028      0.304     -55.058      17.171\n",
       "sqft_patio      256.9688     17.060     15.063      0.000     223.531     290.406\n",
       "yr_built       2736.3220    726.700      3.765      0.000    1311.957    4160.687\n",
       "yr_renovated    201.2133     22.979      8.756      0.000     156.173     246.254\n",
       "lat            1.561e+06   2.72e+04     57.293      0.000    1.51e+06    1.61e+06\n",
       "long          -1.651e+05    3.2e+04     -5.153      0.000   -2.28e+05   -1.02e+05\n",
       "yr_old         4815.9255    730.771      6.590      0.000    3383.581    6248.270\n",
       "Population       -2.5537      0.351     -7.275      0.000      -3.242      -1.866\n",
       "==============================================================================\n",
       "Omnibus:                    45295.400   Durbin-Watson:                   1.924\n",
       "Prob(Omnibus):                  0.000   Jarque-Bera (JB):         78707298.800\n",
       "Skew:                           9.421   Prob(JB):                         0.00\n",
       "Kurtosis:                     256.855   Cond. No.                     7.35e+07\n",
       "==============================================================================\n",
       "\n",
       "Notes:\n",
       "[1] Standard Errors assume that the covariance matrix of the errors is correctly specified.\n",
       "[2] The condition number is large, 7.35e+07. This might indicate that there are\n",
       "strong multicollinearity or other numerical problems.\n",
       "\"\"\""
      ]
     },
     "execution_count": 44,
     "metadata": {},
     "output_type": "execute_result"
    }
   ],
   "source": [
    "results.summary()"
   ]
  },
  {
   "cell_type": "markdown",
   "metadata": {},
   "source": [
    "`Bathrooms` is the most highly correlated feature in the baseline numeric model.  Bedrooms is strangely inversely correlated to price.  All coefficients except `sqft_garage` are statistically significant.  This model uses both discrete and continuous numeric predictors in the baseline.  "
   ]
  },
  {
   "cell_type": "code",
   "execution_count": 45,
   "metadata": {},
   "outputs": [
    {
     "data": {
      "text/plain": [
       "338488.677090066"
      ]
     },
     "execution_count": 45,
     "metadata": {},
     "output_type": "execute_result"
    }
   ],
   "source": [
    "baseline_mae = mean_absolute_error(y, results.predict(sm.add_constant(X)))\n",
    "baseline_mae"
   ]
  },
  {
   "cell_type": "markdown",
   "metadata": {},
   "source": [
    "Overall this model is off by about $398,942. \n",
    "\n",
    "The intercept is extremely negative, at minus 9 to the 4th power.  The coefficient for `sqft_living` is about $565.  \n",
    "\n",
    "This means that for each additional square foot of living space, the cost of the home increases by about $565.  "
   ]
  },
  {
   "cell_type": "markdown",
   "metadata": {},
   "source": [
    "The Mean Absolute Error('MAE') indicates that we are about $338,484 off in our prediction of `price`.   EXPLAIN.  "
   ]
  },
  {
   "cell_type": "code",
   "execution_count": 46,
   "metadata": {},
   "outputs": [],
   "source": [
    "## improve upon the baseline"
   ]
  },
  {
   "cell_type": "code",
   "execution_count": 47,
   "metadata": {},
   "outputs": [
    {
     "data": {
      "text/plain": [
       "<matplotlib.collections.PathCollection at 0x7f7d182247f0>"
      ]
     },
     "execution_count": 47,
     "metadata": {},
     "output_type": "execute_result"
    },
    {
     "data": {
      "image/png": "[encoded data removed]",
      "text/plain": [
       "<Figure size 432x288 with 1 Axes>"
      ]
     },
     "metadata": {
      "needs_background": "light"
     },
     "output_type": "display_data"
    }
   ],
   "source": [
    "plt.scatter(df1.grade, df1.price)"
   ]
  },
  {
   "cell_type": "code",
   "execution_count": 48,
   "metadata": {},
   "outputs": [
    {
     "data": {
      "text/plain": [
       "<matplotlib.collections.PathCollection at 0x7f7d2c053130>"
      ]
     },
     "execution_count": 48,
     "metadata": {},
     "output_type": "execute_result"
    },
    {
     "data": {
      "image/png": "[encoded data removed]",
      "text/plain": [
       "<Figure size 432x288 with 1 Axes>"
      ]
     },
     "metadata": {
      "needs_background": "light"
     },
     "output_type": "display_data"
    }
   ],
   "source": [
    "plt.scatter(df1.sewer_system, df1.price)"
   ]
  },
  {
   "cell_type": "code",
   "execution_count": 49,
   "metadata": {},
   "outputs": [
    {
     "data": {
      "text/plain": [
       "<matplotlib.collections.PathCollection at 0x7f7d2c14c0d0>"
      ]
     },
     "execution_count": 49,
     "metadata": {},
     "output_type": "execute_result"
    },
    {
     "data": {
      "image/png": "[encoded data removed]",
      "text/plain": [
       "<Figure size 432x288 with 1 Axes>"
      ]
     },
     "metadata": {
      "needs_background": "light"
     },
     "output_type": "display_data"
    }
   ],
   "source": [
    "plt.scatter(df1.greenbelt, df1.price)"
   ]
  },
  {
   "cell_type": "markdown",
   "metadata": {},
   "source": [
    "## Grade"
   ]
  },
  {
   "cell_type": "code",
   "execution_count": 50,
   "metadata": {},
   "outputs": [],
   "source": [
    "# df1.grade.value_counts()"
   ]
  },
  {
   "cell_type": "code",
   "execution_count": 51,
   "metadata": {},
   "outputs": [],
   "source": [
    "# df1.grade.value_counts()"
   ]
  },
  {
   "cell_type": "code",
   "execution_count": 52,
   "metadata": {},
   "outputs": [],
   "source": [
    "# # grade_map = {\n",
    "#     \"7 Average\": 7,\n",
    "#     \"8 Good\": 8,\n",
    "#     \"9 Better\": 9,\n",
    "#     \"6 Low Average\": 6,\n",
    "#     \"5 Fair\": 5,\n",
    "#     \"4 Low\": 4,\n",
    "#     \"3 Poor\": 3,\n",
    "#     \"2 Substandard\": 2,\n",
    "#     \"10 Very Good\": 10,\n",
    "#     \"11 Excellent\": 11,\n",
    "#     \"13 Mansion\": 13,\n",
    "#     \"12 Luxury\": 12,\n",
    "# }"
   ]
  },
  {
   "cell_type": "code",
   "execution_count": 53,
   "metadata": {},
   "outputs": [],
   "source": [
    "# df1.grade = df1.grade.map(grade_map)"
   ]
  },
  {
   "cell_type": "code",
   "execution_count": 54,
   "metadata": {},
   "outputs": [],
   "source": [
    "# making results more model friendly \n",
    "# dum_df1.loc[dum_df1['grade'] == '2 Substandard', 'grade'] = 1\n",
    "# dum_df1.loc[dum_df1['grade'] == '3 Poor', 'grade'] = 1\n",
    "# dum_df1.loc[dum_df1['grade'] == '4 Low', 'grade'] = 1\n",
    "\n",
    "# dum_df1.loc[dum_df1['grade'] == '5 Fair', 'grade'] = 2\n",
    "# dum_df1.loc[dum_df1['grade'] == '6 Low Average', 'grade'] = 2\n",
    "# dum_df1.loc[dum_df1['grade'] == '7 Average', 'grade'] = 2\n",
    "\n",
    "# dum_df1.loc[dum_df1['grade'] == '8 Good', 'grade'] = 3\n",
    "# dum_df1.loc[dum_df1['grade'] == '9 Better', 'grade'] = 3\n",
    "# dum_df1.loc[dum_df1['grade'] == '10 Very Good', 'grade'] = 3\n",
    "\n",
    "# dum_df1.loc[dum_df1['grade'] == '11 Excellent', 'grade'] = 4\n",
    "# dum_df1.loc[dum_df1['grade'] == '12 Luxury', 'grade'] = 4\n",
    "# dum_df1.loc[dum_df1['grade'] == '13 Mansion', 'grade'] = 4"
   ]
  },
  {
   "cell_type": "code",
   "execution_count": 55,
   "metadata": {},
   "outputs": [],
   "source": [
    "# Creating categorical variables\n",
    "# cats = df1[['waterfront','greenbelt', 'nuisance', 'view', 'condition', 'heat_source', 'sewer_system', 'Neighborhood']]\n",
    "# cats1 = df1[['selldate','price','waterfront','greenbelt', 'nuisance', 'view', 'condition', 'heat_source', 'sewer_system', 'address', 'Zipcode', 'Neighborhood']]"
   ]
  },
  {
   "cell_type": "markdown",
   "metadata": {},
   "source": [
    "Clearly we dont want to force ordinal categories into continuous numeric variables.  "
   ]
  },
  {
   "cell_type": "code",
   "execution_count": 56,
   "metadata": {},
   "outputs": [],
   "source": [
    "cat_cols = cats.columns"
   ]
  },
  {
   "cell_type": "markdown",
   "metadata": {},
   "source": [
    "## Lesson"
   ]
  },
  {
   "cell_type": "markdown",
   "metadata": {},
   "source": [
    "scatter plot: visualize relationship  \n",
    "\n",
    "box plot: gives you quantile info\n",
    "\n",
    "histograms: distribution of frequencies \n",
    "\n",
    "qq plot residuals (outside of range) is "
   ]
  },
  {
   "cell_type": "code",
   "execution_count": 57,
   "metadata": {},
   "outputs": [],
   "source": [
    "# plt.boxplot(df1.price)"
   ]
  },
  {
   "cell_type": "code",
   "execution_count": null,
   "metadata": {},
   "outputs": [],
   "source": []
  },
  {
   "cell_type": "markdown",
   "metadata": {},
   "source": [
    "## Discrete numeric predictors "
   ]
  },
  {
   "cell_type": "code",
   "execution_count": 58,
   "metadata": {},
   "outputs": [],
   "source": [
    "# fig, (ax1, ax2) = plt.subplots (ncols=2, figsize = (12, 5))\n",
    "# df1.plot.scatter(x='bathrooms', y='price', ax=ax1)\n",
    "# df1.plot.scatter(x='bedrooms', y='price', ax=ax2)"
   ]
  },
  {
   "cell_type": "code",
   "execution_count": 59,
   "metadata": {},
   "outputs": [],
   "source": [
    "# fig, (ax1, ax2) = plt.subplots (ncols=2, figsize = (12, 5))\n",
    "# df1.plot.scatter(x='yr_renovated', y='price', ax=ax1)\n",
    "# df1.plot.scatter(x='floors', y='price', ax=ax2)"
   ]
  },
  {
   "cell_type": "markdown",
   "metadata": {},
   "source": [
    "## Continuous numerice predictors"
   ]
  },
  {
   "cell_type": "code",
   "execution_count": 60,
   "metadata": {},
   "outputs": [],
   "source": [
    "# fig, (ax1, ax2) = plt.subplots (ncols=2, figsize = (12, 5))\n",
    "# df1.plot.scatter(x='sqft_living', y='price', ax=ax1)\n",
    "# df1.plot.scatter(x='sqft_lot', y='price', ax=ax2)"
   ]
  },
  {
   "cell_type": "code",
   "execution_count": 61,
   "metadata": {},
   "outputs": [],
   "source": [
    "# fig, (ax1, ax2) = plt.subplots (ncols=2, figsize = (12, 5))\n",
    "# df1.plot.scatter(x='Population', y='price', ax=ax1)\n",
    "# df1.plot.scatter(x='sqft_above', y='price', ax=ax2)"
   ]
  },
  {
   "cell_type": "markdown",
   "metadata": {},
   "source": [
    "Population looks like a discrete measure here.  We will go with sqft living as the most correlated to begin our greedy algorithm approach."
   ]
  },
  {
   "cell_type": "code",
   "execution_count": 62,
   "metadata": {
    "scrolled": false
   },
   "outputs": [
    {
     "data": {
      "image/png": "[encoded data removed]",
      "text/plain": [
       "<Figure size 864x360 with 4 Axes>"
      ]
     },
     "metadata": {
      "needs_background": "light"
     },
     "output_type": "display_data"
    }
   ],
   "source": [
    "cats2 = ['waterfront', 'view', 'grade', 'condition']\n",
    "fig, axes = plt.subplots(ncols=len(cats2), figsize=(12,5))\n",
    "for index, feature in enumerate(cats2):\n",
    "    df1.groupby(feature).mean().plot.bar(\n",
    "        y='price', ax=axes[index])\n"
   ]
  },
  {
   "cell_type": "code",
   "execution_count": 63,
   "metadata": {},
   "outputs": [
    {
     "data": {
      "image/png": "[encoded data removed]",
      "text/plain": [
       "<Figure size 864x360 with 3 Axes>"
      ]
     },
     "metadata": {
      "needs_background": "light"
     },
     "output_type": "display_data"
    }
   ],
   "source": [
    "cats3 = ['nuisance', 'sewer_system', 'greenbelt']\n",
    "fig, axes = plt.subplots(ncols=len(cats3), figsize=(12,5))\n",
    "for index, feature in enumerate(cats3):\n",
    "    df1.groupby(feature).mean().plot.bar(\n",
    "        y='price', ax=axes[index])"
   ]
  },
  {
   "cell_type": "code",
   "execution_count": 64,
   "metadata": {},
   "outputs": [],
   "source": [
    "y = df1.price\n",
    "X_iter = df1[['sqft_living', 'waterfront', 'grade']]"
   ]
  },
  {
   "cell_type": "code",
   "execution_count": 65,
   "metadata": {},
   "outputs": [],
   "source": [
    "X_iter = pd.get_dummies(X_iter, columns=['grade', 'waterfront'], drop_first=True)"
   ]
  },
  {
   "cell_type": "code",
   "execution_count": 66,
   "metadata": {},
   "outputs": [
    {
     "name": "stdout",
     "output_type": "stream",
     "text": [
      "                            OLS Regression Results                            \n",
      "==============================================================================\n",
      "Dep. Variable:                  price   R-squared:                       0.501\n",
      "Model:                            OLS   Adj. R-squared:                  0.501\n",
      "Method:                 Least Squares   F-statistic:                     2248.\n",
      "Date:                Wed, 21 Sep 2022   Prob (F-statistic):               0.00\n",
      "Time:                        22:19:19   Log-Likelihood:            -4.3078e+05\n",
      "No. Observations:               29152   AIC:                         8.616e+05\n",
      "Df Residuals:                   29138   BIC:                         8.617e+05\n",
      "Df Model:                          13                                         \n",
      "Covariance Type:            nonrobust                                         \n",
      "=======================================================================================\n",
      "                          coef    std err          t      P>|t|      [0.025      0.975]\n",
      "---------------------------------------------------------------------------------------\n",
      "const                1.163e+06   2.76e+04     42.120      0.000    1.11e+06    1.22e+06\n",
      "sqft_living           302.7061      5.779     52.382      0.000     291.379     314.033\n",
      "grade_11 Excellent   8.728e+05   3.64e+04     24.000      0.000    8.02e+05    9.44e+05\n",
      "grade_12 Luxury      2.007e+06   6.11e+04     32.866      0.000    1.89e+06    2.13e+06\n",
      "grade_13 Mansion      3.53e+06   1.33e+05     26.561      0.000    3.27e+06    3.79e+06\n",
      "grade_2 Substandard -9.928e+05   6.34e+05     -1.567      0.117   -2.23e+06    2.49e+05\n",
      "grade_3 Poor        -1.105e+06   2.12e+05     -5.199      0.000   -1.52e+06   -6.88e+05\n",
      "grade_4 Low         -9.468e+05   9.67e+04     -9.788      0.000   -1.14e+06   -7.57e+05\n",
      "grade_5 Fair         -8.95e+05   4.01e+04    -22.329      0.000   -9.74e+05   -8.16e+05\n",
      "grade_6 Low Average -8.989e+05   2.55e+04    -35.264      0.000   -9.49e+05   -8.49e+05\n",
      "grade_7 Average     -8.765e+05   2.16e+04    -40.616      0.000   -9.19e+05   -8.34e+05\n",
      "grade_8 Good         -7.71e+05   2.04e+04    -37.836      0.000   -8.11e+05   -7.31e+05\n",
      "grade_9 Better      -4.551e+05   2.08e+04    -21.926      0.000   -4.96e+05   -4.14e+05\n",
      "waterfront_YES       1.165e+06   2.86e+04     40.661      0.000    1.11e+06    1.22e+06\n",
      "==============================================================================\n",
      "Omnibus:                    40006.042   Durbin-Watson:                   1.922\n",
      "Prob(Omnibus):                  0.000   Jarque-Bera (JB):         46261144.132\n",
      "Skew:                           7.372   Prob(JB):                         0.00\n",
      "Kurtosis:                     197.597   Cond. No.                     4.01e+05\n",
      "==============================================================================\n",
      "\n",
      "Notes:\n",
      "[1] Standard Errors assume that the covariance matrix of the errors is correctly specified.\n",
      "[2] The condition number is large, 4.01e+05. This might indicate that there are\n",
      "strong multicollinearity or other numerical problems.\n"
     ]
    }
   ],
   "source": [
    "model = sm.OLS(y, sm.add_constant(X_iter))\n",
    "results = model.fit()\n",
    "print(results.summary())"
   ]
  },
  {
   "cell_type": "markdown",
   "metadata": {},
   "source": [
    "## Partial regressions"
   ]
  },
  {
   "cell_type": "code",
   "execution_count": 67,
   "metadata": {},
   "outputs": [
    {
     "data": {
      "image/png": "[encoded data removed]",
      "text/plain": [
       "<Figure size 1080x576 with 13 Axes>"
      ]
     },
     "metadata": {
      "needs_background": "light"
     },
     "output_type": "display_data"
    }
   ],
   "source": [
    "fig = plt.figure(figsize=(15,8))\n",
    "sm.graphics.plot_partregress_grid(\n",
    "    results, \n",
    "    exog_idx=list(X_iter.columns),\n",
    "    grid=(2,7),\n",
    "    fig=fig)\n",
    "plt.tight_layout()\n",
    "plt.show()"
   ]
  },
  {
   "cell_type": "code",
   "execution_count": null,
   "metadata": {},
   "outputs": [],
   "source": []
  },
  {
   "cell_type": "code",
   "execution_count": null,
   "metadata": {},
   "outputs": [],
   "source": []
  },
  {
   "cell_type": "markdown",
   "metadata": {},
   "source": [
    "## Investigating categorical variables"
   ]
  },
  {
   "cell_type": "markdown",
   "metadata": {},
   "source": [
    "## Condition"
   ]
  },
  {
   "cell_type": "code",
   "execution_count": 68,
   "metadata": {},
   "outputs": [
    {
     "data": {
      "text/plain": [
       "Average      17572\n",
       "Good          8041\n",
       "Very Good     3255\n",
       "Fair           223\n",
       "Poor            61\n",
       "Name: condition, dtype: int64"
      ]
     },
     "execution_count": 68,
     "metadata": {},
     "output_type": "execute_result"
    }
   ],
   "source": [
    "df1['condition'].value_counts()"
   ]
  },
  {
   "cell_type": "code",
   "execution_count": 69,
   "metadata": {},
   "outputs": [
    {
     "data": {
      "text/plain": [
       "<AxesSubplot:xlabel='view', ylabel='price'>"
      ]
     },
     "execution_count": 69,
     "metadata": {},
     "output_type": "execute_result"
    },
    {
     "data": {
      "image/png": "[encoded data removed]",
      "text/plain": [
       "<Figure size 864x360 with 2 Axes>"
      ]
     },
     "metadata": {
      "needs_background": "light"
     },
     "output_type": "display_data"
    }
   ],
   "source": [
    "fig, (ax1, ax2) = plt.subplots (ncols=2, figsize = (12, 5))\n",
    "df1.plot.scatter(x='condition', y='price', ax=ax1)\n",
    "df1.plot.scatter(x='view', y='price', ax=ax2)"
   ]
  },
  {
   "cell_type": "code",
   "execution_count": 70,
   "metadata": {},
   "outputs": [
    {
     "data": {
      "text/plain": [
       "<AxesSubplot:xlabel='grade', ylabel='price'>"
      ]
     },
     "execution_count": 70,
     "metadata": {},
     "output_type": "execute_result"
    },
    {
     "data": {
      "image/png": "[encoded data removed]",
      "text/plain": [
       "<Figure size 1080x720 with 1 Axes>"
      ]
     },
     "metadata": {
      "needs_background": "light"
     },
     "output_type": "display_data"
    }
   ],
   "source": [
    "fig, (ax) = plt.subplots (ncols=1, figsize = (15, 10))\n",
    "df1.plot.scatter(x='grade', y='price', ax=ax)"
   ]
  },
  {
   "cell_type": "code",
   "execution_count": 71,
   "metadata": {},
   "outputs": [],
   "source": [
    "# df1.loc[df1['condition'] == 'Poor', 'condition'] = 'Fair'"
   ]
  },
  {
   "cell_type": "code",
   "execution_count": 72,
   "metadata": {},
   "outputs": [],
   "source": [
    "# plt.scatter(df1.view, df1.price)"
   ]
  },
  {
   "cell_type": "code",
   "execution_count": null,
   "metadata": {},
   "outputs": [],
   "source": []
  },
  {
   "cell_type": "code",
   "execution_count": 73,
   "metadata": {},
   "outputs": [],
   "source": [
    "# # running our model with dummified predictors\n",
    "# X1=dum_df1.drop(labels=['selldate', 'price', 'Zipcode', 'address', 'lat', 'long', \n",
    "#                        'sewer_system_PUBLIC RESTRICTED', 'yr_built', 'sqft_above', 'bathrooms',\n",
    "#                       'heat_source_Oil', 'heat_source_Oil/Solar', 'heat_source_Other',\n",
    "#                       'floors', 'Neighborhood_Skykomish', 'Neighborhood_Black Diamond',\n",
    "#                       'Neighborhood_Baring' ], axis=1)\n",
    "# y=dum_df1.price\n",
    "\n",
    "# model_1 = sm.OLS(y, sm.add_constant(X1))\n",
    "# results1 = model_1.fit()\n",
    "# results1.summary()"
   ]
  },
  {
   "cell_type": "code",
   "execution_count": 74,
   "metadata": {},
   "outputs": [],
   "source": [
    "# baseline_mae = mean_absolute_error(y, results1.predict(sm.add_constant(X1)))\n",
    "# # baseline_mae"
   ]
  },
  {
   "cell_type": "code",
   "execution_count": 75,
   "metadata": {},
   "outputs": [],
   "source": [
    "dum_df1 = pd.get_dummies(data=df1, columns=cat_cols, drop_first=True)"
   ]
  },
  {
   "cell_type": "code",
   "execution_count": 76,
   "metadata": {
    "scrolled": true
   },
   "outputs": [
    {
     "data": {
      "text/plain": [
       "Index(['selldate', 'price', 'bedrooms', 'bathrooms', 'sqft_living', 'sqft_lot',\n",
       "       'floors', 'sqft_above', 'sqft_basement', 'sqft_garage', 'sqft_patio',\n",
       "       'yr_built', 'yr_renovated', 'address', 'lat', 'long', 'Zipcode',\n",
       "       'yr_old', 'Population', 'waterfront_YES', 'greenbelt_YES',\n",
       "       'nuisance_YES', 'view_EXCELLENT', 'view_FAIR', 'view_GOOD', 'view_NONE',\n",
       "       'condition_Fair', 'condition_Good', 'condition_Poor',\n",
       "       'condition_Very Good', 'heat_source_Electricity/Solar',\n",
       "       'heat_source_Gas', 'heat_source_Gas/Solar', 'heat_source_Oil',\n",
       "       'heat_source_Oil/Solar', 'heat_source_Other',\n",
       "       'sewer_system_PRIVATE RESTRICTED', 'sewer_system_PUBLIC',\n",
       "       'sewer_system_PUBLIC RESTRICTED', 'Neighborhood_Baring',\n",
       "       'Neighborhood_Bellevue', 'Neighborhood_Black Diamond',\n",
       "       'Neighborhood_Bothell', 'Neighborhood_Carnation', 'Neighborhood_Duvall',\n",
       "       'Neighborhood_Enumclaw', 'Neighborhood_Fall City',\n",
       "       'Neighborhood_Federal Way', 'Neighborhood_Gold Bar',\n",
       "       'Neighborhood_Issaquah', 'Neighborhood_Kenmore', 'Neighborhood_Kent',\n",
       "       'Neighborhood_Kirkland', 'Neighborhood_Maple Valley',\n",
       "       'Neighborhood_Medina', 'Neighborhood_Mercer Island',\n",
       "       'Neighborhood_North Bend', 'Neighborhood_Pacific',\n",
       "       'Neighborhood_Preston', 'Neighborhood_Ravensdale',\n",
       "       'Neighborhood_Redmond', 'Neighborhood_Renton', 'Neighborhood_Sammamish',\n",
       "       'Neighborhood_Seattle', 'Neighborhood_Skykomish',\n",
       "       'Neighborhood_Snoqualmie', 'Neighborhood_Vashon',\n",
       "       'Neighborhood_Woodinville', 'grade_11 Excellent', 'grade_12 Luxury',\n",
       "       'grade_13 Mansion', 'grade_2 Substandard', 'grade_3 Poor',\n",
       "       'grade_4 Low', 'grade_5 Fair', 'grade_6 Low Average', 'grade_7 Average',\n",
       "       'grade_8 Good', 'grade_9 Better'],\n",
       "      dtype='object')"
      ]
     },
     "execution_count": 76,
     "metadata": {},
     "output_type": "execute_result"
    }
   ],
   "source": [
    "dum_df1.columns"
   ]
  },
  {
   "cell_type": "markdown",
   "metadata": {},
   "source": [
    "Drop columns not correlated.  per gp 9-19.  "
   ]
  },
  {
   "cell_type": "code",
   "execution_count": 77,
   "metadata": {},
   "outputs": [],
   "source": [
    "# plt.hist(df1.price)"
   ]
  },
  {
   "cell_type": "code",
   "execution_count": 78,
   "metadata": {},
   "outputs": [],
   "source": [
    "# sns.distplot(df1.price, bins=30, kde=True)"
   ]
  },
  {
   "cell_type": "code",
   "execution_count": 79,
   "metadata": {
    "scrolled": true
   },
   "outputs": [
    {
     "data": {
      "text/html": [
       "<div>\n",
       "<style scoped>\n",
       "    .dataframe tbody tr th:only-of-type {\n",
       "        vertical-align: middle;\n",
       "    }\n",
       "\n",
       "    .dataframe tbody tr th {\n",
       "        vertical-align: top;\n",
       "    }\n",
       "\n",
       "    .dataframe thead th {\n",
       "        text-align: right;\n",
       "    }\n",
       "</style>\n",
       "<table border=\"1\" class=\"dataframe\">\n",
       "  <thead>\n",
       "    <tr style=\"text-align: right;\">\n",
       "      <th></th>\n",
       "      <th>price</th>\n",
       "      <th>bedrooms</th>\n",
       "      <th>bathrooms</th>\n",
       "      <th>sqft_living</th>\n",
       "      <th>sqft_lot</th>\n",
       "      <th>floors</th>\n",
       "      <th>sqft_above</th>\n",
       "      <th>sqft_basement</th>\n",
       "      <th>sqft_garage</th>\n",
       "      <th>sqft_patio</th>\n",
       "      <th>yr_built</th>\n",
       "      <th>yr_renovated</th>\n",
       "      <th>lat</th>\n",
       "      <th>long</th>\n",
       "      <th>Zipcode</th>\n",
       "      <th>yr_old</th>\n",
       "      <th>Population</th>\n",
       "    </tr>\n",
       "  </thead>\n",
       "  <tbody>\n",
       "    <tr>\n",
       "      <th>count</th>\n",
       "      <td>2.915200e+04</td>\n",
       "      <td>29152.000000</td>\n",
       "      <td>29152.000000</td>\n",
       "      <td>29152.000000</td>\n",
       "      <td>2.915200e+04</td>\n",
       "      <td>29152.000000</td>\n",
       "      <td>29152.000000</td>\n",
       "      <td>29152.000000</td>\n",
       "      <td>29152.000000</td>\n",
       "      <td>29152.000000</td>\n",
       "      <td>29152.000000</td>\n",
       "      <td>29152.000000</td>\n",
       "      <td>29152.000000</td>\n",
       "      <td>29152.000000</td>\n",
       "      <td>29152.000000</td>\n",
       "      <td>29152.000000</td>\n",
       "      <td>29152.000000</td>\n",
       "    </tr>\n",
       "    <tr>\n",
       "      <th>mean</th>\n",
       "      <td>1.113367e+06</td>\n",
       "      <td>3.436883</td>\n",
       "      <td>2.332739</td>\n",
       "      <td>2131.673196</td>\n",
       "      <td>1.712848e+04</td>\n",
       "      <td>1.516654</td>\n",
       "      <td>1826.396371</td>\n",
       "      <td>481.397503</td>\n",
       "      <td>336.458905</td>\n",
       "      <td>216.378979</td>\n",
       "      <td>1973.830303</td>\n",
       "      <td>93.779535</td>\n",
       "      <td>47.543349</td>\n",
       "      <td>-122.214379</td>\n",
       "      <td>98077.248148</td>\n",
       "      <td>44.786841</td>\n",
       "      <td>30470.448957</td>\n",
       "    </tr>\n",
       "    <tr>\n",
       "      <th>std</th>\n",
       "      <td>8.958348e+05</td>\n",
       "      <td>0.976831</td>\n",
       "      <td>0.894813</td>\n",
       "      <td>976.875996</td>\n",
       "      <td>6.084812e+04</td>\n",
       "      <td>0.548313</td>\n",
       "      <td>880.303274</td>\n",
       "      <td>586.205229</td>\n",
       "      <td>286.244187</td>\n",
       "      <td>246.792890</td>\n",
       "      <td>31.665996</td>\n",
       "      <td>422.656961</td>\n",
       "      <td>0.145970</td>\n",
       "      <td>0.143108</td>\n",
       "      <td>54.133260</td>\n",
       "      <td>30.988383</td>\n",
       "      <td>11293.348724</td>\n",
       "    </tr>\n",
       "    <tr>\n",
       "      <th>min</th>\n",
       "      <td>2.736000e+04</td>\n",
       "      <td>0.000000</td>\n",
       "      <td>0.000000</td>\n",
       "      <td>3.000000</td>\n",
       "      <td>4.020000e+02</td>\n",
       "      <td>1.000000</td>\n",
       "      <td>2.000000</td>\n",
       "      <td>0.000000</td>\n",
       "      <td>0.000000</td>\n",
       "      <td>0.000000</td>\n",
       "      <td>1900.000000</td>\n",
       "      <td>0.000000</td>\n",
       "      <td>47.159700</td>\n",
       "      <td>-122.526650</td>\n",
       "      <td>98001.000000</td>\n",
       "      <td>0.000000</td>\n",
       "      <td>294.000000</td>\n",
       "    </tr>\n",
       "    <tr>\n",
       "      <th>25%</th>\n",
       "      <td>6.450000e+05</td>\n",
       "      <td>3.000000</td>\n",
       "      <td>2.000000</td>\n",
       "      <td>1440.000000</td>\n",
       "      <td>5.000000e+03</td>\n",
       "      <td>1.000000</td>\n",
       "      <td>1190.000000</td>\n",
       "      <td>0.000000</td>\n",
       "      <td>0.000000</td>\n",
       "      <td>40.000000</td>\n",
       "      <td>1952.000000</td>\n",
       "      <td>0.000000</td>\n",
       "      <td>47.431014</td>\n",
       "      <td>-122.328445</td>\n",
       "      <td>98032.000000</td>\n",
       "      <td>18.000000</td>\n",
       "      <td>21147.000000</td>\n",
       "    </tr>\n",
       "    <tr>\n",
       "      <th>50%</th>\n",
       "      <td>8.690000e+05</td>\n",
       "      <td>3.000000</td>\n",
       "      <td>2.500000</td>\n",
       "      <td>1940.000000</td>\n",
       "      <td>7.560000e+03</td>\n",
       "      <td>1.500000</td>\n",
       "      <td>1580.000000</td>\n",
       "      <td>0.000000</td>\n",
       "      <td>400.000000</td>\n",
       "      <td>141.500000</td>\n",
       "      <td>1976.000000</td>\n",
       "      <td>0.000000</td>\n",
       "      <td>47.557950</td>\n",
       "      <td>-122.234025</td>\n",
       "      <td>98059.000000</td>\n",
       "      <td>43.000000</td>\n",
       "      <td>31365.000000</td>\n",
       "    </tr>\n",
       "    <tr>\n",
       "      <th>75%</th>\n",
       "      <td>1.310000e+06</td>\n",
       "      <td>4.000000</td>\n",
       "      <td>3.000000</td>\n",
       "      <td>2640.000000</td>\n",
       "      <td>1.077125e+04</td>\n",
       "      <td>2.000000</td>\n",
       "      <td>2290.000000</td>\n",
       "      <td>960.000000</td>\n",
       "      <td>520.000000</td>\n",
       "      <td>310.000000</td>\n",
       "      <td>2001.000000</td>\n",
       "      <td>0.000000</td>\n",
       "      <td>47.672016</td>\n",
       "      <td>-122.127607</td>\n",
       "      <td>98117.000000</td>\n",
       "      <td>66.000000</td>\n",
       "      <td>39816.000000</td>\n",
       "    </tr>\n",
       "    <tr>\n",
       "      <th>max</th>\n",
       "      <td>3.075000e+07</td>\n",
       "      <td>13.000000</td>\n",
       "      <td>10.500000</td>\n",
       "      <td>15360.000000</td>\n",
       "      <td>3.253932e+06</td>\n",
       "      <td>4.000000</td>\n",
       "      <td>12660.000000</td>\n",
       "      <td>8020.000000</td>\n",
       "      <td>3580.000000</td>\n",
       "      <td>4370.000000</td>\n",
       "      <td>2022.000000</td>\n",
       "      <td>2022.000000</td>\n",
       "      <td>47.789830</td>\n",
       "      <td>-121.163960</td>\n",
       "      <td>98288.000000</td>\n",
       "      <td>122.000000</td>\n",
       "      <td>58442.000000</td>\n",
       "    </tr>\n",
       "  </tbody>\n",
       "</table>\n",
       "</div>"
      ],
      "text/plain": [
       "              price      bedrooms     bathrooms   sqft_living      sqft_lot  \\\n",
       "count  2.915200e+04  29152.000000  29152.000000  29152.000000  2.915200e+04   \n",
       "mean   1.113367e+06      3.436883      2.332739   2131.673196  1.712848e+04   \n",
       "std    8.958348e+05      0.976831      0.894813    976.875996  6.084812e+04   \n",
       "min    2.736000e+04      0.000000      0.000000      3.000000  4.020000e+02   \n",
       "25%    6.450000e+05      3.000000      2.000000   1440.000000  5.000000e+03   \n",
       "50%    8.690000e+05      3.000000      2.500000   1940.000000  7.560000e+03   \n",
       "75%    1.310000e+06      4.000000      3.000000   2640.000000  1.077125e+04   \n",
       "max    3.075000e+07     13.000000     10.500000  15360.000000  3.253932e+06   \n",
       "\n",
       "             floors    sqft_above  sqft_basement   sqft_garage    sqft_patio  \\\n",
       "count  29152.000000  29152.000000   29152.000000  29152.000000  29152.000000   \n",
       "mean       1.516654   1826.396371     481.397503    336.458905    216.378979   \n",
       "std        0.548313    880.303274     586.205229    286.244187    246.792890   \n",
       "min        1.000000      2.000000       0.000000      0.000000      0.000000   \n",
       "25%        1.000000   1190.000000       0.000000      0.000000     40.000000   \n",
       "50%        1.500000   1580.000000       0.000000    400.000000    141.500000   \n",
       "75%        2.000000   2290.000000     960.000000    520.000000    310.000000   \n",
       "max        4.000000  12660.000000    8020.000000   3580.000000   4370.000000   \n",
       "\n",
       "           yr_built  yr_renovated           lat          long       Zipcode  \\\n",
       "count  29152.000000  29152.000000  29152.000000  29152.000000  29152.000000   \n",
       "mean    1973.830303     93.779535     47.543349   -122.214379  98077.248148   \n",
       "std       31.665996    422.656961      0.145970      0.143108     54.133260   \n",
       "min     1900.000000      0.000000     47.159700   -122.526650  98001.000000   \n",
       "25%     1952.000000      0.000000     47.431014   -122.328445  98032.000000   \n",
       "50%     1976.000000      0.000000     47.557950   -122.234025  98059.000000   \n",
       "75%     2001.000000      0.000000     47.672016   -122.127607  98117.000000   \n",
       "max     2022.000000   2022.000000     47.789830   -121.163960  98288.000000   \n",
       "\n",
       "             yr_old    Population  \n",
       "count  29152.000000  29152.000000  \n",
       "mean      44.786841  30470.448957  \n",
       "std       30.988383  11293.348724  \n",
       "min        0.000000    294.000000  \n",
       "25%       18.000000  21147.000000  \n",
       "50%       43.000000  31365.000000  \n",
       "75%       66.000000  39816.000000  \n",
       "max      122.000000  58442.000000  "
      ]
     },
     "execution_count": 79,
     "metadata": {},
     "output_type": "execute_result"
    }
   ],
   "source": [
    "df1.describe()"
   ]
  },
  {
   "cell_type": "markdown",
   "metadata": {},
   "source": [
    "## Bedrooms"
   ]
  },
  {
   "cell_type": "code",
   "execution_count": 80,
   "metadata": {},
   "outputs": [
    {
     "data": {
      "text/plain": [
       "3     12318\n",
       "4      9490\n",
       "2      3539\n",
       "5      2767\n",
       "6       493\n",
       "1       371\n",
       "7        80\n",
       "0        38\n",
       "8        37\n",
       "9        14\n",
       "10        3\n",
       "13        1\n",
       "11        1\n",
       "Name: bedrooms, dtype: int64"
      ]
     },
     "execution_count": 80,
     "metadata": {},
     "output_type": "execute_result"
    }
   ],
   "source": [
    "df1.bedrooms.value_counts()"
   ]
  },
  {
   "cell_type": "code",
   "execution_count": 81,
   "metadata": {},
   "outputs": [],
   "source": [
    "dum_df1.loc[dum_df1['bedrooms'] > 6, 'bedrooms'] = 6"
   ]
  },
  {
   "cell_type": "code",
   "execution_count": 82,
   "metadata": {},
   "outputs": [],
   "source": [
    "# sns.heatmap(X1.corr())"
   ]
  },
  {
   "cell_type": "code",
   "execution_count": 83,
   "metadata": {},
   "outputs": [
    {
     "data": {
      "text/plain": [
       "<matplotlib.collections.PathCollection at 0x7f7d1a5ef100>"
      ]
     },
     "execution_count": 83,
     "metadata": {},
     "output_type": "execute_result"
    },
    {
     "data": {
      "image/png": "[encoded data removed]",
      "text/plain": [
       "<Figure size 432x288 with 1 Axes>"
      ]
     },
     "metadata": {
      "needs_background": "light"
     },
     "output_type": "display_data"
    }
   ],
   "source": [
    "plt.scatter(dum_df1.bedrooms, dum_df1.price)"
   ]
  },
  {
   "cell_type": "markdown",
   "metadata": {},
   "source": [
    "# Neighborhood"
   ]
  },
  {
   "cell_type": "code",
   "execution_count": 84,
   "metadata": {
    "scrolled": true
   },
   "outputs": [
    {
     "data": {
      "image/png": "[encoded data removed]",
      "text/plain": [
       "<Figure size 864x360 with 1 Axes>"
      ]
     },
     "metadata": {
      "needs_background": "light"
     },
     "output_type": "display_data"
    }
   ],
   "source": [
    "Neigh = ['Neighborhood']\n",
    "fig, ax = plt.subplots(ncols=len(Neigh), figsize=(12,5))\n",
    "for index, feature in enumerate(Neigh):\n",
    "    df1.groupby(feature).mean().plot.bar(\n",
    "        y='price', ax=ax)\n"
   ]
  },
  {
   "cell_type": "code",
   "execution_count": 85,
   "metadata": {},
   "outputs": [],
   "source": [
    "y = df1.price\n",
    "X_iter1 = df1[['Neighborhood', 'sqft_living', 'waterfront']]\n",
    "X_iter1 = pd.get_dummies(X_iter1, columns=['Neighborhood', 'waterfront'], drop_first=True)"
   ]
  },
  {
   "cell_type": "code",
   "execution_count": 86,
   "metadata": {},
   "outputs": [
    {
     "name": "stdout",
     "output_type": "stream",
     "text": [
      "                            OLS Regression Results                            \n",
      "==============================================================================\n",
      "Dep. Variable:                  price   R-squared:                       0.568\n",
      "Model:                            OLS   Adj. R-squared:                  0.568\n",
      "Method:                 Least Squares   F-statistic:                     1236.\n",
      "Date:                Wed, 21 Sep 2022   Prob (F-statistic):               0.00\n",
      "Time:                        22:19:22   Log-Likelihood:            -4.2867e+05\n",
      "No. Observations:               29152   AIC:                         8.574e+05\n",
      "Df Residuals:                   29120   BIC:                         8.577e+05\n",
      "Df Model:                          31                                         \n",
      "Covariance Type:            nonrobust                                         \n",
      "==============================================================================================\n",
      "                                 coef    std err          t      P>|t|      [0.025      0.975]\n",
      "----------------------------------------------------------------------------------------------\n",
      "const                      -3.905e+05   1.67e+04    -23.441      0.000   -4.23e+05   -3.58e+05\n",
      "sqft_living                  486.0413      3.805    127.724      0.000     478.583     493.500\n",
      "Neighborhood_Baring         2.126e+05    3.4e+05      0.625      0.532   -4.55e+05     8.8e+05\n",
      "Neighborhood_Bellevue       1.166e+06   2.11e+04     55.273      0.000    1.12e+06    1.21e+06\n",
      "Neighborhood_Black Diamond -1.161e+05   3.64e+04     -3.187      0.001   -1.88e+05   -4.47e+04\n",
      "Neighborhood_Bothell         4.31e+05   3.93e+04     10.955      0.000    3.54e+05    5.08e+05\n",
      "Neighborhood_Carnation      1.838e+05   4.94e+04      3.718      0.000    8.69e+04    2.81e+05\n",
      "Neighborhood_Duvall         2.208e+05   4.04e+04      5.461      0.000    1.42e+05       3e+05\n",
      "Neighborhood_Enumclaw        8.29e+04   3.13e+04      2.653      0.008    2.16e+04    1.44e+05\n",
      "Neighborhood_Fall City      6.118e+05   5.71e+04     10.706      0.000       5e+05    7.24e+05\n",
      "Neighborhood_Federal Way    3287.6148   2.29e+04      0.144      0.886   -4.15e+04    4.81e+04\n",
      "Neighborhood_Gold Bar       2.869e+05    3.4e+05      0.843      0.399    -3.8e+05    9.54e+05\n",
      "Neighborhood_Issaquah       5.953e+05   2.67e+04     22.262      0.000    5.43e+05    6.48e+05\n",
      "Neighborhood_Kenmore        3.569e+05   3.48e+04     10.250      0.000    2.89e+05    4.25e+05\n",
      "Neighborhood_Kent           3.088e+04   1.96e+04      1.576      0.115   -7528.349    6.93e+04\n",
      "Neighborhood_Kirkland       8.943e+05    2.2e+04     40.564      0.000    8.51e+05    9.37e+05\n",
      "Neighborhood_Maple Valley   7.515e+04    2.5e+04      3.011      0.003    2.62e+04    1.24e+05\n",
      "Neighborhood_Medina         3.753e+06   7.84e+04     47.884      0.000     3.6e+06    3.91e+06\n",
      "Neighborhood_Mercer Island  1.438e+06   3.52e+04     40.897      0.000    1.37e+06    1.51e+06\n",
      "Neighborhood_North Bend     2.057e+05   3.11e+04      6.624      0.000    1.45e+05    2.67e+05\n",
      "Neighborhood_Pacific        1.018e+05   6.87e+04      1.481      0.138   -3.29e+04    2.37e+05\n",
      "Neighborhood_Preston        6.349e+05   4.17e+05      1.524      0.128   -1.82e+05    1.45e+06\n",
      "Neighborhood_Ravensdale      1.04e+05    7.4e+04      1.405      0.160   -4.11e+04    2.49e+05\n",
      "Neighborhood_Redmond         7.27e+05   2.41e+04     30.144      0.000     6.8e+05    7.74e+05\n",
      "Neighborhood_Renton         2.046e+05   1.95e+04     10.491      0.000    1.66e+05    2.43e+05\n",
      "Neighborhood_Sammamish      7.187e+05   2.54e+04     28.321      0.000    6.69e+05    7.68e+05\n",
      "Neighborhood_Seattle        5.004e+05   1.57e+04     31.831      0.000     4.7e+05    5.31e+05\n",
      "Neighborhood_Skykomish     -1.726e+05   1.48e+05     -1.165      0.244   -4.63e+05    1.18e+05\n",
      "Neighborhood_Snoqualmie     3.437e+05   3.75e+04      9.160      0.000     2.7e+05    4.17e+05\n",
      "Neighborhood_Vashon         1.339e+05   4.56e+04      2.938      0.003    4.46e+04    2.23e+05\n",
      "Neighborhood_Woodinville     5.78e+05   2.85e+04     20.259      0.000    5.22e+05    6.34e+05\n",
      "waterfront_YES              1.322e+06   2.69e+04     49.142      0.000    1.27e+06    1.37e+06\n",
      "==============================================================================\n",
      "Omnibus:                    46852.734   Durbin-Watson:                   1.906\n",
      "Prob(Omnibus):                  0.000   Jarque-Bera (JB):        115863436.423\n",
      "Skew:                           9.993   Prob(JB):                         0.00\n",
      "Kurtosis:                     311.201   Cond. No.                     2.83e+05\n",
      "==============================================================================\n",
      "\n",
      "Notes:\n",
      "[1] Standard Errors assume that the covariance matrix of the errors is correctly specified.\n",
      "[2] The condition number is large, 2.83e+05. This might indicate that there are\n",
      "strong multicollinearity or other numerical problems.\n"
     ]
    }
   ],
   "source": [
    "model = sm.OLS(y, sm.add_constant(X_iter1))\n",
    "results = model.fit()\n",
    "print(results.summary())"
   ]
  },
  {
   "cell_type": "code",
   "execution_count": 87,
   "metadata": {},
   "outputs": [
    {
     "data": {
      "image/png": "[encoded data removed]",
      "text/plain": [
       "<Figure size 1440x3600 with 31 Axes>"
      ]
     },
     "metadata": {
      "needs_background": "light"
     },
     "output_type": "display_data"
    }
   ],
   "source": [
    "fig = plt.figure(figsize=(20,50))\n",
    "sm.graphics.plot_partregress_grid(\n",
    "    results, \n",
    "    exog_idx=list(X_iter1.columns),\n",
    "    grid=(10,15),\n",
    "    fig=fig)\n",
    "plt.tight_layout()\n",
    "plt.show()"
   ]
  },
  {
   "cell_type": "code",
   "execution_count": 88,
   "metadata": {},
   "outputs": [],
   "source": [
    "# X_iter"
   ]
  },
  {
   "cell_type": "code",
   "execution_count": 89,
   "metadata": {},
   "outputs": [],
   "source": [
    "# iter_model = sm.OLS(y, sm.add_constant(X_iter))\n",
    "# iter_results = iter_model.fit()\n",
    "# print(iter_results.summary())"
   ]
  },
  {
   "cell_type": "code",
   "execution_count": 90,
   "metadata": {},
   "outputs": [],
   "source": [
    "# iter_mae = mean_absolute_error(y, iter_results.predict(sm.add_constant(X_iter)))\n",
    "# iter_mae"
   ]
  },
  {
   "cell_type": "markdown",
   "metadata": {},
   "source": [
    "Our iterated model explains about 53 percent of the variance in `price` using `sqft_living` and `Neighborhood`. There  Overall this model is statistically significant, explaining about 38 percent of the variance in price."
   ]
  },
  {
   "cell_type": "code",
   "execution_count": 92,
   "metadata": {},
   "outputs": [],
   "source": [
    "# fig = plt.figure(figsize=(30,220))\n",
    "# sm.graphics.plot_partregress_grid(\n",
    "#     iter_results, \n",
    "#     exog_idx=list(X_iter.columns),\n",
    "#     grid=(14,15),\n",
    "#     fig=fig)\n",
    "# plt.tight_layout()\n",
    "# plt.show()"
   ]
  },
  {
   "cell_type": "code",
   "execution_count": 93,
   "metadata": {
    "scrolled": false
   },
   "outputs": [
    {
     "data": {
      "text/plain": [
       "<AxesSubplot:>"
      ]
     },
     "execution_count": 93,
     "metadata": {},
     "output_type": "execute_result"
    },
    {
     "data": {
      "image/png": "[encoded data removed]",
      "text/plain": [
       "<Figure size 432x288 with 2 Axes>"
      ]
     },
     "metadata": {
      "needs_background": "light"
     },
     "output_type": "display_data"
    }
   ],
   "source": [
    "sns.heatmap(X.corr())"
   ]
  },
  {
   "cell_type": "markdown",
   "metadata": {},
   "source": [
    "ccpr function partial "
   ]
  },
  {
   "cell_type": "code",
   "execution_count": 94,
   "metadata": {},
   "outputs": [],
   "source": [
    "# df1['Neighborhood'].value_counts()"
   ]
  },
  {
   "cell_type": "code",
   "execution_count": 95,
   "metadata": {},
   "outputs": [],
   "source": [
    "# sns.heatmap(X.corr())"
   ]
  },
  {
   "cell_type": "code",
   "execution_count": 96,
   "metadata": {},
   "outputs": [],
   "source": [
    "# df1.heat_source"
   ]
  },
  {
   "cell_type": "markdown",
   "metadata": {},
   "source": [
    "### Model Iteration"
   ]
  },
  {
   "cell_type": "code",
   "execution_count": 97,
   "metadata": {
    "scrolled": true
   },
   "outputs": [
    {
     "data": {
      "text/html": [
       "<table class=\"simpletable\">\n",
       "<caption>OLS Regression Results</caption>\n",
       "<tr>\n",
       "  <th>Dep. Variable:</th>          <td>price</td>      <th>  R-squared:         </th>  <td>   0.642</td>  \n",
       "</tr>\n",
       "<tr>\n",
       "  <th>Model:</th>                   <td>OLS</td>       <th>  Adj. R-squared:    </th>  <td>   0.641</td>  \n",
       "</tr>\n",
       "<tr>\n",
       "  <th>Method:</th>             <td>Least Squares</td>  <th>  F-statistic:       </th>  <td>   815.4</td>  \n",
       "</tr>\n",
       "<tr>\n",
       "  <th>Date:</th>             <td>Wed, 21 Sep 2022</td> <th>  Prob (F-statistic):</th>   <td>  0.00</td>   \n",
       "</tr>\n",
       "<tr>\n",
       "  <th>Time:</th>                 <td>22:20:10</td>     <th>  Log-Likelihood:    </th> <td>-4.2593e+05</td>\n",
       "</tr>\n",
       "<tr>\n",
       "  <th>No. Observations:</th>      <td> 29152</td>      <th>  AIC:               </th>  <td>8.520e+05</td> \n",
       "</tr>\n",
       "<tr>\n",
       "  <th>Df Residuals:</th>          <td> 29087</td>      <th>  BIC:               </th>  <td>8.525e+05</td> \n",
       "</tr>\n",
       "<tr>\n",
       "  <th>Df Model:</th>              <td>    64</td>      <th>                     </th>      <td> </td>     \n",
       "</tr>\n",
       "<tr>\n",
       "  <th>Covariance Type:</th>      <td>nonrobust</td>    <th>                     </th>      <td> </td>     \n",
       "</tr>\n",
       "</table>\n",
       "<table class=\"simpletable\">\n",
       "<tr>\n",
       "                 <td></td>                    <th>coef</th>     <th>std err</th>      <th>t</th>      <th>P>|t|</th>  <th>[0.025</th>    <th>0.975]</th>  \n",
       "</tr>\n",
       "<tr>\n",
       "  <th>const</th>                           <td>  2.22e+06</td> <td> 1.23e+06</td> <td>    1.801</td> <td> 0.072</td> <td>-1.97e+05</td> <td> 4.64e+06</td>\n",
       "</tr>\n",
       "<tr>\n",
       "  <th>bedrooms</th>                        <td>-4.164e+04</td> <td> 4722.854</td> <td>   -8.817</td> <td> 0.000</td> <td>-5.09e+04</td> <td>-3.24e+04</td>\n",
       "</tr>\n",
       "<tr>\n",
       "  <th>bathrooms</th>                       <td> 7.042e+04</td> <td> 6445.562</td> <td>   10.926</td> <td> 0.000</td> <td> 5.78e+04</td> <td> 8.31e+04</td>\n",
       "</tr>\n",
       "<tr>\n",
       "  <th>sqft_living</th>                     <td>   56.9762</td> <td>   14.705</td> <td>    3.875</td> <td> 0.000</td> <td>   28.155</td> <td>   85.798</td>\n",
       "</tr>\n",
       "<tr>\n",
       "  <th>sqft_lot</th>                        <td>    0.4536</td> <td>    0.057</td> <td>    7.936</td> <td> 0.000</td> <td>    0.342</td> <td>    0.566</td>\n",
       "</tr>\n",
       "<tr>\n",
       "  <th>sqft_above</th>                      <td>  255.2578</td> <td>   14.605</td> <td>   17.477</td> <td> 0.000</td> <td>  226.631</td> <td>  283.885</td>\n",
       "</tr>\n",
       "<tr>\n",
       "  <th>sqft_basement</th>                   <td>  134.4326</td> <td>   11.245</td> <td>   11.955</td> <td> 0.000</td> <td>  112.392</td> <td>  156.473</td>\n",
       "</tr>\n",
       "<tr>\n",
       "  <th>sqft_garage</th>                     <td> -131.4608</td> <td>   15.748</td> <td>   -8.348</td> <td> 0.000</td> <td> -162.328</td> <td> -100.593</td>\n",
       "</tr>\n",
       "<tr>\n",
       "  <th>sqft_patio</th>                      <td>   63.6995</td> <td>   14.714</td> <td>    4.329</td> <td> 0.000</td> <td>   34.860</td> <td>   92.539</td>\n",
       "</tr>\n",
       "<tr>\n",
       "  <th>yr_built</th>                        <td> -912.3150</td> <td>  609.903</td> <td>   -1.496</td> <td> 0.135</td> <td>-2107.752</td> <td>  283.122</td>\n",
       "</tr>\n",
       "<tr>\n",
       "  <th>yr_renovated</th>                    <td>   62.2060</td> <td>   19.324</td> <td>    3.219</td> <td> 0.001</td> <td>   24.330</td> <td>  100.083</td>\n",
       "</tr>\n",
       "<tr>\n",
       "  <th>yr_old</th>                          <td>  664.4318</td> <td>  614.962</td> <td>    1.080</td> <td> 0.280</td> <td> -540.921</td> <td> 1869.785</td>\n",
       "</tr>\n",
       "<tr>\n",
       "  <th>Population</th>                      <td>    1.1787</td> <td>    0.373</td> <td>    3.158</td> <td> 0.002</td> <td>    0.447</td> <td>    1.910</td>\n",
       "</tr>\n",
       "<tr>\n",
       "  <th>waterfront_YES</th>                  <td> 7.538e+05</td> <td> 2.91e+04</td> <td>   25.913</td> <td> 0.000</td> <td> 6.97e+05</td> <td> 8.11e+05</td>\n",
       "</tr>\n",
       "<tr>\n",
       "  <th>greenbelt_YES</th>                   <td>-6.456e+04</td> <td> 2.03e+04</td> <td>   -3.179</td> <td> 0.001</td> <td>-1.04e+05</td> <td>-2.48e+04</td>\n",
       "</tr>\n",
       "<tr>\n",
       "  <th>nuisance_YES</th>                    <td>-2.371e+04</td> <td> 8577.367</td> <td>   -2.764</td> <td> 0.006</td> <td>-4.05e+04</td> <td>-6898.056</td>\n",
       "</tr>\n",
       "<tr>\n",
       "  <th>view_EXCELLENT</th>                  <td> 6.417e+05</td> <td> 2.94e+04</td> <td>   21.794</td> <td> 0.000</td> <td> 5.84e+05</td> <td> 6.99e+05</td>\n",
       "</tr>\n",
       "<tr>\n",
       "  <th>view_FAIR</th>                       <td> 1.147e+05</td> <td> 3.88e+04</td> <td>    2.957</td> <td> 0.003</td> <td> 3.87e+04</td> <td> 1.91e+05</td>\n",
       "</tr>\n",
       "<tr>\n",
       "  <th>view_GOOD</th>                       <td> 4.735e+04</td> <td> 2.22e+04</td> <td>    2.135</td> <td> 0.033</td> <td> 3884.376</td> <td> 9.08e+04</td>\n",
       "</tr>\n",
       "<tr>\n",
       "  <th>view_NONE</th>                       <td> -7.72e+04</td> <td> 1.34e+04</td> <td>   -5.760</td> <td> 0.000</td> <td>-1.03e+05</td> <td>-5.09e+04</td>\n",
       "</tr>\n",
       "<tr>\n",
       "  <th>condition_Fair</th>                  <td>-1.184e+05</td> <td> 3.67e+04</td> <td>   -3.223</td> <td> 0.001</td> <td> -1.9e+05</td> <td>-4.64e+04</td>\n",
       "</tr>\n",
       "<tr>\n",
       "  <th>condition_Good</th>                  <td> 3.929e+04</td> <td> 8050.077</td> <td>    4.881</td> <td> 0.000</td> <td> 2.35e+04</td> <td> 5.51e+04</td>\n",
       "</tr>\n",
       "<tr>\n",
       "  <th>condition_Poor</th>                  <td>-9.245e+04</td> <td> 7.11e+04</td> <td>   -1.300</td> <td> 0.193</td> <td>-2.32e+05</td> <td> 4.69e+04</td>\n",
       "</tr>\n",
       "<tr>\n",
       "  <th>condition_Very Good</th>             <td> 1.004e+05</td> <td> 1.13e+04</td> <td>    8.879</td> <td> 0.000</td> <td> 7.83e+04</td> <td> 1.23e+05</td>\n",
       "</tr>\n",
       "<tr>\n",
       "  <th>heat_source_Electricity/Solar</th>   <td>-7.649e+04</td> <td> 7.15e+04</td> <td>   -1.071</td> <td> 0.284</td> <td>-2.17e+05</td> <td> 6.36e+04</td>\n",
       "</tr>\n",
       "<tr>\n",
       "  <th>heat_source_Gas</th>                 <td> 1.127e+04</td> <td> 7659.349</td> <td>    1.472</td> <td> 0.141</td> <td>-3740.230</td> <td> 2.63e+04</td>\n",
       "</tr>\n",
       "<tr>\n",
       "  <th>heat_source_Gas/Solar</th>           <td> 1.778e+05</td> <td> 5.62e+04</td> <td>    3.165</td> <td> 0.002</td> <td> 6.77e+04</td> <td> 2.88e+05</td>\n",
       "</tr>\n",
       "<tr>\n",
       "  <th>sewer_system_PRIVATE RESTRICTED</th> <td>-5.758e+05</td> <td> 2.45e+05</td> <td>   -2.347</td> <td> 0.019</td> <td>-1.06e+06</td> <td>-9.49e+04</td>\n",
       "</tr>\n",
       "<tr>\n",
       "  <th>sewer_system_PUBLIC</th>             <td> 9.811e+04</td> <td> 1.11e+04</td> <td>    8.860</td> <td> 0.000</td> <td> 7.64e+04</td> <td>  1.2e+05</td>\n",
       "</tr>\n",
       "<tr>\n",
       "  <th>Neighborhood_Bellevue</th>           <td> 1.021e+06</td> <td> 1.91e+04</td> <td>   53.326</td> <td> 0.000</td> <td> 9.83e+05</td> <td> 1.06e+06</td>\n",
       "</tr>\n",
       "<tr>\n",
       "  <th>Neighborhood_Bothell</th>            <td> 4.547e+05</td> <td> 3.56e+04</td> <td>   12.786</td> <td> 0.000</td> <td> 3.85e+05</td> <td> 5.24e+05</td>\n",
       "</tr>\n",
       "<tr>\n",
       "  <th>Neighborhood_Carnation</th>          <td>   2.4e+05</td> <td> 4.57e+04</td> <td>    5.249</td> <td> 0.000</td> <td>  1.5e+05</td> <td>  3.3e+05</td>\n",
       "</tr>\n",
       "<tr>\n",
       "  <th>Neighborhood_Duvall</th>             <td> 2.542e+05</td> <td> 3.72e+04</td> <td>    6.833</td> <td> 0.000</td> <td> 1.81e+05</td> <td> 3.27e+05</td>\n",
       "</tr>\n",
       "<tr>\n",
       "  <th>Neighborhood_Enumclaw</th>           <td>   2.6e+04</td> <td> 2.84e+04</td> <td>    0.915</td> <td> 0.360</td> <td>-2.97e+04</td> <td> 8.17e+04</td>\n",
       "</tr>\n",
       "<tr>\n",
       "  <th>Neighborhood_Fall City</th>          <td> 6.439e+05</td> <td> 5.31e+04</td> <td>   12.134</td> <td> 0.000</td> <td>  5.4e+05</td> <td> 7.48e+05</td>\n",
       "</tr>\n",
       "<tr>\n",
       "  <th>Neighborhood_Federal Way</th>        <td>-3.424e+04</td> <td> 2.11e+04</td> <td>   -1.619</td> <td> 0.105</td> <td>-7.57e+04</td> <td> 7202.378</td>\n",
       "</tr>\n",
       "<tr>\n",
       "  <th>Neighborhood_Gold Bar</th>           <td> 3.376e+05</td> <td>  3.1e+05</td> <td>    1.087</td> <td> 0.277</td> <td>-2.71e+05</td> <td> 9.46e+05</td>\n",
       "</tr>\n",
       "<tr>\n",
       "  <th>Neighborhood_Issaquah</th>           <td> 5.279e+05</td> <td> 2.41e+04</td> <td>   21.919</td> <td> 0.000</td> <td> 4.81e+05</td> <td> 5.75e+05</td>\n",
       "</tr>\n",
       "<tr>\n",
       "  <th>Neighborhood_Kenmore</th>            <td> 3.938e+05</td> <td> 3.16e+04</td> <td>   12.463</td> <td> 0.000</td> <td> 3.32e+05</td> <td> 4.56e+05</td>\n",
       "</tr>\n",
       "<tr>\n",
       "  <th>Neighborhood_Kent</th>               <td> 4.749e+04</td> <td> 1.74e+04</td> <td>    2.734</td> <td> 0.006</td> <td> 1.34e+04</td> <td> 8.15e+04</td>\n",
       "</tr>\n",
       "<tr>\n",
       "  <th>Neighborhood_Kirkland</th>           <td>  8.35e+05</td> <td> 1.98e+04</td> <td>   42.175</td> <td> 0.000</td> <td> 7.96e+05</td> <td> 8.74e+05</td>\n",
       "</tr>\n",
       "<tr>\n",
       "  <th>Neighborhood_Maple Valley</th>       <td> 1.161e+05</td> <td> 2.21e+04</td> <td>    5.249</td> <td> 0.000</td> <td> 7.28e+04</td> <td>  1.6e+05</td>\n",
       "</tr>\n",
       "<tr>\n",
       "  <th>Neighborhood_Medina</th>             <td> 3.355e+06</td> <td> 7.24e+04</td> <td>   46.321</td> <td> 0.000</td> <td> 3.21e+06</td> <td>  3.5e+06</td>\n",
       "</tr>\n",
       "<tr>\n",
       "  <th>Neighborhood_Mercer Island</th>      <td> 1.184e+06</td> <td> 3.26e+04</td> <td>   36.280</td> <td> 0.000</td> <td> 1.12e+06</td> <td> 1.25e+06</td>\n",
       "</tr>\n",
       "<tr>\n",
       "  <th>Neighborhood_North Bend</th>         <td> 2.763e+05</td> <td> 2.85e+04</td> <td>    9.704</td> <td> 0.000</td> <td>  2.2e+05</td> <td> 3.32e+05</td>\n",
       "</tr>\n",
       "<tr>\n",
       "  <th>Neighborhood_Pacific</th>            <td> 1.364e+05</td> <td> 6.32e+04</td> <td>    2.159</td> <td> 0.031</td> <td> 1.25e+04</td> <td>  2.6e+05</td>\n",
       "</tr>\n",
       "<tr>\n",
       "  <th>Neighborhood_Preston</th>            <td>  6.14e+05</td> <td>  3.8e+05</td> <td>    1.615</td> <td> 0.106</td> <td>-1.31e+05</td> <td> 1.36e+06</td>\n",
       "</tr>\n",
       "<tr>\n",
       "  <th>Neighborhood_Ravensdale</th>         <td> 1.093e+05</td> <td> 6.85e+04</td> <td>    1.596</td> <td> 0.110</td> <td>-2.49e+04</td> <td> 2.43e+05</td>\n",
       "</tr>\n",
       "<tr>\n",
       "  <th>Neighborhood_Redmond</th>            <td> 6.836e+05</td> <td>  2.2e+04</td> <td>   31.109</td> <td> 0.000</td> <td> 6.41e+05</td> <td> 7.27e+05</td>\n",
       "</tr>\n",
       "<tr>\n",
       "  <th>Neighborhood_Renton</th>             <td> 1.959e+05</td> <td> 1.71e+04</td> <td>   11.487</td> <td> 0.000</td> <td> 1.62e+05</td> <td> 2.29e+05</td>\n",
       "</tr>\n",
       "<tr>\n",
       "  <th>Neighborhood_Sammamish</th>          <td> 6.148e+05</td> <td> 2.29e+04</td> <td>   26.826</td> <td> 0.000</td> <td>  5.7e+05</td> <td>  6.6e+05</td>\n",
       "</tr>\n",
       "<tr>\n",
       "  <th>Neighborhood_Seattle</th>            <td> 3.749e+05</td> <td> 1.47e+04</td> <td>   25.501</td> <td> 0.000</td> <td> 3.46e+05</td> <td> 4.04e+05</td>\n",
       "</tr>\n",
       "<tr>\n",
       "  <th>Neighborhood_Snoqualmie</th>         <td> 3.378e+05</td> <td> 3.45e+04</td> <td>    9.784</td> <td> 0.000</td> <td>  2.7e+05</td> <td> 4.05e+05</td>\n",
       "</tr>\n",
       "<tr>\n",
       "  <th>Neighborhood_Vashon</th>             <td> 8.282e+04</td> <td> 4.24e+04</td> <td>    1.954</td> <td> 0.051</td> <td> -257.855</td> <td> 1.66e+05</td>\n",
       "</tr>\n",
       "<tr>\n",
       "  <th>Neighborhood_Woodinville</th>        <td> 5.516e+05</td> <td> 2.63e+04</td> <td>   20.970</td> <td> 0.000</td> <td>    5e+05</td> <td> 6.03e+05</td>\n",
       "</tr>\n",
       "<tr>\n",
       "  <th>grade_11 Excellent</th>              <td>  7.12e+05</td> <td> 3.11e+04</td> <td>   22.924</td> <td> 0.000</td> <td> 6.51e+05</td> <td> 7.73e+05</td>\n",
       "</tr>\n",
       "<tr>\n",
       "  <th>grade_12 Luxury</th>                 <td> 1.578e+06</td> <td> 5.25e+04</td> <td>   30.076</td> <td> 0.000</td> <td> 1.48e+06</td> <td> 1.68e+06</td>\n",
       "</tr>\n",
       "<tr>\n",
       "  <th>grade_13 Mansion</th>                <td> 3.266e+06</td> <td> 1.14e+05</td> <td>   28.679</td> <td> 0.000</td> <td> 3.04e+06</td> <td> 3.49e+06</td>\n",
       "</tr>\n",
       "<tr>\n",
       "  <th>grade_3 Poor</th>                    <td> -6.41e+05</td> <td> 1.87e+05</td> <td>   -3.425</td> <td> 0.001</td> <td>-1.01e+06</td> <td>-2.74e+05</td>\n",
       "</tr>\n",
       "<tr>\n",
       "  <th>grade_4 Low</th>                     <td>-6.301e+05</td> <td> 8.39e+04</td> <td>   -7.510</td> <td> 0.000</td> <td>-7.95e+05</td> <td>-4.66e+05</td>\n",
       "</tr>\n",
       "<tr>\n",
       "  <th>grade_5 Fair</th>                    <td>-5.925e+05</td> <td> 3.62e+04</td> <td>  -16.347</td> <td> 0.000</td> <td>-6.64e+05</td> <td>-5.21e+05</td>\n",
       "</tr>\n",
       "<tr>\n",
       "  <th>grade_6 Low Average</th>             <td>-6.083e+05</td> <td> 2.41e+04</td> <td>  -25.221</td> <td> 0.000</td> <td>-6.56e+05</td> <td>-5.61e+05</td>\n",
       "</tr>\n",
       "<tr>\n",
       "  <th>grade_7 Average</th>                 <td>-5.948e+05</td> <td> 2.03e+04</td> <td>  -29.327</td> <td> 0.000</td> <td>-6.35e+05</td> <td>-5.55e+05</td>\n",
       "</tr>\n",
       "<tr>\n",
       "  <th>grade_8 Good</th>                    <td>-5.034e+05</td> <td> 1.84e+04</td> <td>  -27.411</td> <td> 0.000</td> <td>-5.39e+05</td> <td>-4.67e+05</td>\n",
       "</tr>\n",
       "<tr>\n",
       "  <th>grade_9 Better</th>                  <td>-2.648e+05</td> <td>  1.8e+04</td> <td>  -14.678</td> <td> 0.000</td> <td>   -3e+05</td> <td>-2.29e+05</td>\n",
       "</tr>\n",
       "</table>\n",
       "<table class=\"simpletable\">\n",
       "<tr>\n",
       "  <th>Omnibus:</th>       <td>47327.712</td> <th>  Durbin-Watson:     </th>   <td>   1.896</td>   \n",
       "</tr>\n",
       "<tr>\n",
       "  <th>Prob(Omnibus):</th>  <td> 0.000</td>   <th>  Jarque-Bera (JB):  </th> <td>141696496.563</td>\n",
       "</tr>\n",
       "<tr>\n",
       "  <th>Skew:</th>           <td>10.138</td>   <th>  Prob(JB):          </th>   <td>    0.00</td>   \n",
       "</tr>\n",
       "<tr>\n",
       "  <th>Kurtosis:</th>       <td>343.945</td>  <th>  Cond. No.          </th>   <td>2.50e+07</td>   \n",
       "</tr>\n",
       "</table><br/><br/>Notes:<br/>[1] Standard Errors assume that the covariance matrix of the errors is correctly specified.<br/>[2] The condition number is large, 2.5e+07. This might indicate that there are<br/>strong multicollinearity or other numerical problems."
      ],
      "text/plain": [
       "<class 'statsmodels.iolib.summary.Summary'>\n",
       "\"\"\"\n",
       "                            OLS Regression Results                            \n",
       "==============================================================================\n",
       "Dep. Variable:                  price   R-squared:                       0.642\n",
       "Model:                            OLS   Adj. R-squared:                  0.641\n",
       "Method:                 Least Squares   F-statistic:                     815.4\n",
       "Date:                Wed, 21 Sep 2022   Prob (F-statistic):               0.00\n",
       "Time:                        22:20:10   Log-Likelihood:            -4.2593e+05\n",
       "No. Observations:               29152   AIC:                         8.520e+05\n",
       "Df Residuals:                   29087   BIC:                         8.525e+05\n",
       "Df Model:                          64                                         \n",
       "Covariance Type:            nonrobust                                         \n",
       "===================================================================================================\n",
       "                                      coef    std err          t      P>|t|      [0.025      0.975]\n",
       "---------------------------------------------------------------------------------------------------\n",
       "const                             2.22e+06   1.23e+06      1.801      0.072   -1.97e+05    4.64e+06\n",
       "bedrooms                        -4.164e+04   4722.854     -8.817      0.000   -5.09e+04   -3.24e+04\n",
       "bathrooms                        7.042e+04   6445.562     10.926      0.000    5.78e+04    8.31e+04\n",
       "sqft_living                        56.9762     14.705      3.875      0.000      28.155      85.798\n",
       "sqft_lot                            0.4536      0.057      7.936      0.000       0.342       0.566\n",
       "sqft_above                        255.2578     14.605     17.477      0.000     226.631     283.885\n",
       "sqft_basement                     134.4326     11.245     11.955      0.000     112.392     156.473\n",
       "sqft_garage                      -131.4608     15.748     -8.348      0.000    -162.328    -100.593\n",
       "sqft_patio                         63.6995     14.714      4.329      0.000      34.860      92.539\n",
       "yr_built                         -912.3150    609.903     -1.496      0.135   -2107.752     283.122\n",
       "yr_renovated                       62.2060     19.324      3.219      0.001      24.330     100.083\n",
       "yr_old                            664.4318    614.962      1.080      0.280    -540.921    1869.785\n",
       "Population                          1.1787      0.373      3.158      0.002       0.447       1.910\n",
       "waterfront_YES                   7.538e+05   2.91e+04     25.913      0.000    6.97e+05    8.11e+05\n",
       "greenbelt_YES                   -6.456e+04   2.03e+04     -3.179      0.001   -1.04e+05   -2.48e+04\n",
       "nuisance_YES                    -2.371e+04   8577.367     -2.764      0.006   -4.05e+04   -6898.056\n",
       "view_EXCELLENT                   6.417e+05   2.94e+04     21.794      0.000    5.84e+05    6.99e+05\n",
       "view_FAIR                        1.147e+05   3.88e+04      2.957      0.003    3.87e+04    1.91e+05\n",
       "view_GOOD                        4.735e+04   2.22e+04      2.135      0.033    3884.376    9.08e+04\n",
       "view_NONE                        -7.72e+04   1.34e+04     -5.760      0.000   -1.03e+05   -5.09e+04\n",
       "condition_Fair                  -1.184e+05   3.67e+04     -3.223      0.001    -1.9e+05   -4.64e+04\n",
       "condition_Good                   3.929e+04   8050.077      4.881      0.000    2.35e+04    5.51e+04\n",
       "condition_Poor                  -9.245e+04   7.11e+04     -1.300      0.193   -2.32e+05    4.69e+04\n",
       "condition_Very Good              1.004e+05   1.13e+04      8.879      0.000    7.83e+04    1.23e+05\n",
       "heat_source_Electricity/Solar   -7.649e+04   7.15e+04     -1.071      0.284   -2.17e+05    6.36e+04\n",
       "heat_source_Gas                  1.127e+04   7659.349      1.472      0.141   -3740.230    2.63e+04\n",
       "heat_source_Gas/Solar            1.778e+05   5.62e+04      3.165      0.002    6.77e+04    2.88e+05\n",
       "sewer_system_PRIVATE RESTRICTED -5.758e+05   2.45e+05     -2.347      0.019   -1.06e+06   -9.49e+04\n",
       "sewer_system_PUBLIC              9.811e+04   1.11e+04      8.860      0.000    7.64e+04     1.2e+05\n",
       "Neighborhood_Bellevue            1.021e+06   1.91e+04     53.326      0.000    9.83e+05    1.06e+06\n",
       "Neighborhood_Bothell             4.547e+05   3.56e+04     12.786      0.000    3.85e+05    5.24e+05\n",
       "Neighborhood_Carnation             2.4e+05   4.57e+04      5.249      0.000     1.5e+05     3.3e+05\n",
       "Neighborhood_Duvall              2.542e+05   3.72e+04      6.833      0.000    1.81e+05    3.27e+05\n",
       "Neighborhood_Enumclaw              2.6e+04   2.84e+04      0.915      0.360   -2.97e+04    8.17e+04\n",
       "Neighborhood_Fall City           6.439e+05   5.31e+04     12.134      0.000     5.4e+05    7.48e+05\n",
       "Neighborhood_Federal Way        -3.424e+04   2.11e+04     -1.619      0.105   -7.57e+04    7202.378\n",
       "Neighborhood_Gold Bar            3.376e+05    3.1e+05      1.087      0.277   -2.71e+05    9.46e+05\n",
       "Neighborhood_Issaquah            5.279e+05   2.41e+04     21.919      0.000    4.81e+05    5.75e+05\n",
       "Neighborhood_Kenmore             3.938e+05   3.16e+04     12.463      0.000    3.32e+05    4.56e+05\n",
       "Neighborhood_Kent                4.749e+04   1.74e+04      2.734      0.006    1.34e+04    8.15e+04\n",
       "Neighborhood_Kirkland             8.35e+05   1.98e+04     42.175      0.000    7.96e+05    8.74e+05\n",
       "Neighborhood_Maple Valley        1.161e+05   2.21e+04      5.249      0.000    7.28e+04     1.6e+05\n",
       "Neighborhood_Medina              3.355e+06   7.24e+04     46.321      0.000    3.21e+06     3.5e+06\n",
       "Neighborhood_Mercer Island       1.184e+06   3.26e+04     36.280      0.000    1.12e+06    1.25e+06\n",
       "Neighborhood_North Bend          2.763e+05   2.85e+04      9.704      0.000     2.2e+05    3.32e+05\n",
       "Neighborhood_Pacific             1.364e+05   6.32e+04      2.159      0.031    1.25e+04     2.6e+05\n",
       "Neighborhood_Preston              6.14e+05    3.8e+05      1.615      0.106   -1.31e+05    1.36e+06\n",
       "Neighborhood_Ravensdale          1.093e+05   6.85e+04      1.596      0.110   -2.49e+04    2.43e+05\n",
       "Neighborhood_Redmond             6.836e+05    2.2e+04     31.109      0.000    6.41e+05    7.27e+05\n",
       "Neighborhood_Renton              1.959e+05   1.71e+04     11.487      0.000    1.62e+05    2.29e+05\n",
       "Neighborhood_Sammamish           6.148e+05   2.29e+04     26.826      0.000     5.7e+05     6.6e+05\n",
       "Neighborhood_Seattle             3.749e+05   1.47e+04     25.501      0.000    3.46e+05    4.04e+05\n",
       "Neighborhood_Snoqualmie          3.378e+05   3.45e+04      9.784      0.000     2.7e+05    4.05e+05\n",
       "Neighborhood_Vashon              8.282e+04   4.24e+04      1.954      0.051    -257.855    1.66e+05\n",
       "Neighborhood_Woodinville         5.516e+05   2.63e+04     20.970      0.000       5e+05    6.03e+05\n",
       "grade_11 Excellent                7.12e+05   3.11e+04     22.924      0.000    6.51e+05    7.73e+05\n",
       "grade_12 Luxury                  1.578e+06   5.25e+04     30.076      0.000    1.48e+06    1.68e+06\n",
       "grade_13 Mansion                 3.266e+06   1.14e+05     28.679      0.000    3.04e+06    3.49e+06\n",
       "grade_3 Poor                     -6.41e+05   1.87e+05     -3.425      0.001   -1.01e+06   -2.74e+05\n",
       "grade_4 Low                     -6.301e+05   8.39e+04     -7.510      0.000   -7.95e+05   -4.66e+05\n",
       "grade_5 Fair                    -5.925e+05   3.62e+04    -16.347      0.000   -6.64e+05   -5.21e+05\n",
       "grade_6 Low Average             -6.083e+05   2.41e+04    -25.221      0.000   -6.56e+05   -5.61e+05\n",
       "grade_7 Average                 -5.948e+05   2.03e+04    -29.327      0.000   -6.35e+05   -5.55e+05\n",
       "grade_8 Good                    -5.034e+05   1.84e+04    -27.411      0.000   -5.39e+05   -4.67e+05\n",
       "grade_9 Better                  -2.648e+05    1.8e+04    -14.678      0.000      -3e+05   -2.29e+05\n",
       "==============================================================================\n",
       "Omnibus:                    47327.712   Durbin-Watson:                   1.896\n",
       "Prob(Omnibus):                  0.000   Jarque-Bera (JB):        141696496.563\n",
       "Skew:                          10.138   Prob(JB):                         0.00\n",
       "Kurtosis:                     343.945   Cond. No.                     2.50e+07\n",
       "==============================================================================\n",
       "\n",
       "Notes:\n",
       "[1] Standard Errors assume that the covariance matrix of the errors is correctly specified.\n",
       "[2] The condition number is large, 2.5e+07. This might indicate that there are\n",
       "strong multicollinearity or other numerical problems.\n",
       "\"\"\""
      ]
     },
     "execution_count": 97,
     "metadata": {},
     "output_type": "execute_result"
    }
   ],
   "source": [
    "# running our model with dummified predictors\n",
    "X1=dum_df1.drop(labels=['selldate', 'price', 'Zipcode', 'address', 'lat', 'long', \n",
    "                       'sewer_system_PUBLIC RESTRICTED',\n",
    "                      'heat_source_Oil', 'heat_source_Oil/Solar', 'heat_source_Other',\n",
    "                      'floors', 'Neighborhood_Skykomish', 'Neighborhood_Black Diamond',\n",
    "                      'Neighborhood_Baring', 'grade_2 Substandard' ], axis=1)\n",
    "y=dum_df1.price\n",
    "\n",
    "model_1 = sm.OLS(y, sm.add_constant(X1))\n",
    "results1 = model_1.fit()\n",
    "results1.summary()"
   ]
  },
  {
   "cell_type": "code",
   "execution_count": 98,
   "metadata": {},
   "outputs": [
    {
     "data": {
      "text/plain": [
       "274566.9981449575"
      ]
     },
     "execution_count": 98,
     "metadata": {},
     "output_type": "execute_result"
    }
   ],
   "source": [
    "mae = mean_absolute_error(y, results1.predict(sm.add_constant(X1)))\n",
    "mae"
   ]
  },
  {
   "cell_type": "markdown",
   "metadata": {},
   "source": [
    "### Utilizing categorical variables"
   ]
  },
  {
   "cell_type": "markdown",
   "metadata": {},
   "source": [
    "Well, we have a much higher R-squared number after incorporating the dummified categorical predictors, as this model claims to explain 64 percent of the variance in `price`.   The constant is no longer statistically significant, so we need to adjust our figures to more accurately account for why that is happening.  We should next remove columns that are statistically significant.  "
   ]
  },
  {
   "cell_type": "markdown",
   "metadata": {},
   "source": [
    "MAE dropped significantly.  "
   ]
  },
  {
   "cell_type": "markdown",
   "metadata": {},
   "source": [
    "## Addressing Multicolinerity"
   ]
  },
  {
   "cell_type": "code",
   "execution_count": 99,
   "metadata": {},
   "outputs": [
    {
     "data": {
      "text/html": [
       "<div>\n",
       "<style scoped>\n",
       "    .dataframe tbody tr th:only-of-type {\n",
       "        vertical-align: middle;\n",
       "    }\n",
       "\n",
       "    .dataframe tbody tr th {\n",
       "        vertical-align: top;\n",
       "    }\n",
       "\n",
       "    .dataframe thead th {\n",
       "        text-align: right;\n",
       "    }\n",
       "</style>\n",
       "<table border=\"1\" class=\"dataframe\">\n",
       "  <thead>\n",
       "    <tr style=\"text-align: right;\">\n",
       "      <th></th>\n",
       "      <th>bedrooms</th>\n",
       "      <th>bathrooms</th>\n",
       "      <th>sqft_living</th>\n",
       "      <th>sqft_lot</th>\n",
       "      <th>floors</th>\n",
       "      <th>sqft_above</th>\n",
       "      <th>sqft_basement</th>\n",
       "      <th>sqft_garage</th>\n",
       "      <th>sqft_patio</th>\n",
       "      <th>yr_built</th>\n",
       "      <th>yr_renovated</th>\n",
       "      <th>lat</th>\n",
       "      <th>long</th>\n",
       "      <th>yr_old</th>\n",
       "      <th>Population</th>\n",
       "    </tr>\n",
       "  </thead>\n",
       "  <tbody>\n",
       "    <tr>\n",
       "      <th>bedrooms</th>\n",
       "      <td>1.000000</td>\n",
       "      <td>0.593408</td>\n",
       "      <td>0.630755</td>\n",
       "      <td>0.000291</td>\n",
       "      <td>0.195625</td>\n",
       "      <td>0.537593</td>\n",
       "      <td>0.234867</td>\n",
       "      <td>0.304974</td>\n",
       "      <td>0.192084</td>\n",
       "      <td>0.182904</td>\n",
       "      <td>0.010753</td>\n",
       "      <td>-0.019399</td>\n",
       "      <td>0.133572</td>\n",
       "      <td>-0.192908</td>\n",
       "      <td>0.013681</td>\n",
       "    </tr>\n",
       "    <tr>\n",
       "      <th>bathrooms</th>\n",
       "      <td>0.593408</td>\n",
       "      <td>1.000000</td>\n",
       "      <td>0.779861</td>\n",
       "      <td>0.038917</td>\n",
       "      <td>0.427804</td>\n",
       "      <td>0.680873</td>\n",
       "      <td>0.260681</td>\n",
       "      <td>0.461214</td>\n",
       "      <td>0.333498</td>\n",
       "      <td>0.455823</td>\n",
       "      <td>0.042714</td>\n",
       "      <td>0.046573</td>\n",
       "      <td>0.178023</td>\n",
       "      <td>-0.484471</td>\n",
       "      <td>-0.055996</td>\n",
       "    </tr>\n",
       "    <tr>\n",
       "      <th>sqft_living</th>\n",
       "      <td>0.630755</td>\n",
       "      <td>0.779861</td>\n",
       "      <td>1.000000</td>\n",
       "      <td>0.118722</td>\n",
       "      <td>0.355948</td>\n",
       "      <td>0.881704</td>\n",
       "      <td>0.335856</td>\n",
       "      <td>0.503708</td>\n",
       "      <td>0.405895</td>\n",
       "      <td>0.328809</td>\n",
       "      <td>0.035455</td>\n",
       "      <td>0.046253</td>\n",
       "      <td>0.233359</td>\n",
       "      <td>-0.348872</td>\n",
       "      <td>-0.101580</td>\n",
       "    </tr>\n",
       "    <tr>\n",
       "      <th>sqft_lot</th>\n",
       "      <td>0.000291</td>\n",
       "      <td>0.038917</td>\n",
       "      <td>0.118722</td>\n",
       "      <td>1.000000</td>\n",
       "      <td>-0.020452</td>\n",
       "      <td>0.128513</td>\n",
       "      <td>0.002418</td>\n",
       "      <td>0.084977</td>\n",
       "      <td>0.157356</td>\n",
       "      <td>0.012632</td>\n",
       "      <td>0.007658</td>\n",
       "      <td>-0.074580</td>\n",
       "      <td>0.183201</td>\n",
       "      <td>-0.013746</td>\n",
       "      <td>-0.106876</td>\n",
       "    </tr>\n",
       "    <tr>\n",
       "      <th>floors</th>\n",
       "      <td>0.195625</td>\n",
       "      <td>0.427804</td>\n",
       "      <td>0.355948</td>\n",
       "      <td>-0.020452</td>\n",
       "      <td>1.000000</td>\n",
       "      <td>0.505866</td>\n",
       "      <td>-0.243438</td>\n",
       "      <td>0.179976</td>\n",
       "      <td>0.123638</td>\n",
       "      <td>0.521014</td>\n",
       "      <td>-0.015508</td>\n",
       "      <td>0.047992</td>\n",
       "      <td>0.088202</td>\n",
       "      <td>-0.531770</td>\n",
       "      <td>-0.068456</td>\n",
       "    </tr>\n",
       "    <tr>\n",
       "      <th>sqft_above</th>\n",
       "      <td>0.537593</td>\n",
       "      <td>0.680873</td>\n",
       "      <td>0.881704</td>\n",
       "      <td>0.128513</td>\n",
       "      <td>0.505866</td>\n",
       "      <td>1.000000</td>\n",
       "      <td>-0.073831</td>\n",
       "      <td>0.553849</td>\n",
       "      <td>0.320947</td>\n",
       "      <td>0.428496</td>\n",
       "      <td>0.007158</td>\n",
       "      <td>-0.024946</td>\n",
       "      <td>0.337772</td>\n",
       "      <td>-0.437168</td>\n",
       "      <td>-0.114727</td>\n",
       "    </tr>\n",
       "    <tr>\n",
       "      <th>sqft_basement</th>\n",
       "      <td>0.234867</td>\n",
       "      <td>0.260681</td>\n",
       "      <td>0.335856</td>\n",
       "      <td>0.002418</td>\n",
       "      <td>-0.243438</td>\n",
       "      <td>-0.073831</td>\n",
       "      <td>1.000000</td>\n",
       "      <td>0.017015</td>\n",
       "      <td>0.214328</td>\n",
       "      <td>-0.227452</td>\n",
       "      <td>0.052547</td>\n",
       "      <td>0.187594</td>\n",
       "      <td>-0.221703</td>\n",
       "      <td>0.207038</td>\n",
       "      <td>0.011529</td>\n",
       "    </tr>\n",
       "    <tr>\n",
       "      <th>sqft_garage</th>\n",
       "      <td>0.304974</td>\n",
       "      <td>0.461214</td>\n",
       "      <td>0.503708</td>\n",
       "      <td>0.084977</td>\n",
       "      <td>0.179976</td>\n",
       "      <td>0.553849</td>\n",
       "      <td>0.017015</td>\n",
       "      <td>1.000000</td>\n",
       "      <td>0.228163</td>\n",
       "      <td>0.496895</td>\n",
       "      <td>-0.104440</td>\n",
       "      <td>-0.131875</td>\n",
       "      <td>0.377277</td>\n",
       "      <td>-0.454424</td>\n",
       "      <td>0.002236</td>\n",
       "    </tr>\n",
       "    <tr>\n",
       "      <th>sqft_patio</th>\n",
       "      <td>0.192084</td>\n",
       "      <td>0.333498</td>\n",
       "      <td>0.405895</td>\n",
       "      <td>0.157356</td>\n",
       "      <td>0.123638</td>\n",
       "      <td>0.320947</td>\n",
       "      <td>0.214328</td>\n",
       "      <td>0.228163</td>\n",
       "      <td>1.000000</td>\n",
       "      <td>0.136048</td>\n",
       "      <td>0.057764</td>\n",
       "      <td>0.011023</td>\n",
       "      <td>0.122203</td>\n",
       "      <td>-0.155993</td>\n",
       "      <td>-0.095232</td>\n",
       "    </tr>\n",
       "    <tr>\n",
       "      <th>yr_built</th>\n",
       "      <td>0.182904</td>\n",
       "      <td>0.455823</td>\n",
       "      <td>0.328809</td>\n",
       "      <td>0.012632</td>\n",
       "      <td>0.521014</td>\n",
       "      <td>0.428496</td>\n",
       "      <td>-0.227452</td>\n",
       "      <td>0.496895</td>\n",
       "      <td>0.136048</td>\n",
       "      <td>1.000000</td>\n",
       "      <td>-0.237206</td>\n",
       "      <td>-0.152983</td>\n",
       "      <td>0.353998</td>\n",
       "      <td>-0.907946</td>\n",
       "      <td>-0.044433</td>\n",
       "    </tr>\n",
       "    <tr>\n",
       "      <th>yr_renovated</th>\n",
       "      <td>0.010753</td>\n",
       "      <td>0.042714</td>\n",
       "      <td>0.035455</td>\n",
       "      <td>0.007658</td>\n",
       "      <td>-0.015508</td>\n",
       "      <td>0.007158</td>\n",
       "      <td>0.052547</td>\n",
       "      <td>-0.104440</td>\n",
       "      <td>0.057764</td>\n",
       "      <td>-0.237206</td>\n",
       "      <td>1.000000</td>\n",
       "      <td>0.041715</td>\n",
       "      <td>-0.059761</td>\n",
       "      <td>-0.157689</td>\n",
       "      <td>-0.030505</td>\n",
       "    </tr>\n",
       "    <tr>\n",
       "      <th>lat</th>\n",
       "      <td>-0.019399</td>\n",
       "      <td>0.046573</td>\n",
       "      <td>0.046253</td>\n",
       "      <td>-0.074580</td>\n",
       "      <td>0.047992</td>\n",
       "      <td>-0.024946</td>\n",
       "      <td>0.187594</td>\n",
       "      <td>-0.131875</td>\n",
       "      <td>0.011023</td>\n",
       "      <td>-0.152983</td>\n",
       "      <td>0.041715</td>\n",
       "      <td>1.000000</td>\n",
       "      <td>-0.184541</td>\n",
       "      <td>0.136638</td>\n",
       "      <td>-0.032308</td>\n",
       "    </tr>\n",
       "    <tr>\n",
       "      <th>long</th>\n",
       "      <td>0.133572</td>\n",
       "      <td>0.178023</td>\n",
       "      <td>0.233359</td>\n",
       "      <td>0.183201</td>\n",
       "      <td>0.088202</td>\n",
       "      <td>0.337772</td>\n",
       "      <td>-0.221703</td>\n",
       "      <td>0.377277</td>\n",
       "      <td>0.122203</td>\n",
       "      <td>0.353998</td>\n",
       "      <td>-0.059761</td>\n",
       "      <td>-0.184541</td>\n",
       "      <td>1.000000</td>\n",
       "      <td>-0.328987</td>\n",
       "      <td>-0.240651</td>\n",
       "    </tr>\n",
       "    <tr>\n",
       "      <th>yr_old</th>\n",
       "      <td>-0.192908</td>\n",
       "      <td>-0.484471</td>\n",
       "      <td>-0.348872</td>\n",
       "      <td>-0.013746</td>\n",
       "      <td>-0.531770</td>\n",
       "      <td>-0.437168</td>\n",
       "      <td>0.207038</td>\n",
       "      <td>-0.454424</td>\n",
       "      <td>-0.155993</td>\n",
       "      <td>-0.907946</td>\n",
       "      <td>-0.157689</td>\n",
       "      <td>0.136638</td>\n",
       "      <td>-0.328987</td>\n",
       "      <td>1.000000</td>\n",
       "      <td>0.056996</td>\n",
       "    </tr>\n",
       "    <tr>\n",
       "      <th>Population</th>\n",
       "      <td>0.013681</td>\n",
       "      <td>-0.055996</td>\n",
       "      <td>-0.101580</td>\n",
       "      <td>-0.106876</td>\n",
       "      <td>-0.068456</td>\n",
       "      <td>-0.114727</td>\n",
       "      <td>0.011529</td>\n",
       "      <td>0.002236</td>\n",
       "      <td>-0.095232</td>\n",
       "      <td>-0.044433</td>\n",
       "      <td>-0.030505</td>\n",
       "      <td>-0.032308</td>\n",
       "      <td>-0.240651</td>\n",
       "      <td>0.056996</td>\n",
       "      <td>1.000000</td>\n",
       "    </tr>\n",
       "  </tbody>\n",
       "</table>\n",
       "</div>"
      ],
      "text/plain": [
       "               bedrooms  bathrooms  sqft_living  sqft_lot    floors  \\\n",
       "bedrooms       1.000000   0.593408     0.630755  0.000291  0.195625   \n",
       "bathrooms      0.593408   1.000000     0.779861  0.038917  0.427804   \n",
       "sqft_living    0.630755   0.779861     1.000000  0.118722  0.355948   \n",
       "sqft_lot       0.000291   0.038917     0.118722  1.000000 -0.020452   \n",
       "floors         0.195625   0.427804     0.355948 -0.020452  1.000000   \n",
       "sqft_above     0.537593   0.680873     0.881704  0.128513  0.505866   \n",
       "sqft_basement  0.234867   0.260681     0.335856  0.002418 -0.243438   \n",
       "sqft_garage    0.304974   0.461214     0.503708  0.084977  0.179976   \n",
       "sqft_patio     0.192084   0.333498     0.405895  0.157356  0.123638   \n",
       "yr_built       0.182904   0.455823     0.328809  0.012632  0.521014   \n",
       "yr_renovated   0.010753   0.042714     0.035455  0.007658 -0.015508   \n",
       "lat           -0.019399   0.046573     0.046253 -0.074580  0.047992   \n",
       "long           0.133572   0.178023     0.233359  0.183201  0.088202   \n",
       "yr_old        -0.192908  -0.484471    -0.348872 -0.013746 -0.531770   \n",
       "Population     0.013681  -0.055996    -0.101580 -0.106876 -0.068456   \n",
       "\n",
       "               sqft_above  sqft_basement  sqft_garage  sqft_patio  yr_built  \\\n",
       "bedrooms         0.537593       0.234867     0.304974    0.192084  0.182904   \n",
       "bathrooms        0.680873       0.260681     0.461214    0.333498  0.455823   \n",
       "sqft_living      0.881704       0.335856     0.503708    0.405895  0.328809   \n",
       "sqft_lot         0.128513       0.002418     0.084977    0.157356  0.012632   \n",
       "floors           0.505866      -0.243438     0.179976    0.123638  0.521014   \n",
       "sqft_above       1.000000      -0.073831     0.553849    0.320947  0.428496   \n",
       "sqft_basement   -0.073831       1.000000     0.017015    0.214328 -0.227452   \n",
       "sqft_garage      0.553849       0.017015     1.000000    0.228163  0.496895   \n",
       "sqft_patio       0.320947       0.214328     0.228163    1.000000  0.136048   \n",
       "yr_built         0.428496      -0.227452     0.496895    0.136048  1.000000   \n",
       "yr_renovated     0.007158       0.052547    -0.104440    0.057764 -0.237206   \n",
       "lat             -0.024946       0.187594    -0.131875    0.011023 -0.152983   \n",
       "long             0.337772      -0.221703     0.377277    0.122203  0.353998   \n",
       "yr_old          -0.437168       0.207038    -0.454424   -0.155993 -0.907946   \n",
       "Population      -0.114727       0.011529     0.002236   -0.095232 -0.044433   \n",
       "\n",
       "               yr_renovated       lat      long    yr_old  Population  \n",
       "bedrooms           0.010753 -0.019399  0.133572 -0.192908    0.013681  \n",
       "bathrooms          0.042714  0.046573  0.178023 -0.484471   -0.055996  \n",
       "sqft_living        0.035455  0.046253  0.233359 -0.348872   -0.101580  \n",
       "sqft_lot           0.007658 -0.074580  0.183201 -0.013746   -0.106876  \n",
       "floors            -0.015508  0.047992  0.088202 -0.531770   -0.068456  \n",
       "sqft_above         0.007158 -0.024946  0.337772 -0.437168   -0.114727  \n",
       "sqft_basement      0.052547  0.187594 -0.221703  0.207038    0.011529  \n",
       "sqft_garage       -0.104440 -0.131875  0.377277 -0.454424    0.002236  \n",
       "sqft_patio         0.057764  0.011023  0.122203 -0.155993   -0.095232  \n",
       "yr_built          -0.237206 -0.152983  0.353998 -0.907946   -0.044433  \n",
       "yr_renovated       1.000000  0.041715 -0.059761 -0.157689   -0.030505  \n",
       "lat                0.041715  1.000000 -0.184541  0.136638   -0.032308  \n",
       "long              -0.059761 -0.184541  1.000000 -0.328987   -0.240651  \n",
       "yr_old            -0.157689  0.136638 -0.328987  1.000000    0.056996  \n",
       "Population        -0.030505 -0.032308 -0.240651  0.056996    1.000000  "
      ]
     },
     "execution_count": 99,
     "metadata": {},
     "output_type": "execute_result"
    }
   ],
   "source": [
    "X.corr()"
   ]
  },
  {
   "cell_type": "code",
   "execution_count": 100,
   "metadata": {},
   "outputs": [
    {
     "data": {
      "text/html": [
       "<div>\n",
       "<style scoped>\n",
       "    .dataframe tbody tr th:only-of-type {\n",
       "        vertical-align: middle;\n",
       "    }\n",
       "\n",
       "    .dataframe tbody tr th {\n",
       "        vertical-align: top;\n",
       "    }\n",
       "\n",
       "    .dataframe thead th {\n",
       "        text-align: right;\n",
       "    }\n",
       "</style>\n",
       "<table border=\"1\" class=\"dataframe\">\n",
       "  <thead>\n",
       "    <tr style=\"text-align: right;\">\n",
       "      <th></th>\n",
       "      <th>bedrooms</th>\n",
       "      <th>bathrooms</th>\n",
       "      <th>sqft_living</th>\n",
       "      <th>sqft_lot</th>\n",
       "      <th>sqft_above</th>\n",
       "      <th>sqft_basement</th>\n",
       "      <th>sqft_garage</th>\n",
       "      <th>sqft_patio</th>\n",
       "      <th>yr_built</th>\n",
       "      <th>yr_renovated</th>\n",
       "      <th>...</th>\n",
       "      <th>grade_11 Excellent</th>\n",
       "      <th>grade_12 Luxury</th>\n",
       "      <th>grade_13 Mansion</th>\n",
       "      <th>grade_3 Poor</th>\n",
       "      <th>grade_4 Low</th>\n",
       "      <th>grade_5 Fair</th>\n",
       "      <th>grade_6 Low Average</th>\n",
       "      <th>grade_7 Average</th>\n",
       "      <th>grade_8 Good</th>\n",
       "      <th>grade_9 Better</th>\n",
       "    </tr>\n",
       "  </thead>\n",
       "  <tbody>\n",
       "    <tr>\n",
       "      <th>bedrooms</th>\n",
       "      <td>True</td>\n",
       "      <td>False</td>\n",
       "      <td>False</td>\n",
       "      <td>False</td>\n",
       "      <td>False</td>\n",
       "      <td>False</td>\n",
       "      <td>False</td>\n",
       "      <td>False</td>\n",
       "      <td>False</td>\n",
       "      <td>False</td>\n",
       "      <td>...</td>\n",
       "      <td>False</td>\n",
       "      <td>False</td>\n",
       "      <td>False</td>\n",
       "      <td>False</td>\n",
       "      <td>False</td>\n",
       "      <td>False</td>\n",
       "      <td>False</td>\n",
       "      <td>False</td>\n",
       "      <td>False</td>\n",
       "      <td>False</td>\n",
       "    </tr>\n",
       "    <tr>\n",
       "      <th>bathrooms</th>\n",
       "      <td>False</td>\n",
       "      <td>True</td>\n",
       "      <td>True</td>\n",
       "      <td>False</td>\n",
       "      <td>False</td>\n",
       "      <td>False</td>\n",
       "      <td>False</td>\n",
       "      <td>False</td>\n",
       "      <td>False</td>\n",
       "      <td>False</td>\n",
       "      <td>...</td>\n",
       "      <td>False</td>\n",
       "      <td>False</td>\n",
       "      <td>False</td>\n",
       "      <td>False</td>\n",
       "      <td>False</td>\n",
       "      <td>False</td>\n",
       "      <td>False</td>\n",
       "      <td>False</td>\n",
       "      <td>False</td>\n",
       "      <td>False</td>\n",
       "    </tr>\n",
       "    <tr>\n",
       "      <th>sqft_living</th>\n",
       "      <td>False</td>\n",
       "      <td>True</td>\n",
       "      <td>True</td>\n",
       "      <td>False</td>\n",
       "      <td>True</td>\n",
       "      <td>False</td>\n",
       "      <td>False</td>\n",
       "      <td>False</td>\n",
       "      <td>False</td>\n",
       "      <td>False</td>\n",
       "      <td>...</td>\n",
       "      <td>False</td>\n",
       "      <td>False</td>\n",
       "      <td>False</td>\n",
       "      <td>False</td>\n",
       "      <td>False</td>\n",
       "      <td>False</td>\n",
       "      <td>False</td>\n",
       "      <td>False</td>\n",
       "      <td>False</td>\n",
       "      <td>False</td>\n",
       "    </tr>\n",
       "    <tr>\n",
       "      <th>sqft_lot</th>\n",
       "      <td>False</td>\n",
       "      <td>False</td>\n",
       "      <td>False</td>\n",
       "      <td>True</td>\n",
       "      <td>False</td>\n",
       "      <td>False</td>\n",
       "      <td>False</td>\n",
       "      <td>False</td>\n",
       "      <td>False</td>\n",
       "      <td>False</td>\n",
       "      <td>...</td>\n",
       "      <td>False</td>\n",
       "      <td>False</td>\n",
       "      <td>False</td>\n",
       "      <td>False</td>\n",
       "      <td>False</td>\n",
       "      <td>False</td>\n",
       "      <td>False</td>\n",
       "      <td>False</td>\n",
       "      <td>False</td>\n",
       "      <td>False</td>\n",
       "    </tr>\n",
       "    <tr>\n",
       "      <th>sqft_above</th>\n",
       "      <td>False</td>\n",
       "      <td>False</td>\n",
       "      <td>True</td>\n",
       "      <td>False</td>\n",
       "      <td>True</td>\n",
       "      <td>False</td>\n",
       "      <td>False</td>\n",
       "      <td>False</td>\n",
       "      <td>False</td>\n",
       "      <td>False</td>\n",
       "      <td>...</td>\n",
       "      <td>False</td>\n",
       "      <td>False</td>\n",
       "      <td>False</td>\n",
       "      <td>False</td>\n",
       "      <td>False</td>\n",
       "      <td>False</td>\n",
       "      <td>False</td>\n",
       "      <td>False</td>\n",
       "      <td>False</td>\n",
       "      <td>False</td>\n",
       "    </tr>\n",
       "    <tr>\n",
       "      <th>...</th>\n",
       "      <td>...</td>\n",
       "      <td>...</td>\n",
       "      <td>...</td>\n",
       "      <td>...</td>\n",
       "      <td>...</td>\n",
       "      <td>...</td>\n",
       "      <td>...</td>\n",
       "      <td>...</td>\n",
       "      <td>...</td>\n",
       "      <td>...</td>\n",
       "      <td>...</td>\n",
       "      <td>...</td>\n",
       "      <td>...</td>\n",
       "      <td>...</td>\n",
       "      <td>...</td>\n",
       "      <td>...</td>\n",
       "      <td>...</td>\n",
       "      <td>...</td>\n",
       "      <td>...</td>\n",
       "      <td>...</td>\n",
       "      <td>...</td>\n",
       "    </tr>\n",
       "    <tr>\n",
       "      <th>grade_5 Fair</th>\n",
       "      <td>False</td>\n",
       "      <td>False</td>\n",
       "      <td>False</td>\n",
       "      <td>False</td>\n",
       "      <td>False</td>\n",
       "      <td>False</td>\n",
       "      <td>False</td>\n",
       "      <td>False</td>\n",
       "      <td>False</td>\n",
       "      <td>False</td>\n",
       "      <td>...</td>\n",
       "      <td>False</td>\n",
       "      <td>False</td>\n",
       "      <td>False</td>\n",
       "      <td>False</td>\n",
       "      <td>False</td>\n",
       "      <td>True</td>\n",
       "      <td>False</td>\n",
       "      <td>False</td>\n",
       "      <td>False</td>\n",
       "      <td>False</td>\n",
       "    </tr>\n",
       "    <tr>\n",
       "      <th>grade_6 Low Average</th>\n",
       "      <td>False</td>\n",
       "      <td>False</td>\n",
       "      <td>False</td>\n",
       "      <td>False</td>\n",
       "      <td>False</td>\n",
       "      <td>False</td>\n",
       "      <td>False</td>\n",
       "      <td>False</td>\n",
       "      <td>False</td>\n",
       "      <td>False</td>\n",
       "      <td>...</td>\n",
       "      <td>False</td>\n",
       "      <td>False</td>\n",
       "      <td>False</td>\n",
       "      <td>False</td>\n",
       "      <td>False</td>\n",
       "      <td>False</td>\n",
       "      <td>True</td>\n",
       "      <td>False</td>\n",
       "      <td>False</td>\n",
       "      <td>False</td>\n",
       "    </tr>\n",
       "    <tr>\n",
       "      <th>grade_7 Average</th>\n",
       "      <td>False</td>\n",
       "      <td>False</td>\n",
       "      <td>False</td>\n",
       "      <td>False</td>\n",
       "      <td>False</td>\n",
       "      <td>False</td>\n",
       "      <td>False</td>\n",
       "      <td>False</td>\n",
       "      <td>False</td>\n",
       "      <td>False</td>\n",
       "      <td>...</td>\n",
       "      <td>False</td>\n",
       "      <td>False</td>\n",
       "      <td>False</td>\n",
       "      <td>False</td>\n",
       "      <td>False</td>\n",
       "      <td>False</td>\n",
       "      <td>False</td>\n",
       "      <td>True</td>\n",
       "      <td>False</td>\n",
       "      <td>False</td>\n",
       "    </tr>\n",
       "    <tr>\n",
       "      <th>grade_8 Good</th>\n",
       "      <td>False</td>\n",
       "      <td>False</td>\n",
       "      <td>False</td>\n",
       "      <td>False</td>\n",
       "      <td>False</td>\n",
       "      <td>False</td>\n",
       "      <td>False</td>\n",
       "      <td>False</td>\n",
       "      <td>False</td>\n",
       "      <td>False</td>\n",
       "      <td>...</td>\n",
       "      <td>False</td>\n",
       "      <td>False</td>\n",
       "      <td>False</td>\n",
       "      <td>False</td>\n",
       "      <td>False</td>\n",
       "      <td>False</td>\n",
       "      <td>False</td>\n",
       "      <td>False</td>\n",
       "      <td>True</td>\n",
       "      <td>False</td>\n",
       "    </tr>\n",
       "    <tr>\n",
       "      <th>grade_9 Better</th>\n",
       "      <td>False</td>\n",
       "      <td>False</td>\n",
       "      <td>False</td>\n",
       "      <td>False</td>\n",
       "      <td>False</td>\n",
       "      <td>False</td>\n",
       "      <td>False</td>\n",
       "      <td>False</td>\n",
       "      <td>False</td>\n",
       "      <td>False</td>\n",
       "      <td>...</td>\n",
       "      <td>False</td>\n",
       "      <td>False</td>\n",
       "      <td>False</td>\n",
       "      <td>False</td>\n",
       "      <td>False</td>\n",
       "      <td>False</td>\n",
       "      <td>False</td>\n",
       "      <td>False</td>\n",
       "      <td>False</td>\n",
       "      <td>True</td>\n",
       "    </tr>\n",
       "  </tbody>\n",
       "</table>\n",
       "<p>64 rows × 64 columns</p>\n",
       "</div>"
      ],
      "text/plain": [
       "                     bedrooms  bathrooms  sqft_living  sqft_lot  sqft_above  \\\n",
       "bedrooms                 True      False        False     False       False   \n",
       "bathrooms               False       True         True     False       False   \n",
       "sqft_living             False       True         True     False        True   \n",
       "sqft_lot                False      False        False      True       False   \n",
       "sqft_above              False      False         True     False        True   \n",
       "...                       ...        ...          ...       ...         ...   \n",
       "grade_5 Fair            False      False        False     False       False   \n",
       "grade_6 Low Average     False      False        False     False       False   \n",
       "grade_7 Average         False      False        False     False       False   \n",
       "grade_8 Good            False      False        False     False       False   \n",
       "grade_9 Better          False      False        False     False       False   \n",
       "\n",
       "                     sqft_basement  sqft_garage  sqft_patio  yr_built  \\\n",
       "bedrooms                     False        False       False     False   \n",
       "bathrooms                    False        False       False     False   \n",
       "sqft_living                  False        False       False     False   \n",
       "sqft_lot                     False        False       False     False   \n",
       "sqft_above                   False        False       False     False   \n",
       "...                            ...          ...         ...       ...   \n",
       "grade_5 Fair                 False        False       False     False   \n",
       "grade_6 Low Average          False        False       False     False   \n",
       "grade_7 Average              False        False       False     False   \n",
       "grade_8 Good                 False        False       False     False   \n",
       "grade_9 Better               False        False       False     False   \n",
       "\n",
       "                     yr_renovated  ...  grade_11 Excellent  grade_12 Luxury  \\\n",
       "bedrooms                    False  ...               False            False   \n",
       "bathrooms                   False  ...               False            False   \n",
       "sqft_living                 False  ...               False            False   \n",
       "sqft_lot                    False  ...               False            False   \n",
       "sqft_above                  False  ...               False            False   \n",
       "...                           ...  ...                 ...              ...   \n",
       "grade_5 Fair                False  ...               False            False   \n",
       "grade_6 Low Average         False  ...               False            False   \n",
       "grade_7 Average             False  ...               False            False   \n",
       "grade_8 Good                False  ...               False            False   \n",
       "grade_9 Better              False  ...               False            False   \n",
       "\n",
       "                     grade_13 Mansion  grade_3 Poor  grade_4 Low  \\\n",
       "bedrooms                        False         False        False   \n",
       "bathrooms                       False         False        False   \n",
       "sqft_living                     False         False        False   \n",
       "sqft_lot                        False         False        False   \n",
       "sqft_above                      False         False        False   \n",
       "...                               ...           ...          ...   \n",
       "grade_5 Fair                    False         False        False   \n",
       "grade_6 Low Average             False         False        False   \n",
       "grade_7 Average                 False         False        False   \n",
       "grade_8 Good                    False         False        False   \n",
       "grade_9 Better                  False         False        False   \n",
       "\n",
       "                     grade_5 Fair  grade_6 Low Average  grade_7 Average  \\\n",
       "bedrooms                    False                False            False   \n",
       "bathrooms                   False                False            False   \n",
       "sqft_living                 False                False            False   \n",
       "sqft_lot                    False                False            False   \n",
       "sqft_above                  False                False            False   \n",
       "...                           ...                  ...              ...   \n",
       "grade_5 Fair                 True                False            False   \n",
       "grade_6 Low Average         False                 True            False   \n",
       "grade_7 Average             False                False             True   \n",
       "grade_8 Good                False                False            False   \n",
       "grade_9 Better              False                False            False   \n",
       "\n",
       "                     grade_8 Good  grade_9 Better  \n",
       "bedrooms                    False           False  \n",
       "bathrooms                   False           False  \n",
       "sqft_living                 False           False  \n",
       "sqft_lot                    False           False  \n",
       "sqft_above                  False           False  \n",
       "...                           ...             ...  \n",
       "grade_5 Fair                False           False  \n",
       "grade_6 Low Average         False           False  \n",
       "grade_7 Average             False           False  \n",
       "grade_8 Good                 True           False  \n",
       "grade_9 Better              False            True  \n",
       "\n",
       "[64 rows x 64 columns]"
      ]
     },
     "execution_count": 100,
     "metadata": {},
     "output_type": "execute_result"
    }
   ],
   "source": [
    "abs(X1.corr()) > .75"
   ]
  },
  {
   "cell_type": "code",
   "execution_count": 101,
   "metadata": {},
   "outputs": [
    {
     "data": {
      "text/html": [
       "<div>\n",
       "<style scoped>\n",
       "    .dataframe tbody tr th:only-of-type {\n",
       "        vertical-align: middle;\n",
       "    }\n",
       "\n",
       "    .dataframe tbody tr th {\n",
       "        vertical-align: top;\n",
       "    }\n",
       "\n",
       "    .dataframe thead th {\n",
       "        text-align: right;\n",
       "    }\n",
       "</style>\n",
       "<table border=\"1\" class=\"dataframe\">\n",
       "  <thead>\n",
       "    <tr style=\"text-align: right;\">\n",
       "      <th></th>\n",
       "      <th>cc</th>\n",
       "    </tr>\n",
       "    <tr>\n",
       "      <th>pairs</th>\n",
       "      <th></th>\n",
       "    </tr>\n",
       "  </thead>\n",
       "  <tbody>\n",
       "    <tr>\n",
       "      <th>(yr_old, yr_built)</th>\n",
       "      <td>0.907946</td>\n",
       "    </tr>\n",
       "    <tr>\n",
       "      <th>(sqft_above, sqft_living)</th>\n",
       "      <td>0.881704</td>\n",
       "    </tr>\n",
       "    <tr>\n",
       "      <th>(bathrooms, sqft_living)</th>\n",
       "      <td>0.779861</td>\n",
       "    </tr>\n",
       "  </tbody>\n",
       "</table>\n",
       "</div>"
      ],
      "text/plain": [
       "                                 cc\n",
       "pairs                              \n",
       "(yr_old, yr_built)         0.907946\n",
       "(sqft_above, sqft_living)  0.881704\n",
       "(bathrooms, sqft_living)   0.779861"
      ]
     },
     "execution_count": 101,
     "metadata": {},
     "output_type": "execute_result"
    }
   ],
   "source": [
    "X2 = X1.corr().abs().stack().reset_index().sort_values(0, ascending=False)\n",
    "X2['pairs'] = list(zip(X2.level_0, X2.level_1))\n",
    "X2.set_index(['pairs'], inplace=True)\n",
    "X2.drop(columns=['level_1', 'level_0'], inplace = True)\n",
    "X2.columns = ['cc']\n",
    "X2.drop_duplicates(inplace=True)\n",
    "X2[(X2.cc>.75) & (X2.cc<1)]"
   ]
  },
  {
   "cell_type": "code",
   "execution_count": 102,
   "metadata": {},
   "outputs": [],
   "source": [
    "X1.drop(columns=['yr_built', 'sqft_above', 'bathrooms'], inplace=True)"
   ]
  },
  {
   "cell_type": "markdown",
   "metadata": {},
   "source": [
    "There are three sets of variables that are highly correlated: yr_old and yr_built, sqft_above\n",
    "and sqft_living, and bathrooms with sqft_living"
   ]
  },
  {
   "cell_type": "code",
   "execution_count": 103,
   "metadata": {},
   "outputs": [
    {
     "data": {
      "text/html": [
       "<table class=\"simpletable\">\n",
       "<caption>OLS Regression Results</caption>\n",
       "<tr>\n",
       "  <th>Dep. Variable:</th>          <td>price</td>      <th>  R-squared:         </th>  <td>   0.637</td>  \n",
       "</tr>\n",
       "<tr>\n",
       "  <th>Model:</th>                   <td>OLS</td>       <th>  Adj. R-squared:    </th>  <td>   0.636</td>  \n",
       "</tr>\n",
       "<tr>\n",
       "  <th>Method:</th>             <td>Least Squares</td>  <th>  F-statistic:       </th>  <td>   836.6</td>  \n",
       "</tr>\n",
       "<tr>\n",
       "  <th>Date:</th>             <td>Wed, 21 Sep 2022</td> <th>  Prob (F-statistic):</th>   <td>  0.00</td>   \n",
       "</tr>\n",
       "<tr>\n",
       "  <th>Time:</th>                 <td>22:21:01</td>     <th>  Log-Likelihood:    </th> <td>-4.2614e+05</td>\n",
       "</tr>\n",
       "<tr>\n",
       "  <th>No. Observations:</th>      <td> 29152</td>      <th>  AIC:               </th>  <td>8.524e+05</td> \n",
       "</tr>\n",
       "<tr>\n",
       "  <th>Df Residuals:</th>          <td> 29090</td>      <th>  BIC:               </th>  <td>8.529e+05</td> \n",
       "</tr>\n",
       "<tr>\n",
       "  <th>Df Model:</th>              <td>    61</td>      <th>                     </th>      <td> </td>     \n",
       "</tr>\n",
       "<tr>\n",
       "  <th>Covariance Type:</th>      <td>nonrobust</td>    <th>                     </th>      <td> </td>     \n",
       "</tr>\n",
       "</table>\n",
       "<table class=\"simpletable\">\n",
       "<tr>\n",
       "                 <td></td>                    <th>coef</th>     <th>std err</th>      <th>t</th>      <th>P>|t|</th>  <th>[0.025</th>    <th>0.975]</th>  \n",
       "</tr>\n",
       "<tr>\n",
       "  <th>const</th>                           <td> 5.102e+05</td> <td> 3.51e+04</td> <td>   14.529</td> <td> 0.000</td> <td> 4.41e+05</td> <td> 5.79e+05</td>\n",
       "</tr>\n",
       "<tr>\n",
       "  <th>bedrooms</th>                        <td>-3.064e+04</td> <td> 4640.681</td> <td>   -6.603</td> <td> 0.000</td> <td>-3.97e+04</td> <td>-2.15e+04</td>\n",
       "</tr>\n",
       "<tr>\n",
       "  <th>sqft_living</th>                     <td>  310.6989</td> <td>    6.816</td> <td>   45.585</td> <td> 0.000</td> <td>  297.340</td> <td>  324.058</td>\n",
       "</tr>\n",
       "<tr>\n",
       "  <th>sqft_lot</th>                        <td>    0.4708</td> <td>    0.058</td> <td>    8.182</td> <td> 0.000</td> <td>    0.358</td> <td>    0.584</td>\n",
       "</tr>\n",
       "<tr>\n",
       "  <th>sqft_basement</th>                   <td>  -14.6692</td> <td>    6.756</td> <td>   -2.171</td> <td> 0.030</td> <td>  -27.911</td> <td>   -1.428</td>\n",
       "</tr>\n",
       "<tr>\n",
       "  <th>sqft_garage</th>                     <td>  -68.0990</td> <td>   15.404</td> <td>   -4.421</td> <td> 0.000</td> <td>  -98.292</td> <td>  -37.906</td>\n",
       "</tr>\n",
       "<tr>\n",
       "  <th>sqft_patio</th>                      <td>   65.5330</td> <td>   14.806</td> <td>    4.426</td> <td> 0.000</td> <td>   36.513</td> <td>   94.553</td>\n",
       "</tr>\n",
       "<tr>\n",
       "  <th>yr_renovated</th>                    <td>   90.1147</td> <td>    7.996</td> <td>   11.270</td> <td> 0.000</td> <td>   74.443</td> <td>  105.787</td>\n",
       "</tr>\n",
       "<tr>\n",
       "  <th>yr_old</th>                          <td> 1432.0237</td> <td>  153.716</td> <td>    9.316</td> <td> 0.000</td> <td> 1130.734</td> <td> 1733.313</td>\n",
       "</tr>\n",
       "<tr>\n",
       "  <th>Population</th>                      <td>    1.0943</td> <td>    0.376</td> <td>    2.912</td> <td> 0.004</td> <td>    0.358</td> <td>    1.831</td>\n",
       "</tr>\n",
       "<tr>\n",
       "  <th>waterfront_YES</th>                  <td> 7.614e+05</td> <td> 2.93e+04</td> <td>   26.008</td> <td> 0.000</td> <td> 7.04e+05</td> <td> 8.19e+05</td>\n",
       "</tr>\n",
       "<tr>\n",
       "  <th>greenbelt_YES</th>                   <td>-6.884e+04</td> <td> 2.05e+04</td> <td>   -3.365</td> <td> 0.001</td> <td>-1.09e+05</td> <td>-2.87e+04</td>\n",
       "</tr>\n",
       "<tr>\n",
       "  <th>nuisance_YES</th>                    <td> -2.09e+04</td> <td> 8635.193</td> <td>   -2.420</td> <td> 0.016</td> <td>-3.78e+04</td> <td>-3970.310</td>\n",
       "</tr>\n",
       "<tr>\n",
       "  <th>view_EXCELLENT</th>                  <td> 6.269e+05</td> <td> 2.96e+04</td> <td>   21.148</td> <td> 0.000</td> <td> 5.69e+05</td> <td> 6.85e+05</td>\n",
       "</tr>\n",
       "<tr>\n",
       "  <th>view_FAIR</th>                       <td> 1.165e+05</td> <td> 3.91e+04</td> <td>    2.981</td> <td> 0.003</td> <td> 3.99e+04</td> <td> 1.93e+05</td>\n",
       "</tr>\n",
       "<tr>\n",
       "  <th>view_GOOD</th>                       <td> 3.439e+04</td> <td> 2.23e+04</td> <td>    1.540</td> <td> 0.123</td> <td>-9369.010</td> <td> 7.82e+04</td>\n",
       "</tr>\n",
       "<tr>\n",
       "  <th>view_NONE</th>                       <td>-7.626e+04</td> <td> 1.35e+04</td> <td>   -5.650</td> <td> 0.000</td> <td>-1.03e+05</td> <td>-4.98e+04</td>\n",
       "</tr>\n",
       "<tr>\n",
       "  <th>condition_Fair</th>                  <td>-1.006e+05</td> <td>  3.7e+04</td> <td>   -2.721</td> <td> 0.007</td> <td>-1.73e+05</td> <td>-2.81e+04</td>\n",
       "</tr>\n",
       "<tr>\n",
       "  <th>condition_Good</th>                  <td> 2.615e+04</td> <td> 8020.814</td> <td>    3.260</td> <td> 0.001</td> <td> 1.04e+04</td> <td> 4.19e+04</td>\n",
       "</tr>\n",
       "<tr>\n",
       "  <th>condition_Poor</th>                  <td>-7.674e+04</td> <td> 7.16e+04</td> <td>   -1.072</td> <td> 0.284</td> <td>-2.17e+05</td> <td> 6.36e+04</td>\n",
       "</tr>\n",
       "<tr>\n",
       "  <th>condition_Very Good</th>             <td> 8.362e+04</td> <td> 1.11e+04</td> <td>    7.505</td> <td> 0.000</td> <td> 6.18e+04</td> <td> 1.05e+05</td>\n",
       "</tr>\n",
       "<tr>\n",
       "  <th>heat_source_Electricity/Solar</th>   <td>-7.309e+04</td> <td>  7.2e+04</td> <td>   -1.016</td> <td> 0.310</td> <td>-2.14e+05</td> <td>  6.8e+04</td>\n",
       "</tr>\n",
       "<tr>\n",
       "  <th>heat_source_Gas</th>                 <td>  1.52e+04</td> <td> 7696.832</td> <td>    1.975</td> <td> 0.048</td> <td>  111.300</td> <td> 3.03e+04</td>\n",
       "</tr>\n",
       "<tr>\n",
       "  <th>heat_source_Gas/Solar</th>           <td> 1.793e+05</td> <td> 5.66e+04</td> <td>    3.169</td> <td> 0.002</td> <td> 6.84e+04</td> <td>  2.9e+05</td>\n",
       "</tr>\n",
       "<tr>\n",
       "  <th>sewer_system_PRIVATE RESTRICTED</th> <td>-5.611e+05</td> <td> 2.47e+05</td> <td>   -2.270</td> <td> 0.023</td> <td>-1.05e+06</td> <td>-7.67e+04</td>\n",
       "</tr>\n",
       "<tr>\n",
       "  <th>sewer_system_PUBLIC</th>             <td> 1.082e+05</td> <td> 1.11e+04</td> <td>    9.710</td> <td> 0.000</td> <td> 8.63e+04</td> <td>  1.3e+05</td>\n",
       "</tr>\n",
       "<tr>\n",
       "  <th>Neighborhood_Bellevue</th>           <td> 1.009e+06</td> <td> 1.92e+04</td> <td>   52.489</td> <td> 0.000</td> <td> 9.72e+05</td> <td> 1.05e+06</td>\n",
       "</tr>\n",
       "<tr>\n",
       "  <th>Neighborhood_Bothell</th>            <td>  4.56e+05</td> <td> 3.58e+04</td> <td>   12.733</td> <td> 0.000</td> <td> 3.86e+05</td> <td> 5.26e+05</td>\n",
       "</tr>\n",
       "<tr>\n",
       "  <th>Neighborhood_Carnation</th>          <td> 2.346e+05</td> <td> 4.61e+04</td> <td>    5.093</td> <td> 0.000</td> <td> 1.44e+05</td> <td> 3.25e+05</td>\n",
       "</tr>\n",
       "<tr>\n",
       "  <th>Neighborhood_Duvall</th>             <td> 2.592e+05</td> <td> 3.75e+04</td> <td>    6.921</td> <td> 0.000</td> <td> 1.86e+05</td> <td> 3.33e+05</td>\n",
       "</tr>\n",
       "<tr>\n",
       "  <th>Neighborhood_Enumclaw</th>           <td> 3.481e+04</td> <td> 2.86e+04</td> <td>    1.217</td> <td> 0.224</td> <td>-2.13e+04</td> <td> 9.09e+04</td>\n",
       "</tr>\n",
       "<tr>\n",
       "  <th>Neighborhood_Fall City</th>          <td> 6.547e+05</td> <td> 5.34e+04</td> <td>   12.253</td> <td> 0.000</td> <td>  5.5e+05</td> <td> 7.59e+05</td>\n",
       "</tr>\n",
       "<tr>\n",
       "  <th>Neighborhood_Federal Way</th>        <td> -4.16e+04</td> <td> 2.13e+04</td> <td>   -1.955</td> <td> 0.051</td> <td>-8.33e+04</td> <td>  110.422</td>\n",
       "</tr>\n",
       "<tr>\n",
       "  <th>Neighborhood_Gold Bar</th>           <td> 3.572e+05</td> <td> 3.13e+05</td> <td>    1.143</td> <td> 0.253</td> <td>-2.56e+05</td> <td>  9.7e+05</td>\n",
       "</tr>\n",
       "<tr>\n",
       "  <th>Neighborhood_Issaquah</th>           <td> 5.311e+05</td> <td> 2.42e+04</td> <td>   21.912</td> <td> 0.000</td> <td> 4.84e+05</td> <td> 5.79e+05</td>\n",
       "</tr>\n",
       "<tr>\n",
       "  <th>Neighborhood_Kenmore</th>            <td> 3.914e+05</td> <td> 3.18e+04</td> <td>   12.298</td> <td> 0.000</td> <td> 3.29e+05</td> <td> 4.54e+05</td>\n",
       "</tr>\n",
       "<tr>\n",
       "  <th>Neighborhood_Kent</th>               <td> 4.486e+04</td> <td> 1.75e+04</td> <td>    2.565</td> <td> 0.010</td> <td> 1.06e+04</td> <td> 7.91e+04</td>\n",
       "</tr>\n",
       "<tr>\n",
       "  <th>Neighborhood_Kirkland</th>           <td> 8.359e+05</td> <td> 1.99e+04</td> <td>   41.960</td> <td> 0.000</td> <td> 7.97e+05</td> <td> 8.75e+05</td>\n",
       "</tr>\n",
       "<tr>\n",
       "  <th>Neighborhood_Maple Valley</th>       <td> 1.214e+05</td> <td> 2.23e+04</td> <td>    5.447</td> <td> 0.000</td> <td> 7.77e+04</td> <td> 1.65e+05</td>\n",
       "</tr>\n",
       "<tr>\n",
       "  <th>Neighborhood_Medina</th>             <td>  3.35e+06</td> <td> 7.29e+04</td> <td>   45.945</td> <td> 0.000</td> <td> 3.21e+06</td> <td> 3.49e+06</td>\n",
       "</tr>\n",
       "<tr>\n",
       "  <th>Neighborhood_Mercer Island</th>      <td> 1.166e+06</td> <td> 3.28e+04</td> <td>   35.521</td> <td> 0.000</td> <td>  1.1e+06</td> <td> 1.23e+06</td>\n",
       "</tr>\n",
       "<tr>\n",
       "  <th>Neighborhood_North Bend</th>         <td> 2.811e+05</td> <td> 2.87e+04</td> <td>    9.801</td> <td> 0.000</td> <td> 2.25e+05</td> <td> 3.37e+05</td>\n",
       "</tr>\n",
       "<tr>\n",
       "  <th>Neighborhood_Pacific</th>            <td> 1.281e+05</td> <td> 6.36e+04</td> <td>    2.013</td> <td> 0.044</td> <td> 3342.069</td> <td> 2.53e+05</td>\n",
       "</tr>\n",
       "<tr>\n",
       "  <th>Neighborhood_Preston</th>            <td> 5.629e+05</td> <td> 3.83e+05</td> <td>    1.470</td> <td> 0.141</td> <td>-1.87e+05</td> <td> 1.31e+06</td>\n",
       "</tr>\n",
       "<tr>\n",
       "  <th>Neighborhood_Ravensdale</th>         <td>  1.08e+05</td> <td> 6.89e+04</td> <td>    1.567</td> <td> 0.117</td> <td>-2.71e+04</td> <td> 2.43e+05</td>\n",
       "</tr>\n",
       "<tr>\n",
       "  <th>Neighborhood_Redmond</th>            <td> 6.811e+05</td> <td> 2.21e+04</td> <td>   30.787</td> <td> 0.000</td> <td> 6.38e+05</td> <td> 7.24e+05</td>\n",
       "</tr>\n",
       "<tr>\n",
       "  <th>Neighborhood_Renton</th>             <td> 1.944e+05</td> <td> 1.72e+04</td> <td>   11.322</td> <td> 0.000</td> <td> 1.61e+05</td> <td> 2.28e+05</td>\n",
       "</tr>\n",
       "<tr>\n",
       "  <th>Neighborhood_Sammamish</th>          <td> 6.136e+05</td> <td> 2.31e+04</td> <td>   26.591</td> <td> 0.000</td> <td> 5.68e+05</td> <td> 6.59e+05</td>\n",
       "</tr>\n",
       "<tr>\n",
       "  <th>Neighborhood_Seattle</th>            <td> 3.848e+05</td> <td> 1.47e+04</td> <td>   26.086</td> <td> 0.000</td> <td> 3.56e+05</td> <td> 4.14e+05</td>\n",
       "</tr>\n",
       "<tr>\n",
       "  <th>Neighborhood_Snoqualmie</th>         <td> 3.585e+05</td> <td> 3.48e+04</td> <td>   10.315</td> <td> 0.000</td> <td>  2.9e+05</td> <td> 4.27e+05</td>\n",
       "</tr>\n",
       "<tr>\n",
       "  <th>Neighborhood_Vashon</th>             <td> 9.935e+04</td> <td> 4.27e+04</td> <td>    2.328</td> <td> 0.020</td> <td> 1.57e+04</td> <td> 1.83e+05</td>\n",
       "</tr>\n",
       "<tr>\n",
       "  <th>Neighborhood_Woodinville</th>        <td> 5.468e+05</td> <td> 2.65e+04</td> <td>   20.646</td> <td> 0.000</td> <td> 4.95e+05</td> <td> 5.99e+05</td>\n",
       "</tr>\n",
       "<tr>\n",
       "  <th>grade_11 Excellent</th>              <td> 7.254e+05</td> <td> 3.13e+04</td> <td>   23.195</td> <td> 0.000</td> <td> 6.64e+05</td> <td> 7.87e+05</td>\n",
       "</tr>\n",
       "<tr>\n",
       "  <th>grade_12 Luxury</th>                 <td> 1.615e+06</td> <td> 5.28e+04</td> <td>   30.583</td> <td> 0.000</td> <td> 1.51e+06</td> <td> 1.72e+06</td>\n",
       "</tr>\n",
       "<tr>\n",
       "  <th>grade_13 Mansion</th>                <td> 3.411e+06</td> <td> 1.14e+05</td> <td>   29.800</td> <td> 0.000</td> <td> 3.19e+06</td> <td> 3.63e+06</td>\n",
       "</tr>\n",
       "<tr>\n",
       "  <th>grade_3 Poor</th>                    <td>-7.373e+05</td> <td> 1.88e+05</td> <td>   -3.914</td> <td> 0.000</td> <td>-1.11e+06</td> <td>-3.68e+05</td>\n",
       "</tr>\n",
       "<tr>\n",
       "  <th>grade_4 Low</th>                     <td>-7.055e+05</td> <td> 8.44e+04</td> <td>   -8.363</td> <td> 0.000</td> <td>-8.71e+05</td> <td> -5.4e+05</td>\n",
       "</tr>\n",
       "<tr>\n",
       "  <th>grade_5 Fair</th>                    <td>-6.514e+05</td> <td> 3.63e+04</td> <td>  -17.921</td> <td> 0.000</td> <td>-7.23e+05</td> <td> -5.8e+05</td>\n",
       "</tr>\n",
       "<tr>\n",
       "  <th>grade_6 Low Average</th>             <td>-6.684e+05</td> <td> 2.41e+04</td> <td>  -27.729</td> <td> 0.000</td> <td>-7.16e+05</td> <td>-6.21e+05</td>\n",
       "</tr>\n",
       "<tr>\n",
       "  <th>grade_7 Average</th>                 <td>-6.383e+05</td> <td> 2.03e+04</td> <td>  -31.445</td> <td> 0.000</td> <td>-6.78e+05</td> <td>-5.99e+05</td>\n",
       "</tr>\n",
       "<tr>\n",
       "  <th>grade_8 Good</th>                    <td>-5.301e+05</td> <td> 1.84e+04</td> <td>  -28.771</td> <td> 0.000</td> <td>-5.66e+05</td> <td>-4.94e+05</td>\n",
       "</tr>\n",
       "<tr>\n",
       "  <th>grade_9 Better</th>                  <td>-2.814e+05</td> <td> 1.81e+04</td> <td>  -15.506</td> <td> 0.000</td> <td>-3.17e+05</td> <td>-2.46e+05</td>\n",
       "</tr>\n",
       "</table>\n",
       "<table class=\"simpletable\">\n",
       "<tr>\n",
       "  <th>Omnibus:</th>       <td>47346.533</td> <th>  Durbin-Watson:     </th>   <td>   1.897</td>   \n",
       "</tr>\n",
       "<tr>\n",
       "  <th>Prob(Omnibus):</th>  <td> 0.000</td>   <th>  Jarque-Bera (JB):  </th> <td>140525718.084</td>\n",
       "</tr>\n",
       "<tr>\n",
       "  <th>Skew:</th>           <td>10.151</td>   <th>  Prob(JB):          </th>   <td>    0.00</td>   \n",
       "</tr>\n",
       "<tr>\n",
       "  <th>Kurtosis:</th>       <td>342.527</td>  <th>  Cond. No.          </th>   <td>7.71e+06</td>   \n",
       "</tr>\n",
       "</table><br/><br/>Notes:<br/>[1] Standard Errors assume that the covariance matrix of the errors is correctly specified.<br/>[2] The condition number is large, 7.71e+06. This might indicate that there are<br/>strong multicollinearity or other numerical problems."
      ],
      "text/plain": [
       "<class 'statsmodels.iolib.summary.Summary'>\n",
       "\"\"\"\n",
       "                            OLS Regression Results                            \n",
       "==============================================================================\n",
       "Dep. Variable:                  price   R-squared:                       0.637\n",
       "Model:                            OLS   Adj. R-squared:                  0.636\n",
       "Method:                 Least Squares   F-statistic:                     836.6\n",
       "Date:                Wed, 21 Sep 2022   Prob (F-statistic):               0.00\n",
       "Time:                        22:21:01   Log-Likelihood:            -4.2614e+05\n",
       "No. Observations:               29152   AIC:                         8.524e+05\n",
       "Df Residuals:                   29090   BIC:                         8.529e+05\n",
       "Df Model:                          61                                         \n",
       "Covariance Type:            nonrobust                                         \n",
       "===================================================================================================\n",
       "                                      coef    std err          t      P>|t|      [0.025      0.975]\n",
       "---------------------------------------------------------------------------------------------------\n",
       "const                            5.102e+05   3.51e+04     14.529      0.000    4.41e+05    5.79e+05\n",
       "bedrooms                        -3.064e+04   4640.681     -6.603      0.000   -3.97e+04   -2.15e+04\n",
       "sqft_living                       310.6989      6.816     45.585      0.000     297.340     324.058\n",
       "sqft_lot                            0.4708      0.058      8.182      0.000       0.358       0.584\n",
       "sqft_basement                     -14.6692      6.756     -2.171      0.030     -27.911      -1.428\n",
       "sqft_garage                       -68.0990     15.404     -4.421      0.000     -98.292     -37.906\n",
       "sqft_patio                         65.5330     14.806      4.426      0.000      36.513      94.553\n",
       "yr_renovated                       90.1147      7.996     11.270      0.000      74.443     105.787\n",
       "yr_old                           1432.0237    153.716      9.316      0.000    1130.734    1733.313\n",
       "Population                          1.0943      0.376      2.912      0.004       0.358       1.831\n",
       "waterfront_YES                   7.614e+05   2.93e+04     26.008      0.000    7.04e+05    8.19e+05\n",
       "greenbelt_YES                   -6.884e+04   2.05e+04     -3.365      0.001   -1.09e+05   -2.87e+04\n",
       "nuisance_YES                     -2.09e+04   8635.193     -2.420      0.016   -3.78e+04   -3970.310\n",
       "view_EXCELLENT                   6.269e+05   2.96e+04     21.148      0.000    5.69e+05    6.85e+05\n",
       "view_FAIR                        1.165e+05   3.91e+04      2.981      0.003    3.99e+04    1.93e+05\n",
       "view_GOOD                        3.439e+04   2.23e+04      1.540      0.123   -9369.010    7.82e+04\n",
       "view_NONE                       -7.626e+04   1.35e+04     -5.650      0.000   -1.03e+05   -4.98e+04\n",
       "condition_Fair                  -1.006e+05    3.7e+04     -2.721      0.007   -1.73e+05   -2.81e+04\n",
       "condition_Good                   2.615e+04   8020.814      3.260      0.001    1.04e+04    4.19e+04\n",
       "condition_Poor                  -7.674e+04   7.16e+04     -1.072      0.284   -2.17e+05    6.36e+04\n",
       "condition_Very Good              8.362e+04   1.11e+04      7.505      0.000    6.18e+04    1.05e+05\n",
       "heat_source_Electricity/Solar   -7.309e+04    7.2e+04     -1.016      0.310   -2.14e+05     6.8e+04\n",
       "heat_source_Gas                   1.52e+04   7696.832      1.975      0.048     111.300    3.03e+04\n",
       "heat_source_Gas/Solar            1.793e+05   5.66e+04      3.169      0.002    6.84e+04     2.9e+05\n",
       "sewer_system_PRIVATE RESTRICTED -5.611e+05   2.47e+05     -2.270      0.023   -1.05e+06   -7.67e+04\n",
       "sewer_system_PUBLIC              1.082e+05   1.11e+04      9.710      0.000    8.63e+04     1.3e+05\n",
       "Neighborhood_Bellevue            1.009e+06   1.92e+04     52.489      0.000    9.72e+05    1.05e+06\n",
       "Neighborhood_Bothell              4.56e+05   3.58e+04     12.733      0.000    3.86e+05    5.26e+05\n",
       "Neighborhood_Carnation           2.346e+05   4.61e+04      5.093      0.000    1.44e+05    3.25e+05\n",
       "Neighborhood_Duvall              2.592e+05   3.75e+04      6.921      0.000    1.86e+05    3.33e+05\n",
       "Neighborhood_Enumclaw            3.481e+04   2.86e+04      1.217      0.224   -2.13e+04    9.09e+04\n",
       "Neighborhood_Fall City           6.547e+05   5.34e+04     12.253      0.000     5.5e+05    7.59e+05\n",
       "Neighborhood_Federal Way         -4.16e+04   2.13e+04     -1.955      0.051   -8.33e+04     110.422\n",
       "Neighborhood_Gold Bar            3.572e+05   3.13e+05      1.143      0.253   -2.56e+05     9.7e+05\n",
       "Neighborhood_Issaquah            5.311e+05   2.42e+04     21.912      0.000    4.84e+05    5.79e+05\n",
       "Neighborhood_Kenmore             3.914e+05   3.18e+04     12.298      0.000    3.29e+05    4.54e+05\n",
       "Neighborhood_Kent                4.486e+04   1.75e+04      2.565      0.010    1.06e+04    7.91e+04\n",
       "Neighborhood_Kirkland            8.359e+05   1.99e+04     41.960      0.000    7.97e+05    8.75e+05\n",
       "Neighborhood_Maple Valley        1.214e+05   2.23e+04      5.447      0.000    7.77e+04    1.65e+05\n",
       "Neighborhood_Medina               3.35e+06   7.29e+04     45.945      0.000    3.21e+06    3.49e+06\n",
       "Neighborhood_Mercer Island       1.166e+06   3.28e+04     35.521      0.000     1.1e+06    1.23e+06\n",
       "Neighborhood_North Bend          2.811e+05   2.87e+04      9.801      0.000    2.25e+05    3.37e+05\n",
       "Neighborhood_Pacific             1.281e+05   6.36e+04      2.013      0.044    3342.069    2.53e+05\n",
       "Neighborhood_Preston             5.629e+05   3.83e+05      1.470      0.141   -1.87e+05    1.31e+06\n",
       "Neighborhood_Ravensdale           1.08e+05   6.89e+04      1.567      0.117   -2.71e+04    2.43e+05\n",
       "Neighborhood_Redmond             6.811e+05   2.21e+04     30.787      0.000    6.38e+05    7.24e+05\n",
       "Neighborhood_Renton              1.944e+05   1.72e+04     11.322      0.000    1.61e+05    2.28e+05\n",
       "Neighborhood_Sammamish           6.136e+05   2.31e+04     26.591      0.000    5.68e+05    6.59e+05\n",
       "Neighborhood_Seattle             3.848e+05   1.47e+04     26.086      0.000    3.56e+05    4.14e+05\n",
       "Neighborhood_Snoqualmie          3.585e+05   3.48e+04     10.315      0.000     2.9e+05    4.27e+05\n",
       "Neighborhood_Vashon              9.935e+04   4.27e+04      2.328      0.020    1.57e+04    1.83e+05\n",
       "Neighborhood_Woodinville         5.468e+05   2.65e+04     20.646      0.000    4.95e+05    5.99e+05\n",
       "grade_11 Excellent               7.254e+05   3.13e+04     23.195      0.000    6.64e+05    7.87e+05\n",
       "grade_12 Luxury                  1.615e+06   5.28e+04     30.583      0.000    1.51e+06    1.72e+06\n",
       "grade_13 Mansion                 3.411e+06   1.14e+05     29.800      0.000    3.19e+06    3.63e+06\n",
       "grade_3 Poor                    -7.373e+05   1.88e+05     -3.914      0.000   -1.11e+06   -3.68e+05\n",
       "grade_4 Low                     -7.055e+05   8.44e+04     -8.363      0.000   -8.71e+05    -5.4e+05\n",
       "grade_5 Fair                    -6.514e+05   3.63e+04    -17.921      0.000   -7.23e+05    -5.8e+05\n",
       "grade_6 Low Average             -6.684e+05   2.41e+04    -27.729      0.000   -7.16e+05   -6.21e+05\n",
       "grade_7 Average                 -6.383e+05   2.03e+04    -31.445      0.000   -6.78e+05   -5.99e+05\n",
       "grade_8 Good                    -5.301e+05   1.84e+04    -28.771      0.000   -5.66e+05   -4.94e+05\n",
       "grade_9 Better                  -2.814e+05   1.81e+04    -15.506      0.000   -3.17e+05   -2.46e+05\n",
       "==============================================================================\n",
       "Omnibus:                    47346.533   Durbin-Watson:                   1.897\n",
       "Prob(Omnibus):                  0.000   Jarque-Bera (JB):        140525718.084\n",
       "Skew:                          10.151   Prob(JB):                         0.00\n",
       "Kurtosis:                     342.527   Cond. No.                     7.71e+06\n",
       "==============================================================================\n",
       "\n",
       "Notes:\n",
       "[1] Standard Errors assume that the covariance matrix of the errors is correctly specified.\n",
       "[2] The condition number is large, 7.71e+06. This might indicate that there are\n",
       "strong multicollinearity or other numerical problems.\n",
       "\"\"\""
      ]
     },
     "execution_count": 103,
     "metadata": {},
     "output_type": "execute_result"
    }
   ],
   "source": [
    "# running our model with dummified predictors\n",
    "y=dum_df1.price\n",
    "model_1 = sm.OLS(y, sm.add_constant(X1))\n",
    "results1 = model_1.fit()\n",
    "results1.summary()"
   ]
  },
  {
   "cell_type": "code",
   "execution_count": 104,
   "metadata": {},
   "outputs": [
    {
     "data": {
      "text/plain": [
       "276545.223039533"
      ]
     },
     "execution_count": 104,
     "metadata": {},
     "output_type": "execute_result"
    }
   ],
   "source": [
    "mae = mean_absolute_error(y, results1.predict(sm.add_constant(X1)))\n",
    "mae"
   ]
  },
  {
   "cell_type": "markdown",
   "metadata": {},
   "source": [
    "### Final Model"
   ]
  },
  {
   "cell_type": "code",
   "execution_count": 105,
   "metadata": {},
   "outputs": [
    {
     "data": {
      "text/html": [
       "<table class=\"simpletable\">\n",
       "<caption>OLS Regression Results</caption>\n",
       "<tr>\n",
       "  <th>Dep. Variable:</th>          <td>price</td>      <th>  R-squared:         </th>  <td>   0.642</td>  \n",
       "</tr>\n",
       "<tr>\n",
       "  <th>Model:</th>                   <td>OLS</td>       <th>  Adj. R-squared:    </th>  <td>   0.641</td>  \n",
       "</tr>\n",
       "<tr>\n",
       "  <th>Method:</th>             <td>Least Squares</td>  <th>  F-statistic:       </th>  <td>   815.4</td>  \n",
       "</tr>\n",
       "<tr>\n",
       "  <th>Date:</th>             <td>Wed, 21 Sep 2022</td> <th>  Prob (F-statistic):</th>   <td>  0.00</td>   \n",
       "</tr>\n",
       "<tr>\n",
       "  <th>Time:</th>                 <td>22:21:40</td>     <th>  Log-Likelihood:    </th> <td>-4.2593e+05</td>\n",
       "</tr>\n",
       "<tr>\n",
       "  <th>No. Observations:</th>      <td> 29152</td>      <th>  AIC:               </th>  <td>8.520e+05</td> \n",
       "</tr>\n",
       "<tr>\n",
       "  <th>Df Residuals:</th>          <td> 29087</td>      <th>  BIC:               </th>  <td>8.525e+05</td> \n",
       "</tr>\n",
       "<tr>\n",
       "  <th>Df Model:</th>              <td>    64</td>      <th>                     </th>      <td> </td>     \n",
       "</tr>\n",
       "<tr>\n",
       "  <th>Covariance Type:</th>      <td>nonrobust</td>    <th>                     </th>      <td> </td>     \n",
       "</tr>\n",
       "</table>\n",
       "<table class=\"simpletable\">\n",
       "<tr>\n",
       "                 <td></td>                    <th>coef</th>     <th>std err</th>      <th>t</th>      <th>P>|t|</th>  <th>[0.025</th>    <th>0.975]</th>  \n",
       "</tr>\n",
       "<tr>\n",
       "  <th>const</th>                           <td>  2.22e+06</td> <td> 1.23e+06</td> <td>    1.801</td> <td> 0.072</td> <td>-1.97e+05</td> <td> 4.64e+06</td>\n",
       "</tr>\n",
       "<tr>\n",
       "  <th>bedrooms</th>                        <td>-4.164e+04</td> <td> 4722.854</td> <td>   -8.817</td> <td> 0.000</td> <td>-5.09e+04</td> <td>-3.24e+04</td>\n",
       "</tr>\n",
       "<tr>\n",
       "  <th>bathrooms</th>                       <td> 7.042e+04</td> <td> 6445.562</td> <td>   10.926</td> <td> 0.000</td> <td> 5.78e+04</td> <td> 8.31e+04</td>\n",
       "</tr>\n",
       "<tr>\n",
       "  <th>sqft_living</th>                     <td>   56.9762</td> <td>   14.705</td> <td>    3.875</td> <td> 0.000</td> <td>   28.155</td> <td>   85.798</td>\n",
       "</tr>\n",
       "<tr>\n",
       "  <th>sqft_lot</th>                        <td>    0.4536</td> <td>    0.057</td> <td>    7.936</td> <td> 0.000</td> <td>    0.342</td> <td>    0.566</td>\n",
       "</tr>\n",
       "<tr>\n",
       "  <th>sqft_above</th>                      <td>  255.2578</td> <td>   14.605</td> <td>   17.477</td> <td> 0.000</td> <td>  226.631</td> <td>  283.885</td>\n",
       "</tr>\n",
       "<tr>\n",
       "  <th>sqft_basement</th>                   <td>  134.4326</td> <td>   11.245</td> <td>   11.955</td> <td> 0.000</td> <td>  112.392</td> <td>  156.473</td>\n",
       "</tr>\n",
       "<tr>\n",
       "  <th>sqft_garage</th>                     <td> -131.4608</td> <td>   15.748</td> <td>   -8.348</td> <td> 0.000</td> <td> -162.328</td> <td> -100.593</td>\n",
       "</tr>\n",
       "<tr>\n",
       "  <th>sqft_patio</th>                      <td>   63.6995</td> <td>   14.714</td> <td>    4.329</td> <td> 0.000</td> <td>   34.860</td> <td>   92.539</td>\n",
       "</tr>\n",
       "<tr>\n",
       "  <th>yr_built</th>                        <td> -912.3150</td> <td>  609.903</td> <td>   -1.496</td> <td> 0.135</td> <td>-2107.752</td> <td>  283.122</td>\n",
       "</tr>\n",
       "<tr>\n",
       "  <th>yr_renovated</th>                    <td>   62.2060</td> <td>   19.324</td> <td>    3.219</td> <td> 0.001</td> <td>   24.330</td> <td>  100.083</td>\n",
       "</tr>\n",
       "<tr>\n",
       "  <th>yr_old</th>                          <td>  664.4318</td> <td>  614.962</td> <td>    1.080</td> <td> 0.280</td> <td> -540.921</td> <td> 1869.785</td>\n",
       "</tr>\n",
       "<tr>\n",
       "  <th>Population</th>                      <td>    1.1787</td> <td>    0.373</td> <td>    3.158</td> <td> 0.002</td> <td>    0.447</td> <td>    1.910</td>\n",
       "</tr>\n",
       "<tr>\n",
       "  <th>waterfront_YES</th>                  <td> 7.538e+05</td> <td> 2.91e+04</td> <td>   25.913</td> <td> 0.000</td> <td> 6.97e+05</td> <td> 8.11e+05</td>\n",
       "</tr>\n",
       "<tr>\n",
       "  <th>greenbelt_YES</th>                   <td>-6.456e+04</td> <td> 2.03e+04</td> <td>   -3.179</td> <td> 0.001</td> <td>-1.04e+05</td> <td>-2.48e+04</td>\n",
       "</tr>\n",
       "<tr>\n",
       "  <th>nuisance_YES</th>                    <td>-2.371e+04</td> <td> 8577.367</td> <td>   -2.764</td> <td> 0.006</td> <td>-4.05e+04</td> <td>-6898.056</td>\n",
       "</tr>\n",
       "<tr>\n",
       "  <th>view_EXCELLENT</th>                  <td> 6.417e+05</td> <td> 2.94e+04</td> <td>   21.794</td> <td> 0.000</td> <td> 5.84e+05</td> <td> 6.99e+05</td>\n",
       "</tr>\n",
       "<tr>\n",
       "  <th>view_FAIR</th>                       <td> 1.147e+05</td> <td> 3.88e+04</td> <td>    2.957</td> <td> 0.003</td> <td> 3.87e+04</td> <td> 1.91e+05</td>\n",
       "</tr>\n",
       "<tr>\n",
       "  <th>view_GOOD</th>                       <td> 4.735e+04</td> <td> 2.22e+04</td> <td>    2.135</td> <td> 0.033</td> <td> 3884.376</td> <td> 9.08e+04</td>\n",
       "</tr>\n",
       "<tr>\n",
       "  <th>view_NONE</th>                       <td> -7.72e+04</td> <td> 1.34e+04</td> <td>   -5.760</td> <td> 0.000</td> <td>-1.03e+05</td> <td>-5.09e+04</td>\n",
       "</tr>\n",
       "<tr>\n",
       "  <th>condition_Fair</th>                  <td>-1.184e+05</td> <td> 3.67e+04</td> <td>   -3.223</td> <td> 0.001</td> <td> -1.9e+05</td> <td>-4.64e+04</td>\n",
       "</tr>\n",
       "<tr>\n",
       "  <th>condition_Good</th>                  <td> 3.929e+04</td> <td> 8050.077</td> <td>    4.881</td> <td> 0.000</td> <td> 2.35e+04</td> <td> 5.51e+04</td>\n",
       "</tr>\n",
       "<tr>\n",
       "  <th>condition_Poor</th>                  <td>-9.245e+04</td> <td> 7.11e+04</td> <td>   -1.300</td> <td> 0.193</td> <td>-2.32e+05</td> <td> 4.69e+04</td>\n",
       "</tr>\n",
       "<tr>\n",
       "  <th>condition_Very Good</th>             <td> 1.004e+05</td> <td> 1.13e+04</td> <td>    8.879</td> <td> 0.000</td> <td> 7.83e+04</td> <td> 1.23e+05</td>\n",
       "</tr>\n",
       "<tr>\n",
       "  <th>heat_source_Electricity/Solar</th>   <td>-7.649e+04</td> <td> 7.15e+04</td> <td>   -1.071</td> <td> 0.284</td> <td>-2.17e+05</td> <td> 6.36e+04</td>\n",
       "</tr>\n",
       "<tr>\n",
       "  <th>heat_source_Gas</th>                 <td> 1.127e+04</td> <td> 7659.349</td> <td>    1.472</td> <td> 0.141</td> <td>-3740.230</td> <td> 2.63e+04</td>\n",
       "</tr>\n",
       "<tr>\n",
       "  <th>heat_source_Gas/Solar</th>           <td> 1.778e+05</td> <td> 5.62e+04</td> <td>    3.165</td> <td> 0.002</td> <td> 6.77e+04</td> <td> 2.88e+05</td>\n",
       "</tr>\n",
       "<tr>\n",
       "  <th>sewer_system_PRIVATE RESTRICTED</th> <td>-5.758e+05</td> <td> 2.45e+05</td> <td>   -2.347</td> <td> 0.019</td> <td>-1.06e+06</td> <td>-9.49e+04</td>\n",
       "</tr>\n",
       "<tr>\n",
       "  <th>sewer_system_PUBLIC</th>             <td> 9.811e+04</td> <td> 1.11e+04</td> <td>    8.860</td> <td> 0.000</td> <td> 7.64e+04</td> <td>  1.2e+05</td>\n",
       "</tr>\n",
       "<tr>\n",
       "  <th>Neighborhood_Bellevue</th>           <td> 1.021e+06</td> <td> 1.91e+04</td> <td>   53.326</td> <td> 0.000</td> <td> 9.83e+05</td> <td> 1.06e+06</td>\n",
       "</tr>\n",
       "<tr>\n",
       "  <th>Neighborhood_Bothell</th>            <td> 4.547e+05</td> <td> 3.56e+04</td> <td>   12.786</td> <td> 0.000</td> <td> 3.85e+05</td> <td> 5.24e+05</td>\n",
       "</tr>\n",
       "<tr>\n",
       "  <th>Neighborhood_Carnation</th>          <td>   2.4e+05</td> <td> 4.57e+04</td> <td>    5.249</td> <td> 0.000</td> <td>  1.5e+05</td> <td>  3.3e+05</td>\n",
       "</tr>\n",
       "<tr>\n",
       "  <th>Neighborhood_Duvall</th>             <td> 2.542e+05</td> <td> 3.72e+04</td> <td>    6.833</td> <td> 0.000</td> <td> 1.81e+05</td> <td> 3.27e+05</td>\n",
       "</tr>\n",
       "<tr>\n",
       "  <th>Neighborhood_Enumclaw</th>           <td>   2.6e+04</td> <td> 2.84e+04</td> <td>    0.915</td> <td> 0.360</td> <td>-2.97e+04</td> <td> 8.17e+04</td>\n",
       "</tr>\n",
       "<tr>\n",
       "  <th>Neighborhood_Fall City</th>          <td> 6.439e+05</td> <td> 5.31e+04</td> <td>   12.134</td> <td> 0.000</td> <td>  5.4e+05</td> <td> 7.48e+05</td>\n",
       "</tr>\n",
       "<tr>\n",
       "  <th>Neighborhood_Federal Way</th>        <td>-3.424e+04</td> <td> 2.11e+04</td> <td>   -1.619</td> <td> 0.105</td> <td>-7.57e+04</td> <td> 7202.378</td>\n",
       "</tr>\n",
       "<tr>\n",
       "  <th>Neighborhood_Gold Bar</th>           <td> 3.376e+05</td> <td>  3.1e+05</td> <td>    1.087</td> <td> 0.277</td> <td>-2.71e+05</td> <td> 9.46e+05</td>\n",
       "</tr>\n",
       "<tr>\n",
       "  <th>Neighborhood_Issaquah</th>           <td> 5.279e+05</td> <td> 2.41e+04</td> <td>   21.919</td> <td> 0.000</td> <td> 4.81e+05</td> <td> 5.75e+05</td>\n",
       "</tr>\n",
       "<tr>\n",
       "  <th>Neighborhood_Kenmore</th>            <td> 3.938e+05</td> <td> 3.16e+04</td> <td>   12.463</td> <td> 0.000</td> <td> 3.32e+05</td> <td> 4.56e+05</td>\n",
       "</tr>\n",
       "<tr>\n",
       "  <th>Neighborhood_Kent</th>               <td> 4.749e+04</td> <td> 1.74e+04</td> <td>    2.734</td> <td> 0.006</td> <td> 1.34e+04</td> <td> 8.15e+04</td>\n",
       "</tr>\n",
       "<tr>\n",
       "  <th>Neighborhood_Kirkland</th>           <td>  8.35e+05</td> <td> 1.98e+04</td> <td>   42.175</td> <td> 0.000</td> <td> 7.96e+05</td> <td> 8.74e+05</td>\n",
       "</tr>\n",
       "<tr>\n",
       "  <th>Neighborhood_Maple Valley</th>       <td> 1.161e+05</td> <td> 2.21e+04</td> <td>    5.249</td> <td> 0.000</td> <td> 7.28e+04</td> <td>  1.6e+05</td>\n",
       "</tr>\n",
       "<tr>\n",
       "  <th>Neighborhood_Medina</th>             <td> 3.355e+06</td> <td> 7.24e+04</td> <td>   46.321</td> <td> 0.000</td> <td> 3.21e+06</td> <td>  3.5e+06</td>\n",
       "</tr>\n",
       "<tr>\n",
       "  <th>Neighborhood_Mercer Island</th>      <td> 1.184e+06</td> <td> 3.26e+04</td> <td>   36.280</td> <td> 0.000</td> <td> 1.12e+06</td> <td> 1.25e+06</td>\n",
       "</tr>\n",
       "<tr>\n",
       "  <th>Neighborhood_North Bend</th>         <td> 2.763e+05</td> <td> 2.85e+04</td> <td>    9.704</td> <td> 0.000</td> <td>  2.2e+05</td> <td> 3.32e+05</td>\n",
       "</tr>\n",
       "<tr>\n",
       "  <th>Neighborhood_Pacific</th>            <td> 1.364e+05</td> <td> 6.32e+04</td> <td>    2.159</td> <td> 0.031</td> <td> 1.25e+04</td> <td>  2.6e+05</td>\n",
       "</tr>\n",
       "<tr>\n",
       "  <th>Neighborhood_Preston</th>            <td>  6.14e+05</td> <td>  3.8e+05</td> <td>    1.615</td> <td> 0.106</td> <td>-1.31e+05</td> <td> 1.36e+06</td>\n",
       "</tr>\n",
       "<tr>\n",
       "  <th>Neighborhood_Ravensdale</th>         <td> 1.093e+05</td> <td> 6.85e+04</td> <td>    1.596</td> <td> 0.110</td> <td>-2.49e+04</td> <td> 2.43e+05</td>\n",
       "</tr>\n",
       "<tr>\n",
       "  <th>Neighborhood_Redmond</th>            <td> 6.836e+05</td> <td>  2.2e+04</td> <td>   31.109</td> <td> 0.000</td> <td> 6.41e+05</td> <td> 7.27e+05</td>\n",
       "</tr>\n",
       "<tr>\n",
       "  <th>Neighborhood_Renton</th>             <td> 1.959e+05</td> <td> 1.71e+04</td> <td>   11.487</td> <td> 0.000</td> <td> 1.62e+05</td> <td> 2.29e+05</td>\n",
       "</tr>\n",
       "<tr>\n",
       "  <th>Neighborhood_Sammamish</th>          <td> 6.148e+05</td> <td> 2.29e+04</td> <td>   26.826</td> <td> 0.000</td> <td>  5.7e+05</td> <td>  6.6e+05</td>\n",
       "</tr>\n",
       "<tr>\n",
       "  <th>Neighborhood_Seattle</th>            <td> 3.749e+05</td> <td> 1.47e+04</td> <td>   25.501</td> <td> 0.000</td> <td> 3.46e+05</td> <td> 4.04e+05</td>\n",
       "</tr>\n",
       "<tr>\n",
       "  <th>Neighborhood_Snoqualmie</th>         <td> 3.378e+05</td> <td> 3.45e+04</td> <td>    9.784</td> <td> 0.000</td> <td>  2.7e+05</td> <td> 4.05e+05</td>\n",
       "</tr>\n",
       "<tr>\n",
       "  <th>Neighborhood_Vashon</th>             <td> 8.282e+04</td> <td> 4.24e+04</td> <td>    1.954</td> <td> 0.051</td> <td> -257.855</td> <td> 1.66e+05</td>\n",
       "</tr>\n",
       "<tr>\n",
       "  <th>Neighborhood_Woodinville</th>        <td> 5.516e+05</td> <td> 2.63e+04</td> <td>   20.970</td> <td> 0.000</td> <td>    5e+05</td> <td> 6.03e+05</td>\n",
       "</tr>\n",
       "<tr>\n",
       "  <th>grade_11 Excellent</th>              <td>  7.12e+05</td> <td> 3.11e+04</td> <td>   22.924</td> <td> 0.000</td> <td> 6.51e+05</td> <td> 7.73e+05</td>\n",
       "</tr>\n",
       "<tr>\n",
       "  <th>grade_12 Luxury</th>                 <td> 1.578e+06</td> <td> 5.25e+04</td> <td>   30.076</td> <td> 0.000</td> <td> 1.48e+06</td> <td> 1.68e+06</td>\n",
       "</tr>\n",
       "<tr>\n",
       "  <th>grade_13 Mansion</th>                <td> 3.266e+06</td> <td> 1.14e+05</td> <td>   28.679</td> <td> 0.000</td> <td> 3.04e+06</td> <td> 3.49e+06</td>\n",
       "</tr>\n",
       "<tr>\n",
       "  <th>grade_3 Poor</th>                    <td> -6.41e+05</td> <td> 1.87e+05</td> <td>   -3.425</td> <td> 0.001</td> <td>-1.01e+06</td> <td>-2.74e+05</td>\n",
       "</tr>\n",
       "<tr>\n",
       "  <th>grade_4 Low</th>                     <td>-6.301e+05</td> <td> 8.39e+04</td> <td>   -7.510</td> <td> 0.000</td> <td>-7.95e+05</td> <td>-4.66e+05</td>\n",
       "</tr>\n",
       "<tr>\n",
       "  <th>grade_5 Fair</th>                    <td>-5.925e+05</td> <td> 3.62e+04</td> <td>  -16.347</td> <td> 0.000</td> <td>-6.64e+05</td> <td>-5.21e+05</td>\n",
       "</tr>\n",
       "<tr>\n",
       "  <th>grade_6 Low Average</th>             <td>-6.083e+05</td> <td> 2.41e+04</td> <td>  -25.221</td> <td> 0.000</td> <td>-6.56e+05</td> <td>-5.61e+05</td>\n",
       "</tr>\n",
       "<tr>\n",
       "  <th>grade_7 Average</th>                 <td>-5.948e+05</td> <td> 2.03e+04</td> <td>  -29.327</td> <td> 0.000</td> <td>-6.35e+05</td> <td>-5.55e+05</td>\n",
       "</tr>\n",
       "<tr>\n",
       "  <th>grade_8 Good</th>                    <td>-5.034e+05</td> <td> 1.84e+04</td> <td>  -27.411</td> <td> 0.000</td> <td>-5.39e+05</td> <td>-4.67e+05</td>\n",
       "</tr>\n",
       "<tr>\n",
       "  <th>grade_9 Better</th>                  <td>-2.648e+05</td> <td>  1.8e+04</td> <td>  -14.678</td> <td> 0.000</td> <td>   -3e+05</td> <td>-2.29e+05</td>\n",
       "</tr>\n",
       "</table>\n",
       "<table class=\"simpletable\">\n",
       "<tr>\n",
       "  <th>Omnibus:</th>       <td>47327.712</td> <th>  Durbin-Watson:     </th>   <td>   1.896</td>   \n",
       "</tr>\n",
       "<tr>\n",
       "  <th>Prob(Omnibus):</th>  <td> 0.000</td>   <th>  Jarque-Bera (JB):  </th> <td>141696496.563</td>\n",
       "</tr>\n",
       "<tr>\n",
       "  <th>Skew:</th>           <td>10.138</td>   <th>  Prob(JB):          </th>   <td>    0.00</td>   \n",
       "</tr>\n",
       "<tr>\n",
       "  <th>Kurtosis:</th>       <td>343.945</td>  <th>  Cond. No.          </th>   <td>2.50e+07</td>   \n",
       "</tr>\n",
       "</table><br/><br/>Notes:<br/>[1] Standard Errors assume that the covariance matrix of the errors is correctly specified.<br/>[2] The condition number is large, 2.5e+07. This might indicate that there are<br/>strong multicollinearity or other numerical problems."
      ],
      "text/plain": [
       "<class 'statsmodels.iolib.summary.Summary'>\n",
       "\"\"\"\n",
       "                            OLS Regression Results                            \n",
       "==============================================================================\n",
       "Dep. Variable:                  price   R-squared:                       0.642\n",
       "Model:                            OLS   Adj. R-squared:                  0.641\n",
       "Method:                 Least Squares   F-statistic:                     815.4\n",
       "Date:                Wed, 21 Sep 2022   Prob (F-statistic):               0.00\n",
       "Time:                        22:21:40   Log-Likelihood:            -4.2593e+05\n",
       "No. Observations:               29152   AIC:                         8.520e+05\n",
       "Df Residuals:                   29087   BIC:                         8.525e+05\n",
       "Df Model:                          64                                         \n",
       "Covariance Type:            nonrobust                                         \n",
       "===================================================================================================\n",
       "                                      coef    std err          t      P>|t|      [0.025      0.975]\n",
       "---------------------------------------------------------------------------------------------------\n",
       "const                             2.22e+06   1.23e+06      1.801      0.072   -1.97e+05    4.64e+06\n",
       "bedrooms                        -4.164e+04   4722.854     -8.817      0.000   -5.09e+04   -3.24e+04\n",
       "bathrooms                        7.042e+04   6445.562     10.926      0.000    5.78e+04    8.31e+04\n",
       "sqft_living                        56.9762     14.705      3.875      0.000      28.155      85.798\n",
       "sqft_lot                            0.4536      0.057      7.936      0.000       0.342       0.566\n",
       "sqft_above                        255.2578     14.605     17.477      0.000     226.631     283.885\n",
       "sqft_basement                     134.4326     11.245     11.955      0.000     112.392     156.473\n",
       "sqft_garage                      -131.4608     15.748     -8.348      0.000    -162.328    -100.593\n",
       "sqft_patio                         63.6995     14.714      4.329      0.000      34.860      92.539\n",
       "yr_built                         -912.3150    609.903     -1.496      0.135   -2107.752     283.122\n",
       "yr_renovated                       62.2060     19.324      3.219      0.001      24.330     100.083\n",
       "yr_old                            664.4318    614.962      1.080      0.280    -540.921    1869.785\n",
       "Population                          1.1787      0.373      3.158      0.002       0.447       1.910\n",
       "waterfront_YES                   7.538e+05   2.91e+04     25.913      0.000    6.97e+05    8.11e+05\n",
       "greenbelt_YES                   -6.456e+04   2.03e+04     -3.179      0.001   -1.04e+05   -2.48e+04\n",
       "nuisance_YES                    -2.371e+04   8577.367     -2.764      0.006   -4.05e+04   -6898.056\n",
       "view_EXCELLENT                   6.417e+05   2.94e+04     21.794      0.000    5.84e+05    6.99e+05\n",
       "view_FAIR                        1.147e+05   3.88e+04      2.957      0.003    3.87e+04    1.91e+05\n",
       "view_GOOD                        4.735e+04   2.22e+04      2.135      0.033    3884.376    9.08e+04\n",
       "view_NONE                        -7.72e+04   1.34e+04     -5.760      0.000   -1.03e+05   -5.09e+04\n",
       "condition_Fair                  -1.184e+05   3.67e+04     -3.223      0.001    -1.9e+05   -4.64e+04\n",
       "condition_Good                   3.929e+04   8050.077      4.881      0.000    2.35e+04    5.51e+04\n",
       "condition_Poor                  -9.245e+04   7.11e+04     -1.300      0.193   -2.32e+05    4.69e+04\n",
       "condition_Very Good              1.004e+05   1.13e+04      8.879      0.000    7.83e+04    1.23e+05\n",
       "heat_source_Electricity/Solar   -7.649e+04   7.15e+04     -1.071      0.284   -2.17e+05    6.36e+04\n",
       "heat_source_Gas                  1.127e+04   7659.349      1.472      0.141   -3740.230    2.63e+04\n",
       "heat_source_Gas/Solar            1.778e+05   5.62e+04      3.165      0.002    6.77e+04    2.88e+05\n",
       "sewer_system_PRIVATE RESTRICTED -5.758e+05   2.45e+05     -2.347      0.019   -1.06e+06   -9.49e+04\n",
       "sewer_system_PUBLIC              9.811e+04   1.11e+04      8.860      0.000    7.64e+04     1.2e+05\n",
       "Neighborhood_Bellevue            1.021e+06   1.91e+04     53.326      0.000    9.83e+05    1.06e+06\n",
       "Neighborhood_Bothell             4.547e+05   3.56e+04     12.786      0.000    3.85e+05    5.24e+05\n",
       "Neighborhood_Carnation             2.4e+05   4.57e+04      5.249      0.000     1.5e+05     3.3e+05\n",
       "Neighborhood_Duvall              2.542e+05   3.72e+04      6.833      0.000    1.81e+05    3.27e+05\n",
       "Neighborhood_Enumclaw              2.6e+04   2.84e+04      0.915      0.360   -2.97e+04    8.17e+04\n",
       "Neighborhood_Fall City           6.439e+05   5.31e+04     12.134      0.000     5.4e+05    7.48e+05\n",
       "Neighborhood_Federal Way        -3.424e+04   2.11e+04     -1.619      0.105   -7.57e+04    7202.378\n",
       "Neighborhood_Gold Bar            3.376e+05    3.1e+05      1.087      0.277   -2.71e+05    9.46e+05\n",
       "Neighborhood_Issaquah            5.279e+05   2.41e+04     21.919      0.000    4.81e+05    5.75e+05\n",
       "Neighborhood_Kenmore             3.938e+05   3.16e+04     12.463      0.000    3.32e+05    4.56e+05\n",
       "Neighborhood_Kent                4.749e+04   1.74e+04      2.734      0.006    1.34e+04    8.15e+04\n",
       "Neighborhood_Kirkland             8.35e+05   1.98e+04     42.175      0.000    7.96e+05    8.74e+05\n",
       "Neighborhood_Maple Valley        1.161e+05   2.21e+04      5.249      0.000    7.28e+04     1.6e+05\n",
       "Neighborhood_Medina              3.355e+06   7.24e+04     46.321      0.000    3.21e+06     3.5e+06\n",
       "Neighborhood_Mercer Island       1.184e+06   3.26e+04     36.280      0.000    1.12e+06    1.25e+06\n",
       "Neighborhood_North Bend          2.763e+05   2.85e+04      9.704      0.000     2.2e+05    3.32e+05\n",
       "Neighborhood_Pacific             1.364e+05   6.32e+04      2.159      0.031    1.25e+04     2.6e+05\n",
       "Neighborhood_Preston              6.14e+05    3.8e+05      1.615      0.106   -1.31e+05    1.36e+06\n",
       "Neighborhood_Ravensdale          1.093e+05   6.85e+04      1.596      0.110   -2.49e+04    2.43e+05\n",
       "Neighborhood_Redmond             6.836e+05    2.2e+04     31.109      0.000    6.41e+05    7.27e+05\n",
       "Neighborhood_Renton              1.959e+05   1.71e+04     11.487      0.000    1.62e+05    2.29e+05\n",
       "Neighborhood_Sammamish           6.148e+05   2.29e+04     26.826      0.000     5.7e+05     6.6e+05\n",
       "Neighborhood_Seattle             3.749e+05   1.47e+04     25.501      0.000    3.46e+05    4.04e+05\n",
       "Neighborhood_Snoqualmie          3.378e+05   3.45e+04      9.784      0.000     2.7e+05    4.05e+05\n",
       "Neighborhood_Vashon              8.282e+04   4.24e+04      1.954      0.051    -257.855    1.66e+05\n",
       "Neighborhood_Woodinville         5.516e+05   2.63e+04     20.970      0.000       5e+05    6.03e+05\n",
       "grade_11 Excellent                7.12e+05   3.11e+04     22.924      0.000    6.51e+05    7.73e+05\n",
       "grade_12 Luxury                  1.578e+06   5.25e+04     30.076      0.000    1.48e+06    1.68e+06\n",
       "grade_13 Mansion                 3.266e+06   1.14e+05     28.679      0.000    3.04e+06    3.49e+06\n",
       "grade_3 Poor                     -6.41e+05   1.87e+05     -3.425      0.001   -1.01e+06   -2.74e+05\n",
       "grade_4 Low                     -6.301e+05   8.39e+04     -7.510      0.000   -7.95e+05   -4.66e+05\n",
       "grade_5 Fair                    -5.925e+05   3.62e+04    -16.347      0.000   -6.64e+05   -5.21e+05\n",
       "grade_6 Low Average             -6.083e+05   2.41e+04    -25.221      0.000   -6.56e+05   -5.61e+05\n",
       "grade_7 Average                 -5.948e+05   2.03e+04    -29.327      0.000   -6.35e+05   -5.55e+05\n",
       "grade_8 Good                    -5.034e+05   1.84e+04    -27.411      0.000   -5.39e+05   -4.67e+05\n",
       "grade_9 Better                  -2.648e+05    1.8e+04    -14.678      0.000      -3e+05   -2.29e+05\n",
       "==============================================================================\n",
       "Omnibus:                    47327.712   Durbin-Watson:                   1.896\n",
       "Prob(Omnibus):                  0.000   Jarque-Bera (JB):        141696496.563\n",
       "Skew:                          10.138   Prob(JB):                         0.00\n",
       "Kurtosis:                     343.945   Cond. No.                     2.50e+07\n",
       "==============================================================================\n",
       "\n",
       "Notes:\n",
       "[1] Standard Errors assume that the covariance matrix of the errors is correctly specified.\n",
       "[2] The condition number is large, 2.5e+07. This might indicate that there are\n",
       "strong multicollinearity or other numerical problems.\n",
       "\"\"\""
      ]
     },
     "execution_count": 105,
     "metadata": {},
     "output_type": "execute_result"
    }
   ],
   "source": [
    "X1=dum_df1.drop(labels=['selldate', 'price', 'Zipcode', 'address', 'lat', 'long', \n",
    "                       'sewer_system_PUBLIC RESTRICTED',\n",
    "                      'heat_source_Oil', 'heat_source_Oil/Solar', 'heat_source_Other',\n",
    "                      'floors', 'Neighborhood_Skykomish', 'Neighborhood_Black Diamond',\n",
    "                      'Neighborhood_Baring', 'grade_2 Substandard' ], axis=1)\n",
    "y=dum_df1.price\n",
    "\n",
    "model_1 = sm.OLS(y, sm.add_constant(X1))\n",
    "results1 = model_1.fit()\n",
    "results1.summary()"
   ]
  },
  {
   "cell_type": "code",
   "execution_count": 106,
   "metadata": {},
   "outputs": [
    {
     "data": {
      "text/plain": [
       "274566.9981449575"
      ]
     },
     "execution_count": 106,
     "metadata": {},
     "output_type": "execute_result"
    }
   ],
   "source": [
    "mae = mean_absolute_error(y, results1.predict(sm.add_constant(X1)))\n",
    "mae"
   ]
  },
  {
   "cell_type": "code",
   "execution_count": null,
   "metadata": {},
   "outputs": [],
   "source": []
  },
  {
   "cell_type": "markdown",
   "metadata": {},
   "source": [
    "## Bathrooms"
   ]
  },
  {
   "cell_type": "markdown",
   "metadata": {
    "index": 67
   },
   "source": [
    "## Regression Results"
   ]
  },
  {
   "cell_type": "markdown",
   "metadata": {
    "index": 85
   },
   "source": [
    "## Level Up: Project Enhancements\n",
    "\n",
    "After completing the minimum project requirements, you could consider the following enhancements if you have time:\n",
    "\n",
    "* Consider applying a linear or non-linear transformation to your features and/or target\n",
    "* Investigate the linear regression assumptions for your final model\n",
    "* Identify and remove outliers, then redo the analysis\n",
    "* Compile the data cleaning code into a function"
   ]
  },
  {
   "cell_type": "markdown",
   "metadata": {
    "index": 86
   },
   "source": [
    "## Conclusion"
   ]
  },
  {
   "cell_type": "code",
   "execution_count": null,
   "metadata": {},
   "outputs": [],
   "source": []
  }
 ],
 "metadata": {
  "kernelspec": {
   "display_name": "Python 3",
   "language": "python",
   "name": "python3"
  },
  "language_info": {
   "codemirror_mode": {
    "name": "ipython",
    "version": 3
   },
   "file_extension": ".py",
   "mimetype": "text/x-python",
   "name": "python",
   "nbconvert_exporter": "python",
   "pygments_lexer": "ipython3",
   "version": "3.8.5"
  }
 },
 "nbformat": 4,
 "nbformat_minor": 4
}
