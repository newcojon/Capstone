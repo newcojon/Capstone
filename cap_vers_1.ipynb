{
 "cells": [
  {
   "cell_type": "markdown",
   "metadata": {
    "index": 0
   },
   "source": [
    "# King County Real Estate Project"
   ]
  },
  {
   "cell_type": "markdown",
   "metadata": {},
   "source": [
    "### Table of Contents\n",
    "\n",
    "Section_1\n",
    "\n",
    "[section_2](#section_2)\n",
    "\n",
    "\n",
    "[section_3](#section_3)"
   ]
  },
  {
   "cell_type": "markdown",
   "metadata": {
    "index": 2
   },
   "source": [
    "## Business Understanding"
   ]
  },
  {
   "cell_type": "markdown",
   "metadata": {},
   "source": [
    "For this project, I have been retained by the leadership of a startup online real estate analytics firm, BCF, LLC ('BCF'). BCF has requested advice for one of its newest clients, a small well established local real estate broker from the King County region of Washington State, located in the Ballard neighborhood of Seattle ('Client'). Client has a large crew of seasoned real estate agents, loan officers, lead generation experts, and other sales supply chain specialists.  Client is currently exploring ideas to scale its business in the King County region and keep pace with newer, more technologically advanced companies. \n",
    "\n",
    "Toward this end, Client wants to obtain better data insights by better leveraging the abundance of real estate data available.  Client has approached BCF for an analytical and scientific perpective on what drives residential real estate sales in King County so that it can provide actionable reference points for its relentless 'direct to consumer' sales team. Client is requesting a multivariate linear regression analysis of the King County real estate market, with `price` being the primary dependent variable.  "
   ]
  },
  {
   "cell_type": "markdown",
   "metadata": {
    "index": 2
   },
   "source": [
    "## Data and Methodology\n",
    "\n",
    "The guiding principal underlying this analysis was to maintain an iterative update process to the model with new information in an effort to obtain a better understanding of what combination of independent factors are most impacting residential real estate prices in King County.  In keeping with this goal, significant efforts to maintain independence were made - independence between each independent variable and independence between each independent variable and the target. \n",
    "\n",
    "### Data Sources\n",
    "\n",
    "Data for this analysis was drawn from three different datasets. \n",
    "\n",
    "##### Base dataset\n",
    "The primary dataset provided to BCF by the client was a messy King County dataset with information obtained directly from the [King County Assessor's website](https://data.kingcounty.gov/Property-Assessments/Assessor-Localscape-Portal/2e9i-fa8a) ('Baseline Data').  \n",
    "A second dataset was then scraped from a website called [Home Town Locator]('https://washington.hometownlocator.com/zip-codes/countyzips,scfips,53033,c,king.cfm') ('City Data') where the names of different cities in King County were extracted and matched to city names in the addresses contained within the Baseline Data. The addition of City Data greatly improved the model's understanding of how geographic factors were impacting `price`. \n",
    "\n",
    "Finally, a third dataset was taken from the [King County GIS Open Data Site](https://data.kingcounty.gov/County-Operations/King-County-GIS-Open-Data-site/wuuf-xywg) and includes a range of service addresses that provide information for the final model.  \n",
    "\n",
    "The initial baseline regression model was built utilizing the base dataset. The second model iteration was built using the\n",
    "\n",
    "-what each record represents\n",
    "-which column is begin used as the regress"
   ]
  },
  {
   "cell_type": "markdown",
   "metadata": {
    "index": 2
   },
   "source": [
    "## Data Preparation"
   ]
  },
  {
   "cell_type": "markdown",
   "metadata": {},
   "source": [
    "### Loading the Data and Programming tools"
   ]
  },
  {
   "cell_type": "code",
   "execution_count": 471,
   "metadata": {
    "index": 3
   },
   "outputs": [],
   "source": [
    "\n",
    "#importing all appropriate Pythonic libraries and packages \n",
    "\n",
    "import numpy as np\n",
    "import pandas as pd\n",
    "from matplotlib import pyplot as plt\n",
    "import seaborn as sns\n",
    "import statsmodels.api as sm\n",
    "from sklearn.preprocessing import OneHotEncoder, StandardScaler\n",
    "from sklearn.datasets import make_regression\n",
    "from sklearn.linear_model import LinearRegression\n",
    "import sklearn.metrics as metrics\n",
    "from sklearn.metrics import mean_absolute_error\n",
    "from random import gauss\n",
    "from mpl_toolkits.mplot3d import Axes3D\n",
    "from scipy import stats as stats\n",
    "import re\n",
    "%matplotlib inline"
   ]
  },
  {
   "cell_type": "code",
   "execution_count": 472,
   "metadata": {},
   "outputs": [
    {
     "data": {
      "text/html": [
       "<div>\n",
       "<style scoped>\n",
       "    .dataframe tbody tr th:only-of-type {\n",
       "        vertical-align: middle;\n",
       "    }\n",
       "\n",
       "    .dataframe tbody tr th {\n",
       "        vertical-align: top;\n",
       "    }\n",
       "\n",
       "    .dataframe thead th {\n",
       "        text-align: right;\n",
       "    }\n",
       "</style>\n",
       "<table border=\"1\" class=\"dataframe\">\n",
       "  <thead>\n",
       "    <tr style=\"text-align: right;\">\n",
       "      <th></th>\n",
       "      <th>id</th>\n",
       "      <th>date</th>\n",
       "      <th>price</th>\n",
       "      <th>bedrooms</th>\n",
       "      <th>bathrooms</th>\n",
       "      <th>sqft_living</th>\n",
       "      <th>sqft_lot</th>\n",
       "      <th>floors</th>\n",
       "      <th>waterfront</th>\n",
       "      <th>greenbelt</th>\n",
       "      <th>...</th>\n",
       "      <th>sewer_system</th>\n",
       "      <th>sqft_above</th>\n",
       "      <th>sqft_basement</th>\n",
       "      <th>sqft_garage</th>\n",
       "      <th>sqft_patio</th>\n",
       "      <th>yr_built</th>\n",
       "      <th>yr_renovated</th>\n",
       "      <th>address</th>\n",
       "      <th>lat</th>\n",
       "      <th>long</th>\n",
       "    </tr>\n",
       "  </thead>\n",
       "  <tbody>\n",
       "    <tr>\n",
       "      <th>0</th>\n",
       "      <td>7399300360</td>\n",
       "      <td>5/24/2022</td>\n",
       "      <td>675000.0</td>\n",
       "      <td>4</td>\n",
       "      <td>1.0</td>\n",
       "      <td>1180</td>\n",
       "      <td>7140</td>\n",
       "      <td>1.0</td>\n",
       "      <td>NO</td>\n",
       "      <td>NO</td>\n",
       "      <td>...</td>\n",
       "      <td>PUBLIC</td>\n",
       "      <td>1180</td>\n",
       "      <td>0</td>\n",
       "      <td>0</td>\n",
       "      <td>40</td>\n",
       "      <td>1969</td>\n",
       "      <td>0</td>\n",
       "      <td>2102 Southeast 21st Court, Renton, Washington ...</td>\n",
       "      <td>47.461975</td>\n",
       "      <td>-122.19052</td>\n",
       "    </tr>\n",
       "    <tr>\n",
       "      <th>1</th>\n",
       "      <td>8910500230</td>\n",
       "      <td>12/13/2021</td>\n",
       "      <td>920000.0</td>\n",
       "      <td>5</td>\n",
       "      <td>2.5</td>\n",
       "      <td>2770</td>\n",
       "      <td>6703</td>\n",
       "      <td>1.0</td>\n",
       "      <td>NO</td>\n",
       "      <td>NO</td>\n",
       "      <td>...</td>\n",
       "      <td>PUBLIC</td>\n",
       "      <td>1570</td>\n",
       "      <td>1570</td>\n",
       "      <td>0</td>\n",
       "      <td>240</td>\n",
       "      <td>1950</td>\n",
       "      <td>0</td>\n",
       "      <td>11231 Greenwood Avenue North, Seattle, Washing...</td>\n",
       "      <td>47.711525</td>\n",
       "      <td>-122.35591</td>\n",
       "    </tr>\n",
       "    <tr>\n",
       "      <th>2</th>\n",
       "      <td>1180000275</td>\n",
       "      <td>9/29/2021</td>\n",
       "      <td>311000.0</td>\n",
       "      <td>6</td>\n",
       "      <td>2.0</td>\n",
       "      <td>2880</td>\n",
       "      <td>6156</td>\n",
       "      <td>1.0</td>\n",
       "      <td>NO</td>\n",
       "      <td>NO</td>\n",
       "      <td>...</td>\n",
       "      <td>PUBLIC</td>\n",
       "      <td>1580</td>\n",
       "      <td>1580</td>\n",
       "      <td>0</td>\n",
       "      <td>0</td>\n",
       "      <td>1956</td>\n",
       "      <td>0</td>\n",
       "      <td>8504 South 113th Street, Seattle, Washington 9...</td>\n",
       "      <td>47.502045</td>\n",
       "      <td>-122.22520</td>\n",
       "    </tr>\n",
       "    <tr>\n",
       "      <th>3</th>\n",
       "      <td>1604601802</td>\n",
       "      <td>12/14/2021</td>\n",
       "      <td>775000.0</td>\n",
       "      <td>3</td>\n",
       "      <td>3.0</td>\n",
       "      <td>2160</td>\n",
       "      <td>1400</td>\n",
       "      <td>2.0</td>\n",
       "      <td>NO</td>\n",
       "      <td>NO</td>\n",
       "      <td>...</td>\n",
       "      <td>PUBLIC</td>\n",
       "      <td>1090</td>\n",
       "      <td>1070</td>\n",
       "      <td>200</td>\n",
       "      <td>270</td>\n",
       "      <td>2010</td>\n",
       "      <td>0</td>\n",
       "      <td>4079 Letitia Avenue South, Seattle, Washington...</td>\n",
       "      <td>47.566110</td>\n",
       "      <td>-122.29020</td>\n",
       "    </tr>\n",
       "    <tr>\n",
       "      <th>4</th>\n",
       "      <td>8562780790</td>\n",
       "      <td>8/24/2021</td>\n",
       "      <td>592500.0</td>\n",
       "      <td>2</td>\n",
       "      <td>2.0</td>\n",
       "      <td>1120</td>\n",
       "      <td>758</td>\n",
       "      <td>2.0</td>\n",
       "      <td>NO</td>\n",
       "      <td>NO</td>\n",
       "      <td>...</td>\n",
       "      <td>PUBLIC</td>\n",
       "      <td>1120</td>\n",
       "      <td>550</td>\n",
       "      <td>550</td>\n",
       "      <td>30</td>\n",
       "      <td>2012</td>\n",
       "      <td>0</td>\n",
       "      <td>2193 Northwest Talus Drive, Issaquah, Washingt...</td>\n",
       "      <td>47.532470</td>\n",
       "      <td>-122.07188</td>\n",
       "    </tr>\n",
       "  </tbody>\n",
       "</table>\n",
       "<p>5 rows × 25 columns</p>\n",
       "</div>"
      ],
      "text/plain": [
       "           id        date     price  bedrooms  bathrooms  sqft_living  \\\n",
       "0  7399300360   5/24/2022  675000.0         4        1.0         1180   \n",
       "1  8910500230  12/13/2021  920000.0         5        2.5         2770   \n",
       "2  1180000275   9/29/2021  311000.0         6        2.0         2880   \n",
       "3  1604601802  12/14/2021  775000.0         3        3.0         2160   \n",
       "4  8562780790   8/24/2021  592500.0         2        2.0         1120   \n",
       "\n",
       "   sqft_lot  floors waterfront greenbelt  ... sewer_system sqft_above  \\\n",
       "0      7140     1.0         NO        NO  ...       PUBLIC       1180   \n",
       "1      6703     1.0         NO        NO  ...       PUBLIC       1570   \n",
       "2      6156     1.0         NO        NO  ...       PUBLIC       1580   \n",
       "3      1400     2.0         NO        NO  ...       PUBLIC       1090   \n",
       "4       758     2.0         NO        NO  ...       PUBLIC       1120   \n",
       "\n",
       "  sqft_basement sqft_garage sqft_patio yr_built  yr_renovated  \\\n",
       "0             0           0         40     1969             0   \n",
       "1          1570           0        240     1950             0   \n",
       "2          1580           0          0     1956             0   \n",
       "3          1070         200        270     2010             0   \n",
       "4           550         550         30     2012             0   \n",
       "\n",
       "                                             address        lat       long  \n",
       "0  2102 Southeast 21st Court, Renton, Washington ...  47.461975 -122.19052  \n",
       "1  11231 Greenwood Avenue North, Seattle, Washing...  47.711525 -122.35591  \n",
       "2  8504 South 113th Street, Seattle, Washington 9...  47.502045 -122.22520  \n",
       "3  4079 Letitia Avenue South, Seattle, Washington...  47.566110 -122.29020  \n",
       "4  2193 Northwest Talus Drive, Issaquah, Washingt...  47.532470 -122.07188  \n",
       "\n",
       "[5 rows x 25 columns]"
      ]
     },
     "execution_count": 472,
     "metadata": {},
     "output_type": "execute_result"
    }
   ],
   "source": [
    "# reading in the King County dataset to Pandas\n",
    "df = pd.read_csv('data/kc_house_data.csv')\n",
    "df.head()\n"
   ]
  },
  {
   "cell_type": "markdown",
   "metadata": {
    "index": 8
   },
   "source": [
    "### Data Exploration"
   ]
  },
  {
   "cell_type": "code",
   "execution_count": 473,
   "metadata": {},
   "outputs": [
    {
     "name": "stdout",
     "output_type": "stream",
     "text": [
      "<class 'pandas.core.frame.DataFrame'>\n",
      "RangeIndex: 30155 entries, 0 to 30154\n",
      "Data columns (total 25 columns):\n",
      " #   Column         Non-Null Count  Dtype  \n",
      "---  ------         --------------  -----  \n",
      " 0   id             30155 non-null  int64  \n",
      " 1   date           30155 non-null  object \n",
      " 2   price          30155 non-null  float64\n",
      " 3   bedrooms       30155 non-null  int64  \n",
      " 4   bathrooms      30155 non-null  float64\n",
      " 5   sqft_living    30155 non-null  int64  \n",
      " 6   sqft_lot       30155 non-null  int64  \n",
      " 7   floors         30155 non-null  float64\n",
      " 8   waterfront     30155 non-null  object \n",
      " 9   greenbelt      30155 non-null  object \n",
      " 10  nuisance       30155 non-null  object \n",
      " 11  view           30155 non-null  object \n",
      " 12  condition      30155 non-null  object \n",
      " 13  grade          30155 non-null  object \n",
      " 14  heat_source    30123 non-null  object \n",
      " 15  sewer_system   30141 non-null  object \n",
      " 16  sqft_above     30155 non-null  int64  \n",
      " 17  sqft_basement  30155 non-null  int64  \n",
      " 18  sqft_garage    30155 non-null  int64  \n",
      " 19  sqft_patio     30155 non-null  int64  \n",
      " 20  yr_built       30155 non-null  int64  \n",
      " 21  yr_renovated   30155 non-null  int64  \n",
      " 22  address        30155 non-null  object \n",
      " 23  lat            30155 non-null  float64\n",
      " 24  long           30155 non-null  float64\n",
      "dtypes: float64(5), int64(10), object(10)\n",
      "memory usage: 5.8+ MB\n"
     ]
    }
   ],
   "source": [
    "df.info()"
   ]
  },
  {
   "cell_type": "code",
   "execution_count": 474,
   "metadata": {},
   "outputs": [],
   "source": [
    "# dropping the placeholder column\n",
    "df.drop(labels='id', axis=1, inplace=True)"
   ]
  },
  {
   "cell_type": "markdown",
   "metadata": {},
   "source": [
    "#### Date issues"
   ]
  },
  {
   "cell_type": "code",
   "execution_count": 475,
   "metadata": {},
   "outputs": [],
   "source": [
    "# converting all dates to datetime\n",
    "df['date'] = pd.to_datetime(df['date'])\n",
    "\n",
    "# renaming date to selldate\n",
    "rnmdate = {'date':'selldate'}\n",
    "df.rename(columns=rnmdate, inplace=True)"
   ]
  },
  {
   "cell_type": "markdown",
   "metadata": {},
   "source": [
    "#### Zipcode issues"
   ]
  },
  {
   "cell_type": "code",
   "execution_count": 476,
   "metadata": {},
   "outputs": [
    {
     "data": {
      "text/plain": [
       "88"
      ]
     },
     "execution_count": 476,
     "metadata": {},
     "output_type": "execute_result"
    }
   ],
   "source": [
    "# isolating the zip code \n",
    "# alternative methods to achieve same\n",
    "# df['Zipcode'] = df['address'].str.extract(r'(\\d{5}\\-?\\d{0,4})')\n",
    "# df['address'][0].split(',')[2][-5:]\n",
    "# df['address'][1000][-20:-15]\n",
    "\n",
    "df['Zipcode'] = df['address'].apply(lambda x: x[-20:-15])\n",
    "\n",
    "df['Zipcode'] = df['Zipcode'].astype(int)\n",
    "\n",
    "# controling for outliers in zipcode preprocessing\n",
    "df = df.loc[(df['Zipcode'].astype(int) > 98000) & (df['Zipcode'].astype(int) <= 98922)]\n",
    "\n",
    "df.Zipcode.nunique()"
   ]
  },
  {
   "cell_type": "code",
   "execution_count": 477,
   "metadata": {},
   "outputs": [
    {
     "data": {
      "text/plain": [
       "<AxesSubplot:>"
      ]
     },
     "execution_count": 477,
     "metadata": {},
     "output_type": "execute_result"
    },
    {
     "data": {
      "image/png": "[encoded data removed]",
      "text/plain": [
       "<Figure size 432x288 with 1 Axes>"
      ]
     },
     "metadata": {
      "needs_background": "light"
     },
     "output_type": "display_data"
    }
   ],
   "source": [
    "df['Zipcode'].hist()"
   ]
  },
  {
   "cell_type": "code",
   "execution_count": 478,
   "metadata": {},
   "outputs": [
    {
     "data": {
      "text/html": [
       "<div>\n",
       "<style scoped>\n",
       "    .dataframe tbody tr th:only-of-type {\n",
       "        vertical-align: middle;\n",
       "    }\n",
       "\n",
       "    .dataframe tbody tr th {\n",
       "        vertical-align: top;\n",
       "    }\n",
       "\n",
       "    .dataframe thead th {\n",
       "        text-align: right;\n",
       "    }\n",
       "</style>\n",
       "<table border=\"1\" class=\"dataframe\">\n",
       "  <thead>\n",
       "    <tr style=\"text-align: right;\">\n",
       "      <th></th>\n",
       "      <th>price</th>\n",
       "      <th>bedrooms</th>\n",
       "      <th>bathrooms</th>\n",
       "      <th>sqft_living</th>\n",
       "      <th>sqft_lot</th>\n",
       "      <th>floors</th>\n",
       "      <th>sqft_above</th>\n",
       "      <th>sqft_basement</th>\n",
       "      <th>sqft_garage</th>\n",
       "      <th>sqft_patio</th>\n",
       "      <th>yr_built</th>\n",
       "      <th>yr_renovated</th>\n",
       "      <th>lat</th>\n",
       "      <th>long</th>\n",
       "      <th>Zipcode</th>\n",
       "    </tr>\n",
       "  </thead>\n",
       "  <tbody>\n",
       "    <tr>\n",
       "      <th>count</th>\n",
       "      <td>2.924100e+04</td>\n",
       "      <td>29241.000000</td>\n",
       "      <td>29241.000000</td>\n",
       "      <td>29241.000000</td>\n",
       "      <td>2.924100e+04</td>\n",
       "      <td>29241.000000</td>\n",
       "      <td>29241.000000</td>\n",
       "      <td>29241.000000</td>\n",
       "      <td>29241.000000</td>\n",
       "      <td>29241.000000</td>\n",
       "      <td>29241.000000</td>\n",
       "      <td>29241.000000</td>\n",
       "      <td>29241.000000</td>\n",
       "      <td>29241.000000</td>\n",
       "      <td>29241.000000</td>\n",
       "    </tr>\n",
       "    <tr>\n",
       "      <th>mean</th>\n",
       "      <td>1.112620e+06</td>\n",
       "      <td>3.435040</td>\n",
       "      <td>2.332239</td>\n",
       "      <td>2130.756643</td>\n",
       "      <td>1.719192e+04</td>\n",
       "      <td>1.517151</td>\n",
       "      <td>1825.820423</td>\n",
       "      <td>480.763654</td>\n",
       "      <td>336.275811</td>\n",
       "      <td>216.363599</td>\n",
       "      <td>1973.878458</td>\n",
       "      <td>93.764304</td>\n",
       "      <td>47.543109</td>\n",
       "      <td>-122.214209</td>\n",
       "      <td>98077.684826</td>\n",
       "    </tr>\n",
       "    <tr>\n",
       "      <th>std</th>\n",
       "      <td>8.953389e+05</td>\n",
       "      <td>0.978861</td>\n",
       "      <td>0.895780</td>\n",
       "      <td>977.344954</td>\n",
       "      <td>6.125879e+04</td>\n",
       "      <td>0.548585</td>\n",
       "      <td>880.729276</td>\n",
       "      <td>585.935636</td>\n",
       "      <td>286.199465</td>\n",
       "      <td>246.749571</td>\n",
       "      <td>31.684861</td>\n",
       "      <td>422.616958</td>\n",
       "      <td>0.147563</td>\n",
       "      <td>0.143653</td>\n",
       "      <td>55.267033</td>\n",
       "    </tr>\n",
       "    <tr>\n",
       "      <th>min</th>\n",
       "      <td>2.736000e+04</td>\n",
       "      <td>0.000000</td>\n",
       "      <td>0.000000</td>\n",
       "      <td>3.000000</td>\n",
       "      <td>4.020000e+02</td>\n",
       "      <td>1.000000</td>\n",
       "      <td>2.000000</td>\n",
       "      <td>0.000000</td>\n",
       "      <td>0.000000</td>\n",
       "      <td>0.000000</td>\n",
       "      <td>1900.000000</td>\n",
       "      <td>0.000000</td>\n",
       "      <td>45.636797</td>\n",
       "      <td>-122.666021</td>\n",
       "      <td>98001.000000</td>\n",
       "    </tr>\n",
       "    <tr>\n",
       "      <th>25%</th>\n",
       "      <td>6.450000e+05</td>\n",
       "      <td>3.000000</td>\n",
       "      <td>2.000000</td>\n",
       "      <td>1440.000000</td>\n",
       "      <td>5.000000e+03</td>\n",
       "      <td>1.000000</td>\n",
       "      <td>1190.000000</td>\n",
       "      <td>0.000000</td>\n",
       "      <td>0.000000</td>\n",
       "      <td>40.000000</td>\n",
       "      <td>1952.000000</td>\n",
       "      <td>0.000000</td>\n",
       "      <td>47.430065</td>\n",
       "      <td>-122.328290</td>\n",
       "      <td>98032.000000</td>\n",
       "    </tr>\n",
       "    <tr>\n",
       "      <th>50%</th>\n",
       "      <td>8.670000e+05</td>\n",
       "      <td>3.000000</td>\n",
       "      <td>2.500000</td>\n",
       "      <td>1940.000000</td>\n",
       "      <td>7.560000e+03</td>\n",
       "      <td>1.500000</td>\n",
       "      <td>1580.000000</td>\n",
       "      <td>0.000000</td>\n",
       "      <td>400.000000</td>\n",
       "      <td>142.000000</td>\n",
       "      <td>1976.000000</td>\n",
       "      <td>0.000000</td>\n",
       "      <td>47.557680</td>\n",
       "      <td>-122.234070</td>\n",
       "      <td>98059.000000</td>\n",
       "    </tr>\n",
       "    <tr>\n",
       "      <th>75%</th>\n",
       "      <td>1.310000e+06</td>\n",
       "      <td>4.000000</td>\n",
       "      <td>3.000000</td>\n",
       "      <td>2640.000000</td>\n",
       "      <td>1.078000e+04</td>\n",
       "      <td>2.000000</td>\n",
       "      <td>2290.000000</td>\n",
       "      <td>960.000000</td>\n",
       "      <td>510.000000</td>\n",
       "      <td>310.000000</td>\n",
       "      <td>2001.000000</td>\n",
       "      <td>0.000000</td>\n",
       "      <td>47.672045</td>\n",
       "      <td>-122.127475</td>\n",
       "      <td>98117.000000</td>\n",
       "    </tr>\n",
       "    <tr>\n",
       "      <th>max</th>\n",
       "      <td>3.075000e+07</td>\n",
       "      <td>13.000000</td>\n",
       "      <td>10.500000</td>\n",
       "      <td>15360.000000</td>\n",
       "      <td>3.253932e+06</td>\n",
       "      <td>4.000000</td>\n",
       "      <td>12660.000000</td>\n",
       "      <td>8020.000000</td>\n",
       "      <td>3580.000000</td>\n",
       "      <td>4370.000000</td>\n",
       "      <td>2022.000000</td>\n",
       "      <td>2022.000000</td>\n",
       "      <td>48.111504</td>\n",
       "      <td>-121.163960</td>\n",
       "      <td>98663.000000</td>\n",
       "    </tr>\n",
       "  </tbody>\n",
       "</table>\n",
       "</div>"
      ],
      "text/plain": [
       "              price      bedrooms     bathrooms   sqft_living      sqft_lot  \\\n",
       "count  2.924100e+04  29241.000000  29241.000000  29241.000000  2.924100e+04   \n",
       "mean   1.112620e+06      3.435040      2.332239   2130.756643  1.719192e+04   \n",
       "std    8.953389e+05      0.978861      0.895780    977.344954  6.125879e+04   \n",
       "min    2.736000e+04      0.000000      0.000000      3.000000  4.020000e+02   \n",
       "25%    6.450000e+05      3.000000      2.000000   1440.000000  5.000000e+03   \n",
       "50%    8.670000e+05      3.000000      2.500000   1940.000000  7.560000e+03   \n",
       "75%    1.310000e+06      4.000000      3.000000   2640.000000  1.078000e+04   \n",
       "max    3.075000e+07     13.000000     10.500000  15360.000000  3.253932e+06   \n",
       "\n",
       "             floors    sqft_above  sqft_basement   sqft_garage    sqft_patio  \\\n",
       "count  29241.000000  29241.000000   29241.000000  29241.000000  29241.000000   \n",
       "mean       1.517151   1825.820423     480.763654    336.275811    216.363599   \n",
       "std        0.548585    880.729276     585.935636    286.199465    246.749571   \n",
       "min        1.000000      2.000000       0.000000      0.000000      0.000000   \n",
       "25%        1.000000   1190.000000       0.000000      0.000000     40.000000   \n",
       "50%        1.500000   1580.000000       0.000000    400.000000    142.000000   \n",
       "75%        2.000000   2290.000000     960.000000    510.000000    310.000000   \n",
       "max        4.000000  12660.000000    8020.000000   3580.000000   4370.000000   \n",
       "\n",
       "           yr_built  yr_renovated           lat          long       Zipcode  \n",
       "count  29241.000000  29241.000000  29241.000000  29241.000000  29241.000000  \n",
       "mean    1973.878458     93.764304     47.543109   -122.214209  98077.684826  \n",
       "std       31.684861    422.616958      0.147563      0.143653     55.267033  \n",
       "min     1900.000000      0.000000     45.636797   -122.666021  98001.000000  \n",
       "25%     1952.000000      0.000000     47.430065   -122.328290  98032.000000  \n",
       "50%     1976.000000      0.000000     47.557680   -122.234070  98059.000000  \n",
       "75%     2001.000000      0.000000     47.672045   -122.127475  98117.000000  \n",
       "max     2022.000000   2022.000000     48.111504   -121.163960  98663.000000  "
      ]
     },
     "execution_count": 478,
     "metadata": {},
     "output_type": "execute_result"
    }
   ],
   "source": [
    "df.describe()"
   ]
  },
  {
   "cell_type": "markdown",
   "metadata": {},
   "source": [
    "### Preprocessing"
   ]
  },
  {
   "cell_type": "markdown",
   "metadata": {},
   "source": [
    "#### Engineering a Yr_Old Column"
   ]
  },
  {
   "cell_type": "code",
   "execution_count": 480,
   "metadata": {},
   "outputs": [],
   "source": [
    "# creating a year old column\n",
    "df['yr_old'] = np.where(df['yr_renovated'] !=0,df.selldate.apply(lambda x: x.year) - df['yr_renovated'],\n",
    "                        df['selldate'].apply(lambda x: x.year) - df['yr_built'])"
   ]
  },
  {
   "cell_type": "code",
   "execution_count": 481,
   "metadata": {},
   "outputs": [],
   "source": [
    "# controlling for dates where house was sold after renovation\n",
    "df.loc[df['yr_old'] < 0, 'yr_old'] = 0"
   ]
  },
  {
   "cell_type": "code",
   "execution_count": 482,
   "metadata": {},
   "outputs": [
    {
     "data": {
      "text/plain": [
       "0      1368\n",
       "1       664\n",
       "44      504\n",
       "54      478\n",
       "16      468\n",
       "       ... \n",
       "89       32\n",
       "87       31\n",
       "119      30\n",
       "88       30\n",
       "120      27\n",
       "Name: yr_old, Length: 123, dtype: int64"
      ]
     },
     "execution_count": 482,
     "metadata": {},
     "output_type": "execute_result"
    }
   ],
   "source": [
    "df.yr_old.value_counts()"
   ]
  },
  {
   "cell_type": "markdown",
   "metadata": {},
   "source": [
    "#### Data Cleaning"
   ]
  },
  {
   "cell_type": "code",
   "execution_count": 483,
   "metadata": {},
   "outputs": [],
   "source": [
    "# remove missing values in columns\n",
    "df.dropna(subset=['heat_source', 'sewer_system'], axis=0, inplace=True)"
   ]
  },
  {
   "cell_type": "code",
   "execution_count": 484,
   "metadata": {},
   "outputs": [
    {
     "data": {
      "text/plain": [
       "selldate         0.0\n",
       "price            0.0\n",
       "bedrooms         0.0\n",
       "bathrooms        0.0\n",
       "sqft_living      0.0\n",
       "sqft_lot         0.0\n",
       "floors           0.0\n",
       "waterfront       0.0\n",
       "greenbelt        0.0\n",
       "nuisance         0.0\n",
       "view             0.0\n",
       "condition        0.0\n",
       "grade            0.0\n",
       "heat_source      0.0\n",
       "sewer_system     0.0\n",
       "sqft_above       0.0\n",
       "sqft_basement    0.0\n",
       "sqft_garage      0.0\n",
       "sqft_patio       0.0\n",
       "yr_built         0.0\n",
       "yr_renovated     0.0\n",
       "address          0.0\n",
       "lat              0.0\n",
       "long             0.0\n",
       "Zipcode          0.0\n",
       "yr_old           0.0\n",
       "dtype: float64"
      ]
     },
     "execution_count": 484,
     "metadata": {},
     "output_type": "execute_result"
    }
   ],
   "source": [
    "# identifying missing values \n",
    "df.isna().sum()/df.shape[0]"
   ]
  },
  {
   "cell_type": "markdown",
   "metadata": {},
   "source": [
    "### Target distribution"
   ]
  },
  {
   "cell_type": "markdown",
   "metadata": {},
   "source": [
    "First we will look at the `price` distribution. "
   ]
  },
  {
   "cell_type": "code",
   "execution_count": 486,
   "metadata": {},
   "outputs": [
    {
     "data": {
      "text/plain": [
       "price            1.000000\n",
       "bedrooms         0.290994\n",
       "bathrooms        0.488039\n",
       "sqft_living      0.616741\n",
       "sqft_lot         0.086790\n",
       "floors           0.199285\n",
       "sqft_above       0.546108\n",
       "sqft_basement    0.246548\n",
       "sqft_garage      0.267477\n",
       "sqft_patio       0.317623\n",
       "yr_built         0.105877\n",
       "yr_renovated     0.085506\n",
       "lat              0.296212\n",
       "long             0.081940\n",
       "Zipcode         -0.105275\n",
       "yr_old          -0.137946\n",
       "Name: price, dtype: float64"
      ]
     },
     "execution_count": 486,
     "metadata": {},
     "output_type": "execute_result"
    }
   ],
   "source": [
    "df.corr()['price']"
   ]
  },
  {
   "cell_type": "code",
   "execution_count": 487,
   "metadata": {},
   "outputs": [
    {
     "data": {
      "text/plain": [
       "<AxesSubplot:xlabel='price', ylabel='Density'>"
      ]
     },
     "execution_count": 487,
     "metadata": {},
     "output_type": "execute_result"
    },
    {
     "data": {
      "image/png": "[encoded data removed]",
      "text/plain": [
       "<Figure size 432x288 with 1 Axes>"
      ]
     },
     "metadata": {
      "needs_background": "light"
     },
     "output_type": "display_data"
    }
   ],
   "source": [
    "sns.distplot(df['price'])"
   ]
  },
  {
   "cell_type": "markdown",
   "metadata": {},
   "source": [
    "## Modeling"
   ]
  },
  {
   "cell_type": "code",
   "execution_count": 404,
   "metadata": {},
   "outputs": [],
   "source": [
    "# Creating categorical variables\n",
    "cats = df[['waterfront','greenbelt', 'nuisance', 'view', 'condition', 'heat_source', 'sewer_system', 'grade']]\n",
    "cats1 = df[['selldate','price','waterfront','greenbelt', 'nuisance', 'view', 'condition', 'heat_source', 'sewer_system', 'address', 'Zipcode', 'grade']]"
   ]
  },
  {
   "cell_type": "markdown",
   "metadata": {
    "index": 35
   },
   "source": [
    "### Baseline Model"
   ]
  },
  {
   "cell_type": "code",
   "execution_count": 293,
   "metadata": {},
   "outputs": [],
   "source": [
    "pred_cols = [x for x in df.columns if x not in cats1]"
   ]
  },
  {
   "cell_type": "code",
   "execution_count": 294,
   "metadata": {},
   "outputs": [
    {
     "data": {
      "text/plain": [
       "['bedrooms',\n",
       " 'bathrooms',\n",
       " 'sqft_living',\n",
       " 'sqft_lot',\n",
       " 'floors',\n",
       " 'sqft_above',\n",
       " 'sqft_basement',\n",
       " 'sqft_garage',\n",
       " 'sqft_patio',\n",
       " 'yr_built',\n",
       " 'yr_renovated',\n",
       " 'lat',\n",
       " 'long',\n",
       " 'yr_old']"
      ]
     },
     "execution_count": 294,
     "metadata": {},
     "output_type": "execute_result"
    }
   ],
   "source": [
    "pred_cols"
   ]
  },
  {
   "cell_type": "code",
   "execution_count": 295,
   "metadata": {},
   "outputs": [],
   "source": [
    "# create baseline model\n",
    "preds = df[pred_cols]\n",
    "target = df['price']"
   ]
  },
  {
   "cell_type": "code",
   "execution_count": 296,
   "metadata": {},
   "outputs": [],
   "source": [
    "y = target\n",
    "X = preds\n",
    "model = sm.OLS(y, sm.add_constant(X))\n",
    "results = model.fit()"
   ]
  },
  {
   "cell_type": "code",
   "execution_count": 297,
   "metadata": {},
   "outputs": [
    {
     "data": {
      "text/html": [
       "<table class=\"simpletable\">\n",
       "<caption>OLS Regression Results</caption>\n",
       "<tr>\n",
       "  <th>Dep. Variable:</th>          <td>price</td>      <th>  R-squared:         </th>  <td>   0.484</td>  \n",
       "</tr>\n",
       "<tr>\n",
       "  <th>Model:</th>                   <td>OLS</td>       <th>  Adj. R-squared:    </th>  <td>   0.484</td>  \n",
       "</tr>\n",
       "<tr>\n",
       "  <th>Method:</th>             <td>Least Squares</td>  <th>  F-statistic:       </th>  <td>   1954.</td>  \n",
       "</tr>\n",
       "<tr>\n",
       "  <th>Date:</th>             <td>Tue, 27 Sep 2022</td> <th>  Prob (F-statistic):</th>   <td>  0.00</td>   \n",
       "</tr>\n",
       "<tr>\n",
       "  <th>Time:</th>                 <td>21:58:55</td>     <th>  Log-Likelihood:    </th> <td>-4.3197e+05</td>\n",
       "</tr>\n",
       "<tr>\n",
       "  <th>No. Observations:</th>      <td> 29200</td>      <th>  AIC:               </th>  <td>8.640e+05</td> \n",
       "</tr>\n",
       "<tr>\n",
       "  <th>Df Residuals:</th>          <td> 29185</td>      <th>  BIC:               </th>  <td>8.641e+05</td> \n",
       "</tr>\n",
       "<tr>\n",
       "  <th>Df Model:</th>              <td>    14</td>      <th>                     </th>      <td> </td>     \n",
       "</tr>\n",
       "<tr>\n",
       "  <th>Covariance Type:</th>      <td>nonrobust</td>    <th>                     </th>      <td> </td>     \n",
       "</tr>\n",
       "</table>\n",
       "<table class=\"simpletable\">\n",
       "<tr>\n",
       "        <td></td>           <th>coef</th>     <th>std err</th>      <th>t</th>      <th>P>|t|</th>  <th>[0.025</th>    <th>0.975]</th>  \n",
       "</tr>\n",
       "<tr>\n",
       "  <th>const</th>         <td>-9.313e+07</td> <td> 4.25e+06</td> <td>  -21.912</td> <td> 0.000</td> <td>-1.01e+08</td> <td>-8.48e+07</td>\n",
       "</tr>\n",
       "<tr>\n",
       "  <th>bedrooms</th>      <td>-1.394e+05</td> <td> 5195.248</td> <td>  -26.833</td> <td> 0.000</td> <td> -1.5e+05</td> <td>-1.29e+05</td>\n",
       "</tr>\n",
       "<tr>\n",
       "  <th>bathrooms</th>     <td> 1.179e+05</td> <td> 7701.917</td> <td>   15.305</td> <td> 0.000</td> <td> 1.03e+05</td> <td> 1.33e+05</td>\n",
       "</tr>\n",
       "<tr>\n",
       "  <th>sqft_living</th>   <td>  327.7250</td> <td>   17.255</td> <td>   18.994</td> <td> 0.000</td> <td>  293.905</td> <td>  361.545</td>\n",
       "</tr>\n",
       "<tr>\n",
       "  <th>sqft_lot</th>      <td>    0.1948</td> <td>    0.064</td> <td>    3.025</td> <td> 0.002</td> <td>    0.069</td> <td>    0.321</td>\n",
       "</tr>\n",
       "<tr>\n",
       "  <th>floors</th>        <td>-9.492e+04</td> <td> 9788.544</td> <td>   -9.697</td> <td> 0.000</td> <td>-1.14e+05</td> <td>-7.57e+04</td>\n",
       "</tr>\n",
       "<tr>\n",
       "  <th>sqft_above</th>    <td>  295.6770</td> <td>   17.616</td> <td>   16.784</td> <td> 0.000</td> <td>  261.148</td> <td>  330.206</td>\n",
       "</tr>\n",
       "<tr>\n",
       "  <th>sqft_basement</th> <td>   82.4744</td> <td>   13.093</td> <td>    6.299</td> <td> 0.000</td> <td>   56.811</td> <td>  108.138</td>\n",
       "</tr>\n",
       "<tr>\n",
       "  <th>sqft_garage</th>   <td>  -35.3134</td> <td>   18.315</td> <td>   -1.928</td> <td> 0.054</td> <td>  -71.211</td> <td>    0.584</td>\n",
       "</tr>\n",
       "<tr>\n",
       "  <th>sqft_patio</th>    <td>  262.0396</td> <td>   17.058</td> <td>   15.362</td> <td> 0.000</td> <td>  228.606</td> <td>  295.474</td>\n",
       "</tr>\n",
       "<tr>\n",
       "  <th>yr_built</th>      <td> 2725.5026</td> <td>  727.737</td> <td>    3.745</td> <td> 0.000</td> <td> 1299.104</td> <td> 4151.901</td>\n",
       "</tr>\n",
       "<tr>\n",
       "  <th>yr_renovated</th>  <td>  203.0562</td> <td>   23.012</td> <td>    8.824</td> <td> 0.000</td> <td>  157.952</td> <td>  248.161</td>\n",
       "</tr>\n",
       "<tr>\n",
       "  <th>lat</th>           <td> 1.535e+06</td> <td> 2.69e+04</td> <td>   57.063</td> <td> 0.000</td> <td> 1.48e+06</td> <td> 1.59e+06</td>\n",
       "</tr>\n",
       "<tr>\n",
       "  <th>long</th>          <td>-1.199e+05</td> <td> 3.11e+04</td> <td>   -3.859</td> <td> 0.000</td> <td>-1.81e+05</td> <td> -5.9e+04</td>\n",
       "</tr>\n",
       "<tr>\n",
       "  <th>yr_old</th>        <td> 4842.8398</td> <td>  731.818</td> <td>    6.618</td> <td> 0.000</td> <td> 3408.443</td> <td> 6277.236</td>\n",
       "</tr>\n",
       "</table>\n",
       "<table class=\"simpletable\">\n",
       "<tr>\n",
       "  <th>Omnibus:</th>       <td>45281.582</td> <th>  Durbin-Watson:     </th>   <td>   1.924</td>  \n",
       "</tr>\n",
       "<tr>\n",
       "  <th>Prob(Omnibus):</th>  <td> 0.000</td>   <th>  Jarque-Bera (JB):  </th> <td>77556338.212</td>\n",
       "</tr>\n",
       "<tr>\n",
       "  <th>Skew:</th>           <td> 9.388</td>   <th>  Prob(JB):          </th>   <td>    0.00</td>  \n",
       "</tr>\n",
       "<tr>\n",
       "  <th>Kurtosis:</th>       <td>254.779</td>  <th>  Cond. No.          </th>   <td>7.13e+07</td>  \n",
       "</tr>\n",
       "</table><br/><br/>Notes:<br/>[1] Standard Errors assume that the covariance matrix of the errors is correctly specified.<br/>[2] The condition number is large, 7.13e+07. This might indicate that there are<br/>strong multicollinearity or other numerical problems."
      ],
      "text/plain": [
       "<class 'statsmodels.iolib.summary.Summary'>\n",
       "\"\"\"\n",
       "                            OLS Regression Results                            \n",
       "==============================================================================\n",
       "Dep. Variable:                  price   R-squared:                       0.484\n",
       "Model:                            OLS   Adj. R-squared:                  0.484\n",
       "Method:                 Least Squares   F-statistic:                     1954.\n",
       "Date:                Tue, 27 Sep 2022   Prob (F-statistic):               0.00\n",
       "Time:                        21:58:55   Log-Likelihood:            -4.3197e+05\n",
       "No. Observations:               29200   AIC:                         8.640e+05\n",
       "Df Residuals:                   29185   BIC:                         8.641e+05\n",
       "Df Model:                          14                                         \n",
       "Covariance Type:            nonrobust                                         \n",
       "=================================================================================\n",
       "                    coef    std err          t      P>|t|      [0.025      0.975]\n",
       "---------------------------------------------------------------------------------\n",
       "const         -9.313e+07   4.25e+06    -21.912      0.000   -1.01e+08   -8.48e+07\n",
       "bedrooms      -1.394e+05   5195.248    -26.833      0.000    -1.5e+05   -1.29e+05\n",
       "bathrooms      1.179e+05   7701.917     15.305      0.000    1.03e+05    1.33e+05\n",
       "sqft_living     327.7250     17.255     18.994      0.000     293.905     361.545\n",
       "sqft_lot          0.1948      0.064      3.025      0.002       0.069       0.321\n",
       "floors        -9.492e+04   9788.544     -9.697      0.000   -1.14e+05   -7.57e+04\n",
       "sqft_above      295.6770     17.616     16.784      0.000     261.148     330.206\n",
       "sqft_basement    82.4744     13.093      6.299      0.000      56.811     108.138\n",
       "sqft_garage     -35.3134     18.315     -1.928      0.054     -71.211       0.584\n",
       "sqft_patio      262.0396     17.058     15.362      0.000     228.606     295.474\n",
       "yr_built       2725.5026    727.737      3.745      0.000    1299.104    4151.901\n",
       "yr_renovated    203.0562     23.012      8.824      0.000     157.952     248.161\n",
       "lat            1.535e+06   2.69e+04     57.063      0.000    1.48e+06    1.59e+06\n",
       "long          -1.199e+05   3.11e+04     -3.859      0.000   -1.81e+05    -5.9e+04\n",
       "yr_old         4842.8398    731.818      6.618      0.000    3408.443    6277.236\n",
       "==============================================================================\n",
       "Omnibus:                    45281.582   Durbin-Watson:                   1.924\n",
       "Prob(Omnibus):                  0.000   Jarque-Bera (JB):         77556338.212\n",
       "Skew:                           9.388   Prob(JB):                         0.00\n",
       "Kurtosis:                     254.779   Cond. No.                     7.13e+07\n",
       "==============================================================================\n",
       "\n",
       "Notes:\n",
       "[1] Standard Errors assume that the covariance matrix of the errors is correctly specified.\n",
       "[2] The condition number is large, 7.13e+07. This might indicate that there are\n",
       "strong multicollinearity or other numerical problems.\n",
       "\"\"\""
      ]
     },
     "execution_count": 297,
     "metadata": {},
     "output_type": "execute_result"
    }
   ],
   "source": [
    "results.summary()"
   ]
  },
  {
   "cell_type": "code",
   "execution_count": 298,
   "metadata": {
    "scrolled": true
   },
   "outputs": [
    {
     "data": {
      "text/plain": [
       "338894.08774805674"
      ]
     },
     "execution_count": 298,
     "metadata": {},
     "output_type": "execute_result"
    }
   ],
   "source": [
    "baseline_mae = mean_absolute_error(y, results.predict(sm.add_constant(X)))\n",
    "baseline_mae"
   ]
  },
  {
   "cell_type": "markdown",
   "metadata": {},
   "source": [
    "This baseline model is limited to both discrete and continuous numeric predictors.  \n",
    "\n",
    "Based on the Mean Absolute Error ('MAE'), overall this baseline model is off by about an average of $338,488.68 for any given prediction. This calculation is the mean absolute (regardless of whether it is positve or negative) distance of all errors.   \n",
    "\n",
    "The intercept is extremely negative, at minus 9 to the 7th power.  \n",
    "\n",
    "The coefficient for `sqft_living` tells us that for each increase of square foot living space, we see an associated increase in saleprice of about $327.83 dollars.  "
   ]
  },
  {
   "cell_type": "markdown",
   "metadata": {},
   "source": [
    "`sqft_living` is the most highly correlated feature in the baseline numeric model.  "
   ]
  },
  {
   "cell_type": "markdown",
   "metadata": {},
   "source": [
    "Price is the singular dependent variable in our model.  "
   ]
  },
  {
   "cell_type": "code",
   "execution_count": null,
   "metadata": {},
   "outputs": [],
   "source": []
  },
  {
   "cell_type": "code",
   "execution_count": 488,
   "metadata": {},
   "outputs": [
    {
     "data": {
      "text/plain": [
       "<AxesSubplot:xlabel='log_SalePrice', ylabel='Density'>"
      ]
     },
     "execution_count": 488,
     "metadata": {},
     "output_type": "execute_result"
    },
    {
     "data": {
      "image/png": "[encoded data removed]",
      "text/plain": [
       "<Figure size 1152x360 with 1 Axes>"
      ]
     },
     "metadata": {
      "needs_background": "light"
     },
     "output_type": "display_data"
    }
   ],
   "source": [
    "y_log = np.log(df['price'])\n",
    "y_log.name = \"log_SalePrice\"\n",
    "y_log\n",
    "\n",
    "plt.figure(figsize=(16,5))\n",
    "plt.subplot(1,2,1)\n",
    "sns.distplot(y_log)"
   ]
  },
  {
   "cell_type": "markdown",
   "metadata": {},
   "source": [
    "## Bringing in geographic boundaries"
   ]
  },
  {
   "cell_type": "code",
   "execution_count": 299,
   "metadata": {},
   "outputs": [],
   "source": [
    "# scaler = StandardScaler()"
   ]
  },
  {
   "cell_type": "code",
   "execution_count": 300,
   "metadata": {},
   "outputs": [],
   "source": [
    "# X_scaled = pd.DataFrame(scaler.fit_transform(X), columns=X.columns)\n",
    "# X_scaled.head()"
   ]
  },
  {
   "cell_type": "code",
   "execution_count": 301,
   "metadata": {},
   "outputs": [],
   "source": [
    "# model_scaled = sm.OLS(y.values, sm.add_constant(X_scaled)).fit()\n",
    "# model_scaled.summary()\n",
    "\n",
    "# X = sm.add_constant(X.values)\n",
    "# result = sm.OLS(Y.values, X).fit()"
   ]
  },
  {
   "cell_type": "code",
   "execution_count": 302,
   "metadata": {},
   "outputs": [
    {
     "name": "stderr",
     "output_type": "stream",
     "text": [
      "/Users/chuck/opt/anaconda3/lib/python3.9/site-packages/seaborn/distributions.py:2619: FutureWarning: `distplot` is a deprecated function and will be removed in a future version. Please adapt your code to use either `displot` (a figure-level function with similar flexibility) or `histplot` (an axes-level function for histograms).\n",
      "  warnings.warn(msg, FutureWarning)\n"
     ]
    },
    {
     "data": {
      "text/plain": [
       "<AxesSubplot:xlabel='price', ylabel='Density'>"
      ]
     },
     "execution_count": 302,
     "metadata": {},
     "output_type": "execute_result"
    },
    {
     "data": {
      "image/png": "[encoded data removed]",
      "text/plain": [
       "<Figure size 432x288 with 1 Axes>"
      ]
     },
     "metadata": {
      "needs_background": "light"
     },
     "output_type": "display_data"
    }
   ],
   "source": [
    "sns.distplot(df['price'])"
   ]
  },
  {
   "cell_type": "code",
   "execution_count": 409,
   "metadata": {},
   "outputs": [
    {
     "name": "stdout",
     "output_type": "stream",
     "text": [
      "                            OLS Regression Results                            \n",
      "==============================================================================\n",
      "Dep. Variable:          log_SalePrice   R-squared:                       0.029\n",
      "Model:                            OLS   Adj. R-squared:                  0.029\n",
      "Method:                 Least Squares   F-statistic:                     857.8\n",
      "Date:                Wed, 28 Sep 2022   Prob (F-statistic):          7.07e-186\n",
      "Time:                        00:28:06   Log-Likelihood:                -25373.\n",
      "No. Observations:               29200   AIC:                         5.075e+04\n",
      "Df Residuals:                   29198   BIC:                         5.077e+04\n",
      "Df Model:                           1                                         \n",
      "Covariance Type:            nonrobust                                         \n",
      "================================================================================\n",
      "                   coef    std err          t      P>|t|      [0.025      0.975]\n",
      "--------------------------------------------------------------------------------\n",
      "const           12.8319      0.031    412.179      0.000      12.771      12.893\n",
      "log_sqft_lot     0.1009      0.003     29.289      0.000       0.094       0.108\n",
      "==============================================================================\n",
      "Omnibus:                     1697.002   Durbin-Watson:                   1.997\n",
      "Prob(Omnibus):                  0.000   Jarque-Bera (JB):             7287.578\n",
      "Skew:                          -0.061   Prob(JB):                         0.00\n",
      "Kurtosis:                       5.444   Cond. No.                         84.3\n",
      "==============================================================================\n",
      "\n",
      "Notes:\n",
      "[1] Standard Errors assume that the covariance matrix of the errors is correctly specified.\n"
     ]
    }
   ],
   "source": [
    "y_log_model = sm.OLS(y_log, sm.add_constant(x_log))\n",
    "y_log_results = y_log_model.fit()\n",
    "\n",
    "print(y_log_results.summary())"
   ]
  },
  {
   "cell_type": "code",
   "execution_count": 407,
   "metadata": {},
   "outputs": [
    {
     "data": {
      "text/plain": [
       "<AxesSubplot:xlabel='log_sqft_lot', ylabel='Density'>"
      ]
     },
     "execution_count": 407,
     "metadata": {},
     "output_type": "execute_result"
    },
    {
     "data": {
      "image/png": "[encoded data removed]",
      "text/plain": [
       "<Figure size 1152x360 with 1 Axes>"
      ]
     },
     "metadata": {
      "needs_background": "light"
     },
     "output_type": "display_data"
    }
   ],
   "source": [
    "x_log = np.log(df['sqft_lot'])\n",
    "x_log.name = \"log_sqft_lot\"\n",
    "x_log\n",
    "\n",
    "plt.figure(figsize=(16,5))\n",
    "plt.subplot(1,2,1)\n",
    "sns.distplot(x_log)"
   ]
  },
  {
   "cell_type": "code",
   "execution_count": 303,
   "metadata": {},
   "outputs": [
    {
     "name": "stdout",
     "output_type": "stream",
     "text": [
      "<class 'pandas.core.frame.DataFrame'>\n",
      "Int64Index: 29200 entries, 0 to 30154\n",
      "Data columns (total 26 columns):\n",
      " #   Column         Non-Null Count  Dtype         \n",
      "---  ------         --------------  -----         \n",
      " 0   selldate       29200 non-null  datetime64[ns]\n",
      " 1   price          29200 non-null  float64       \n",
      " 2   bedrooms       29200 non-null  int64         \n",
      " 3   bathrooms      29200 non-null  float64       \n",
      " 4   sqft_living    29200 non-null  int64         \n",
      " 5   sqft_lot       29200 non-null  int64         \n",
      " 6   floors         29200 non-null  float64       \n",
      " 7   waterfront     29200 non-null  object        \n",
      " 8   greenbelt      29200 non-null  object        \n",
      " 9   nuisance       29200 non-null  object        \n",
      " 10  view           29200 non-null  object        \n",
      " 11  condition      29200 non-null  object        \n",
      " 12  grade          29200 non-null  object        \n",
      " 13  heat_source    29200 non-null  object        \n",
      " 14  sewer_system   29200 non-null  object        \n",
      " 15  sqft_above     29200 non-null  int64         \n",
      " 16  sqft_basement  29200 non-null  int64         \n",
      " 17  sqft_garage    29200 non-null  int64         \n",
      " 18  sqft_patio     29200 non-null  int64         \n",
      " 19  yr_built       29200 non-null  int64         \n",
      " 20  yr_renovated   29200 non-null  int64         \n",
      " 21  address        29200 non-null  object        \n",
      " 22  lat            29200 non-null  float64       \n",
      " 23  long           29200 non-null  float64       \n",
      " 24  Zipcode        29200 non-null  int64         \n",
      " 25  yr_old         29200 non-null  int64         \n",
      "dtypes: datetime64[ns](1), float64(5), int64(11), object(9)\n",
      "memory usage: 6.0+ MB\n"
     ]
    }
   ],
   "source": [
    "df.info()\n"
   ]
  },
  {
   "cell_type": "markdown",
   "metadata": {},
   "source": [
    "# Model # 2\n",
    "\n",
    "## Merge on zipcode to include neighborhood/population\n",
    "# section_2"
   ]
  },
  {
   "cell_type": "code",
   "execution_count": 304,
   "metadata": {
    "scrolled": true
   },
   "outputs": [
    {
     "data": {
      "text/html": [
       "<div>\n",
       "<style scoped>\n",
       "    .dataframe tbody tr th:only-of-type {\n",
       "        vertical-align: middle;\n",
       "    }\n",
       "\n",
       "    .dataframe tbody tr th {\n",
       "        vertical-align: top;\n",
       "    }\n",
       "\n",
       "    .dataframe thead th {\n",
       "        text-align: right;\n",
       "    }\n",
       "</style>\n",
       "<table border=\"1\" class=\"dataframe\">\n",
       "  <thead>\n",
       "    <tr style=\"text-align: right;\">\n",
       "      <th></th>\n",
       "      <th>X</th>\n",
       "      <th>Y</th>\n",
       "      <th>OBJECTID</th>\n",
       "      <th>FEATURE_ID</th>\n",
       "      <th>ESITE</th>\n",
       "      <th>CODE</th>\n",
       "      <th>NAME</th>\n",
       "      <th>ABB_NAME</th>\n",
       "      <th>ADDRESS</th>\n",
       "      <th>ZIPCODE</th>\n",
       "    </tr>\n",
       "  </thead>\n",
       "  <tbody>\n",
       "    <tr>\n",
       "      <th>0</th>\n",
       "      <td>-122.067101</td>\n",
       "      <td>47.465386</td>\n",
       "      <td>1</td>\n",
       "      <td>10000032</td>\n",
       "      <td>5733.0</td>\n",
       "      <td>66</td>\n",
       "      <td>Station 79</td>\n",
       "      <td>79</td>\n",
       "      <td>20505 SE 152nd St</td>\n",
       "      <td>98059.0</td>\n",
       "    </tr>\n",
       "    <tr>\n",
       "      <th>1</th>\n",
       "      <td>-122.313910</td>\n",
       "      <td>47.552302</td>\n",
       "      <td>2</td>\n",
       "      <td>905</td>\n",
       "      <td>490884.0</td>\n",
       "      <td>664</td>\n",
       "      <td>Cleveland STEM High School</td>\n",
       "      <td>Cleveland</td>\n",
       "      <td>5511 15th Ave S</td>\n",
       "      <td>98108.0</td>\n",
       "    </tr>\n",
       "    <tr>\n",
       "      <th>2</th>\n",
       "      <td>-122.195782</td>\n",
       "      <td>47.657500</td>\n",
       "      <td>3</td>\n",
       "      <td>6600168</td>\n",
       "      <td>35858.0</td>\n",
       "      <td>663</td>\n",
       "      <td>Northwest University</td>\n",
       "      <td>NW University</td>\n",
       "      <td>5520 108th Ave NE</td>\n",
       "      <td>98033.0</td>\n",
       "    </tr>\n",
       "    <tr>\n",
       "      <th>3</th>\n",
       "      <td>-122.264083</td>\n",
       "      <td>47.319432</td>\n",
       "      <td>4</td>\n",
       "      <td>7</td>\n",
       "      <td>33.0</td>\n",
       "      <td>660</td>\n",
       "      <td>Evergreen Heights Elementary School</td>\n",
       "      <td>Evergreen Heights</td>\n",
       "      <td>5602 S 316th St</td>\n",
       "      <td>98001.0</td>\n",
       "    </tr>\n",
       "    <tr>\n",
       "      <th>4</th>\n",
       "      <td>-122.261359</td>\n",
       "      <td>47.333845</td>\n",
       "      <td>5</td>\n",
       "      <td>6600283</td>\n",
       "      <td>692199.0</td>\n",
       "      <td>660</td>\n",
       "      <td>Meredith Hill Elementary School</td>\n",
       "      <td>Hill</td>\n",
       "      <td>5830 S 300th St</td>\n",
       "      <td>98001.0</td>\n",
       "    </tr>\n",
       "    <tr>\n",
       "      <th>...</th>\n",
       "      <td>...</td>\n",
       "      <td>...</td>\n",
       "      <td>...</td>\n",
       "      <td>...</td>\n",
       "      <td>...</td>\n",
       "      <td>...</td>\n",
       "      <td>...</td>\n",
       "      <td>...</td>\n",
       "      <td>...</td>\n",
       "      <td>...</td>\n",
       "    </tr>\n",
       "    <tr>\n",
       "      <th>5632</th>\n",
       "      <td>-122.234595</td>\n",
       "      <td>47.381758</td>\n",
       "      <td>5633</td>\n",
       "      <td>10001602</td>\n",
       "      <td>898062.0</td>\n",
       "      <td>695</td>\n",
       "      <td>Public Halal Market</td>\n",
       "      <td>Public Halal Market</td>\n",
       "      <td>225 W MEEKER ST</td>\n",
       "      <td>98032.0</td>\n",
       "    </tr>\n",
       "    <tr>\n",
       "      <th>5633</th>\n",
       "      <td>-122.296801</td>\n",
       "      <td>47.415187</td>\n",
       "      <td>5634</td>\n",
       "      <td>10001603</td>\n",
       "      <td>391412.0</td>\n",
       "      <td>695</td>\n",
       "      <td>SeaTac International Market&amp; Deli</td>\n",
       "      <td>SeaTac International Market&amp; Deli</td>\n",
       "      <td>20804 INTERNATIONAL BLVD</td>\n",
       "      <td>98198.0</td>\n",
       "    </tr>\n",
       "    <tr>\n",
       "      <th>5634</th>\n",
       "      <td>-122.297787</td>\n",
       "      <td>47.407385</td>\n",
       "      <td>5635</td>\n",
       "      <td>10001604</td>\n",
       "      <td>758056.0</td>\n",
       "      <td>695</td>\n",
       "      <td>Madina Halal Market</td>\n",
       "      <td>Madina Halal Market</td>\n",
       "      <td>21630 PACIFIC HWY S</td>\n",
       "      <td>98198.0</td>\n",
       "    </tr>\n",
       "    <tr>\n",
       "      <th>5635</th>\n",
       "      <td>-122.177136</td>\n",
       "      <td>47.706192</td>\n",
       "      <td>5636</td>\n",
       "      <td>10001605</td>\n",
       "      <td>36305.0</td>\n",
       "      <td>695</td>\n",
       "      <td>Sahand</td>\n",
       "      <td>Sahand</td>\n",
       "      <td>12047 124TH AVE NE</td>\n",
       "      <td>98034.0</td>\n",
       "    </tr>\n",
       "    <tr>\n",
       "      <th>5636</th>\n",
       "      <td>-122.173357</td>\n",
       "      <td>47.323217</td>\n",
       "      <td>5637</td>\n",
       "      <td>10001606</td>\n",
       "      <td>981570.0</td>\n",
       "      <td>695</td>\n",
       "      <td>DHOTSONS</td>\n",
       "      <td>DHOTSONS</td>\n",
       "      <td>12722 SE 312TH ST</td>\n",
       "      <td>98092.0</td>\n",
       "    </tr>\n",
       "  </tbody>\n",
       "</table>\n",
       "<p>5637 rows × 10 columns</p>\n",
       "</div>"
      ],
      "text/plain": [
       "               X          Y  OBJECTID  FEATURE_ID     ESITE  CODE  \\\n",
       "0    -122.067101  47.465386         1    10000032    5733.0    66   \n",
       "1    -122.313910  47.552302         2         905  490884.0   664   \n",
       "2    -122.195782  47.657500         3     6600168   35858.0   663   \n",
       "3    -122.264083  47.319432         4           7      33.0   660   \n",
       "4    -122.261359  47.333845         5     6600283  692199.0   660   \n",
       "...          ...        ...       ...         ...       ...   ...   \n",
       "5632 -122.234595  47.381758      5633    10001602  898062.0   695   \n",
       "5633 -122.296801  47.415187      5634    10001603  391412.0   695   \n",
       "5634 -122.297787  47.407385      5635    10001604  758056.0   695   \n",
       "5635 -122.177136  47.706192      5636    10001605   36305.0   695   \n",
       "5636 -122.173357  47.323217      5637    10001606  981570.0   695   \n",
       "\n",
       "                                     NAME                           ABB_NAME  \\\n",
       "0                              Station 79                                 79   \n",
       "1              Cleveland STEM High School                          Cleveland   \n",
       "2                    Northwest University                      NW University   \n",
       "3     Evergreen Heights Elementary School                  Evergreen Heights   \n",
       "4         Meredith Hill Elementary School                               Hill   \n",
       "...                                   ...                                ...   \n",
       "5632                  Public Halal Market                Public Halal Market   \n",
       "5633    SeaTac International Market& Deli  SeaTac International Market& Deli   \n",
       "5634                  Madina Halal Market                Madina Halal Market   \n",
       "5635                               Sahand                             Sahand   \n",
       "5636                             DHOTSONS                           DHOTSONS   \n",
       "\n",
       "                       ADDRESS  ZIPCODE  \n",
       "0            20505 SE 152nd St  98059.0  \n",
       "1              5511 15th Ave S  98108.0  \n",
       "2            5520 108th Ave NE  98033.0  \n",
       "3              5602 S 316th St  98001.0  \n",
       "4            5830 S 300th St    98001.0  \n",
       "...                        ...      ...  \n",
       "5632           225 W MEEKER ST  98032.0  \n",
       "5633  20804 INTERNATIONAL BLVD  98198.0  \n",
       "5634       21630 PACIFIC HWY S  98198.0  \n",
       "5635        12047 124TH AVE NE  98034.0  \n",
       "5636         12722 SE 312TH ST  98092.0  \n",
       "\n",
       "[5637 rows x 10 columns]"
      ]
     },
     "execution_count": 304,
     "metadata": {},
     "output_type": "execute_result"
    }
   ],
   "source": [
    "# reading in the King County dataset to Pandas\n",
    "df_dem = pd.read_csv('data/Points_of_Interest.csv')\n",
    "df_dem"
   ]
  },
  {
   "cell_type": "code",
   "execution_count": 305,
   "metadata": {},
   "outputs": [
    {
     "data": {
      "text/plain": [
       "50"
      ]
     },
     "execution_count": 305,
     "metadata": {},
     "output_type": "execute_result"
    }
   ],
   "source": [
    "df_dem['CODE'].nunique()"
   ]
  },
  {
   "cell_type": "code",
   "execution_count": 306,
   "metadata": {},
   "outputs": [],
   "source": [
    "df_dem.drop(labels=['OBJECTID','FEATURE_ID', 'ESITE', 'ABB_NAME', 'ADDRESS'], axis=1, inplace=True)"
   ]
  },
  {
   "cell_type": "code",
   "execution_count": 307,
   "metadata": {},
   "outputs": [],
   "source": [
    "import geopy.distance"
   ]
  },
  {
   "cell_type": "code",
   "execution_count": 308,
   "metadata": {},
   "outputs": [
    {
     "data": {
      "text/plain": [
       "600    0.259713\n",
       "800    0.188398\n",
       "695    0.073443\n",
       "660    0.053929\n",
       "60     0.029448\n",
       "66     0.028739\n",
       "330    0.022530\n",
       "664    0.021111\n",
       "530    0.020933\n",
       "570    0.020401\n",
       "902    0.017563\n",
       "64     0.017208\n",
       "360    0.015256\n",
       "661    0.014724\n",
       "390    0.014369\n",
       "690    0.014015\n",
       "901    0.013482\n",
       "662    0.012418\n",
       "510    0.011886\n",
       "65     0.011354\n",
       "120    0.011176\n",
       "630    0.008870\n",
       "580    0.008870\n",
       "90     0.008160\n",
       "903    0.007273\n",
       "300    0.006564\n",
       "63     0.006564\n",
       "180    0.006564\n",
       "904    0.006209\n",
       "420    0.005854\n",
       "62     0.005677\n",
       "665    0.005499\n",
       "663    0.005322\n",
       "240    0.004967\n",
       "480    0.004790\n",
       "30     0.004790\n",
       "67     0.004612\n",
       "150    0.003725\n",
       "999    0.003193\n",
       "666    0.003016\n",
       "61     0.002838\n",
       "210    0.002484\n",
       "500    0.002484\n",
       "340    0.002306\n",
       "68     0.002129\n",
       "720    0.001951\n",
       "520    0.001064\n",
       "581    0.001064\n",
       "450    0.000887\n",
       "270    0.000177\n",
       "Name: CODE, dtype: float64"
      ]
     },
     "execution_count": 308,
     "metadata": {},
     "output_type": "execute_result"
    }
   ],
   "source": [
    "df_dem.CODE.value_counts(normalize = True)"
   ]
  },
  {
   "cell_type": "code",
   "execution_count": 309,
   "metadata": {},
   "outputs": [],
   "source": [
    "rename_zip = {'ZIPCODE':'Zipcode'}\n",
    "df_dem.rename(columns=rename_zip, inplace=True)"
   ]
  },
  {
   "cell_type": "code",
   "execution_count": 310,
   "metadata": {},
   "outputs": [],
   "source": [
    "rename_long = {'X': 'long'}\n",
    "rename_lat = {'Y': 'lat'}\n"
   ]
  },
  {
   "cell_type": "code",
   "execution_count": 311,
   "metadata": {},
   "outputs": [],
   "source": [
    "df_dem.rename(columns=rename_long, inplace=True)\n",
    "df_dem.rename(columns=rename_lat, inplace=True)"
   ]
  },
  {
   "cell_type": "code",
   "execution_count": 312,
   "metadata": {},
   "outputs": [
    {
     "name": "stdout",
     "output_type": "stream",
     "text": [
      "<class 'pandas.core.frame.DataFrame'>\n",
      "RangeIndex: 5637 entries, 0 to 5636\n",
      "Data columns (total 5 columns):\n",
      " #   Column   Non-Null Count  Dtype  \n",
      "---  ------   --------------  -----  \n",
      " 0   long     5637 non-null   float64\n",
      " 1   lat      5637 non-null   float64\n",
      " 2   CODE     5637 non-null   int64  \n",
      " 3   NAME     5637 non-null   object \n",
      " 4   Zipcode  5625 non-null   float64\n",
      "dtypes: float64(3), int64(1), object(1)\n",
      "memory usage: 220.3+ KB\n"
     ]
    }
   ],
   "source": [
    "df_dem.info()"
   ]
  },
  {
   "cell_type": "code",
   "execution_count": 313,
   "metadata": {},
   "outputs": [
    {
     "data": {
      "text/plain": [
       "long       0.000000\n",
       "lat        0.000000\n",
       "CODE       0.000000\n",
       "NAME       0.000000\n",
       "Zipcode    0.002129\n",
       "dtype: float64"
      ]
     },
     "execution_count": 313,
     "metadata": {},
     "output_type": "execute_result"
    }
   ],
   "source": [
    "df_dem.isna().sum()/df_dem.shape[0]"
   ]
  },
  {
   "cell_type": "code",
   "execution_count": 314,
   "metadata": {},
   "outputs": [],
   "source": [
    "df_dem.dropna(subset=['Zipcode'], axis=0, inplace=True)"
   ]
  },
  {
   "cell_type": "code",
   "execution_count": 315,
   "metadata": {},
   "outputs": [
    {
     "name": "stdout",
     "output_type": "stream",
     "text": [
      "<class 'pandas.core.frame.DataFrame'>\n",
      "Int64Index: 5625 entries, 0 to 5636\n",
      "Data columns (total 5 columns):\n",
      " #   Column   Non-Null Count  Dtype  \n",
      "---  ------   --------------  -----  \n",
      " 0   long     5625 non-null   float64\n",
      " 1   lat      5625 non-null   float64\n",
      " 2   CODE     5625 non-null   int64  \n",
      " 3   NAME     5625 non-null   object \n",
      " 4   Zipcode  5625 non-null   float64\n",
      "dtypes: float64(3), int64(1), object(1)\n",
      "memory usage: 263.7+ KB\n"
     ]
    }
   ],
   "source": [
    "df_dem.info()"
   ]
  },
  {
   "cell_type": "code",
   "execution_count": 316,
   "metadata": {},
   "outputs": [
    {
     "data": {
      "text/plain": [
       "0       -122.19052\n",
       "1       -122.35591\n",
       "2       -122.22520\n",
       "3       -122.29020\n",
       "4       -122.07188\n",
       "           ...    \n",
       "30150   -122.32940\n",
       "30151   -122.38851\n",
       "30152   -122.29585\n",
       "30153   -122.18908\n",
       "30154   -122.32634\n",
       "Name: long, Length: 29200, dtype: float64"
      ]
     },
     "execution_count": 316,
     "metadata": {},
     "output_type": "execute_result"
    }
   ],
   "source": [
    "df.long"
   ]
  },
  {
   "cell_type": "code",
   "execution_count": 317,
   "metadata": {},
   "outputs": [
    {
     "data": {
      "text/plain": [
       "0        47.461975\n",
       "1        47.711525\n",
       "2        47.502045\n",
       "3        47.566110\n",
       "4        47.532470\n",
       "           ...    \n",
       "30150    47.664740\n",
       "30151    47.565610\n",
       "30152    47.610395\n",
       "30153    47.449490\n",
       "30154    47.435840\n",
       "Name: lat, Length: 29200, dtype: float64"
      ]
     },
     "execution_count": 317,
     "metadata": {},
     "output_type": "execute_result"
    }
   ],
   "source": [
    "df.lat"
   ]
  },
  {
   "cell_type": "code",
   "execution_count": 318,
   "metadata": {},
   "outputs": [],
   "source": [
    "house_coord = np.array(list(zip(df.lat, df.long)))"
   ]
  },
  {
   "cell_type": "code",
   "execution_count": 319,
   "metadata": {},
   "outputs": [],
   "source": [
    "# df.info()"
   ]
  },
  {
   "cell_type": "markdown",
   "metadata": {},
   "source": [
    "### Distances of homes to the Nearest Hospital"
   ]
  },
  {
   "cell_type": "code",
   "execution_count": 320,
   "metadata": {},
   "outputs": [],
   "source": [
    "business = df_dem.loc[df_dem['CODE'] == 420]"
   ]
  },
  {
   "cell_type": "code",
   "execution_count": 321,
   "metadata": {},
   "outputs": [],
   "source": [
    "df_loc = list(zip(business.lat, business.long))\n",
    "\n",
    "closest = []\n",
    "\n",
    "for houseloc in house_coord:\n",
    "    sortlist = []\n",
    "    for hosploc in df_loc:\n",
    "        sortlist.append(geopy.distance.great_circle(houseloc, hosploc).miles)\n",
    "    closest.append(min(sortlist))\n",
    "\n",
    "df['business_center'] = closest"
   ]
  },
  {
   "cell_type": "code",
   "execution_count": 322,
   "metadata": {},
   "outputs": [
    {
     "name": "stdout",
     "output_type": "stream",
     "text": [
      "<class 'pandas.core.frame.DataFrame'>\n",
      "Int64Index: 29200 entries, 0 to 30154\n",
      "Data columns (total 27 columns):\n",
      " #   Column           Non-Null Count  Dtype         \n",
      "---  ------           --------------  -----         \n",
      " 0   selldate         29200 non-null  datetime64[ns]\n",
      " 1   price            29200 non-null  float64       \n",
      " 2   bedrooms         29200 non-null  int64         \n",
      " 3   bathrooms        29200 non-null  float64       \n",
      " 4   sqft_living      29200 non-null  int64         \n",
      " 5   sqft_lot         29200 non-null  int64         \n",
      " 6   floors           29200 non-null  float64       \n",
      " 7   waterfront       29200 non-null  object        \n",
      " 8   greenbelt        29200 non-null  object        \n",
      " 9   nuisance         29200 non-null  object        \n",
      " 10  view             29200 non-null  object        \n",
      " 11  condition        29200 non-null  object        \n",
      " 12  grade            29200 non-null  object        \n",
      " 13  heat_source      29200 non-null  object        \n",
      " 14  sewer_system     29200 non-null  object        \n",
      " 15  sqft_above       29200 non-null  int64         \n",
      " 16  sqft_basement    29200 non-null  int64         \n",
      " 17  sqft_garage      29200 non-null  int64         \n",
      " 18  sqft_patio       29200 non-null  int64         \n",
      " 19  yr_built         29200 non-null  int64         \n",
      " 20  yr_renovated     29200 non-null  int64         \n",
      " 21  address          29200 non-null  object        \n",
      " 22  lat              29200 non-null  float64       \n",
      " 23  long             29200 non-null  float64       \n",
      " 24  Zipcode          29200 non-null  int64         \n",
      " 25  yr_old           29200 non-null  int64         \n",
      " 26  business_center  29200 non-null  float64       \n",
      "dtypes: datetime64[ns](1), float64(6), int64(11), object(9)\n",
      "memory usage: 6.2+ MB\n"
     ]
    }
   ],
   "source": [
    "df.info()"
   ]
  },
  {
   "cell_type": "markdown",
   "metadata": {},
   "source": [
    "#### distance to transit centers"
   ]
  },
  {
   "cell_type": "code",
   "execution_count": 323,
   "metadata": {},
   "outputs": [],
   "source": [
    "clinic = df_dem.loc[df_dem['CODE'] == 340]"
   ]
  },
  {
   "cell_type": "code",
   "execution_count": 324,
   "metadata": {},
   "outputs": [],
   "source": [
    "df_loc = list(zip(clinic.lat, clinic.long))\n",
    "\n",
    "closest = []\n",
    "\n",
    "for houseloc in house_coord:\n",
    "    sortlist = []\n",
    "    for loc in df_loc:\n",
    "        sortlist.append(geopy.distance.great_circle(houseloc, loc).miles)\n",
    "    closest.append(min(sortlist))\n",
    "\n",
    "df['clinic'] = closest"
   ]
  },
  {
   "cell_type": "markdown",
   "metadata": {},
   "source": [
    "### Distance to elementary schools"
   ]
  },
  {
   "cell_type": "code",
   "execution_count": 325,
   "metadata": {},
   "outputs": [],
   "source": [
    "elementary_schools = df_dem.loc[df_dem['CODE'] == 660]"
   ]
  },
  {
   "cell_type": "code",
   "execution_count": 326,
   "metadata": {},
   "outputs": [],
   "source": [
    "df_loc = list(zip(elementary_schools.lat, elementary_schools.long))\n",
    "\n",
    "closest = []\n",
    "\n",
    "for houseloc in house_coord:\n",
    "    sortlist = []\n",
    "    for loc in df_loc:\n",
    "        sortlist.append(geopy.distance.great_circle(houseloc, loc).miles)\n",
    "    closest.append(min(sortlist))\n",
    "\n",
    "df['closest_elem_schools'] = closest"
   ]
  },
  {
   "cell_type": "code",
   "execution_count": 329,
   "metadata": {},
   "outputs": [],
   "source": [
    "# elementary_schools = df_dem.loc[df_dem['CODE'] == 660]\n",
    "\n",
    "# df_loc = list(zip(elementary_schools.lat, elementary_schools.long))\n",
    "\n",
    "# closest = []\n",
    "\n",
    "# for houseloc in house_coord:\n",
    "#     sortlist = []\n",
    "#     for loc in df_loc:\n",
    "#         sortlist.append(geopy.distance.great_circle(houseloc, loc).miles)\n",
    "#     closest.append(min(sortlist))\n",
    "\n",
    "# df['closest_elem_schools'] = closest\n",
    "\n",
    "# # from bs4 import BeautifulSoup\n",
    "# # import requests"
   ]
  },
  {
   "cell_type": "code",
   "execution_count": 330,
   "metadata": {},
   "outputs": [],
   "source": [
    "# resp = requests.get('https://washington.hometownlocator.com/zip-codes/countyzips,scfips,53033,c,king.cfm')\n",
    "# resp.status_code"
   ]
  },
  {
   "cell_type": "code",
   "execution_count": 331,
   "metadata": {},
   "outputs": [],
   "source": [
    "# soup = BeautifulSoup(resp.content)\n",
    "# soup\n"
   ]
  },
  {
   "cell_type": "code",
   "execution_count": 332,
   "metadata": {},
   "outputs": [],
   "source": [
    "# a_tags = soup.find('div', class_='bodycontainer').find_all('a')"
   ]
  },
  {
   "cell_type": "code",
   "execution_count": 333,
   "metadata": {},
   "outputs": [],
   "source": [
    "# city_names = [a.text for a in a_tags[-57:-25]]"
   ]
  },
  {
   "cell_type": "code",
   "execution_count": 334,
   "metadata": {},
   "outputs": [],
   "source": [
    "# city_names"
   ]
  },
  {
   "cell_type": "code",
   "execution_count": 335,
   "metadata": {},
   "outputs": [],
   "source": [
    "# df['address'].iloc[0].split(\", \")[1]"
   ]
  },
  {
   "cell_type": "code",
   "execution_count": 336,
   "metadata": {},
   "outputs": [],
   "source": [
    "# df['city'] = df['address'].apply(lambda x: x.split(', ')[1])"
   ]
  },
  {
   "cell_type": "code",
   "execution_count": 337,
   "metadata": {},
   "outputs": [],
   "source": [
    "# df_no_location_outliers = df.loc[df['city'].isin(city_names)]\n",
    "# df_no_location_outliers.head()"
   ]
  },
  {
   "cell_type": "code",
   "execution_count": 1090,
   "metadata": {},
   "outputs": [],
   "source": [
    "# df.info()"
   ]
  },
  {
   "cell_type": "code",
   "execution_count": 1091,
   "metadata": {},
   "outputs": [],
   "source": [
    "# Outliers\n",
    "# df['Zipcode'].hist()"
   ]
  },
  {
   "cell_type": "code",
   "execution_count": 1092,
   "metadata": {},
   "outputs": [],
   "source": [
    "# df"
   ]
  },
  {
   "cell_type": "code",
   "execution_count": 1093,
   "metadata": {},
   "outputs": [],
   "source": [
    "# plt.figure(figsize=(20,10))\n",
    "# df.groupby(df.Zipcode).price.mean().sort_values(ascending=True).plot(kind='bar')"
   ]
  },
  {
   "cell_type": "code",
   "execution_count": 1094,
   "metadata": {},
   "outputs": [],
   "source": [
    "# df.Zipcode.astype(int).min()"
   ]
  },
  {
   "cell_type": "code",
   "execution_count": 1095,
   "metadata": {},
   "outputs": [],
   "source": [
    "# # reading in Zip/Neighborhood/Population dataset\n",
    "# df_zip = pd.read_csv('data/kc_zipcode_details.csv', index_col=0)\n",
    "# df_zip.tail(55)"
   ]
  },
  {
   "cell_type": "code",
   "execution_count": 1096,
   "metadata": {},
   "outputs": [],
   "source": [
    "# changing index name to match other dataset\n",
    "# df_zip.index.names = ['Zipcode']"
   ]
  },
  {
   "cell_type": "code",
   "execution_count": 1097,
   "metadata": {},
   "outputs": [],
   "source": [
    "# df_zip.reset_index(inplace=True)\n",
    "# df_zip.head()"
   ]
  },
  {
   "cell_type": "code",
   "execution_count": 1098,
   "metadata": {},
   "outputs": [],
   "source": [
    "# controlling for outliers\n",
    "# df_zip = df_zip.loc[(df_zip['Zipcode'] > 98000) & (df_zip['Zipcode'] <= 98288)]"
   ]
  },
  {
   "cell_type": "code",
   "execution_count": 1099,
   "metadata": {},
   "outputs": [],
   "source": [
    "# df_zip['Zipcode'] = df_zip['Zipcode'].astype(str)"
   ]
  },
  {
   "cell_type": "code",
   "execution_count": 1100,
   "metadata": {},
   "outputs": [],
   "source": [
    "# df_zip.nunique()\n"
   ]
  },
  {
   "cell_type": "code",
   "execution_count": 1101,
   "metadata": {
    "scrolled": true
   },
   "outputs": [],
   "source": [
    "# df_zip['Zipcode'].nunique()"
   ]
  },
  {
   "cell_type": "code",
   "execution_count": 1102,
   "metadata": {},
   "outputs": [],
   "source": [
    "# identify missing values in zip code data\n",
    "# df_zip.isna().sum()/df.shape[0]"
   ]
  },
  {
   "cell_type": "code",
   "execution_count": 1103,
   "metadata": {},
   "outputs": [],
   "source": [
    "# df_zip.dropna(subset=['Population'], axis=0, inplace=True)"
   ]
  },
  {
   "cell_type": "markdown",
   "metadata": {},
   "source": [
    "[section_1](#section_1)\n",
    "[section_3](#section_3)   "
   ]
  },
  {
   "cell_type": "code",
   "execution_count": 1104,
   "metadata": {},
   "outputs": [],
   "source": [
    "# df = df.merge(df_zip, how='left', on='Zipcode')"
   ]
  },
  {
   "cell_type": "code",
   "execution_count": 191,
   "metadata": {},
   "outputs": [
    {
     "name": "stdout",
     "output_type": "stream",
     "text": [
      "<class 'pandas.core.frame.DataFrame'>\n",
      "Int64Index: 29200 entries, 0 to 30154\n",
      "Data columns (total 30 columns):\n",
      " #   Column                Non-Null Count  Dtype         \n",
      "---  ------                --------------  -----         \n",
      " 0   selldate              29200 non-null  datetime64[ns]\n",
      " 1   price                 29200 non-null  float64       \n",
      " 2   bedrooms              29200 non-null  int64         \n",
      " 3   bathrooms             29200 non-null  float64       \n",
      " 4   sqft_living           29200 non-null  int64         \n",
      " 5   sqft_lot              29200 non-null  int64         \n",
      " 6   floors                29200 non-null  float64       \n",
      " 7   waterfront            29200 non-null  object        \n",
      " 8   greenbelt             29200 non-null  object        \n",
      " 9   nuisance              29200 non-null  object        \n",
      " 10  view                  29200 non-null  object        \n",
      " 11  condition             29200 non-null  object        \n",
      " 12  grade                 29200 non-null  object        \n",
      " 13  heat_source           29200 non-null  object        \n",
      " 14  sewer_system          29200 non-null  object        \n",
      " 15  sqft_above            29200 non-null  int64         \n",
      " 16  sqft_basement         29200 non-null  int64         \n",
      " 17  sqft_garage           29200 non-null  int64         \n",
      " 18  sqft_patio            29200 non-null  int64         \n",
      " 19  yr_built              29200 non-null  int64         \n",
      " 20  yr_renovated          29200 non-null  int64         \n",
      " 21  address               29200 non-null  object        \n",
      " 22  lat                   29200 non-null  float64       \n",
      " 23  long                  29200 non-null  float64       \n",
      " 24  Zipcode               29200 non-null  int64         \n",
      " 25  yr_old                29200 non-null  int64         \n",
      " 26  prox_golfcourse       29200 non-null  float64       \n",
      " 27  closest_transit       29200 non-null  float64       \n",
      " 28  clinic                29200 non-null  float64       \n",
      " 29  closest_elem_schools  29200 non-null  float64       \n",
      "dtypes: datetime64[ns](1), float64(9), int64(11), object(9)\n",
      "memory usage: 6.9+ MB\n"
     ]
    }
   ],
   "source": [
    "df.info()"
   ]
  },
  {
   "cell_type": "code",
   "execution_count": 338,
   "metadata": {},
   "outputs": [
    {
     "data": {
      "text/plain": [
       "selldate                0.0\n",
       "price                   0.0\n",
       "bedrooms                0.0\n",
       "bathrooms               0.0\n",
       "sqft_living             0.0\n",
       "sqft_lot                0.0\n",
       "floors                  0.0\n",
       "waterfront              0.0\n",
       "greenbelt               0.0\n",
       "nuisance                0.0\n",
       "view                    0.0\n",
       "condition               0.0\n",
       "grade                   0.0\n",
       "heat_source             0.0\n",
       "sewer_system            0.0\n",
       "sqft_above              0.0\n",
       "sqft_basement           0.0\n",
       "sqft_garage             0.0\n",
       "sqft_patio              0.0\n",
       "yr_built                0.0\n",
       "yr_renovated            0.0\n",
       "address                 0.0\n",
       "lat                     0.0\n",
       "long                    0.0\n",
       "Zipcode                 0.0\n",
       "yr_old                  0.0\n",
       "business_center         0.0\n",
       "clinic                  0.0\n",
       "closest_elem_schools    0.0\n",
       "dtype: float64"
      ]
     },
     "execution_count": 338,
     "metadata": {},
     "output_type": "execute_result"
    }
   ],
   "source": [
    "# identify missing data in new dataset\n",
    "df.isna().sum()/df.shape[0]\n",
    "# df.dropna(subset=['Population', 'Neighborhood'], axis=0, inplace=True)"
   ]
  },
  {
   "cell_type": "code",
   "execution_count": 339,
   "metadata": {},
   "outputs": [],
   "source": [
    "# df.dropna(subset=['Population', 'Neighborhood'], axis=0, inplace=True)"
   ]
  },
  {
   "cell_type": "code",
   "execution_count": 340,
   "metadata": {},
   "outputs": [
    {
     "name": "stdout",
     "output_type": "stream",
     "text": [
      "<class 'pandas.core.frame.DataFrame'>\n",
      "Int64Index: 29200 entries, 0 to 30154\n",
      "Data columns (total 29 columns):\n",
      " #   Column                Non-Null Count  Dtype         \n",
      "---  ------                --------------  -----         \n",
      " 0   selldate              29200 non-null  datetime64[ns]\n",
      " 1   price                 29200 non-null  float64       \n",
      " 2   bedrooms              29200 non-null  int64         \n",
      " 3   bathrooms             29200 non-null  float64       \n",
      " 4   sqft_living           29200 non-null  int64         \n",
      " 5   sqft_lot              29200 non-null  int64         \n",
      " 6   floors                29200 non-null  float64       \n",
      " 7   waterfront            29200 non-null  object        \n",
      " 8   greenbelt             29200 non-null  object        \n",
      " 9   nuisance              29200 non-null  object        \n",
      " 10  view                  29200 non-null  object        \n",
      " 11  condition             29200 non-null  object        \n",
      " 12  grade                 29200 non-null  object        \n",
      " 13  heat_source           29200 non-null  object        \n",
      " 14  sewer_system          29200 non-null  object        \n",
      " 15  sqft_above            29200 non-null  int64         \n",
      " 16  sqft_basement         29200 non-null  int64         \n",
      " 17  sqft_garage           29200 non-null  int64         \n",
      " 18  sqft_patio            29200 non-null  int64         \n",
      " 19  yr_built              29200 non-null  int64         \n",
      " 20  yr_renovated          29200 non-null  int64         \n",
      " 21  address               29200 non-null  object        \n",
      " 22  lat                   29200 non-null  float64       \n",
      " 23  long                  29200 non-null  float64       \n",
      " 24  Zipcode               29200 non-null  int64         \n",
      " 25  yr_old                29200 non-null  int64         \n",
      " 26  business_center       29200 non-null  float64       \n",
      " 27  clinic                29200 non-null  float64       \n",
      " 28  closest_elem_schools  29200 non-null  float64       \n",
      "dtypes: datetime64[ns](1), float64(8), int64(11), object(9)\n",
      "memory usage: 6.7+ MB\n"
     ]
    }
   ],
   "source": [
    "df.info()"
   ]
  },
  {
   "cell_type": "code",
   "execution_count": 341,
   "metadata": {
    "scrolled": true
   },
   "outputs": [
    {
     "data": {
      "text/plain": [
       "selldate                0.0\n",
       "price                   0.0\n",
       "bedrooms                0.0\n",
       "bathrooms               0.0\n",
       "sqft_living             0.0\n",
       "sqft_lot                0.0\n",
       "floors                  0.0\n",
       "waterfront              0.0\n",
       "greenbelt               0.0\n",
       "nuisance                0.0\n",
       "view                    0.0\n",
       "condition               0.0\n",
       "grade                   0.0\n",
       "heat_source             0.0\n",
       "sewer_system            0.0\n",
       "sqft_above              0.0\n",
       "sqft_basement           0.0\n",
       "sqft_garage             0.0\n",
       "sqft_patio              0.0\n",
       "yr_built                0.0\n",
       "yr_renovated            0.0\n",
       "address                 0.0\n",
       "lat                     0.0\n",
       "long                    0.0\n",
       "Zipcode                 0.0\n",
       "yr_old                  0.0\n",
       "business_center         0.0\n",
       "clinic                  0.0\n",
       "closest_elem_schools    0.0\n",
       "dtype: float64"
      ]
     },
     "execution_count": 341,
     "metadata": {},
     "output_type": "execute_result"
    }
   ],
   "source": [
    "# no NA/missing values in merged dataset\n",
    "df.isna().sum()/df.shape[0]"
   ]
  },
  {
   "cell_type": "markdown",
   "metadata": {},
   "source": [
    "## Protected\n",
    "\n",
    "The code below was a failed attempt to establish a protected/unprotected feature that would include only homes contained in a greenbelt that likely had some watershed/wildlife/environmental nuisance protection.  It was not correlated with price, nor large enough to be a predictor.  "
   ]
  },
  {
   "cell_type": "code",
   "execution_count": 342,
   "metadata": {},
   "outputs": [],
   "source": [
    "# df1.loc[(df1['nuisance'] == 'YES') & (df1['greenbelt'] == 'YES'), 'protected'] = 'protected'\n",
    "# df1.loc[(df1['nuisance'] != 'YES') | (df1['greenbelt'] != 'YES'), 'protected'] = 'unprotected'"
   ]
  },
  {
   "cell_type": "code",
   "execution_count": 343,
   "metadata": {},
   "outputs": [],
   "source": [
    "# df1['protected']"
   ]
  },
  {
   "cell_type": "code",
   "execution_count": 344,
   "metadata": {},
   "outputs": [],
   "source": [
    "# df1['protected'].value_counts() "
   ]
  },
  {
   "cell_type": "markdown",
   "metadata": {},
   "source": [
    "## Improving upon the baseline"
   ]
  },
  {
   "cell_type": "markdown",
   "metadata": {},
   "source": [
    "## Standard Scaling"
   ]
  },
  {
   "cell_type": "code",
   "execution_count": null,
   "metadata": {},
   "outputs": [],
   "source": []
  },
  {
   "cell_type": "markdown",
   "metadata": {
    "index": 33
   },
   "source": [
    "HomeSales \n",
    "standard scaling allows you to find coefficients. \n",
    "Be sure to include metric - r squared - to describe overall model performance.  \n",
    "collineriety \n",
    "log scalling\n",
    "remove outliers.  \n",
    "Increase r squared. \n",
    "\n",
    "\n",
    "1. run model\n",
    "2. see improvements, clean/feature engineer.  \n",
    "3. see coefficients becoming more accurate.\n"
   ]
  },
  {
   "cell_type": "markdown",
   "metadata": {},
   "source": [
    "## Grade - a failed attempt at making an Ordinal category numeric"
   ]
  },
  {
   "cell_type": "code",
   "execution_count": 1113,
   "metadata": {},
   "outputs": [],
   "source": [
    "# df1.grade.value_counts()"
   ]
  },
  {
   "cell_type": "code",
   "execution_count": 1114,
   "metadata": {},
   "outputs": [],
   "source": [
    "# df1.grade.value_counts()"
   ]
  },
  {
   "cell_type": "code",
   "execution_count": 1115,
   "metadata": {},
   "outputs": [],
   "source": [
    "# # grade_map = {\n",
    "#     \"7 Average\": 7,\n",
    "#     \"8 Good\": 8,\n",
    "#     \"9 Better\": 9,\n",
    "#     \"6 Low Average\": 6,\n",
    "#     \"5 Fair\": 5,\n",
    "#     \"4 Low\": 4,\n",
    "#     \"3 Poor\": 3,\n",
    "#     \"2 Substandard\": 2,\n",
    "#     \"10 Very Good\": 10,\n",
    "#     \"11 Excellent\": 11,\n",
    "#     \"13 Mansion\": 13,\n",
    "#     \"12 Luxury\": 12,\n",
    "# }"
   ]
  },
  {
   "cell_type": "code",
   "execution_count": 1116,
   "metadata": {},
   "outputs": [],
   "source": [
    "# df1.grade = df1.grade.map(grade_map)"
   ]
  },
  {
   "cell_type": "code",
   "execution_count": 1117,
   "metadata": {},
   "outputs": [],
   "source": [
    "# making results more model friendly \n",
    "# dum_df1.loc[dum_df1['grade'] == '2 Substandard', 'grade'] = 1\n",
    "# dum_df1.loc[dum_df1['grade'] == '3 Poor', 'grade'] = 1\n",
    "# dum_df1.loc[dum_df1['grade'] == '4 Low', 'grade'] = 1\n",
    "\n",
    "# dum_df1.loc[dum_df1['grade'] == '5 Fair', 'grade'] = 2\n",
    "# dum_df1.loc[dum_df1['grade'] == '6 Low Average', 'grade'] = 2\n",
    "# dum_df1.loc[dum_df1['grade'] == '7 Average', 'grade'] = 2\n",
    "\n",
    "# dum_df1.loc[dum_df1['grade'] == '8 Good', 'grade'] = 3\n",
    "# dum_df1.loc[dum_df1['grade'] == '9 Better', 'grade'] = 3\n",
    "# dum_df1.loc[dum_df1['grade'] == '10 Very Good', 'grade'] = 3\n",
    "\n",
    "# dum_df1.loc[dum_df1['grade'] == '11 Excellent', 'grade'] = 4\n",
    "# dum_df1.loc[dum_df1['grade'] == '12 Luxury', 'grade'] = 4\n",
    "# dum_df1.loc[dum_df1['grade'] == '13 Mansion', 'grade'] = 4"
   ]
  },
  {
   "cell_type": "markdown",
   "metadata": {},
   "source": [
    "The above code, which was not used, was a brief lesson in why you do not want to force ordinal categories into continuous numeric variables, unless the values are in fact multiples of each other.    "
   ]
  },
  {
   "cell_type": "markdown",
   "metadata": {},
   "source": [
    "## Lesson"
   ]
  },
  {
   "cell_type": "markdown",
   "metadata": {},
   "source": [
    "scatter plot: visualize relationship  \n",
    "\n",
    "box plot: gives you quantile info\n",
    "\n",
    "histograms: distribution of frequencies \n",
    "\n",
    "qq plot residuals (outside of range) is "
   ]
  },
  {
   "cell_type": "code",
   "execution_count": 1118,
   "metadata": {},
   "outputs": [],
   "source": [
    "# plt.boxplot(df1.price)"
   ]
  },
  {
   "cell_type": "code",
   "execution_count": 345,
   "metadata": {},
   "outputs": [
    {
     "data": {
      "text/plain": [
       "(array([2.8412e+04, 6.7600e+02, 7.9000e+01, 1.7000e+01, 1.0000e+01,\n",
       "        2.0000e+00, 1.0000e+00, 2.0000e+00, 0.0000e+00, 1.0000e+00]),\n",
       " array([2.7360000e+04, 3.0996240e+06, 6.1718880e+06, 9.2441520e+06,\n",
       "        1.2316416e+07, 1.5388680e+07, 1.8460944e+07, 2.1533208e+07,\n",
       "        2.4605472e+07, 2.7677736e+07, 3.0750000e+07]),\n",
       " <BarContainer object of 10 artists>)"
      ]
     },
     "execution_count": 345,
     "metadata": {},
     "output_type": "execute_result"
    },
    {
     "data": {
      "image/png": "[encoded data removed]",
      "text/plain": [
       "<Figure size 432x288 with 1 Axes>"
      ]
     },
     "metadata": {
      "needs_background": "light"
     },
     "output_type": "display_data"
    }
   ],
   "source": [
    "plt.hist(df['price'])"
   ]
  },
  {
   "cell_type": "code",
   "execution_count": 346,
   "metadata": {},
   "outputs": [],
   "source": [
    "upper_limit = df['price'].mean() + 3*df['price'].std()\n",
    "lower_limit = df['price'].mean() - 3*df['price'].std()\n",
    "df['price'] = np.where(df['price'] > upper_limit, upper_limit,\n",
    "np.where(df['price'] < lower_limit, lower_limit, df['price']))"
   ]
  },
  {
   "cell_type": "code",
   "execution_count": 347,
   "metadata": {},
   "outputs": [
    {
     "name": "stdout",
     "output_type": "stream",
     "text": [
      "<class 'pandas.core.frame.DataFrame'>\n",
      "Int64Index: 29200 entries, 0 to 30154\n",
      "Data columns (total 29 columns):\n",
      " #   Column                Non-Null Count  Dtype         \n",
      "---  ------                --------------  -----         \n",
      " 0   selldate              29200 non-null  datetime64[ns]\n",
      " 1   price                 29200 non-null  float64       \n",
      " 2   bedrooms              29200 non-null  int64         \n",
      " 3   bathrooms             29200 non-null  float64       \n",
      " 4   sqft_living           29200 non-null  int64         \n",
      " 5   sqft_lot              29200 non-null  int64         \n",
      " 6   floors                29200 non-null  float64       \n",
      " 7   waterfront            29200 non-null  object        \n",
      " 8   greenbelt             29200 non-null  object        \n",
      " 9   nuisance              29200 non-null  object        \n",
      " 10  view                  29200 non-null  object        \n",
      " 11  condition             29200 non-null  object        \n",
      " 12  grade                 29200 non-null  object        \n",
      " 13  heat_source           29200 non-null  object        \n",
      " 14  sewer_system          29200 non-null  object        \n",
      " 15  sqft_above            29200 non-null  int64         \n",
      " 16  sqft_basement         29200 non-null  int64         \n",
      " 17  sqft_garage           29200 non-null  int64         \n",
      " 18  sqft_patio            29200 non-null  int64         \n",
      " 19  yr_built              29200 non-null  int64         \n",
      " 20  yr_renovated          29200 non-null  int64         \n",
      " 21  address               29200 non-null  object        \n",
      " 22  lat                   29200 non-null  float64       \n",
      " 23  long                  29200 non-null  float64       \n",
      " 24  Zipcode               29200 non-null  int64         \n",
      " 25  yr_old                29200 non-null  int64         \n",
      " 26  business_center       29200 non-null  float64       \n",
      " 27  clinic                29200 non-null  float64       \n",
      " 28  closest_elem_schools  29200 non-null  float64       \n",
      "dtypes: datetime64[ns](1), float64(8), int64(11), object(9)\n",
      "memory usage: 6.7+ MB\n"
     ]
    }
   ],
   "source": [
    "# sns.heatmap(X.corr())\n",
    "df.info()"
   ]
  },
  {
   "cell_type": "markdown",
   "metadata": {},
   "source": [
    "## Discrete numeric predictors "
   ]
  },
  {
   "cell_type": "code",
   "execution_count": 348,
   "metadata": {},
   "outputs": [],
   "source": [
    "upper_limit = df['yr_old'].mean() + 3*df['yr_old'].std()\n",
    "lower_limit = df['yr_old'].mean() - 3*df['yr_old'].std()\n",
    "df['yr_old'] = np.where(df['yr_old'] > upper_limit, upper_limit,\n",
    "np.where(df['yr_old'] < lower_limit, lower_limit, df['yr_old']))"
   ]
  },
  {
   "cell_type": "code",
   "execution_count": 349,
   "metadata": {},
   "outputs": [],
   "source": [
    "# upper_limit = df['floors'].mean() + 3*df['floors'].std()\n",
    "# lower_limit = df['floors'].mean() - 3*df['floors'].std()\n",
    "# df['floors'] = np.where(df['floors'] > upper_limit, upper_limit,\n",
    "# np.where(df['floors'] < lower_limit, lower_limit, df['floors']))"
   ]
  },
  {
   "cell_type": "code",
   "execution_count": 350,
   "metadata": {},
   "outputs": [],
   "source": [
    "upper_limit = df['sqft_garage'].mean() + 3*df['sqft_garage'].std()\n",
    "lower_limit = df['sqft_garage'].mean() - 3*df['sqft_garage'].std()\n",
    "\n",
    "df['sqft_garage'] = np.where(df['sqft_garage'] > upper_limit, upper_limit,\n",
    "    np.where(df['sqft_garage'] < lower_limit, lower_limit, df['sqft_garage']))"
   ]
  },
  {
   "cell_type": "code",
   "execution_count": 351,
   "metadata": {},
   "outputs": [],
   "source": [
    "upper_limit = df['sqft_basement'].mean() + 3*df['sqft_basement'].std()\n",
    "lower_limit = df['sqft_basement'].mean() - 3*df['sqft_basement'].std()\n",
    "\n",
    "df['sqft_basement'] = np.where(df['sqft_basement'] > upper_limit, upper_limit,\n",
    "    np.where(df['sqft_basement'] < lower_limit, lower_limit, df['sqft_basement']))"
   ]
  },
  {
   "cell_type": "code",
   "execution_count": 352,
   "metadata": {},
   "outputs": [],
   "source": [
    "upper_limit = df['sqft_patio'].mean() + 3*df['sqft_patio'].std()\n",
    "lower_limit = df['sqft_patio'].mean() - 3*df['sqft_patio'].std()\n",
    "\n",
    "df['sqft_patio'] = np.where(df['sqft_patio'] > upper_limit, upper_limit,\n",
    "    np.where(df['sqft_patio'] < lower_limit, lower_limit, df['sqft_patio']))"
   ]
  },
  {
   "cell_type": "code",
   "execution_count": 353,
   "metadata": {},
   "outputs": [],
   "source": [
    "upper_limit = df['bedrooms'].mean() + 3*df['bedrooms'].std()\n",
    "lower_limit = df['bedrooms'].mean() - 3*df['bedrooms'].std()\n",
    "df['bedrooms'] = np.where(df['bedrooms'] > upper_limit, upper_limit,\n",
    "np.where(df['bedrooms'] < lower_limit, lower_limit, df['bedrooms']))"
   ]
  },
  {
   "cell_type": "code",
   "execution_count": 354,
   "metadata": {},
   "outputs": [],
   "source": [
    "upper_limit = df['bathrooms'].mean() + 3*df['bathrooms'].std()\n",
    "lower_limit = df['bathrooms'].mean() - 3*df['bathrooms'].std()\n",
    "\n",
    "df['bathrooms'] = np.where(df['bathrooms'] > upper_limit, upper_limit,\n",
    "    np.where(df['bathrooms'] < lower_limit, lower_limit, df['bathrooms']))"
   ]
  },
  {
   "cell_type": "code",
   "execution_count": 355,
   "metadata": {},
   "outputs": [],
   "source": [
    "upper_limit = df['sqft_above'].mean() + 3*df['sqft_above'].std()\n",
    "lower_limit = df['sqft_above'].mean() - 3*df['sqft_above'].std()\n",
    "\n",
    "df['sqft_above'] = np.where(df['sqft_above'] > upper_limit, upper_limit,\n",
    "    np.where(df['sqft_above'] < lower_limit, lower_limit, df['sqft_above']))"
   ]
  },
  {
   "cell_type": "code",
   "execution_count": 356,
   "metadata": {},
   "outputs": [],
   "source": [
    "upper_limit = df['sqft_lot'].mean() + 3*df['sqft_lot'].std()\n",
    "lower_limit = df['sqft_lot'].mean() - 3*df['sqft_lot'].std()\n",
    "\n",
    "df['sqft_lot'] = np.where(df['sqft_lot'] > upper_limit, upper_limit,\n",
    "    np.where(df['sqft_lot'] < lower_limit, lower_limit, df['sqft_lot']))"
   ]
  },
  {
   "cell_type": "code",
   "execution_count": 357,
   "metadata": {},
   "outputs": [],
   "source": [
    "\n",
    "# model_1 = sm.OLS(y, sm.add_constant(X1))\n",
    "# results1 = model_1.fit()\n",
    "# results1.summary()"
   ]
  },
  {
   "cell_type": "markdown",
   "metadata": {},
   "source": [
    "### Model Iteration"
   ]
  },
  {
   "cell_type": "markdown",
   "metadata": {},
   "source": [
    "### Utilizing categorical variables"
   ]
  },
  {
   "cell_type": "code",
   "execution_count": 358,
   "metadata": {},
   "outputs": [],
   "source": [
    "cats = df[['waterfront','greenbelt', 'nuisance', 'view', 'condition', 'heat_source', 'sewer_system', 'Zipcode', 'grade']]\n",
    "cats1 = df[['selldate','price','waterfront','greenbelt', 'nuisance', 'view', 'condition', 'heat_source', 'sewer_system', 'address', 'Zipcode', 'grade']]"
   ]
  },
  {
   "cell_type": "code",
   "execution_count": 359,
   "metadata": {},
   "outputs": [],
   "source": [
    "cat_cols = cats.columns\n",
    "dum_df = pd.get_dummies(data=df, columns=cat_cols, drop_first=True)"
   ]
  },
  {
   "cell_type": "code",
   "execution_count": 361,
   "metadata": {},
   "outputs": [
    {
     "data": {
      "text/html": [
       "<table class=\"simpletable\">\n",
       "<caption>OLS Regression Results</caption>\n",
       "<tr>\n",
       "  <th>Dep. Variable:</th>          <td>price</td>      <th>  R-squared:         </th>  <td>   0.774</td>  \n",
       "</tr>\n",
       "<tr>\n",
       "  <th>Model:</th>                   <td>OLS</td>       <th>  Adj. R-squared:    </th>  <td>   0.773</td>  \n",
       "</tr>\n",
       "<tr>\n",
       "  <th>Method:</th>             <td>Least Squares</td>  <th>  F-statistic:       </th>  <td>   778.0</td>  \n",
       "</tr>\n",
       "<tr>\n",
       "  <th>Date:</th>             <td>Tue, 27 Sep 2022</td> <th>  Prob (F-statistic):</th>   <td>  0.00</td>   \n",
       "</tr>\n",
       "<tr>\n",
       "  <th>Time:</th>                 <td>22:03:08</td>     <th>  Log-Likelihood:    </th> <td>-4.1197e+05</td>\n",
       "</tr>\n",
       "<tr>\n",
       "  <th>No. Observations:</th>      <td> 29200</td>      <th>  AIC:               </th>  <td>8.242e+05</td> \n",
       "</tr>\n",
       "<tr>\n",
       "  <th>Df Residuals:</th>          <td> 29071</td>      <th>  BIC:               </th>  <td>8.253e+05</td> \n",
       "</tr>\n",
       "<tr>\n",
       "  <th>Df Model:</th>              <td>   128</td>      <th>                     </th>      <td> </td>     \n",
       "</tr>\n",
       "<tr>\n",
       "  <th>Covariance Type:</th>      <td>nonrobust</td>    <th>                     </th>      <td> </td>     \n",
       "</tr>\n",
       "</table>\n",
       "<table class=\"simpletable\">\n",
       "<tr>\n",
       "                 <td></td>                    <th>coef</th>     <th>std err</th>      <th>t</th>      <th>P>|t|</th>  <th>[0.025</th>    <th>0.975]</th>  \n",
       "</tr>\n",
       "<tr>\n",
       "  <th>const</th>                           <td> -1.09e+08</td> <td> 1.42e+07</td> <td>   -7.654</td> <td> 0.000</td> <td>-1.37e+08</td> <td>-8.11e+07</td>\n",
       "</tr>\n",
       "<tr>\n",
       "  <th>bedrooms</th>                        <td>-2138.4636</td> <td> 2894.995</td> <td>   -0.739</td> <td> 0.460</td> <td>-7812.786</td> <td> 3535.859</td>\n",
       "</tr>\n",
       "<tr>\n",
       "  <th>bathrooms</th>                       <td> 3.392e+04</td> <td> 4049.444</td> <td>    8.376</td> <td> 0.000</td> <td>  2.6e+04</td> <td> 4.19e+04</td>\n",
       "</tr>\n",
       "<tr>\n",
       "  <th>sqft_living</th>                     <td>  112.3851</td> <td>    7.811</td> <td>   14.389</td> <td> 0.000</td> <td>   97.076</td> <td>  127.694</td>\n",
       "</tr>\n",
       "<tr>\n",
       "  <th>sqft_lot</th>                        <td>    1.6206</td> <td>    0.087</td> <td>   18.631</td> <td> 0.000</td> <td>    1.450</td> <td>    1.791</td>\n",
       "</tr>\n",
       "<tr>\n",
       "  <th>sqft_above</th>                      <td>  156.9582</td> <td>    8.268</td> <td>   18.983</td> <td> 0.000</td> <td>  140.752</td> <td>  173.165</td>\n",
       "</tr>\n",
       "<tr>\n",
       "  <th>sqft_basement</th>                   <td>   40.3298</td> <td>    6.469</td> <td>    6.234</td> <td> 0.000</td> <td>   27.650</td> <td>   53.010</td>\n",
       "</tr>\n",
       "<tr>\n",
       "  <th>sqft_garage</th>                     <td>   37.9972</td> <td>   10.134</td> <td>    3.749</td> <td> 0.000</td> <td>   18.133</td> <td>   57.861</td>\n",
       "</tr>\n",
       "<tr>\n",
       "  <th>sqft_patio</th>                      <td>   22.8732</td> <td>    9.920</td> <td>    2.306</td> <td> 0.021</td> <td>    3.429</td> <td>   42.318</td>\n",
       "</tr>\n",
       "<tr>\n",
       "  <th>yr_built</th>                        <td> -500.1799</td> <td>  372.005</td> <td>   -1.345</td> <td> 0.179</td> <td>-1229.326</td> <td>  228.966</td>\n",
       "</tr>\n",
       "<tr>\n",
       "  <th>yr_renovated</th>                    <td>   49.9695</td> <td>   11.760</td> <td>    4.249</td> <td> 0.000</td> <td>   26.920</td> <td>   73.019</td>\n",
       "</tr>\n",
       "<tr>\n",
       "  <th>lat</th>                             <td> 3.334e+05</td> <td> 1.15e+05</td> <td>    2.905</td> <td> 0.004</td> <td> 1.08e+05</td> <td> 5.58e+05</td>\n",
       "</tr>\n",
       "<tr>\n",
       "  <th>long</th>                            <td> -7.74e+05</td> <td> 1.13e+05</td> <td>   -6.866</td> <td> 0.000</td> <td>-9.95e+05</td> <td>-5.53e+05</td>\n",
       "</tr>\n",
       "<tr>\n",
       "  <th>yr_old</th>                          <td>   34.0983</td> <td>  374.227</td> <td>    0.091</td> <td> 0.927</td> <td> -699.403</td> <td>  767.600</td>\n",
       "</tr>\n",
       "<tr>\n",
       "  <th>business_center</th>                 <td>-1.416e+04</td> <td> 2455.368</td> <td>   -5.766</td> <td> 0.000</td> <td> -1.9e+04</td> <td>-9345.928</td>\n",
       "</tr>\n",
       "<tr>\n",
       "  <th>clinic</th>                          <td>  1.55e+04</td> <td> 2415.004</td> <td>    6.416</td> <td> 0.000</td> <td> 1.08e+04</td> <td> 2.02e+04</td>\n",
       "</tr>\n",
       "<tr>\n",
       "  <th>closest_elem_schools</th>            <td>-1.862e+04</td> <td> 5232.344</td> <td>   -3.558</td> <td> 0.000</td> <td>-2.89e+04</td> <td>-8361.417</td>\n",
       "</tr>\n",
       "<tr>\n",
       "  <th>waterfront_YES</th>                  <td> 2.858e+05</td> <td> 1.78e+04</td> <td>   16.090</td> <td> 0.000</td> <td> 2.51e+05</td> <td> 3.21e+05</td>\n",
       "</tr>\n",
       "<tr>\n",
       "  <th>greenbelt_YES</th>                   <td> 4.593e+04</td> <td> 1.25e+04</td> <td>    3.681</td> <td> 0.000</td> <td> 2.15e+04</td> <td> 7.04e+04</td>\n",
       "</tr>\n",
       "<tr>\n",
       "  <th>nuisance_YES</th>                    <td>-4.954e+04</td> <td> 5255.893</td> <td>   -9.427</td> <td> 0.000</td> <td>-5.98e+04</td> <td>-3.92e+04</td>\n",
       "</tr>\n",
       "<tr>\n",
       "  <th>view_EXCELLENT</th>                  <td> 4.226e+05</td> <td> 1.79e+04</td> <td>   23.581</td> <td> 0.000</td> <td> 3.87e+05</td> <td> 4.58e+05</td>\n",
       "</tr>\n",
       "<tr>\n",
       "  <th>view_FAIR</th>                       <td> 7.602e+04</td> <td> 2.36e+04</td> <td>    3.224</td> <td> 0.001</td> <td> 2.98e+04</td> <td> 1.22e+05</td>\n",
       "</tr>\n",
       "<tr>\n",
       "  <th>view_GOOD</th>                       <td> 9.929e+04</td> <td> 1.35e+04</td> <td>    7.375</td> <td> 0.000</td> <td> 7.29e+04</td> <td> 1.26e+05</td>\n",
       "</tr>\n",
       "<tr>\n",
       "  <th>view_NONE</th>                       <td>-1.001e+05</td> <td> 8197.809</td> <td>  -12.206</td> <td> 0.000</td> <td>-1.16e+05</td> <td> -8.4e+04</td>\n",
       "</tr>\n",
       "<tr>\n",
       "  <th>condition_Fair</th>                  <td>-9.609e+04</td> <td> 2.22e+04</td> <td>   -4.320</td> <td> 0.000</td> <td> -1.4e+05</td> <td>-5.25e+04</td>\n",
       "</tr>\n",
       "<tr>\n",
       "  <th>condition_Good</th>                  <td> 5.703e+04</td> <td> 4913.134</td> <td>   11.607</td> <td> 0.000</td> <td> 4.74e+04</td> <td> 6.67e+04</td>\n",
       "</tr>\n",
       "<tr>\n",
       "  <th>condition_Poor</th>                  <td>-8.188e+04</td> <td> 4.31e+04</td> <td>   -1.898</td> <td> 0.058</td> <td>-1.66e+05</td> <td> 2665.181</td>\n",
       "</tr>\n",
       "<tr>\n",
       "  <th>condition_Very Good</th>             <td> 1.182e+05</td> <td> 6876.254</td> <td>   17.189</td> <td> 0.000</td> <td> 1.05e+05</td> <td> 1.32e+05</td>\n",
       "</tr>\n",
       "<tr>\n",
       "  <th>heat_source_Gas</th>                 <td> 1.303e+04</td> <td> 4684.064</td> <td>    2.781</td> <td> 0.005</td> <td> 3847.023</td> <td> 2.22e+04</td>\n",
       "</tr>\n",
       "<tr>\n",
       "  <th>heat_source_Gas/Solar</th>           <td> 1.369e+05</td> <td> 3.41e+04</td> <td>    4.015</td> <td> 0.000</td> <td> 7.01e+04</td> <td> 2.04e+05</td>\n",
       "</tr>\n",
       "<tr>\n",
       "  <th>sewer_system_PRIVATE RESTRICTED</th> <td>-4.328e+05</td> <td> 1.49e+05</td> <td>   -2.909</td> <td> 0.004</td> <td>-7.24e+05</td> <td>-1.41e+05</td>\n",
       "</tr>\n",
       "<tr>\n",
       "  <th>sewer_system_PUBLIC</th>             <td> 3.112e+04</td> <td> 7595.009</td> <td>    4.098</td> <td> 0.000</td> <td> 1.62e+04</td> <td>  4.6e+04</td>\n",
       "</tr>\n",
       "<tr>\n",
       "  <th>Zipcode_98002</th>                   <td> 7.815e+04</td> <td> 2.31e+04</td> <td>    3.386</td> <td> 0.001</td> <td> 3.29e+04</td> <td> 1.23e+05</td>\n",
       "</tr>\n",
       "<tr>\n",
       "  <th>Zipcode_98003</th>                   <td> -2.18e+04</td> <td> 2.08e+04</td> <td>   -1.048</td> <td> 0.295</td> <td>-6.26e+04</td> <td>  1.9e+04</td>\n",
       "</tr>\n",
       "<tr>\n",
       "  <th>Zipcode_98004</th>                   <td> 1.544e+06</td> <td>  4.3e+04</td> <td>   35.928</td> <td> 0.000</td> <td> 1.46e+06</td> <td> 1.63e+06</td>\n",
       "</tr>\n",
       "<tr>\n",
       "  <th>Zipcode_98005</th>                   <td> 1.056e+06</td> <td> 4.74e+04</td> <td>   22.285</td> <td> 0.000</td> <td> 9.63e+05</td> <td> 1.15e+06</td>\n",
       "</tr>\n",
       "<tr>\n",
       "  <th>Zipcode_98006</th>                   <td>  8.05e+05</td> <td> 3.83e+04</td> <td>   21.000</td> <td> 0.000</td> <td>  7.3e+05</td> <td>  8.8e+05</td>\n",
       "</tr>\n",
       "<tr>\n",
       "  <th>Zipcode_98007</th>                   <td> 7.253e+05</td> <td> 4.86e+04</td> <td>   14.916</td> <td> 0.000</td> <td>  6.3e+05</td> <td> 8.21e+05</td>\n",
       "</tr>\n",
       "<tr>\n",
       "  <th>Zipcode_98008</th>                   <td> 7.625e+05</td> <td> 4.57e+04</td> <td>   16.683</td> <td> 0.000</td> <td> 6.73e+05</td> <td> 8.52e+05</td>\n",
       "</tr>\n",
       "<tr>\n",
       "  <th>Zipcode_98010</th>                   <td> 2.075e+05</td> <td> 3.43e+04</td> <td>    6.044</td> <td> 0.000</td> <td>  1.4e+05</td> <td> 2.75e+05</td>\n",
       "</tr>\n",
       "<tr>\n",
       "  <th>Zipcode_98011</th>                   <td> 4.039e+05</td> <td>  5.7e+04</td> <td>    7.089</td> <td> 0.000</td> <td> 2.92e+05</td> <td> 5.16e+05</td>\n",
       "</tr>\n",
       "<tr>\n",
       "  <th>Zipcode_98014</th>                   <td>  3.18e+05</td> <td> 6.37e+04</td> <td>    4.988</td> <td> 0.000</td> <td> 1.93e+05</td> <td> 4.43e+05</td>\n",
       "</tr>\n",
       "<tr>\n",
       "  <th>Zipcode_98019</th>                   <td> 2.797e+05</td> <td> 6.47e+04</td> <td>    4.320</td> <td> 0.000</td> <td> 1.53e+05</td> <td> 4.07e+05</td>\n",
       "</tr>\n",
       "<tr>\n",
       "  <th>Zipcode_98022</th>                   <td> 6.229e+04</td> <td> 3.86e+04</td> <td>    1.614</td> <td> 0.107</td> <td>-1.34e+04</td> <td> 1.38e+05</td>\n",
       "</tr>\n",
       "<tr>\n",
       "  <th>Zipcode_98023</th>                   <td>-8.763e+04</td> <td> 2.11e+04</td> <td>   -4.153</td> <td> 0.000</td> <td>-1.29e+05</td> <td>-4.63e+04</td>\n",
       "</tr>\n",
       "<tr>\n",
       "  <th>Zipcode_98024</th>                   <td> 6.238e+05</td> <td> 5.99e+04</td> <td>   10.419</td> <td> 0.000</td> <td> 5.06e+05</td> <td> 7.41e+05</td>\n",
       "</tr>\n",
       "<tr>\n",
       "  <th>Zipcode_98027</th>                   <td> 5.372e+05</td> <td> 4.11e+04</td> <td>   13.067</td> <td> 0.000</td> <td> 4.57e+05</td> <td> 6.18e+05</td>\n",
       "</tr>\n",
       "<tr>\n",
       "  <th>Zipcode_98028</th>                   <td> 3.052e+05</td> <td> 5.49e+04</td> <td>    5.563</td> <td> 0.000</td> <td> 1.98e+05</td> <td> 4.13e+05</td>\n",
       "</tr>\n",
       "<tr>\n",
       "  <th>Zipcode_98029</th>                   <td> 7.002e+05</td> <td> 4.82e+04</td> <td>   14.517</td> <td> 0.000</td> <td> 6.06e+05</td> <td> 7.95e+05</td>\n",
       "</tr>\n",
       "<tr>\n",
       "  <th>Zipcode_98030</th>                   <td> 1.115e+05</td> <td> 2.55e+04</td> <td>    4.373</td> <td> 0.000</td> <td> 6.15e+04</td> <td> 1.62e+05</td>\n",
       "</tr>\n",
       "<tr>\n",
       "  <th>Zipcode_98031</th>                   <td> 8.858e+04</td> <td> 2.42e+04</td> <td>    3.660</td> <td> 0.000</td> <td> 4.11e+04</td> <td> 1.36e+05</td>\n",
       "</tr>\n",
       "<tr>\n",
       "  <th>Zipcode_98032</th>                   <td> 3.264e+04</td> <td> 2.84e+04</td> <td>    1.150</td> <td> 0.250</td> <td> -2.3e+04</td> <td> 8.83e+04</td>\n",
       "</tr>\n",
       "<tr>\n",
       "  <th>Zipcode_98033</th>                   <td> 1.058e+06</td> <td> 4.83e+04</td> <td>   21.879</td> <td> 0.000</td> <td> 9.63e+05</td> <td> 1.15e+06</td>\n",
       "</tr>\n",
       "<tr>\n",
       "  <th>Zipcode_98034</th>                   <td>  5.53e+05</td> <td> 5.12e+04</td> <td>   10.809</td> <td> 0.000</td> <td> 4.53e+05</td> <td> 6.53e+05</td>\n",
       "</tr>\n",
       "<tr>\n",
       "  <th>Zipcode_98038</th>                   <td> 3.117e+05</td> <td> 3.28e+04</td> <td>    9.499</td> <td> 0.000</td> <td> 2.47e+05</td> <td> 3.76e+05</td>\n",
       "</tr>\n",
       "<tr>\n",
       "  <th>Zipcode_98039</th>                   <td> 1.857e+06</td> <td>  5.8e+04</td> <td>   32.031</td> <td> 0.000</td> <td> 1.74e+06</td> <td> 1.97e+06</td>\n",
       "</tr>\n",
       "<tr>\n",
       "  <th>Zipcode_98040</th>                   <td> 1.121e+06</td> <td> 3.69e+04</td> <td>   30.392</td> <td> 0.000</td> <td> 1.05e+06</td> <td> 1.19e+06</td>\n",
       "</tr>\n",
       "<tr>\n",
       "  <th>Zipcode_98042</th>                   <td> 1.847e+05</td> <td> 2.65e+04</td> <td>    6.984</td> <td> 0.000</td> <td> 1.33e+05</td> <td> 2.37e+05</td>\n",
       "</tr>\n",
       "<tr>\n",
       "  <th>Zipcode_98045</th>                   <td>   5.2e+05</td> <td> 6.26e+04</td> <td>    8.301</td> <td> 0.000</td> <td> 3.97e+05</td> <td> 6.43e+05</td>\n",
       "</tr>\n",
       "<tr>\n",
       "  <th>Zipcode_98047</th>                   <td> 6.913e+04</td> <td> 3.99e+04</td> <td>    1.733</td> <td> 0.083</td> <td>-9076.940</td> <td> 1.47e+05</td>\n",
       "</tr>\n",
       "<tr>\n",
       "  <th>Zipcode_98050</th>                   <td> 5.726e+05</td> <td> 2.35e+05</td> <td>    2.439</td> <td> 0.015</td> <td> 1.12e+05</td> <td> 1.03e+06</td>\n",
       "</tr>\n",
       "<tr>\n",
       "  <th>Zipcode_98051</th>                   <td> 2.469e+05</td> <td> 5.47e+04</td> <td>    4.512</td> <td> 0.000</td> <td>  1.4e+05</td> <td> 3.54e+05</td>\n",
       "</tr>\n",
       "<tr>\n",
       "  <th>Zipcode_98052</th>                   <td> 7.451e+05</td> <td>  5.1e+04</td> <td>   14.601</td> <td> 0.000</td> <td> 6.45e+05</td> <td> 8.45e+05</td>\n",
       "</tr>\n",
       "<tr>\n",
       "  <th>Zipcode_98053</th>                   <td> 6.469e+05</td> <td> 5.58e+04</td> <td>   11.588</td> <td> 0.000</td> <td> 5.37e+05</td> <td> 7.56e+05</td>\n",
       "</tr>\n",
       "<tr>\n",
       "  <th>Zipcode_98055</th>                   <td> 8.615e+04</td> <td> 3.17e+04</td> <td>    2.718</td> <td> 0.007</td> <td>  2.4e+04</td> <td> 1.48e+05</td>\n",
       "</tr>\n",
       "<tr>\n",
       "  <th>Zipcode_98056</th>                   <td> 2.999e+05</td> <td> 3.27e+04</td> <td>    9.161</td> <td> 0.000</td> <td> 2.36e+05</td> <td> 3.64e+05</td>\n",
       "</tr>\n",
       "<tr>\n",
       "  <th>Zipcode_98057</th>                   <td> 7.567e+04</td> <td> 3.89e+04</td> <td>    1.947</td> <td> 0.052</td> <td> -496.363</td> <td> 1.52e+05</td>\n",
       "</tr>\n",
       "<tr>\n",
       "  <th>Zipcode_98058</th>                   <td> 1.528e+05</td> <td> 2.78e+04</td> <td>    5.497</td> <td> 0.000</td> <td> 9.83e+04</td> <td> 2.07e+05</td>\n",
       "</tr>\n",
       "<tr>\n",
       "  <th>Zipcode_98059</th>                   <td> 3.287e+05</td> <td> 3.28e+04</td> <td>   10.030</td> <td> 0.000</td> <td> 2.64e+05</td> <td> 3.93e+05</td>\n",
       "</tr>\n",
       "<tr>\n",
       "  <th>Zipcode_98065</th>                   <td> 5.158e+05</td> <td> 5.69e+04</td> <td>    9.058</td> <td> 0.000</td> <td> 4.04e+05</td> <td> 6.27e+05</td>\n",
       "</tr>\n",
       "<tr>\n",
       "  <th>Zipcode_98070</th>                   <td> 1.401e+04</td> <td> 4.38e+04</td> <td>    0.320</td> <td> 0.749</td> <td>-7.18e+04</td> <td> 9.98e+04</td>\n",
       "</tr>\n",
       "<tr>\n",
       "  <th>Zipcode_98072</th>                   <td> 5.225e+05</td> <td> 5.79e+04</td> <td>    9.026</td> <td> 0.000</td> <td> 4.09e+05</td> <td> 6.36e+05</td>\n",
       "</tr>\n",
       "<tr>\n",
       "  <th>Zipcode_98074</th>                   <td> 7.299e+05</td> <td> 4.98e+04</td> <td>   14.667</td> <td> 0.000</td> <td> 6.32e+05</td> <td> 8.27e+05</td>\n",
       "</tr>\n",
       "<tr>\n",
       "  <th>Zipcode_98075</th>                   <td> 7.464e+05</td> <td> 4.82e+04</td> <td>   15.471</td> <td> 0.000</td> <td> 6.52e+05</td> <td> 8.41e+05</td>\n",
       "</tr>\n",
       "<tr>\n",
       "  <th>Zipcode_98077</th>                   <td> 5.266e+05</td> <td> 6.11e+04</td> <td>    8.620</td> <td> 0.000</td> <td> 4.07e+05</td> <td> 6.46e+05</td>\n",
       "</tr>\n",
       "<tr>\n",
       "  <th>Zipcode_98092</th>                   <td> 2.524e+04</td> <td> 2.18e+04</td> <td>    1.157</td> <td> 0.247</td> <td>-1.75e+04</td> <td>  6.8e+04</td>\n",
       "</tr>\n",
       "<tr>\n",
       "  <th>Zipcode_98102</th>                   <td> 6.102e+05</td> <td> 4.79e+04</td> <td>   12.730</td> <td> 0.000</td> <td> 5.16e+05</td> <td> 7.04e+05</td>\n",
       "</tr>\n",
       "<tr>\n",
       "  <th>Zipcode_98103</th>                   <td> 4.549e+05</td> <td> 4.46e+04</td> <td>   10.198</td> <td> 0.000</td> <td> 3.67e+05</td> <td> 5.42e+05</td>\n",
       "</tr>\n",
       "<tr>\n",
       "  <th>Zipcode_98105</th>                   <td> 5.954e+05</td> <td> 4.59e+04</td> <td>   12.976</td> <td> 0.000</td> <td> 5.05e+05</td> <td> 6.85e+05</td>\n",
       "</tr>\n",
       "<tr>\n",
       "  <th>Zipcode_98106</th>                   <td> 1.104e+05</td> <td> 3.26e+04</td> <td>    3.388</td> <td> 0.001</td> <td> 4.65e+04</td> <td> 1.74e+05</td>\n",
       "</tr>\n",
       "<tr>\n",
       "  <th>Zipcode_98107</th>                   <td> 3.972e+05</td> <td> 4.58e+04</td> <td>    8.671</td> <td> 0.000</td> <td> 3.07e+05</td> <td> 4.87e+05</td>\n",
       "</tr>\n",
       "<tr>\n",
       "  <th>Zipcode_98108</th>                   <td> 1.765e+05</td> <td> 3.55e+04</td> <td>    4.966</td> <td> 0.000</td> <td> 1.07e+05</td> <td> 2.46e+05</td>\n",
       "</tr>\n",
       "<tr>\n",
       "  <th>Zipcode_98109</th>                   <td> 5.931e+05</td> <td>  4.9e+04</td> <td>   12.112</td> <td> 0.000</td> <td> 4.97e+05</td> <td> 6.89e+05</td>\n",
       "</tr>\n",
       "<tr>\n",
       "  <th>Zipcode_98112</th>                   <td> 7.671e+05</td> <td>  4.3e+04</td> <td>   17.846</td> <td> 0.000</td> <td> 6.83e+05</td> <td> 8.51e+05</td>\n",
       "</tr>\n",
       "<tr>\n",
       "  <th>Zipcode_98115</th>                   <td> 5.167e+05</td> <td> 4.56e+04</td> <td>   11.332</td> <td> 0.000</td> <td> 4.27e+05</td> <td> 6.06e+05</td>\n",
       "</tr>\n",
       "<tr>\n",
       "  <th>Zipcode_98116</th>                   <td> 3.067e+05</td> <td> 3.83e+04</td> <td>    7.997</td> <td> 0.000</td> <td> 2.32e+05</td> <td> 3.82e+05</td>\n",
       "</tr>\n",
       "<tr>\n",
       "  <th>Zipcode_98117</th>                   <td> 4.038e+05</td> <td> 4.64e+04</td> <td>    8.705</td> <td> 0.000</td> <td> 3.13e+05</td> <td> 4.95e+05</td>\n",
       "</tr>\n",
       "<tr>\n",
       "  <th>Zipcode_98118</th>                   <td> 2.603e+05</td> <td> 3.24e+04</td> <td>    8.041</td> <td> 0.000</td> <td> 1.97e+05</td> <td> 3.24e+05</td>\n",
       "</tr>\n",
       "<tr>\n",
       "  <th>Zipcode_98119</th>                   <td>   5.5e+05</td> <td> 4.55e+04</td> <td>   12.082</td> <td> 0.000</td> <td> 4.61e+05</td> <td> 6.39e+05</td>\n",
       "</tr>\n",
       "<tr>\n",
       "  <th>Zipcode_98122</th>                   <td> 4.383e+05</td> <td> 3.98e+04</td> <td>   11.010</td> <td> 0.000</td> <td>  3.6e+05</td> <td> 5.16e+05</td>\n",
       "</tr>\n",
       "<tr>\n",
       "  <th>Zipcode_98125</th>                   <td> 3.397e+05</td> <td> 4.96e+04</td> <td>    6.843</td> <td> 0.000</td> <td> 2.42e+05</td> <td> 4.37e+05</td>\n",
       "</tr>\n",
       "<tr>\n",
       "  <th>Zipcode_98126</th>                   <td> 1.713e+05</td> <td> 3.46e+04</td> <td>    4.955</td> <td> 0.000</td> <td> 1.04e+05</td> <td> 2.39e+05</td>\n",
       "</tr>\n",
       "<tr>\n",
       "  <th>Zipcode_98133</th>                   <td> 2.249e+05</td> <td> 5.18e+04</td> <td>    4.345</td> <td> 0.000</td> <td> 1.23e+05</td> <td> 3.26e+05</td>\n",
       "</tr>\n",
       "<tr>\n",
       "  <th>Zipcode_98136</th>                   <td> 2.984e+05</td> <td>  3.6e+04</td> <td>    8.287</td> <td> 0.000</td> <td> 2.28e+05</td> <td> 3.69e+05</td>\n",
       "</tr>\n",
       "<tr>\n",
       "  <th>Zipcode_98144</th>                   <td> 3.828e+05</td> <td> 3.73e+04</td> <td>   10.263</td> <td> 0.000</td> <td>  3.1e+05</td> <td> 4.56e+05</td>\n",
       "</tr>\n",
       "<tr>\n",
       "  <th>Zipcode_98146</th>                   <td> 1.632e+05</td> <td> 3.04e+04</td> <td>    5.371</td> <td> 0.000</td> <td> 1.04e+05</td> <td> 2.23e+05</td>\n",
       "</tr>\n",
       "<tr>\n",
       "  <th>Zipcode_98148</th>                   <td> 4.382e+04</td> <td> 3.92e+04</td> <td>    1.118</td> <td> 0.264</td> <td> -3.3e+04</td> <td> 1.21e+05</td>\n",
       "</tr>\n",
       "<tr>\n",
       "  <th>Zipcode_98155</th>                   <td> 2.998e+05</td> <td> 5.38e+04</td> <td>    5.570</td> <td> 0.000</td> <td> 1.94e+05</td> <td> 4.05e+05</td>\n",
       "</tr>\n",
       "<tr>\n",
       "  <th>Zipcode_98166</th>                   <td> 1.054e+05</td> <td> 2.82e+04</td> <td>    3.741</td> <td> 0.000</td> <td> 5.02e+04</td> <td> 1.61e+05</td>\n",
       "</tr>\n",
       "<tr>\n",
       "  <th>Zipcode_98168</th>                   <td> 3.228e+04</td> <td> 2.93e+04</td> <td>    1.100</td> <td> 0.271</td> <td>-2.52e+04</td> <td> 8.98e+04</td>\n",
       "</tr>\n",
       "<tr>\n",
       "  <th>Zipcode_98177</th>                   <td> 3.212e+05</td> <td> 5.41e+04</td> <td>    5.936</td> <td> 0.000</td> <td> 2.15e+05</td> <td> 4.27e+05</td>\n",
       "</tr>\n",
       "<tr>\n",
       "  <th>Zipcode_98178</th>                   <td> 8.494e+04</td> <td> 3.09e+04</td> <td>    2.753</td> <td> 0.006</td> <td> 2.45e+04</td> <td> 1.45e+05</td>\n",
       "</tr>\n",
       "<tr>\n",
       "  <th>Zipcode_98188</th>                   <td> 1.287e+04</td> <td> 3.12e+04</td> <td>    0.412</td> <td> 0.680</td> <td>-4.83e+04</td> <td>  7.4e+04</td>\n",
       "</tr>\n",
       "<tr>\n",
       "  <th>Zipcode_98198</th>                   <td>-7669.4327</td> <td> 2.37e+04</td> <td>   -0.323</td> <td> 0.747</td> <td>-5.42e+04</td> <td> 3.89e+04</td>\n",
       "</tr>\n",
       "<tr>\n",
       "  <th>Zipcode_98199</th>                   <td> 4.902e+05</td> <td>  4.5e+04</td> <td>   10.896</td> <td> 0.000</td> <td> 4.02e+05</td> <td> 5.78e+05</td>\n",
       "</tr>\n",
       "<tr>\n",
       "  <th>Zipcode_98223</th>                   <td> 1.009e+06</td> <td> 2.23e+05</td> <td>    4.520</td> <td> 0.000</td> <td> 5.72e+05</td> <td> 1.45e+06</td>\n",
       "</tr>\n",
       "<tr>\n",
       "  <th>Zipcode_98224</th>                   <td> 7.634e+05</td> <td> 2.32e+05</td> <td>    3.292</td> <td> 0.001</td> <td> 3.09e+05</td> <td> 1.22e+06</td>\n",
       "</tr>\n",
       "<tr>\n",
       "  <th>Zipcode_98251</th>                   <td>  9.56e+05</td> <td> 2.31e+05</td> <td>    4.145</td> <td> 0.000</td> <td> 5.04e+05</td> <td> 1.41e+06</td>\n",
       "</tr>\n",
       "<tr>\n",
       "  <th>Zipcode_98270</th>                   <td>  1.06e+06</td> <td> 3.53e+05</td> <td>    3.003</td> <td> 0.003</td> <td> 3.68e+05</td> <td> 1.75e+06</td>\n",
       "</tr>\n",
       "<tr>\n",
       "  <th>Zipcode_98271</th>                   <td> 4.923e+05</td> <td> 2.14e+05</td> <td>    2.297</td> <td> 0.022</td> <td> 7.21e+04</td> <td> 9.12e+05</td>\n",
       "</tr>\n",
       "<tr>\n",
       "  <th>Zipcode_98272</th>                   <td> 3.419e+05</td> <td> 1.51e+05</td> <td>    2.259</td> <td> 0.024</td> <td> 4.52e+04</td> <td> 6.39e+05</td>\n",
       "</tr>\n",
       "<tr>\n",
       "  <th>Zipcode_98288</th>                   <td> 9.003e+05</td> <td> 1.76e+05</td> <td>    5.104</td> <td> 0.000</td> <td> 5.55e+05</td> <td> 1.25e+06</td>\n",
       "</tr>\n",
       "<tr>\n",
       "  <th>Zipcode_98296</th>                   <td> 1.231e+05</td> <td> 3.31e+05</td> <td>    0.371</td> <td> 0.710</td> <td>-5.27e+05</td> <td> 7.73e+05</td>\n",
       "</tr>\n",
       "<tr>\n",
       "  <th>Zipcode_98338</th>                   <td> 8.102e+05</td> <td> 2.71e+05</td> <td>    2.993</td> <td> 0.003</td> <td>  2.8e+05</td> <td> 1.34e+06</td>\n",
       "</tr>\n",
       "<tr>\n",
       "  <th>Zipcode_98354</th>                   <td> 6.648e+04</td> <td> 6.96e+04</td> <td>    0.955</td> <td> 0.339</td> <td>-6.99e+04</td> <td> 2.03e+05</td>\n",
       "</tr>\n",
       "<tr>\n",
       "  <th>Zipcode_98372</th>                   <td> 6.211e+05</td> <td> 2.33e+05</td> <td>    2.662</td> <td> 0.008</td> <td> 1.64e+05</td> <td> 1.08e+06</td>\n",
       "</tr>\n",
       "<tr>\n",
       "  <th>Zipcode_98387</th>                   <td> 7.656e+05</td> <td> 3.44e+05</td> <td>    2.225</td> <td> 0.026</td> <td> 9.12e+04</td> <td> 1.44e+06</td>\n",
       "</tr>\n",
       "<tr>\n",
       "  <th>Zipcode_98422</th>                   <td>-5.519e+05</td> <td> 3.26e+05</td> <td>   -1.691</td> <td> 0.091</td> <td>-1.19e+06</td> <td> 8.77e+04</td>\n",
       "</tr>\n",
       "<tr>\n",
       "  <th>Zipcode_98663</th>                   <td> 2.468e+06</td> <td> 6.87e+05</td> <td>    3.594</td> <td> 0.000</td> <td> 1.12e+06</td> <td> 3.81e+06</td>\n",
       "</tr>\n",
       "<tr>\n",
       "  <th>grade_11 Excellent</th>              <td> 2.725e+05</td> <td> 1.89e+04</td> <td>   14.431</td> <td> 0.000</td> <td> 2.36e+05</td> <td>  3.1e+05</td>\n",
       "</tr>\n",
       "<tr>\n",
       "  <th>grade_12 Luxury</th>                 <td> 2.905e+05</td> <td> 3.21e+04</td> <td>    9.049</td> <td> 0.000</td> <td> 2.28e+05</td> <td> 3.53e+05</td>\n",
       "</tr>\n",
       "<tr>\n",
       "  <th>grade_13 Mansion</th>                <td> 2.834e+05</td> <td> 7.08e+04</td> <td>    4.002</td> <td> 0.000</td> <td> 1.45e+05</td> <td> 4.22e+05</td>\n",
       "</tr>\n",
       "<tr>\n",
       "  <th>grade_3 Poor</th>                    <td>-3.301e+05</td> <td> 1.14e+05</td> <td>   -2.902</td> <td> 0.004</td> <td>-5.53e+05</td> <td>-1.07e+05</td>\n",
       "</tr>\n",
       "<tr>\n",
       "  <th>grade_4 Low</th>                     <td>-3.183e+05</td> <td> 5.12e+04</td> <td>   -6.221</td> <td> 0.000</td> <td>-4.19e+05</td> <td>-2.18e+05</td>\n",
       "</tr>\n",
       "<tr>\n",
       "  <th>grade_5 Fair</th>                    <td>-3.944e+05</td> <td> 2.26e+04</td> <td>  -17.457</td> <td> 0.000</td> <td>-4.39e+05</td> <td> -3.5e+05</td>\n",
       "</tr>\n",
       "<tr>\n",
       "  <th>grade_6 Low Average</th>             <td>-4.273e+05</td> <td> 1.54e+04</td> <td>  -27.752</td> <td> 0.000</td> <td>-4.58e+05</td> <td>-3.97e+05</td>\n",
       "</tr>\n",
       "<tr>\n",
       "  <th>grade_7 Average</th>                 <td>  -4.6e+05</td> <td> 1.28e+04</td> <td>  -35.956</td> <td> 0.000</td> <td>-4.85e+05</td> <td>-4.35e+05</td>\n",
       "</tr>\n",
       "<tr>\n",
       "  <th>grade_8 Good</th>                    <td>-4.101e+05</td> <td> 1.14e+04</td> <td>  -36.057</td> <td> 0.000</td> <td>-4.32e+05</td> <td>-3.88e+05</td>\n",
       "</tr>\n",
       "<tr>\n",
       "  <th>grade_9 Better</th>                  <td>-2.211e+05</td> <td>  1.1e+04</td> <td>  -20.100</td> <td> 0.000</td> <td>-2.43e+05</td> <td>   -2e+05</td>\n",
       "</tr>\n",
       "</table>\n",
       "<table class=\"simpletable\">\n",
       "<tr>\n",
       "  <th>Omnibus:</th>       <td>9355.502</td> <th>  Durbin-Watson:     </th>  <td>   1.883</td> \n",
       "</tr>\n",
       "<tr>\n",
       "  <th>Prob(Omnibus):</th>  <td> 0.000</td>  <th>  Jarque-Bera (JB):  </th> <td>182438.579</td>\n",
       "</tr>\n",
       "<tr>\n",
       "  <th>Skew:</th>           <td> 1.054</td>  <th>  Prob(JB):          </th>  <td>    0.00</td> \n",
       "</tr>\n",
       "<tr>\n",
       "  <th>Kurtosis:</th>       <td>15.063</td>  <th>  Cond. No.          </th>  <td>2.44e+08</td> \n",
       "</tr>\n",
       "</table><br/><br/>Notes:<br/>[1] Standard Errors assume that the covariance matrix of the errors is correctly specified.<br/>[2] The condition number is large, 2.44e+08. This might indicate that there are<br/>strong multicollinearity or other numerical problems."
      ],
      "text/plain": [
       "<class 'statsmodels.iolib.summary.Summary'>\n",
       "\"\"\"\n",
       "                            OLS Regression Results                            \n",
       "==============================================================================\n",
       "Dep. Variable:                  price   R-squared:                       0.774\n",
       "Model:                            OLS   Adj. R-squared:                  0.773\n",
       "Method:                 Least Squares   F-statistic:                     778.0\n",
       "Date:                Tue, 27 Sep 2022   Prob (F-statistic):               0.00\n",
       "Time:                        22:03:08   Log-Likelihood:            -4.1197e+05\n",
       "No. Observations:               29200   AIC:                         8.242e+05\n",
       "Df Residuals:                   29071   BIC:                         8.253e+05\n",
       "Df Model:                         128                                         \n",
       "Covariance Type:            nonrobust                                         \n",
       "===================================================================================================\n",
       "                                      coef    std err          t      P>|t|      [0.025      0.975]\n",
       "---------------------------------------------------------------------------------------------------\n",
       "const                            -1.09e+08   1.42e+07     -7.654      0.000   -1.37e+08   -8.11e+07\n",
       "bedrooms                        -2138.4636   2894.995     -0.739      0.460   -7812.786    3535.859\n",
       "bathrooms                        3.392e+04   4049.444      8.376      0.000     2.6e+04    4.19e+04\n",
       "sqft_living                       112.3851      7.811     14.389      0.000      97.076     127.694\n",
       "sqft_lot                            1.6206      0.087     18.631      0.000       1.450       1.791\n",
       "sqft_above                        156.9582      8.268     18.983      0.000     140.752     173.165\n",
       "sqft_basement                      40.3298      6.469      6.234      0.000      27.650      53.010\n",
       "sqft_garage                        37.9972     10.134      3.749      0.000      18.133      57.861\n",
       "sqft_patio                         22.8732      9.920      2.306      0.021       3.429      42.318\n",
       "yr_built                         -500.1799    372.005     -1.345      0.179   -1229.326     228.966\n",
       "yr_renovated                       49.9695     11.760      4.249      0.000      26.920      73.019\n",
       "lat                              3.334e+05   1.15e+05      2.905      0.004    1.08e+05    5.58e+05\n",
       "long                             -7.74e+05   1.13e+05     -6.866      0.000   -9.95e+05   -5.53e+05\n",
       "yr_old                             34.0983    374.227      0.091      0.927    -699.403     767.600\n",
       "business_center                 -1.416e+04   2455.368     -5.766      0.000    -1.9e+04   -9345.928\n",
       "clinic                            1.55e+04   2415.004      6.416      0.000    1.08e+04    2.02e+04\n",
       "closest_elem_schools            -1.862e+04   5232.344     -3.558      0.000   -2.89e+04   -8361.417\n",
       "waterfront_YES                   2.858e+05   1.78e+04     16.090      0.000    2.51e+05    3.21e+05\n",
       "greenbelt_YES                    4.593e+04   1.25e+04      3.681      0.000    2.15e+04    7.04e+04\n",
       "nuisance_YES                    -4.954e+04   5255.893     -9.427      0.000   -5.98e+04   -3.92e+04\n",
       "view_EXCELLENT                   4.226e+05   1.79e+04     23.581      0.000    3.87e+05    4.58e+05\n",
       "view_FAIR                        7.602e+04   2.36e+04      3.224      0.001    2.98e+04    1.22e+05\n",
       "view_GOOD                        9.929e+04   1.35e+04      7.375      0.000    7.29e+04    1.26e+05\n",
       "view_NONE                       -1.001e+05   8197.809    -12.206      0.000   -1.16e+05    -8.4e+04\n",
       "condition_Fair                  -9.609e+04   2.22e+04     -4.320      0.000    -1.4e+05   -5.25e+04\n",
       "condition_Good                   5.703e+04   4913.134     11.607      0.000    4.74e+04    6.67e+04\n",
       "condition_Poor                  -8.188e+04   4.31e+04     -1.898      0.058   -1.66e+05    2665.181\n",
       "condition_Very Good              1.182e+05   6876.254     17.189      0.000    1.05e+05    1.32e+05\n",
       "heat_source_Gas                  1.303e+04   4684.064      2.781      0.005    3847.023    2.22e+04\n",
       "heat_source_Gas/Solar            1.369e+05   3.41e+04      4.015      0.000    7.01e+04    2.04e+05\n",
       "sewer_system_PRIVATE RESTRICTED -4.328e+05   1.49e+05     -2.909      0.004   -7.24e+05   -1.41e+05\n",
       "sewer_system_PUBLIC              3.112e+04   7595.009      4.098      0.000    1.62e+04     4.6e+04\n",
       "Zipcode_98002                    7.815e+04   2.31e+04      3.386      0.001    3.29e+04    1.23e+05\n",
       "Zipcode_98003                    -2.18e+04   2.08e+04     -1.048      0.295   -6.26e+04     1.9e+04\n",
       "Zipcode_98004                    1.544e+06    4.3e+04     35.928      0.000    1.46e+06    1.63e+06\n",
       "Zipcode_98005                    1.056e+06   4.74e+04     22.285      0.000    9.63e+05    1.15e+06\n",
       "Zipcode_98006                     8.05e+05   3.83e+04     21.000      0.000     7.3e+05     8.8e+05\n",
       "Zipcode_98007                    7.253e+05   4.86e+04     14.916      0.000     6.3e+05    8.21e+05\n",
       "Zipcode_98008                    7.625e+05   4.57e+04     16.683      0.000    6.73e+05    8.52e+05\n",
       "Zipcode_98010                    2.075e+05   3.43e+04      6.044      0.000     1.4e+05    2.75e+05\n",
       "Zipcode_98011                    4.039e+05    5.7e+04      7.089      0.000    2.92e+05    5.16e+05\n",
       "Zipcode_98014                     3.18e+05   6.37e+04      4.988      0.000    1.93e+05    4.43e+05\n",
       "Zipcode_98019                    2.797e+05   6.47e+04      4.320      0.000    1.53e+05    4.07e+05\n",
       "Zipcode_98022                    6.229e+04   3.86e+04      1.614      0.107   -1.34e+04    1.38e+05\n",
       "Zipcode_98023                   -8.763e+04   2.11e+04     -4.153      0.000   -1.29e+05   -4.63e+04\n",
       "Zipcode_98024                    6.238e+05   5.99e+04     10.419      0.000    5.06e+05    7.41e+05\n",
       "Zipcode_98027                    5.372e+05   4.11e+04     13.067      0.000    4.57e+05    6.18e+05\n",
       "Zipcode_98028                    3.052e+05   5.49e+04      5.563      0.000    1.98e+05    4.13e+05\n",
       "Zipcode_98029                    7.002e+05   4.82e+04     14.517      0.000    6.06e+05    7.95e+05\n",
       "Zipcode_98030                    1.115e+05   2.55e+04      4.373      0.000    6.15e+04    1.62e+05\n",
       "Zipcode_98031                    8.858e+04   2.42e+04      3.660      0.000    4.11e+04    1.36e+05\n",
       "Zipcode_98032                    3.264e+04   2.84e+04      1.150      0.250    -2.3e+04    8.83e+04\n",
       "Zipcode_98033                    1.058e+06   4.83e+04     21.879      0.000    9.63e+05    1.15e+06\n",
       "Zipcode_98034                     5.53e+05   5.12e+04     10.809      0.000    4.53e+05    6.53e+05\n",
       "Zipcode_98038                    3.117e+05   3.28e+04      9.499      0.000    2.47e+05    3.76e+05\n",
       "Zipcode_98039                    1.857e+06    5.8e+04     32.031      0.000    1.74e+06    1.97e+06\n",
       "Zipcode_98040                    1.121e+06   3.69e+04     30.392      0.000    1.05e+06    1.19e+06\n",
       "Zipcode_98042                    1.847e+05   2.65e+04      6.984      0.000    1.33e+05    2.37e+05\n",
       "Zipcode_98045                      5.2e+05   6.26e+04      8.301      0.000    3.97e+05    6.43e+05\n",
       "Zipcode_98047                    6.913e+04   3.99e+04      1.733      0.083   -9076.940    1.47e+05\n",
       "Zipcode_98050                    5.726e+05   2.35e+05      2.439      0.015    1.12e+05    1.03e+06\n",
       "Zipcode_98051                    2.469e+05   5.47e+04      4.512      0.000     1.4e+05    3.54e+05\n",
       "Zipcode_98052                    7.451e+05    5.1e+04     14.601      0.000    6.45e+05    8.45e+05\n",
       "Zipcode_98053                    6.469e+05   5.58e+04     11.588      0.000    5.37e+05    7.56e+05\n",
       "Zipcode_98055                    8.615e+04   3.17e+04      2.718      0.007     2.4e+04    1.48e+05\n",
       "Zipcode_98056                    2.999e+05   3.27e+04      9.161      0.000    2.36e+05    3.64e+05\n",
       "Zipcode_98057                    7.567e+04   3.89e+04      1.947      0.052    -496.363    1.52e+05\n",
       "Zipcode_98058                    1.528e+05   2.78e+04      5.497      0.000    9.83e+04    2.07e+05\n",
       "Zipcode_98059                    3.287e+05   3.28e+04     10.030      0.000    2.64e+05    3.93e+05\n",
       "Zipcode_98065                    5.158e+05   5.69e+04      9.058      0.000    4.04e+05    6.27e+05\n",
       "Zipcode_98070                    1.401e+04   4.38e+04      0.320      0.749   -7.18e+04    9.98e+04\n",
       "Zipcode_98072                    5.225e+05   5.79e+04      9.026      0.000    4.09e+05    6.36e+05\n",
       "Zipcode_98074                    7.299e+05   4.98e+04     14.667      0.000    6.32e+05    8.27e+05\n",
       "Zipcode_98075                    7.464e+05   4.82e+04     15.471      0.000    6.52e+05    8.41e+05\n",
       "Zipcode_98077                    5.266e+05   6.11e+04      8.620      0.000    4.07e+05    6.46e+05\n",
       "Zipcode_98092                    2.524e+04   2.18e+04      1.157      0.247   -1.75e+04     6.8e+04\n",
       "Zipcode_98102                    6.102e+05   4.79e+04     12.730      0.000    5.16e+05    7.04e+05\n",
       "Zipcode_98103                    4.549e+05   4.46e+04     10.198      0.000    3.67e+05    5.42e+05\n",
       "Zipcode_98105                    5.954e+05   4.59e+04     12.976      0.000    5.05e+05    6.85e+05\n",
       "Zipcode_98106                    1.104e+05   3.26e+04      3.388      0.001    4.65e+04    1.74e+05\n",
       "Zipcode_98107                    3.972e+05   4.58e+04      8.671      0.000    3.07e+05    4.87e+05\n",
       "Zipcode_98108                    1.765e+05   3.55e+04      4.966      0.000    1.07e+05    2.46e+05\n",
       "Zipcode_98109                    5.931e+05    4.9e+04     12.112      0.000    4.97e+05    6.89e+05\n",
       "Zipcode_98112                    7.671e+05    4.3e+04     17.846      0.000    6.83e+05    8.51e+05\n",
       "Zipcode_98115                    5.167e+05   4.56e+04     11.332      0.000    4.27e+05    6.06e+05\n",
       "Zipcode_98116                    3.067e+05   3.83e+04      7.997      0.000    2.32e+05    3.82e+05\n",
       "Zipcode_98117                    4.038e+05   4.64e+04      8.705      0.000    3.13e+05    4.95e+05\n",
       "Zipcode_98118                    2.603e+05   3.24e+04      8.041      0.000    1.97e+05    3.24e+05\n",
       "Zipcode_98119                      5.5e+05   4.55e+04     12.082      0.000    4.61e+05    6.39e+05\n",
       "Zipcode_98122                    4.383e+05   3.98e+04     11.010      0.000     3.6e+05    5.16e+05\n",
       "Zipcode_98125                    3.397e+05   4.96e+04      6.843      0.000    2.42e+05    4.37e+05\n",
       "Zipcode_98126                    1.713e+05   3.46e+04      4.955      0.000    1.04e+05    2.39e+05\n",
       "Zipcode_98133                    2.249e+05   5.18e+04      4.345      0.000    1.23e+05    3.26e+05\n",
       "Zipcode_98136                    2.984e+05    3.6e+04      8.287      0.000    2.28e+05    3.69e+05\n",
       "Zipcode_98144                    3.828e+05   3.73e+04     10.263      0.000     3.1e+05    4.56e+05\n",
       "Zipcode_98146                    1.632e+05   3.04e+04      5.371      0.000    1.04e+05    2.23e+05\n",
       "Zipcode_98148                    4.382e+04   3.92e+04      1.118      0.264    -3.3e+04    1.21e+05\n",
       "Zipcode_98155                    2.998e+05   5.38e+04      5.570      0.000    1.94e+05    4.05e+05\n",
       "Zipcode_98166                    1.054e+05   2.82e+04      3.741      0.000    5.02e+04    1.61e+05\n",
       "Zipcode_98168                    3.228e+04   2.93e+04      1.100      0.271   -2.52e+04    8.98e+04\n",
       "Zipcode_98177                    3.212e+05   5.41e+04      5.936      0.000    2.15e+05    4.27e+05\n",
       "Zipcode_98178                    8.494e+04   3.09e+04      2.753      0.006    2.45e+04    1.45e+05\n",
       "Zipcode_98188                    1.287e+04   3.12e+04      0.412      0.680   -4.83e+04     7.4e+04\n",
       "Zipcode_98198                   -7669.4327   2.37e+04     -0.323      0.747   -5.42e+04    3.89e+04\n",
       "Zipcode_98199                    4.902e+05    4.5e+04     10.896      0.000    4.02e+05    5.78e+05\n",
       "Zipcode_98223                    1.009e+06   2.23e+05      4.520      0.000    5.72e+05    1.45e+06\n",
       "Zipcode_98224                    7.634e+05   2.32e+05      3.292      0.001    3.09e+05    1.22e+06\n",
       "Zipcode_98251                     9.56e+05   2.31e+05      4.145      0.000    5.04e+05    1.41e+06\n",
       "Zipcode_98270                     1.06e+06   3.53e+05      3.003      0.003    3.68e+05    1.75e+06\n",
       "Zipcode_98271                    4.923e+05   2.14e+05      2.297      0.022    7.21e+04    9.12e+05\n",
       "Zipcode_98272                    3.419e+05   1.51e+05      2.259      0.024    4.52e+04    6.39e+05\n",
       "Zipcode_98288                    9.003e+05   1.76e+05      5.104      0.000    5.55e+05    1.25e+06\n",
       "Zipcode_98296                    1.231e+05   3.31e+05      0.371      0.710   -5.27e+05    7.73e+05\n",
       "Zipcode_98338                    8.102e+05   2.71e+05      2.993      0.003     2.8e+05    1.34e+06\n",
       "Zipcode_98354                    6.648e+04   6.96e+04      0.955      0.339   -6.99e+04    2.03e+05\n",
       "Zipcode_98372                    6.211e+05   2.33e+05      2.662      0.008    1.64e+05    1.08e+06\n",
       "Zipcode_98387                    7.656e+05   3.44e+05      2.225      0.026    9.12e+04    1.44e+06\n",
       "Zipcode_98422                   -5.519e+05   3.26e+05     -1.691      0.091   -1.19e+06    8.77e+04\n",
       "Zipcode_98663                    2.468e+06   6.87e+05      3.594      0.000    1.12e+06    3.81e+06\n",
       "grade_11 Excellent               2.725e+05   1.89e+04     14.431      0.000    2.36e+05     3.1e+05\n",
       "grade_12 Luxury                  2.905e+05   3.21e+04      9.049      0.000    2.28e+05    3.53e+05\n",
       "grade_13 Mansion                 2.834e+05   7.08e+04      4.002      0.000    1.45e+05    4.22e+05\n",
       "grade_3 Poor                    -3.301e+05   1.14e+05     -2.902      0.004   -5.53e+05   -1.07e+05\n",
       "grade_4 Low                     -3.183e+05   5.12e+04     -6.221      0.000   -4.19e+05   -2.18e+05\n",
       "grade_5 Fair                    -3.944e+05   2.26e+04    -17.457      0.000   -4.39e+05    -3.5e+05\n",
       "grade_6 Low Average             -4.273e+05   1.54e+04    -27.752      0.000   -4.58e+05   -3.97e+05\n",
       "grade_7 Average                   -4.6e+05   1.28e+04    -35.956      0.000   -4.85e+05   -4.35e+05\n",
       "grade_8 Good                    -4.101e+05   1.14e+04    -36.057      0.000   -4.32e+05   -3.88e+05\n",
       "grade_9 Better                  -2.211e+05    1.1e+04    -20.100      0.000   -2.43e+05      -2e+05\n",
       "==============================================================================\n",
       "Omnibus:                     9355.502   Durbin-Watson:                   1.883\n",
       "Prob(Omnibus):                  0.000   Jarque-Bera (JB):           182438.579\n",
       "Skew:                           1.054   Prob(JB):                         0.00\n",
       "Kurtosis:                      15.063   Cond. No.                     2.44e+08\n",
       "==============================================================================\n",
       "\n",
       "Notes:\n",
       "[1] Standard Errors assume that the covariance matrix of the errors is correctly specified.\n",
       "[2] The condition number is large, 2.44e+08. This might indicate that there are\n",
       "strong multicollinearity or other numerical problems.\n",
       "\"\"\""
      ]
     },
     "execution_count": 361,
     "metadata": {},
     "output_type": "execute_result"
    }
   ],
   "source": [
    "X1=dum_df.drop(labels=['selldate', 'price', 'address', \n",
    "                       'sewer_system_PUBLIC RESTRICTED',\n",
    "                      'heat_source_Oil', 'heat_source_Oil/Solar', 'heat_source_Other',\n",
    "                      'floors', 'grade_2 Substandard', 'heat_source_Electricity/Solar'], axis=1)\n",
    "y=dum_df.price\n",
    "\n",
    "model_1 = sm.OLS(y, sm.add_constant(X1))\n",
    "results1 = model_1.fit()\n",
    "results1.summary()"
   ]
  },
  {
   "cell_type": "code",
   "execution_count": 362,
   "metadata": {},
   "outputs": [
    {
     "data": {
      "text/plain": [
       "209580.91953265027"
      ]
     },
     "execution_count": 362,
     "metadata": {},
     "output_type": "execute_result"
    }
   ],
   "source": [
    "mae = mean_absolute_error(y, results1.predict(sm.add_constant(X1)))\n",
    "mae"
   ]
  },
  {
   "cell_type": "markdown",
   "metadata": {},
   "source": [
    "Well, we have a much higher R-squared number after incorporating the dummified categorical predictors, as this model claims to explain 64 percent of the variance in `price`.   The constant is no longer statistically significant, so we need to adjust our figures to more accurately account for why that is happening.  We should next remove columns that are statistically significant.  "
   ]
  },
  {
   "cell_type": "code",
   "execution_count": 363,
   "metadata": {},
   "outputs": [
    {
     "name": "stdout",
     "output_type": "stream",
     "text": [
      "yr_old 0.9274004148169066\n",
      "Zipcode_98070 0.7498220863548934\n",
      "Zipcode_98188 0.7319829789033864\n",
      "Zipcode_98296 0.7431289981290494\n",
      "Zipcode_98198 0.4733324040455633\n",
      "bedrooms 0.453107476566586\n",
      "Zipcode_98354 0.32814281903723497\n",
      "Zipcode_98148 0.24903884995693631\n",
      "Zipcode_98168 0.27614617986257783\n",
      "Zipcode_98032 0.34272816622544877\n",
      "Zipcode_98092 0.3705387831801593\n",
      "Zipcode_98047 0.12106762246219673\n",
      "Zipcode_98022 0.13155983197798796\n",
      "Zipcode_98057 0.12447851647615113\n",
      "Zipcode_98422 0.09065668719982921\n",
      "Zipcode_98272 0.07144974209155949\n",
      "Zipcode_98271 0.08278665047211924\n",
      "Zipcode_98003 0.10721221863891041\n",
      "Zipcode_98055 0.06745190703828846\n",
      "Zipcode_98178 0.06696003587367219\n",
      "Zipcode_98224 0.07011594370378564\n",
      "Zipcode_98050 0.06721663374630879\n",
      "condition_Poor 0.061570007149236945\n"
     ]
    },
    {
     "data": {
      "text/plain": [
       "['bathrooms',\n",
       " 'sqft_living',\n",
       " 'sqft_lot',\n",
       " 'sqft_above',\n",
       " 'sqft_basement',\n",
       " 'sqft_garage',\n",
       " 'sqft_patio',\n",
       " 'yr_built',\n",
       " 'yr_renovated',\n",
       " 'lat',\n",
       " 'long',\n",
       " 'business_center',\n",
       " 'clinic',\n",
       " 'closest_elem_schools',\n",
       " 'waterfront_YES',\n",
       " 'greenbelt_YES',\n",
       " 'nuisance_YES',\n",
       " 'view_EXCELLENT',\n",
       " 'view_FAIR',\n",
       " 'view_GOOD',\n",
       " 'view_NONE',\n",
       " 'condition_Fair',\n",
       " 'condition_Good',\n",
       " 'condition_Very Good',\n",
       " 'heat_source_Gas',\n",
       " 'heat_source_Gas/Solar',\n",
       " 'sewer_system_PRIVATE RESTRICTED',\n",
       " 'sewer_system_PUBLIC',\n",
       " 'Zipcode_98002',\n",
       " 'Zipcode_98004',\n",
       " 'Zipcode_98005',\n",
       " 'Zipcode_98006',\n",
       " 'Zipcode_98007',\n",
       " 'Zipcode_98008',\n",
       " 'Zipcode_98010',\n",
       " 'Zipcode_98011',\n",
       " 'Zipcode_98014',\n",
       " 'Zipcode_98019',\n",
       " 'Zipcode_98023',\n",
       " 'Zipcode_98024',\n",
       " 'Zipcode_98027',\n",
       " 'Zipcode_98028',\n",
       " 'Zipcode_98029',\n",
       " 'Zipcode_98030',\n",
       " 'Zipcode_98031',\n",
       " 'Zipcode_98033',\n",
       " 'Zipcode_98034',\n",
       " 'Zipcode_98038',\n",
       " 'Zipcode_98039',\n",
       " 'Zipcode_98040',\n",
       " 'Zipcode_98042',\n",
       " 'Zipcode_98045',\n",
       " 'Zipcode_98051',\n",
       " 'Zipcode_98052',\n",
       " 'Zipcode_98053',\n",
       " 'Zipcode_98056',\n",
       " 'Zipcode_98058',\n",
       " 'Zipcode_98059',\n",
       " 'Zipcode_98065',\n",
       " 'Zipcode_98072',\n",
       " 'Zipcode_98074',\n",
       " 'Zipcode_98075',\n",
       " 'Zipcode_98077',\n",
       " 'Zipcode_98102',\n",
       " 'Zipcode_98103',\n",
       " 'Zipcode_98105',\n",
       " 'Zipcode_98106',\n",
       " 'Zipcode_98107',\n",
       " 'Zipcode_98108',\n",
       " 'Zipcode_98109',\n",
       " 'Zipcode_98112',\n",
       " 'Zipcode_98115',\n",
       " 'Zipcode_98116',\n",
       " 'Zipcode_98117',\n",
       " 'Zipcode_98118',\n",
       " 'Zipcode_98119',\n",
       " 'Zipcode_98122',\n",
       " 'Zipcode_98125',\n",
       " 'Zipcode_98126',\n",
       " 'Zipcode_98133',\n",
       " 'Zipcode_98136',\n",
       " 'Zipcode_98144',\n",
       " 'Zipcode_98146',\n",
       " 'Zipcode_98155',\n",
       " 'Zipcode_98166',\n",
       " 'Zipcode_98177',\n",
       " 'Zipcode_98199',\n",
       " 'Zipcode_98223',\n",
       " 'Zipcode_98251',\n",
       " 'Zipcode_98270',\n",
       " 'Zipcode_98288',\n",
       " 'Zipcode_98338',\n",
       " 'Zipcode_98372',\n",
       " 'Zipcode_98387',\n",
       " 'Zipcode_98663',\n",
       " 'grade_11 Excellent',\n",
       " 'grade_12 Luxury',\n",
       " 'grade_13 Mansion',\n",
       " 'grade_3 Poor',\n",
       " 'grade_4 Low',\n",
       " 'grade_5 Fair',\n",
       " 'grade_6 Low Average',\n",
       " 'grade_7 Average',\n",
       " 'grade_8 Good',\n",
       " 'grade_9 Better']"
      ]
     },
     "execution_count": 363,
     "metadata": {},
     "output_type": "execute_result"
    }
   ],
   "source": [
    "def backward_regression(X1, y,\n",
    "                        initial_list=[], \n",
    "                        threshold_in=0.01, \n",
    "                        threshold_out = 0.05, \n",
    "                        verbose=True):\n",
    "    included=list(X1.columns)\n",
    "    while True:\n",
    "        changed=False\n",
    "        model = sm.OLS(y, sm.add_constant(pd.DataFrame(X1[included]))).fit()\n",
    "        # use all coefs except intercept\n",
    "        pvalues = model.pvalues.iloc[1:]\n",
    "        worst_pval = pvalues.max() # null if pvalues is empty\n",
    "        if worst_pval > threshold_out:\n",
    "            changed=True\n",
    "            worst_feature = pvalues.idxmax()\n",
    "            included.remove(worst_feature)\n",
    "            if verbose:\n",
    "                print(worst_feature, worst_pval)\n",
    "        if not changed:\n",
    "            break\n",
    "    return included\n",
    "\n",
    "(backward_regression(X1, y))"
   ]
  },
  {
   "cell_type": "code",
   "execution_count": 364,
   "metadata": {},
   "outputs": [],
   "source": [
    "included = ['bathrooms',\n",
    " 'sqft_living',\n",
    " 'sqft_lot',\n",
    " 'sqft_above',\n",
    " 'sqft_basement',\n",
    " 'sqft_garage',\n",
    " 'sqft_patio',\n",
    " 'yr_built',\n",
    " 'yr_renovated',\n",
    " 'lat',\n",
    " 'long',\n",
    " 'business_center',\n",
    " 'clinic',\n",
    " 'closest_elem_schools',\n",
    " 'waterfront_YES',\n",
    " 'greenbelt_YES',\n",
    " 'nuisance_YES',\n",
    " 'view_EXCELLENT',\n",
    " 'view_FAIR',\n",
    " 'view_GOOD',\n",
    " 'view_NONE',\n",
    " 'condition_Fair',\n",
    " 'condition_Good',\n",
    " 'condition_Very Good',\n",
    " 'heat_source_Gas',\n",
    " 'heat_source_Gas/Solar',\n",
    " 'sewer_system_PRIVATE RESTRICTED',\n",
    " 'sewer_system_PUBLIC',\n",
    " 'Zipcode_98002',\n",
    " 'Zipcode_98004',\n",
    " 'Zipcode_98005',\n",
    " 'Zipcode_98006',\n",
    " 'Zipcode_98007',\n",
    " 'Zipcode_98008',\n",
    " 'Zipcode_98010',\n",
    " 'Zipcode_98011',\n",
    " 'Zipcode_98014',\n",
    " 'Zipcode_98019',\n",
    " 'Zipcode_98023',\n",
    " 'Zipcode_98024',\n",
    " 'Zipcode_98027',\n",
    " 'Zipcode_98028',\n",
    " 'Zipcode_98029',\n",
    " 'Zipcode_98030',\n",
    " 'Zipcode_98031',\n",
    " 'Zipcode_98033',\n",
    " 'Zipcode_98034',\n",
    " 'Zipcode_98038',\n",
    " 'Zipcode_98039',\n",
    " 'Zipcode_98040',\n",
    " 'Zipcode_98042',\n",
    " 'Zipcode_98045',\n",
    " 'Zipcode_98051',\n",
    " 'Zipcode_98052',\n",
    " 'Zipcode_98053',\n",
    " 'Zipcode_98056',\n",
    " 'Zipcode_98058',\n",
    " 'Zipcode_98059',\n",
    " 'Zipcode_98065',\n",
    " 'Zipcode_98072',\n",
    " 'Zipcode_98074',\n",
    " 'Zipcode_98075',\n",
    " 'Zipcode_98077',\n",
    " 'Zipcode_98102',\n",
    " 'Zipcode_98103',\n",
    " 'Zipcode_98105',\n",
    " 'Zipcode_98106',\n",
    " 'Zipcode_98107',\n",
    " 'Zipcode_98108',\n",
    " 'Zipcode_98109',\n",
    " 'Zipcode_98112',\n",
    " 'Zipcode_98115',\n",
    " 'Zipcode_98116',\n",
    " 'Zipcode_98117',\n",
    " 'Zipcode_98118',\n",
    " 'Zipcode_98119',\n",
    " 'Zipcode_98122',\n",
    " 'Zipcode_98125',\n",
    " 'Zipcode_98126',\n",
    " 'Zipcode_98133',\n",
    " 'Zipcode_98136',\n",
    " 'Zipcode_98144',\n",
    " 'Zipcode_98146',\n",
    " 'Zipcode_98155',\n",
    " 'Zipcode_98166',\n",
    " 'Zipcode_98177',\n",
    " 'Zipcode_98199',\n",
    " 'Zipcode_98223',\n",
    " 'Zipcode_98251',\n",
    " 'Zipcode_98270',\n",
    " 'Zipcode_98288',\n",
    " 'Zipcode_98338',\n",
    " 'Zipcode_98372',\n",
    " 'Zipcode_98387',\n",
    " 'Zipcode_98663',\n",
    " 'grade_11 Excellent',\n",
    " 'grade_12 Luxury',\n",
    " 'grade_13 Mansion',\n",
    " 'grade_3 Poor',\n",
    " 'grade_4 Low',\n",
    " 'grade_5 Fair',\n",
    " 'grade_6 Low Average',\n",
    " 'grade_7 Average',\n",
    " 'grade_8 Good',\n",
    " 'grade_9 Better']"
   ]
  },
  {
   "cell_type": "code",
   "execution_count": 365,
   "metadata": {},
   "outputs": [
    {
     "data": {
      "text/plain": [
       "['bedrooms',\n",
       " 'yr_old',\n",
       " 'condition_Poor',\n",
       " 'Zipcode_98003',\n",
       " 'Zipcode_98022',\n",
       " 'Zipcode_98032',\n",
       " 'Zipcode_98047',\n",
       " 'Zipcode_98050',\n",
       " 'Zipcode_98055',\n",
       " 'Zipcode_98057',\n",
       " 'Zipcode_98070',\n",
       " 'Zipcode_98092',\n",
       " 'Zipcode_98148',\n",
       " 'Zipcode_98168',\n",
       " 'Zipcode_98178',\n",
       " 'Zipcode_98188',\n",
       " 'Zipcode_98198',\n",
       " 'Zipcode_98224',\n",
       " 'Zipcode_98271',\n",
       " 'Zipcode_98272',\n",
       " 'Zipcode_98296',\n",
       " 'Zipcode_98354',\n",
       " 'Zipcode_98422']"
      ]
     },
     "execution_count": 365,
     "metadata": {},
     "output_type": "execute_result"
    }
   ],
   "source": [
    "Out = [x for x in X1.columns if x not in included]\n",
    "Out"
   ]
  },
  {
   "cell_type": "code",
   "execution_count": 366,
   "metadata": {},
   "outputs": [],
   "source": [
    "\n",
    "cats = df[['waterfront','greenbelt', 'nuisance', 'view', 'condition', 'heat_source', 'sewer_system', 'grade', 'Zipcode']]\n",
    "cats1 = df[['selldate','price','waterfront','greenbelt', 'nuisance', 'view', 'condition', 'heat_source', 'sewer_system', 'address', 'Zipcode', 'grade']]"
   ]
  },
  {
   "cell_type": "code",
   "execution_count": 367,
   "metadata": {},
   "outputs": [],
   "source": [
    "cat_cols = cats.columns\n",
    "dum_df1 = pd.get_dummies(data=df, columns=cat_cols, drop_first=True)"
   ]
  },
  {
   "cell_type": "code",
   "execution_count": 368,
   "metadata": {
    "scrolled": true
   },
   "outputs": [
    {
     "data": {
      "text/html": [
       "<table class=\"simpletable\">\n",
       "<caption>OLS Regression Results</caption>\n",
       "<tr>\n",
       "  <th>Dep. Variable:</th>          <td>price</td>      <th>  R-squared:         </th>  <td>   0.774</td>  \n",
       "</tr>\n",
       "<tr>\n",
       "  <th>Model:</th>                   <td>OLS</td>       <th>  Adj. R-squared:    </th>  <td>   0.773</td>  \n",
       "</tr>\n",
       "<tr>\n",
       "  <th>Method:</th>             <td>Least Squares</td>  <th>  F-statistic:       </th>  <td>   947.4</td>  \n",
       "</tr>\n",
       "<tr>\n",
       "  <th>Date:</th>             <td>Tue, 27 Sep 2022</td> <th>  Prob (F-statistic):</th>   <td>  0.00</td>   \n",
       "</tr>\n",
       "<tr>\n",
       "  <th>Time:</th>                 <td>22:05:06</td>     <th>  Log-Likelihood:    </th> <td>-4.1199e+05</td>\n",
       "</tr>\n",
       "<tr>\n",
       "  <th>No. Observations:</th>      <td> 29200</td>      <th>  AIC:               </th>  <td>8.242e+05</td> \n",
       "</tr>\n",
       "<tr>\n",
       "  <th>Df Residuals:</th>          <td> 29094</td>      <th>  BIC:               </th>  <td>8.251e+05</td> \n",
       "</tr>\n",
       "<tr>\n",
       "  <th>Df Model:</th>              <td>   105</td>      <th>                     </th>      <td> </td>     \n",
       "</tr>\n",
       "<tr>\n",
       "  <th>Covariance Type:</th>      <td>nonrobust</td>    <th>                     </th>      <td> </td>     \n",
       "</tr>\n",
       "</table>\n",
       "<table class=\"simpletable\">\n",
       "<tr>\n",
       "                 <td></td>                    <th>coef</th>     <th>std err</th>      <th>t</th>      <th>P>|t|</th>  <th>[0.025</th>    <th>0.975]</th>  \n",
       "</tr>\n",
       "<tr>\n",
       "  <th>const</th>                           <td>-9.168e+07</td> <td> 6.38e+06</td> <td>  -14.367</td> <td> 0.000</td> <td>-1.04e+08</td> <td>-7.92e+07</td>\n",
       "</tr>\n",
       "<tr>\n",
       "  <th>bathrooms</th>                       <td> 3.325e+04</td> <td> 3926.369</td> <td>    8.469</td> <td> 0.000</td> <td> 2.56e+04</td> <td> 4.09e+04</td>\n",
       "</tr>\n",
       "<tr>\n",
       "  <th>sqft_living</th>                     <td>  111.3424</td> <td>    7.690</td> <td>   14.479</td> <td> 0.000</td> <td>   96.270</td> <td>  126.415</td>\n",
       "</tr>\n",
       "<tr>\n",
       "  <th>sqft_lot</th>                        <td>    1.5910</td> <td>    0.086</td> <td>   18.579</td> <td> 0.000</td> <td>    1.423</td> <td>    1.759</td>\n",
       "</tr>\n",
       "<tr>\n",
       "  <th>sqft_above</th>                      <td>  156.6987</td> <td>    8.235</td> <td>   19.028</td> <td> 0.000</td> <td>  140.557</td> <td>  172.840</td>\n",
       "</tr>\n",
       "<tr>\n",
       "  <th>sqft_basement</th>                   <td>   40.4192</td> <td>    6.450</td> <td>    6.267</td> <td> 0.000</td> <td>   27.777</td> <td>   53.061</td>\n",
       "</tr>\n",
       "<tr>\n",
       "  <th>sqft_garage</th>                     <td>   37.8263</td> <td>   10.109</td> <td>    3.742</td> <td> 0.000</td> <td>   18.012</td> <td>   57.641</td>\n",
       "</tr>\n",
       "<tr>\n",
       "  <th>sqft_patio</th>                      <td>   21.6679</td> <td>    9.906</td> <td>    2.187</td> <td> 0.029</td> <td>    2.252</td> <td>   41.084</td>\n",
       "</tr>\n",
       "<tr>\n",
       "  <th>yr_built</th>                        <td> -524.9637</td> <td>  102.244</td> <td>   -5.134</td> <td> 0.000</td> <td> -725.366</td> <td> -324.561</td>\n",
       "</tr>\n",
       "<tr>\n",
       "  <th>yr_renovated</th>                    <td>   49.3283</td> <td>    4.921</td> <td>   10.024</td> <td> 0.000</td> <td>   39.683</td> <td>   58.974</td>\n",
       "</tr>\n",
       "<tr>\n",
       "  <th>lat</th>                             <td> 5.896e+05</td> <td> 5.36e+04</td> <td>   11.009</td> <td> 0.000</td> <td> 4.85e+05</td> <td> 6.95e+05</td>\n",
       "</tr>\n",
       "<tr>\n",
       "  <th>long</th>                            <td>-5.335e+05</td> <td> 5.42e+04</td> <td>   -9.845</td> <td> 0.000</td> <td> -6.4e+05</td> <td>-4.27e+05</td>\n",
       "</tr>\n",
       "<tr>\n",
       "  <th>business_center</th>                 <td>-1.532e+04</td> <td> 1989.343</td> <td>   -7.700</td> <td> 0.000</td> <td>-1.92e+04</td> <td>-1.14e+04</td>\n",
       "</tr>\n",
       "<tr>\n",
       "  <th>clinic</th>                          <td> 1.617e+04</td> <td> 1675.345</td> <td>    9.651</td> <td> 0.000</td> <td> 1.29e+04</td> <td> 1.95e+04</td>\n",
       "</tr>\n",
       "<tr>\n",
       "  <th>closest_elem_schools</th>            <td>-1.073e+04</td> <td> 4052.657</td> <td>   -2.649</td> <td> 0.008</td> <td>-1.87e+04</td> <td>-2791.224</td>\n",
       "</tr>\n",
       "<tr>\n",
       "  <th>waterfront_YES</th>                  <td> 2.831e+05</td> <td> 1.77e+04</td> <td>   16.002</td> <td> 0.000</td> <td> 2.48e+05</td> <td> 3.18e+05</td>\n",
       "</tr>\n",
       "<tr>\n",
       "  <th>greenbelt_YES</th>                   <td> 4.547e+04</td> <td> 1.25e+04</td> <td>    3.644</td> <td> 0.000</td> <td>  2.1e+04</td> <td> 6.99e+04</td>\n",
       "</tr>\n",
       "<tr>\n",
       "  <th>nuisance_YES</th>                    <td>-4.945e+04</td> <td> 5244.863</td> <td>   -9.429</td> <td> 0.000</td> <td>-5.97e+04</td> <td>-3.92e+04</td>\n",
       "</tr>\n",
       "<tr>\n",
       "  <th>view_EXCELLENT</th>                  <td> 4.246e+05</td> <td> 1.79e+04</td> <td>   23.726</td> <td> 0.000</td> <td>  3.9e+05</td> <td>  4.6e+05</td>\n",
       "</tr>\n",
       "<tr>\n",
       "  <th>view_FAIR</th>                       <td> 7.485e+04</td> <td> 2.36e+04</td> <td>    3.176</td> <td> 0.001</td> <td> 2.87e+04</td> <td> 1.21e+05</td>\n",
       "</tr>\n",
       "<tr>\n",
       "  <th>view_GOOD</th>                       <td> 9.934e+04</td> <td> 1.34e+04</td> <td>    7.392</td> <td> 0.000</td> <td>  7.3e+04</td> <td> 1.26e+05</td>\n",
       "</tr>\n",
       "<tr>\n",
       "  <th>view_NONE</th>                       <td>-1.005e+05</td> <td> 8175.692</td> <td>  -12.287</td> <td> 0.000</td> <td>-1.16e+05</td> <td>-8.44e+04</td>\n",
       "</tr>\n",
       "<tr>\n",
       "  <th>condition_Fair</th>                  <td>-9.237e+04</td> <td> 2.22e+04</td> <td>   -4.159</td> <td> 0.000</td> <td>-1.36e+05</td> <td>-4.88e+04</td>\n",
       "</tr>\n",
       "<tr>\n",
       "  <th>condition_Good</th>                  <td> 5.716e+04</td> <td> 4885.745</td> <td>   11.699</td> <td> 0.000</td> <td> 4.76e+04</td> <td> 6.67e+04</td>\n",
       "</tr>\n",
       "<tr>\n",
       "  <th>condition_Very Good</th>             <td> 1.193e+05</td> <td> 6849.604</td> <td>   17.416</td> <td> 0.000</td> <td> 1.06e+05</td> <td> 1.33e+05</td>\n",
       "</tr>\n",
       "<tr>\n",
       "  <th>heat_source_Gas</th>                 <td> 1.291e+04</td> <td> 4674.067</td> <td>    2.762</td> <td> 0.006</td> <td> 3748.878</td> <td> 2.21e+04</td>\n",
       "</tr>\n",
       "<tr>\n",
       "  <th>heat_source_Gas/Solar</th>           <td> 1.363e+05</td> <td> 3.41e+04</td> <td>    3.999</td> <td> 0.000</td> <td> 6.95e+04</td> <td> 2.03e+05</td>\n",
       "</tr>\n",
       "<tr>\n",
       "  <th>sewer_system_PRIVATE RESTRICTED</th> <td>-4.352e+05</td> <td> 1.49e+05</td> <td>   -2.924</td> <td> 0.003</td> <td>-7.27e+05</td> <td>-1.44e+05</td>\n",
       "</tr>\n",
       "<tr>\n",
       "  <th>sewer_system_PUBLIC</th>             <td> 3.352e+04</td> <td> 7469.292</td> <td>    4.487</td> <td> 0.000</td> <td> 1.89e+04</td> <td> 4.82e+04</td>\n",
       "</tr>\n",
       "<tr>\n",
       "  <th>Zipcode_98002</th>                   <td>  6.02e+04</td> <td> 1.89e+04</td> <td>    3.184</td> <td> 0.001</td> <td> 2.31e+04</td> <td> 9.73e+04</td>\n",
       "</tr>\n",
       "<tr>\n",
       "  <th>Zipcode_98004</th>                   <td> 1.444e+06</td> <td> 2.38e+04</td> <td>   60.607</td> <td> 0.000</td> <td>  1.4e+06</td> <td> 1.49e+06</td>\n",
       "</tr>\n",
       "<tr>\n",
       "  <th>Zipcode_98005</th>                   <td> 9.475e+05</td> <td> 2.95e+04</td> <td>   32.102</td> <td> 0.000</td> <td>  8.9e+05</td> <td> 1.01e+06</td>\n",
       "</tr>\n",
       "<tr>\n",
       "  <th>Zipcode_98006</th>                   <td>  7.06e+05</td> <td> 2.05e+04</td> <td>   34.421</td> <td> 0.000</td> <td> 6.66e+05</td> <td> 7.46e+05</td>\n",
       "</tr>\n",
       "<tr>\n",
       "  <th>Zipcode_98007</th>                   <td>  6.13e+05</td> <td> 3.13e+04</td> <td>   19.604</td> <td> 0.000</td> <td> 5.52e+05</td> <td> 6.74e+05</td>\n",
       "</tr>\n",
       "<tr>\n",
       "  <th>Zipcode_98008</th>                   <td> 6.425e+05</td> <td> 2.42e+04</td> <td>   26.584</td> <td> 0.000</td> <td> 5.95e+05</td> <td>  6.9e+05</td>\n",
       "</tr>\n",
       "<tr>\n",
       "  <th>Zipcode_98010</th>                   <td> 1.414e+05</td> <td>  2.4e+04</td> <td>    5.887</td> <td> 0.000</td> <td> 9.43e+04</td> <td> 1.88e+05</td>\n",
       "</tr>\n",
       "<tr>\n",
       "  <th>Zipcode_98011</th>                   <td> 2.692e+05</td> <td> 3.02e+04</td> <td>    8.907</td> <td> 0.000</td> <td>  2.1e+05</td> <td> 3.28e+05</td>\n",
       "</tr>\n",
       "<tr>\n",
       "  <th>Zipcode_98014</th>                   <td> 1.356e+05</td> <td>  3.9e+04</td> <td>    3.474</td> <td> 0.001</td> <td> 5.91e+04</td> <td> 2.12e+05</td>\n",
       "</tr>\n",
       "<tr>\n",
       "  <th>Zipcode_98019</th>                   <td> 8.772e+04</td> <td> 3.61e+04</td> <td>    2.430</td> <td> 0.015</td> <td>  1.7e+04</td> <td> 1.58e+05</td>\n",
       "</tr>\n",
       "<tr>\n",
       "  <th>Zipcode_98023</th>                   <td>-6.929e+04</td> <td> 1.53e+04</td> <td>   -4.521</td> <td> 0.000</td> <td>-9.93e+04</td> <td>-3.92e+04</td>\n",
       "</tr>\n",
       "<tr>\n",
       "  <th>Zipcode_98024</th>                   <td> 4.652e+05</td> <td> 3.94e+04</td> <td>   11.816</td> <td> 0.000</td> <td> 3.88e+05</td> <td> 5.42e+05</td>\n",
       "</tr>\n",
       "<tr>\n",
       "  <th>Zipcode_98027</th>                   <td> 4.167e+05</td> <td> 2.28e+04</td> <td>   18.243</td> <td> 0.000</td> <td> 3.72e+05</td> <td> 4.61e+05</td>\n",
       "</tr>\n",
       "<tr>\n",
       "  <th>Zipcode_98028</th>                   <td> 1.816e+05</td> <td>  2.8e+04</td> <td>    6.489</td> <td> 0.000</td> <td> 1.27e+05</td> <td> 2.36e+05</td>\n",
       "</tr>\n",
       "<tr>\n",
       "  <th>Zipcode_98029</th>                   <td> 5.653e+05</td> <td> 2.61e+04</td> <td>   21.619</td> <td> 0.000</td> <td> 5.14e+05</td> <td> 6.17e+05</td>\n",
       "</tr>\n",
       "<tr>\n",
       "  <th>Zipcode_98030</th>                   <td> 7.541e+04</td> <td> 1.97e+04</td> <td>    3.826</td> <td> 0.000</td> <td> 3.68e+04</td> <td> 1.14e+05</td>\n",
       "</tr>\n",
       "<tr>\n",
       "  <th>Zipcode_98031</th>                   <td> 4.065e+04</td> <td> 1.61e+04</td> <td>    2.522</td> <td> 0.012</td> <td> 9058.864</td> <td> 7.22e+04</td>\n",
       "</tr>\n",
       "<tr>\n",
       "  <th>Zipcode_98033</th>                   <td> 9.363e+05</td> <td>  2.3e+04</td> <td>   40.663</td> <td> 0.000</td> <td> 8.91e+05</td> <td> 9.81e+05</td>\n",
       "</tr>\n",
       "<tr>\n",
       "  <th>Zipcode_98034</th>                   <td> 4.282e+05</td> <td>  2.4e+04</td> <td>   17.874</td> <td> 0.000</td> <td> 3.81e+05</td> <td> 4.75e+05</td>\n",
       "</tr>\n",
       "<tr>\n",
       "  <th>Zipcode_98038</th>                   <td> 2.371e+05</td> <td>  2.2e+04</td> <td>   10.787</td> <td> 0.000</td> <td> 1.94e+05</td> <td>  2.8e+05</td>\n",
       "</tr>\n",
       "<tr>\n",
       "  <th>Zipcode_98039</th>                   <td> 1.763e+06</td> <td> 4.54e+04</td> <td>   38.875</td> <td> 0.000</td> <td> 1.67e+06</td> <td> 1.85e+06</td>\n",
       "</tr>\n",
       "<tr>\n",
       "  <th>Zipcode_98040</th>                   <td> 1.041e+06</td> <td> 2.19e+04</td> <td>   47.545</td> <td> 0.000</td> <td> 9.98e+05</td> <td> 1.08e+06</td>\n",
       "</tr>\n",
       "<tr>\n",
       "  <th>Zipcode_98042</th>                   <td> 1.319e+05</td> <td> 1.76e+04</td> <td>    7.482</td> <td> 0.000</td> <td> 9.73e+04</td> <td> 1.66e+05</td>\n",
       "</tr>\n",
       "<tr>\n",
       "  <th>Zipcode_98045</th>                   <td> 3.476e+05</td> <td> 3.84e+04</td> <td>    9.048</td> <td> 0.000</td> <td> 2.72e+05</td> <td> 4.23e+05</td>\n",
       "</tr>\n",
       "<tr>\n",
       "  <th>Zipcode_98051</th>                   <td> 1.332e+05</td> <td> 4.49e+04</td> <td>    2.968</td> <td> 0.003</td> <td> 4.52e+04</td> <td> 2.21e+05</td>\n",
       "</tr>\n",
       "<tr>\n",
       "  <th>Zipcode_98052</th>                   <td> 6.075e+05</td> <td> 2.48e+04</td> <td>   24.502</td> <td> 0.000</td> <td> 5.59e+05</td> <td> 6.56e+05</td>\n",
       "</tr>\n",
       "<tr>\n",
       "  <th>Zipcode_98053</th>                   <td> 4.852e+05</td> <td> 2.89e+04</td> <td>   16.770</td> <td> 0.000</td> <td> 4.29e+05</td> <td> 5.42e+05</td>\n",
       "</tr>\n",
       "<tr>\n",
       "  <th>Zipcode_98056</th>                   <td> 2.217e+05</td> <td> 1.84e+04</td> <td>   12.046</td> <td> 0.000</td> <td> 1.86e+05</td> <td> 2.58e+05</td>\n",
       "</tr>\n",
       "<tr>\n",
       "  <th>Zipcode_98058</th>                   <td> 8.308e+04</td> <td>  1.6e+04</td> <td>    5.204</td> <td> 0.000</td> <td> 5.18e+04</td> <td> 1.14e+05</td>\n",
       "</tr>\n",
       "<tr>\n",
       "  <th>Zipcode_98059</th>                   <td> 2.452e+05</td> <td> 1.86e+04</td> <td>   13.168</td> <td> 0.000</td> <td> 2.09e+05</td> <td> 2.82e+05</td>\n",
       "</tr>\n",
       "<tr>\n",
       "  <th>Zipcode_98065</th>                   <td>  3.53e+05</td> <td> 3.33e+04</td> <td>   10.596</td> <td> 0.000</td> <td> 2.88e+05</td> <td> 4.18e+05</td>\n",
       "</tr>\n",
       "<tr>\n",
       "  <th>Zipcode_98072</th>                   <td> 3.743e+05</td> <td>    3e+04</td> <td>   12.491</td> <td> 0.000</td> <td> 3.16e+05</td> <td> 4.33e+05</td>\n",
       "</tr>\n",
       "<tr>\n",
       "  <th>Zipcode_98074</th>                   <td> 5.882e+05</td> <td>  2.6e+04</td> <td>   22.635</td> <td> 0.000</td> <td> 5.37e+05</td> <td> 6.39e+05</td>\n",
       "</tr>\n",
       "<tr>\n",
       "  <th>Zipcode_98075</th>                   <td> 6.083e+05</td> <td> 2.54e+04</td> <td>   23.919</td> <td> 0.000</td> <td> 5.58e+05</td> <td> 6.58e+05</td>\n",
       "</tr>\n",
       "<tr>\n",
       "  <th>Zipcode_98077</th>                   <td> 3.607e+05</td> <td> 3.38e+04</td> <td>   10.670</td> <td> 0.000</td> <td> 2.94e+05</td> <td> 4.27e+05</td>\n",
       "</tr>\n",
       "<tr>\n",
       "  <th>Zipcode_98102</th>                   <td>  5.34e+05</td> <td> 3.09e+04</td> <td>   17.257</td> <td> 0.000</td> <td> 4.73e+05</td> <td> 5.95e+05</td>\n",
       "</tr>\n",
       "<tr>\n",
       "  <th>Zipcode_98103</th>                   <td> 3.757e+05</td> <td> 1.99e+04</td> <td>   18.864</td> <td> 0.000</td> <td> 3.37e+05</td> <td> 4.15e+05</td>\n",
       "</tr>\n",
       "<tr>\n",
       "  <th>Zipcode_98105</th>                   <td> 5.063e+05</td> <td> 2.42e+04</td> <td>   20.953</td> <td> 0.000</td> <td> 4.59e+05</td> <td> 5.54e+05</td>\n",
       "</tr>\n",
       "<tr>\n",
       "  <th>Zipcode_98106</th>                   <td> 6.505e+04</td> <td> 1.71e+04</td> <td>    3.807</td> <td> 0.000</td> <td> 3.16e+04</td> <td> 9.85e+04</td>\n",
       "</tr>\n",
       "<tr>\n",
       "  <th>Zipcode_98107</th>                   <td> 3.254e+05</td> <td> 2.21e+04</td> <td>   14.745</td> <td> 0.000</td> <td> 2.82e+05</td> <td> 3.69e+05</td>\n",
       "</tr>\n",
       "<tr>\n",
       "  <th>Zipcode_98108</th>                   <td> 1.172e+05</td> <td> 2.13e+04</td> <td>    5.494</td> <td> 0.000</td> <td> 7.54e+04</td> <td> 1.59e+05</td>\n",
       "</tr>\n",
       "<tr>\n",
       "  <th>Zipcode_98109</th>                   <td> 5.218e+05</td> <td> 3.22e+04</td> <td>   16.216</td> <td> 0.000</td> <td> 4.59e+05</td> <td> 5.85e+05</td>\n",
       "</tr>\n",
       "<tr>\n",
       "  <th>Zipcode_98112</th>                   <td> 6.875e+05</td> <td> 2.37e+04</td> <td>   28.969</td> <td> 0.000</td> <td> 6.41e+05</td> <td> 7.34e+05</td>\n",
       "</tr>\n",
       "<tr>\n",
       "  <th>Zipcode_98115</th>                   <td> 4.265e+05</td> <td>  2.1e+04</td> <td>   20.350</td> <td> 0.000</td> <td> 3.85e+05</td> <td> 4.68e+05</td>\n",
       "</tr>\n",
       "<tr>\n",
       "  <th>Zipcode_98116</th>                   <td> 2.629e+05</td> <td> 2.08e+04</td> <td>   12.666</td> <td> 0.000</td> <td> 2.22e+05</td> <td> 3.04e+05</td>\n",
       "</tr>\n",
       "<tr>\n",
       "  <th>Zipcode_98117</th>                   <td> 3.302e+05</td> <td> 2.05e+04</td> <td>   16.132</td> <td> 0.000</td> <td>  2.9e+05</td> <td>  3.7e+05</td>\n",
       "</tr>\n",
       "<tr>\n",
       "  <th>Zipcode_98118</th>                   <td> 1.967e+05</td> <td> 1.68e+04</td> <td>   11.705</td> <td> 0.000</td> <td> 1.64e+05</td> <td>  2.3e+05</td>\n",
       "</tr>\n",
       "<tr>\n",
       "  <th>Zipcode_98119</th>                   <td> 4.817e+05</td> <td> 2.57e+04</td> <td>   18.725</td> <td> 0.000</td> <td> 4.31e+05</td> <td> 5.32e+05</td>\n",
       "</tr>\n",
       "<tr>\n",
       "  <th>Zipcode_98122</th>                   <td> 3.632e+05</td> <td> 2.06e+04</td> <td>   17.637</td> <td> 0.000</td> <td> 3.23e+05</td> <td> 4.04e+05</td>\n",
       "</tr>\n",
       "<tr>\n",
       "  <th>Zipcode_98125</th>                   <td> 2.419e+05</td> <td> 2.45e+04</td> <td>    9.892</td> <td> 0.000</td> <td> 1.94e+05</td> <td>  2.9e+05</td>\n",
       "</tr>\n",
       "<tr>\n",
       "  <th>Zipcode_98126</th>                   <td> 1.289e+05</td> <td> 1.87e+04</td> <td>    6.904</td> <td> 0.000</td> <td> 9.23e+04</td> <td> 1.66e+05</td>\n",
       "</tr>\n",
       "<tr>\n",
       "  <th>Zipcode_98133</th>                   <td>  1.33e+05</td> <td> 2.46e+04</td> <td>    5.397</td> <td> 0.000</td> <td> 8.47e+04</td> <td> 1.81e+05</td>\n",
       "</tr>\n",
       "<tr>\n",
       "  <th>Zipcode_98136</th>                   <td> 2.632e+05</td> <td> 2.16e+04</td> <td>   12.173</td> <td> 0.000</td> <td> 2.21e+05</td> <td> 3.06e+05</td>\n",
       "</tr>\n",
       "<tr>\n",
       "  <th>Zipcode_98144</th>                   <td> 3.146e+05</td> <td> 1.97e+04</td> <td>   15.941</td> <td> 0.000</td> <td> 2.76e+05</td> <td> 3.53e+05</td>\n",
       "</tr>\n",
       "<tr>\n",
       "  <th>Zipcode_98146</th>                   <td> 1.317e+05</td> <td>  1.8e+04</td> <td>    7.324</td> <td> 0.000</td> <td> 9.64e+04</td> <td> 1.67e+05</td>\n",
       "</tr>\n",
       "<tr>\n",
       "  <th>Zipcode_98155</th>                   <td>  1.93e+05</td> <td> 2.65e+04</td> <td>    7.275</td> <td> 0.000</td> <td> 1.41e+05</td> <td> 2.45e+05</td>\n",
       "</tr>\n",
       "<tr>\n",
       "  <th>Zipcode_98166</th>                   <td> 8.304e+04</td> <td> 1.91e+04</td> <td>    4.344</td> <td> 0.000</td> <td> 4.56e+04</td> <td> 1.21e+05</td>\n",
       "</tr>\n",
       "<tr>\n",
       "  <th>Zipcode_98177</th>                   <td> 2.335e+05</td> <td> 2.82e+04</td> <td>    8.275</td> <td> 0.000</td> <td> 1.78e+05</td> <td> 2.89e+05</td>\n",
       "</tr>\n",
       "<tr>\n",
       "  <th>Zipcode_98199</th>                   <td> 4.279e+05</td> <td> 2.24e+04</td> <td>   19.099</td> <td> 0.000</td> <td> 3.84e+05</td> <td> 4.72e+05</td>\n",
       "</tr>\n",
       "<tr>\n",
       "  <th>Zipcode_98223</th>                   <td> 5.747e+05</td> <td> 1.83e+05</td> <td>    3.148</td> <td> 0.002</td> <td> 2.17e+05</td> <td> 9.33e+05</td>\n",
       "</tr>\n",
       "<tr>\n",
       "  <th>Zipcode_98251</th>                   <td> 4.965e+05</td> <td> 2.04e+05</td> <td>    2.436</td> <td> 0.015</td> <td>  9.7e+04</td> <td> 8.96e+05</td>\n",
       "</tr>\n",
       "<tr>\n",
       "  <th>Zipcode_98270</th>                   <td> 6.795e+05</td> <td> 3.33e+05</td> <td>    2.039</td> <td> 0.042</td> <td> 2.62e+04</td> <td> 1.33e+06</td>\n",
       "</tr>\n",
       "<tr>\n",
       "  <th>Zipcode_98288</th>                   <td> 3.831e+05</td> <td> 1.26e+05</td> <td>    3.050</td> <td> 0.002</td> <td> 1.37e+05</td> <td> 6.29e+05</td>\n",
       "</tr>\n",
       "<tr>\n",
       "  <th>Zipcode_98338</th>                   <td> 7.381e+05</td> <td> 2.49e+05</td> <td>    2.967</td> <td> 0.003</td> <td>  2.5e+05</td> <td> 1.23e+06</td>\n",
       "</tr>\n",
       "<tr>\n",
       "  <th>Zipcode_98372</th>                   <td> 6.101e+05</td> <td> 2.32e+05</td> <td>    2.634</td> <td> 0.008</td> <td> 1.56e+05</td> <td> 1.06e+06</td>\n",
       "</tr>\n",
       "<tr>\n",
       "  <th>Zipcode_98387</th>                   <td> 7.307e+05</td> <td> 3.34e+05</td> <td>    2.190</td> <td> 0.029</td> <td> 7.68e+04</td> <td> 1.38e+06</td>\n",
       "</tr>\n",
       "<tr>\n",
       "  <th>Zipcode_98663</th>                   <td> 2.165e+06</td> <td> 4.84e+05</td> <td>    4.475</td> <td> 0.000</td> <td> 1.22e+06</td> <td> 3.11e+06</td>\n",
       "</tr>\n",
       "<tr>\n",
       "  <th>grade_11 Excellent</th>              <td> 2.737e+05</td> <td> 1.88e+04</td> <td>   14.518</td> <td> 0.000</td> <td> 2.37e+05</td> <td> 3.11e+05</td>\n",
       "</tr>\n",
       "<tr>\n",
       "  <th>grade_12 Luxury</th>                 <td> 2.922e+05</td> <td>  3.2e+04</td> <td>    9.132</td> <td> 0.000</td> <td> 2.29e+05</td> <td> 3.55e+05</td>\n",
       "</tr>\n",
       "<tr>\n",
       "  <th>grade_13 Mansion</th>                <td> 2.866e+05</td> <td> 7.06e+04</td> <td>    4.059</td> <td> 0.000</td> <td> 1.48e+05</td> <td> 4.25e+05</td>\n",
       "</tr>\n",
       "<tr>\n",
       "  <th>grade_3 Poor</th>                    <td>-3.769e+05</td> <td> 1.11e+05</td> <td>   -3.391</td> <td> 0.001</td> <td>-5.95e+05</td> <td>-1.59e+05</td>\n",
       "</tr>\n",
       "<tr>\n",
       "  <th>grade_4 Low</th>                     <td>-3.237e+05</td> <td>  5.1e+04</td> <td>   -6.342</td> <td> 0.000</td> <td>-4.24e+05</td> <td>-2.24e+05</td>\n",
       "</tr>\n",
       "<tr>\n",
       "  <th>grade_5 Fair</th>                    <td>-3.952e+05</td> <td> 2.25e+04</td> <td>  -17.579</td> <td> 0.000</td> <td>-4.39e+05</td> <td>-3.51e+05</td>\n",
       "</tr>\n",
       "<tr>\n",
       "  <th>grade_6 Low Average</th>             <td>-4.269e+05</td> <td> 1.53e+04</td> <td>  -27.948</td> <td> 0.000</td> <td>-4.57e+05</td> <td>-3.97e+05</td>\n",
       "</tr>\n",
       "<tr>\n",
       "  <th>grade_7 Average</th>                 <td>-4.609e+05</td> <td> 1.26e+04</td> <td>  -36.479</td> <td> 0.000</td> <td>-4.86e+05</td> <td>-4.36e+05</td>\n",
       "</tr>\n",
       "<tr>\n",
       "  <th>grade_8 Good</th>                    <td>-4.106e+05</td> <td> 1.13e+04</td> <td>  -36.413</td> <td> 0.000</td> <td>-4.33e+05</td> <td>-3.88e+05</td>\n",
       "</tr>\n",
       "<tr>\n",
       "  <th>grade_9 Better</th>                  <td>-2.219e+05</td> <td>  1.1e+04</td> <td>  -20.259</td> <td> 0.000</td> <td>-2.43e+05</td> <td>   -2e+05</td>\n",
       "</tr>\n",
       "</table>\n",
       "<table class=\"simpletable\">\n",
       "<tr>\n",
       "  <th>Omnibus:</th>       <td>9342.859</td> <th>  Durbin-Watson:     </th>  <td>   1.884</td> \n",
       "</tr>\n",
       "<tr>\n",
       "  <th>Prob(Omnibus):</th>  <td> 0.000</td>  <th>  Jarque-Bera (JB):  </th> <td>181490.283</td>\n",
       "</tr>\n",
       "<tr>\n",
       "  <th>Skew:</th>           <td> 1.053</td>  <th>  Prob(JB):          </th>  <td>    0.00</td> \n",
       "</tr>\n",
       "<tr>\n",
       "  <th>Kurtosis:</th>       <td>15.031</td>  <th>  Cond. No.          </th>  <td>1.09e+08</td> \n",
       "</tr>\n",
       "</table><br/><br/>Notes:<br/>[1] Standard Errors assume that the covariance matrix of the errors is correctly specified.<br/>[2] The condition number is large, 1.09e+08. This might indicate that there are<br/>strong multicollinearity or other numerical problems."
      ],
      "text/plain": [
       "<class 'statsmodels.iolib.summary.Summary'>\n",
       "\"\"\"\n",
       "                            OLS Regression Results                            \n",
       "==============================================================================\n",
       "Dep. Variable:                  price   R-squared:                       0.774\n",
       "Model:                            OLS   Adj. R-squared:                  0.773\n",
       "Method:                 Least Squares   F-statistic:                     947.4\n",
       "Date:                Tue, 27 Sep 2022   Prob (F-statistic):               0.00\n",
       "Time:                        22:05:06   Log-Likelihood:            -4.1199e+05\n",
       "No. Observations:               29200   AIC:                         8.242e+05\n",
       "Df Residuals:                   29094   BIC:                         8.251e+05\n",
       "Df Model:                         105                                         \n",
       "Covariance Type:            nonrobust                                         \n",
       "===================================================================================================\n",
       "                                      coef    std err          t      P>|t|      [0.025      0.975]\n",
       "---------------------------------------------------------------------------------------------------\n",
       "const                           -9.168e+07   6.38e+06    -14.367      0.000   -1.04e+08   -7.92e+07\n",
       "bathrooms                        3.325e+04   3926.369      8.469      0.000    2.56e+04    4.09e+04\n",
       "sqft_living                       111.3424      7.690     14.479      0.000      96.270     126.415\n",
       "sqft_lot                            1.5910      0.086     18.579      0.000       1.423       1.759\n",
       "sqft_above                        156.6987      8.235     19.028      0.000     140.557     172.840\n",
       "sqft_basement                      40.4192      6.450      6.267      0.000      27.777      53.061\n",
       "sqft_garage                        37.8263     10.109      3.742      0.000      18.012      57.641\n",
       "sqft_patio                         21.6679      9.906      2.187      0.029       2.252      41.084\n",
       "yr_built                         -524.9637    102.244     -5.134      0.000    -725.366    -324.561\n",
       "yr_renovated                       49.3283      4.921     10.024      0.000      39.683      58.974\n",
       "lat                              5.896e+05   5.36e+04     11.009      0.000    4.85e+05    6.95e+05\n",
       "long                            -5.335e+05   5.42e+04     -9.845      0.000    -6.4e+05   -4.27e+05\n",
       "business_center                 -1.532e+04   1989.343     -7.700      0.000   -1.92e+04   -1.14e+04\n",
       "clinic                           1.617e+04   1675.345      9.651      0.000    1.29e+04    1.95e+04\n",
       "closest_elem_schools            -1.073e+04   4052.657     -2.649      0.008   -1.87e+04   -2791.224\n",
       "waterfront_YES                   2.831e+05   1.77e+04     16.002      0.000    2.48e+05    3.18e+05\n",
       "greenbelt_YES                    4.547e+04   1.25e+04      3.644      0.000     2.1e+04    6.99e+04\n",
       "nuisance_YES                    -4.945e+04   5244.863     -9.429      0.000   -5.97e+04   -3.92e+04\n",
       "view_EXCELLENT                   4.246e+05   1.79e+04     23.726      0.000     3.9e+05     4.6e+05\n",
       "view_FAIR                        7.485e+04   2.36e+04      3.176      0.001    2.87e+04    1.21e+05\n",
       "view_GOOD                        9.934e+04   1.34e+04      7.392      0.000     7.3e+04    1.26e+05\n",
       "view_NONE                       -1.005e+05   8175.692    -12.287      0.000   -1.16e+05   -8.44e+04\n",
       "condition_Fair                  -9.237e+04   2.22e+04     -4.159      0.000   -1.36e+05   -4.88e+04\n",
       "condition_Good                   5.716e+04   4885.745     11.699      0.000    4.76e+04    6.67e+04\n",
       "condition_Very Good              1.193e+05   6849.604     17.416      0.000    1.06e+05    1.33e+05\n",
       "heat_source_Gas                  1.291e+04   4674.067      2.762      0.006    3748.878    2.21e+04\n",
       "heat_source_Gas/Solar            1.363e+05   3.41e+04      3.999      0.000    6.95e+04    2.03e+05\n",
       "sewer_system_PRIVATE RESTRICTED -4.352e+05   1.49e+05     -2.924      0.003   -7.27e+05   -1.44e+05\n",
       "sewer_system_PUBLIC              3.352e+04   7469.292      4.487      0.000    1.89e+04    4.82e+04\n",
       "Zipcode_98002                     6.02e+04   1.89e+04      3.184      0.001    2.31e+04    9.73e+04\n",
       "Zipcode_98004                    1.444e+06   2.38e+04     60.607      0.000     1.4e+06    1.49e+06\n",
       "Zipcode_98005                    9.475e+05   2.95e+04     32.102      0.000     8.9e+05    1.01e+06\n",
       "Zipcode_98006                     7.06e+05   2.05e+04     34.421      0.000    6.66e+05    7.46e+05\n",
       "Zipcode_98007                     6.13e+05   3.13e+04     19.604      0.000    5.52e+05    6.74e+05\n",
       "Zipcode_98008                    6.425e+05   2.42e+04     26.584      0.000    5.95e+05     6.9e+05\n",
       "Zipcode_98010                    1.414e+05    2.4e+04      5.887      0.000    9.43e+04    1.88e+05\n",
       "Zipcode_98011                    2.692e+05   3.02e+04      8.907      0.000     2.1e+05    3.28e+05\n",
       "Zipcode_98014                    1.356e+05    3.9e+04      3.474      0.001    5.91e+04    2.12e+05\n",
       "Zipcode_98019                    8.772e+04   3.61e+04      2.430      0.015     1.7e+04    1.58e+05\n",
       "Zipcode_98023                   -6.929e+04   1.53e+04     -4.521      0.000   -9.93e+04   -3.92e+04\n",
       "Zipcode_98024                    4.652e+05   3.94e+04     11.816      0.000    3.88e+05    5.42e+05\n",
       "Zipcode_98027                    4.167e+05   2.28e+04     18.243      0.000    3.72e+05    4.61e+05\n",
       "Zipcode_98028                    1.816e+05    2.8e+04      6.489      0.000    1.27e+05    2.36e+05\n",
       "Zipcode_98029                    5.653e+05   2.61e+04     21.619      0.000    5.14e+05    6.17e+05\n",
       "Zipcode_98030                    7.541e+04   1.97e+04      3.826      0.000    3.68e+04    1.14e+05\n",
       "Zipcode_98031                    4.065e+04   1.61e+04      2.522      0.012    9058.864    7.22e+04\n",
       "Zipcode_98033                    9.363e+05    2.3e+04     40.663      0.000    8.91e+05    9.81e+05\n",
       "Zipcode_98034                    4.282e+05    2.4e+04     17.874      0.000    3.81e+05    4.75e+05\n",
       "Zipcode_98038                    2.371e+05    2.2e+04     10.787      0.000    1.94e+05     2.8e+05\n",
       "Zipcode_98039                    1.763e+06   4.54e+04     38.875      0.000    1.67e+06    1.85e+06\n",
       "Zipcode_98040                    1.041e+06   2.19e+04     47.545      0.000    9.98e+05    1.08e+06\n",
       "Zipcode_98042                    1.319e+05   1.76e+04      7.482      0.000    9.73e+04    1.66e+05\n",
       "Zipcode_98045                    3.476e+05   3.84e+04      9.048      0.000    2.72e+05    4.23e+05\n",
       "Zipcode_98051                    1.332e+05   4.49e+04      2.968      0.003    4.52e+04    2.21e+05\n",
       "Zipcode_98052                    6.075e+05   2.48e+04     24.502      0.000    5.59e+05    6.56e+05\n",
       "Zipcode_98053                    4.852e+05   2.89e+04     16.770      0.000    4.29e+05    5.42e+05\n",
       "Zipcode_98056                    2.217e+05   1.84e+04     12.046      0.000    1.86e+05    2.58e+05\n",
       "Zipcode_98058                    8.308e+04    1.6e+04      5.204      0.000    5.18e+04    1.14e+05\n",
       "Zipcode_98059                    2.452e+05   1.86e+04     13.168      0.000    2.09e+05    2.82e+05\n",
       "Zipcode_98065                     3.53e+05   3.33e+04     10.596      0.000    2.88e+05    4.18e+05\n",
       "Zipcode_98072                    3.743e+05      3e+04     12.491      0.000    3.16e+05    4.33e+05\n",
       "Zipcode_98074                    5.882e+05    2.6e+04     22.635      0.000    5.37e+05    6.39e+05\n",
       "Zipcode_98075                    6.083e+05   2.54e+04     23.919      0.000    5.58e+05    6.58e+05\n",
       "Zipcode_98077                    3.607e+05   3.38e+04     10.670      0.000    2.94e+05    4.27e+05\n",
       "Zipcode_98102                     5.34e+05   3.09e+04     17.257      0.000    4.73e+05    5.95e+05\n",
       "Zipcode_98103                    3.757e+05   1.99e+04     18.864      0.000    3.37e+05    4.15e+05\n",
       "Zipcode_98105                    5.063e+05   2.42e+04     20.953      0.000    4.59e+05    5.54e+05\n",
       "Zipcode_98106                    6.505e+04   1.71e+04      3.807      0.000    3.16e+04    9.85e+04\n",
       "Zipcode_98107                    3.254e+05   2.21e+04     14.745      0.000    2.82e+05    3.69e+05\n",
       "Zipcode_98108                    1.172e+05   2.13e+04      5.494      0.000    7.54e+04    1.59e+05\n",
       "Zipcode_98109                    5.218e+05   3.22e+04     16.216      0.000    4.59e+05    5.85e+05\n",
       "Zipcode_98112                    6.875e+05   2.37e+04     28.969      0.000    6.41e+05    7.34e+05\n",
       "Zipcode_98115                    4.265e+05    2.1e+04     20.350      0.000    3.85e+05    4.68e+05\n",
       "Zipcode_98116                    2.629e+05   2.08e+04     12.666      0.000    2.22e+05    3.04e+05\n",
       "Zipcode_98117                    3.302e+05   2.05e+04     16.132      0.000     2.9e+05     3.7e+05\n",
       "Zipcode_98118                    1.967e+05   1.68e+04     11.705      0.000    1.64e+05     2.3e+05\n",
       "Zipcode_98119                    4.817e+05   2.57e+04     18.725      0.000    4.31e+05    5.32e+05\n",
       "Zipcode_98122                    3.632e+05   2.06e+04     17.637      0.000    3.23e+05    4.04e+05\n",
       "Zipcode_98125                    2.419e+05   2.45e+04      9.892      0.000    1.94e+05     2.9e+05\n",
       "Zipcode_98126                    1.289e+05   1.87e+04      6.904      0.000    9.23e+04    1.66e+05\n",
       "Zipcode_98133                     1.33e+05   2.46e+04      5.397      0.000    8.47e+04    1.81e+05\n",
       "Zipcode_98136                    2.632e+05   2.16e+04     12.173      0.000    2.21e+05    3.06e+05\n",
       "Zipcode_98144                    3.146e+05   1.97e+04     15.941      0.000    2.76e+05    3.53e+05\n",
       "Zipcode_98146                    1.317e+05    1.8e+04      7.324      0.000    9.64e+04    1.67e+05\n",
       "Zipcode_98155                     1.93e+05   2.65e+04      7.275      0.000    1.41e+05    2.45e+05\n",
       "Zipcode_98166                    8.304e+04   1.91e+04      4.344      0.000    4.56e+04    1.21e+05\n",
       "Zipcode_98177                    2.335e+05   2.82e+04      8.275      0.000    1.78e+05    2.89e+05\n",
       "Zipcode_98199                    4.279e+05   2.24e+04     19.099      0.000    3.84e+05    4.72e+05\n",
       "Zipcode_98223                    5.747e+05   1.83e+05      3.148      0.002    2.17e+05    9.33e+05\n",
       "Zipcode_98251                    4.965e+05   2.04e+05      2.436      0.015     9.7e+04    8.96e+05\n",
       "Zipcode_98270                    6.795e+05   3.33e+05      2.039      0.042    2.62e+04    1.33e+06\n",
       "Zipcode_98288                    3.831e+05   1.26e+05      3.050      0.002    1.37e+05    6.29e+05\n",
       "Zipcode_98338                    7.381e+05   2.49e+05      2.967      0.003     2.5e+05    1.23e+06\n",
       "Zipcode_98372                    6.101e+05   2.32e+05      2.634      0.008    1.56e+05    1.06e+06\n",
       "Zipcode_98387                    7.307e+05   3.34e+05      2.190      0.029    7.68e+04    1.38e+06\n",
       "Zipcode_98663                    2.165e+06   4.84e+05      4.475      0.000    1.22e+06    3.11e+06\n",
       "grade_11 Excellent               2.737e+05   1.88e+04     14.518      0.000    2.37e+05    3.11e+05\n",
       "grade_12 Luxury                  2.922e+05    3.2e+04      9.132      0.000    2.29e+05    3.55e+05\n",
       "grade_13 Mansion                 2.866e+05   7.06e+04      4.059      0.000    1.48e+05    4.25e+05\n",
       "grade_3 Poor                    -3.769e+05   1.11e+05     -3.391      0.001   -5.95e+05   -1.59e+05\n",
       "grade_4 Low                     -3.237e+05    5.1e+04     -6.342      0.000   -4.24e+05   -2.24e+05\n",
       "grade_5 Fair                    -3.952e+05   2.25e+04    -17.579      0.000   -4.39e+05   -3.51e+05\n",
       "grade_6 Low Average             -4.269e+05   1.53e+04    -27.948      0.000   -4.57e+05   -3.97e+05\n",
       "grade_7 Average                 -4.609e+05   1.26e+04    -36.479      0.000   -4.86e+05   -4.36e+05\n",
       "grade_8 Good                    -4.106e+05   1.13e+04    -36.413      0.000   -4.33e+05   -3.88e+05\n",
       "grade_9 Better                  -2.219e+05    1.1e+04    -20.259      0.000   -2.43e+05      -2e+05\n",
       "==============================================================================\n",
       "Omnibus:                     9342.859   Durbin-Watson:                   1.884\n",
       "Prob(Omnibus):                  0.000   Jarque-Bera (JB):           181490.283\n",
       "Skew:                           1.053   Prob(JB):                         0.00\n",
       "Kurtosis:                      15.031   Cond. No.                     1.09e+08\n",
       "==============================================================================\n",
       "\n",
       "Notes:\n",
       "[1] Standard Errors assume that the covariance matrix of the errors is correctly specified.\n",
       "[2] The condition number is large, 1.09e+08. This might indicate that there are\n",
       "strong multicollinearity or other numerical problems.\n",
       "\"\"\""
      ]
     },
     "execution_count": 368,
     "metadata": {},
     "output_type": "execute_result"
    }
   ],
   "source": [
    "# # running our model with dummified predictors\n",
    "X1=X1.drop(labels=Out, axis=1)\n",
    "y=df.price\n",
    "\n",
    "model_1 = sm.OLS(y, sm.add_constant(X1))\n",
    "results1 = model_1.fit()\n",
    "results1.summary()"
   ]
  },
  {
   "cell_type": "code",
   "execution_count": 369,
   "metadata": {},
   "outputs": [
    {
     "data": {
      "text/plain": [
       "209767.21873131464"
      ]
     },
     "execution_count": 369,
     "metadata": {},
     "output_type": "execute_result"
    }
   ],
   "source": [
    "mae = mean_absolute_error(y, results1.predict(sm.add_constant(X1)))\n",
    "mae"
   ]
  },
  {
   "cell_type": "code",
   "execution_count": null,
   "metadata": {
    "scrolled": false
   },
   "outputs": [],
   "source": [
    "# scaler = StandardScaler()\n",
    "\n",
    "# X_scaled = pd.DataFrame(scaler.fit_transform(X1), columns=X1.columns)\n",
    "# X_scaled.head()\n",
    "\n",
    "# model_scaled = sm.OLS(y.values, sm.add_constant(X_scaled)).fit()\n",
    "# model_scaled.summary()\n",
    "\n",
    "# # X = sm.add_constant(X.values)\n",
    "# # result = sm.OLS(Y.values, X).fit()"
   ]
  },
  {
   "cell_type": "code",
   "execution_count": null,
   "metadata": {},
   "outputs": [],
   "source": [
    "# X_log."
   ]
  },
  {
   "cell_type": "markdown",
   "metadata": {},
   "source": [
    "## Addressing Multicolinerity"
   ]
  },
  {
   "cell_type": "code",
   "execution_count": 1012,
   "metadata": {},
   "outputs": [
    {
     "data": {
      "text/html": [
       "<div>\n",
       "<style scoped>\n",
       "    .dataframe tbody tr th:only-of-type {\n",
       "        vertical-align: middle;\n",
       "    }\n",
       "\n",
       "    .dataframe tbody tr th {\n",
       "        vertical-align: top;\n",
       "    }\n",
       "\n",
       "    .dataframe thead th {\n",
       "        text-align: right;\n",
       "    }\n",
       "</style>\n",
       "<table border=\"1\" class=\"dataframe\">\n",
       "  <thead>\n",
       "    <tr style=\"text-align: right;\">\n",
       "      <th></th>\n",
       "      <th>bedrooms</th>\n",
       "      <th>bathrooms</th>\n",
       "      <th>sqft_living</th>\n",
       "      <th>sqft_lot</th>\n",
       "      <th>sqft_above</th>\n",
       "      <th>sqft_basement</th>\n",
       "      <th>sqft_garage</th>\n",
       "      <th>sqft_patio</th>\n",
       "      <th>yr_built</th>\n",
       "      <th>yr_renovated</th>\n",
       "      <th>...</th>\n",
       "      <th>grade_11 Excellent</th>\n",
       "      <th>grade_12 Luxury</th>\n",
       "      <th>grade_13 Mansion</th>\n",
       "      <th>grade_3 Poor</th>\n",
       "      <th>grade_4 Low</th>\n",
       "      <th>grade_5 Fair</th>\n",
       "      <th>grade_6 Low Average</th>\n",
       "      <th>grade_7 Average</th>\n",
       "      <th>grade_8 Good</th>\n",
       "      <th>grade_9 Better</th>\n",
       "    </tr>\n",
       "  </thead>\n",
       "  <tbody>\n",
       "    <tr>\n",
       "      <th>bedrooms</th>\n",
       "      <td>1.000000</td>\n",
       "      <td>0.595160</td>\n",
       "      <td>0.634560</td>\n",
       "      <td>0.024648</td>\n",
       "      <td>0.550179</td>\n",
       "      <td>0.233439</td>\n",
       "      <td>0.319838</td>\n",
       "      <td>0.198811</td>\n",
       "      <td>0.189040</td>\n",
       "      <td>0.008767</td>\n",
       "      <td>...</td>\n",
       "      <td>0.105178</td>\n",
       "      <td>0.069680</td>\n",
       "      <td>0.044785</td>\n",
       "      <td>-0.032558</td>\n",
       "      <td>-0.083391</td>\n",
       "      <td>-0.165129</td>\n",
       "      <td>-0.249867</td>\n",
       "      <td>-0.104411</td>\n",
       "      <td>0.087951</td>\n",
       "      <td>0.171817</td>\n",
       "    </tr>\n",
       "    <tr>\n",
       "      <th>bathrooms</th>\n",
       "      <td>0.595160</td>\n",
       "      <td>1.000000</td>\n",
       "      <td>0.767852</td>\n",
       "      <td>0.077281</td>\n",
       "      <td>0.674512</td>\n",
       "      <td>0.243152</td>\n",
       "      <td>0.466971</td>\n",
       "      <td>0.337122</td>\n",
       "      <td>0.465494</td>\n",
       "      <td>0.041384</td>\n",
       "      <td>...</td>\n",
       "      <td>0.207516</td>\n",
       "      <td>0.152588</td>\n",
       "      <td>0.085543</td>\n",
       "      <td>-0.026899</td>\n",
       "      <td>-0.060353</td>\n",
       "      <td>-0.158869</td>\n",
       "      <td>-0.368267</td>\n",
       "      <td>-0.287014</td>\n",
       "      <td>0.189318</td>\n",
       "      <td>0.275050</td>\n",
       "    </tr>\n",
       "    <tr>\n",
       "      <th>sqft_living</th>\n",
       "      <td>0.634560</td>\n",
       "      <td>0.767852</td>\n",
       "      <td>1.000000</td>\n",
       "      <td>0.200792</td>\n",
       "      <td>0.864381</td>\n",
       "      <td>0.314686</td>\n",
       "      <td>0.501879</td>\n",
       "      <td>0.402151</td>\n",
       "      <td>0.328501</td>\n",
       "      <td>0.035436</td>\n",
       "      <td>...</td>\n",
       "      <td>0.300620</td>\n",
       "      <td>0.241335</td>\n",
       "      <td>0.176439</td>\n",
       "      <td>-0.024320</td>\n",
       "      <td>-0.061080</td>\n",
       "      <td>-0.145082</td>\n",
       "      <td>-0.309025</td>\n",
       "      <td>-0.330247</td>\n",
       "      <td>0.087435</td>\n",
       "      <td>0.307405</td>\n",
       "    </tr>\n",
       "    <tr>\n",
       "      <th>sqft_lot</th>\n",
       "      <td>0.024648</td>\n",
       "      <td>0.077281</td>\n",
       "      <td>0.200792</td>\n",
       "      <td>1.000000</td>\n",
       "      <td>0.202232</td>\n",
       "      <td>0.008935</td>\n",
       "      <td>0.146702</td>\n",
       "      <td>0.231294</td>\n",
       "      <td>0.023935</td>\n",
       "      <td>0.016605</td>\n",
       "      <td>...</td>\n",
       "      <td>0.076540</td>\n",
       "      <td>0.072262</td>\n",
       "      <td>0.047065</td>\n",
       "      <td>0.019379</td>\n",
       "      <td>0.021827</td>\n",
       "      <td>0.046759</td>\n",
       "      <td>-0.010934</td>\n",
       "      <td>-0.074366</td>\n",
       "      <td>-0.034626</td>\n",
       "      <td>0.036614</td>\n",
       "    </tr>\n",
       "    <tr>\n",
       "      <th>sqft_above</th>\n",
       "      <td>0.550179</td>\n",
       "      <td>0.674512</td>\n",
       "      <td>0.864381</td>\n",
       "      <td>0.202232</td>\n",
       "      <td>1.000000</td>\n",
       "      <td>-0.105954</td>\n",
       "      <td>0.556797</td>\n",
       "      <td>0.312665</td>\n",
       "      <td>0.441051</td>\n",
       "      <td>0.007970</td>\n",
       "      <td>...</td>\n",
       "      <td>0.268470</td>\n",
       "      <td>0.176094</td>\n",
       "      <td>0.090063</td>\n",
       "      <td>-0.022592</td>\n",
       "      <td>-0.056149</td>\n",
       "      <td>-0.129629</td>\n",
       "      <td>-0.286765</td>\n",
       "      <td>-0.365851</td>\n",
       "      <td>0.094996</td>\n",
       "      <td>0.344270</td>\n",
       "    </tr>\n",
       "    <tr>\n",
       "      <th>...</th>\n",
       "      <td>...</td>\n",
       "      <td>...</td>\n",
       "      <td>...</td>\n",
       "      <td>...</td>\n",
       "      <td>...</td>\n",
       "      <td>...</td>\n",
       "      <td>...</td>\n",
       "      <td>...</td>\n",
       "      <td>...</td>\n",
       "      <td>...</td>\n",
       "      <td>...</td>\n",
       "      <td>...</td>\n",
       "      <td>...</td>\n",
       "      <td>...</td>\n",
       "      <td>...</td>\n",
       "      <td>...</td>\n",
       "      <td>...</td>\n",
       "      <td>...</td>\n",
       "      <td>...</td>\n",
       "      <td>...</td>\n",
       "      <td>...</td>\n",
       "    </tr>\n",
       "    <tr>\n",
       "      <th>grade_5 Fair</th>\n",
       "      <td>-0.165129</td>\n",
       "      <td>-0.158869</td>\n",
       "      <td>-0.145082</td>\n",
       "      <td>0.046759</td>\n",
       "      <td>-0.129629</td>\n",
       "      <td>-0.067458</td>\n",
       "      <td>-0.127598</td>\n",
       "      <td>-0.064014</td>\n",
       "      <td>-0.140424</td>\n",
       "      <td>-0.004451</td>\n",
       "      <td>...</td>\n",
       "      <td>-0.013657</td>\n",
       "      <td>-0.007487</td>\n",
       "      <td>-0.003315</td>\n",
       "      <td>-0.002030</td>\n",
       "      <td>-0.004591</td>\n",
       "      <td>1.000000</td>\n",
       "      <td>-0.038000</td>\n",
       "      <td>-0.093526</td>\n",
       "      <td>-0.076308</td>\n",
       "      <td>-0.043326</td>\n",
       "    </tr>\n",
       "    <tr>\n",
       "      <th>grade_6 Low Average</th>\n",
       "      <td>-0.249867</td>\n",
       "      <td>-0.368267</td>\n",
       "      <td>-0.309025</td>\n",
       "      <td>-0.010934</td>\n",
       "      <td>-0.286765</td>\n",
       "      <td>-0.112537</td>\n",
       "      <td>-0.302448</td>\n",
       "      <td>-0.147657</td>\n",
       "      <td>-0.308337</td>\n",
       "      <td>0.014329</td>\n",
       "      <td>...</td>\n",
       "      <td>-0.038841</td>\n",
       "      <td>-0.021294</td>\n",
       "      <td>-0.009429</td>\n",
       "      <td>-0.005772</td>\n",
       "      <td>-0.013058</td>\n",
       "      <td>-0.038000</td>\n",
       "      <td>1.000000</td>\n",
       "      <td>-0.265996</td>\n",
       "      <td>-0.217025</td>\n",
       "      <td>-0.123222</td>\n",
       "    </tr>\n",
       "    <tr>\n",
       "      <th>grade_7 Average</th>\n",
       "      <td>-0.104411</td>\n",
       "      <td>-0.287014</td>\n",
       "      <td>-0.330247</td>\n",
       "      <td>-0.074366</td>\n",
       "      <td>-0.365851</td>\n",
       "      <td>0.029208</td>\n",
       "      <td>-0.196355</td>\n",
       "      <td>-0.178833</td>\n",
       "      <td>-0.270872</td>\n",
       "      <td>0.013296</td>\n",
       "      <td>...</td>\n",
       "      <td>-0.095597</td>\n",
       "      <td>-0.052409</td>\n",
       "      <td>-0.023206</td>\n",
       "      <td>-0.014207</td>\n",
       "      <td>-0.032140</td>\n",
       "      <td>-0.093526</td>\n",
       "      <td>-0.265996</td>\n",
       "      <td>1.000000</td>\n",
       "      <td>-0.534145</td>\n",
       "      <td>-0.303275</td>\n",
       "    </tr>\n",
       "    <tr>\n",
       "      <th>grade_8 Good</th>\n",
       "      <td>0.087951</td>\n",
       "      <td>0.189318</td>\n",
       "      <td>0.087435</td>\n",
       "      <td>-0.034626</td>\n",
       "      <td>0.094996</td>\n",
       "      <td>0.012691</td>\n",
       "      <td>0.117166</td>\n",
       "      <td>0.055411</td>\n",
       "      <td>0.252517</td>\n",
       "      <td>-0.020344</td>\n",
       "      <td>...</td>\n",
       "      <td>-0.077997</td>\n",
       "      <td>-0.042761</td>\n",
       "      <td>-0.018934</td>\n",
       "      <td>-0.011592</td>\n",
       "      <td>-0.026223</td>\n",
       "      <td>-0.076308</td>\n",
       "      <td>-0.217025</td>\n",
       "      <td>-0.534145</td>\n",
       "      <td>1.000000</td>\n",
       "      <td>-0.247441</td>\n",
       "    </tr>\n",
       "    <tr>\n",
       "      <th>grade_9 Better</th>\n",
       "      <td>0.171817</td>\n",
       "      <td>0.275050</td>\n",
       "      <td>0.307405</td>\n",
       "      <td>0.036614</td>\n",
       "      <td>0.344270</td>\n",
       "      <td>-0.000407</td>\n",
       "      <td>0.205228</td>\n",
       "      <td>0.158156</td>\n",
       "      <td>0.254760</td>\n",
       "      <td>-0.006461</td>\n",
       "      <td>...</td>\n",
       "      <td>-0.044285</td>\n",
       "      <td>-0.024279</td>\n",
       "      <td>-0.010750</td>\n",
       "      <td>-0.006581</td>\n",
       "      <td>-0.014889</td>\n",
       "      <td>-0.043326</td>\n",
       "      <td>-0.123222</td>\n",
       "      <td>-0.303275</td>\n",
       "      <td>-0.247441</td>\n",
       "      <td>1.000000</td>\n",
       "    </tr>\n",
       "  </tbody>\n",
       "</table>\n",
       "<p>125 rows × 125 columns</p>\n",
       "</div>"
      ],
      "text/plain": [
       "                     bedrooms  bathrooms  sqft_living  sqft_lot  sqft_above  \\\n",
       "bedrooms             1.000000   0.595160     0.634560  0.024648    0.550179   \n",
       "bathrooms            0.595160   1.000000     0.767852  0.077281    0.674512   \n",
       "sqft_living          0.634560   0.767852     1.000000  0.200792    0.864381   \n",
       "sqft_lot             0.024648   0.077281     0.200792  1.000000    0.202232   \n",
       "sqft_above           0.550179   0.674512     0.864381  0.202232    1.000000   \n",
       "...                       ...        ...          ...       ...         ...   \n",
       "grade_5 Fair        -0.165129  -0.158869    -0.145082  0.046759   -0.129629   \n",
       "grade_6 Low Average -0.249867  -0.368267    -0.309025 -0.010934   -0.286765   \n",
       "grade_7 Average     -0.104411  -0.287014    -0.330247 -0.074366   -0.365851   \n",
       "grade_8 Good         0.087951   0.189318     0.087435 -0.034626    0.094996   \n",
       "grade_9 Better       0.171817   0.275050     0.307405  0.036614    0.344270   \n",
       "\n",
       "                     sqft_basement  sqft_garage  sqft_patio  yr_built  \\\n",
       "bedrooms                  0.233439     0.319838    0.198811  0.189040   \n",
       "bathrooms                 0.243152     0.466971    0.337122  0.465494   \n",
       "sqft_living               0.314686     0.501879    0.402151  0.328501   \n",
       "sqft_lot                  0.008935     0.146702    0.231294  0.023935   \n",
       "sqft_above               -0.105954     0.556797    0.312665  0.441051   \n",
       "...                            ...          ...         ...       ...   \n",
       "grade_5 Fair             -0.067458    -0.127598   -0.064014 -0.140424   \n",
       "grade_6 Low Average      -0.112537    -0.302448   -0.147657 -0.308337   \n",
       "grade_7 Average           0.029208    -0.196355   -0.178833 -0.270872   \n",
       "grade_8 Good              0.012691     0.117166    0.055411  0.252517   \n",
       "grade_9 Better           -0.000407     0.205228    0.158156  0.254760   \n",
       "\n",
       "                     yr_renovated  ...  grade_11 Excellent  grade_12 Luxury  \\\n",
       "bedrooms                 0.008767  ...            0.105178         0.069680   \n",
       "bathrooms                0.041384  ...            0.207516         0.152588   \n",
       "sqft_living              0.035436  ...            0.300620         0.241335   \n",
       "sqft_lot                 0.016605  ...            0.076540         0.072262   \n",
       "sqft_above               0.007970  ...            0.268470         0.176094   \n",
       "...                           ...  ...                 ...              ...   \n",
       "grade_5 Fair            -0.004451  ...           -0.013657        -0.007487   \n",
       "grade_6 Low Average      0.014329  ...           -0.038841        -0.021294   \n",
       "grade_7 Average          0.013296  ...           -0.095597        -0.052409   \n",
       "grade_8 Good            -0.020344  ...           -0.077997        -0.042761   \n",
       "grade_9 Better          -0.006461  ...           -0.044285        -0.024279   \n",
       "\n",
       "                     grade_13 Mansion  grade_3 Poor  grade_4 Low  \\\n",
       "bedrooms                     0.044785     -0.032558    -0.083391   \n",
       "bathrooms                    0.085543     -0.026899    -0.060353   \n",
       "sqft_living                  0.176439     -0.024320    -0.061080   \n",
       "sqft_lot                     0.047065      0.019379     0.021827   \n",
       "sqft_above                   0.090063     -0.022592    -0.056149   \n",
       "...                               ...           ...          ...   \n",
       "grade_5 Fair                -0.003315     -0.002030    -0.004591   \n",
       "grade_6 Low Average         -0.009429     -0.005772    -0.013058   \n",
       "grade_7 Average             -0.023206     -0.014207    -0.032140   \n",
       "grade_8 Good                -0.018934     -0.011592    -0.026223   \n",
       "grade_9 Better              -0.010750     -0.006581    -0.014889   \n",
       "\n",
       "                     grade_5 Fair  grade_6 Low Average  grade_7 Average  \\\n",
       "bedrooms                -0.165129            -0.249867        -0.104411   \n",
       "bathrooms               -0.158869            -0.368267        -0.287014   \n",
       "sqft_living             -0.145082            -0.309025        -0.330247   \n",
       "sqft_lot                 0.046759            -0.010934        -0.074366   \n",
       "sqft_above              -0.129629            -0.286765        -0.365851   \n",
       "...                           ...                  ...              ...   \n",
       "grade_5 Fair             1.000000            -0.038000        -0.093526   \n",
       "grade_6 Low Average     -0.038000             1.000000        -0.265996   \n",
       "grade_7 Average         -0.093526            -0.265996         1.000000   \n",
       "grade_8 Good            -0.076308            -0.217025        -0.534145   \n",
       "grade_9 Better          -0.043326            -0.123222        -0.303275   \n",
       "\n",
       "                     grade_8 Good  grade_9 Better  \n",
       "bedrooms                 0.087951        0.171817  \n",
       "bathrooms                0.189318        0.275050  \n",
       "sqft_living              0.087435        0.307405  \n",
       "sqft_lot                -0.034626        0.036614  \n",
       "sqft_above               0.094996        0.344270  \n",
       "...                           ...             ...  \n",
       "grade_5 Fair            -0.076308       -0.043326  \n",
       "grade_6 Low Average     -0.217025       -0.123222  \n",
       "grade_7 Average         -0.534145       -0.303275  \n",
       "grade_8 Good             1.000000       -0.247441  \n",
       "grade_9 Better          -0.247441        1.000000  \n",
       "\n",
       "[125 rows x 125 columns]"
      ]
     },
     "execution_count": 1012,
     "metadata": {},
     "output_type": "execute_result"
    }
   ],
   "source": [
    "X1.corr()"
   ]
  },
  {
   "cell_type": "code",
   "execution_count": 1013,
   "metadata": {},
   "outputs": [
    {
     "data": {
      "text/html": [
       "<div>\n",
       "<style scoped>\n",
       "    .dataframe tbody tr th:only-of-type {\n",
       "        vertical-align: middle;\n",
       "    }\n",
       "\n",
       "    .dataframe tbody tr th {\n",
       "        vertical-align: top;\n",
       "    }\n",
       "\n",
       "    .dataframe thead th {\n",
       "        text-align: right;\n",
       "    }\n",
       "</style>\n",
       "<table border=\"1\" class=\"dataframe\">\n",
       "  <thead>\n",
       "    <tr style=\"text-align: right;\">\n",
       "      <th></th>\n",
       "      <th>bedrooms</th>\n",
       "      <th>bathrooms</th>\n",
       "      <th>sqft_living</th>\n",
       "      <th>sqft_lot</th>\n",
       "      <th>sqft_above</th>\n",
       "      <th>sqft_basement</th>\n",
       "      <th>sqft_garage</th>\n",
       "      <th>sqft_patio</th>\n",
       "      <th>yr_built</th>\n",
       "      <th>yr_renovated</th>\n",
       "      <th>...</th>\n",
       "      <th>grade_11 Excellent</th>\n",
       "      <th>grade_12 Luxury</th>\n",
       "      <th>grade_13 Mansion</th>\n",
       "      <th>grade_3 Poor</th>\n",
       "      <th>grade_4 Low</th>\n",
       "      <th>grade_5 Fair</th>\n",
       "      <th>grade_6 Low Average</th>\n",
       "      <th>grade_7 Average</th>\n",
       "      <th>grade_8 Good</th>\n",
       "      <th>grade_9 Better</th>\n",
       "    </tr>\n",
       "  </thead>\n",
       "  <tbody>\n",
       "    <tr>\n",
       "      <th>bedrooms</th>\n",
       "      <td>True</td>\n",
       "      <td>False</td>\n",
       "      <td>False</td>\n",
       "      <td>False</td>\n",
       "      <td>False</td>\n",
       "      <td>False</td>\n",
       "      <td>False</td>\n",
       "      <td>False</td>\n",
       "      <td>False</td>\n",
       "      <td>False</td>\n",
       "      <td>...</td>\n",
       "      <td>False</td>\n",
       "      <td>False</td>\n",
       "      <td>False</td>\n",
       "      <td>False</td>\n",
       "      <td>False</td>\n",
       "      <td>False</td>\n",
       "      <td>False</td>\n",
       "      <td>False</td>\n",
       "      <td>False</td>\n",
       "      <td>False</td>\n",
       "    </tr>\n",
       "    <tr>\n",
       "      <th>bathrooms</th>\n",
       "      <td>False</td>\n",
       "      <td>True</td>\n",
       "      <td>True</td>\n",
       "      <td>False</td>\n",
       "      <td>False</td>\n",
       "      <td>False</td>\n",
       "      <td>False</td>\n",
       "      <td>False</td>\n",
       "      <td>False</td>\n",
       "      <td>False</td>\n",
       "      <td>...</td>\n",
       "      <td>False</td>\n",
       "      <td>False</td>\n",
       "      <td>False</td>\n",
       "      <td>False</td>\n",
       "      <td>False</td>\n",
       "      <td>False</td>\n",
       "      <td>False</td>\n",
       "      <td>False</td>\n",
       "      <td>False</td>\n",
       "      <td>False</td>\n",
       "    </tr>\n",
       "    <tr>\n",
       "      <th>sqft_living</th>\n",
       "      <td>False</td>\n",
       "      <td>True</td>\n",
       "      <td>True</td>\n",
       "      <td>False</td>\n",
       "      <td>True</td>\n",
       "      <td>False</td>\n",
       "      <td>False</td>\n",
       "      <td>False</td>\n",
       "      <td>False</td>\n",
       "      <td>False</td>\n",
       "      <td>...</td>\n",
       "      <td>False</td>\n",
       "      <td>False</td>\n",
       "      <td>False</td>\n",
       "      <td>False</td>\n",
       "      <td>False</td>\n",
       "      <td>False</td>\n",
       "      <td>False</td>\n",
       "      <td>False</td>\n",
       "      <td>False</td>\n",
       "      <td>False</td>\n",
       "    </tr>\n",
       "    <tr>\n",
       "      <th>sqft_lot</th>\n",
       "      <td>False</td>\n",
       "      <td>False</td>\n",
       "      <td>False</td>\n",
       "      <td>True</td>\n",
       "      <td>False</td>\n",
       "      <td>False</td>\n",
       "      <td>False</td>\n",
       "      <td>False</td>\n",
       "      <td>False</td>\n",
       "      <td>False</td>\n",
       "      <td>...</td>\n",
       "      <td>False</td>\n",
       "      <td>False</td>\n",
       "      <td>False</td>\n",
       "      <td>False</td>\n",
       "      <td>False</td>\n",
       "      <td>False</td>\n",
       "      <td>False</td>\n",
       "      <td>False</td>\n",
       "      <td>False</td>\n",
       "      <td>False</td>\n",
       "    </tr>\n",
       "    <tr>\n",
       "      <th>sqft_above</th>\n",
       "      <td>False</td>\n",
       "      <td>False</td>\n",
       "      <td>True</td>\n",
       "      <td>False</td>\n",
       "      <td>True</td>\n",
       "      <td>False</td>\n",
       "      <td>False</td>\n",
       "      <td>False</td>\n",
       "      <td>False</td>\n",
       "      <td>False</td>\n",
       "      <td>...</td>\n",
       "      <td>False</td>\n",
       "      <td>False</td>\n",
       "      <td>False</td>\n",
       "      <td>False</td>\n",
       "      <td>False</td>\n",
       "      <td>False</td>\n",
       "      <td>False</td>\n",
       "      <td>False</td>\n",
       "      <td>False</td>\n",
       "      <td>False</td>\n",
       "    </tr>\n",
       "    <tr>\n",
       "      <th>...</th>\n",
       "      <td>...</td>\n",
       "      <td>...</td>\n",
       "      <td>...</td>\n",
       "      <td>...</td>\n",
       "      <td>...</td>\n",
       "      <td>...</td>\n",
       "      <td>...</td>\n",
       "      <td>...</td>\n",
       "      <td>...</td>\n",
       "      <td>...</td>\n",
       "      <td>...</td>\n",
       "      <td>...</td>\n",
       "      <td>...</td>\n",
       "      <td>...</td>\n",
       "      <td>...</td>\n",
       "      <td>...</td>\n",
       "      <td>...</td>\n",
       "      <td>...</td>\n",
       "      <td>...</td>\n",
       "      <td>...</td>\n",
       "      <td>...</td>\n",
       "    </tr>\n",
       "    <tr>\n",
       "      <th>grade_5 Fair</th>\n",
       "      <td>False</td>\n",
       "      <td>False</td>\n",
       "      <td>False</td>\n",
       "      <td>False</td>\n",
       "      <td>False</td>\n",
       "      <td>False</td>\n",
       "      <td>False</td>\n",
       "      <td>False</td>\n",
       "      <td>False</td>\n",
       "      <td>False</td>\n",
       "      <td>...</td>\n",
       "      <td>False</td>\n",
       "      <td>False</td>\n",
       "      <td>False</td>\n",
       "      <td>False</td>\n",
       "      <td>False</td>\n",
       "      <td>True</td>\n",
       "      <td>False</td>\n",
       "      <td>False</td>\n",
       "      <td>False</td>\n",
       "      <td>False</td>\n",
       "    </tr>\n",
       "    <tr>\n",
       "      <th>grade_6 Low Average</th>\n",
       "      <td>False</td>\n",
       "      <td>False</td>\n",
       "      <td>False</td>\n",
       "      <td>False</td>\n",
       "      <td>False</td>\n",
       "      <td>False</td>\n",
       "      <td>False</td>\n",
       "      <td>False</td>\n",
       "      <td>False</td>\n",
       "      <td>False</td>\n",
       "      <td>...</td>\n",
       "      <td>False</td>\n",
       "      <td>False</td>\n",
       "      <td>False</td>\n",
       "      <td>False</td>\n",
       "      <td>False</td>\n",
       "      <td>False</td>\n",
       "      <td>True</td>\n",
       "      <td>False</td>\n",
       "      <td>False</td>\n",
       "      <td>False</td>\n",
       "    </tr>\n",
       "    <tr>\n",
       "      <th>grade_7 Average</th>\n",
       "      <td>False</td>\n",
       "      <td>False</td>\n",
       "      <td>False</td>\n",
       "      <td>False</td>\n",
       "      <td>False</td>\n",
       "      <td>False</td>\n",
       "      <td>False</td>\n",
       "      <td>False</td>\n",
       "      <td>False</td>\n",
       "      <td>False</td>\n",
       "      <td>...</td>\n",
       "      <td>False</td>\n",
       "      <td>False</td>\n",
       "      <td>False</td>\n",
       "      <td>False</td>\n",
       "      <td>False</td>\n",
       "      <td>False</td>\n",
       "      <td>False</td>\n",
       "      <td>True</td>\n",
       "      <td>False</td>\n",
       "      <td>False</td>\n",
       "    </tr>\n",
       "    <tr>\n",
       "      <th>grade_8 Good</th>\n",
       "      <td>False</td>\n",
       "      <td>False</td>\n",
       "      <td>False</td>\n",
       "      <td>False</td>\n",
       "      <td>False</td>\n",
       "      <td>False</td>\n",
       "      <td>False</td>\n",
       "      <td>False</td>\n",
       "      <td>False</td>\n",
       "      <td>False</td>\n",
       "      <td>...</td>\n",
       "      <td>False</td>\n",
       "      <td>False</td>\n",
       "      <td>False</td>\n",
       "      <td>False</td>\n",
       "      <td>False</td>\n",
       "      <td>False</td>\n",
       "      <td>False</td>\n",
       "      <td>False</td>\n",
       "      <td>True</td>\n",
       "      <td>False</td>\n",
       "    </tr>\n",
       "    <tr>\n",
       "      <th>grade_9 Better</th>\n",
       "      <td>False</td>\n",
       "      <td>False</td>\n",
       "      <td>False</td>\n",
       "      <td>False</td>\n",
       "      <td>False</td>\n",
       "      <td>False</td>\n",
       "      <td>False</td>\n",
       "      <td>False</td>\n",
       "      <td>False</td>\n",
       "      <td>False</td>\n",
       "      <td>...</td>\n",
       "      <td>False</td>\n",
       "      <td>False</td>\n",
       "      <td>False</td>\n",
       "      <td>False</td>\n",
       "      <td>False</td>\n",
       "      <td>False</td>\n",
       "      <td>False</td>\n",
       "      <td>False</td>\n",
       "      <td>False</td>\n",
       "      <td>True</td>\n",
       "    </tr>\n",
       "  </tbody>\n",
       "</table>\n",
       "<p>125 rows × 125 columns</p>\n",
       "</div>"
      ],
      "text/plain": [
       "                     bedrooms  bathrooms  sqft_living  sqft_lot  sqft_above  \\\n",
       "bedrooms                 True      False        False     False       False   \n",
       "bathrooms               False       True         True     False       False   \n",
       "sqft_living             False       True         True     False        True   \n",
       "sqft_lot                False      False        False      True       False   \n",
       "sqft_above              False      False         True     False        True   \n",
       "...                       ...        ...          ...       ...         ...   \n",
       "grade_5 Fair            False      False        False     False       False   \n",
       "grade_6 Low Average     False      False        False     False       False   \n",
       "grade_7 Average         False      False        False     False       False   \n",
       "grade_8 Good            False      False        False     False       False   \n",
       "grade_9 Better          False      False        False     False       False   \n",
       "\n",
       "                     sqft_basement  sqft_garage  sqft_patio  yr_built  \\\n",
       "bedrooms                     False        False       False     False   \n",
       "bathrooms                    False        False       False     False   \n",
       "sqft_living                  False        False       False     False   \n",
       "sqft_lot                     False        False       False     False   \n",
       "sqft_above                   False        False       False     False   \n",
       "...                            ...          ...         ...       ...   \n",
       "grade_5 Fair                 False        False       False     False   \n",
       "grade_6 Low Average          False        False       False     False   \n",
       "grade_7 Average              False        False       False     False   \n",
       "grade_8 Good                 False        False       False     False   \n",
       "grade_9 Better               False        False       False     False   \n",
       "\n",
       "                     yr_renovated  ...  grade_11 Excellent  grade_12 Luxury  \\\n",
       "bedrooms                    False  ...               False            False   \n",
       "bathrooms                   False  ...               False            False   \n",
       "sqft_living                 False  ...               False            False   \n",
       "sqft_lot                    False  ...               False            False   \n",
       "sqft_above                  False  ...               False            False   \n",
       "...                           ...  ...                 ...              ...   \n",
       "grade_5 Fair                False  ...               False            False   \n",
       "grade_6 Low Average         False  ...               False            False   \n",
       "grade_7 Average             False  ...               False            False   \n",
       "grade_8 Good                False  ...               False            False   \n",
       "grade_9 Better              False  ...               False            False   \n",
       "\n",
       "                     grade_13 Mansion  grade_3 Poor  grade_4 Low  \\\n",
       "bedrooms                        False         False        False   \n",
       "bathrooms                       False         False        False   \n",
       "sqft_living                     False         False        False   \n",
       "sqft_lot                        False         False        False   \n",
       "sqft_above                      False         False        False   \n",
       "...                               ...           ...          ...   \n",
       "grade_5 Fair                    False         False        False   \n",
       "grade_6 Low Average             False         False        False   \n",
       "grade_7 Average                 False         False        False   \n",
       "grade_8 Good                    False         False        False   \n",
       "grade_9 Better                  False         False        False   \n",
       "\n",
       "                     grade_5 Fair  grade_6 Low Average  grade_7 Average  \\\n",
       "bedrooms                    False                False            False   \n",
       "bathrooms                   False                False            False   \n",
       "sqft_living                 False                False            False   \n",
       "sqft_lot                    False                False            False   \n",
       "sqft_above                  False                False            False   \n",
       "...                           ...                  ...              ...   \n",
       "grade_5 Fair                 True                False            False   \n",
       "grade_6 Low Average         False                 True            False   \n",
       "grade_7 Average             False                False             True   \n",
       "grade_8 Good                False                False            False   \n",
       "grade_9 Better              False                False            False   \n",
       "\n",
       "                     grade_8 Good  grade_9 Better  \n",
       "bedrooms                    False           False  \n",
       "bathrooms                   False           False  \n",
       "sqft_living                 False           False  \n",
       "sqft_lot                    False           False  \n",
       "sqft_above                  False           False  \n",
       "...                           ...             ...  \n",
       "grade_5 Fair                False           False  \n",
       "grade_6 Low Average         False           False  \n",
       "grade_7 Average             False           False  \n",
       "grade_8 Good                 True           False  \n",
       "grade_9 Better              False            True  \n",
       "\n",
       "[125 rows x 125 columns]"
      ]
     },
     "execution_count": 1013,
     "metadata": {},
     "output_type": "execute_result"
    }
   ],
   "source": [
    "abs(X1.corr()) > .75"
   ]
  },
  {
   "cell_type": "code",
   "execution_count": 370,
   "metadata": {},
   "outputs": [
    {
     "data": {
      "text/html": [
       "<div>\n",
       "<style scoped>\n",
       "    .dataframe tbody tr th:only-of-type {\n",
       "        vertical-align: middle;\n",
       "    }\n",
       "\n",
       "    .dataframe tbody tr th {\n",
       "        vertical-align: top;\n",
       "    }\n",
       "\n",
       "    .dataframe thead th {\n",
       "        text-align: right;\n",
       "    }\n",
       "</style>\n",
       "<table border=\"1\" class=\"dataframe\">\n",
       "  <thead>\n",
       "    <tr style=\"text-align: right;\">\n",
       "      <th></th>\n",
       "      <th>cc</th>\n",
       "    </tr>\n",
       "    <tr>\n",
       "      <th>pairs</th>\n",
       "      <th></th>\n",
       "    </tr>\n",
       "  </thead>\n",
       "  <tbody>\n",
       "    <tr>\n",
       "      <th>(sqft_living, sqft_above)</th>\n",
       "      <td>0.864381</td>\n",
       "    </tr>\n",
       "    <tr>\n",
       "      <th>(bathrooms, sqft_living)</th>\n",
       "      <td>0.767852</td>\n",
       "    </tr>\n",
       "  </tbody>\n",
       "</table>\n",
       "</div>"
      ],
      "text/plain": [
       "                                 cc\n",
       "pairs                              \n",
       "(sqft_living, sqft_above)  0.864381\n",
       "(bathrooms, sqft_living)   0.767852"
      ]
     },
     "execution_count": 370,
     "metadata": {},
     "output_type": "execute_result"
    }
   ],
   "source": [
    "X2 = X1.corr().abs().stack().reset_index().sort_values(0, ascending=False)\n",
    "X2['pairs'] = list(zip(X2.level_0, X2.level_1))\n",
    "X2.set_index(['pairs'], inplace=True)\n",
    "X2.drop(columns=['level_1', 'level_0'], inplace = True)\n",
    "X2.columns = ['cc']\n",
    "X2.drop_duplicates(inplace=True)\n",
    "X2[(X2.cc>.75) & (X2.cc<1)]"
   ]
  },
  {
   "cell_type": "code",
   "execution_count": 1136,
   "metadata": {},
   "outputs": [],
   "source": [
    "# X1.drop(columns=['sqf'], inplace=True)"
   ]
  },
  {
   "cell_type": "code",
   "execution_count": 1137,
   "metadata": {
    "scrolled": false
   },
   "outputs": [
    {
     "data": {
      "text/html": [
       "<table class=\"simpletable\">\n",
       "<caption>OLS Regression Results</caption>\n",
       "<tr>\n",
       "  <th>Dep. Variable:</th>          <td>price</td>      <th>  R-squared:         </th>  <td>   0.770</td>  \n",
       "</tr>\n",
       "<tr>\n",
       "  <th>Model:</th>                   <td>OLS</td>       <th>  Adj. R-squared:    </th>  <td>   0.769</td>  \n",
       "</tr>\n",
       "<tr>\n",
       "  <th>Method:</th>             <td>Least Squares</td>  <th>  F-statistic:       </th>  <td>   798.3</td>  \n",
       "</tr>\n",
       "<tr>\n",
       "  <th>Date:</th>             <td>Tue, 27 Sep 2022</td> <th>  Prob (F-statistic):</th>   <td>  0.00</td>   \n",
       "</tr>\n",
       "<tr>\n",
       "  <th>Time:</th>                 <td>17:24:19</td>     <th>  Log-Likelihood:    </th> <td>-4.1222e+05</td>\n",
       "</tr>\n",
       "<tr>\n",
       "  <th>No. Observations:</th>      <td> 29200</td>      <th>  AIC:               </th>  <td>8.247e+05</td> \n",
       "</tr>\n",
       "<tr>\n",
       "  <th>Df Residuals:</th>          <td> 29077</td>      <th>  BIC:               </th>  <td>8.257e+05</td> \n",
       "</tr>\n",
       "<tr>\n",
       "  <th>Df Model:</th>              <td>   122</td>      <th>                     </th>      <td> </td>     \n",
       "</tr>\n",
       "<tr>\n",
       "  <th>Covariance Type:</th>      <td>nonrobust</td>    <th>                     </th>      <td> </td>     \n",
       "</tr>\n",
       "</table>\n",
       "<table class=\"simpletable\">\n",
       "<tr>\n",
       "                 <td></td>                    <th>coef</th>     <th>std err</th>      <th>t</th>      <th>P>|t|</th>  <th>[0.025</th>    <th>0.975]</th>  \n",
       "</tr>\n",
       "<tr>\n",
       "  <th>const</th>                           <td>-1.002e+08</td> <td> 1.29e+07</td> <td>   -7.757</td> <td> 0.000</td> <td>-1.25e+08</td> <td>-7.49e+07</td>\n",
       "</tr>\n",
       "<tr>\n",
       "  <th>bedrooms</th>                        <td> 7932.2540</td> <td> 2829.173</td> <td>    2.804</td> <td> 0.005</td> <td> 2386.947</td> <td> 1.35e+04</td>\n",
       "</tr>\n",
       "<tr>\n",
       "  <th>sqft_living</th>                     <td>  248.3904</td> <td>    4.183</td> <td>   59.385</td> <td> 0.000</td> <td>  240.192</td> <td>  256.589</td>\n",
       "</tr>\n",
       "<tr>\n",
       "  <th>sqft_lot</th>                        <td>    1.6314</td> <td>    0.087</td> <td>   18.808</td> <td> 0.000</td> <td>    1.461</td> <td>    1.801</td>\n",
       "</tr>\n",
       "<tr>\n",
       "  <th>sqft_basement</th>                   <td>  -48.4876</td> <td>    4.234</td> <td>  -11.451</td> <td> 0.000</td> <td>  -56.787</td> <td>  -40.188</td>\n",
       "</tr>\n",
       "<tr>\n",
       "  <th>sqft_garage</th>                     <td>   77.1141</td> <td>    9.993</td> <td>    7.717</td> <td> 0.000</td> <td>   57.528</td> <td>   96.700</td>\n",
       "</tr>\n",
       "<tr>\n",
       "  <th>sqft_patio</th>                      <td>   26.5172</td> <td>    9.981</td> <td>    2.657</td> <td> 0.008</td> <td>    6.953</td> <td>   46.081</td>\n",
       "</tr>\n",
       "<tr>\n",
       "  <th>yr_renovated</th>                    <td>   67.1938</td> <td>    4.896</td> <td>   13.726</td> <td> 0.000</td> <td>   57.598</td> <td>   76.789</td>\n",
       "</tr>\n",
       "<tr>\n",
       "  <th>lat</th>                             <td> 1.996e+05</td> <td> 1.14e+05</td> <td>    1.756</td> <td> 0.079</td> <td>-2.32e+04</td> <td> 4.22e+05</td>\n",
       "</tr>\n",
       "<tr>\n",
       "  <th>long</th>                            <td>-7.461e+05</td> <td> 1.01e+05</td> <td>   -7.398</td> <td> 0.000</td> <td>-9.44e+05</td> <td>-5.48e+05</td>\n",
       "</tr>\n",
       "<tr>\n",
       "  <th>yr_old</th>                          <td>  528.3719</td> <td>   96.776</td> <td>    5.460</td> <td> 0.000</td> <td>  338.686</td> <td>  718.057</td>\n",
       "</tr>\n",
       "<tr>\n",
       "  <th>waterfront_YES</th>                  <td> 2.928e+05</td> <td> 1.79e+04</td> <td>   16.391</td> <td> 0.000</td> <td> 2.58e+05</td> <td> 3.28e+05</td>\n",
       "</tr>\n",
       "<tr>\n",
       "  <th>greenbelt_YES</th>                   <td> 4.818e+04</td> <td> 1.26e+04</td> <td>    3.828</td> <td> 0.000</td> <td> 2.35e+04</td> <td> 7.29e+04</td>\n",
       "</tr>\n",
       "<tr>\n",
       "  <th>nuisance_YES</th>                    <td>-4.843e+04</td> <td> 5297.842</td> <td>   -9.142</td> <td> 0.000</td> <td>-5.88e+04</td> <td> -3.8e+04</td>\n",
       "</tr>\n",
       "<tr>\n",
       "  <th>view_EXCELLENT</th>                  <td> 4.047e+05</td> <td>  1.8e+04</td> <td>   22.421</td> <td> 0.000</td> <td> 3.69e+05</td> <td>  4.4e+05</td>\n",
       "</tr>\n",
       "<tr>\n",
       "  <th>view_FAIR</th>                       <td> 7.458e+04</td> <td> 2.38e+04</td> <td>    3.137</td> <td> 0.002</td> <td>  2.8e+04</td> <td> 1.21e+05</td>\n",
       "</tr>\n",
       "<tr>\n",
       "  <th>view_GOOD</th>                       <td> 9.183e+04</td> <td> 1.36e+04</td> <td>    6.767</td> <td> 0.000</td> <td> 6.52e+04</td> <td> 1.18e+05</td>\n",
       "</tr>\n",
       "<tr>\n",
       "  <th>view_NONE</th>                       <td>-1.016e+05</td> <td> 8262.944</td> <td>  -12.297</td> <td> 0.000</td> <td>-1.18e+05</td> <td>-8.54e+04</td>\n",
       "</tr>\n",
       "<tr>\n",
       "  <th>condition_Fair</th>                  <td>-8.318e+04</td> <td> 2.24e+04</td> <td>   -3.710</td> <td> 0.000</td> <td>-1.27e+05</td> <td>-3.92e+04</td>\n",
       "</tr>\n",
       "<tr>\n",
       "  <th>condition_Good</th>                  <td> 4.851e+04</td> <td> 4910.158</td> <td>    9.879</td> <td> 0.000</td> <td> 3.89e+04</td> <td> 5.81e+04</td>\n",
       "</tr>\n",
       "<tr>\n",
       "  <th>condition_Poor</th>                  <td>-7.105e+04</td> <td> 4.35e+04</td> <td>   -1.633</td> <td> 0.102</td> <td>-1.56e+05</td> <td> 1.42e+04</td>\n",
       "</tr>\n",
       "<tr>\n",
       "  <th>condition_Very Good</th>             <td> 1.068e+05</td> <td> 6792.791</td> <td>   15.717</td> <td> 0.000</td> <td> 9.34e+04</td> <td>  1.2e+05</td>\n",
       "</tr>\n",
       "<tr>\n",
       "  <th>heat_source_Gas</th>                 <td> 1.636e+04</td> <td> 4710.421</td> <td>    3.474</td> <td> 0.001</td> <td> 7131.578</td> <td> 2.56e+04</td>\n",
       "</tr>\n",
       "<tr>\n",
       "  <th>heat_source_Gas/Solar</th>           <td> 1.423e+05</td> <td> 3.44e+04</td> <td>    4.140</td> <td> 0.000</td> <td> 7.49e+04</td> <td>  2.1e+05</td>\n",
       "</tr>\n",
       "<tr>\n",
       "  <th>sewer_system_PRIVATE RESTRICTED</th> <td>-4.251e+05</td> <td>  1.5e+05</td> <td>   -2.832</td> <td> 0.005</td> <td>-7.19e+05</td> <td>-1.31e+05</td>\n",
       "</tr>\n",
       "<tr>\n",
       "  <th>sewer_system_PUBLIC</th>             <td> 4.588e+04</td> <td> 7552.310</td> <td>    6.075</td> <td> 0.000</td> <td> 3.11e+04</td> <td> 6.07e+04</td>\n",
       "</tr>\n",
       "<tr>\n",
       "  <th>Zipcode_98002</th>                   <td> 6.324e+04</td> <td> 2.27e+04</td> <td>    2.789</td> <td> 0.005</td> <td> 1.88e+04</td> <td> 1.08e+05</td>\n",
       "</tr>\n",
       "<tr>\n",
       "  <th>Zipcode_98003</th>                   <td>-3.634e+04</td> <td> 2.09e+04</td> <td>   -1.739</td> <td> 0.082</td> <td>-7.73e+04</td> <td> 4616.941</td>\n",
       "</tr>\n",
       "<tr>\n",
       "  <th>Zipcode_98004</th>                   <td>  1.59e+06</td> <td> 4.26e+04</td> <td>   37.358</td> <td> 0.000</td> <td> 1.51e+06</td> <td> 1.67e+06</td>\n",
       "</tr>\n",
       "<tr>\n",
       "  <th>Zipcode_98005</th>                   <td> 1.098e+06</td> <td> 4.66e+04</td> <td>   23.574</td> <td> 0.000</td> <td> 1.01e+06</td> <td> 1.19e+06</td>\n",
       "</tr>\n",
       "<tr>\n",
       "  <th>Zipcode_98006</th>                   <td> 8.048e+05</td> <td> 3.75e+04</td> <td>   21.476</td> <td> 0.000</td> <td> 7.31e+05</td> <td> 8.78e+05</td>\n",
       "</tr>\n",
       "<tr>\n",
       "  <th>Zipcode_98007</th>                   <td> 7.481e+05</td> <td> 4.75e+04</td> <td>   15.737</td> <td> 0.000</td> <td> 6.55e+05</td> <td> 8.41e+05</td>\n",
       "</tr>\n",
       "<tr>\n",
       "  <th>Zipcode_98008</th>                   <td> 8.008e+05</td> <td> 4.44e+04</td> <td>   18.037</td> <td> 0.000</td> <td> 7.14e+05</td> <td> 8.88e+05</td>\n",
       "</tr>\n",
       "<tr>\n",
       "  <th>Zipcode_98010</th>                   <td> 1.884e+05</td> <td> 3.39e+04</td> <td>    5.559</td> <td> 0.000</td> <td> 1.22e+05</td> <td> 2.55e+05</td>\n",
       "</tr>\n",
       "<tr>\n",
       "  <th>Zipcode_98011</th>                   <td> 4.389e+05</td> <td> 5.72e+04</td> <td>    7.674</td> <td> 0.000</td> <td> 3.27e+05</td> <td> 5.51e+05</td>\n",
       "</tr>\n",
       "<tr>\n",
       "  <th>Zipcode_98014</th>                   <td> 4.056e+05</td> <td> 6.35e+04</td> <td>    6.382</td> <td> 0.000</td> <td> 2.81e+05</td> <td>  5.3e+05</td>\n",
       "</tr>\n",
       "<tr>\n",
       "  <th>Zipcode_98019</th>                   <td> 3.525e+05</td> <td> 6.49e+04</td> <td>    5.432</td> <td> 0.000</td> <td> 2.25e+05</td> <td>  4.8e+05</td>\n",
       "</tr>\n",
       "<tr>\n",
       "  <th>Zipcode_98022</th>                   <td> 1.948e+05</td> <td> 3.53e+04</td> <td>    5.514</td> <td> 0.000</td> <td> 1.26e+05</td> <td> 2.64e+05</td>\n",
       "</tr>\n",
       "<tr>\n",
       "  <th>Zipcode_98023</th>                   <td> -1.11e+05</td> <td> 2.02e+04</td> <td>   -5.490</td> <td> 0.000</td> <td>-1.51e+05</td> <td>-7.14e+04</td>\n",
       "</tr>\n",
       "<tr>\n",
       "  <th>Zipcode_98024</th>                   <td> 7.295e+05</td> <td> 5.94e+04</td> <td>   12.290</td> <td> 0.000</td> <td> 6.13e+05</td> <td> 8.46e+05</td>\n",
       "</tr>\n",
       "<tr>\n",
       "  <th>Zipcode_98027</th>                   <td> 5.809e+05</td> <td> 4.06e+04</td> <td>   14.306</td> <td> 0.000</td> <td> 5.01e+05</td> <td>  6.6e+05</td>\n",
       "</tr>\n",
       "<tr>\n",
       "  <th>Zipcode_98028</th>                   <td> 3.289e+05</td> <td> 5.53e+04</td> <td>    5.951</td> <td> 0.000</td> <td> 2.21e+05</td> <td> 4.37e+05</td>\n",
       "</tr>\n",
       "<tr>\n",
       "  <th>Zipcode_98029</th>                   <td> 7.864e+05</td> <td> 4.66e+04</td> <td>   16.868</td> <td> 0.000</td> <td> 6.95e+05</td> <td> 8.78e+05</td>\n",
       "</tr>\n",
       "<tr>\n",
       "  <th>Zipcode_98030</th>                   <td> 6.018e+04</td> <td> 2.42e+04</td> <td>    2.492</td> <td> 0.013</td> <td> 1.28e+04</td> <td> 1.08e+05</td>\n",
       "</tr>\n",
       "<tr>\n",
       "  <th>Zipcode_98031</th>                   <td> 8.136e+04</td> <td> 2.41e+04</td> <td>    3.379</td> <td> 0.001</td> <td> 3.42e+04</td> <td> 1.29e+05</td>\n",
       "</tr>\n",
       "<tr>\n",
       "  <th>Zipcode_98032</th>                   <td> 3.026e+04</td> <td> 2.85e+04</td> <td>    1.063</td> <td> 0.288</td> <td>-2.55e+04</td> <td> 8.61e+04</td>\n",
       "</tr>\n",
       "<tr>\n",
       "  <th>Zipcode_98033</th>                   <td> 1.114e+06</td> <td> 4.76e+04</td> <td>   23.420</td> <td> 0.000</td> <td> 1.02e+06</td> <td> 1.21e+06</td>\n",
       "</tr>\n",
       "<tr>\n",
       "  <th>Zipcode_98034</th>                   <td> 5.777e+05</td> <td> 5.09e+04</td> <td>   11.346</td> <td> 0.000</td> <td> 4.78e+05</td> <td> 6.78e+05</td>\n",
       "</tr>\n",
       "<tr>\n",
       "  <th>Zipcode_98038</th>                   <td> 2.605e+05</td> <td>  3.1e+04</td> <td>    8.396</td> <td> 0.000</td> <td>    2e+05</td> <td> 3.21e+05</td>\n",
       "</tr>\n",
       "<tr>\n",
       "  <th>Zipcode_98039</th>                   <td> 1.914e+06</td> <td> 5.79e+04</td> <td>   33.031</td> <td> 0.000</td> <td>  1.8e+06</td> <td> 2.03e+06</td>\n",
       "</tr>\n",
       "<tr>\n",
       "  <th>Zipcode_98040</th>                   <td>  1.12e+06</td> <td> 3.71e+04</td> <td>   30.149</td> <td> 0.000</td> <td> 1.05e+06</td> <td> 1.19e+06</td>\n",
       "</tr>\n",
       "<tr>\n",
       "  <th>Zipcode_98042</th>                   <td> 1.205e+05</td> <td> 2.45e+04</td> <td>    4.919</td> <td> 0.000</td> <td> 7.25e+04</td> <td> 1.69e+05</td>\n",
       "</tr>\n",
       "<tr>\n",
       "  <th>Zipcode_98045</th>                   <td> 6.075e+05</td> <td> 6.03e+04</td> <td>   10.078</td> <td> 0.000</td> <td> 4.89e+05</td> <td> 7.26e+05</td>\n",
       "</tr>\n",
       "<tr>\n",
       "  <th>Zipcode_98047</th>                   <td>  6.93e+04</td> <td> 4.02e+04</td> <td>    1.725</td> <td> 0.085</td> <td>-9450.220</td> <td> 1.48e+05</td>\n",
       "</tr>\n",
       "<tr>\n",
       "  <th>Zipcode_98050</th>                   <td> 6.199e+05</td> <td> 2.37e+05</td> <td>    2.620</td> <td> 0.009</td> <td> 1.56e+05</td> <td> 1.08e+06</td>\n",
       "</tr>\n",
       "<tr>\n",
       "  <th>Zipcode_98051</th>                   <td> 2.026e+05</td> <td> 5.45e+04</td> <td>    3.719</td> <td> 0.000</td> <td> 9.58e+04</td> <td> 3.09e+05</td>\n",
       "</tr>\n",
       "<tr>\n",
       "  <th>Zipcode_98052</th>                   <td> 8.093e+05</td> <td> 4.98e+04</td> <td>   16.244</td> <td> 0.000</td> <td> 7.12e+05</td> <td> 9.07e+05</td>\n",
       "</tr>\n",
       "<tr>\n",
       "  <th>Zipcode_98053</th>                   <td> 7.323e+05</td> <td>  5.5e+04</td> <td>   13.312</td> <td> 0.000</td> <td> 6.24e+05</td> <td>  8.4e+05</td>\n",
       "</tr>\n",
       "<tr>\n",
       "  <th>Zipcode_98055</th>                   <td> 1.205e+05</td> <td> 3.14e+04</td> <td>    3.833</td> <td> 0.000</td> <td> 5.89e+04</td> <td> 1.82e+05</td>\n",
       "</tr>\n",
       "<tr>\n",
       "  <th>Zipcode_98056</th>                   <td> 3.095e+05</td> <td>  3.2e+04</td> <td>    9.687</td> <td> 0.000</td> <td> 2.47e+05</td> <td> 3.72e+05</td>\n",
       "</tr>\n",
       "<tr>\n",
       "  <th>Zipcode_98057</th>                   <td> 1.025e+05</td> <td> 3.85e+04</td> <td>    2.660</td> <td> 0.008</td> <td>  2.7e+04</td> <td> 1.78e+05</td>\n",
       "</tr>\n",
       "<tr>\n",
       "  <th>Zipcode_98058</th>                   <td> 1.574e+05</td> <td> 2.78e+04</td> <td>    5.670</td> <td> 0.000</td> <td> 1.03e+05</td> <td> 2.12e+05</td>\n",
       "</tr>\n",
       "<tr>\n",
       "  <th>Zipcode_98059</th>                   <td> 3.332e+05</td> <td> 3.21e+04</td> <td>   10.370</td> <td> 0.000</td> <td>  2.7e+05</td> <td> 3.96e+05</td>\n",
       "</tr>\n",
       "<tr>\n",
       "  <th>Zipcode_98065</th>                   <td> 6.231e+05</td> <td> 5.62e+04</td> <td>   11.089</td> <td> 0.000</td> <td> 5.13e+05</td> <td> 7.33e+05</td>\n",
       "</tr>\n",
       "<tr>\n",
       "  <th>Zipcode_98070</th>                   <td>-1.086e+04</td> <td> 3.61e+04</td> <td>   -0.301</td> <td> 0.763</td> <td>-8.16e+04</td> <td> 5.99e+04</td>\n",
       "</tr>\n",
       "<tr>\n",
       "  <th>Zipcode_98072</th>                   <td> 5.735e+05</td> <td> 5.76e+04</td> <td>    9.964</td> <td> 0.000</td> <td> 4.61e+05</td> <td> 6.86e+05</td>\n",
       "</tr>\n",
       "<tr>\n",
       "  <th>Zipcode_98074</th>                   <td> 7.937e+05</td> <td> 4.91e+04</td> <td>   16.171</td> <td> 0.000</td> <td> 6.97e+05</td> <td>  8.9e+05</td>\n",
       "</tr>\n",
       "<tr>\n",
       "  <th>Zipcode_98075</th>                   <td> 8.234e+05</td> <td> 4.71e+04</td> <td>   17.469</td> <td> 0.000</td> <td> 7.31e+05</td> <td> 9.16e+05</td>\n",
       "</tr>\n",
       "<tr>\n",
       "  <th>Zipcode_98077</th>                   <td> 5.801e+05</td> <td>  6.1e+04</td> <td>    9.504</td> <td> 0.000</td> <td>  4.6e+05</td> <td>    7e+05</td>\n",
       "</tr>\n",
       "<tr>\n",
       "  <th>Zipcode_98092</th>                   <td> -808.4776</td> <td> 2.14e+04</td> <td>   -0.038</td> <td> 0.970</td> <td>-4.28e+04</td> <td> 4.12e+04</td>\n",
       "</tr>\n",
       "<tr>\n",
       "  <th>Zipcode_98102</th>                   <td> 6.701e+05</td> <td> 4.79e+04</td> <td>   13.991</td> <td> 0.000</td> <td> 5.76e+05</td> <td> 7.64e+05</td>\n",
       "</tr>\n",
       "<tr>\n",
       "  <th>Zipcode_98103</th>                   <td> 4.849e+05</td> <td> 4.48e+04</td> <td>   10.817</td> <td> 0.000</td> <td> 3.97e+05</td> <td> 5.73e+05</td>\n",
       "</tr>\n",
       "<tr>\n",
       "  <th>Zipcode_98105</th>                   <td> 6.474e+05</td> <td>  4.6e+04</td> <td>   14.070</td> <td> 0.000</td> <td> 5.57e+05</td> <td> 7.38e+05</td>\n",
       "</tr>\n",
       "<tr>\n",
       "  <th>Zipcode_98106</th>                   <td> 1.314e+05</td> <td> 3.26e+04</td> <td>    4.035</td> <td> 0.000</td> <td> 6.76e+04</td> <td> 1.95e+05</td>\n",
       "</tr>\n",
       "<tr>\n",
       "  <th>Zipcode_98107</th>                   <td> 4.499e+05</td> <td> 4.56e+04</td> <td>    9.867</td> <td> 0.000</td> <td> 3.61e+05</td> <td> 5.39e+05</td>\n",
       "</tr>\n",
       "<tr>\n",
       "  <th>Zipcode_98108</th>                   <td> 1.972e+05</td> <td> 3.54e+04</td> <td>    5.565</td> <td> 0.000</td> <td> 1.28e+05</td> <td> 2.67e+05</td>\n",
       "</tr>\n",
       "<tr>\n",
       "  <th>Zipcode_98109</th>                   <td>  6.48e+05</td> <td>  4.9e+04</td> <td>   13.236</td> <td> 0.000</td> <td> 5.52e+05</td> <td> 7.44e+05</td>\n",
       "</tr>\n",
       "<tr>\n",
       "  <th>Zipcode_98112</th>                   <td> 8.258e+05</td> <td> 4.29e+04</td> <td>   19.247</td> <td> 0.000</td> <td> 7.42e+05</td> <td>  9.1e+05</td>\n",
       "</tr>\n",
       "<tr>\n",
       "  <th>Zipcode_98115</th>                   <td> 5.308e+05</td> <td>  4.6e+04</td> <td>   11.551</td> <td> 0.000</td> <td> 4.41e+05</td> <td> 6.21e+05</td>\n",
       "</tr>\n",
       "<tr>\n",
       "  <th>Zipcode_98116</th>                   <td> 3.673e+05</td> <td> 3.76e+04</td> <td>    9.781</td> <td> 0.000</td> <td> 2.94e+05</td> <td> 4.41e+05</td>\n",
       "</tr>\n",
       "<tr>\n",
       "  <th>Zipcode_98117</th>                   <td> 4.297e+05</td> <td> 4.64e+04</td> <td>    9.258</td> <td> 0.000</td> <td> 3.39e+05</td> <td> 5.21e+05</td>\n",
       "</tr>\n",
       "<tr>\n",
       "  <th>Zipcode_98118</th>                   <td> 2.821e+05</td> <td> 3.24e+04</td> <td>    8.706</td> <td> 0.000</td> <td> 2.19e+05</td> <td> 3.46e+05</td>\n",
       "</tr>\n",
       "<tr>\n",
       "  <th>Zipcode_98119</th>                   <td> 6.099e+05</td> <td> 4.52e+04</td> <td>   13.497</td> <td> 0.000</td> <td> 5.21e+05</td> <td> 6.98e+05</td>\n",
       "</tr>\n",
       "<tr>\n",
       "  <th>Zipcode_98122</th>                   <td> 4.835e+05</td> <td> 3.97e+04</td> <td>   12.183</td> <td> 0.000</td> <td> 4.06e+05</td> <td> 5.61e+05</td>\n",
       "</tr>\n",
       "<tr>\n",
       "  <th>Zipcode_98125</th>                   <td> 3.069e+05</td> <td> 4.98e+04</td> <td>    6.166</td> <td> 0.000</td> <td> 2.09e+05</td> <td> 4.04e+05</td>\n",
       "</tr>\n",
       "<tr>\n",
       "  <th>Zipcode_98126</th>                   <td> 2.045e+05</td> <td> 3.43e+04</td> <td>    5.956</td> <td> 0.000</td> <td> 1.37e+05</td> <td> 2.72e+05</td>\n",
       "</tr>\n",
       "<tr>\n",
       "  <th>Zipcode_98133</th>                   <td> 1.908e+05</td> <td> 5.15e+04</td> <td>    3.706</td> <td> 0.000</td> <td> 8.99e+04</td> <td> 2.92e+05</td>\n",
       "</tr>\n",
       "<tr>\n",
       "  <th>Zipcode_98136</th>                   <td> 3.325e+05</td> <td> 3.57e+04</td> <td>    9.310</td> <td> 0.000</td> <td> 2.63e+05</td> <td> 4.03e+05</td>\n",
       "</tr>\n",
       "<tr>\n",
       "  <th>Zipcode_98144</th>                   <td> 4.121e+05</td> <td> 3.74e+04</td> <td>   11.009</td> <td> 0.000</td> <td> 3.39e+05</td> <td> 4.86e+05</td>\n",
       "</tr>\n",
       "<tr>\n",
       "  <th>Zipcode_98146</th>                   <td> 1.469e+05</td> <td> 3.05e+04</td> <td>    4.814</td> <td> 0.000</td> <td> 8.71e+04</td> <td> 2.07e+05</td>\n",
       "</tr>\n",
       "<tr>\n",
       "  <th>Zipcode_98148</th>                   <td> 6.585e+04</td> <td> 3.92e+04</td> <td>    1.679</td> <td> 0.093</td> <td> -1.1e+04</td> <td> 1.43e+05</td>\n",
       "</tr>\n",
       "<tr>\n",
       "  <th>Zipcode_98155</th>                   <td> 2.749e+05</td> <td> 5.39e+04</td> <td>    5.105</td> <td> 0.000</td> <td> 1.69e+05</td> <td>  3.8e+05</td>\n",
       "</tr>\n",
       "<tr>\n",
       "  <th>Zipcode_98166</th>                   <td>   9.6e+04</td> <td> 2.81e+04</td> <td>    3.413</td> <td> 0.001</td> <td> 4.09e+04</td> <td> 1.51e+05</td>\n",
       "</tr>\n",
       "<tr>\n",
       "  <th>Zipcode_98168</th>                   <td> 5.747e+04</td> <td> 2.94e+04</td> <td>    1.957</td> <td> 0.050</td> <td>  -91.830</td> <td> 1.15e+05</td>\n",
       "</tr>\n",
       "<tr>\n",
       "  <th>Zipcode_98177</th>                   <td> 2.898e+05</td> <td> 5.36e+04</td> <td>    5.403</td> <td> 0.000</td> <td> 1.85e+05</td> <td> 3.95e+05</td>\n",
       "</tr>\n",
       "<tr>\n",
       "  <th>Zipcode_98178</th>                   <td> 1.248e+05</td> <td> 3.06e+04</td> <td>    4.083</td> <td> 0.000</td> <td> 6.49e+04</td> <td> 1.85e+05</td>\n",
       "</tr>\n",
       "<tr>\n",
       "  <th>Zipcode_98188</th>                   <td> 5.662e+04</td> <td> 3.09e+04</td> <td>    1.832</td> <td> 0.067</td> <td>-3948.465</td> <td> 1.17e+05</td>\n",
       "</tr>\n",
       "<tr>\n",
       "  <th>Zipcode_98198</th>                   <td> 2.661e+04</td> <td> 2.27e+04</td> <td>    1.172</td> <td> 0.241</td> <td>-1.79e+04</td> <td> 7.11e+04</td>\n",
       "</tr>\n",
       "<tr>\n",
       "  <th>Zipcode_98199</th>                   <td> 5.539e+05</td> <td> 4.43e+04</td> <td>   12.514</td> <td> 0.000</td> <td> 4.67e+05</td> <td> 6.41e+05</td>\n",
       "</tr>\n",
       "<tr>\n",
       "  <th>Zipcode_98223</th>                   <td> 8.997e+05</td> <td> 1.89e+05</td> <td>    4.750</td> <td> 0.000</td> <td> 5.28e+05</td> <td> 1.27e+06</td>\n",
       "</tr>\n",
       "<tr>\n",
       "  <th>Zipcode_98224</th>                   <td> 4.883e+05</td> <td> 2.15e+05</td> <td>    2.270</td> <td> 0.023</td> <td> 6.67e+04</td> <td>  9.1e+05</td>\n",
       "</tr>\n",
       "<tr>\n",
       "  <th>Zipcode_98251</th>                   <td> 7.159e+05</td> <td> 2.14e+05</td> <td>    3.338</td> <td> 0.001</td> <td> 2.96e+05</td> <td> 1.14e+06</td>\n",
       "</tr>\n",
       "<tr>\n",
       "  <th>Zipcode_98270</th>                   <td> 1.058e+06</td> <td> 3.39e+05</td> <td>    3.115</td> <td> 0.002</td> <td> 3.92e+05</td> <td> 1.72e+06</td>\n",
       "</tr>\n",
       "<tr>\n",
       "  <th>Zipcode_98271</th>                   <td> 3.826e+05</td> <td> 1.74e+05</td> <td>    2.203</td> <td> 0.028</td> <td> 4.21e+04</td> <td> 7.23e+05</td>\n",
       "</tr>\n",
       "<tr>\n",
       "  <th>Zipcode_98272</th>                   <td>  3.11e+05</td> <td> 1.51e+05</td> <td>    2.061</td> <td> 0.039</td> <td> 1.53e+04</td> <td> 6.07e+05</td>\n",
       "</tr>\n",
       "<tr>\n",
       "  <th>Zipcode_98288</th>                   <td> 5.542e+05</td> <td> 1.37e+05</td> <td>    4.033</td> <td> 0.000</td> <td> 2.85e+05</td> <td> 8.23e+05</td>\n",
       "</tr>\n",
       "<tr>\n",
       "  <th>Zipcode_98296</th>                   <td> 1.177e+05</td> <td> 3.34e+05</td> <td>    0.352</td> <td> 0.725</td> <td>-5.37e+05</td> <td> 7.72e+05</td>\n",
       "</tr>\n",
       "<tr>\n",
       "  <th>Zipcode_98338</th>                   <td> 3.842e+05</td> <td> 2.38e+05</td> <td>    1.617</td> <td> 0.106</td> <td>-8.14e+04</td> <td>  8.5e+05</td>\n",
       "</tr>\n",
       "<tr>\n",
       "  <th>Zipcode_98354</th>                   <td> 4.858e+04</td> <td>    7e+04</td> <td>    0.694</td> <td> 0.488</td> <td>-8.87e+04</td> <td> 1.86e+05</td>\n",
       "</tr>\n",
       "<tr>\n",
       "  <th>Zipcode_98372</th>                   <td> 4.503e+05</td> <td> 2.33e+05</td> <td>    1.932</td> <td> 0.053</td> <td>-6481.109</td> <td> 9.07e+05</td>\n",
       "</tr>\n",
       "<tr>\n",
       "  <th>Zipcode_98387</th>                   <td> 4.076e+05</td> <td>  3.3e+05</td> <td>    1.233</td> <td> 0.217</td> <td> -2.4e+05</td> <td> 1.06e+06</td>\n",
       "</tr>\n",
       "<tr>\n",
       "  <th>Zipcode_98422</th>                   <td>-5.912e+05</td> <td> 3.29e+05</td> <td>   -1.798</td> <td> 0.072</td> <td>-1.24e+06</td> <td> 5.32e+04</td>\n",
       "</tr>\n",
       "<tr>\n",
       "  <th>Zipcode_98663</th>                   <td> 3.833e+05</td> <td> 3.06e+05</td> <td>    1.254</td> <td> 0.210</td> <td>-2.16e+05</td> <td> 9.83e+05</td>\n",
       "</tr>\n",
       "<tr>\n",
       "  <th>grade_11 Excellent</th>              <td> 2.577e+05</td> <td>  1.9e+04</td> <td>   13.548</td> <td> 0.000</td> <td>  2.2e+05</td> <td> 2.95e+05</td>\n",
       "</tr>\n",
       "<tr>\n",
       "  <th>grade_12 Luxury</th>                 <td> 2.192e+05</td> <td> 3.21e+04</td> <td>    6.826</td> <td> 0.000</td> <td> 1.56e+05</td> <td> 2.82e+05</td>\n",
       "</tr>\n",
       "<tr>\n",
       "  <th>grade_13 Mansion</th>                <td>-2.039e+04</td> <td> 6.97e+04</td> <td>   -0.293</td> <td> 0.770</td> <td>-1.57e+05</td> <td> 1.16e+05</td>\n",
       "</tr>\n",
       "<tr>\n",
       "  <th>grade_3 Poor</th>                    <td>-4.023e+05</td> <td> 1.15e+05</td> <td>   -3.510</td> <td> 0.000</td> <td>-6.27e+05</td> <td>-1.78e+05</td>\n",
       "</tr>\n",
       "<tr>\n",
       "  <th>grade_4 Low</th>                     <td>-3.886e+05</td> <td> 5.15e+04</td> <td>   -7.552</td> <td> 0.000</td> <td>-4.89e+05</td> <td>-2.88e+05</td>\n",
       "</tr>\n",
       "<tr>\n",
       "  <th>grade_5 Fair</th>                    <td>-4.512e+05</td> <td> 2.26e+04</td> <td>  -19.990</td> <td> 0.000</td> <td>-4.95e+05</td> <td>-4.07e+05</td>\n",
       "</tr>\n",
       "<tr>\n",
       "  <th>grade_6 Low Average</th>             <td>-4.833e+05</td> <td> 1.53e+04</td> <td>  -31.614</td> <td> 0.000</td> <td>-5.13e+05</td> <td>-4.53e+05</td>\n",
       "</tr>\n",
       "<tr>\n",
       "  <th>grade_7 Average</th>                 <td>-5.041e+05</td> <td> 1.27e+04</td> <td>  -39.646</td> <td> 0.000</td> <td>-5.29e+05</td> <td>-4.79e+05</td>\n",
       "</tr>\n",
       "<tr>\n",
       "  <th>grade_8 Good</th>                    <td>-4.393e+05</td> <td> 1.14e+04</td> <td>  -38.659</td> <td> 0.000</td> <td>-4.62e+05</td> <td>-4.17e+05</td>\n",
       "</tr>\n",
       "<tr>\n",
       "  <th>grade_9 Better</th>                  <td>-2.362e+05</td> <td> 1.11e+04</td> <td>  -21.338</td> <td> 0.000</td> <td>-2.58e+05</td> <td>-2.15e+05</td>\n",
       "</tr>\n",
       "</table>\n",
       "<table class=\"simpletable\">\n",
       "<tr>\n",
       "  <th>Omnibus:</th>       <td>9477.687</td> <th>  Durbin-Watson:     </th>  <td>   1.885</td> \n",
       "</tr>\n",
       "<tr>\n",
       "  <th>Prob(Omnibus):</th>  <td> 0.000</td>  <th>  Jarque-Bera (JB):  </th> <td>178249.412</td>\n",
       "</tr>\n",
       "<tr>\n",
       "  <th>Skew:</th>           <td> 1.084</td>  <th>  Prob(JB):          </th>  <td>    0.00</td> \n",
       "</tr>\n",
       "<tr>\n",
       "  <th>Kurtosis:</th>       <td>14.908</td>  <th>  Cond. No.          </th>  <td>2.19e+08</td> \n",
       "</tr>\n",
       "</table><br/><br/>Notes:<br/>[1] Standard Errors assume that the covariance matrix of the errors is correctly specified.<br/>[2] The condition number is large, 2.19e+08. This might indicate that there are<br/>strong multicollinearity or other numerical problems."
      ],
      "text/plain": [
       "<class 'statsmodels.iolib.summary.Summary'>\n",
       "\"\"\"\n",
       "                            OLS Regression Results                            \n",
       "==============================================================================\n",
       "Dep. Variable:                  price   R-squared:                       0.770\n",
       "Model:                            OLS   Adj. R-squared:                  0.769\n",
       "Method:                 Least Squares   F-statistic:                     798.3\n",
       "Date:                Tue, 27 Sep 2022   Prob (F-statistic):               0.00\n",
       "Time:                        17:24:19   Log-Likelihood:            -4.1222e+05\n",
       "No. Observations:               29200   AIC:                         8.247e+05\n",
       "Df Residuals:                   29077   BIC:                         8.257e+05\n",
       "Df Model:                         122                                         \n",
       "Covariance Type:            nonrobust                                         \n",
       "===================================================================================================\n",
       "                                      coef    std err          t      P>|t|      [0.025      0.975]\n",
       "---------------------------------------------------------------------------------------------------\n",
       "const                           -1.002e+08   1.29e+07     -7.757      0.000   -1.25e+08   -7.49e+07\n",
       "bedrooms                         7932.2540   2829.173      2.804      0.005    2386.947    1.35e+04\n",
       "sqft_living                       248.3904      4.183     59.385      0.000     240.192     256.589\n",
       "sqft_lot                            1.6314      0.087     18.808      0.000       1.461       1.801\n",
       "sqft_basement                     -48.4876      4.234    -11.451      0.000     -56.787     -40.188\n",
       "sqft_garage                        77.1141      9.993      7.717      0.000      57.528      96.700\n",
       "sqft_patio                         26.5172      9.981      2.657      0.008       6.953      46.081\n",
       "yr_renovated                       67.1938      4.896     13.726      0.000      57.598      76.789\n",
       "lat                              1.996e+05   1.14e+05      1.756      0.079   -2.32e+04    4.22e+05\n",
       "long                            -7.461e+05   1.01e+05     -7.398      0.000   -9.44e+05   -5.48e+05\n",
       "yr_old                            528.3719     96.776      5.460      0.000     338.686     718.057\n",
       "waterfront_YES                   2.928e+05   1.79e+04     16.391      0.000    2.58e+05    3.28e+05\n",
       "greenbelt_YES                    4.818e+04   1.26e+04      3.828      0.000    2.35e+04    7.29e+04\n",
       "nuisance_YES                    -4.843e+04   5297.842     -9.142      0.000   -5.88e+04    -3.8e+04\n",
       "view_EXCELLENT                   4.047e+05    1.8e+04     22.421      0.000    3.69e+05     4.4e+05\n",
       "view_FAIR                        7.458e+04   2.38e+04      3.137      0.002     2.8e+04    1.21e+05\n",
       "view_GOOD                        9.183e+04   1.36e+04      6.767      0.000    6.52e+04    1.18e+05\n",
       "view_NONE                       -1.016e+05   8262.944    -12.297      0.000   -1.18e+05   -8.54e+04\n",
       "condition_Fair                  -8.318e+04   2.24e+04     -3.710      0.000   -1.27e+05   -3.92e+04\n",
       "condition_Good                   4.851e+04   4910.158      9.879      0.000    3.89e+04    5.81e+04\n",
       "condition_Poor                  -7.105e+04   4.35e+04     -1.633      0.102   -1.56e+05    1.42e+04\n",
       "condition_Very Good              1.068e+05   6792.791     15.717      0.000    9.34e+04     1.2e+05\n",
       "heat_source_Gas                  1.636e+04   4710.421      3.474      0.001    7131.578    2.56e+04\n",
       "heat_source_Gas/Solar            1.423e+05   3.44e+04      4.140      0.000    7.49e+04     2.1e+05\n",
       "sewer_system_PRIVATE RESTRICTED -4.251e+05    1.5e+05     -2.832      0.005   -7.19e+05   -1.31e+05\n",
       "sewer_system_PUBLIC              4.588e+04   7552.310      6.075      0.000    3.11e+04    6.07e+04\n",
       "Zipcode_98002                    6.324e+04   2.27e+04      2.789      0.005    1.88e+04    1.08e+05\n",
       "Zipcode_98003                   -3.634e+04   2.09e+04     -1.739      0.082   -7.73e+04    4616.941\n",
       "Zipcode_98004                     1.59e+06   4.26e+04     37.358      0.000    1.51e+06    1.67e+06\n",
       "Zipcode_98005                    1.098e+06   4.66e+04     23.574      0.000    1.01e+06    1.19e+06\n",
       "Zipcode_98006                    8.048e+05   3.75e+04     21.476      0.000    7.31e+05    8.78e+05\n",
       "Zipcode_98007                    7.481e+05   4.75e+04     15.737      0.000    6.55e+05    8.41e+05\n",
       "Zipcode_98008                    8.008e+05   4.44e+04     18.037      0.000    7.14e+05    8.88e+05\n",
       "Zipcode_98010                    1.884e+05   3.39e+04      5.559      0.000    1.22e+05    2.55e+05\n",
       "Zipcode_98011                    4.389e+05   5.72e+04      7.674      0.000    3.27e+05    5.51e+05\n",
       "Zipcode_98014                    4.056e+05   6.35e+04      6.382      0.000    2.81e+05     5.3e+05\n",
       "Zipcode_98019                    3.525e+05   6.49e+04      5.432      0.000    2.25e+05     4.8e+05\n",
       "Zipcode_98022                    1.948e+05   3.53e+04      5.514      0.000    1.26e+05    2.64e+05\n",
       "Zipcode_98023                    -1.11e+05   2.02e+04     -5.490      0.000   -1.51e+05   -7.14e+04\n",
       "Zipcode_98024                    7.295e+05   5.94e+04     12.290      0.000    6.13e+05    8.46e+05\n",
       "Zipcode_98027                    5.809e+05   4.06e+04     14.306      0.000    5.01e+05     6.6e+05\n",
       "Zipcode_98028                    3.289e+05   5.53e+04      5.951      0.000    2.21e+05    4.37e+05\n",
       "Zipcode_98029                    7.864e+05   4.66e+04     16.868      0.000    6.95e+05    8.78e+05\n",
       "Zipcode_98030                    6.018e+04   2.42e+04      2.492      0.013    1.28e+04    1.08e+05\n",
       "Zipcode_98031                    8.136e+04   2.41e+04      3.379      0.001    3.42e+04    1.29e+05\n",
       "Zipcode_98032                    3.026e+04   2.85e+04      1.063      0.288   -2.55e+04    8.61e+04\n",
       "Zipcode_98033                    1.114e+06   4.76e+04     23.420      0.000    1.02e+06    1.21e+06\n",
       "Zipcode_98034                    5.777e+05   5.09e+04     11.346      0.000    4.78e+05    6.78e+05\n",
       "Zipcode_98038                    2.605e+05    3.1e+04      8.396      0.000       2e+05    3.21e+05\n",
       "Zipcode_98039                    1.914e+06   5.79e+04     33.031      0.000     1.8e+06    2.03e+06\n",
       "Zipcode_98040                     1.12e+06   3.71e+04     30.149      0.000    1.05e+06    1.19e+06\n",
       "Zipcode_98042                    1.205e+05   2.45e+04      4.919      0.000    7.25e+04    1.69e+05\n",
       "Zipcode_98045                    6.075e+05   6.03e+04     10.078      0.000    4.89e+05    7.26e+05\n",
       "Zipcode_98047                     6.93e+04   4.02e+04      1.725      0.085   -9450.220    1.48e+05\n",
       "Zipcode_98050                    6.199e+05   2.37e+05      2.620      0.009    1.56e+05    1.08e+06\n",
       "Zipcode_98051                    2.026e+05   5.45e+04      3.719      0.000    9.58e+04    3.09e+05\n",
       "Zipcode_98052                    8.093e+05   4.98e+04     16.244      0.000    7.12e+05    9.07e+05\n",
       "Zipcode_98053                    7.323e+05    5.5e+04     13.312      0.000    6.24e+05     8.4e+05\n",
       "Zipcode_98055                    1.205e+05   3.14e+04      3.833      0.000    5.89e+04    1.82e+05\n",
       "Zipcode_98056                    3.095e+05    3.2e+04      9.687      0.000    2.47e+05    3.72e+05\n",
       "Zipcode_98057                    1.025e+05   3.85e+04      2.660      0.008     2.7e+04    1.78e+05\n",
       "Zipcode_98058                    1.574e+05   2.78e+04      5.670      0.000    1.03e+05    2.12e+05\n",
       "Zipcode_98059                    3.332e+05   3.21e+04     10.370      0.000     2.7e+05    3.96e+05\n",
       "Zipcode_98065                    6.231e+05   5.62e+04     11.089      0.000    5.13e+05    7.33e+05\n",
       "Zipcode_98070                   -1.086e+04   3.61e+04     -0.301      0.763   -8.16e+04    5.99e+04\n",
       "Zipcode_98072                    5.735e+05   5.76e+04      9.964      0.000    4.61e+05    6.86e+05\n",
       "Zipcode_98074                    7.937e+05   4.91e+04     16.171      0.000    6.97e+05     8.9e+05\n",
       "Zipcode_98075                    8.234e+05   4.71e+04     17.469      0.000    7.31e+05    9.16e+05\n",
       "Zipcode_98077                    5.801e+05    6.1e+04      9.504      0.000     4.6e+05       7e+05\n",
       "Zipcode_98092                    -808.4776   2.14e+04     -0.038      0.970   -4.28e+04    4.12e+04\n",
       "Zipcode_98102                    6.701e+05   4.79e+04     13.991      0.000    5.76e+05    7.64e+05\n",
       "Zipcode_98103                    4.849e+05   4.48e+04     10.817      0.000    3.97e+05    5.73e+05\n",
       "Zipcode_98105                    6.474e+05    4.6e+04     14.070      0.000    5.57e+05    7.38e+05\n",
       "Zipcode_98106                    1.314e+05   3.26e+04      4.035      0.000    6.76e+04    1.95e+05\n",
       "Zipcode_98107                    4.499e+05   4.56e+04      9.867      0.000    3.61e+05    5.39e+05\n",
       "Zipcode_98108                    1.972e+05   3.54e+04      5.565      0.000    1.28e+05    2.67e+05\n",
       "Zipcode_98109                     6.48e+05    4.9e+04     13.236      0.000    5.52e+05    7.44e+05\n",
       "Zipcode_98112                    8.258e+05   4.29e+04     19.247      0.000    7.42e+05     9.1e+05\n",
       "Zipcode_98115                    5.308e+05    4.6e+04     11.551      0.000    4.41e+05    6.21e+05\n",
       "Zipcode_98116                    3.673e+05   3.76e+04      9.781      0.000    2.94e+05    4.41e+05\n",
       "Zipcode_98117                    4.297e+05   4.64e+04      9.258      0.000    3.39e+05    5.21e+05\n",
       "Zipcode_98118                    2.821e+05   3.24e+04      8.706      0.000    2.19e+05    3.46e+05\n",
       "Zipcode_98119                    6.099e+05   4.52e+04     13.497      0.000    5.21e+05    6.98e+05\n",
       "Zipcode_98122                    4.835e+05   3.97e+04     12.183      0.000    4.06e+05    5.61e+05\n",
       "Zipcode_98125                    3.069e+05   4.98e+04      6.166      0.000    2.09e+05    4.04e+05\n",
       "Zipcode_98126                    2.045e+05   3.43e+04      5.956      0.000    1.37e+05    2.72e+05\n",
       "Zipcode_98133                    1.908e+05   5.15e+04      3.706      0.000    8.99e+04    2.92e+05\n",
       "Zipcode_98136                    3.325e+05   3.57e+04      9.310      0.000    2.63e+05    4.03e+05\n",
       "Zipcode_98144                    4.121e+05   3.74e+04     11.009      0.000    3.39e+05    4.86e+05\n",
       "Zipcode_98146                    1.469e+05   3.05e+04      4.814      0.000    8.71e+04    2.07e+05\n",
       "Zipcode_98148                    6.585e+04   3.92e+04      1.679      0.093    -1.1e+04    1.43e+05\n",
       "Zipcode_98155                    2.749e+05   5.39e+04      5.105      0.000    1.69e+05     3.8e+05\n",
       "Zipcode_98166                      9.6e+04   2.81e+04      3.413      0.001    4.09e+04    1.51e+05\n",
       "Zipcode_98168                    5.747e+04   2.94e+04      1.957      0.050     -91.830    1.15e+05\n",
       "Zipcode_98177                    2.898e+05   5.36e+04      5.403      0.000    1.85e+05    3.95e+05\n",
       "Zipcode_98178                    1.248e+05   3.06e+04      4.083      0.000    6.49e+04    1.85e+05\n",
       "Zipcode_98188                    5.662e+04   3.09e+04      1.832      0.067   -3948.465    1.17e+05\n",
       "Zipcode_98198                    2.661e+04   2.27e+04      1.172      0.241   -1.79e+04    7.11e+04\n",
       "Zipcode_98199                    5.539e+05   4.43e+04     12.514      0.000    4.67e+05    6.41e+05\n",
       "Zipcode_98223                    8.997e+05   1.89e+05      4.750      0.000    5.28e+05    1.27e+06\n",
       "Zipcode_98224                    4.883e+05   2.15e+05      2.270      0.023    6.67e+04     9.1e+05\n",
       "Zipcode_98251                    7.159e+05   2.14e+05      3.338      0.001    2.96e+05    1.14e+06\n",
       "Zipcode_98270                    1.058e+06   3.39e+05      3.115      0.002    3.92e+05    1.72e+06\n",
       "Zipcode_98271                    3.826e+05   1.74e+05      2.203      0.028    4.21e+04    7.23e+05\n",
       "Zipcode_98272                     3.11e+05   1.51e+05      2.061      0.039    1.53e+04    6.07e+05\n",
       "Zipcode_98288                    5.542e+05   1.37e+05      4.033      0.000    2.85e+05    8.23e+05\n",
       "Zipcode_98296                    1.177e+05   3.34e+05      0.352      0.725   -5.37e+05    7.72e+05\n",
       "Zipcode_98338                    3.842e+05   2.38e+05      1.617      0.106   -8.14e+04     8.5e+05\n",
       "Zipcode_98354                    4.858e+04      7e+04      0.694      0.488   -8.87e+04    1.86e+05\n",
       "Zipcode_98372                    4.503e+05   2.33e+05      1.932      0.053   -6481.109    9.07e+05\n",
       "Zipcode_98387                    4.076e+05    3.3e+05      1.233      0.217    -2.4e+05    1.06e+06\n",
       "Zipcode_98422                   -5.912e+05   3.29e+05     -1.798      0.072   -1.24e+06    5.32e+04\n",
       "Zipcode_98663                    3.833e+05   3.06e+05      1.254      0.210   -2.16e+05    9.83e+05\n",
       "grade_11 Excellent               2.577e+05    1.9e+04     13.548      0.000     2.2e+05    2.95e+05\n",
       "grade_12 Luxury                  2.192e+05   3.21e+04      6.826      0.000    1.56e+05    2.82e+05\n",
       "grade_13 Mansion                -2.039e+04   6.97e+04     -0.293      0.770   -1.57e+05    1.16e+05\n",
       "grade_3 Poor                    -4.023e+05   1.15e+05     -3.510      0.000   -6.27e+05   -1.78e+05\n",
       "grade_4 Low                     -3.886e+05   5.15e+04     -7.552      0.000   -4.89e+05   -2.88e+05\n",
       "grade_5 Fair                    -4.512e+05   2.26e+04    -19.990      0.000   -4.95e+05   -4.07e+05\n",
       "grade_6 Low Average             -4.833e+05   1.53e+04    -31.614      0.000   -5.13e+05   -4.53e+05\n",
       "grade_7 Average                 -5.041e+05   1.27e+04    -39.646      0.000   -5.29e+05   -4.79e+05\n",
       "grade_8 Good                    -4.393e+05   1.14e+04    -38.659      0.000   -4.62e+05   -4.17e+05\n",
       "grade_9 Better                  -2.362e+05   1.11e+04    -21.338      0.000   -2.58e+05   -2.15e+05\n",
       "==============================================================================\n",
       "Omnibus:                     9477.687   Durbin-Watson:                   1.885\n",
       "Prob(Omnibus):                  0.000   Jarque-Bera (JB):           178249.412\n",
       "Skew:                           1.084   Prob(JB):                         0.00\n",
       "Kurtosis:                      14.908   Cond. No.                     2.19e+08\n",
       "==============================================================================\n",
       "\n",
       "Notes:\n",
       "[1] Standard Errors assume that the covariance matrix of the errors is correctly specified.\n",
       "[2] The condition number is large, 2.19e+08. This might indicate that there are\n",
       "strong multicollinearity or other numerical problems.\n",
       "\"\"\""
      ]
     },
     "execution_count": 1137,
     "metadata": {},
     "output_type": "execute_result"
    }
   ],
   "source": [
    "model_1 = sm.OLS(y, sm.add_constant(X1))\n",
    "results1 = model_1.fit()\n",
    "results1.summary()"
   ]
  },
  {
   "cell_type": "code",
   "execution_count": 220,
   "metadata": {},
   "outputs": [
    {
     "data": {
      "text/plain": [
       "209743.03677063185"
      ]
     },
     "execution_count": 220,
     "metadata": {},
     "output_type": "execute_result"
    }
   ],
   "source": [
    "mae = mean_absolute_error(y, results1.predict(sm.add_constant(X1)))\n",
    "mae"
   ]
  },
  {
   "cell_type": "code",
   "execution_count": null,
   "metadata": {},
   "outputs": [],
   "source": [
    "y_"
   ]
  },
  {
   "cell_type": "markdown",
   "metadata": {},
   "source": [
    "## Categorical Variables"
   ]
  },
  {
   "cell_type": "code",
   "execution_count": 371,
   "metadata": {},
   "outputs": [
    {
     "data": {
      "text/plain": [
       "<AxesSubplot:xlabel='bedrooms', ylabel='price'>"
      ]
     },
     "execution_count": 371,
     "metadata": {},
     "output_type": "execute_result"
    },
    {
     "data": {
      "image/png": "[encoded data removed]",
      "text/plain": [
       "<Figure size 864x360 with 2 Axes>"
      ]
     },
     "metadata": {
      "needs_background": "light"
     },
     "output_type": "display_data"
    }
   ],
   "source": [
    "fig, (ax1, ax2) = plt.subplots (ncols=2, figsize = (12, 5))\n",
    "df.plot.scatter(x='bathrooms', y='price', ax=ax1)\n",
    "df.plot.scatter(x='bedrooms', y='price', ax=ax2)"
   ]
  },
  {
   "cell_type": "code",
   "execution_count": 372,
   "metadata": {},
   "outputs": [
    {
     "data": {
      "text/plain": [
       "<AxesSubplot:xlabel='bathrooms', ylabel='Density'>"
      ]
     },
     "execution_count": 372,
     "metadata": {},
     "output_type": "execute_result"
    },
    {
     "data": {
      "image/png": "[encoded data removed]",
      "text/plain": [
       "<Figure size 1152x360 with 2 Axes>"
      ]
     },
     "metadata": {
      "needs_background": "light"
     },
     "output_type": "display_data"
    }
   ],
   "source": [
    "import warnings\n",
    "warnings.filterwarnings('ignore')\n",
    "plt.figure(figsize=(16,5))\n",
    "plt.subplot(1,2,1)\n",
    "sns.distplot(df['bedrooms'])\n",
    "plt.subplot(1,2,2)\n",
    "sns.distplot(df['bathrooms'])"
   ]
  },
  {
   "cell_type": "code",
   "execution_count": 373,
   "metadata": {},
   "outputs": [
    {
     "data": {
      "text/plain": [
       "<AxesSubplot:xlabel='floors', ylabel='price'>"
      ]
     },
     "execution_count": 373,
     "metadata": {},
     "output_type": "execute_result"
    },
    {
     "data": {
      "image/png": "[encoded data removed]",
      "text/plain": [
       "<Figure size 864x360 with 2 Axes>"
      ]
     },
     "metadata": {
      "needs_background": "light"
     },
     "output_type": "display_data"
    }
   ],
   "source": [
    "fig, (ax1, ax2) = plt.subplots (ncols=2, figsize = (12, 5))\n",
    "df.plot.scatter(x='sqft_lot', y='price', ax=ax1)\n",
    "df.plot.scatter(x='floors', y='price', ax=ax2)"
   ]
  },
  {
   "cell_type": "code",
   "execution_count": 374,
   "metadata": {},
   "outputs": [
    {
     "data": {
      "text/plain": [
       "<AxesSubplot:xlabel='floors', ylabel='Density'>"
      ]
     },
     "execution_count": 374,
     "metadata": {},
     "output_type": "execute_result"
    },
    {
     "data": {
      "image/png": "[encoded data removed]",
      "text/plain": [
       "<Figure size 1152x360 with 2 Axes>"
      ]
     },
     "metadata": {
      "needs_background": "light"
     },
     "output_type": "display_data"
    }
   ],
   "source": [
    "plt.figure(figsize=(16,5))\n",
    "plt.subplot(1,2,1)\n",
    "sns.distplot(df['sqft_lot'])\n",
    "plt.subplot(1,2,2)\n",
    "sns.distplot(df['floors'])"
   ]
  },
  {
   "cell_type": "markdown",
   "metadata": {},
   "source": [
    "## Continuous numerice predictors"
   ]
  },
  {
   "cell_type": "code",
   "execution_count": 375,
   "metadata": {},
   "outputs": [
    {
     "data": {
      "text/plain": [
       "<AxesSubplot:xlabel='sqft_garage', ylabel='price'>"
      ]
     },
     "execution_count": 375,
     "metadata": {},
     "output_type": "execute_result"
    },
    {
     "data": {
      "image/png": "[encoded data removed]",
      "text/plain": [
       "<Figure size 864x360 with 2 Axes>"
      ]
     },
     "metadata": {
      "needs_background": "light"
     },
     "output_type": "display_data"
    }
   ],
   "source": [
    "fig, (ax1, ax2) = plt.subplots (ncols=2, figsize = (12, 5))\n",
    "df.plot.scatter(x='sqft_above', y='price', ax=ax1)\n",
    "df.plot.scatter(x='sqft_garage', y='price', ax=ax2)"
   ]
  },
  {
   "cell_type": "code",
   "execution_count": 376,
   "metadata": {},
   "outputs": [
    {
     "data": {
      "text/plain": [
       "<AxesSubplot:xlabel='sqft_garage', ylabel='Density'>"
      ]
     },
     "execution_count": 376,
     "metadata": {},
     "output_type": "execute_result"
    },
    {
     "data": {
      "image/png": "[encoded data removed]",
      "text/plain": [
       "<Figure size 1152x360 with 2 Axes>"
      ]
     },
     "metadata": {
      "needs_background": "light"
     },
     "output_type": "display_data"
    }
   ],
   "source": [
    "plt.figure(figsize=(16,5))\n",
    "plt.subplot(1,2,1)\n",
    "sns.distplot(df['sqft_above'])\n",
    "plt.subplot(1,2,2)\n",
    "sns.distplot(df['sqft_garage'])"
   ]
  },
  {
   "cell_type": "code",
   "execution_count": 377,
   "metadata": {},
   "outputs": [
    {
     "data": {
      "text/plain": [
       "<AxesSubplot:xlabel='yr_renovated', ylabel='price'>"
      ]
     },
     "execution_count": 377,
     "metadata": {},
     "output_type": "execute_result"
    },
    {
     "data": {
      "image/png": "[encoded data removed]",
      "text/plain": [
       "<Figure size 864x360 with 2 Axes>"
      ]
     },
     "metadata": {
      "needs_background": "light"
     },
     "output_type": "display_data"
    }
   ],
   "source": [
    "fig, (ax1, ax2) = plt.subplots (ncols=2, figsize = (12, 5))\n",
    "df.plot.scatter(x='yr_built', y='price', ax=ax1)\n",
    "df.plot.scatter(x='yr_renovated', y='price', ax=ax2)"
   ]
  },
  {
   "cell_type": "code",
   "execution_count": 378,
   "metadata": {},
   "outputs": [
    {
     "data": {
      "text/plain": [
       "<AxesSubplot:xlabel='yr_renovated', ylabel='Density'>"
      ]
     },
     "execution_count": 378,
     "metadata": {},
     "output_type": "execute_result"
    },
    {
     "data": {
      "image/png": "[encoded data removed]",
      "text/plain": [
       "<Figure size 1152x360 with 2 Axes>"
      ]
     },
     "metadata": {
      "needs_background": "light"
     },
     "output_type": "display_data"
    }
   ],
   "source": [
    "plt.figure(figsize=(16,5))\n",
    "plt.subplot(1,2,1)\n",
    "sns.distplot(df['yr_built'])\n",
    "plt.subplot(1,2,2)\n",
    "sns.distplot(df['yr_renovated'])"
   ]
  },
  {
   "cell_type": "code",
   "execution_count": 379,
   "metadata": {},
   "outputs": [
    {
     "data": {
      "text/plain": [
       "<AxesSubplot:xlabel='sqft_patio', ylabel='price'>"
      ]
     },
     "execution_count": 379,
     "metadata": {},
     "output_type": "execute_result"
    },
    {
     "data": {
      "image/png": "[encoded data removed]",
      "text/plain": [
       "<Figure size 864x360 with 2 Axes>"
      ]
     },
     "metadata": {
      "needs_background": "light"
     },
     "output_type": "display_data"
    }
   ],
   "source": [
    "fig, (ax1, ax2) = plt.subplots (ncols=2, figsize = (12, 5))\n",
    "df.plot.scatter(x='sqft_basement', y='price', ax=ax1)\n",
    "df.plot.scatter(x='sqft_patio', y='price', ax=ax2)"
   ]
  },
  {
   "cell_type": "code",
   "execution_count": 380,
   "metadata": {},
   "outputs": [
    {
     "data": {
      "text/plain": [
       "<AxesSubplot:xlabel='sqft_basement', ylabel='Density'>"
      ]
     },
     "execution_count": 380,
     "metadata": {},
     "output_type": "execute_result"
    },
    {
     "data": {
      "image/png": "[encoded data removed]",
      "text/plain": [
       "<Figure size 1152x360 with 2 Axes>"
      ]
     },
     "metadata": {
      "needs_background": "light"
     },
     "output_type": "display_data"
    }
   ],
   "source": [
    "plt.figure(figsize=(16,5))\n",
    "plt.subplot(1,2,1)\n",
    "sns.distplot(df['sqft_patio'])\n",
    "plt.subplot(1,2,2)\n",
    "sns.distplot(df['sqft_basement'])"
   ]
  },
  {
   "cell_type": "markdown",
   "metadata": {},
   "source": [
    "## Log "
   ]
  },
  {
   "cell_type": "code",
   "execution_count": 483,
   "metadata": {},
   "outputs": [
    {
     "ename": "SyntaxError",
     "evalue": "invalid syntax (4153997241.py, line 6)",
     "output_type": "error",
     "traceback": [
      "\u001b[0;36m  Input \u001b[0;32mIn [483]\u001b[0;36m\u001b[0m\n\u001b[0;31m    left_ax.scatter(, y, alpha=0.5)\u001b[0m\n\u001b[0m                    ^\u001b[0m\n\u001b[0;31mSyntaxError\u001b[0m\u001b[0;31m:\u001b[0m invalid syntax\n"
     ]
    }
   ],
   "source": [
    "# X_log = df['sqft_lot']\n",
    "\n",
    "# fig, ax = plt.subplots(ncols=2, figsize=(8,10))\n",
    "\n",
    "# ax = ax\n",
    "# left_ax.scatter(, y, alpha=0.5)\n",
    "# left_ax.set_xlabel(\"sqft_lot\")\n",
    "# left_ax.set_ylabel(\"price\")\n",
    "    \n",
    "# # Plot log transformed version\n",
    "# right_ax = ax\n",
    "# right_ax.scatter(np.log(X_log), np.log(y), alpha=0.5)\n",
    "# right_ax.set_xlabel(\"log sqft_lot\")\n",
    "# right_ax.set_ylabel(\"log price\")\n",
    "    \n",
    "# fig.suptitle(\"Raw vs. Log Transformed\")\n",
    "\n",
    "# fig.tight_layout()"
   ]
  },
  {
   "cell_type": "code",
   "execution_count": null,
   "metadata": {},
   "outputs": [],
   "source": [
    "X_log = X[candidates].copy()\n",
    "\n",
    "X_log.describe()"
   ]
  },
  {
   "cell_type": "code",
   "execution_count": null,
   "metadata": {},
   "outputs": [],
   "source": [
    "for column in X_log.columns:\n",
    "    X_log[f\"log_{column}\"] = np.log(X_log[column])\n",
    "    X_log.drop(column, axis=1, inplace=True)\n",
    "    \n",
    "X_log"
   ]
  },
  {
   "cell_type": "code",
   "execution_count": 383,
   "metadata": {},
   "outputs": [
    {
     "data": {
      "text/plain": [
       "<AxesSubplot:xlabel='log_SalePrice', ylabel='Density'>"
      ]
     },
     "execution_count": 383,
     "metadata": {},
     "output_type": "execute_result"
    },
    {
     "data": {
      "image/png": "[encoded data removed]",
      "text/plain": [
       "<Figure size 1152x360 with 1 Axes>"
      ]
     },
     "metadata": {
      "needs_background": "light"
     },
     "output_type": "display_data"
    }
   ],
   "source": [
    "y_log = np.log(y)\n",
    "y_log.name = \"log_SalePrice\"\n",
    "y_log\n",
    "\n",
    "plt.figure(figsize=(16,5))\n",
    "plt.subplot(1,2,1)\n",
    "sns.distplot(y_log)"
   ]
  },
  {
   "cell_type": "code",
   "execution_count": null,
   "metadata": {},
   "outputs": [],
   "source": [
    "model_1 = sm.OLS(y_log, sm.add_constant(X_log))\n",
    "results2 = model_1.fit()\n",
    "results2.summary()"
   ]
  },
  {
   "cell_type": "code",
   "execution_count": null,
   "metadata": {
    "scrolled": false
   },
   "outputs": [],
   "source": [
    "cats2 = ['waterfront', 'view', 'grade', 'condition']\n",
    "fig, axes = plt.subplots(ncols=len(cats2), figsize=(12,5))\n",
    "for index, feature in enumerate(cats2):\n",
    "    df.groupby(feature).mean().sort_values(by='price', ascending=False).plot.bar(\n",
    "        y='price', ax=axes[index])\n"
   ]
  },
  {
   "cell_type": "code",
   "execution_count": null,
   "metadata": {},
   "outputs": [],
   "source": []
  },
  {
   "cell_type": "markdown",
   "metadata": {},
   "source": [
    "There is some real symetry in the grade category.  As the grade increases, it appears that the average price of homes increases as well.  Good views and waterfront properties also seem correlated positively with price, which is understandable.  "
   ]
  },
  {
   "cell_type": "code",
   "execution_count": null,
   "metadata": {},
   "outputs": [],
   "source": [
    "# cats3 = ['nuisance', 'sewer_system', 'greenbelt']\n",
    "# fig, axes = plt.subplots(ncols=len(cats3), figsize=(12,5))\n",
    "# for index, feature in enumerate(cats3):\n",
    "#     df1.groupby(feature).mean().sort_values(by='price', ascending=False).plot.bar(\n",
    "#         y='price', ax=axes[index])"
   ]
  },
  {
   "cell_type": "markdown",
   "metadata": {},
   "source": [
    "Not much can be gleaned from these bar charts.  "
   ]
  },
  {
   "cell_type": "code",
   "execution_count": null,
   "metadata": {},
   "outputs": [],
   "source": [
    "# plt.scatter(df1.sewer_system, df1.price)"
   ]
  },
  {
   "cell_type": "code",
   "execution_count": null,
   "metadata": {},
   "outputs": [],
   "source": [
    "# plt.scatter(df1.greenbelt, df1.price)"
   ]
  },
  {
   "cell_type": "code",
   "execution_count": null,
   "metadata": {},
   "outputs": [],
   "source": [
    "# fig, (ax1, ax2) = plt.subplots (ncols=2, figsize = (12, 5))\n",
    "# df1.sort_values(by='price', ascending=False).plot.scatter(x='condition', y='price', ax=ax1)\n",
    "# df1.sort_values(by='price', ascending=False).plot.scatter(x='view', y='price', ax=ax2)"
   ]
  },
  {
   "cell_type": "code",
   "execution_count": null,
   "metadata": {},
   "outputs": [],
   "source": [
    "# fig, (ax) = plt.subplots (ncols=1, figsize = (15, 10))\n",
    "# df1.sort_values(by='price', ascending=False).plot.scatter(x='grade', y='price', ax=ax)"
   ]
  },
  {
   "cell_type": "markdown",
   "metadata": {},
   "source": [
    "## Attempts at some partial models.  "
   ]
  },
  {
   "cell_type": "code",
   "execution_count": null,
   "metadata": {},
   "outputs": [],
   "source": [
    "# y = df1.price\n",
    "# X_iter = df1[['sqft_living', 'waterfront', 'grade']]"
   ]
  },
  {
   "cell_type": "code",
   "execution_count": null,
   "metadata": {},
   "outputs": [],
   "source": [
    "# X_iter = pd.get_dummies(X_iter, columns=['grade', 'waterfront'], drop_first=True)"
   ]
  },
  {
   "cell_type": "code",
   "execution_count": null,
   "metadata": {},
   "outputs": [],
   "source": [
    "# model = sm.OLS(y, sm.add_constant(X_iter))\n",
    "# results = model.fit()\n",
    "# print(results.summary())"
   ]
  },
  {
   "cell_type": "code",
   "execution_count": null,
   "metadata": {},
   "outputs": [],
   "source": [
    "# mae = mean_absolute_error(y, results.predict(sm.add_constant(X_iter)))\n",
    "# mae"
   ]
  },
  {
   "cell_type": "markdown",
   "metadata": {},
   "source": [
    "The explained variance is higher, but the MAE is worse than our baseline model.  This model is now off by about $359,121.21 for any given prediction.  We will need to adjust the model.  We will attempt some partial regressions below to see what stands out.   "
   ]
  },
  {
   "cell_type": "markdown",
   "metadata": {},
   "source": [
    "## Partial regression of Grade, sqft_living, and waterfront"
   ]
  },
  {
   "cell_type": "code",
   "execution_count": null,
   "metadata": {},
   "outputs": [],
   "source": []
  },
  {
   "cell_type": "code",
   "execution_count": null,
   "metadata": {},
   "outputs": [],
   "source": [
    "# fig = plt.figure(figsize=(15,8))\n",
    "# sm.graphics.plot_partregress_grid(\n",
    "#     results, \n",
    "#     exog_idx=list(X_iter.columns),\n",
    "#     grid=(2,7),\n",
    "#     fig=fig)\n",
    "# plt.tight_layout()\n",
    "# plt.show()"
   ]
  },
  {
   "cell_type": "markdown",
   "metadata": {},
   "source": [
    "## Model and partial of Sqft Living, Waterfront, and View"
   ]
  },
  {
   "cell_type": "code",
   "execution_count": null,
   "metadata": {},
   "outputs": [],
   "source": [
    "# y = df1.price\n",
    "# X_iter2 = df1[['sqft_living', 'waterfront', 'view']]"
   ]
  },
  {
   "cell_type": "code",
   "execution_count": null,
   "metadata": {},
   "outputs": [],
   "source": [
    "# X_iter2 = pd.get_dummies(X_iter2, columns=['view', 'waterfront'], drop_first=True)"
   ]
  },
  {
   "cell_type": "code",
   "execution_count": null,
   "metadata": {},
   "outputs": [],
   "source": [
    "# model = sm.OLS(y, sm.add_constant(X_iter2))\n",
    "# results = model.fit()\n",
    "# print(results.summary())"
   ]
  },
  {
   "cell_type": "code",
   "execution_count": null,
   "metadata": {},
   "outputs": [],
   "source": [
    "# mae = mean_absolute_error(y, results.predict(sm.add_constant(X_iter2)))\n",
    "# mae"
   ]
  },
  {
   "cell_type": "code",
   "execution_count": null,
   "metadata": {},
   "outputs": [],
   "source": [
    "# fig = plt.figure(figsize=(15,8))\n",
    "# sm.graphics.plot_partregress_grid(\n",
    "#     results, \n",
    "#     exog_idx=list(X_iter2.columns),\n",
    "#     grid=(2,7),\n",
    "#     fig=fig)\n",
    "# plt.tight_layout()\n",
    "# plt.show()"
   ]
  },
  {
   "cell_type": "markdown",
   "metadata": {},
   "source": [
    "While I feel strongly about sqft living, I am beginning to think view does not have much impact on price as we predicted.  Perhaps the relationship can be better explained by a term or some transformation.  "
   ]
  },
  {
   "cell_type": "markdown",
   "metadata": {},
   "source": [
    "# Neighborhood"
   ]
  },
  {
   "cell_type": "code",
   "execution_count": null,
   "metadata": {
    "scrolled": true
   },
   "outputs": [],
   "source": [
    "# Neigh = ['Neighborhood']\n",
    "# fig, ax = plt.subplots(ncols=len(Neigh), figsize=(12,5))\n",
    "# for index, feature in enumerate(Neigh):\n",
    "#     df1.groupby(feature).mean().sort_values(by='price', ascending=False).plot.bar(\n",
    "#         y='price', ax=ax)\n"
   ]
  },
  {
   "cell_type": "code",
   "execution_count": null,
   "metadata": {},
   "outputs": [],
   "source": [
    "# y = df1.price\n",
    "# X_iter_Neigh = df1[['Neighborhood', 'sqft_living', 'waterfront']]\n",
    "# X_iter_Neigh = pd.get_dummies(X_iter_Neigh, columns=['Neighborhood', 'waterfront'], drop_first=True)"
   ]
  },
  {
   "cell_type": "code",
   "execution_count": null,
   "metadata": {},
   "outputs": [],
   "source": [
    "# model = sm.OLS(y, sm.add_constant(X_iter_Neigh))\n",
    "# results = model.fit()\n",
    "# print(results.summary())"
   ]
  },
  {
   "cell_type": "code",
   "execution_count": null,
   "metadata": {},
   "outputs": [],
   "source": [
    "# mae = mean_absolute_error(y, results.predict(sm.add_constant(X_iter_Neigh)))\n",
    "# mae"
   ]
  },
  {
   "cell_type": "markdown",
   "metadata": {},
   "source": [
    "Neighborhood really seems to explain a great deal about the variance in price, and it reduced our MAE down from our baseline.  Our predictions are now around $313,516.77 off by any given predictor.    "
   ]
  },
  {
   "cell_type": "code",
   "execution_count": null,
   "metadata": {},
   "outputs": [],
   "source": [
    "# X_iter_Neigh"
   ]
  },
  {
   "cell_type": "code",
   "execution_count": null,
   "metadata": {},
   "outputs": [],
   "source": [
    "# fig = plt.figure(figsize=(275,475))\n",
    "# sm.graphics.plot_partregress_grid(\n",
    "#     results, \n",
    "#     exog_idx=list(X_iter_Neigh.columns),\n",
    "#     grid=(16,16),\n",
    "#     fig=fig)\n",
    "# plt.tight_layout()\n",
    "# plt.show()"
   ]
  },
  {
   "cell_type": "code",
   "execution_count": null,
   "metadata": {},
   "outputs": [],
   "source": []
  },
  {
   "cell_type": "code",
   "execution_count": null,
   "metadata": {},
   "outputs": [],
   "source": [
    "# # running our model with dummified predictors\n",
    "# X1=dum_df1.drop(labels=['selldate', 'price', 'Zipcode', 'address', 'lat', 'long', \n",
    "#                        'sewer_system_PUBLIC RESTRICTED', 'yr_built', 'sqft_above', 'bathrooms',\n",
    "#                       'heat_source_Oil', 'heat_source_Oil/Solar', 'heat_source_Other',\n",
    "#                       'floors', 'Neighborhood_Skykomish', 'Neighborhood_Black Diamond',\n",
    "#                       'Neighborhood_Baring' ], axis=1)\n",
    "# y=dum_df1.price\n",
    "\n",
    "# model_1 = sm.OLS(y, sm.add_constant(X1))\n",
    "# results1 = model_1.fit()\n",
    "# results1.summary()"
   ]
  },
  {
   "cell_type": "code",
   "execution_count": null,
   "metadata": {},
   "outputs": [],
   "source": [
    "# baseline_mae = mean_absolute_error(y, results1.predict(sm.add_constant(X1)))\n",
    "# # baseline_mae"
   ]
  },
  {
   "cell_type": "code",
   "execution_count": null,
   "metadata": {},
   "outputs": [],
   "source": [
    "# dum_df1 = pd.get_dummies(data=df1, columns=cat_cols, drop_first=True)"
   ]
  },
  {
   "cell_type": "code",
   "execution_count": null,
   "metadata": {
    "scrolled": true
   },
   "outputs": [],
   "source": [
    "# dum_df1.columns"
   ]
  },
  {
   "cell_type": "markdown",
   "metadata": {},
   "source": [
    "Drop columns not correlated.  per gp 9-19.  "
   ]
  },
  {
   "cell_type": "code",
   "execution_count": null,
   "metadata": {},
   "outputs": [],
   "source": [
    "# plt.hist(df1.price)"
   ]
  },
  {
   "cell_type": "code",
   "execution_count": null,
   "metadata": {},
   "outputs": [],
   "source": [
    "# sns.distplot(df1.price, bins=30, kde=True)"
   ]
  },
  {
   "cell_type": "markdown",
   "metadata": {},
   "source": [
    "## Cleaning data"
   ]
  },
  {
   "cell_type": "markdown",
   "metadata": {},
   "source": [
    "applying a function to remove outliers outside 3 standard deviations"
   ]
  },
  {
   "cell_type": "code",
   "execution_count": null,
   "metadata": {},
   "outputs": [],
   "source": [
    "  "
   ]
  },
  {
   "cell_type": "markdown",
   "metadata": {},
   "source": [
    "## Bedrooms"
   ]
  },
  {
   "cell_type": "code",
   "execution_count": null,
   "metadata": {},
   "outputs": [],
   "source": [
    "# here we remove outliers by adding them to the highest, most relevant category, thus preserving data.  \n",
    "df1.bathrooms.value_counts()"
   ]
  },
  {
   "cell_type": "code",
   "execution_count": null,
   "metadata": {},
   "outputs": [],
   "source": []
  },
  {
   "cell_type": "code",
   "execution_count": null,
   "metadata": {
    "scrolled": true
   },
   "outputs": [],
   "source": [
    "df1.describe()"
   ]
  },
  {
   "cell_type": "code",
   "execution_count": null,
   "metadata": {},
   "outputs": [],
   "source": [
    "# df1.loc[(df1['bedrooms'] > 6) & (df1['bathrooms'] > 6)]"
   ]
  },
  {
   "cell_type": "code",
   "execution_count": null,
   "metadata": {},
   "outputs": [],
   "source": [
    "df1.bathrooms.value_counts()"
   ]
  },
  {
   "cell_type": "markdown",
   "metadata": {},
   "source": [
    "Anything with zero bathrooms is suspect. "
   ]
  },
  {
   "cell_type": "code",
   "execution_count": null,
   "metadata": {},
   "outputs": [],
   "source": [
    "# df1.loc[df1['bathrooms'] < 1] = 1\n",
    "# df1.loc[df1['bathrooms'] > 6] = 6"
   ]
  },
  {
   "cell_type": "code",
   "execution_count": null,
   "metadata": {},
   "outputs": [],
   "source": [
    "# def change_value(condition): \n",
    "#     new_living = df1.sqft_living = np.sum(df1.sqft_living, (df1.sqft_garage*.75))\n",
    "#     new_garage = df1.sqft_garage = np.subtract(df1.sqft_garage, (df1.sqft_garage*.75))\n",
    "#     if condition == df1.loc[df1['sqft_garage'] > ['sqft_living']]:\n",
    "#         return new_living, new_garage"
   ]
  },
  {
   "cell_type": "code",
   "execution_count": null,
   "metadata": {},
   "outputs": [],
   "source": [
    "# df1.sqft_garage.apply(change_value)"
   ]
  },
  {
   "cell_type": "code",
   "execution_count": null,
   "metadata": {},
   "outputs": [],
   "source": []
  },
  {
   "cell_type": "code",
   "execution_count": null,
   "metadata": {},
   "outputs": [],
   "source": [
    "# X_iter"
   ]
  },
  {
   "cell_type": "code",
   "execution_count": null,
   "metadata": {},
   "outputs": [],
   "source": [
    "# iter_model = sm.OLS(y, sm.add_constant(X_iter))\n",
    "# iter_results = iter_model.fit()\n",
    "# print(iter_results.summary())"
   ]
  },
  {
   "cell_type": "code",
   "execution_count": null,
   "metadata": {},
   "outputs": [],
   "source": [
    "# iter_mae = mean_absolute_error(y, iter_results.predict(sm.add_constant(X_iter)))\n",
    "# iter_mae"
   ]
  },
  {
   "cell_type": "markdown",
   "metadata": {},
   "source": [
    "Our iterated model explains about 53 percent of the variance in `price` using `sqft_living` and `Neighborhood`. There  Overall this model is statistically significant, explaining about 38 percent of the variance in price."
   ]
  },
  {
   "cell_type": "code",
   "execution_count": null,
   "metadata": {},
   "outputs": [],
   "source": [
    "# fig = plt.figure(figsize=(30,220))\n",
    "# sm.graphics.plot_partregress_grid(\n",
    "#     iter_results, \n",
    "#     exog_idx=list(X_iter.columns),\n",
    "#     grid=(14,15),\n",
    "#     fig=fig)\n",
    "# plt.tight_layout()\n",
    "# plt.show()"
   ]
  },
  {
   "cell_type": "code",
   "execution_count": null,
   "metadata": {
    "scrolled": false
   },
   "outputs": [],
   "source": [
    "sns.heatmap(X.corr())"
   ]
  },
  {
   "cell_type": "markdown",
   "metadata": {},
   "source": [
    "ccpr function partial "
   ]
  },
  {
   "cell_type": "code",
   "execution_count": null,
   "metadata": {},
   "outputs": [],
   "source": [
    "# df1['Neighborhood'].value_counts()"
   ]
  },
  {
   "cell_type": "code",
   "execution_count": null,
   "metadata": {},
   "outputs": [],
   "source": [
    "# sns.heatmap(X.corr())"
   ]
  },
  {
   "cell_type": "code",
   "execution_count": null,
   "metadata": {},
   "outputs": [],
   "source": [
    "# df1.heat_source"
   ]
  },
  {
   "cell_type": "code",
   "execution_count": null,
   "metadata": {},
   "outputs": [],
   "source": []
  },
  {
   "cell_type": "code",
   "execution_count": null,
   "metadata": {},
   "outputs": [],
   "source": [
    "# # reading in the King County dataset to Pandas\n",
    "# df_income = pd.read_csv('data/income.csv', index_col=1, skiprows=2)\n",
    "# # df_income = df_income.drop(columns=['04000US53'], axis=1)"
   ]
  },
  {
   "cell_type": "code",
   "execution_count": null,
   "metadata": {},
   "outputs": [],
   "source": [
    "# df_income"
   ]
  },
  {
   "cell_type": "code",
   "execution_count": null,
   "metadata": {},
   "outputs": [],
   "source": [
    "# inc = {}"
   ]
  },
  {
   "cell_type": "code",
   "execution_count": null,
   "metadata": {},
   "outputs": [],
   "source": [
    "# inc = df_income.T\n",
    "# inc"
   ]
  },
  {
   "cell_type": "code",
   "execution_count": null,
   "metadata": {},
   "outputs": [],
   "source": [
    "# df"
   ]
  },
  {
   "cell_type": "code",
   "execution_count": null,
   "metadata": {},
   "outputs": [],
   "source": [
    "# Out = df.[[x for x in df.columns if x not in included]]\n",
    "# cats = df[['waterfront','greenbelt', 'nuisance', 'view', 'condition', 'heat_source', 'sewer_system', 'city', 'grade']]\n",
    "# cats1 = df[['selldate','price','waterfront','greenbelt', 'nuisance', 'view', 'condition', 'heat_source', 'sewer_system', 'address', 'Zipcode', 'city', 'grade']]"
   ]
  },
  {
   "cell_type": "code",
   "execution_count": null,
   "metadata": {},
   "outputs": [],
   "source": [
    "# Out = [city_Kirkland,\n",
    "# yr_old\n",
    "# city_Lakeland North\n",
    "# city_Cottage Lake\n",
    "# city_Ames Lake\n",
    "# city_Fairwood\n",
    "# city_Issaquah\n",
    "# city_North Bend\n",
    "# city_Puyallup\n",
    "# city_Preston\n",
    "# city_Spanaway\n",
    "# city_Hobart\n",
    "# city_Sammamish\n",
    "# condition_Poor\n",
    "# city_Union Hill-Novelty Hill\n",
    "# city_White Center\n",
    "# city_Eatonville\n",
    "# city_Baring\n",
    "# city_Snoqualmie Pass\n",
    "# city_35th Ave SW & SW Holden\n",
    "# city_Snohomish\n",
    "# city_Marysville\n",
    "# city_Arlington\n",
    "# city_Snoqualmie\n",
    "# city_Redmond"
   ]
  },
  {
   "cell_type": "code",
   "execution_count": null,
   "metadata": {},
   "outputs": [],
   "source": [
    "# X1=dum_df.drop(labels=Out, axis=1)\n",
    "# # y=dum_df.price\n",
    "\n",
    "# model_1 = sm.OLS(y, sm.add_constant(X1))\n",
    "# results1 = model_1.fit()\n",
    "# results1.summary()"
   ]
  },
  {
   "cell_type": "code",
   "execution_count": null,
   "metadata": {},
   "outputs": [],
   "source": [
    "mae = mean_absolute_error(y, results1.predict(sm.add_constant(X1)))\n",
    "mae"
   ]
  },
  {
   "cell_type": "code",
   "execution_count": null,
   "metadata": {},
   "outputs": [],
   "source": [
    "# X1 = X1.isin(included)"
   ]
  },
  {
   "cell_type": "markdown",
   "metadata": {},
   "source": [
    "Took the above code from https://www.datasklr.com/ols-least-squares-regression/variable-selection. "
   ]
  },
  {
   "cell_type": "markdown",
   "metadata": {},
   "source": [
    "MAE dropped significantly.  "
   ]
  },
  {
   "cell_type": "markdown",
   "metadata": {},
   "source": [
    "## TEST without cleaning after baseline"
   ]
  },
  {
   "cell_type": "markdown",
   "metadata": {},
   "source": [
    "There are three sets of variables that are highly correlated: yr_old and yr_built, sqft_above\n",
    "and sqft_living, and bathrooms with sqft_living"
   ]
  },
  {
   "cell_type": "markdown",
   "metadata": {},
   "source": [
    "### Final Model"
   ]
  },
  {
   "cell_type": "markdown",
   "metadata": {},
   "source": [
    "# section_3"
   ]
  },
  {
   "cell_type": "code",
   "execution_count": null,
   "metadata": {},
   "outputs": [],
   "source": [
    "X1=dum_df1.drop(labels=['selldate', 'price', 'Zipcode', 'address', 'lat', 'long', \n",
    "                       'sewer_system_PUBLIC RESTRICTED',\n",
    "                      'heat_source_Oil', 'heat_source_Oil/Solar', 'heat_source_Other',\n",
    "                      'floors', 'Neighborhood_Skykomish', 'Neighborhood_Black Diamond',\n",
    "                      'Neighborhood_Baring', 'grade_2 Substandard', 'Neighborhood_Enumclaw', 'heat_source_Electricity/Solar'], axis=1)\n",
    "y=dum_df1.price\n",
    "\n",
    "model_1 = sm.OLS(y, sm.add_constant(X1))\n",
    "results1 = model_1.fit()\n",
    "results1.summary()"
   ]
  },
  {
   "cell_type": "code",
   "execution_count": null,
   "metadata": {},
   "outputs": [],
   "source": [
    "mae = mean_absolute_error(y, results1.predict(sm.add_constant(X1)))\n",
    "mae"
   ]
  },
  {
   "cell_type": "markdown",
   "metadata": {},
   "source": [
    " [section_1](#section_1)\n"
   ]
  },
  {
   "cell_type": "markdown",
   "metadata": {},
   "source": [
    "[section_2](#section_2)"
   ]
  },
  {
   "cell_type": "markdown",
   "metadata": {
    "index": 67
   },
   "source": [
    "## Regression Results"
   ]
  },
  {
   "cell_type": "markdown",
   "metadata": {
    "index": 85
   },
   "source": [
    "## Level Up: Project Enhancements\n",
    "\n",
    "After completing the minimum project requirements, you could consider the following enhancements if you have time:\n",
    "\n",
    "* Consider applying a linear or non-linear transformation to your features and/or target\n",
    "* Investigate the linear regression assumptions for your final model\n",
    "* Identify and remove outliers, then redo the analysis\n",
    "* Compile the data cleaning code into a function"
   ]
  },
  {
   "cell_type": "code",
   "execution_count": 444,
   "metadata": {},
   "outputs": [
    {
     "name": "stdout",
     "output_type": "stream",
     "text": [
      "<class 'pandas.core.frame.DataFrame'>\n",
      "Int64Index: 29200 entries, 0 to 30154\n",
      "Data columns (total 27 columns):\n",
      " #   Column         Non-Null Count  Dtype         \n",
      "---  ------         --------------  -----         \n",
      " 0   selldate       29200 non-null  datetime64[ns]\n",
      " 1   price          29200 non-null  float64       \n",
      " 2   bedrooms       29200 non-null  float64       \n",
      " 3   bathrooms      29200 non-null  float64       \n",
      " 4   sqft_living    29200 non-null  int64         \n",
      " 5   sqft_lot       29200 non-null  float64       \n",
      " 6   floors         29200 non-null  float64       \n",
      " 7   waterfront     29200 non-null  object        \n",
      " 8   greenbelt      29200 non-null  object        \n",
      " 9   nuisance       29200 non-null  object        \n",
      " 10  view           29200 non-null  object        \n",
      " 11  condition      29200 non-null  object        \n",
      " 12  grade          29200 non-null  object        \n",
      " 13  heat_source    29200 non-null  object        \n",
      " 14  sewer_system   29200 non-null  object        \n",
      " 15  sqft_above     29200 non-null  float64       \n",
      " 16  sqft_basement  29200 non-null  float64       \n",
      " 17  sqft_garage    29200 non-null  float64       \n",
      " 18  sqft_patio     29200 non-null  float64       \n",
      " 19  yr_built       29200 non-null  int64         \n",
      " 20  yr_renovated   29200 non-null  int64         \n",
      " 21  address        29200 non-null  object        \n",
      " 22  lat            29200 non-null  float64       \n",
      " 23  long           29200 non-null  float64       \n",
      " 24  Zipcode        29200 non-null  int64         \n",
      " 25  yr_old         29200 non-null  float64       \n",
      " 26  city           29200 non-null  object        \n",
      "dtypes: datetime64[ns](1), float64(12), int64(4), object(10)\n",
      "memory usage: 6.2+ MB\n"
     ]
    }
   ],
   "source": [
    "df.info()"
   ]
  },
  {
   "cell_type": "code",
   "execution_count": null,
   "metadata": {},
   "outputs": [],
   "source": []
  },
  {
   "cell_type": "code",
   "execution_count": null,
   "metadata": {},
   "outputs": [],
   "source": []
  },
  {
   "cell_type": "code",
   "execution_count": null,
   "metadata": {},
   "outputs": [],
   "source": [
    "# import geopandas\n",
    "# import folium\n",
    "# from shapely.geometry import Point, LineString, Polygon\n",
    "# df_dem = geopandas.read_file('data/Points_of_Interest.csv')\n",
    "# df_dem.head()\n",
    "# # df_dem.head(20)"
   ]
  },
  {
   "cell_type": "code",
   "execution_count": 586,
   "metadata": {},
   "outputs": [],
   "source": [
    "# grid_polygon = df_dem\n",
    "\n",
    "# gdf = geopandas.GeoDataFrame(\n",
    "#     df_dem, geometry=geopandas.points_from_xy(df_dem.X, df_dem.Y))\n",
    "\n",
    "# geo_df_filtered = gdf.loc[gdf.within(grid_polygon)]"
   ]
  },
  {
   "cell_type": "code",
   "execution_count": null,
   "metadata": {},
   "outputs": [],
   "source": []
  },
  {
   "cell_type": "code",
   "execution_count": 482,
   "metadata": {},
   "outputs": [],
   "source": [
    "# = df_dem[df_dem['CODE'] == 330 & ]\n",
    "# df_dem = df_dem[df_dem['geometry'].apply(lambda x : x.type!='Point')]"
   ]
  },
  {
   "cell_type": "code",
   "execution_count": 484,
   "metadata": {},
   "outputs": [],
   "source": [
    "# conda install geopy"
   ]
  },
  {
   "cell_type": "code",
   "execution_count": 492,
   "metadata": {},
   "outputs": [],
   "source": [
    "# df_dem.loc[df_dem['serv_coord']] = np.array(dict(zip(df_dem.long, df_dem.lat)))"
   ]
  },
  {
   "cell_type": "code",
   "execution_count": 324,
   "metadata": {},
   "outputs": [],
   "source": [
    "# df = df.merge(df_dem, how='outer', left_on=['Zipcode', 'lat', 'long'], right_on=['Zipcode', 'lat', 'long'])"
   ]
  },
  {
   "cell_type": "code",
   "execution_count": 500,
   "metadata": {},
   "outputs": [],
   "source": [
    "# hosp_loc"
   ]
  },
  {
   "cell_type": "code",
   "execution_count": 501,
   "metadata": {},
   "outputs": [],
   "source": [
    "# hosp_name = np.array(dict(zip(df_hosp.NAME, hosp_loc))"
   ]
  },
  {
   "cell_type": "code",
   "execution_count": 502,
   "metadata": {},
   "outputs": [],
   "source": [
    "# df_loc = np.array(dict(zip(df.long, df.lat)))\n",
    "# df_hosp"
   ]
  },
  {
   "cell_type": "code",
   "execution_count": null,
   "metadata": {},
   "outputs": [],
   "source": []
  },
  {
   "cell_type": "code",
   "execution_count": 328,
   "metadata": {},
   "outputs": [],
   "source": [
    "# df.dropna(subset=['house_coord'], axis=0, inplace=True)"
   ]
  },
  {
   "cell_type": "code",
   "execution_count": 329,
   "metadata": {},
   "outputs": [],
   "source": [
    "# df.loc[df['CODE'] == 330].fillna()"
   ]
  },
  {
   "cell_type": "code",
   "execution_count": null,
   "metadata": {},
   "outputs": [],
   "source": []
  },
  {
   "cell_type": "code",
   "execution_count": 371,
   "metadata": {},
   "outputs": [],
   "source": [
    "# pd.Series(df_hosp.serve_coord.values,index=df_hosp.NAME).to_dict()\n"
   ]
  },
  {
   "cell_type": "code",
   "execution_count": null,
   "metadata": {},
   "outputs": [],
   "source": []
  },
  {
   "cell_type": "code",
   "execution_count": null,
   "metadata": {},
   "outputs": [],
   "source": []
  },
  {
   "cell_type": "code",
   "execution_count": null,
   "metadata": {},
   "outputs": [],
   "source": []
  },
  {
   "cell_type": "code",
   "execution_count": null,
   "metadata": {},
   "outputs": [],
   "source": [
    "df1.info()"
   ]
  },
  {
   "cell_type": "code",
   "execution_count": null,
   "metadata": {},
   "outputs": [],
   "source": [
    "hosp_dict = "
   ]
  },
  {
   "cell_type": "code",
   "execution_count": 1437,
   "metadata": {},
   "outputs": [
    {
     "ename": "IndexingError",
     "evalue": "Unalignable boolean Series provided as indexer (index of the boolean Series and of the indexed object do not match).",
     "output_type": "error",
     "traceback": [
      "\u001b[0;31m---------------------------------------------------------------------------\u001b[0m",
      "\u001b[0;31mIndexingError\u001b[0m                             Traceback (most recent call last)",
      "Input \u001b[0;32mIn [1437]\u001b[0m, in \u001b[0;36m<cell line: 1>\u001b[0;34m()\u001b[0m\n\u001b[0;32m----> 1\u001b[0m df\u001b[38;5;241m.\u001b[39mloc[hosp, \u001b[38;5;124m'\u001b[39m\u001b[38;5;124mnear_Hospital\u001b[39m\u001b[38;5;124m'\u001b[39m] \u001b[38;5;241m=\u001b[39m \u001b[43mdf\u001b[49m\u001b[38;5;241;43m.\u001b[39;49m\u001b[43mloc\u001b[49m\u001b[43m[\u001b[49m\u001b[43mhosp\u001b[49m\u001b[43m,\u001b[49m\u001b[43m \u001b[49m\u001b[38;5;124;43m'\u001b[39;49m\u001b[38;5;124;43mZipcode\u001b[39;49m\u001b[38;5;124;43m'\u001b[39;49m\u001b[43m]\u001b[49m\n\u001b[1;32m      2\u001b[0m df\u001b[38;5;241m.\u001b[39mloc[Nohosp, \u001b[38;5;124m'\u001b[39m\u001b[38;5;124mnear_Hospital\u001b[39m\u001b[38;5;124m'\u001b[39m] \u001b[38;5;241m=\u001b[39m df\u001b[38;5;241m.\u001b[39mloc[Nohosp, \u001b[38;5;124m'\u001b[39m\u001b[38;5;124mZipcode\u001b[39m\u001b[38;5;124m'\u001b[39m]\n",
      "File \u001b[0;32m~/opt/anaconda3/lib/python3.9/site-packages/pandas/core/indexing.py:961\u001b[0m, in \u001b[0;36m_LocationIndexer.__getitem__\u001b[0;34m(self, key)\u001b[0m\n\u001b[1;32m    959\u001b[0m     \u001b[38;5;28;01mif\u001b[39;00m \u001b[38;5;28mself\u001b[39m\u001b[38;5;241m.\u001b[39m_is_scalar_access(key):\n\u001b[1;32m    960\u001b[0m         \u001b[38;5;28;01mreturn\u001b[39;00m \u001b[38;5;28mself\u001b[39m\u001b[38;5;241m.\u001b[39mobj\u001b[38;5;241m.\u001b[39m_get_value(\u001b[38;5;241m*\u001b[39mkey, takeable\u001b[38;5;241m=\u001b[39m\u001b[38;5;28mself\u001b[39m\u001b[38;5;241m.\u001b[39m_takeable)\n\u001b[0;32m--> 961\u001b[0m     \u001b[38;5;28;01mreturn\u001b[39;00m \u001b[38;5;28;43mself\u001b[39;49m\u001b[38;5;241;43m.\u001b[39;49m\u001b[43m_getitem_tuple\u001b[49m\u001b[43m(\u001b[49m\u001b[43mkey\u001b[49m\u001b[43m)\u001b[49m\n\u001b[1;32m    962\u001b[0m \u001b[38;5;28;01melse\u001b[39;00m:\n\u001b[1;32m    963\u001b[0m     \u001b[38;5;66;03m# we by definition only have the 0th axis\u001b[39;00m\n\u001b[1;32m    964\u001b[0m     axis \u001b[38;5;241m=\u001b[39m \u001b[38;5;28mself\u001b[39m\u001b[38;5;241m.\u001b[39maxis \u001b[38;5;129;01mor\u001b[39;00m \u001b[38;5;241m0\u001b[39m\n",
      "File \u001b[0;32m~/opt/anaconda3/lib/python3.9/site-packages/pandas/core/indexing.py:1149\u001b[0m, in \u001b[0;36m_LocIndexer._getitem_tuple\u001b[0;34m(self, tup)\u001b[0m\n\u001b[1;32m   1146\u001b[0m \u001b[38;5;28;01mif\u001b[39;00m \u001b[38;5;28mself\u001b[39m\u001b[38;5;241m.\u001b[39m_multi_take_opportunity(tup):\n\u001b[1;32m   1147\u001b[0m     \u001b[38;5;28;01mreturn\u001b[39;00m \u001b[38;5;28mself\u001b[39m\u001b[38;5;241m.\u001b[39m_multi_take(tup)\n\u001b[0;32m-> 1149\u001b[0m \u001b[38;5;28;01mreturn\u001b[39;00m \u001b[38;5;28;43mself\u001b[39;49m\u001b[38;5;241;43m.\u001b[39;49m\u001b[43m_getitem_tuple_same_dim\u001b[49m\u001b[43m(\u001b[49m\u001b[43mtup\u001b[49m\u001b[43m)\u001b[49m\n",
      "File \u001b[0;32m~/opt/anaconda3/lib/python3.9/site-packages/pandas/core/indexing.py:827\u001b[0m, in \u001b[0;36m_LocationIndexer._getitem_tuple_same_dim\u001b[0;34m(self, tup)\u001b[0m\n\u001b[1;32m    824\u001b[0m \u001b[38;5;28;01mif\u001b[39;00m com\u001b[38;5;241m.\u001b[39mis_null_slice(key):\n\u001b[1;32m    825\u001b[0m     \u001b[38;5;28;01mcontinue\u001b[39;00m\n\u001b[0;32m--> 827\u001b[0m retval \u001b[38;5;241m=\u001b[39m \u001b[38;5;28;43mgetattr\u001b[39;49m\u001b[43m(\u001b[49m\u001b[43mretval\u001b[49m\u001b[43m,\u001b[49m\u001b[43m \u001b[49m\u001b[38;5;28;43mself\u001b[39;49m\u001b[38;5;241;43m.\u001b[39;49m\u001b[43mname\u001b[49m\u001b[43m)\u001b[49m\u001b[38;5;241;43m.\u001b[39;49m\u001b[43m_getitem_axis\u001b[49m\u001b[43m(\u001b[49m\u001b[43mkey\u001b[49m\u001b[43m,\u001b[49m\u001b[43m \u001b[49m\u001b[43maxis\u001b[49m\u001b[38;5;241;43m=\u001b[39;49m\u001b[43mi\u001b[49m\u001b[43m)\u001b[49m\n\u001b[1;32m    828\u001b[0m \u001b[38;5;66;03m# We should never have retval.ndim < self.ndim, as that should\u001b[39;00m\n\u001b[1;32m    829\u001b[0m \u001b[38;5;66;03m#  be handled by the _getitem_lowerdim call above.\u001b[39;00m\n\u001b[1;32m    830\u001b[0m \u001b[38;5;28;01massert\u001b[39;00m retval\u001b[38;5;241m.\u001b[39mndim \u001b[38;5;241m==\u001b[39m \u001b[38;5;28mself\u001b[39m\u001b[38;5;241m.\u001b[39mndim\n",
      "File \u001b[0;32m~/opt/anaconda3/lib/python3.9/site-packages/pandas/core/indexing.py:1182\u001b[0m, in \u001b[0;36m_LocIndexer._getitem_axis\u001b[0;34m(self, key, axis)\u001b[0m\n\u001b[1;32m   1180\u001b[0m     \u001b[38;5;28;01mreturn\u001b[39;00m \u001b[38;5;28mself\u001b[39m\u001b[38;5;241m.\u001b[39m_get_slice_axis(key, axis\u001b[38;5;241m=\u001b[39maxis)\n\u001b[1;32m   1181\u001b[0m \u001b[38;5;28;01melif\u001b[39;00m com\u001b[38;5;241m.\u001b[39mis_bool_indexer(key):\n\u001b[0;32m-> 1182\u001b[0m     \u001b[38;5;28;01mreturn\u001b[39;00m \u001b[38;5;28;43mself\u001b[39;49m\u001b[38;5;241;43m.\u001b[39;49m\u001b[43m_getbool_axis\u001b[49m\u001b[43m(\u001b[49m\u001b[43mkey\u001b[49m\u001b[43m,\u001b[49m\u001b[43m \u001b[49m\u001b[43maxis\u001b[49m\u001b[38;5;241;43m=\u001b[39;49m\u001b[43maxis\u001b[49m\u001b[43m)\u001b[49m\n\u001b[1;32m   1183\u001b[0m \u001b[38;5;28;01melif\u001b[39;00m is_list_like_indexer(key):\n\u001b[1;32m   1184\u001b[0m \n\u001b[1;32m   1185\u001b[0m     \u001b[38;5;66;03m# an iterable multi-selection\u001b[39;00m\n\u001b[1;32m   1186\u001b[0m     \u001b[38;5;28;01mif\u001b[39;00m \u001b[38;5;129;01mnot\u001b[39;00m (\u001b[38;5;28misinstance\u001b[39m(key, \u001b[38;5;28mtuple\u001b[39m) \u001b[38;5;129;01mand\u001b[39;00m \u001b[38;5;28misinstance\u001b[39m(labels, MultiIndex)):\n",
      "File \u001b[0;32m~/opt/anaconda3/lib/python3.9/site-packages/pandas/core/indexing.py:984\u001b[0m, in \u001b[0;36m_LocationIndexer._getbool_axis\u001b[0;34m(self, key, axis)\u001b[0m\n\u001b[1;32m    981\u001b[0m \u001b[38;5;28;01mdef\u001b[39;00m \u001b[38;5;21m_getbool_axis\u001b[39m(\u001b[38;5;28mself\u001b[39m, key, axis: \u001b[38;5;28mint\u001b[39m):\n\u001b[1;32m    982\u001b[0m     \u001b[38;5;66;03m# caller is responsible for ensuring non-None axis\u001b[39;00m\n\u001b[1;32m    983\u001b[0m     labels \u001b[38;5;241m=\u001b[39m \u001b[38;5;28mself\u001b[39m\u001b[38;5;241m.\u001b[39mobj\u001b[38;5;241m.\u001b[39m_get_axis(axis)\n\u001b[0;32m--> 984\u001b[0m     key \u001b[38;5;241m=\u001b[39m \u001b[43mcheck_bool_indexer\u001b[49m\u001b[43m(\u001b[49m\u001b[43mlabels\u001b[49m\u001b[43m,\u001b[49m\u001b[43m \u001b[49m\u001b[43mkey\u001b[49m\u001b[43m)\u001b[49m\n\u001b[1;32m    985\u001b[0m     inds \u001b[38;5;241m=\u001b[39m key\u001b[38;5;241m.\u001b[39mnonzero()[\u001b[38;5;241m0\u001b[39m]\n\u001b[1;32m    986\u001b[0m     \u001b[38;5;28;01mreturn\u001b[39;00m \u001b[38;5;28mself\u001b[39m\u001b[38;5;241m.\u001b[39mobj\u001b[38;5;241m.\u001b[39m_take_with_is_copy(inds, axis\u001b[38;5;241m=\u001b[39maxis)\n",
      "File \u001b[0;32m~/opt/anaconda3/lib/python3.9/site-packages/pandas/core/indexing.py:2383\u001b[0m, in \u001b[0;36mcheck_bool_indexer\u001b[0;34m(index, key)\u001b[0m\n\u001b[1;32m   2381\u001b[0m     mask \u001b[38;5;241m=\u001b[39m isna(result\u001b[38;5;241m.\u001b[39m_values)\n\u001b[1;32m   2382\u001b[0m     \u001b[38;5;28;01mif\u001b[39;00m mask\u001b[38;5;241m.\u001b[39many():\n\u001b[0;32m-> 2383\u001b[0m         \u001b[38;5;28;01mraise\u001b[39;00m IndexingError(\n\u001b[1;32m   2384\u001b[0m             \u001b[38;5;124m\"\u001b[39m\u001b[38;5;124mUnalignable boolean Series provided as \u001b[39m\u001b[38;5;124m\"\u001b[39m\n\u001b[1;32m   2385\u001b[0m             \u001b[38;5;124m\"\u001b[39m\u001b[38;5;124mindexer (index of the boolean Series and of \u001b[39m\u001b[38;5;124m\"\u001b[39m\n\u001b[1;32m   2386\u001b[0m             \u001b[38;5;124m\"\u001b[39m\u001b[38;5;124mthe indexed object do not match).\u001b[39m\u001b[38;5;124m\"\u001b[39m\n\u001b[1;32m   2387\u001b[0m         )\n\u001b[1;32m   2388\u001b[0m     \u001b[38;5;28;01mreturn\u001b[39;00m result\u001b[38;5;241m.\u001b[39mastype(\u001b[38;5;28mbool\u001b[39m)\u001b[38;5;241m.\u001b[39m_values\n\u001b[1;32m   2389\u001b[0m \u001b[38;5;28;01mif\u001b[39;00m is_object_dtype(key):\n\u001b[1;32m   2390\u001b[0m     \u001b[38;5;66;03m# key might be object-dtype bool, check_array_indexer needs bool array\u001b[39;00m\n",
      "\u001b[0;31mIndexingError\u001b[0m: Unalignable boolean Series provided as indexer (index of the boolean Series and of the indexed object do not match)."
     ]
    }
   ],
   "source": [
    "# df.loc[hosp, 'near_Hospital'] = df.loc[hosp, 'Zipcode']\n",
    "# df.loc[Nohosp, 'near_Hospital'] = df.loc[Nohosp, 'Zipcode']"
   ]
  },
  {
   "cell_type": "code",
   "execution_count": null,
   "metadata": {},
   "outputs": [],
   "source": [
    "hosp = np.where((df_dem['CODE'] == 330 & df_dem['Zipcode' == 1], 1,\n",
    "                 np.where((df_dem['CODE'] != 330) & df1['Zipcode'] == False), 0,))\n",
    "                 \n"
   ]
  },
  {
   "cell_type": "code",
   "execution_count": null,
   "metadata": {},
   "outputs": [],
   "source": [
    "# s = geopandas.GeoSeries(\n",
    "#     [\n",
    "#         Point(0, 0),\n",
    "#         LineString([(1, -1), (1, 0), (2, 0), (2, 1)]),\n",
    "#         Polygon([(3, -1), (4, 0), (3, 1)]),\n",
    "#     ]\n",
    "# )"
   ]
  },
  {
   "cell_type": "markdown",
   "metadata": {},
   "source": [
    "## terms and transformations"
   ]
  },
  {
   "cell_type": "code",
   "execution_count": null,
   "metadata": {},
   "outputs": [],
   "source": [
    "# import plotly.graph_objects as go\n",
    "\n",
    "# fig = go.Figure(go.Scattergeo())\n",
    "# fig.update_layout(height=300, margin={\"r\":0,\"t\":0,\"l\":0,\"b\":0})\n",
    "# fig.show()"
   ]
  },
  {
   "cell_type": "code",
   "execution_count": null,
   "metadata": {},
   "outputs": [],
   "source": [
    "# import plotly.graph_objects as go\n",
    "\n",
    "# fig = go.Figure(go.Scattergeo())\n",
    "# fig.update_geos(\n",
    "#     resolution=50,\n",
    "#     showcoastlines=True, coastlinecolor=\"RebeccaPurple\",\n",
    "#     showland=True, landcolor=\"LightGreen\",\n",
    "#     showocean=True, oceancolor=\"LightBlue\",\n",
    "#     showlakes=True, lakecolor=\"Blue\",\n",
    "#     showrivers=True, rivercolor=\"Blue\"\n",
    "# )\n",
    "# fig.update_layout(height=300, margin={\"r\":0,\"t\":0,\"l\":0,\"b\":0})\n",
    "# fig.show()"
   ]
  },
  {
   "cell_type": "code",
   "execution_count": null,
   "metadata": {},
   "outputs": [],
   "source": [
    "# import geopandas"
   ]
  },
  {
   "cell_type": "markdown",
   "metadata": {
    "index": 86
   },
   "source": [
    "## Conclusion"
   ]
  },
  {
   "cell_type": "code",
   "execution_count": null,
   "metadata": {},
   "outputs": [],
   "source": []
  }
 ],
 "metadata": {
  "kernelspec": {
   "display_name": "Python 3 (ipykernel)",
   "language": "python",
   "name": "python3"
  },
  "language_info": {
   "codemirror_mode": {
    "name": "ipython",
    "version": 3
   },
   "file_extension": ".py",
   "mimetype": "text/x-python",
   "name": "python",
   "nbconvert_exporter": "python",
   "pygments_lexer": "ipython3",
   "version": "3.9.12"
  }
 },
 "nbformat": 4,
 "nbformat_minor": 4
}
